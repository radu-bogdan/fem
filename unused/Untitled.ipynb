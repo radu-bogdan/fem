{
 "cells": [
  {
   "cell_type": "code",
   "execution_count": 1,
   "id": "a54ecf33",
   "metadata": {},
   "outputs": [],
   "source": [
    "import plotly as py\n",
    "import plotly.graph_objs as go\n",
    "\n",
    "import numpy as np\n",
    "import matplotlib.cm as cm\n",
    "from scipy.spatial import Delaunay\n",
    "from functools import reduce\n",
    "\n",
    "u=np.linspace(0,2*np.pi, 24)\n",
    "v=np.linspace(-1,1, 8)\n",
    "u,v=np.meshgrid(u,v)\n",
    "u=u.flatten()\n",
    "v=v.flatten()\n",
    "\n",
    "#evaluate the parameterization at the flattened u and v\n",
    "tp=1+0.5*v*np.cos(u/2.)\n",
    "x=tp*np.cos(u)\n",
    "y=tp*np.sin(u)\n",
    "z=0.5*v*np.sin(u/2.)\n",
    "\n",
    "#define 2D points, as input data for the Delaunay triangulation of U\n",
    "points2D=np.vstack([u,v]).T\n",
    "tri = Delaunay(points2D)#triangulate the rectangle U"
   ]
  },
  {
   "cell_type": "code",
   "execution_count": 2,
   "id": "fbe6e2cf",
   "metadata": {},
   "outputs": [],
   "source": [
    "def map_z2color(zval, colormap, vmin, vmax):\n",
    "    #map the normalized value zval to a corresponding color in the colormap\n",
    "\n",
    "    if vmin>vmax:\n",
    "        raise ValueError('incorrect relation between vmin and vmax')\n",
    "    t=(zval-vmin)/float((vmax-vmin))#normalize val\n",
    "    R, G, B, alpha=colormap(t)\n",
    "    return 'rgb('+'{:d}'.format(int(R*255+0.5))+','+'{:d}'.format(int(G*255+0.5))+\\\n",
    "           ','+'{:d}'.format(int(B*255+0.5))+')'"
   ]
  },
  {
   "cell_type": "code",
   "execution_count": 3,
   "id": "c7c17d4c",
   "metadata": {},
   "outputs": [],
   "source": [
    "def tri_indices(simplices):\n",
    "    #simplices is a numpy array defining the simplices of the triangularization\n",
    "    #returns the lists of indices i, j, k\n",
    "\n",
    "    return ([triplet[c] for triplet in simplices] for c in range(3))\n",
    "\n",
    "def plotly_trisurf(x, y, z, simplices, colormap=cm.RdBu, plot_edges=None):\n",
    "    #x, y, z are lists of coordinates of the triangle vertices \n",
    "    #simplices are the simplices that define the triangularization;\n",
    "    #simplices  is a numpy array of shape (no_triangles, 3)\n",
    "    #insert here the  type check for input data\n",
    "\n",
    "    points3D=np.vstack((x,y,z)).T\n",
    "    tri_vertices=map(lambda index: points3D[index], simplices)# vertices of the surface triangles     \n",
    "    zmean=[np.mean(tri[:,2]) for tri in tri_vertices ]# mean values of z-coordinates of \n",
    "                                                      #triangle vertices\n",
    "    min_zmean=np.min(zmean)\n",
    "    max_zmean=np.max(zmean)\n",
    "    facecolor=[map_z2color(zz,  colormap, min_zmean, max_zmean) for zz in zmean]\n",
    "    I,J,K=tri_indices(simplices)\n",
    "\n",
    "    triangles=go.Mesh3d(x=x,\n",
    "                     y=y,\n",
    "                     z=z,\n",
    "                     facecolor=facecolor,\n",
    "                     i=I,\n",
    "                     j=J,\n",
    "                     k=K,\n",
    "                     name=''\n",
    "                    )\n",
    "\n",
    "    if plot_edges is None:# the triangle sides are not plotted \n",
    "        return [triangles]\n",
    "    else:\n",
    "        #define the lists Xe, Ye, Ze, of x, y, resp z coordinates of edge end points for each triangle\n",
    "        #None separates data corresponding to two consecutive triangles\n",
    "        lists_coord=[[[T[k%3][c] for k in range(4)]+[ None]   for T in tri_vertices]  for c in range(3)]\n",
    "        Xe, Ye, Ze=[reduce(lambda x,y: x+y, lists_coord[k]) for k in range(3)]\n",
    "\n",
    "        #define the lines to be plotted\n",
    "        lines=go.Scatter3d(x=Xe,\n",
    "                        y=Ye,\n",
    "                        z=Ze,\n",
    "                        mode='lines',\n",
    "                        line=dict(color= 'rgb(50,50,50)', width=1.5)\n",
    "               )\n",
    "        return [triangles, lines]"
   ]
  },
  {
   "cell_type": "code",
   "execution_count": 4,
   "id": "1f4b676f",
   "metadata": {},
   "outputs": [
    {
     "ename": "TypeError",
     "evalue": "reduce() of empty iterable with no initial value",
     "output_type": "error",
     "traceback": [
      "\u001b[0;31m---------------------------------------------------------------------------\u001b[0m",
      "\u001b[0;31mTypeError\u001b[0m                                 Traceback (most recent call last)",
      "\u001b[0;32m/tmp/ipykernel_83729/596861714.py\u001b[0m in \u001b[0;36m<cell line: 1>\u001b[0;34m()\u001b[0m\n\u001b[0;32m----> 1\u001b[0;31m \u001b[0mdata1\u001b[0m\u001b[0;34m=\u001b[0m\u001b[0mplotly_trisurf\u001b[0m\u001b[0;34m(\u001b[0m\u001b[0mx\u001b[0m\u001b[0;34m,\u001b[0m\u001b[0my\u001b[0m\u001b[0;34m,\u001b[0m\u001b[0mz\u001b[0m\u001b[0;34m,\u001b[0m \u001b[0mtri\u001b[0m\u001b[0;34m.\u001b[0m\u001b[0msimplices\u001b[0m\u001b[0;34m,\u001b[0m \u001b[0mcolormap\u001b[0m\u001b[0;34m=\u001b[0m\u001b[0mcm\u001b[0m\u001b[0;34m.\u001b[0m\u001b[0mRdBu\u001b[0m\u001b[0;34m,\u001b[0m \u001b[0mplot_edges\u001b[0m\u001b[0;34m=\u001b[0m\u001b[0;32mTrue\u001b[0m\u001b[0;34m)\u001b[0m\u001b[0;34m\u001b[0m\u001b[0;34m\u001b[0m\u001b[0m\n\u001b[0m",
      "\u001b[0;32m/tmp/ipykernel_83729/1086861423.py\u001b[0m in \u001b[0;36mplotly_trisurf\u001b[0;34m(x, y, z, simplices, colormap, plot_edges)\u001b[0m\n\u001b[1;32m     36\u001b[0m         \u001b[0;31m#None separates data corresponding to two consecutive triangles\u001b[0m\u001b[0;34m\u001b[0m\u001b[0;34m\u001b[0m\u001b[0m\n\u001b[1;32m     37\u001b[0m         \u001b[0mlists_coord\u001b[0m\u001b[0;34m=\u001b[0m\u001b[0;34m[\u001b[0m\u001b[0;34m[\u001b[0m\u001b[0;34m[\u001b[0m\u001b[0mT\u001b[0m\u001b[0;34m[\u001b[0m\u001b[0mk\u001b[0m\u001b[0;34m%\u001b[0m\u001b[0;36m3\u001b[0m\u001b[0;34m]\u001b[0m\u001b[0;34m[\u001b[0m\u001b[0mc\u001b[0m\u001b[0;34m]\u001b[0m \u001b[0;32mfor\u001b[0m \u001b[0mk\u001b[0m \u001b[0;32min\u001b[0m \u001b[0mrange\u001b[0m\u001b[0;34m(\u001b[0m\u001b[0;36m4\u001b[0m\u001b[0;34m)\u001b[0m\u001b[0;34m]\u001b[0m\u001b[0;34m+\u001b[0m\u001b[0;34m[\u001b[0m \u001b[0;32mNone\u001b[0m\u001b[0;34m]\u001b[0m   \u001b[0;32mfor\u001b[0m \u001b[0mT\u001b[0m \u001b[0;32min\u001b[0m \u001b[0mtri_vertices\u001b[0m\u001b[0;34m]\u001b[0m  \u001b[0;32mfor\u001b[0m \u001b[0mc\u001b[0m \u001b[0;32min\u001b[0m \u001b[0mrange\u001b[0m\u001b[0;34m(\u001b[0m\u001b[0;36m3\u001b[0m\u001b[0;34m)\u001b[0m\u001b[0;34m]\u001b[0m\u001b[0;34m\u001b[0m\u001b[0;34m\u001b[0m\u001b[0m\n\u001b[0;32m---> 38\u001b[0;31m         \u001b[0mXe\u001b[0m\u001b[0;34m,\u001b[0m \u001b[0mYe\u001b[0m\u001b[0;34m,\u001b[0m \u001b[0mZe\u001b[0m\u001b[0;34m=\u001b[0m\u001b[0;34m[\u001b[0m\u001b[0mreduce\u001b[0m\u001b[0;34m(\u001b[0m\u001b[0;32mlambda\u001b[0m \u001b[0mx\u001b[0m\u001b[0;34m,\u001b[0m\u001b[0my\u001b[0m\u001b[0;34m:\u001b[0m \u001b[0mx\u001b[0m\u001b[0;34m+\u001b[0m\u001b[0my\u001b[0m\u001b[0;34m,\u001b[0m \u001b[0mlists_coord\u001b[0m\u001b[0;34m[\u001b[0m\u001b[0mk\u001b[0m\u001b[0;34m]\u001b[0m\u001b[0;34m)\u001b[0m \u001b[0;32mfor\u001b[0m \u001b[0mk\u001b[0m \u001b[0;32min\u001b[0m \u001b[0mrange\u001b[0m\u001b[0;34m(\u001b[0m\u001b[0;36m3\u001b[0m\u001b[0;34m)\u001b[0m\u001b[0;34m]\u001b[0m\u001b[0;34m\u001b[0m\u001b[0;34m\u001b[0m\u001b[0m\n\u001b[0m\u001b[1;32m     39\u001b[0m \u001b[0;34m\u001b[0m\u001b[0m\n\u001b[1;32m     40\u001b[0m         \u001b[0;31m#define the lines to be plotted\u001b[0m\u001b[0;34m\u001b[0m\u001b[0;34m\u001b[0m\u001b[0m\n",
      "\u001b[0;32m/tmp/ipykernel_83729/1086861423.py\u001b[0m in \u001b[0;36m<listcomp>\u001b[0;34m(.0)\u001b[0m\n\u001b[1;32m     36\u001b[0m         \u001b[0;31m#None separates data corresponding to two consecutive triangles\u001b[0m\u001b[0;34m\u001b[0m\u001b[0;34m\u001b[0m\u001b[0m\n\u001b[1;32m     37\u001b[0m         \u001b[0mlists_coord\u001b[0m\u001b[0;34m=\u001b[0m\u001b[0;34m[\u001b[0m\u001b[0;34m[\u001b[0m\u001b[0;34m[\u001b[0m\u001b[0mT\u001b[0m\u001b[0;34m[\u001b[0m\u001b[0mk\u001b[0m\u001b[0;34m%\u001b[0m\u001b[0;36m3\u001b[0m\u001b[0;34m]\u001b[0m\u001b[0;34m[\u001b[0m\u001b[0mc\u001b[0m\u001b[0;34m]\u001b[0m \u001b[0;32mfor\u001b[0m \u001b[0mk\u001b[0m \u001b[0;32min\u001b[0m \u001b[0mrange\u001b[0m\u001b[0;34m(\u001b[0m\u001b[0;36m4\u001b[0m\u001b[0;34m)\u001b[0m\u001b[0;34m]\u001b[0m\u001b[0;34m+\u001b[0m\u001b[0;34m[\u001b[0m \u001b[0;32mNone\u001b[0m\u001b[0;34m]\u001b[0m   \u001b[0;32mfor\u001b[0m \u001b[0mT\u001b[0m \u001b[0;32min\u001b[0m \u001b[0mtri_vertices\u001b[0m\u001b[0;34m]\u001b[0m  \u001b[0;32mfor\u001b[0m \u001b[0mc\u001b[0m \u001b[0;32min\u001b[0m \u001b[0mrange\u001b[0m\u001b[0;34m(\u001b[0m\u001b[0;36m3\u001b[0m\u001b[0;34m)\u001b[0m\u001b[0;34m]\u001b[0m\u001b[0;34m\u001b[0m\u001b[0;34m\u001b[0m\u001b[0m\n\u001b[0;32m---> 38\u001b[0;31m         \u001b[0mXe\u001b[0m\u001b[0;34m,\u001b[0m \u001b[0mYe\u001b[0m\u001b[0;34m,\u001b[0m \u001b[0mZe\u001b[0m\u001b[0;34m=\u001b[0m\u001b[0;34m[\u001b[0m\u001b[0mreduce\u001b[0m\u001b[0;34m(\u001b[0m\u001b[0;32mlambda\u001b[0m \u001b[0mx\u001b[0m\u001b[0;34m,\u001b[0m\u001b[0my\u001b[0m\u001b[0;34m:\u001b[0m \u001b[0mx\u001b[0m\u001b[0;34m+\u001b[0m\u001b[0my\u001b[0m\u001b[0;34m,\u001b[0m \u001b[0mlists_coord\u001b[0m\u001b[0;34m[\u001b[0m\u001b[0mk\u001b[0m\u001b[0;34m]\u001b[0m\u001b[0;34m)\u001b[0m \u001b[0;32mfor\u001b[0m \u001b[0mk\u001b[0m \u001b[0;32min\u001b[0m \u001b[0mrange\u001b[0m\u001b[0;34m(\u001b[0m\u001b[0;36m3\u001b[0m\u001b[0;34m)\u001b[0m\u001b[0;34m]\u001b[0m\u001b[0;34m\u001b[0m\u001b[0;34m\u001b[0m\u001b[0m\n\u001b[0m\u001b[1;32m     39\u001b[0m \u001b[0;34m\u001b[0m\u001b[0m\n\u001b[1;32m     40\u001b[0m         \u001b[0;31m#define the lines to be plotted\u001b[0m\u001b[0;34m\u001b[0m\u001b[0;34m\u001b[0m\u001b[0m\n",
      "\u001b[0;31mTypeError\u001b[0m: reduce() of empty iterable with no initial value"
     ]
    }
   ],
   "source": [
    "data1=plotly_trisurf(x,y,z, tri.simplices, colormap=cm.RdBu, plot_edges=True)"
   ]
  },
  {
   "cell_type": "code",
   "execution_count": null,
   "id": "84e1068a",
   "metadata": {},
   "outputs": [],
   "source": []
  },
  {
   "cell_type": "code",
   "execution_count": null,
   "id": "bac61cfe",
   "metadata": {},
   "outputs": [],
   "source": []
  },
  {
   "cell_type": "code",
   "execution_count": null,
   "id": "8be01d58",
   "metadata": {},
   "outputs": [],
   "source": []
  }
 ],
 "metadata": {
  "kernelspec": {
   "display_name": "Python 3 (ipykernel)",
   "language": "python",
   "name": "python3"
  },
  "language_info": {
   "codemirror_mode": {
    "name": "ipython",
    "version": 3
   },
   "file_extension": ".py",
   "mimetype": "text/x-python",
   "name": "python",
   "nbconvert_exporter": "python",
   "pygments_lexer": "ipython3",
   "version": "3.10.6"
  }
 },
 "nbformat": 4,
 "nbformat_minor": 5
}
