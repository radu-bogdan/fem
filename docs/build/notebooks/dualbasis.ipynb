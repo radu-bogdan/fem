{
 "cells": [
  {
   "cell_type": "markdown",
   "metadata": {},
   "source": [
    "# 2.10 Dual basis functions\n",
    "We use dual basis functions to define interpolation operators, define transfer operators between different finite element spaces, and auxiliary space preconditioners."
   ]
  },
  {
   "cell_type": "markdown",
   "metadata": {},
   "source": [
    "### Canonical interpolation\n",
    "The canonical finite element interpolation operator is defined by specifying the degrees of freedom. For low order methods these are typically nodal values, while for high order methods these are most often moments. For example, the interpolation of a function $u$ onto the $p^{th}$ order triangle is given by: find $u_{hp} \\in V_{hp}$ such that\n",
    "\n",
    "\\begin{eqnarray*}\n",
    "u_{hp} (V) & = & u(V) \\quad \\forall \\text{ vertices } V \\\\\n",
    "\\int_E u_{hp} q & = & \\int_E u q \\quad \\forall q \\in P^{p-2}(E) \\; \\forall \\text{ edges } E \\\\\n",
    "\\int_T u_{hp} q & = & \\int_T u q \\quad \\forall q \\in P^{p-3}(T) \\; \\forall \\text{ triangles } T\n",
    "\\end{eqnarray*}\n"
   ]
  },
  {
   "cell_type": "code",
   "execution_count": 1,
   "metadata": {
    "execution": {
     "iopub.execute_input": "2023-08-20T02:50:47.848233Z",
     "iopub.status.busy": "2023-08-20T02:50:47.847821Z",
     "iopub.status.idle": "2023-08-20T02:50:48.328606Z",
     "shell.execute_reply": "2023-08-20T02:50:48.328259Z"
    }
   },
   "outputs": [],
   "source": [
    "from ngsolve import *\n",
    "from ngsolve.webgui import Draw\n",
    "\n",
    "import matplotlib.pylab as plt\n",
    "mesh = Mesh(unit_square.GenerateMesh(maxh=2))"
   ]
  },
  {
   "cell_type": "markdown",
   "metadata": {},
   "source": [
    "The NGSolve 'Set' function does local projection, and simple averaging. In particular, this does not respect point values in mesh vertices. "
   ]
  },
  {
   "cell_type": "code",
   "execution_count": 2,
   "metadata": {
    "execution": {
     "iopub.execute_input": "2023-08-20T02:50:48.330313Z",
     "iopub.status.busy": "2023-08-20T02:50:48.330182Z",
     "iopub.status.idle": "2023-08-20T02:50:48.335785Z",
     "shell.execute_reply": "2023-08-20T02:50:48.335485Z"
    }
   },
   "outputs": [
    {
     "data": {
      "application/vnd.jupyter.widget-view+json": {
       "model_id": "b3892d6422094537bf3c6667d75e87cd",
       "version_major": 2,
       "version_minor": 0
      },
      "text/plain": [
       "WebGuiWidget(layout=Layout(height='50vh', width='100%'), value={'gui_settings': {}, 'ngsolve_version': '6.2.23…"
      ]
     },
     "metadata": {},
     "output_type": "display_data"
    },
    {
     "name": "stdout",
     "output_type": "stream",
     "text": [
      " -0.0223792\n",
      " 0.991843\n",
      " 0.977621\n",
      " -0.00815655\n",
      " 3.34984\n",
      " 2.19912\n",
      " 3.34984\n",
      "       2\n",
      " 0.00660131\n",
      " 7.68122e-15\n",
      " 0.00660131\n",
      " 1.42109e-14\n",
      " 3.34984\n",
      " -1.80088\n",
      " -2.17601\n",
      " 1.82399\n",
      "\n",
      "\n"
     ]
    }
   ],
   "source": [
    "fes = H1(mesh, order=3, low_order_space=False)  \n",
    "\n",
    "func = x*x*x*x\n",
    "gfu = GridFunction(fes)\n",
    "gfu.Set(func)\n",
    "Draw (gfu)\n",
    "print (gfu.vec)"
   ]
  },
  {
   "cell_type": "markdown",
   "metadata": {},
   "source": [
    "Most NGSolve finite element spaces provide now a \"dual\" operator, which delivers the moments (i.e. the dual space basis functions) instead of function values. The integrals over faces, edges and also vertices are defined by co-dimension 1 (=BND), co-dimension 2 (=BBND) or co-dimension 3 (=BBBND) integrals over the volume elements.\n",
    "We define a variational problem for canonical interpolation:"
   ]
  },
  {
   "cell_type": "code",
   "execution_count": 3,
   "metadata": {
    "execution": {
     "iopub.execute_input": "2023-08-20T02:50:48.337354Z",
     "iopub.status.busy": "2023-08-20T02:50:48.337269Z",
     "iopub.status.idle": "2023-08-20T02:50:48.342188Z",
     "shell.execute_reply": "2023-08-20T02:50:48.341919Z"
    }
   },
   "outputs": [
    {
     "name": "stdout",
     "output_type": "stream",
     "text": [
      "       0\n",
      "       1\n",
      "       1\n",
      "       0\n",
      "     3.6\n",
      "       2\n",
      "     3.6\n",
      "       2\n",
      "       0\n",
      "       0\n",
      " 6.66134e-16\n",
      " -1.66533e-15\n",
      "     3.6\n",
      "      -2\n",
      "      -2\n",
      "       2\n",
      "\n",
      "\n"
     ]
    },
    {
     "data": {
      "application/vnd.jupyter.widget-view+json": {
       "model_id": "5c940a266a7e415488965da4e2d53e91",
       "version_major": 2,
       "version_minor": 0
      },
      "text/plain": [
       "WebGuiWidget(layout=Layout(height='50vh', width='100%'), value={'gui_settings': {}, 'ngsolve_version': '6.2.23…"
      ]
     },
     "metadata": {},
     "output_type": "display_data"
    }
   ],
   "source": [
    "u,v = fes.TnT()\n",
    "vdual = v.Operator(\"dual\")\n",
    "\n",
    "a = BilinearForm(fes)\n",
    "a += u*vdual*dx + u*vdual*dx(element_vb=BND) + \\\n",
    "    u*vdual*dx(element_vb=BBND)\n",
    "a.Assemble()\n",
    "\n",
    "f = LinearForm(fes)\n",
    "f += func*vdual*dx + func*vdual*dx(element_vb=BND) + \\\n",
    "    func*vdual*dx(element_vb=BBND)\n",
    "f.Assemble()\n",
    "\n",
    "# interpolation in vertices preserves values 0 and 1\n",
    "gfu.vec.data = a.mat.Inverse() * f.vec\n",
    "print (gfu.vec)\n",
    "Draw (gfu);"
   ]
  },
  {
   "cell_type": "markdown",
   "metadata": {},
   "source": [
    "The vertex degrees of freedom vanish for edge and element basis functions, and the edge degrees of freedom vanish for element basis functions, but not vice-versa. Thus, the obtained matrix A is block-triangular:"
   ]
  },
  {
   "cell_type": "code",
   "execution_count": 4,
   "metadata": {
    "execution": {
     "iopub.execute_input": "2023-08-20T02:50:48.343664Z",
     "iopub.status.busy": "2023-08-20T02:50:48.343567Z",
     "iopub.status.idle": "2023-08-20T02:50:48.463076Z",
     "shell.execute_reply": "2023-08-20T02:50:48.462817Z"
    }
   },
   "outputs": [
    {
     "data": {
      "image/png": "[encoded data removed]",
      "text/plain": [
       "<Figure size 400x400 with 1 Axes>"
      ]
     },
     "metadata": {},
     "output_type": "display_data"
    }
   ],
   "source": [
    "import scipy.sparse as sp\n",
    "A = sp.csr_matrix(a.mat.CSR())\n",
    "plt.rcParams['figure.figsize'] = (4,4)\n",
    "plt.spy(A)\n",
    "plt.show()"
   ]
  },
  {
   "cell_type": "markdown",
   "metadata": {},
   "source": [
    "We can use proper block Gauss-Seidel smoothing for solving with that block triangular matrix by blocking the dofs for the individual vertices, edges and elements. Since the NGSolve Gauss-Seidel smoother reorders the order of smoothing blocks for parallelization, we have to take care to first compute vertex values, then edge values, and finally element values by running three different Gauss-Seidel sweeps."
   ]
  },
  {
   "cell_type": "code",
   "execution_count": 5,
   "metadata": {
    "execution": {
     "iopub.execute_input": "2023-08-20T02:50:48.464628Z",
     "iopub.status.busy": "2023-08-20T02:50:48.464553Z",
     "iopub.status.idle": "2023-08-20T02:50:48.467822Z",
     "shell.execute_reply": "2023-08-20T02:50:48.467566Z"
    }
   },
   "outputs": [
    {
     "name": "stdout",
     "output_type": "stream",
     "text": [
      "[(0,), (1,), (2,), (3,)]\n",
      "[(4, 5), (6, 7), (8, 9), (10, 11), (12, 13)]\n",
      "[(14,), (15,)]\n",
      "       0\n",
      "       1\n",
      "       1\n",
      "       0\n",
      "     3.6\n",
      "       2\n",
      "     3.6\n",
      "       2\n",
      "       0\n",
      "       0\n",
      " 6.66134e-16\n",
      " -1.66533e-15\n",
      "     3.6\n",
      "      -2\n",
      "      -2\n",
      "       2\n",
      "\n",
      "\n"
     ]
    }
   ],
   "source": [
    "vblocks = [fes.GetDofNrs(vertex) for vertex in mesh.vertices]\n",
    "eblocks = [fes.GetDofNrs(edge) for edge in mesh.edges]\n",
    "fblocks = [fes.GetDofNrs(face) for face in mesh.faces]\n",
    "\n",
    "print (vblocks)\n",
    "print (eblocks)\n",
    "print (fblocks)\n",
    "\n",
    "vinv = a.mat.CreateBlockSmoother(vblocks)\n",
    "einv = a.mat.CreateBlockSmoother(eblocks)\n",
    "finv = a.mat.CreateBlockSmoother(fblocks)\n",
    "\n",
    "vinv.Smooth(gfu.vec, f.vec)\n",
    "einv.Smooth(gfu.vec, f.vec)\n",
    "finv.Smooth(gfu.vec, f.vec)\n",
    "print (gfu.vec)"
   ]
  },
  {
   "cell_type": "markdown",
   "metadata": {},
   "source": [
    "## Embedding Finite Element Spaces\n",
    "This interpolation can be used to transform functions from one finite element space $V_{src}$ to another one $V_{dst}$. We use the dual space of the destination space:\n",
    "\n",
    "$$\n",
    "\\int_{node} u_{dst} v_{dual} = \\int_{node} u_{src} v_{dual} \\qquad\n",
    "\\forall \\, v_{dual} \\; \\forall \\, \\text{nodes}\n",
    "$$\n",
    "\n",
    "The left hand side leads to a non-symmetric square matrix, the right hand side to a rectangular matrix.\n",
    "\n",
    "As an example we implement the transformation from an vector valued $H^1$ space into $H(\\operatorname{div})$:"
   ]
  },
  {
   "cell_type": "code",
   "execution_count": 6,
   "metadata": {
    "execution": {
     "iopub.execute_input": "2023-08-20T02:50:48.469211Z",
     "iopub.status.busy": "2023-08-20T02:50:48.469138Z",
     "iopub.status.idle": "2023-08-20T02:50:48.473257Z",
     "shell.execute_reply": "2023-08-20T02:50:48.473028Z"
    }
   },
   "outputs": [],
   "source": [
    "from ngsolve import *\n",
    "from ngsolve.webgui import Draw\n",
    "from netgen.geom2d import unit_square\n",
    "mesh = Mesh(unit_square.GenerateMesh(maxh=0.2))\n",
    "\n",
    "fesh1 = VectorH1(mesh, order=2)\n",
    "feshdiv = HDiv(mesh, order=2)\n",
    "\n",
    "gfuh1 = GridFunction(fesh1)\n",
    "gfuh1.Set ( (x*x,y*y) )\n",
    "\n",
    "gfuhdiv = GridFunction(feshdiv, name=\"uhdiv\")"
   ]
  },
  {
   "cell_type": "markdown",
   "metadata": {},
   "source": [
    "Build the matrices, and use a direct solver:"
   ]
  },
  {
   "cell_type": "code",
   "execution_count": 7,
   "metadata": {
    "execution": {
     "iopub.execute_input": "2023-08-20T02:50:48.474570Z",
     "iopub.status.busy": "2023-08-20T02:50:48.474477Z",
     "iopub.status.idle": "2023-08-20T02:50:48.483156Z",
     "shell.execute_reply": "2023-08-20T02:50:48.482943Z"
    }
   },
   "outputs": [
    {
     "data": {
      "application/vnd.jupyter.widget-view+json": {
       "model_id": "bb85db0716674fa5a7bc091a08106130",
       "version_major": 2,
       "version_minor": 0
      },
      "text/plain": [
       "WebGuiWidget(layout=Layout(height='50vh', width='100%'), value={'gui_settings': {}, 'ngsolve_version': '6.2.23…"
      ]
     },
     "metadata": {},
     "output_type": "display_data"
    },
    {
     "data": {
      "application/vnd.jupyter.widget-view+json": {
       "model_id": "f2f14008ab34483db7be4d5cd871e7d3",
       "version_major": 2,
       "version_minor": 0
      },
      "text/plain": [
       "WebGuiWidget(layout=Layout(height='50vh', width='100%'), value={'gui_settings': {}, 'ngsolve_version': '6.2.23…"
      ]
     },
     "metadata": {},
     "output_type": "display_data"
    },
    {
     "data": {
      "text/plain": [
       "BaseWebGuiScene"
      ]
     },
     "execution_count": 7,
     "metadata": {},
     "output_type": "execute_result"
    }
   ],
   "source": [
    "amixed = BilinearForm(trialspace=fesh1, testspace=feshdiv)\n",
    "ahdiv = BilinearForm(feshdiv)\n",
    "\n",
    "u,v = feshdiv.TnT()\n",
    "vdual = v.Operator(\"dual\")\n",
    "uh1 = fesh1.TrialFunction()\n",
    "\n",
    "dS = dx(element_boundary=True)\n",
    "ahdiv += u*vdual * dx + u*vdual * dS\n",
    "ahdiv.Assemble()\n",
    "\n",
    "amixed += uh1*vdual*dx + uh1*vdual*dS\n",
    "amixed.Assemble()\n",
    "\n",
    "# build transformation operator:\n",
    "transform = ahdiv.mat.Inverse() @ amixed.mat\n",
    "gfuhdiv.vec.data = transform * gfuh1.vec\n",
    "\n",
    "Draw (gfuh1)\n",
    "Draw (gfuhdiv)"
   ]
  },
  {
   "cell_type": "markdown",
   "metadata": {},
   "source": [
    "We implement a linear operator performing the fast conversion by Gauss-Seidel smoothing: "
   ]
  },
  {
   "cell_type": "code",
   "execution_count": 8,
   "metadata": {
    "execution": {
     "iopub.execute_input": "2023-08-20T02:50:48.484575Z",
     "iopub.status.busy": "2023-08-20T02:50:48.484482Z",
     "iopub.status.idle": "2023-08-20T02:50:48.488604Z",
     "shell.execute_reply": "2023-08-20T02:50:48.488359Z"
    }
   },
   "outputs": [],
   "source": [
    "class MyBlockInverse(BaseMatrix):\n",
    "    def __init__ (self, mat, eblocks, fblocks):\n",
    "        super(MyBlockInverse, self).__init__()\n",
    "        self.mat = mat\n",
    "        self.einv = mat.CreateBlockSmoother(eblocks)\n",
    "        self.finv = mat.CreateBlockSmoother(fblocks)\n",
    "        self.res = self.mat.CreateColVector()\n",
    "\n",
    "    def CreateRowVector(self):\n",
    "        return self.mat.CreateColVector()\n",
    "    def CreateColVector(self):\n",
    "        return self.mat.CreateRowVector()\n",
    "        \n",
    "    def Mult(self, x, y):\n",
    "        # y[:] = 0\n",
    "        # self.einv.Smooth(y,x)    #   y = y +  A_E^-1  (x - A y)\n",
    "        # self.finv.Smooth(y,x)    #   y = y +  A_E^-1  (x - A y)\n",
    "        \n",
    "        # the same, but we see how to transpose that\n",
    "        y.data = self.einv * x\n",
    "        self.res.data = x - self.mat * y\n",
    "        y.data += finv * self.res\n",
    "\n",
    "    def MultTrans(self, x, y):\n",
    "        y.data = self.finv.T * x\n",
    "        self.res.data = x - self.mat.T * y\n",
    "        y.data += einv.T * self.res\n",
    "\n",
    "\n",
    "eblocks = [feshdiv.GetDofNrs(edge) for edge in mesh.edges]\n",
    "fblocks = [feshdiv.GetDofNrs(face) for face in mesh.faces]\n",
    "\n",
    "transform = MyBlockInverse(ahdiv.mat, eblocks, fblocks) @ amixed.mat\n",
    "gfuhdiv.vec.data = transform * gfuh1.vec"
   ]
  },
  {
   "cell_type": "markdown",
   "metadata": {},
   "source": [
    "## Auxiliary Space Preconditioning\n",
    "Nepomnyaschikh 91, Hiptmair-Xu 07, ....\n",
    "\n",
    "Assume we have a complicated problem with some complicated discretization, and we have good preconditioners for a nodal finite element discretization for the Laplace operator. By auxiliary space preconditioning we can reuse the simple preconditioners for the complicated problems. It is simple, and works well in many cases.\n",
    "\n",
    "As a simple example, we precondition a DG discretization by an $H^1$ conforming method. "
   ]
  },
  {
   "cell_type": "code",
   "execution_count": 9,
   "metadata": {
    "execution": {
     "iopub.execute_input": "2023-08-20T02:50:48.490014Z",
     "iopub.status.busy": "2023-08-20T02:50:48.489938Z",
     "iopub.status.idle": "2023-08-20T02:50:48.495733Z",
     "shell.execute_reply": "2023-08-20T02:50:48.495511Z"
    }
   },
   "outputs": [],
   "source": [
    "mesh = Mesh(unit_square.GenerateMesh(maxh=0.1))"
   ]
  },
  {
   "cell_type": "markdown",
   "metadata": {},
   "source": [
    "The DG discretization:"
   ]
  },
  {
   "cell_type": "code",
   "execution_count": 10,
   "metadata": {
    "execution": {
     "iopub.execute_input": "2023-08-20T02:50:48.497186Z",
     "iopub.status.busy": "2023-08-20T02:50:48.497110Z",
     "iopub.status.idle": "2023-08-20T02:50:48.511711Z",
     "shell.execute_reply": "2023-08-20T02:50:48.511470Z"
    }
   },
   "outputs": [],
   "source": [
    "order=4\n",
    "fesDG = L2(mesh, order=order, dgjumps=True)\n",
    "u,v = fesDG.TnT()\n",
    "aDG = BilinearForm(fesDG)\n",
    "jump_u = u-u.Other()\n",
    "jump_v = v-v.Other()\n",
    "n = specialcf.normal(2)\n",
    "mean_dudn = 0.5*n * (grad(u)+grad(u.Other()))\n",
    "mean_dvdn = 0.5*n * (grad(v)+grad(v.Other()))\n",
    "alpha = 4\n",
    "h = specialcf.mesh_size\n",
    "aDG = BilinearForm(fesDG)\n",
    "aDG += grad(u)*grad(v) * dx\n",
    "aDG += alpha*order**2/h*jump_u*jump_v * dx(skeleton=True)\n",
    "aDG += alpha*order**2/h*u*v * ds(skeleton=True)\n",
    "aDG += (-mean_dudn*jump_v -mean_dvdn*jump_u) * dx(skeleton=True)\n",
    "aDG += (-n*grad(u)*v-n*grad(v)*u)* ds(skeleton=True)\n",
    "aDG.Assemble()\n",
    "\n",
    "fDG = LinearForm(fesDG)\n",
    "fDG += 1*v * dx\n",
    "fDG.Assemble()\n",
    "gfuDG = GridFunction(fesDG)"
   ]
  },
  {
   "cell_type": "markdown",
   "metadata": {},
   "source": [
    "The auxiliary $H^1$ discretization:"
   ]
  },
  {
   "cell_type": "code",
   "execution_count": 11,
   "metadata": {
    "execution": {
     "iopub.execute_input": "2023-08-20T02:50:48.513043Z",
     "iopub.status.busy": "2023-08-20T02:50:48.512968Z",
     "iopub.status.idle": "2023-08-20T02:50:48.516251Z",
     "shell.execute_reply": "2023-08-20T02:50:48.516034Z"
    }
   },
   "outputs": [
    {
     "data": {
      "text/plain": [
       "<ngsolve.comp.BilinearForm at 0x12398f930>"
      ]
     },
     "execution_count": 11,
     "metadata": {},
     "output_type": "execute_result"
    }
   ],
   "source": [
    "fesH1 = H1(mesh, order=2, dirichlet=\".*\")\n",
    "u,v = fesH1.TnT()\n",
    "aH1 = BilinearForm(fesH1)\n",
    "aH1 += grad(u)*grad(v)*dx\n",
    "preH1 = Preconditioner(aH1, \"bddc\")\n",
    "aH1.Assemble()"
   ]
  },
  {
   "cell_type": "code",
   "execution_count": 12,
   "metadata": {
    "execution": {
     "iopub.execute_input": "2023-08-20T02:50:48.517598Z",
     "iopub.status.busy": "2023-08-20T02:50:48.517524Z",
     "iopub.status.idle": "2023-08-20T02:50:48.545872Z",
     "shell.execute_reply": "2023-08-20T02:50:48.545633Z"
    }
   },
   "outputs": [
    {
     "name": "stdout",
     "output_type": "stream",
     "text": [
      "\u001b[2KCG iteration 1, residual = 0.25321197332192374     \n",
      "\u001b[2KCG iteration 2, residual = 0.03283242148303799     \n",
      "\u001b[2KCG iteration 3, residual = 0.008130862525680996     \n",
      "\u001b[2KCG iteration 4, residual = 0.003434248811060353     \n",
      "\u001b[2KCG iteration 5, residual = 0.0011783456811530655     \n",
      "\u001b[2KCG iteration 6, residual = 0.0009046659695335943     \n",
      "\u001b[2KCG iteration 7, residual = 0.0009161002088522357     \n",
      "\u001b[2KCG iteration 8, residual = 0.0010697558880604981     \n",
      "\u001b[2KCG iteration 9, residual = 0.0007971399933259832     \n",
      "\u001b[2KCG iteration 10, residual = 0.0006627896366674873     \n",
      "\u001b[2KCG iteration 11, residual = 0.0005095344857659243     \n",
      "\u001b[2KCG iteration 12, residual = 0.0004246644493713774     \n",
      "\u001b[2KCG iteration 13, residual = 0.0003261702302927913     \n",
      "\u001b[2KCG iteration 14, residual = 0.0003439552949808797     \n",
      "\u001b[2KCG iteration 15, residual = 0.0002710525126777647     \n",
      "\u001b[2KCG iteration 16, residual = 0.00023336881656180276     \n",
      "\u001b[2KCG iteration 17, residual = 0.00017983771681640928     \n",
      "\u001b[2KCG iteration 18, residual = 0.0001356676383204533     \n",
      "\u001b[2KCG iteration 19, residual = 8.969965836309211e-05     \n",
      "\u001b[2KCG iteration 20, residual = 7.588906438782715e-05     \n",
      "\u001b[2KCG iteration 21, residual = 6.938043743085281e-05     \n",
      "\u001b[2KCG iteration 22, residual = 6.381887596483985e-05     \n",
      "\u001b[2KCG iteration 23, residual = 5.1802080191095656e-05     \n",
      "\u001b[2KCG iteration 24, residual = 4.3817631293681844e-05     \n",
      "\u001b[2KCG iteration 25, residual = 3.640724987679931e-05     \n",
      "\u001b[2KCG iteration 26, residual = 2.980836083285351e-05     \n",
      "\u001b[2KCG iteration 27, residual = 2.9223985181309804e-05     \n",
      "\u001b[2KCG iteration 28, residual = 2.9089520392435014e-05     \n",
      "\u001b[2KCG iteration 29, residual = 2.6390001567262572e-05     \n",
      "\u001b[2KCG iteration 30, residual = 2.0442446246670792e-05     \n",
      "\u001b[2KCG iteration 31, residual = 1.7799471861376317e-05     \n",
      "\u001b[2KCG iteration 32, residual = 1.4280353976734374e-05     \n",
      "\u001b[2KCG iteration 33, residual = 1.172408643444238e-05     \n",
      "\u001b[2KCG iteration 34, residual = 1.0399082092349191e-05     \n",
      "\u001b[2KCG iteration 35, residual = 9.357450254588588e-06     \n",
      "\u001b[2KCG iteration 36, residual = 8.046132496257371e-06     \n",
      "\u001b[2KCG iteration 37, residual = 6.434972748062368e-06     \n",
      "\u001b[2KCG iteration 38, residual = 4.9774230748046496e-06     \n",
      "\u001b[2KCG iteration 39, residual = 4.189516701918542e-06     \n",
      "\u001b[2KCG iteration 40, residual = 3.879825859447615e-06     \n",
      "\u001b[2KCG iteration 41, residual = 3.4249941633555386e-06     \n",
      "\u001b[2KCG iteration 42, residual = 3.103950525408544e-06     \n",
      "\u001b[2KCG iteration 43, residual = 2.684811473543893e-06     \n",
      "\u001b[2KCG iteration 44, residual = 2.1289592891355175e-06     \n",
      "\u001b[2KCG iteration 45, residual = 1.7175875308400106e-06     \n",
      "\u001b[2KCG iteration 46, residual = 1.5033515289259891e-06     \n",
      "\u001b[2KCG iteration 47, residual = 1.4944954266967485e-06     \n",
      "\u001b[2KCG iteration 48, residual = 1.4120180027629163e-06     \n",
      "\u001b[2KCG iteration 49, residual = 1.1860668787093946e-06     \n",
      "\u001b[2KCG iteration 50, residual = 9.384364837571251e-07     \n",
      "\u001b[2KCG iteration 51, residual = 7.855316166902825e-07     \n",
      "\u001b[2KCG iteration 52, residual = 6.514966222954592e-07     \n",
      "\u001b[2KCG iteration 53, residual = 5.847843124223207e-07     \n",
      "\u001b[2KCG iteration 54, residual = 5.642748143010696e-07     \n",
      "\u001b[2KCG iteration 55, residual = 4.856169352655427e-07     \n",
      "\u001b[2KCG iteration 56, residual = 3.6490360544847784e-07     \n",
      "\u001b[2KCG iteration 57, residual = 2.873227625307817e-07     \n",
      "\u001b[2KCG iteration 58, residual = 2.5242710520941087e-07     \n",
      "\u001b[2KCG iteration 59, residual = 2.1120183910234669e-07     \n",
      "\u001b[2KCG iteration 60, residual = 1.815794537182351e-07     \n",
      "\u001b[2KCG iteration 61, residual = 1.6765792567395389e-07     \n",
      "\u001b[2KCG iteration 62, residual = 1.3534309873824698e-07     \n",
      "\u001b[2KCG iteration 63, residual = 1.0740625460956853e-07     \n",
      "\u001b[2KCG iteration 64, residual = 8.692499337660298e-08     \n",
      "\u001b[2KCG iteration 65, residual = 6.991024642038223e-08     \n",
      "\u001b[2KCG iteration 66, residual = 6.16682084855899e-08     \n",
      "\u001b[2KCG iteration 67, residual = 5.426467057609259e-08     \n",
      "\u001b[2KCG iteration 68, residual = 4.4926166304672545e-08     \n",
      "\u001b[2KCG iteration 69, residual = 3.4270945570937974e-08     \n",
      "\u001b[2KCG iteration 70, residual = 2.7367952358733076e-08     \n",
      "\u001b[2KCG iteration 71, residual = 2.2107937585503116e-08     \n",
      "\u001b[2KCG iteration 72, residual = 1.8685912951575697e-08     \n",
      "\u001b[2KCG iteration 73, residual = 1.7316902148526993e-08     \n",
      "\u001b[2KCG iteration 74, residual = 1.550809831822612e-08     \n",
      "\u001b[2KCG iteration 75, residual = 1.3238529365861149e-08     \n",
      "\u001b[2KCG iteration 76, residual = 9.994763302405106e-09     \n",
      "\u001b[2KCG iteration 77, residual = 7.883313340280216e-09     \n",
      "\u001b[2KCG iteration 78, residual = 6.787391707678966e-09     \n",
      "\u001b[2KCG iteration 79, residual = 6.238631289866897e-09     \n",
      "\u001b[2KCG iteration 80, residual = 5.761549942557726e-09     \n",
      "\u001b[2KCG iteration 81, residual = 4.886605168450879e-09     \n",
      "\u001b[2KCG iteration 82, residual = 3.74860150720162e-09     \n",
      "\u001b[2KCG iteration 83, residual = 2.7484507091882744e-09     \n",
      "\u001b[2KCG iteration 84, residual = 2.2801679002934487e-09     \n",
      "\u001b[2KCG iteration 85, residual = 2.0226924091517916e-09     \n",
      "\u001b[2KCG iteration 86, residual = 1.870225646175021e-09     \n",
      "\u001b[2KCG iteration 87, residual = 1.5609299375609703e-09     \n",
      "\u001b[2KCG iteration 88, residual = 1.2269782798567377e-09     \n",
      "\u001b[2KCG iteration 89, residual = 9.11289963312801e-10     \n",
      "\u001b[2KCG iteration 90, residual = 7.127247152222341e-10     \n",
      "\u001b[2KCG iteration 91, residual = 5.937505711160352e-10     \n",
      "\u001b[2KCG iteration 92, residual = 5.514127910703664e-10     \n",
      "\u001b[2KCG iteration 93, residual = 4.998603683845234e-10     \n",
      "\u001b[2KCG iteration 94, residual = 4.12348325981098e-10     \n",
      "\u001b[2KCG iteration 95, residual = 3.26582468977379e-10     \n",
      "\u001b[2KCG iteration 96, residual = 2.597234196592408e-10     \n",
      "\u001b[2KCG iteration 97, residual = 2.1773403375269626e-10     \n",
      "\u001b[2KCG iteration 98, residual = 2.0054896443648464e-10     \n",
      "\u001b[2KCG iteration 99, residual = 1.8643852480254436e-10     \n",
      "\u001b[2KCG iteration 100, residual = 1.6255976779970881e-10     \n",
      "\u001b[2KCG iteration 101, residual = 1.2841567153657278e-10     \n",
      "\u001b[2KCG iteration 102, residual = 9.991865111625104e-11     \n",
      "\u001b[2KCG iteration 103, residual = 8.021556047846433e-11     \n",
      "\u001b[2KCG iteration 104, residual = 7.127516719426251e-11     \n",
      "\u001b[2KCG iteration 105, residual = 6.689245049520979e-11     \n",
      "\u001b[2KCG iteration 106, residual = 5.955425362942079e-11     \n",
      "\u001b[2KCG iteration 107, residual = 4.784028549591744e-11     \n",
      "\u001b[2KCG iteration 108, residual = 3.8371559998467184e-11     \n"
     ]
    },
    {
     "name": "stdout",
     "output_type": "stream",
     "text": [
      "\u001b[2KCG iteration 109, residual = 2.981063991673226e-11     \n",
      "\u001b[2KCG iteration 110, residual = 2.5236152799221824e-11     \n",
      "\u001b[2KCG iteration 111, residual = 2.3858924738721057e-11     \n",
      "\u001b[2KCG iteration 112, residual = 2.2840110226172454e-11     \n",
      "\u001b[2KCG iteration 113, residual = 2.003341922092308e-11     \n",
      "\u001b[2KCG iteration 114, residual = 1.5400083217621838e-11     \n",
      "\u001b[2KCG iteration 115, residual = 1.2129300498104331e-11     \n",
      "\u001b[2KCG iteration 116, residual = 1.0191622151281582e-11     \n",
      "\u001b[2KCG iteration 117, residual = 9.955251183472822e-12     \n",
      "\u001b[2KCG iteration 118, residual = 9.131990787888884e-12     \n",
      "\u001b[2KCG iteration 119, residual = 8.359467885340022e-12     \n",
      "\u001b[2KCG iteration 120, residual = 6.910324008285709e-12     \n",
      "\u001b[2KCG iteration 121, residual = 5.383911691428594e-12     \n",
      "\u001b[2KCG iteration 122, residual = 4.235570032438656e-12     \n",
      "\u001b[2KCG iteration 123, residual = 3.8609264052107606e-12     \n",
      "\u001b[2KCG iteration 124, residual = 3.631885373535994e-12     \n",
      "\u001b[2KCG iteration 125, residual = 3.070757123157699e-12     \n",
      "\u001b[2KCG iteration 126, residual = 2.4629141842246815e-12     \n",
      "\u001b[2KCG iteration 127, residual = 1.8939698529480767e-12     \n",
      "\u001b[2KCG iteration 128, residual = 1.544591273195815e-12     \n",
      "\u001b[2KCG iteration 129, residual = 1.3366166407056467e-12     \n",
      "\u001b[2KCG iteration 130, residual = 1.2597088819497833e-12     \n",
      "\u001b[2KCG iteration 131, residual = 1.1246411194364072e-12     \n",
      "\u001b[2KCG iteration 132, residual = 9.044210383282153e-13     \n",
      "\u001b[2KCG iteration 133, residual = 6.755356494264342e-13     \n",
      "\u001b[2KCG iteration 134, residual = 5.478310508508042e-13     \n",
      "\u001b[2KCG iteration 135, residual = 4.587901848964645e-13     \n",
      "\u001b[2KCG iteration 136, residual = 4.207573371992001e-13     \n",
      "\u001b[2KCG iteration 137, residual = 3.8906949420146435e-13     \n",
      "\u001b[2KCG iteration 138, residual = 3.45729854659676e-13     \n",
      "\u001b[2KCG iteration 139, residual = 2.659787682802873e-13     \n",
      "\u001b[2KCG iteration 140, residual = 2.1117431997314402e-13     \n"
     ]
    },
    {
     "data": {
      "application/vnd.jupyter.widget-view+json": {
       "model_id": "db1bd8ae2e20451897ce0dc59755d55a",
       "version_major": 2,
       "version_minor": 0
      },
      "text/plain": [
       "WebGuiWidget(layout=Layout(height='50vh', width='100%'), value={'gui_settings': {}, 'ngsolve_version': '6.2.23…"
      ]
     },
     "metadata": {},
     "output_type": "display_data"
    },
    {
     "data": {
      "text/plain": [
       "BaseWebGuiScene"
      ]
     },
     "execution_count": 12,
     "metadata": {},
     "output_type": "execute_result"
    }
   ],
   "source": [
    "transform = fesH1.ConvertL2Operator(fesDG)\n",
    "pre = transform @ preH1.mat @ transform.T + aDG.mat.CreateSmoother()\n",
    "\n",
    "solvers.CG(mat=aDG.mat, rhs=fDG.vec, sol=gfuDG.vec, pre=pre, \\\n",
    "           maxsteps=200)\n",
    "\n",
    "Draw (gfuDG)"
   ]
  },
  {
   "cell_type": "code",
   "execution_count": null,
   "metadata": {},
   "outputs": [],
   "source": []
  },
  {
   "cell_type": "code",
   "execution_count": null,
   "metadata": {},
   "outputs": [],
   "source": []
  },
  {
   "cell_type": "code",
   "execution_count": null,
   "metadata": {},
   "outputs": [],
   "source": []
  }
 ],
 "metadata": {
  "kernelspec": {
   "display_name": "Python 3 (ipykernel)",
   "language": "python",
   "name": "python3"
  },
  "language_info": {
   "codemirror_mode": {
    "name": "ipython",
    "version": 3
   },
   "file_extension": ".py",
   "mimetype": "text/x-python",
   "name": "python",
   "nbconvert_exporter": "python",
   "pygments_lexer": "ipython3",
   "version": "3.10.8"
  },
  "widgets": {
   "application/vnd.jupyter.widget-state+json": {
    "state": {
     "5c940a266a7e415488965da4e2d53e91": {
      "model_module": "webgui_jupyter_widgets",
      "model_module_version": "0.2.14",
      "model_name": "WebguiModel",
      "state": {
       "_dom_classes": [],
       "_model_module": "webgui_jupyter_widgets",
       "_model_module_version": "0.2.14",
       "_model_name": "WebguiModel",
       "_view_count": null,
       "_view_module": "webgui_jupyter_widgets",
       "_view_module_version": "0.2.14",
       "_view_name": "WebguiView",
       "layout": "IPY_MODEL_e8823049f80f484e8d23597a12762ab9",
       "tabbable": null,
       "tooltip": null,
       "value": {
        "Bezier_points": [
         "AACAPwAAgD8AAAAAAACAPwAAgD8AAIA/AAAAAAAAgD8AAIA/AAAAAAAAAAAAAIA/AAAAAAAAgD8AAAAAAAAAAAAAAAAAAIA/AAAAAAAAAAAAAIA/AACAPwAAAAAAAIA/",
         "AAAAPwAAAD8AAAAAzczMvgAAgD8AAAA/AAAAAAAAgD8AAAA/AAAAAAAAAADNzMy+AAAAAAAAAD8AAAAAAAAAAAAAAD8AAIA/AAAAAM3MzL4AAAA/AAAAPwAAAADNzMy+",
         "AAAAAAAAAAAAAAAAAAAAAAAAgD8AAAAAAAAAAAAAgD8AAAAAAAAAAAAAAAAAAAAAAAAAAAAAAAAAAAAAAAAAAAAAgD8AAIA/AAAAAAAAgD8AAAAAAAAAAAAAAAAAAAAA"
        ],
        "Bezier_trig_points": [
         "AACAPwAAgD8AAAAAAACAPwAAAAAAAIA/AAAAAAAAAAA=",
         "AAAAPwAAAD8AAAAAzczMvgAAAAAAAAA/AAAAAAAAAAA=",
         "AAAAAAAAAAAAAAAAAAAAAAAAAAAAAAAAAAAAAAAAAAA=",
         "AACAPwAAAD8AAAAAAACAPwAAAD8AAIA/AAAAAM3MzL4=",
         "AAAAPwAAAAAAAAAAzczMvgAAAD8AAAA/AAAAAM3MzL4=",
         "AACAPwAAAAAAAAAAAACAPwAAgD8AAIA/AAAAAAAAgD8="
        ],
        "autoscale": true,
        "deformation": false,
        "draw_surf": true,
        "draw_vol": false,
        "edges": [
         "AACAPwAAAAAAAAAAAAAAAAAAgD8AAIA/AAAAAAAAAAAAAAAAAACAPwAAAAAAAAAAAAAAAAAAAAAAAAAAAAAAAA==",
         "AAAAPwAAAAAAAAAAAAAAAAAAgD8AAAA/AAAAAAAAAAAAAAA/AACAPwAAAAAAAAAAAAAAAAAAAD8AAAAAAAAAAA==",
         "AAAAAAAAAAAAAAAAAAAAAAAAgD8AAAAAAAAAAAAAAAAAAIA/AACAPwAAAAAAAAAAAAAAAAAAgD8AAAAAAAAAAA=="
        ],
        "fullscreen": false,
        "funcdim": 1,
        "funcmax": 1.0,
        "funcmin": 0.0,
        "gui_settings": {},
        "mesh_center": [
         0.5,
         0.5000000000000001,
         1.1125369292536007e-308
        ],
        "mesh_dim": 2,
        "mesh_radius": 0.7071067811865476,
        "ngsolve_version": "6.2.2304",
        "objects": [],
        "order2d": 2,
        "order3d": 2,
        "show_mesh": true,
        "show_wireframe": true
       }
      }
     },
     "84b6b4f9f6744d748c4b48c047598e46": {
      "model_module": "@jupyter-widgets/base",
      "model_module_version": "2.0.0",
      "model_name": "LayoutModel",
      "state": {
       "_model_module": "@jupyter-widgets/base",
       "_model_module_version": "2.0.0",
       "_model_name": "LayoutModel",
       "_view_count": null,
       "_view_module": "@jupyter-widgets/base",
       "_view_module_version": "2.0.0",
       "_view_name": "LayoutView",
       "align_content": null,
       "align_items": null,
       "align_self": null,
       "border_bottom": null,
       "border_left": null,
       "border_right": null,
       "border_top": null,
       "bottom": null,
       "display": null,
       "flex": null,
       "flex_flow": null,
       "grid_area": null,
       "grid_auto_columns": null,
       "grid_auto_flow": null,
       "grid_auto_rows": null,
       "grid_column": null,
       "grid_gap": null,
       "grid_row": null,
       "grid_template_areas": null,
       "grid_template_columns": null,
       "grid_template_rows": null,
       "height": "50vh",
       "justify_content": null,
       "justify_items": null,
       "left": null,
       "margin": null,
       "max_height": null,
       "max_width": null,
       "min_height": null,
       "min_width": null,
       "object_fit": null,
       "object_position": null,
       "order": null,
       "overflow": null,
       "padding": null,
       "right": null,
       "top": null,
       "visibility": null,
       "width": "100%"
      }
     },
     "9ee7edab749a4ee6bb083b5451744a52": {
      "model_module": "@jupyter-widgets/base",
      "model_module_version": "2.0.0",
      "model_name": "LayoutModel",
      "state": {
       "_model_module": "@jupyter-widgets/base",
       "_model_module_version": "2.0.0",
       "_model_name": "LayoutModel",
       "_view_count": null,
       "_view_module": "@jupyter-widgets/base",
       "_view_module_version": "2.0.0",
       "_view_name": "LayoutView",
       "align_content": null,
       "align_items": null,
       "align_self": null,
       "border_bottom": null,
       "border_left": null,
       "border_right": null,
       "border_top": null,
       "bottom": null,
       "display": null,
       "flex": null,
       "flex_flow": null,
       "grid_area": null,
       "grid_auto_columns": null,
       "grid_auto_flow": null,
       "grid_auto_rows": null,
       "grid_column": null,
       "grid_gap": null,
       "grid_row": null,
       "grid_template_areas": null,
       "grid_template_columns": null,
       "grid_template_rows": null,
       "height": "50vh",
       "justify_content": null,
       "justify_items": null,
       "left": null,
       "margin": null,
       "max_height": null,
       "max_width": null,
       "min_height": null,
       "min_width": null,
       "object_fit": null,
       "object_position": null,
       "order": null,
       "overflow": null,
       "padding": null,
       "right": null,
       "top": null,
       "visibility": null,
       "width": "100%"
      }
     },
     "b3892d6422094537bf3c6667d75e87cd": {
      "model_module": "webgui_jupyter_widgets",
      "model_module_version": "0.2.14",
      "model_name": "WebguiModel",
      "state": {
       "_dom_classes": [],
       "_model_module": "webgui_jupyter_widgets",
       "_model_module_version": "0.2.14",
       "_model_name": "WebguiModel",
       "_view_count": null,
       "_view_module": "webgui_jupyter_widgets",
       "_view_module_version": "0.2.14",
       "_view_name": "WebguiView",
       "layout": "IPY_MODEL_e90a1b0c9bc1431391661e5df67f439d",
       "tabbable": null,
       "tooltip": null,
       "value": {
        "Bezier_points": [
         "AACAPwAAgD8AAAAAW0V6PwAAgD8AAIA/AAAAAFtFej8AAIA/AAAAAAAAAAB06X0/AAAAAAAAgD8AAAAADqMFvAAAAAAAAIA/AAAAAA6jBbwAAIA/AACAPwAAAABbRXo/",
         "AAAAPwAAAD8AAAAAvTy4vgAAgD8AAAA/AAAAAD+rez8AAAA/AAAAAAAAAACkmLS+AAAAAAAAAD8AAAAAFpiKvAAAAD8AAIA/AAAAAKSYtL4AAAA/AAAAPwAAAAC9PLi+",
         "AAAAAAAAAAAAAAAAq1S3vAAAgD8AAAAAAAAAAHTpfT8AAAAAAAAAAAAAAACrVLe8AAAAAAAAAAAAAAAAq1S3vAAAgD8AAIA/AAAAAFtFej8AAAAAAAAAAAAAAACrVLe8"
        ],
        "Bezier_trig_points": [
         "AACAPwAAgD8AAAAAW0V6PwAAAAAAAIA/AAAAAA6jBbw=",
         "AAAAPwAAAD8AAAAAvTy4vgAAAAAAAAA/AAAAABaYirw=",
         "AAAAAAAAAAAAAAAAq1S3vAAAAAAAAAAAAAAAAKtUt7w=",
         "AACAPwAAAD8AAAAAP6t7PwAAAD8AAIA/AAAAAKSYtL4=",
         "AAAAPwAAAAAAAAAApJi0vgAAAD8AAAA/AAAAAL08uL4=",
         "AACAPwAAAAAAAAAAdOl9PwAAgD8AAIA/AAAAAFtFej8="
        ],
        "autoscale": true,
        "deformation": false,
        "draw_surf": true,
        "draw_vol": false,
        "edges": [
         "AACAPwAAAAAAAAAAAAAAAAAAgD8AAIA/AAAAAAAAAAAAAAAAAACAPwAAAAAAAAAAAAAAAAAAAAAAAAAAAAAAAA==",
         "AAAAPwAAAAAAAAAAAAAAAAAAgD8AAAA/AAAAAAAAAAAAAAA/AACAPwAAAAAAAAAAAAAAAAAAAD8AAAAAAAAAAA==",
         "AAAAAAAAAAAAAAAAAAAAAAAAgD8AAAAAAAAAAAAAAAAAAIA/AACAPwAAAAAAAAAAAAAAAAAAgD8AAAAAAAAAAA=="
        ],
        "fullscreen": false,
        "funcdim": 1,
        "funcmax": 0.9918434485386654,
        "funcmin": -0.022379240898149168,
        "gui_settings": {},
        "mesh_center": [
         0.5,
         0.5000000000000001,
         1.1125369292536007e-308
        ],
        "mesh_dim": 2,
        "mesh_radius": 0.7071067811865476,
        "ngsolve_version": "6.2.2304",
        "objects": [],
        "order2d": 2,
        "order3d": 2,
        "show_mesh": true,
        "show_wireframe": true
       }
      }
     },
     "bb85db0716674fa5a7bc091a08106130": {
      "model_module": "webgui_jupyter_widgets",
      "model_module_version": "0.2.14",
      "model_name": "WebguiModel",
      "state": {
       "_dom_classes": [],
       "_model_module": "webgui_jupyter_widgets",
       "_model_module_version": "0.2.14",
       "_model_name": "WebguiModel",
       "_view_count": null,
       "_view_module": "webgui_jupyter_widgets",
       "_view_module_version": "0.2.14",
       "_view_name": "WebguiView",
       "layout": "IPY_MODEL_84b6b4f9f6744d748c4b48c047598e46",
       "tabbable": null,
       "tooltip": null,
       "value": {
        "Bezier_points": [
         "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",
         "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",
         "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",
         "CtcjPQAAAAAK1yM9AAAAAFVVHaQAAAAA/h4bPQAAAAD+Hhs9AAAAAKuqKqIAAAAA1J8MPQAAAADUnww9AAAAAFVV1SIAAAAA/h4bPQAAAAD+Hhs9AAAAANSfDD0AAAAA5Y0EPQAAAADljQQ9AAAAAFVV/aMAAAAA1J8MPQAAAADUnww9AAAAAOWNBD0AAAAAVVX9owAAAABVVf2jAAAAAArXIz0AAAAA5Y0EPQAAAADljQQ9AAAAAArXIz0AAAAA8EiAPgAAAADwSIA+AAAAABHZrz4AAAAAqnkBPgAAAACqeQE+AAAAAArXIz4AAAAAEdmvPgAAAAAR2a8+AAAAAMMzIj8AAAAAvHKYPgAAAAC8cpg+AAAAAOxRuD4AAAAAqnkBPgAAAACqeQE+AAAAALxymD4AAAAAfQcNPwAAAAB9Bw0/AAAAAArXIz8AAAAAvHKYPgAAAAC8cpg+AAAAAH0HDT8AAAAACtcjPwAAAAAK1yM/AAAAAAAAgD8AAAAAN+03PwAAAAA37Tc/AAAAAAAAgD8AAAAAcvUpPwAAAABy9Sk/AAAAAAAAgD8AAAAAN+03PwAAAAA37Tc/AAAAAHL1KT8AAAAAwzMiPwAAAADDMyI/AAAAAAAAgD8AAAAAcvUpPwAAAABy9Sk/AAAAAMMzIj8AAAAAAACAPwAAAAAAAIA/AAAAAKT6ID8AAAAAwzMiPwAAAADDMyI/AAAAAKT6ID8AAAAApPogPwAAAACk+iA/AAAAAArXIz8AAAAAoMDnPgAAAACgwOc+AAAAABHZrz4AAAAApPogPwAAAACk+iA/AAAAAOxRuD4AAAAAfNcePgAAAAB81x4+AAAAAArXIz4AAAAAEdmvPgAAAAAR2a8+AAAAAPBIgD4AAAAAfNcePgAAAAB81x4+AAAAAArXIz0AAAAACtcjPQAAAAAK1yM9AAAAAP4eGz0AAAAAfQcNPwAAAAB9Bw0/AAAAAAAAgD8AAAAAfQcNPwAAAAB9Bw0/AAAAADftNz8AAAAAfNcePgAAAAB81x4+AAAAAP4eGz0AAAAArZ0CPgAAAACtnQI+AAAAAOWNBD0AAAAAvEMYPgAAAAC8Qxg+AAAAANSfDD0AAAAAvEMYPgAAAAC8Qxg+AAAAAK2dAj4AAAAAoMDnPgAAAACgwOc+AAAAAH0HDT8AAAAAoMDnPgAAAACgwOc+AAAAADftNz8AAAAA5Y0EPQAAAADljQQ9AAAAAKp5AT4AAAAArZ0CPgAAAACtnQI+AAAAAKp5AT4AAAAARFKzPgAAAABEUrM+AAAAAKT6ID8AAAAApPogPwAAAACk+iA/AAAAAERSsz4AAAAAEdmvPgAAAAAR2a8+AAAAAERSsz4AAAAAoMDnPgAAAACgwOc+AAAAAHL1KT8AAAAARFKzPgAAAABEUrM+AAAAAHzXHj4AAAAAfNcePgAAAAB81x4+AAAAALxDGD4AAAAARFKzPgAAAABEUrM+AAAAALxDGD4AAAAA8EiAPgAAAADwSIA+AAAAALxymD4AAAAArZ0CPgAAAACtnQI+AAAAAPBIgD4AAAAA8EiAPgAAAADwSIA+AAAAAKDA5z4AAAAAvEMYPgAAAAC8Qxg+AAAAABHZrz4AAAAARFKzPgAAAABEUrM+AAAAABHZrz4AAAAA",
         "AAAYJAAAAABVVYckAAAAAFVKTSQAAAAAq6oeJAAAAACrquojAAAAALgBGCEAAAAAq6oqogAAAABVVXWjAAAAAITseaQAAAAAq6rqIwAAAADnsRM9AAAAAKuqKqIAAAAAVVXlIwAAAACrqv4jAAAAALmY1yIAAAAAVVV1owAAAACahwg9AAAAAFVV5SMAAAAAVVWhIwAAAAAAAMAkAAAAAAAAFCUAAAAAq6r+IwAAAACHXhM9AAAAAKuqvyQAAAAAxWysPgAAAAAAMpY+AAAAAMrfyT4AAAAAyaWRPQAAAADJpRE+AAAAAArXoz0AAAAAnnz0PgAAAAC71+4+AAAAAAIJJj8AAAAAIYFfPgAAAADZoKc+AAAAAI/CdT4AAAAAyaURPgAAAADhr0Y+AAAAACGBXz4AAAAA0gLkPgAAAADhARg/AAAAAI/C9T4AAAAA2aCnPgAAAADdXM8+AAAAANIC5D4AAAAAzcxMPwAAAADNzEw/AAAAAAAAgD8AAAAAxf1YPwAAAADF/Vg/AAAAAAAAgD8AAAAA1JZQPwAAAADUllA/AAAAAAAAgD8AAAAAxf1YPwAAAAAIzjA/AAAAANSWUD8AAAAAGMZLPwAAAAAYxks/AAAAAAAAgD8AAAAA1JZQPwAAAAACCSY/AAAAABjGSz8AAAAAAACAPwAAAAAJAUs/AAAAAAkBSz8AAAAAGMZLPwAAAADnliE/AAAAAAkBSz8AAAAACQFLPwAAAAA6ZyI/AAAAAM3MTD8AAAAAAVYMPwAAAADK38k+AAAAAJ589D4AAAAAOmciPwAAAADXmvM+AAAAAI/C9T4AAAAAdvtxPgAAAABPUiE+AAAAAI/CdT4AAAAAUVRWPgAAAAAAMpY+AAAAACgQNz4AAAAAT1IhPgAAAABPUqE9AAAAAArXoz0AAAAAVVWHJAAAAADCax89AAAAAKuqHiQAAAAA4QEYPwAAAABaAj4/AAAAAM3MTD8AAAAAWgI+PwAAAABWDiE/AAAAAMX9WD8AAAAAT1KhPQAAAABq+Jw9AAAAAMJrHz0AAAAAHIeHPQAAAADflIM9AAAAAJqHCD0AAAAAqq+ZPQAAAAApVJI9AAAAAOexEz0AAAAAKVSSPQAAAACEBg0+AAAAAByHhz0AAAAAofa7PgAAAADSq/8+AAAAAN1czz4AAAAA0qv/PgAAAAAg/RE/AAAAAFYOIT8AAAAAh14TPQAAAAB3AYM9AAAAAMmlkT0AAAAA35SDPQAAAABZCwI+AAAAAHcBgz0AAAAApjDxPgAAAABoR/A+AAAAAOeWIT8AAAAA15rzPgAAAABoR/A+AAAAALLNtT4AAAAAu9fuPgAAAAB+k7E+AAAAAKYw8T4AAAAAIP0RPwAAAAABVgw/AAAAAAjOMD8AAAAAss21PgAAAACyrW4+AAAAAHb7cT4AAAAAavicPQAAAAC1hBs+AAAAAKqvmT0AAAAAsq1uPgAAAABOr2k+AAAAALWEGz4AAAAAE0M2PgAAAAB72Is+AAAAAOGvRj4AAAAAWQsCPgAAAAAoEDc+AAAAABNDNj4AAAAAe9iLPgAAAADFbKw+AAAAAKH2uz4AAAAAhAYNPgAAAAAXaWc+AAAAAFFUVj4AAAAATq9pPgAAAAB+k7E+AAAAABdpZz4AAAAA",
         "AAAQpAAAAABVVR2kAAAAAAAAEKQAAAAAVVUdpAAAAACrqiqiAAAAAFVVHaQAAAAAq6oqogAAAABVVdUiAAAAAKuqKqIAAAAAq6oqogAAAADUnww9AAAAAKuqKqIAAAAAVVXVIgAAAABVVf2jAAAAAFVV1SIAAAAAVVXVIgAAAADljQQ9AAAAAFVV1SIAAAAAAADAowAAAAAK1yM9AAAAAAAAwKMAAAAAVVX9owAAAAAK1yM9AAAAAFVV/aMAAAAAoMDnPgAAAAAR2a8+AAAAAKDA5z4AAAAACtcjPQAAAAAK1yM+AAAAAArXIz0AAAAAcvUpPwAAAADDMyI/AAAAAHL1KT8AAAAACtcjPgAAAADsUbg+AAAAAArXIz4AAAAACtcjPgAAAAC8cpg+AAAAAArXIz4AAAAA7FG4PgAAAAAK1yM/AAAAAOxRuD4AAAAA7FG4PgAAAAB9Bw0/AAAAAOxRuD4AAAAAAACAPwAAAAAAAIA/AAAAAAAAgD8AAAAAAACAPwAAAAAAAIA/AAAAAAAAgD8AAAAAAACAPwAAAAAAAIA/AAAAAAAAgD8AAAAAAACAPwAAAABy9Sk/AAAAAAAAgD8AAAAAAACAPwAAAAAAAIA/AAAAAAAAgD8AAAAAAACAPwAAAADDMyI/AAAAAAAAgD8AAAAAAACAPwAAAACk+iA/AAAAAAAAgD8AAAAAAACAPwAAAACk+iA/AAAAAAAAgD8AAAAAAACAPwAAAAAK1yM/AAAAAAAAgD8AAAAAcvUpPwAAAAAR2a8+AAAAAHL1KT8AAAAACtcjPwAAAADsUbg+AAAAAArXIz8AAAAA7FG4PgAAAAAK1yM+AAAAAOxRuD4AAAAArZ0CPgAAAADwSIA+AAAAAK2dAj4AAAAACtcjPgAAAAAK1yM9AAAAAArXIz4AAAAAVVUdpAAAAAD+Hhs9AAAAAFVVHaQAAAAACtcjPwAAAAAAAIA/AAAAAArXIz8AAAAAAACAPwAAAAA37Tc/AAAAAAAAgD8AAAAACtcjPQAAAAD+Hhs9AAAAAArXIz0AAAAA1J8MPQAAAADljQQ9AAAAANSfDD0AAAAA/h4bPQAAAADUnww9AAAAAP4eGz0AAAAA1J8MPQAAAACtnQI+AAAAANSfDD0AAAAAvHKYPgAAAAB9Bw0/AAAAALxymD4AAAAAfQcNPwAAAAA37Tc/AAAAAH0HDT8AAAAACtcjPQAAAACqeQE+AAAAAArXIz0AAAAA5Y0EPQAAAACqeQE+AAAAAOWNBD0AAAAAwzMiPwAAAACk+iA/AAAAAMMzIj8AAAAA7FG4PgAAAABEUrM+AAAAAOxRuD4AAAAAwzMiPwAAAABEUrM+AAAAAMMzIj8AAAAAN+03PwAAAABy9Sk/AAAAADftNz8AAAAA7FG4PgAAAAB81x4+AAAAAOxRuD4AAAAA/h4bPQAAAAC8Qxg+AAAAAP4eGz0AAAAAfNcePgAAAAC8Qxg+AAAAAHzXHj4AAAAAqnkBPgAAAAC8cpg+AAAAAKp5AT4AAAAAqnkBPgAAAADwSIA+AAAAAKp5AT4AAAAAvHKYPgAAAACgwOc+AAAAALxymD4AAAAArZ0CPgAAAAAR2a8+AAAAAK2dAj4AAAAAvEMYPgAAAAAR2a8+AAAAALxDGD4AAAAA"
        ],
        "Bezier_trig_points": [
         "AAAAAM3MTD4AAAAAAACwoimOij6zRkc+AAAAACb7lT1I2Pk+eLw9PgAAAABy1nM+KY6KPrNGRz4AAAAAJvuVPf2pNT8oNjg+AAAAANDpAD9I2Pk+eLw9PgAAAABy1nM+zcxMPwAAAAAAAAAACtcjP/2pNT8oNjg+AAAAANDpAD9+fCs/cyQAPwAAAAAZv+U+2klMPzwPtj4AAAAAyQUjPx0/9T5IBxY/AAAAAN3xaj5RLVU/tbALPwAAAABxhDE/2klMPzwPtj4AAAAAyQUjP73NVj9aAj4/AAAAAJ08ND9RLVU/tbALPwAAAABxhDE/AACAP83MTD8AAAAAAACAP55cMD/F/Vg/AAAAAPX+8j4XSgU/1JZQPwAAAAAkzIo+nlwwP8X9WD8AAAAA9f7yPp3Uqz4Yxks/AAAAAHSr5j0XSgU/1JZQPwAAAAAkzIo+zcxMPgAAgD8AAAAACtcjPZ3Uqz4Yxks/AAAAAHSr5j0B7hs+CQFLPwAAAAAl9L08xyArP7o7LD8AAAAAnMnkPgHuGz4JAUs/AAAAACX0vTxUPi0+4qbJPgAAAACaeuo8HT/1PkgHFj8AAAAA3fFqPlQ+LT7ipsk+AAAAAJp66jwAAAAAzcxMPgAAAAAAALCivc1WP1oCPj8AAAAAnTw0P73NVj9aAj4/AAAAAJ08ND9UPi0+4qbJPgAAAACaeuo8jKkUPxbctj4AAAAA9aisPusVwD7QbsU+AAAAAOIgED7rFcA+0G7FPgAAAADiIBA+xyArP7o7LD8AAAAAnMnkPscgKz+6Oyw/AAAAAJzJ5D79qTU/KDY4PgAAAADQ6QA/jKkUPxbctj4AAAAA9aisPsIHgT6/gBc/AAAAAKMRgj0B7hs+CQFLPwAAAAAl9L08HT/1PkgHFj8AAAAA3fFqPscgKz+6Oyw/AAAAAJzJ5D7CB4E+v4AXPwAAAACjEYI9VD4tPuKmyT4AAAAAmnrqPMIHgT6/gBc/AAAAAKMRgj1+fCs/cyQAPwAAAAAZv+U+jKkUPxbctj4AAAAA9aisPn58Kz9zJAA/AAAAABm/5T7rFcA+0G7FPgAAAADiIBA+wgeBPr+AFz8AAAAAoxGCPQ==",
         "AAAAAM3MzD0AAAAAAAAFJI/0cD6zRsc9AAAAAEKwXT2KUuM+eLy9PQAAAAA54Ec+e62rPrNGxz0AAAAAQrDdPcuhJz8oNrg9AAAAAC//2T7fQgs/eLy9PQAAAAAr6JU+ZmZmPwAAAAAAAAAAzcxMP2U7QT8oNrg9AAAAAMpUET+iTis/FjAWPwAAAAA6ROU+7SRmP9E6jj4AAAAA2klMP6bp/z4OTzM/AAAAAIphfz6olmo/GxfyPgAAAABRLVU/7SRmPwRuwT4AAAAA2klMP95maz/6zSs/AAAAAL3NVj+olmo/J6USPwAAAABRLVU/AACAP2ZmZj8AAAAAAACAP7WUPj/ifmw/AAAAAOUWDT/ZcQ8/aktoPwAAAACD8p8+HPskP+J+bD8AAAAAV6LTPrVQvD4M42U/AAAAAOR2CT5+sOs+aktoPwAAAABZQ1U+zczMPQAAgD8AAAAAAAAHJIIdiT4M42U/AAAAAOR2iT0B7ps9hIBlPwAAAAAAAK4jbzUYP0dpPj8AAAAAHTOyPgHumz3r5ks/AAAAAAAA16NUPq09C23+PgAAAAAAAMoijaQHP1N18T4AAAAA6mqOPlQ+rT3XOcs+AAAAAAAAByTNzMw9zczMPQAAAAAAAAAl3mZrP5NnRT8AAAAAvc1WP0XNUT8tAV8/AAAAAMrXKz9UPq09pAaYPgAAAAAAACsk2MoIPyndij4AAAAAghaRPgpSpT4ViZQ+AAAAAPfszz0Z99w+hiaSPgAAAACadzs+DCdAPzf2Gz8AAAAAkYAOP0L3QD8KHzU/AAAAAO6WDz/+1Fo/e4FCPgAAAAD9qTU/xCklP5V7iT4AAAAALv3SPi9ulj5rozE/AAAAALA2rT0B7ps9UU0yPwAAAAAAAAUj3YnQPrDmMD8AAAAA15wkPrO+LT+/nEI/AAAAAOTI6z7CBwE+LI0YPwAAAAAAQBkkUy1hPh6llj4AAAAAnIc7PeymVz4wVPw+AAAAAFCjLj0s4zs/ESzbPgAAAACt2Ag/s3kwP6l1tj4AAAAA/kPtPudUQD+U6gU/AAAAAPDMDj+CtPQ+cyW+PgAAAADHF18+1o6gPic4+j4AAAAAu6HBPQ==",
         "AAAAAAAAAAAAAAAAAADAo83MTD4AAAAAAAAAAArXIz3NzMw+AAAAAAAAAAAK1yM+zczMPgAAAAAAAAAACtcjPpqZGT8AAAAAAAAAAOxRuD6amRk/AAAAAAAAAADsUbg+AACAPwAAAAAAAAAAAACAP83MTD8AAAAAAAAAAArXIz/HICs/ujssPwAAAACcyeQ+AACAP83MTD4AAAAAAACAPxdKBT/UllA/AAAAACTMij4AAIA/zczMPgAAAAAAAIA/AACAP83MzD4AAAAAAACAPwAAgD+amRk/AAAAAAAAgD8AAIA/mpkZPwAAAAAAAIA/AACAPwAAgD8AAAAAAACAP83MTD8AAIA/AAAAAArXIz+amRk/AACAPwAAAADsUbg+mpkZPwAAgD8AAAAA7FG4Ps3MzD4AAIA/AAAAAArXIz7NzMw+AACAPwAAAAAK1yM+AAAAAAAAgD8AAAAAAABgos3MTD4AAIA/AAAAAArXIz0AAAAAAACAPwAAAAAAAGCiF0oFP9SWUD8AAAAAJMyKPgAAAADNzEw/AAAAAAAAHCMAAAAAmpkZPwAAAAAAAEqjjKkUPxbctj4AAAAA9aisPgAAAADNzMw+AAAAAAAAYKLNzEw+AAAAAAAAAAAK1yM9AACAP83MTD8AAAAAAACAP83MTD8AAIA/AAAAAArXIz8AAAAAzcxMPgAAAAAAALCiSNj5Pni8PT4AAAAActZzPimOij6zRkc+AAAAACb7lT1I2Pk+eLw9PgAAAABy1nM+US1VP7WwCz8AAAAAcYQxP73NVj9aAj4/AAAAAJ08ND8AAIA/zcxMPgAAAAAAAIA//ak1Pyg2OD4AAAAA0OkAP53Uqz4Yxks/AAAAAHSr5j0AAAAAmpkZPwAAAAAAAEqjndSrPhjGSz8AAAAAdKvmPZ5cMD/F/Vg/AAAAAPX+8j4AAAAAmpkZPwAAAAAAAEqjKY6KPrNGRz4AAAAAJvuVPVQ+LT7ipsk+AAAAAJp66jzaSUw/PA+2PgAAAADJBSM/2klMPzwPtj4AAAAAyQUjP1EtVT+1sAs/AAAAAHGEMT+MqRQ/Fty2PgAAAAD1qKw+6xXAPtBuxT4AAAAA4iAQPg==",
         "zczMPc3MzD0AAAAAAAAAJXutqz6zRsc9AAAAAEKw3T3fQgs/eLy9PQAAAAAr6JU+ODPCPpWBQj4AAAAAVTkHPmU7QT8oNrg9AAAAAMpUET8QSxk/UPk6PgAAAADRS7E+ZmZmP83MzD0AAAAAzcxMP/7UWj97gUI+AAAAAP2pNT8GDhM/3RULPwAAAABsSKQ+7SRmPwRuwT4AAAAA2klMP92J0D6w5jA/AAAAANecJD6olmo/J6USPwAAAABRLVU/lrtQP1K45j4AAAAAnB0qP95maz+TZ0U/AAAAAL3NVj+H/VU/h9kkPwAAAAA03zI/ZmZmP2ZmZj8AAAAAzcxMPxz7JD/ifmw/AAAAAFei0z5+sOs+aktoPwAAAABZQ1U+W9MaP0zKVD8AAAAAUqa3PoIdiT4M42U/AAAAAOR2iT1mNNs+di5OPwAAAABh7jI+Z100PoSAZT8AAAAAz3z5PJ3LeT6QY0s/AAAAAPdSUT0B7ps96+ZLPwAAAAAAANejK+ASP4EhIT8AAAAAj/CjPgHumz1RTTI/AAAAAAAABSNUPq091znLPgAAAAAAAAckBg4TP90VCz8AAAAAbEikPlQ+rT2kBpg+AAAAAAAAKyQpjgo+wAlKPgAAAAAAAOCkRc1RPy0BXz8AAAAAytcrPy2VQz8PgEs/AAAAACj7Ez9TLWE+HqWWPgAAAACchzs9xCklP5V7iT4AAAAALv3SPhn33D6GJpI+AAAAAJp3Oz6CtPQ+cyW+PgAAAADHF18+QvdAPwofNT8AAAAA7pYPP7O+LT+/nEI/AAAAAOTI6z7r+UA/KBWJPgAAAADe9xA/s3kwP6l1tj4AAAAA/kPtPsL+Tj7kQDE/AAAAAFAvHT3C/k4+5EAxPwAAAABQLx09byO7PgPEFj8AAAAAeDj3PW81GD9HaT4/AAAAAB0zsj7splc+MFT8PgAAAABQoy49i1qLPtmKxz4AAAAAlP2BPdaOoD4nOPo+AAAAALuhwT3nVEA/lOoFPwAAAADwzA4/BRMgP36S2z4AAAAAGCvHPqJOKz8WMBY/AAAAADpE5T6Eqto+sL74PgAAAABVBDg+byO7PgPEFj8AAAAAeDj3PQ==",
         "zczMPQAAAAAAAAAAAADwJJqZmT4AAAAAAAAAAArXoz0AAAA/AAAAAAAAAACPwnU+ilLjPni8vT0AAAAAOeBHPjMzMz8AAAAAAAAAAI/C9T7LoSc/KDa4PQAAAAAv/9k+AACAP83MzD0AAAAAAACAP2ZmZj/NzMw9AAAAAM3MTD8r4BI/gSEhPwAAAACP8KM+AACAP5qZmT4AAAAAAACAP2Y02z52Lk4/AAAAAGHuMj4AAIA/AAAAPwAAAAAAAIA/qJZqPxsX8j4AAAAAUS1VPwAAgD8zMzM/AAAAAAAAgD/eZms/+s0rPwAAAAC9zVY/ZmZmPwAAgD8AAAAAzcxMPzMzMz8AAIA/AAAAAI/C9T4AAAA/AACAPwAAAACPwnU+2XEPP2pLaD8AAAAAg/KfPpqZmT4AAIA/AAAAAArXoz21ULw+DONlPwAAAADkdgk+Ae6bPYSAZT8AAAAAAACwI2ddND6EgGU/AAAAAM98+TwAAAAAZmZmPwAAAAAwVYmjpun/Pg5PMz8AAAAAimF/PgAAAAAzMzM/AAAAAEl/DSMAAAAAAAAAPwAAAACQgl6jBRMgP36S2z4AAAAAGCvHPgAAAACamZk+AAAAACxcMSOP9HA+s0bHPQAAAABCsF09ZmZmP2ZmZj8AAAAAzcxMP7WUPj/ifmw/AAAAAOUWDT8pjgo+wAlKPgAAAAAAAOCkEEsZP1D5Oj4AAAAA0UuxPjgzwj6VgUI+AAAAAFU5Bz7Yygg/Kd2KPgAAAACCFpE+h/1VP4fZJD8AAAAANN8yPy2VQz8PgEs/AAAAACj7Ez/tJGY/0TqOPgAAAADaSUw/6/lAPygViT4AAAAA3vcQP53LeT6QY0s/AAAAAPdSUT3CBwE+LI0YPwAAAAAAACAkL26WPmujMT8AAAAAsDatPVvTGj9MylQ/AAAAAFKmtz5UPq09C23+PgAAAAAAAMAiClKlPhWJlD4AAAAA9+zPPYtaiz7Zisc+AAAAAJT9gT2Wu1A/UrjmPgAAAACcHSo/LOM7PxEs2z4AAAAArdgIPwwnQD839hs/AAAAAJGADj+NpAc/U3XxPgAAAADqao4+hKraPrC++D4AAAAAVQQ4Pg==",
         "zcxMPgAAAAAAAAAACtcjPc3MzD4AAAAAAAAAAArXIz6amRk/AAAAAAAAAADsUbg+SNj5Pni8PT4AAAAActZzPs3MTD8AAAAAAAAAAArXIz/9qTU/KDY4PgAAAADQ6QA/AACAP83MTD4AAAAAAACAPwAAgD/NzEw+AAAAAAAAgD8dP/U+SAcWPwAAAADd8Wo+AACAP83MzD4AAAAAAACAP53Uqz4Yxks/AAAAAHSr5j0AAIA/mpkZPwAAAAAAAIA/US1VP7WwCz8AAAAAcYQxPwAAgD/NzEw/AAAAAAAAgD+9zVY/WgI+PwAAAACdPDQ/zcxMPwAAgD8AAAAACtcjP5qZGT8AAIA/AAAAAOxRuD7NzMw+AACAPwAAAAAK1yM+F0oFP9SWUD8AAAAAJMyKPs3MTD4AAIA/AAAAAArXIz2d1Ks+GMZLPwAAAAB0q+Y9Ae4bPgkBSz8AAAAAJfS9PAHuGz4JAUs/AAAAACX0vTwAAAAAzcxMPwAAAAAAABwjHT/1PkgHFj8AAAAA3fFqPgAAAACamRk/AAAAAAAASqMAAAAAzczMPgAAAAAAAGCifnwrP3MkAD8AAAAAGb/lPgAAAADNzEw+AAAAAAAAsKIpjoo+s0ZHPgAAAAAm+5U9zcxMPwAAgD8AAAAACtcjP55cMD/F/Vg/AAAAAPX+8j4pjoo+s0ZHPgAAAAAm+5U9/ak1Pyg2OD4AAAAA0OkAP0jY+T54vD0+AAAAAHLWcz6MqRQ/Fty2PgAAAAD1qKw+vc1WP1oCPj8AAAAAnTw0P55cMD/F/Vg/AAAAAPX+8j7aSUw/PA+2PgAAAADJBSM/2klMPzwPtj4AAAAAyQUjPwHuGz4JAUs/AAAAACX0vTzCB4E+v4AXPwAAAACjEYI9wgeBPr+AFz8AAAAAoxGCPRdKBT/UllA/AAAAACTMij5UPi0+4qbJPgAAAACaeuo86xXAPtBuxT4AAAAA4iAQPusVwD7QbsU+AAAAAOIgED5RLVU/tbALPwAAAABxhDE/fnwrP3MkAD8AAAAAGb/lPscgKz+6Oyw/AAAAAJzJ5D4dP/U+SAcWPwAAAADd8Wo+HT/1PkgHFj8AAAAA3fFqPg==",
         "CtcjPQAAAAAAABgkAAAAAP4eGz0AAAAAq6oeJAAAAADUnww9AAAAAKuqKqIAAAAA/h4bPQAAAACrquojAAAAAOWNBD0AAAAAVVXlIwAAAADUnww9AAAAAFVVdaMAAAAAVVX9owAAAABVVaEjAAAAAOWNBD0AAAAAq6r+IwAAAADwSIA+AAAAAMVsrD4AAAAAqnkBPgAAAADJpZE9AAAAABHZrz4AAAAAnnz0PgAAAAC8cpg+AAAAACGBXz4AAAAAqnkBPgAAAADJpRE+AAAAAH0HDT8AAAAA0gLkPgAAAAC8cpg+AAAAANmgpz4AAAAACtcjPwAAAADNzEw/AAAAADftNz8AAAAAxf1YPwAAAABy9Sk/AAAAANSWUD8AAAAAN+03PwAAAADF/Vg/AAAAAMMzIj8AAAAAGMZLPwAAAABy9Sk/AAAAANSWUD8AAAAAAACAPwAAAAAAAIA/AAAAAMMzIj8AAAAAGMZLPwAAAACk+iA/AAAAAAkBSz8AAAAAoMDnPgAAAAABVgw/AAAAAKT6ID8AAAAAOmciPwAAAAB81x4+AAAAAHb7cT4AAAAAEdmvPgAAAABRVFY+AAAAAHzXHj4AAAAAT1IhPgAAAAAK1yM9AAAAAFVVhyQAAAAAfQcNPwAAAADhARg/AAAAAH0HDT8AAAAAWgI+PwAAAAB81x4+AAAAAE9SoT0AAAAArZ0CPgAAAAAch4c9AAAAALxDGD4AAAAAqq+ZPQAAAAC8Qxg+AAAAAClUkj0AAAAAoMDnPgAAAACh9rs+AAAAAKDA5z4AAAAA0qv/PgAAAADljQQ9AAAAAIdeEz0AAAAArZ0CPgAAAADflIM9AAAAAERSsz4AAAAApjDxPgAAAACk+iA/AAAAANea8z4AAAAAEdmvPgAAAAC71+4+AAAAAKDA5z4AAAAAIP0RPwAAAABEUrM+AAAAALLNtT4AAAAAfNcePgAAAABq+Jw9AAAAAERSsz4AAAAAsq1uPgAAAADwSIA+AAAAABNDNj4AAAAArZ0CPgAAAABZCwI+AAAAAPBIgD4AAAAAe9iLPgAAAAC8Qxg+AAAAAIQGDT4AAAAARFKzPgAAAABOr2k+AAAAAA==",
         "AAAQpAAAAABVVYckAAAAAFVVHaQAAAAAq6rqIwAAAACrqiqiAAAAAFVVdaMAAAAAq6oqogAAAADnsRM9AAAAAFVV1SIAAAAAq6r+IwAAAABVVdUiAAAAAJqHCD0AAAAAAADAowAAAAAAAMAkAAAAAFVV/aMAAAAAh14TPQAAAACgwOc+AAAAAAAylj4AAAAACtcjPQAAAADJpRE+AAAAAHL1KT8AAAAAu9fuPgAAAAAK1yM+AAAAANmgpz4AAAAACtcjPgAAAADhr0Y+AAAAAOxRuD4AAAAA4QEYPwAAAADsUbg+AAAAAN1czz4AAAAAAACAPwAAAADNzEw/AAAAAAAAgD8AAAAAxf1YPwAAAAAAAIA/AAAAANSWUD8AAAAAAACAPwAAAAAIzjA/AAAAAAAAgD8AAAAAGMZLPwAAAAAAAIA/AAAAAAIJJj8AAAAAAACAPwAAAAAJAUs/AAAAAAAAgD8AAAAA55YhPwAAAAAAAIA/AAAAADpnIj8AAAAAcvUpPwAAAADK38k+AAAAAArXIz8AAAAA15rzPgAAAADsUbg+AAAAAE9SIT4AAAAArZ0CPgAAAAAAMpY+AAAAAArXIz4AAAAAT1KhPQAAAABVVR2kAAAAAMJrHz0AAAAACtcjPwAAAABaAj4/AAAAAAAAgD8AAAAAVg4hPwAAAAAK1yM9AAAAAGr4nD0AAAAA1J8MPQAAAADflIM9AAAAAP4eGz0AAAAAKVSSPQAAAADUnww9AAAAAIQGDT4AAAAAvHKYPgAAAADSq/8+AAAAAH0HDT8AAAAAIP0RPwAAAAAK1yM9AAAAAHcBgz0AAAAA5Y0EPQAAAABZCwI+AAAAAMMzIj8AAAAAaEfwPgAAAADsUbg+AAAAAGhH8D4AAAAAwzMiPwAAAAB+k7E+AAAAADftNz8AAAAAAVYMPwAAAADsUbg+AAAAALKtbj4AAAAA/h4bPQAAAAC1hBs+AAAAAHzXHj4AAAAATq9pPgAAAACqeQE+AAAAAHvYiz4AAAAAqnkBPgAAAAAoEDc+AAAAALxymD4AAAAAxWysPgAAAACtnQI+AAAAABdpZz4AAAAAvEMYPgAAAAB+k7E+AAAAAA==",
         "VUpNJAAAAABVVR2kAAAAALgBGCEAAAAAq6oqogAAAACE7HmkAAAAAFVV1SIAAAAAAACAogAAAADUnww9AAAAALmY1yIAAAAAVVX9owAAAAAAAOAjAAAAAOWNBD0AAAAAAAAUJQAAAAAK1yM9AAAAAAAAwCQAAAAACtcjPQAAAADK38k+AAAAABHZrz4AAAAACtejPQAAAAAK1yM+AAAAAAIJJj8AAAAAwzMiPwAAAACPwnU+AAAAAOxRuD4AAAAAIYFfPgAAAAC8cpg+AAAAAI/C9T4AAAAACtcjPwAAAADSAuQ+AAAAAH0HDT8AAAAAAACAPwAAAAAAAIA/AAAAAAAAgD8AAAAAAACAPwAAAAAAAIA/AAAAAAAAgD8AAAAA1JZQPwAAAABy9Sk/AAAAAAAAgD8AAAAAAACAPwAAAAAYxks/AAAAAMMzIj8AAAAACQFLPwAAAACk+iA/AAAAAAkBSz8AAAAApPogPwAAAADNzEw/AAAAAArXIz8AAAAAnnz0PgAAAAAR2a8+AAAAAI/C9T4AAAAA7FG4PgAAAACPwnU+AAAAAArXIz4AAAAAKBA3PgAAAADwSIA+AAAAAArXoz0AAAAACtcjPQAAAAAAACAkAAAAAP4eGz0AAAAAzcxMPwAAAAAAAIA/AAAAAMX9WD8AAAAAN+03PwAAAADCax89AAAAAP4eGz0AAAAAmocIPQAAAADljQQ9AAAAAOexEz0AAAAA1J8MPQAAAAAch4c9AAAAAK2dAj4AAAAA3VzPPgAAAAB9Bw0/AAAAAFYOIT8AAAAAN+03PwAAAADJpZE9AAAAAKp5AT4AAAAAdwGDPQAAAACqeQE+AAAAAOeWIT8AAAAApPogPwAAAACyzbU+AAAAAERSsz4AAAAApjDxPgAAAABEUrM+AAAAAAjOMD8AAAAAcvUpPwAAAAB2+3E+AAAAAHzXHj4AAAAAqq+ZPQAAAAC8Qxg+AAAAALWEGz4AAAAAvEMYPgAAAADhr0Y+AAAAALxymD4AAAAAE0M2PgAAAADwSIA+AAAAAKH2uz4AAAAAoMDnPgAAAABRVFY+AAAAABHZrz4AAAAAF2lnPgAAAAAR2a8+AAAAAA=="
        ],
        "autoscale": true,
        "deformation": false,
        "draw_surf": true,
        "draw_vol": false,
        "edges": [
         "zcxMPgAAAAAAAAAAAAAAAM3MzD4AAAAAAAAAAAAAAACamRk/AAAAAAAAAAAAAAAAzcxMPwAAAAAAAAAAAAAAAAAAgD8AAAAAAAAAAAAAAAAAAIA/zcxMPgAAAAAAAAAAAACAP83MzD4AAAAAAAAAAAAAgD+amRk/AAAAAAAAAAAAAIA/zcxMPwAAAAAAAAAAAACAPwAAgD8AAAAAAAAAAM3MTD8AAIA/AAAAAAAAAACamRk/AACAPwAAAAAAAAAAzczMPgAAgD8AAAAAAAAAAM3MTD4AAIA/AAAAAAAAAAAAAAAAAACAPwAAAAAAAAAAAAAAAM3MTD8AAAAAAAAAAAAAAACamRk/AAAAAAAAAAAAAAAAzczMPgAAAAAAAAAAAAAAAM3MTD4AAAAAAAAAAAAAAAAAAAAAAAAAAAAAAAA=",
         "zczMPQAAAAAAAAAAAAAAAJqZmT4AAAAAAAAAAAAAAAAAAAA/AAAAAAAAAAAAAAAAMzMzPwAAAAAAAAAAAAAAAGZmZj8AAAAAAAAAAAAAAAAAAIA/zczMPQAAAAAAAAAAAACAP5qZmT4AAAAAAAAAAAAAgD8AAAA/AAAAAAAAAAAAAIA/MzMzPwAAAAAAAAAAAACAP2ZmZj8AAAAAAAAAAGZmZj8AAIA/AAAAAAAAAAAzMzM/AACAPwAAAAAAAAAAAAAAPwAAgD8AAAAAAAAAAJqZmT4AAIA/AAAAAAAAAADNzMw9AACAPwAAAAAAAAAAAAAAAGZmZj8AAAAAAAAAAAAAAAAzMzM/AAAAAAAAAAAAAAAAAAAAPwAAAAAAAAAAAAAAAJqZmT4AAAAAAAAAAAAAAADNzMw9AAAAAAAAAAA=",
         "AAAAAAAAAAAAAAAAAAAAAM3MTD4AAAAAAAAAAAAAAADNzMw+AAAAAAAAAAAAAAAAmpkZPwAAAAAAAAAAAAAAAM3MTD8AAAAAAAAAAAAAAAAAAIA/AAAAAAAAAAAAAAAAAACAP83MTD4AAAAAAAAAAAAAgD/NzMw+AAAAAAAAAAAAAIA/mpkZPwAAAAAAAAAAAACAP83MTD8AAAAAAAAAAAAAgD8AAIA/AAAAAAAAAADNzEw/AACAPwAAAAAAAAAAmpkZPwAAgD8AAAAAAAAAAM3MzD4AAIA/AAAAAAAAAADNzEw+AACAPwAAAAAAAAAAAAAAAAAAgD8AAAAAAAAAAAAAAADNzEw/AAAAAAAAAAAAAAAAmpkZPwAAAAAAAAAAAAAAAM3MzD4AAAAAAAAAAAAAAADNzEw+AAAAAAAAAAA="
        ],
        "fullscreen": false,
        "funcdim": 2,
        "funcmax": 1.0000000000000027,
        "funcmin": -3.41162283608772e-17,
        "gui_settings": {},
        "mesh_center": [
         0.5,
         0.5,
         1.1125369292536007e-308
        ],
        "mesh_dim": 2,
        "mesh_radius": 0.7071067811865476,
        "ngsolve_version": "6.2.2304",
        "objects": [],
        "order2d": 2,
        "order3d": 2,
        "show_mesh": true,
        "show_wireframe": true
       }
      }
     },
     "d44729e6279f416e90f462978bd7fb5b": {
      "model_module": "@jupyter-widgets/base",
      "model_module_version": "2.0.0",
      "model_name": "LayoutModel",
      "state": {
       "_model_module": "@jupyter-widgets/base",
       "_model_module_version": "2.0.0",
       "_model_name": "LayoutModel",
       "_view_count": null,
       "_view_module": "@jupyter-widgets/base",
       "_view_module_version": "2.0.0",
       "_view_name": "LayoutView",
       "align_content": null,
       "align_items": null,
       "align_self": null,
       "border_bottom": null,
       "border_left": null,
       "border_right": null,
       "border_top": null,
       "bottom": null,
       "display": null,
       "flex": null,
       "flex_flow": null,
       "grid_area": null,
       "grid_auto_columns": null,
       "grid_auto_flow": null,
       "grid_auto_rows": null,
       "grid_column": null,
       "grid_gap": null,
       "grid_row": null,
       "grid_template_areas": null,
       "grid_template_columns": null,
       "grid_template_rows": null,
       "height": "50vh",
       "justify_content": null,
       "justify_items": null,
       "left": null,
       "margin": null,
       "max_height": null,
       "max_width": null,
       "min_height": null,
       "min_width": null,
       "object_fit": null,
       "object_position": null,
       "order": null,
       "overflow": null,
       "padding": null,
       "right": null,
       "top": null,
       "visibility": null,
       "width": "100%"
      }
     },
     "db1bd8ae2e20451897ce0dc59755d55a": {
      "model_module": "webgui_jupyter_widgets",
      "model_module_version": "0.2.14",
      "model_name": "WebguiModel",
      "state": {
       "_dom_classes": [],
       "_model_module": "webgui_jupyter_widgets",
       "_model_module_version": "0.2.14",
       "_model_name": "WebguiModel",
       "_view_count": null,
       "_view_module": "webgui_jupyter_widgets",
       "_view_module_version": "0.2.14",
       "_view_name": "WebguiView",
       "layout": "IPY_MODEL_d44729e6279f416e90f462978bd7fb5b",
       "tabbable": null,
       "tooltip": null,
       "value": {
        "Bezier_points": [
         "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",
         "AAAAAM3MTD0AAAAA/+qjts3MTD3NzEw9AAAAAPk9DzzNzEw9AAAAAAAAAACa56O2hD/dPYWIaD0AAAAAMfcaPPXSIT6FiGg9AAAAAFNtbDyamRk+AAAAAAAAAABsVsS0vd5gPkATNz0AAAAA7Fk5PPgIij5AEzc9AAAAAIfZXTwAAIA+AAAAAAAAAABFKA+z9dIhPoWIaD0AAAAA2mxsPOXkNT7izc89AAAAAPiRqjy93mA+QBM3PQAAAAAJWjk8myalPjjrMD0AAAAArR1WPDTAvj446zA9AAAAADUSaTwzM7M+AAAAAAAAAAATznKy+AiKPkATNz0AAAAAdNldPPmVlT48/7M9AAAAAGSsvDybJqU+OOswPQAAAACoHVY8lsPYPsvpNj0AAAAAU8NwPDBd8j7L6TY9AAAAAGoWdzxmZuY+AAAAAAAAAADAWj2yNMC+PjjrMD0AAAAALxJpPP22yj6B6rM9AAAAAIkA0DyWw9g+y+k2PQAAAABNw3A8rxQGP2N2Oj0AAAAAMax7PHzhEj9jdjo9AAAAAAuXdTzNzAw/AAAAAAAAAAA/3EiyMF3yPsvpNj0AAAAAZhZ3PI2G/j4XsLg9AAAAAHNV2zyvFAY/Y3Y6PQAAAAAqrHs8fsQfP/zLNz0AAAAAnNZxPEuRLD/8yzc9AAAAANahXjxmZiY/AAAAAAAAAABXlYqyfOESP2N2Oj0AAAAACJd1PGAMGT8vIbk9AAAAAEH61Tx+xB8//Ms3PQAAAACS1nE8Hj45P3DVLj0AAAAApGxTPOsKRj9w1S49AAAAAFfIMTwAAEA/AAAAAAAAAAC3W+eyS5EsP/zLNz0AAAAA1KFePDacMj+2ULM9AAAAACrcvTwePjk/cNUuPQAAAACObFM87oFSP2hxJj0AAAAA0mcoPLpOXz9ocSY9AAAAAJ+E5juamVk/AAAAAAAAAACq9J6w6wpGP3DVLj0AAAAAYcgxPAvASz9so6o9AAAAAFvRljzugVI/aHEmPQAAAABzZyg8MzNzPwAAAAAAAAAAnu0tNvA3aj9iWg89AAAAAECjwTu9BHc/YloPPQAAAAAeFo46uk5fP2hxJj0AAAAAG4bmO0QgYz/l5Zo9AAAAAJsdPjzwN2o/YloPPQAAAABamcE7vQR3P2JaDz0AAAAAEhaOOr0Edz+YE649AAAAAE4awjsAAIA/zcxMPQAAAAByrC02V/lzP26nBT4AAAAAaXwFPFf5cz+h2jg+AAAAAB/cQTwAAIA/mpkZPgAAAAAr5OCyvQR3P5gTrj0AAAAAAhDCOxT+aj+mlew9AAAAAOfhSzxX+XM/bqcFPgAAAAAnfQU8MI11Pz0ebj4AAAAAJcQqPDCNdT+4qJA+AAAAAK3oSTwAAIA/AACAPgAAAAAIi42yV/lzP6HaOD4AAAAAnttBPIeGaT8RLFo+AAAAAPifozwwjXU/PR5uPgAAAABExCo8tRR1P1+GqT4AAAAAESJUPLUUdT/5H8M+AAAAAMKyZTwAAIA/MzOzPgAAAAAe7lGyMI11P7iokD4AAAAAkehJPOWhaj9+laA+AAAAAHHRuDy1FHU/X4apPgAAAAAUIlQ8uhJ1P+WG3D4AAAAA/atmPLoSdT9/IPY+AAAAAKfZazwAAIA/ZmbmPgAAAADpYBmytRR1P/kfwz4AAAAAtbJlPG4naj8S2tI+AAAAAO+dzDy6EnU/5YbcPgAAAAD9q2Y8nzN1P+jyBz8AAAAAicNpPJ8zdT+1vxQ/AAAAALlEYzwAAIA/zcwMPwAAAAAX9BqyuhJ1P38g9j4AAAAAn9lrPFlGaj8oAwM/AAAAAIP/zzyfM3U/6PIHPwAAAACHw2k8mQd1Px7TIT8AAAAAYJlnPJkHdT/rny4/AAAAAG4lVDwAAIA/ZmYmPwAAAABaI36ynzN1P7W/FD8AAAAAsURjPDk7aj85+Rw/AAAAAKE9yTyZB3U/HtMhPwAAAABcmWc8A+N0P/2SOz8AAAAAzMdXPAPjdD/KX0g/AAAAAH3iMzwAAIA/AABAPwAAAAAx3AyzmQd1P+ufLj8AAAAAYSVUPJ3qaT+0/zY/AAAAALJ7tzwD43Q//ZI7PwAAAADBx1c8CFJ1P9R7VT8AAAAAejMuPAhSdT+hSGI/AAAAAJaM6DsAAIA/mplZPwAAAABgtKWyA+N0P8pfSD8AAAAAauIzPAs1aj/RDlE/AAAAALv8kDwIUnU/1HtVPwAAAAAtMy48AACAPzMzcz8AAAAADB+ktjMzcz8zM3M/AAAAAL49DzwzM3M/AACAPwAAAAD0MaW27dZeP/7tdT8AAAAAxvbfOyEKUj/+7XU/AAAAAHf5IjyamVk/AACAPwAAAAAywQwzXN1GP5oxdD8AAAAAE4w/PI8QOj+aMXQ/AAAAAOt7ZDwAAEA/AACAPwAAAABXzDOzIQpSP/7tdT8AAAAAJvkiPLAaTD+YH2o/AAAAANU1mDxc3UY/mjF0PwAAAAARjD88woItP3rXcz8AAAAASjlrPPW1ID9613M/AAAAAFYMgDxmZiY/AACAPwAAAACL1LKyjxA6P5oxdD8AAAAA1ntkPB5gND8UCWg/AAAAAJUrxzzCgi0/etdzPwAAAABDOWs8oK8TP65+dD8AAAAAn0ZyPNPiBj+ufnQ/AAAAAHWseDzNzAw/AACAPwAAAAAExkCy9bUgP3rXcz8AAAAAUgyAPPzLGj8oVmg/AAAAAOCI2TygrxM/rn50PwAAAACaRnI8CQ/0PofkdD8AAAAAt+tvPG912j6H5HQ/AAAAADEsajxmZuY+AACAPwAAAADG0iey0+IGP65+dD8AAAAAcax4PFfqAD81Y2k/AAAAADVw1zwJD/Q+h+R0PwAAAACx6288qz3BPmMEdT8AAAAAfzZnPBKkpz5jBHU/AAAAAFMMVTwzM7M+AACAPwAAAAACvmeyb3XaPofkdD8AAAAALyxqPE3mzj7q6Gk/AAAAAHC5zTyrPcE+YwR1PwAAAAB1Nmc8KmiPPpZkdT8AAAAAuBFNPCGdaz6WZHU/AAAAAF4KLTwAAIA+AACAPwAAAAD84r6yEqSnPmMEdT8AAAAAUwxVPKJynT75aGo/AAAAAKsHuTwqaI8+lmR1PwAAAACgEU08F/g8PhY9dj8AAAAAmL4dPOTECT4WPXY/AAAAAE0X2zuamRk+AACAPwAAAAAcIlMzIZ1rPpZkdT8AAAAAagotPGzIWz6soWs/AAAAAIp9lDwX+Dw+Fj12PwAAAAA2vh08zcxMPQAAgD8AAAAA6IeKNgbPtz3iknU/AAAAALN23zs+0SI94pJ1PwAAAAAgjrs65MQJPhY9dj8AAAAABRnbOwGM/j34z2s/AAAAAGuQVzwGz7c94pJ1PwAAAACFbt87PtEiPeKSdT8AAAAAFo67Oj7RIj0Vxmg/AAAAABtP2jsAAAAAMzNzPwAAAADXk4k2accUPUH+XD8AAAAAwa7RO2nHFD11MVA/AAAAAHxFFjwAAAAAmplZPwAAAAB3aoUzPtEiPRXGaD8AAAAAZkfaO1PMmz3wXV8/AAAAAFusVTxpxxQ9Qf5cPwAAAABZsNE7qPMiPRksRD8AAAAAz6AmPKjzIj1MXzc/AAAAAEzNRDwAAAAAAABAPwAAAACOuYqyaccUPXUxUD8AAAAAHUUWPIjdmz3BkEc/AAAAAFUDkTyo8yI9GSxEPwAAAADdoCY8jTMrPRLhKj8AAAAA9AdQPI0zKz1FFB4/AAAAADkQYTwAAAAAZmYmPwAAAAAcij2yqPMiPUxfNz8AAAAAMc1EPJsTpz0rDS8/AAAAACC/tTyNMys9EuEqPwAAAAD3B1A88WYtPXxrET8AAAAATeRkPPFmLT2vngQ/AAAAADDiaTwAAAAAzcwMPwAAAACIlBKyjTMrPUUUHj8AAAAALRBhPD9NrD0o5hU/AAAAAJ5TyjzxZi09fGsRPwAAAABO5GQ8DugtPbDM7z4AAAAAa1RrPA7oLT0WM9Y+AAAAAOK4ZDwAAAAAZmbmPgAAAAChnx2y8WYtPa+eBD8AAAAAJ+JpPH+nrT0PCvk+AAAAABXJzzwO6C09sMzvPgAAAABqVGs8EScvPd/ivD4AAAAALQdnPBEnLz1FSaM+AAAAAKPCUzwAAAAAMzOzPgAAAAD1iXSyDugtPRYz1j4AAAAA2rhkPI+Hrj0oScY+AAAAABOMyTwRJy893+K8PgAAAAAqB2c8d7Y6PTOxiD4AAAAApHliPHe2Oj0yL14+AAAAAJ2+PDwAAAAAAACAPgAAAABpdiqzEScvPUVJoz4AAAAAmsJTPMTutD3eYJI+AAAAAPn0uzx3tjo9M7GIPgAAAACVeWI8O7JtPYiIID4AAAAAY7xxPDuybT2pqto9AAAAAFT+HTwAAAAAmpkZPgAAAABo0OO0zcxMPc3MTD0AAAAAFzQPPDuybT2pqto9AAAAAEb/HTyEP909hYhoPQAAAABW+Bo8CFJ1P6FIYj8AAAAApJHoOzuFaD9tFW8/AAAAAP/DLzwzM3M/MzNzPwAAAABPNA88O4VoP20Vbz8AAAAAMsQvPML1YD9rA2U/AAAAANwhizzt1l4//u11PwAAAABS+N87d7Y6PTIvXj4AAAAArr48PFk01D3t6jE+AAAAAHMTqzw7sm09iIggPgAAAADuu3E8aP2HPveqAz4AAAAARVH1PAoboz71IAI+AAAAAEffBj35lZU+PP+zPQAAAABcrLw8Ec4bPgmGFz4AAAAAknHAPNnZWj63KAs+AAAAAGQr7Tzl5DU+4s3PPQAAAADxkao82dlaPrcoCz4AAAAAYCvtPPvjdT4PSjM+AAAAACDFEz1o/Yc+96oDPgAAAABNUfU89J7wPgTuCj4AAAAAv9YbPZE1BT8q0Qs+AAAAAJbTHD2Nhv4+F7C4PQAAAABvVds8m3ISPyNWDD4AAAAAG8AbPZ5VHz+Jqws+AAAAADxlFT1gDBk/LyG5PQAAAAA7+tU8kTUFPyrRCz4AAAAAldMcPc5+Cz8c7Do+AAAAAB9oPz2bchI/I1YMPgAAAAAZwBs9h3MsP1WiCD4AAAAAmZINPVogOT+yZAY+AAAAAPm7/zw2nDI/tlCzPQAAAAAi3L08nlUfP4mrCz4AAAAAPGUVPcHZJT/gZzg+AAAAAN/1MT2Hcyw/VaIIPgAAAACVkg09orpFPxdTAD4AAAAAgCjlPKUxUj8rdPw9AAAAAHsNvTwLwEs/bKOqPQAAAABQ0ZY8WiA5P7JkBj4AAAAA/bv/PPORPz8RTS8+AAAAAAbTEz2iukU/F1MAPgAAAABxKOU83hRgPykh+D0AAAAA6uudPBT+aj+mlew9AAAAAIThSzxEIGM/5eWaPQAAAABwHT48pTFSPyt0/D0AAAAAkQ29PHQPWj/2ESc+AAAAAKQB0TzeFGA/KSH4PQAAAADL6508sDHzPhIhCD8AAAAA7k2XPb332z6d6ws/AAAAALNzlD2Wq+4+jXkUPwAAAAB+JZQ9tKhfP12Tlj4AAAAAPwD/PDgwXz8Eca8+AAAAAC8kCz3loWo/fpWgPgAAAABs0bg8U6dfP8CoSj4AAAAAddrLPC07YT9c7H8+AAAAAF575jyHhmk/ESxaPgAAAAD9n6M81xTDPuJ7Ej8AAAAA7jOOPb332z6d6ws/AAAAALNzlD3xmsc+ZyMGPwAAAACh5JE9LTthP1zsfz4AAAAAWHvmPIDJVT+00Y4+AAAAAFAuFz20qF8/XZOWPgAAAABBAP88GNheP4IhyD4AAAAAsbIQPR3WXj9uiOE+AAAAAIhnFT1uJ2o/EtrSPgAAAADsncw8ODBfPwRxrz4AAAAALCQLPefeUz9hH74+AAAAAFVdLz0Y2F4/giHIPgAAAACxshA9+KJfPzzE+z4AAAAAl20TPd3DXz/GxAo/AAAAAPj0ET1ZRmo/KAMDPwAAAAB//888HdZeP26I4T4AAAAAhmcVPaFTVD+sC/E+AAAAAK/oNj34ol8/PMT7PgAAAACXbRM9aaRfP7PiFz8AAAAA9LsQPWN4Xz8c9iQ/AAAAAJotCj05O2o/OfkcPwAAAACcPck83cNfP8bECj8AAAAA9/QRPQgBVT+pwRI/AAAAAFRhMj1ppF8/s+IXPwAAAADzuxA9VpNePyFNMj8AAAAAWE4IPcBuXj80QD8/AAAAAGxO9Dyd6mk/tP82PwAAAACpe7c8Y3hfPxz2JD8AAAAAmy0KPYb8Uz+bNi0/AAAAAKY2Jz1Wk14/IU0yPwAAAABUTgg9yKNeP3UdTD8AAAAAc2fgPMwSXz9/OVk/AAAAAIIarzwLNWo/0Q5RPwAAAACd/JA8wG5ePzRAPz8AAAAAck70PIFMUz/jakc/AAAAAJcSDD3Io14/dR1MPwAAAABfZ+A8zBJfP385WT8AAAAAlxqvPH9kVT8QEmA/AAAAAMMGuTzC9WA/awNlPwAAAAAYIos8vYAhP31LXD8AAAAAIJ8WPWd6FD+w8lw/AAAAAIJiGz38yxo/KFZoPwAAAADbiNk8EtI8P39jWj8AAAAA4MkIPUZEMD9fCVo/AAAAABG6GD0eYDQ/FAloPwAAAACJK8c8RkQwP18JWj8AAAAADboYPbHyKT/npU4/AAAAAA+rOD29gCE/fUtcPwAAAAAinxY9f2RVPxASYD8AAAAAyga5PLo3Sj+sVV4/AAAAAOTv5TywGkw/mB9qPwAAAADBNZg8wmgHPzMoXj8AAAAAZEAYPeca9T4Njl4/AAAAABdLFz1X6gA/NWNpPwAAAAAxcNc8Z3oUP7DyXD8AAAAAgGIbPYQdDj+IHVI/AAAAAINnPD3CaAc/MyhePwAAAABkQBg9D7fbPlrnXj8AAAAAGngUPUt/wj41B18/AAAAAPnBDj1N5s4+6uhpPwAAAABsuc085xr1Pg2OXj8AAAAAF0sXPeWz6D5YrFM/AAAAACUXOD0Pt9s+WudePwAAAAAYeBQ9mNypPuHaXj8AAAAAxQcLPbGgkT4UO18/AAAAALkD/jyicp0++WhqPwAAAAClB7k8S3/CPjUHXz8AAAAA+cEOPVqttj5R2VM/AAAAACFDLT2Y3Kk+4dpePwAAAADDBws9qzd1Pp1HYD8AAAAAwproPKGSRj4dIGE/AAAAANHjwzxsyFs+rKFrPwAAAACCfZQ8saCRPhQ7Xz8AAAAAvAP+PMsFhz6FuVQ/AAAAAPLfFT2rN3U+nUdgPwAAAAC3mug8twsePqSIYz8AAAAAUGekPKtc4D1w3mI/AAAAAFsTeDwBjP49+M9rPwAAAACbkFc8oZJGPh0gYT8AAAAA2OPDPPZ6Nz6ULlg/AAAAALMV4Ty3Cx4+pIhjPwAAAABPZ6Q8q1zgPXDeYj8AAAAAWRN4PMBX2T2cFlc/AAAAAGLIoTxTzJs98F1fPwAAAACTrFU8AO78PbUMND8AAAAAA2P7PPqGAD56jic/AAAAAL4nCT2bE6c9Kw0vPwAAAAAcv7U8LgPrPdeGTD8AAAAAhDXAPE4Z8j18gUA/AAAAADGD4zyI3Zs9wZBHPwAAAABOA5E8wFfZPZwWVz8AAAAAYcihPMPJFz5XB1A/AAAAAIP53zwuA+s914ZMPwAAAACLNcA8ThnyPXyBQD8AAAAAJoPjPNMJJj7LAjk/AAAAAO87FT0A7vw9tQw0PwAAAAAGY/s8x1sBPi2dGj8AAAAAwj0OPaDoAT5k9A0/AAAAAPPXEj0/Taw9KOYVPwAAAACaU8o8+oYAPnqOJz8AAAAAuicJPfpILD62nB8/AAAAAAgsLT3HWwE+LZ0aPwAAAADCPQ49p5MCPqEoAT8AAAAAIcEUPe6zAj6T4Og+AAAAACSJEz1/p609Dwr5PgAAAAASyc88oOgBPmT0DT8AAAAA8dcSPc7ILT6m3wU/AAAAAINFNj2nkwI+oSgBPwAAAAAhwRQ9IuQCPvhh0D4AAAAAoBMSPeIzAz7AEbc+AAAAACp6Cz2Ph649KEnGPgAAAAAOjMk87rMCPpPg6D4AAAAAI4kTPQmkLj4rqdk+AAAAAIIRND0i5AI++GHQPgAAAACfExI9e+0CPvGqnj4AAAAACHgGPVXRBT7fEoQ+AAAAACnm9DzE7rQ93mCSPgAAAADw9Ls84jMDPsARtz4AAAAAKnoLPdWNLj7Aw6g+AAAAAI3qJj177QI+8aqePgAAAAAEeAY9cIq8PjQFBj4AAAAAhloPPdKN1j7ZhAc+AAAAAEfLFj39tso+geqzPQAAAACEANA8ChujPvUgAj4AAAAARN8GPd/xrj6NsC8+AAAAAF3zKT1wirw+NAUGPgAAAACFWg890o3WPtmEBz4AAAAARssWPWZy4j74/TY+AAAAAHCvOz30nvA+BO4KPgAAAAC+1hs9ujdKP6xVXj8AAAAA2u/lPOEbRj/3VVA/AAAAAEBrEz0S0jw/f2NaPwAAAADgyQg9VdEFPt8ShD4AAAAAMeb0PDmFNz7ZwG0+AAAAAEppEz0gDw8+syxVPgAAAACwGe88WTTUPe3qMT4AAAAAbBOrPCAPDz6zLFU+AAAAALIZ7zwRzhs+CYYXPgAAAACRccA8H6QfPwc9aj4AAAAAFI1XPQnCLD/TM2c+AAAAAMU1ST3B2SU/4Gc4PgAAAADd9TE9TBYEP0rIaz4AAAAALrNiPVVTET9CTWw+AAAAAImQXz3Ofgs/HOw6PgAAAAAeaD89VVMRP0JNbD4AAAAAipBfPZ07GD+bjI0+AAAAADMWdD0fpB8/Bz1qPgAAAAASjVc9dA9aP/YRJz4AAAAAsQHRPBrEUT9B0kw+AAAAAPHfBz1Tp18/wKhKPgAAAAB32ss8oHxGPystWT4AAAAABGofPX8UTD/0w3w+AAAAAEjkIz0axFE/QdJMPgAAAADx3wc9xlJJP5x95T4AAAAAdmdVPaEfSj9puf8+AAAAAFmVVT2hU1Q/rAvxPgAAAACu6DY9pQ9LP8HdDD8AAAAA+otRPTDwSj+t+xk/AAAAACXKSz0IAVU/qcESPwAAAABSYTI9oR9KP2m5/z4AAAAAWJVVPcoOQD+4Fgc/AAAAAGQTbD2lD0s/wd0MPwAAAAD6i1E9/lpGPwbrsD4AAAAAW4lOPd0CRj+Em8k+AAAAAFrzWT3n3lM/YR++PgAAAABUXS893QJGP4SbyT4AAAAAWPNZPd3OOz9BSdg+AAAAAJPAcT3GUkk/nH3lPgAAAAB2Z1U9tVZJP6cKJz8AAAAAjzNJPahxSD+tYTQ/AAAAAFtYOz2G/FM/mzYtPwAAAAClNic9MPBKP637GT8AAAAAJcpLPVJlPz+/JiE/AAAAAEy+YT21Vkk/pwonPwAAAACNM0k92uZFP7V4Qz8AAAAAPTkwPeEbRj/3VVA/AAAAADlrEz2BTFM/42pHPwAAAACXEgw9b0D1PjFOST8AAAAAuiFXPZfc2z5+p0k/AAAAAIrmUj3ls+g+WKxTPwAAAAAkFzg9IbATP2aLRj8AAAAAA/lZPXyeBj/pwEc/AAAAAJ6AWz2EHQ4/iB1SPwAAAACCZzw9fJ4GP+nARz8AAAAAnYBbPdUyAD8QvD0/AAAAAAdqcT1vQPU+MU5JPwAAAAC5IVc9sfIpP+elTj8AAAAAD6s4Pb/wLj8ABkI/AAAAAIf3Tj03LSA/HkhEPwAAAADtwVk9Ny0gPx5IRD8AAAAA7MFZPS+uGD9/6zk/AAAAAPsucj0hsBM/ZotGPwAAAAAE+Vk9WOI5P8U+Xz4AAAAAuHI3PaB8Rj8rLVk+AAAAAANqHz3zkT8/EU0vPgAAAAAF0xM9OYU3PtnAbT4AAAAATGkTPT/cVT4k7oU+AAAAAPC9LT0LGl8+P+NYPgAAAACZlBs9++N1Pg9KMz4AAAAAIsUTPQsaXz4/41g+AAAAAJmUGz2BHYo+f2VRPgAAAAA7Gy49lzzDPspNST8AAAAA+65OPeSZqj52IUk/AAAAAPcSRD1arbY+UdlTPwAAAAAgQy09l9zbPn6nST8AAAAAiuZSPSHJzz6k7z4/AAAAAMJCaD2XPMM+yk1JPwAAAAD6rk49upCQPq42Rz8AAAAAjR09PbwXcz42Q0g/AAAAAIH9Jz3LBYc+hblUPwAAAADx3xU95JmqPnYhST8AAAAA+RJEPfcfnT4nqzw/AAAAAFzeVj26kJA+rjZHPwAAAACLHT09rVBAPtCeTT8AAAAA468KPcPJFz5XB1A/AAAAAIL53zz2ejc+lC5YPwAAAACyFeE8aT1aPnnFCj8AAAAAG0xWPXHoWj5r8/s+AAAAAPOlVz3OyC0+pt8FPwAAAACCRTY9AnJcPocw4z4AAAAADHJXPTaiXD7rsco+AAAAAD4uUT0JpC4+K6nZPgAAAACAETQ9cehaPmvz+z4AAAAA8qVXPU9zhD4s/Ow+AAAAAGJdcD0Cclw+hzDjPgAAAAAMclc9PElXPkDoJD8AAAAAydBGPQkeWD7z9hc/AAAAAMlkUD36SCw+tpwfPwAAAAAHLC09CR5YPvP2Fz8AAAAAyGRQPdaegj4CERA/AAAAADK2bD1pPVo+ecUKPwAAAAAbTFY9T6daPktcsz4AAAAAmmRJPedgWj589Zo+AAAAAGuTOz3VjS4+wMOoPgAAAACL6iY9NqJcPuuxyj4AAAAAPi5RPaQ6hD6n47w+AAAAAL+9Yz1Pp1o+S1yzPgAAAACYZEk952BaPnz1mj4AAAAAbJM7Pdz6gD6vhpA+AAAAAHRASD0/3FU+JO6FPgAAAADwvS09qHFIP61hND8AAAAAXlg7PQhBOz/CTD0/AAAAAGq2ST3a5kU/tXhDPwAAAAA6OTA9CcIsP9MzZz4AAAAAxjVJPbasMz/2iYg+AAAAAEQMVT1Y4jk/xT5fPgAAAAC2cjc9spHsPnemaD4AAAAAxBlgPcE6+D7PA40+AAAAAG1cej1MFgQ/SshrPgAAAAAus2I9ZnLiPvj9Nj4AAAAAb687PZCA0j5LPWU+AAAAALXjWD2ykew+d6ZoPgAAAADEGWA9gMlVP7TRjj4AAAAATi4XPX8UTD/0w3w+AAAAAEjkIz0Ggko/Kf+UPgAAAABIDjg9gR2KPn9lUT4AAAAAOhsuPcJdlD78cn4+AAAAAHhEST26wp8+zNlYPgAAAABYcj093PqAPq+GkD4AAAAAc0BIPRWglj7WQJQ+AAAAABRJXj3CXZQ+/HJ+PgAAAAB3REk9usKfPszZWD4AAAAAV3I9PSAyuT4Lvlw+AAAAAIasTD3f8a4+jbAvPgAAAABc8yk9CEE7P8JMPT8AAAAAbLZJPY17MT/47jI/AAAAAHe0Zj2/8C4/AAZCPwAAAACI9049vBdzPjZDSD8AAAAAg/0nPYlmUz75G0A/AAAAAA/tJj2tUEA+0J5NPwAAAADgrwo90wkmPssCOT8AAAAA7TsVPYlmUz75G0A/AAAAAA3tJj3j0Fg+MqczPwAAAABiFTw9BoJKPyn/lD4AAAAARg44PfylPD9Me6A+AAAAAH5+WD3+WkY/BuuwPgAAAABbiU4949BYPjKnMz8AAAAAXxU8PflSgj5uASw/AAAAAMpsWT08SVc+QOgkPwAAAADK0EY9uy2XPlZOMD8AAAAAG/dkPehplj5ljyE/AAAAAO3KdD35UoI+bgEsPwAAAADLbFk95TaxPh85Mj8AAAAAiaRzPbstlz5WTjA/AAAAABv3ZD33H50+J6s8PwAAAABd3lY9uR03P/CuAT8AAAAA75h+PbwNOD/8rw4/AAAAADv4eT3KDkA/uBYHPwAAAABjE2w93c47P0FJ2D4AAAAAlMBxPXAcLz+E8tI+AAAAAKAegz1ZbDI/m9TuPgAAAAA7hYM9WWwyP5vU7j4AAAAAO4WDPUxrKj8iB/4+AAAAAGR0iT25HTc/8K4BPwAAAADvmH49+es1Pyd8GT8AAAAAU4l5PX1SND8iiyY/AAAAAJsScD1SZT8/vyYhPwAAAABMvmE9vA04P/yvDj8AAAAAO/h5Pej6LD9fFBQ/AAAAAKbfhD356zU/J3wZPwAAAABTiXk9fVI0PyKLJj8AAAAAmxJwPTUCKD9hRCs/AAAAABNlfD2NezE/+O4yPwAAAAB5tGY9rYUvP9N1pD4AAAAAnX1xPfylPD9Me6A+AAAAAHx+WD22rDM/9omIPgAAAABEDFU91TIAPxC8PT8AAAAAB2pxPfbLBD9bUDI/AAAAANqZgz1jm/E+o90zPwAAAAAJMoI9L64YP3/rOT8AAAAA+y5yPSSOHD/H3y0/AAAAAP+ggT0OERA/DyMwPwAAAACkEIQ9NQIoP2FEKz8AAAAAE2V8PRRlHz/xeyE/AAAAACbwhz0kjhw/x98tPwAAAAD/oIE9DhEQPw8jMD8AAAAApBCEPeurCD+jRCY/AAAAAP6tiz32ywQ/W1AyPwAAAADamYM9F0zdPsdPNj8AAAAAqG58PRasxD4T9jU/AAAAALYedT0hyc8+pO8+PwAAAADCQmg9Y5vxPqPdMz8AAAAACTKCPVl+5j4T5Co/AAAAANTVhz0XTN0+x082PwAAAACnbnw9FqzEPhP2NT8AAAAAth51Pdu5vj5CmSk/AAAAAJqQgj3lNrE+HzkyPwAAAACKpHM9KvWbPqzI9T4AAAAAG2yEPfO5nD7IBd0+AAAAAIZegj1Pc4Q+LPzsPgAAAABhXXA91p6CPgIRED8AAAAAMbZsPZgjmD4U+xQ/AAAAAGh0fz1IM5k+mskHPwAAAABQgII96GmWPmWPIT8AAAAA7cp0PVr+rD78Rxk/AAAAAB/XhT2YI5g+FPsUPwAAAABpdH89SDOZPprJBz8AAAAAUICCPex5sT7PnP8+AAAAAEbQiz0q9Zs+rMj1PgAAAAAbbIQ9/FkfP/7OpD4AAAAA4+mAPUJTKD9UwLw+AAAAAOkRhD2thS8/03WkPgAAAACcfXE9nTsYP5uMjT4AAAAAMhZ0PTIJET8c16U+AAAAABBWhj38WR8//s6kPgAAAADi6YA9QlMoP1TAvD4AAAAA6RGEPb/wHj+vS9M+AAAAAEAOjT1wHC8/hPLSPgAAAACgHoM9wTr4Ps8DjT4AAAAAbFx6PXo35T7Fmac+AAAAAFPZhz0waQA/riqpPgAAAAALAYo9MGkAP64qqT4AAAAACwGKPY6HBz8SbcA+AAAAACuFkD0yCRE/HNelPgAAAAAQVoY9IDK5Pgu+XD4AAAAAhaxMPWtRwz5FM4c+AAAAAOZUaT2QgNI+Sz1lPgAAAAC141g987mcPsgF3T4AAAAAhl6CPdkrtD7Ztsw+AAAAAJf0hz3+qZw+WerDPgAAAAAjIH49/qmcPlnqwz4AAAAAIyB+PYqsmz65lKw+AAAAABF3cD2kOoQ+p+O8PgAAAAC+vWM9iqybPrmUrD4AAAAAEndwPW8Prz6IR5s+AAAAADCUcT0VoJY+1kCUPgAAAAAUSV49/5AkP0ejCj8AAAAAym+MPTxvIj9zbxU/AAAAAI1Jiz3o+iw/XxQUPwAAAACm34Q9PG8iP3NvFT8AAAAAjUmLPSv7Fj/ZChg/AAAAAKaYjz0UZR8/8XshPwAAAAAm8Ic9v/AeP69L0z4AAAAAQA6NPdloET/R+NU+AAAAALOckj0GMhg/ACvsPgAAAABKBZM9jocHPxJtwD4AAAAAK4WQPdbIAD9jTNk+AAAAAOeblT3ZaBE/0fjVPgAAAACznJI9a1HDPkUzhz4AAAAA5VRpPW8Prz6IR5s+AAAAADCUcT3gXcg+KIefPgAAAADy8IA9TGsqPyIH/j4AAAAAZHSJPZ/fHz+lXgA/AAAAADwfkD3/kCQ/R6MKPwAAAADKb4w966sIP6NEJj8AAAAA/q2LPeRxCz8sYxo/AAAAAO6rkT3MLAA/eJAcPwAAAADmqpE9K/sWP9kKGD8AAAAAppiPPQt8Dj+uVg4/AAAAAJe+lD3kcQs/LGMaPwAAAADuq5E94F3IPiiHnz4AAAAA8vCAPX710D4Irrs+AAAAAFc6iz16N+U+xZmnPgAAAABS2Yc927m+PkKZKT8AAAAAmpCCPVfQ1D4ozSI/AAAAAC3Tij0mW8E+MxAfPwAAAABiKok9JlvBPjMQHz8AAAAAYiqJPdcUwz7iexI/AAAAAO4zjj1a/qw+/EcZPwAAAAAf14U9BjIYPwAr7D4AAAAASgWTPblXEj82tQE/AAAAAHZ9lT2f3x8/pV4APwAAAAA8H5A9cwXRPnbJ1D4AAAAA5VORPX710D4Irrs+AAAAAFc6iz3ZK7Q+2bbMPgAAAACX9Ic97HmxPs+c/z4AAAAARtCLPfGaxz5nIwY/AAAAAKHkkT3TXMo+RnzyPgAAAABmJZI901zKPkZ88j4AAAAAZiWSPXgm5z50c+E+AAAAANmzlT1zBdE+dsnUPgAAAADlU5E9pB/pPgNbID8AAAAAY9KOPVfQ1D4ozSI/AAAAAC3Tij1ZfuY+E+QqPwAAAADU1Yc9zCwAP3iQHD8AAAAA5qqRPZar7j6NeRQ/AAAAAH4llD2kH+k+A1sgPwAAAABj0o49eCbnPnRz4T4AAAAA2bOVPQzp+j4z//Y+AAAAABQqmD3WyAA/Y0zZPgAAAADnm5U9uVcSPza1AT8AAAAAdn2VPXLOBj+JDQQ/AAAAAMnAlz0LfA4/rlYOPwAAAACXvpQ9DOn6PjP/9j4AAAAAFCqYPbAx8z4SIQg/AAAAAO5Nlz1yzgY/iQ0EPwAAAADJwJc9",
         "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"
        ],
        "Bezier_trig_points": [
         "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",
         "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",
         "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",
         "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",
         "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",
         "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"
        ],
        "autoscale": true,
        "deformation": false,
        "draw_surf": true,
        "draw_vol": false,
        "edges": [
         "zczMPQAAAAAAAAAAAAAAAM3MTD4AAAAAAAAAAAAAAACamZk+AAAAAAAAAAAAAAAAzczMPgAAAAAAAAAAAAAAAAAAAD8AAAAAAAAAAAAAAACamRk/AAAAAAAAAAAAAAAAMzMzPwAAAAAAAAAAAAAAAM3MTD8AAAAAAAAAAAAAAABmZmY/AAAAAAAAAAAAAAAAAACAPwAAAAAAAAAAAAAAAAAAgD/NzMw9AAAAAAAAAAAAAIA/zcxMPgAAAAAAAAAAAACAP5qZmT4AAAAAAAAAAAAAgD/NzMw+AAAAAAAAAAAAAIA/AAAAPwAAAAAAAAAAAACAP5qZGT8AAAAAAAAAAAAAgD8zMzM/AAAAAAAAAAAAAIA/zcxMPwAAAAAAAAAAAACAP2ZmZj8AAAAAAAAAAAAAgD8AAIA/AAAAAAAAAABmZmY/AACAPwAAAAAAAAAAzcxMPwAAgD8AAAAAAAAAADMzMz8AAIA/AAAAAAAAAACamRk/AACAPwAAAAAAAAAAAAAAPwAAgD8AAAAAAAAAAM3MzD4AAIA/AAAAAAAAAACamZk+AACAPwAAAAAAAAAAzcxMPgAAgD8AAAAAAAAAAM3MzD0AAIA/AAAAAAAAAAAAAAAAAACAPwAAAAAAAAAAAAAAAGZmZj8AAAAAAAAAAAAAAADNzEw/AAAAAAAAAAAAAAAAMzMzPwAAAAAAAAAAAAAAAJqZGT8AAAAAAAAAAAAAAAAAAAA/AAAAAAAAAAAAAAAAzczMPgAAAAAAAAAAAAAAAJqZmT4AAAAAAAAAAAAAAADNzEw+AAAAAAAAAAAAAAAAzczMPQAAAAAAAAAAAAAAAAAAAAAAAAAAAAAAAA==",
         "zcxMPQAAAAAAAAAAAAAAAJqZGT4AAAAAAAAAAAAAAAAAAIA+AAAAAAAAAAAAAAAAMzOzPgAAAAAAAAAAAAAAAGZm5j4AAAAAAAAAAAAAAADNzAw/AAAAAAAAAAAAAAAAZmYmPwAAAAAAAAAAAAAAAAAAQD8AAAAAAAAAAAAAAACamVk/AAAAAAAAAAAAAAAAMzNzPwAAAAAAAAAAAAAAAAAAgD/NzEw9AAAAAAAAAAAAAIA/mpkZPgAAAAAAAAAAAACAPwAAgD4AAAAAAAAAAAAAgD8zM7M+AAAAAAAAAAAAAIA/ZmbmPgAAAAAAAAAAAACAP83MDD8AAAAAAAAAAAAAgD9mZiY/AAAAAAAAAAAAAIA/AABAPwAAAAAAAAAAAACAP5qZWT8AAAAAAAAAAAAAgD8zM3M/AAAAAAAAAAAzM3M/AACAPwAAAAAAAAAAmplZPwAAgD8AAAAAAAAAAAAAQD8AAIA/AAAAAAAAAABmZiY/AACAPwAAAAAAAAAAzcwMPwAAgD8AAAAAAAAAAGZm5j4AAIA/AAAAAAAAAAAzM7M+AACAPwAAAAAAAAAAAACAPgAAgD8AAAAAAAAAAJqZGT4AAIA/AAAAAAAAAADNzEw9AACAPwAAAAAAAAAAAAAAADMzcz8AAAAAAAAAAAAAAACamVk/AAAAAAAAAAAAAAAAAABAPwAAAAAAAAAAAAAAAGZmJj8AAAAAAAAAAAAAAADNzAw/AAAAAAAAAAAAAAAAZmbmPgAAAAAAAAAAAAAAADMzsz4AAAAAAAAAAAAAAAAAAIA+AAAAAAAAAAAAAAAAmpkZPgAAAAAAAAAAAAAAAM3MTD0AAAAAAAAAAA==",
         "AAAAAAAAAAAAAAAAAAAAAM3MzD0AAAAAAAAAAAAAAADNzEw+AAAAAAAAAAAAAAAAmpmZPgAAAAAAAAAAAAAAAM3MzD4AAAAAAAAAAAAAAAAAAAA/AAAAAAAAAAAAAAAAmpkZPwAAAAAAAAAAAAAAADMzMz8AAAAAAAAAAAAAAADNzEw/AAAAAAAAAAAAAAAAZmZmPwAAAAAAAAAAAAAAAAAAgD8AAAAAAAAAAAAAAAAAAIA/zczMPQAAAAAAAAAAAACAP83MTD4AAAAAAAAAAAAAgD+amZk+AAAAAAAAAAAAAIA/zczMPgAAAAAAAAAAAACAPwAAAD8AAAAAAAAAAAAAgD+amRk/AAAAAAAAAAAAAIA/MzMzPwAAAAAAAAAAAACAP83MTD8AAAAAAAAAAAAAgD9mZmY/AAAAAAAAAAAAAIA/AACAPwAAAAAAAAAAZmZmPwAAgD8AAAAAAAAAAM3MTD8AAIA/AAAAAAAAAAAzMzM/AACAPwAAAAAAAAAAmpkZPwAAgD8AAAAAAAAAAAAAAD8AAIA/AAAAAAAAAADNzMw+AACAPwAAAAAAAAAAmpmZPgAAgD8AAAAAAAAAAM3MTD4AAIA/AAAAAAAAAADNzMw9AACAPwAAAAAAAAAAAAAAAAAAgD8AAAAAAAAAAAAAAABmZmY/AAAAAAAAAAAAAAAAzcxMPwAAAAAAAAAAAAAAADMzMz8AAAAAAAAAAAAAAACamRk/AAAAAAAAAAAAAAAAAAAAPwAAAAAAAAAAAAAAAM3MzD4AAAAAAAAAAAAAAACamZk+AAAAAAAAAAAAAAAAzcxMPgAAAAAAAAAAAAAAAM3MzD0AAAAAAAAAAA=="
        ],
        "fullscreen": false,
        "funcdim": 1,
        "funcmax": 0.07356936156665458,
        "funcmin": -8.845288149171347e-06,
        "gui_settings": {},
        "mesh_center": [
         0.5,
         0.5,
         1.1125369292536007e-308
        ],
        "mesh_dim": 2,
        "mesh_radius": 0.7071067811865476,
        "ngsolve_version": "6.2.2304",
        "objects": [],
        "order2d": 2,
        "order3d": 2,
        "show_mesh": true,
        "show_wireframe": true
       }
      }
     },
     "e8823049f80f484e8d23597a12762ab9": {
      "model_module": "@jupyter-widgets/base",
      "model_module_version": "2.0.0",
      "model_name": "LayoutModel",
      "state": {
       "_model_module": "@jupyter-widgets/base",
       "_model_module_version": "2.0.0",
       "_model_name": "LayoutModel",
       "_view_count": null,
       "_view_module": "@jupyter-widgets/base",
       "_view_module_version": "2.0.0",
       "_view_name": "LayoutView",
       "align_content": null,
       "align_items": null,
       "align_self": null,
       "border_bottom": null,
       "border_left": null,
       "border_right": null,
       "border_top": null,
       "bottom": null,
       "display": null,
       "flex": null,
       "flex_flow": null,
       "grid_area": null,
       "grid_auto_columns": null,
       "grid_auto_flow": null,
       "grid_auto_rows": null,
       "grid_column": null,
       "grid_gap": null,
       "grid_row": null,
       "grid_template_areas": null,
       "grid_template_columns": null,
       "grid_template_rows": null,
       "height": "50vh",
       "justify_content": null,
       "justify_items": null,
       "left": null,
       "margin": null,
       "max_height": null,
       "max_width": null,
       "min_height": null,
       "min_width": null,
       "object_fit": null,
       "object_position": null,
       "order": null,
       "overflow": null,
       "padding": null,
       "right": null,
       "top": null,
       "visibility": null,
       "width": "100%"
      }
     },
     "e90a1b0c9bc1431391661e5df67f439d": {
      "model_module": "@jupyter-widgets/base",
      "model_module_version": "2.0.0",
      "model_name": "LayoutModel",
      "state": {
       "_model_module": "@jupyter-widgets/base",
       "_model_module_version": "2.0.0",
       "_model_name": "LayoutModel",
       "_view_count": null,
       "_view_module": "@jupyter-widgets/base",
       "_view_module_version": "2.0.0",
       "_view_name": "LayoutView",
       "align_content": null,
       "align_items": null,
       "align_self": null,
       "border_bottom": null,
       "border_left": null,
       "border_right": null,
       "border_top": null,
       "bottom": null,
       "display": null,
       "flex": null,
       "flex_flow": null,
       "grid_area": null,
       "grid_auto_columns": null,
       "grid_auto_flow": null,
       "grid_auto_rows": null,
       "grid_column": null,
       "grid_gap": null,
       "grid_row": null,
       "grid_template_areas": null,
       "grid_template_columns": null,
       "grid_template_rows": null,
       "height": "50vh",
       "justify_content": null,
       "justify_items": null,
       "left": null,
       "margin": null,
       "max_height": null,
       "max_width": null,
       "min_height": null,
       "min_width": null,
       "object_fit": null,
       "object_position": null,
       "order": null,
       "overflow": null,
       "padding": null,
       "right": null,
       "top": null,
       "visibility": null,
       "width": "100%"
      }
     },
     "f2f14008ab34483db7be4d5cd871e7d3": {
      "model_module": "webgui_jupyter_widgets",
      "model_module_version": "0.2.14",
      "model_name": "WebguiModel",
      "state": {
       "_dom_classes": [],
       "_model_module": "webgui_jupyter_widgets",
       "_model_module_version": "0.2.14",
       "_model_name": "WebguiModel",
       "_view_count": null,
       "_view_module": "webgui_jupyter_widgets",
       "_view_module_version": "0.2.14",
       "_view_name": "WebguiView",
       "layout": "IPY_MODEL_9ee7edab749a4ee6bb083b5451744a52",
       "tabbable": null,
       "tooltip": null,
       "value": {
        "Bezier_points": [
         "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",
         "AAAAAM3MzD0AAAAAAAAFJM3MzD3NzMw9AAAAAAAA2CTNzMw9AAAAAAAAAAAAAAglj/RwPrNGxz0AAAAAQrBdPXutqz6zRsc9AAAAAEKw3T2amZk+AAAAAAAAAAAK16M9ilLjPni8vT0AAAAAOeBHPt9CCz94vL09AAAAACvolT4AAAA/AAAAAAAAAACPwnU+e62rPrNGxz0AAAAAQrDdPTgzwj6VgUI+AAAAAFU5Bz6KUuM+eLy9PQAAAAA54Ec+y6EnPyg2uD0AAAAAL//ZPmU7QT8oNrg9AAAAAMpUET8zMzM/AAAAAAAAAACPwvU+30ILP3i8vT0AAAAAK+iVPhBLGT9Q+To+AAAAANFLsT7LoSc/KDa4PQAAAAAv/9k+ZmZmPwAAAAAAAAAAzcxMP2ZmZj/NzMw9AAAAAM3MTD8AAIA/zczMPQAAAAAAAIA/ZTtBPyg2uD0AAAAAylQRP/7UWj97gUI+AAAAAP2pNT9mZmY/zczMPQAAAADNzEw/ok4rPxYwFj8AAAAAOkTlPgYOEz/dFQs/AAAAAGxIpD4r4BI/gSEhPwAAAACP8KM+7SRmP9E6jj4AAAAA2klMP+0kZj8EbsE+AAAAANpJTD8AAIA/mpmZPgAAAAAAAIA/pun/Pg5PMz8AAAAAimF/Pt2J0D6w5jA/AAAAANecJD5mNNs+di5OPwAAAABh7jI+qJZqPxsX8j4AAAAAUS1VP6iWaj8npRI/AAAAAFEtVT8AAIA/AAAAPwAAAAAAAIA/7SRmPwRuwT4AAAAA2klMP5a7UD9SuOY+AAAAAJwdKj+olmo/GxfyPgAAAABRLVU/3mZrP/rNKz8AAAAAvc1WP95maz+TZ0U/AAAAAL3NVj8AAIA/MzMzPwAAAAAAAIA/qJZqPyelEj8AAAAAUS1VP4f9VT+H2SQ/AAAAADTfMj/eZms/+s0rPwAAAAC9zVY/AACAP2ZmZj8AAAAAAACAP2ZmZj9mZmY/AAAAAM3MTD9mZmY/AACAPwAAAADNzEw/tZQ+P+J+bD8AAAAA5RYNPxz7JD/ifmw/AAAAAFei0z4zMzM/AACAPwAAAACPwvU+2XEPP2pLaD8AAAAAg/KfPn6w6z5qS2g/AAAAAFlDVT4AAAA/AACAPwAAAACPwnU+HPskP+J+bD8AAAAAV6LTPlvTGj9MylQ/AAAAAFKmtz7ZcQ8/aktoPwAAAACD8p8+tVC8PgzjZT8AAAAA5HYJPoIdiT4M42U/AAAAAOR2iT2amZk+AACAPwAAAAAK16M9frDrPmpLaD8AAAAAWUNVPmY02z52Lk4/AAAAAGHuMj61ULw+DONlPwAAAADkdgk+zczMPQAAgD8AAAAAAMBiJmddND6EgGU/AAAAAM98+TwB7ps9hIBlPwAAAAAAQAymgh2JPgzjZT8AAAAA5HaJPZ3LeT6QY0s/AAAAAPdSUT1nXTQ+hIBlPwAAAADPfPk8Ae6bPYSAZT8AAAAAAPiUJgHumz3r5ks/AAAAAADc2qYAAAAAZmZmPwAAAAAwVYmjbzUYP0dpPj8AAAAAHTOyPivgEj+BISE/AAAAAI/woz6m6f8+Dk8zPwAAAACKYX8+Ae6bPevmSz8AAAAAAJzypgHumz1RTTI/AAAAAABKziYAAAAAMzMzPwAAAABJfw0jVD6tPQtt/j4AAAAAALBNpVQ+rT3XOcs+AAAAAADACSUAAAAAAAAAPwAAAACQgl6jjaQHP1N18T4AAAAA6mqOPgYOEz/dFQs/AAAAAGxIpD4FEyA/fpLbPgAAAAAYK8c+VD6tPdc5yz4AAAAAAODcJVQ+rT2kBpg+AAAAAACA+qQAAAAAmpmZPgAAAAAsXDEjzczMPc3MzD0AAAAAAAC4JCmOCj7ACUo+AAAAAAAAwKSP9HA+s0bHPQAAAABCsF093mZrP5NnRT8AAAAAvc1WP0XNUT8tAV8/AAAAAMrXKz9mZmY/ZmZmPwAAAADNzEw/Rc1RPy0BXz8AAAAAytcrPy2VQz8PgEs/AAAAACj7Ez+1lD4/4n5sPwAAAADlFg0/VD6tPaQGmD4AAAAAAMCHo1MtYT4epZY+AAAAAJyHOz0pjgo+wAlKPgAAAAAAwOej2MoIPyndij4AAAAAghaRPsQpJT+Ve4k+AAAAAC790j4QSxk/UPk6PgAAAADRS7E+ClKlPhWJlD4AAAAA9+zPPRn33D6GJpI+AAAAAJp3Oz44M8I+lYFCPgAAAABVOQc+GffcPoYmkj4AAAAAmnc7PoK09D5zJb4+AAAAAMcXXz7Yygg/Kd2KPgAAAACCFpE+DCdAPzf2Gz8AAAAAkYAOP0L3QD8KHzU/AAAAAO6WDz+H/VU/h9kkPwAAAAA03zI/QvdAPwofNT8AAAAA7pYPP7O+LT+/nEI/AAAAAOTI6z4tlUM/D4BLPwAAAAAo+xM//tRaP3uBQj4AAAAA/ak1P+v5QD8oFYk+AAAAAN73ED/tJGY/0TqOPgAAAADaSUw/xCklP5V7iT4AAAAALv3SPrN5MD+pdbY+AAAAAP5D7T7r+UA/KBWJPgAAAADe9xA/L26WPmujMT8AAAAAsDatPcL+Tj7kQDE/AAAAAFAvHT2dy3k+kGNLPwAAAAD3UlE9Ae6bPVFNMj8AAAAAAJIJJsL+Tj7kQDE/AAAAAFAvHT3CBwE+LI0YPwAAAAAA7iqm3YnQPrDmMD8AAAAA15wkPm8juz4DxBY/AAAAAHg49z0vbpY+a6MxPwAAAACwNq09s74tP7+cQj8AAAAA5MjrPm81GD9HaT4/AAAAAB0zsj5b0xo/TMpUPwAAAABSprc+wgcBPiyNGD8AAAAAAABEpeymVz4wVPw+AAAAAFCjLj1UPq09C23+PgAAAAAAAC4lUy1hPh6llj4AAAAAnIc7PYtaiz7Zisc+AAAAAJT9gT0KUqU+FYmUPgAAAAD37M897KZXPjBU/D4AAAAAUKMuPdaOoD4nOPo+AAAAALuhwT2LWos+2YrHPgAAAACU/YE9LOM7PxEs2z4AAAAArdgIP+dUQD+U6gU/AAAAAPDMDj+Wu1A/UrjmPgAAAACcHSo/s3kwP6l1tj4AAAAA/kPtPgUTID9+kts+AAAAABgrxz4s4zs/ESzbPgAAAACt2Ag/51RAP5TqBT8AAAAA8MwOP6JOKz8WMBY/AAAAADpE5T4MJ0A/N/YbPwAAAACRgA4/grT0PnMlvj4AAAAAxxdfPoSq2j6wvvg+AAAAAFUEOD6NpAc/U3XxPgAAAADqao4+1o6gPic4+j4AAAAAu6HBPW8juz4DxBY/AAAAAHg49z2Eqto+sL74PgAAAABVBDg+",
         "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",
         "CtcjPQAAAAAK1yM9AAAAAFVVHaQAAAAA/h4bPQAAAAD+Hhs9AAAAAKuqKqIAAAAA1J8MPQAAAADUnww9AAAAAFVV1SIAAAAA/h4bPQAAAAD+Hhs9AAAAANSfDD0AAAAA5Y0EPQAAAADljQQ9AAAAAFVV/aMAAAAA1J8MPQAAAADUnww9AAAAAOWNBD0AAAAAVVX9owAAAABVVf2jAAAAAArXIz0AAAAA5Y0EPQAAAADljQQ9AAAAAArXIz0AAAAA8EiAPgAAAADwSIA+AAAAABHZrz4AAAAAqnkBPgAAAACqeQE+AAAAAArXIz4AAAAAEdmvPgAAAAAR2a8+AAAAAMMzIj8AAAAAvHKYPgAAAAC8cpg+AAAAAOxRuD4AAAAAqnkBPgAAAACqeQE+AAAAALxymD4AAAAAfQcNPwAAAAB9Bw0/AAAAAArXIz8AAAAAvHKYPgAAAAC8cpg+AAAAAH0HDT8AAAAACtcjPwAAAAAK1yM/AAAAAAAAgD8AAAAAN+03PwAAAAA37Tc/AAAAAAAAgD8AAAAAcvUpPwAAAABy9Sk/AAAAAAAAgD8AAAAAN+03PwAAAAA37Tc/AAAAAHL1KT8AAAAAwzMiPwAAAADDMyI/AAAAAAAAgD8AAAAAcvUpPwAAAABy9Sk/AAAAAMMzIj8AAAAAAACAPwAAAAAAAIA/AAAAAKT6ID8AAAAAwzMiPwAAAADDMyI/AAAAAKT6ID8AAAAApPogPwAAAACk+iA/AAAAAArXIz8AAAAAoMDnPgAAAACgwOc+AAAAABHZrz4AAAAApPogPwAAAACk+iA/AAAAAOxRuD4AAAAAfNcePgAAAAB81x4+AAAAAArXIz4AAAAAEdmvPgAAAAAR2a8+AAAAAPBIgD4AAAAAfNcePgAAAAB81x4+AAAAAArXIz0AAAAACtcjPQAAAAAK1yM9AAAAAP4eGz0AAAAAfQcNPwAAAAB9Bw0/AAAAAAAAgD8AAAAAfQcNPwAAAAB9Bw0/AAAAADftNz8AAAAAfNcePgAAAAB81x4+AAAAAP4eGz0AAAAArZ0CPgAAAACtnQI+AAAAAOWNBD0AAAAAvEMYPgAAAAC8Qxg+AAAAANSfDD0AAAAAvEMYPgAAAAC8Qxg+AAAAAK2dAj4AAAAAoMDnPgAAAACgwOc+AAAAAH0HDT8AAAAAoMDnPgAAAACgwOc+AAAAADftNz8AAAAA5Y0EPQAAAADljQQ9AAAAAKp5AT4AAAAArZ0CPgAAAACtnQI+AAAAAKp5AT4AAAAARFKzPgAAAABEUrM+AAAAAKT6ID8AAAAApPogPwAAAACk+iA/AAAAAERSsz4AAAAAEdmvPgAAAAAR2a8+AAAAAERSsz4AAAAAoMDnPgAAAACgwOc+AAAAAHL1KT8AAAAARFKzPgAAAABEUrM+AAAAAHzXHj4AAAAAfNcePgAAAAB81x4+AAAAALxDGD4AAAAARFKzPgAAAABEUrM+AAAAALxDGD4AAAAA8EiAPgAAAADwSIA+AAAAALxymD4AAAAArZ0CPgAAAACtnQI+AAAAAPBIgD4AAAAA8EiAPgAAAADwSIA+AAAAAKDA5z4AAAAAvEMYPgAAAAC8Qxg+AAAAABHZrz4AAAAARFKzPgAAAABEUrM+AAAAABHZrz4AAAAA",
         "AADAIgAAAABVVa8kAAAAAFVKTSQAAAAAVVW/JAAAAACrqtokAAAAALgBGCEAAAAAVVXdpQAAAABVVbAlAAAAAITseaQAAAAAAOAepQAAAADnsRM9AAAAAAAAkCEAAAAAqyp2JgAAAABVFeilAAAAALmY1yIAAAAAAABBpQAAAACahwg9AAAAAAAATCQAAAAAVVWhIwAAAAAAAEcmAAAAAAAAqKUAAAAARpWIpgAAAACHXhM9AAAAALpqmCYAAAAAxWysPgAAAAAAMpY+AAAAAMrfyT4AAAAAyaWRPQAAAADJpRE+AAAAAArXoz0AAAAAnnz0PgAAAAC71+4+AAAAAAIJJj8AAAAAIYFfPgAAAADZoKc+AAAAAI/CdT4AAAAAyaURPgAAAADhr0Y+AAAAACGBXz4AAAAA0gLkPgAAAADhARg/AAAAAI/C9T4AAAAA2aCnPgAAAADdXM8+AAAAANIC5D4AAAAAzcxMPwAAAADNzEw/AAAAAAAAgD8AAAAAxf1YPwAAAADF/Vg/AAAAAAAAgD8AAAAA1JZQPwAAAADUllA/AAAAAAAAgD8AAAAAxf1YPwAAAAAIzjA/AAAAANSWUD8AAAAAGMZLPwAAAAAYxks/AAAAAAAAgD8AAAAA1JZQPwAAAAACCSY/AAAAABjGSz8AAAAAAACAPwAAAAAJAUs/AAAAAAkBSz8AAAAAGMZLPwAAAADnliE/AAAAAAkBSz8AAAAACQFLPwAAAAA6ZyI/AAAAAM3MTD8AAAAAAVYMPwAAAADK38k+AAAAAJ589D4AAAAAOmciPwAAAADXmvM+AAAAAI/C9T4AAAAAdvtxPgAAAABPUiE+AAAAAI/CdT4AAAAAUVRWPgAAAAAAMpY+AAAAACgQNz4AAAAAT1IhPgAAAABPUqE9AAAAAArXoz0AAAAAAIC+JAAAAADCax89AAAAAAAANCMAAAAA4QEYPwAAAABaAj4/AAAAAM3MTD8AAAAAWgI+PwAAAABWDiE/AAAAAMX9WD8AAAAAT1KhPQAAAABq+Jw9AAAAAMJrHz0AAAAAHIeHPQAAAADflIM9AAAAAJqHCD0AAAAAqq+ZPQAAAAApVJI9AAAAAOexEz0AAAAAKVSSPQAAAACEBg0+AAAAAByHhz0AAAAAofa7PgAAAADSq/8+AAAAAN1czz4AAAAA0qv/PgAAAAAg/RE/AAAAAFYOIT8AAAAAh14TPQAAAAB3AYM9AAAAAMmlkT0AAAAA35SDPQAAAABZCwI+AAAAAHcBgz0AAAAApjDxPgAAAABoR/A+AAAAAOeWIT8AAAAA15rzPgAAAABoR/A+AAAAALLNtT4AAAAAu9fuPgAAAAB+k7E+AAAAAKYw8T4AAAAAIP0RPwAAAAABVgw/AAAAAAjOMD8AAAAAss21PgAAAACyrW4+AAAAAHb7cT4AAAAAavicPQAAAAC1hBs+AAAAAKqvmT0AAAAAsq1uPgAAAABOr2k+AAAAALWEGz4AAAAAE0M2PgAAAAB72Is+AAAAAOGvRj4AAAAAWQsCPgAAAAAoEDc+AAAAABNDNj4AAAAAe9iLPgAAAADFbKw+AAAAAKH2uz4AAAAAhAYNPgAAAAAXaWc+AAAAAFFUVj4AAAAATq9pPgAAAAB+k7E+AAAAABdpZz4AAAAA",
         "AAAQpAAAAABVVR2kAAAAAAAAEKQAAAAAVVUdpAAAAACrqiqiAAAAAFVVHaQAAAAAq6oqogAAAABVVdUiAAAAAKuqKqIAAAAAAIC7JAAAAADUnww9AAAAAACAuyQAAAAAVVXVIgAAAABVVf2jAAAAAFVV1SIAAAAAAABoJAAAAADljQQ9AAAAAAAAaCQAAAAAAADAowAAAAAK1yM9AAAAAAAAwKMAAAAAcq4apAAAAAAK1yM9AAAAAHKuGqQAAAAAoMDnPgAAAAAR2a8+AAAAAKDA5z4AAAAACtcjPQAAAAAK1yM+AAAAAArXIz0AAAAAcvUpPwAAAADDMyI/AAAAAHL1KT8AAAAACtcjPgAAAADsUbg+AAAAAArXIz4AAAAACtcjPgAAAAC8cpg+AAAAAArXIz4AAAAA7FG4PgAAAAAK1yM/AAAAAOxRuD4AAAAA7FG4PgAAAAB9Bw0/AAAAAOxRuD4AAAAAAACAPwAAAAAAAIA/AAAAAAAAgD8AAAAAAACAPwAAAAAAAIA/AAAAAAAAgD8AAAAAAACAPwAAAAAAAIA/AAAAAAAAgD8AAAAAAACAPwAAAABy9Sk/AAAAAAAAgD8AAAAAAACAPwAAAAAAAIA/AAAAAAAAgD8AAAAAAACAPwAAAADDMyI/AAAAAAAAgD8AAAAAAACAPwAAAACk+iA/AAAAAAAAgD8AAAAAAACAPwAAAACk+iA/AAAAAAAAgD8AAAAAAACAPwAAAAAK1yM/AAAAAAAAgD8AAAAAcvUpPwAAAAAR2a8+AAAAAHL1KT8AAAAACtcjPwAAAADsUbg+AAAAAArXIz8AAAAA7FG4PgAAAAAK1yM+AAAAAOxRuD4AAAAArZ0CPgAAAADwSIA+AAAAAK2dAj4AAAAACtcjPgAAAAAK1yM9AAAAAArXIz4AAAAAAAA6pAAAAAD+Hhs9AAAAAAAAOqQAAAAACtcjPwAAAAAAAIA/AAAAAArXIz8AAAAAAACAPwAAAAA37Tc/AAAAAAAAgD8AAAAACtcjPQAAAAD+Hhs9AAAAAArXIz0AAAAA1J8MPQAAAADljQQ9AAAAANSfDD0AAAAA/h4bPQAAAADUnww9AAAAAP4eGz0AAAAA1J8MPQAAAACtnQI+AAAAANSfDD0AAAAAvHKYPgAAAAB9Bw0/AAAAALxymD4AAAAAfQcNPwAAAAA37Tc/AAAAAH0HDT8AAAAACtcjPQAAAACqeQE+AAAAAArXIz0AAAAA5Y0EPQAAAACqeQE+AAAAAOWNBD0AAAAAwzMiPwAAAACk+iA/AAAAAMMzIj8AAAAA7FG4PgAAAABEUrM+AAAAAOxRuD4AAAAAwzMiPwAAAABEUrM+AAAAAMMzIj8AAAAAN+03PwAAAABy9Sk/AAAAADftNz8AAAAA7FG4PgAAAAB81x4+AAAAAOxRuD4AAAAA/h4bPQAAAAC8Qxg+AAAAAP4eGz0AAAAAfNcePgAAAAC8Qxg+AAAAAHzXHj4AAAAAqnkBPgAAAAC8cpg+AAAAAKp5AT4AAAAAqnkBPgAAAADwSIA+AAAAAKp5AT4AAAAAvHKYPgAAAACgwOc+AAAAALxymD4AAAAArZ0CPgAAAAAR2a8+AAAAAK2dAj4AAAAAvEMYPgAAAAAR2a8+AAAAALxDGD4AAAAA"
        ],
        "Bezier_trig_points": [
         "AAAAAM3MTD4AAAAAAACwoimOij6zRkc+AAAAACb7lT1I2Pk+eLw9PgAAAABy1nM+KY6KPrNGRz4AAAAAJvuVPf2pNT8oNjg+AAAAANDpAD9I2Pk+eLw9PgAAAABy1nM+zcxMPwAAAAAAAAAACtcjP/2pNT8oNjg+AAAAANDpAD9+fCs/cyQAPwAAAAAZv+U+2klMPzwPtj4AAAAAyQUjPx0/9T5IBxY/AAAAAN3xaj5RLVU/tbALPwAAAABxhDE/2klMPzwPtj4AAAAAyQUjP73NVj9aAj4/AAAAAJ08ND9RLVU/tbALPwAAAABxhDE/AACAP83MTD8AAAAAAACAP55cMD/F/Vg/AAAAAPX+8j4XSgU/1JZQPwAAAAAkzIo+nlwwP8X9WD8AAAAA9f7yPp3Uqz4Yxks/AAAAAHSr5j0XSgU/1JZQPwAAAAAkzIo+zcxMPgAAgD8AAAAACtcjPZ3Uqz4Yxks/AAAAAHSr5j0B7hs+CQFLPwAAAAAl9L08xyArP7o7LD8AAAAAnMnkPgHuGz4JAUs/AAAAACX0vTxUPi0+4qbJPgAAAACaeuo8HT/1PkgHFj8AAAAA3fFqPlQ+LT7ipsk+AAAAAJp66jwAAAAAzcxMPgAAAAAAADGjvc1WP1oCPj8AAAAAnTw0P73NVj9aAj4/AAAAAJ08ND9UPi0+4qbJPgAAAACaeuo8jKkUPxbctj4AAAAA9aisPusVwD7QbsU+AAAAAOIgED7rFcA+0G7FPgAAAADiIBA+xyArP7o7LD8AAAAAnMnkPscgKz+6Oyw/AAAAAJzJ5D79qTU/KDY4PgAAAADQ6QA/jKkUPxbctj4AAAAA9aisPsIHgT6/gBc/AAAAAKMRgj0B7hs+CQFLPwAAAAAl9L08HT/1PkgHFj8AAAAA3fFqPscgKz+6Oyw/AAAAAJzJ5D7CB4E+v4AXPwAAAACjEYI9VD4tPuKmyT4AAAAAmnrqPMIHgT6/gBc/AAAAAKMRgj1+fCs/cyQAPwAAAAAZv+U+jKkUPxbctj4AAAAA9aisPn58Kz9zJAA/AAAAABm/5T7rFcA+0G7FPgAAAADiIBA+wgeBPr+AFz8AAAAAoxGCPQ==",
         "AAAAAM3MzD0AAAAAAAAFJI/0cD6zRsc9AAAAAEKwXT2KUuM+eLy9PQAAAAA54Ec+e62rPrNGxz0AAAAAQrDdPcuhJz8oNrg9AAAAAC//2T7fQgs/eLy9PQAAAAAr6JU+ZmZmPwAAAAAAAAAAzcxMP2U7QT8oNrg9AAAAAMpUET+iTis/FjAWPwAAAAA6ROU+7SRmP9E6jj4AAAAA2klMP6bp/z4OTzM/AAAAAIphfz6olmo/GxfyPgAAAABRLVU/7SRmPwRuwT4AAAAA2klMP95maz/6zSs/AAAAAL3NVj+olmo/J6USPwAAAABRLVU/AACAP2ZmZj8AAAAAAACAP7WUPj/ifmw/AAAAAOUWDT/ZcQ8/aktoPwAAAACD8p8+HPskP+J+bD8AAAAAV6LTPrVQvD4M42U/AAAAAOR2CT5+sOs+aktoPwAAAABZQ1U+zczMPQAAgD8AAAAAAMBiJoIdiT4M42U/AAAAAOR2iT0B7ps9hIBlPwAAAAAA+JQmbzUYP0dpPj8AAAAAHTOyPgHumz3r5ks/AAAAAACc8qZUPq09C23+PgAAAAAAsE2ljaQHP1N18T4AAAAA6mqOPlQ+rT3XOcs+AAAAAADg3CXNzMw9zczMPQAAAAAAALgk3mZrP5NnRT8AAAAAvc1WP0XNUT8tAV8/AAAAAMrXKz9UPq09pAaYPgAAAAAAwIej2MoIPyndij4AAAAAghaRPgpSpT4ViZQ+AAAAAPfszz0Z99w+hiaSPgAAAACadzs+DCdAPzf2Gz8AAAAAkYAOP0L3QD8KHzU/AAAAAO6WDz/+1Fo/e4FCPgAAAAD9qTU/xCklP5V7iT4AAAAALv3SPi9ulj5rozE/AAAAALA2rT0B7ps9UU0yPwAAAAAAkgkm3YnQPrDmMD8AAAAA15wkPrO+LT+/nEI/AAAAAOTI6z7CBwE+LI0YPwAAAAAAAESlUy1hPh6llj4AAAAAnIc7PeymVz4wVPw+AAAAAFCjLj0s4zs/ESzbPgAAAACt2Ag/s3kwP6l1tj4AAAAA/kPtPudUQD+U6gU/AAAAAPDMDj+CtPQ+cyW+PgAAAADHF18+1o6gPic4+j4AAAAAu6HBPQ==",
         "AAAAAAAAAAAAAAAAAADAo83MTD4AAAAAAAAAAArXIz3NzMw+AAAAAAAAAAAK1yM+zczMPgAAAAAAAAAACtcjPpqZGT8AAAAAAAAAAOxRuD6amRk/AAAAAAAAAADsUbg+AACAPwAAAAAAAAAAAACAP83MTD8AAAAAAAAAAArXIz/HICs/ujssPwAAAACcyeQ+AACAP83MTD4AAAAAAACAPxdKBT/UllA/AAAAACTMij4AAIA/zczMPgAAAAAAAIA/AACAP83MzD4AAAAAAACAPwAAgD+amRk/AAAAAAAAgD8AAIA/mpkZPwAAAAAAAIA/AACAPwAAgD8AAAAAAACAP83MTD8AAIA/AAAAAArXIz+amRk/AACAPwAAAADsUbg+mpkZPwAAgD8AAAAA7FG4Ps3MzD4AAIA/AAAAAArXIz7NzMw+AACAPwAAAAAK1yM+AAAAAAAAgD8AAAAAAABoJM3MTD4AAIA/AAAAAArXIz0AAAAAAACAPwAAAAAAAGCiF0oFP9SWUD8AAAAAJMyKPgAAAADNzEw/AAAAAAAAHCMAAAAAmpkZPwAAAAAAAEqjjKkUPxbctj4AAAAA9aisPgAAAADNzMw+AAAAAAAAYKLNzEw+AAAAAAAAAAAK1yM9AACAP83MTD8AAAAAAACAP83MTD8AAIA/AAAAAArXIz8AAAAAzcxMPgAAAAAAgLCjSNj5Pni8PT4AAAAActZzPimOij6zRkc+AAAAACb7lT1I2Pk+eLw9PgAAAABy1nM+US1VP7WwCz8AAAAAcYQxP73NVj9aAj4/AAAAAJ08ND8AAIA/zcxMPgAAAAAAAIA//ak1Pyg2OD4AAAAA0OkAP53Uqz4Yxks/AAAAAHSr5j0AAAAAmpkZPwAAAAAAwB0kndSrPhjGSz8AAAAAdKvmPZ5cMD/F/Vg/AAAAAPX+8j4AAAAAmpkZPwAAAAAAANCkKY6KPrNGRz4AAAAAJvuVPVQ+LT7ipsk+AAAAAJp66jzaSUw/PA+2PgAAAADJBSM/2klMPzwPtj4AAAAAyQUjP1EtVT+1sAs/AAAAAHGEMT+MqRQ/Fty2PgAAAAD1qKw+6xXAPtBuxT4AAAAA4iAQPg==",
         "zczMPc3MzD0AAAAAAADYJHutqz6zRsc9AAAAAEKw3T3fQgs/eLy9PQAAAAAr6JU+ODPCPpWBQj4AAAAAVTkHPmU7QT8oNrg9AAAAAMpUET8QSxk/UPk6PgAAAADRS7E+ZmZmP83MzD0AAAAAzcxMP/7UWj97gUI+AAAAAP2pNT8GDhM/3RULPwAAAABsSKQ+7SRmPwRuwT4AAAAA2klMP92J0D6w5jA/AAAAANecJD6olmo/J6USPwAAAABRLVU/lrtQP1K45j4AAAAAnB0qP95maz+TZ0U/AAAAAL3NVj+H/VU/h9kkPwAAAAA03zI/ZmZmP2ZmZj8AAAAAzcxMPxz7JD/ifmw/AAAAAFei0z5+sOs+aktoPwAAAABZQ1U+W9MaP0zKVD8AAAAAUqa3PoIdiT4M42U/AAAAAOR2iT1mNNs+di5OPwAAAABh7jI+Z100PoSAZT8AAAAAz3z5PJ3LeT6QY0s/AAAAAPdSUT0B7ps96+ZLPwAAAAAA3NqmK+ASP4EhIT8AAAAAj/CjPgHumz1RTTI/AAAAAABKziZUPq091znLPgAAAAAAwAklBg4TP90VCz8AAAAAbEikPlQ+rT2kBpg+AAAAAACA+qQpjgo+wAlKPgAAAAAAAMCkRc1RPy0BXz8AAAAAytcrPy2VQz8PgEs/AAAAACj7Ez9TLWE+HqWWPgAAAACchzs9xCklP5V7iT4AAAAALv3SPhn33D6GJpI+AAAAAJp3Oz6CtPQ+cyW+PgAAAADHF18+QvdAPwofNT8AAAAA7pYPP7O+LT+/nEI/AAAAAOTI6z7r+UA/KBWJPgAAAADe9xA/s3kwP6l1tj4AAAAA/kPtPsL+Tj7kQDE/AAAAAFAvHT3C/k4+5EAxPwAAAABQLx09byO7PgPEFj8AAAAAeDj3PW81GD9HaT4/AAAAAB0zsj7splc+MFT8PgAAAABQoy49i1qLPtmKxz4AAAAAlP2BPdaOoD4nOPo+AAAAALuhwT3nVEA/lOoFPwAAAADwzA4/BRMgP36S2z4AAAAAGCvHPqJOKz8WMBY/AAAAADpE5T6Eqto+sL74PgAAAABVBDg+byO7PgPEFj8AAAAAeDj3PQ==",
         "zczMPQAAAAAAAAAAAAAIJZqZmT4AAAAAAAAAAArXoz0AAAA/AAAAAAAAAACPwnU+ilLjPni8vT0AAAAAOeBHPjMzMz8AAAAAAAAAAI/C9T7LoSc/KDa4PQAAAAAv/9k+AACAP83MzD0AAAAAAACAP2ZmZj/NzMw9AAAAAM3MTD8r4BI/gSEhPwAAAACP8KM+AACAP5qZmT4AAAAAAACAP2Y02z52Lk4/AAAAAGHuMj4AAIA/AAAAPwAAAAAAAIA/qJZqPxsX8j4AAAAAUS1VPwAAgD8zMzM/AAAAAAAAgD/eZms/+s0rPwAAAAC9zVY/ZmZmPwAAgD8AAAAAzcxMPzMzMz8AAIA/AAAAAI/C9T4AAAA/AACAPwAAAACPwnU+2XEPP2pLaD8AAAAAg/KfPpqZmT4AAIA/AAAAAArXoz21ULw+DONlPwAAAADkdgk+Ae6bPYSAZT8AAAAAAAAMpmddND6EgGU/AAAAAM98+TwAAAAAZmZmPwAAAAAwVYmjpun/Pg5PMz8AAAAAimF/PgAAAAAzMzM/AAAAAEl/DSMAAAAAAAAAPwAAAACQgl6jBRMgP36S2z4AAAAAGCvHPgAAAACamZk+AAAAACxcMSOP9HA+s0bHPQAAAABCsF09ZmZmP2ZmZj8AAAAAzcxMP7WUPj/ifmw/AAAAAOUWDT8pjgo+wAlKPgAAAAAAAACkEEsZP1D5Oj4AAAAA0UuxPjgzwj6VgUI+AAAAAFU5Bz7Yygg/Kd2KPgAAAACCFpE+h/1VP4fZJD8AAAAANN8yPy2VQz8PgEs/AAAAACj7Ez/tJGY/0TqOPgAAAADaSUw/6/lAPygViT4AAAAA3vcQP53LeT6QY0s/AAAAAPdSUT3CBwE+LI0YPwAAAAAAACqmL26WPmujMT8AAAAAsDatPVvTGj9MylQ/AAAAAFKmtz5UPq09C23+PgAAAAAAAC4lClKlPhWJlD4AAAAA9+zPPYtaiz7Zisc+AAAAAJT9gT2Wu1A/UrjmPgAAAACcHSo/LOM7PxEs2z4AAAAArdgIPwwnQD839hs/AAAAAJGADj+NpAc/U3XxPgAAAADqao4+hKraPrC++D4AAAAAVQQ4Pg==",
         "zcxMPgAAAAAAAAAACtcjPc3MzD4AAAAAAAAAAArXIz6amRk/AAAAAAAAAADsUbg+SNj5Pni8PT4AAAAActZzPs3MTD8AAAAAAAAAAArXIz/9qTU/KDY4PgAAAADQ6QA/AACAP83MTD4AAAAAAACAPwAAgD/NzEw+AAAAAAAAgD8dP/U+SAcWPwAAAADd8Wo+AACAP83MzD4AAAAAAACAP53Uqz4Yxks/AAAAAHSr5j0AAIA/mpkZPwAAAAAAAIA/US1VP7WwCz8AAAAAcYQxPwAAgD/NzEw/AAAAAAAAgD+9zVY/WgI+PwAAAACdPDQ/zcxMPwAAgD8AAAAACtcjP5qZGT8AAIA/AAAAAOxRuD7NzMw+AACAPwAAAAAK1yM+F0oFP9SWUD8AAAAAJMyKPs3MTD4AAIA/AAAAAArXIz2d1Ks+GMZLPwAAAAB0q+Y9Ae4bPgkBSz8AAAAAJfS9PAHuGz4JAUs/AAAAACX0vTwAAAAAzcxMPwAAAAAAABwjHT/1PkgHFj8AAAAA3fFqPgAAAACamRk/AAAAAAAASqMAAAAAzczMPgAAAAAAAGCifnwrP3MkAD8AAAAAGb/lPgAAAADNzEw+AAAAAAAAsKIpjoo+s0ZHPgAAAAAm+5U9zcxMPwAAgD8AAAAACtcjP55cMD/F/Vg/AAAAAPX+8j4pjoo+s0ZHPgAAAAAm+5U9/ak1Pyg2OD4AAAAA0OkAP0jY+T54vD0+AAAAAHLWcz6MqRQ/Fty2PgAAAAD1qKw+vc1WP1oCPj8AAAAAnTw0P55cMD/F/Vg/AAAAAPX+8j7aSUw/PA+2PgAAAADJBSM/2klMPzwPtj4AAAAAyQUjPwHuGz4JAUs/AAAAACX0vTzCB4E+v4AXPwAAAACjEYI9wgeBPr+AFz8AAAAAoxGCPRdKBT/UllA/AAAAACTMij5UPi0+4qbJPgAAAACaeuo86xXAPtBuxT4AAAAA4iAQPusVwD7QbsU+AAAAAOIgED5RLVU/tbALPwAAAABxhDE/fnwrP3MkAD8AAAAAGb/lPscgKz+6Oyw/AAAAAJzJ5D4dP/U+SAcWPwAAAADd8Wo+HT/1PkgHFj8AAAAA3fFqPg==",
         "CtcjPQAAAAAAAMAiAAAAAP4eGz0AAAAAVVW/JAAAAADUnww9AAAAAFVV3aUAAAAA/h4bPQAAAAAA4B6lAAAAAOWNBD0AAAAAqyp2JgAAAADUnww9AAAAAAAAQaUAAAAAVVX9owAAAABVVaEjAAAAAOWNBD0AAAAARpWIpgAAAADwSIA+AAAAAMVsrD4AAAAAqnkBPgAAAADJpZE9AAAAABHZrz4AAAAAnnz0PgAAAAC8cpg+AAAAACGBXz4AAAAAqnkBPgAAAADJpRE+AAAAAH0HDT8AAAAA0gLkPgAAAAC8cpg+AAAAANmgpz4AAAAACtcjPwAAAADNzEw/AAAAADftNz8AAAAAxf1YPwAAAABy9Sk/AAAAANSWUD8AAAAAN+03PwAAAADF/Vg/AAAAAMMzIj8AAAAAGMZLPwAAAABy9Sk/AAAAANSWUD8AAAAAAACAPwAAAAAAAIA/AAAAAMMzIj8AAAAAGMZLPwAAAACk+iA/AAAAAAkBSz8AAAAAoMDnPgAAAAABVgw/AAAAAKT6ID8AAAAAOmciPwAAAAB81x4+AAAAAHb7cT4AAAAAEdmvPgAAAABRVFY+AAAAAHzXHj4AAAAAT1IhPgAAAAAK1yM9AAAAAACAviQAAAAAfQcNPwAAAADhARg/AAAAAH0HDT8AAAAAWgI+PwAAAAB81x4+AAAAAE9SoT0AAAAArZ0CPgAAAAAch4c9AAAAALxDGD4AAAAAqq+ZPQAAAAC8Qxg+AAAAAClUkj0AAAAAoMDnPgAAAACh9rs+AAAAAKDA5z4AAAAA0qv/PgAAAADljQQ9AAAAAIdeEz0AAAAArZ0CPgAAAADflIM9AAAAAERSsz4AAAAApjDxPgAAAACk+iA/AAAAANea8z4AAAAAEdmvPgAAAAC71+4+AAAAAKDA5z4AAAAAIP0RPwAAAABEUrM+AAAAALLNtT4AAAAAfNcePgAAAABq+Jw9AAAAAERSsz4AAAAAsq1uPgAAAADwSIA+AAAAABNDNj4AAAAArZ0CPgAAAABZCwI+AAAAAPBIgD4AAAAAe9iLPgAAAAC8Qxg+AAAAAIQGDT4AAAAARFKzPgAAAABOr2k+AAAAAA==",
         "AAAQpAAAAABVVa8kAAAAAFVVHaQAAAAAq6raJAAAAACrqiqiAAAAAFVVsCUAAAAAAIC7JAAAAADnsRM9AAAAAFVV1SIAAAAAVRXopQAAAAAAAGgkAAAAAJqHCD0AAAAAAADAowAAAAAAAEcmAAAAAHKuGqQAAAAAh14TPQAAAACgwOc+AAAAAAAylj4AAAAACtcjPQAAAADJpRE+AAAAAHL1KT8AAAAAu9fuPgAAAAAK1yM+AAAAANmgpz4AAAAACtcjPgAAAADhr0Y+AAAAAOxRuD4AAAAA4QEYPwAAAADsUbg+AAAAAN1czz4AAAAAAACAPwAAAADNzEw/AAAAAAAAgD8AAAAAxf1YPwAAAAAAAIA/AAAAANSWUD8AAAAAAACAPwAAAAAIzjA/AAAAAAAAgD8AAAAAGMZLPwAAAAAAAIA/AAAAAAIJJj8AAAAAAACAPwAAAAAJAUs/AAAAAAAAgD8AAAAA55YhPwAAAAAAAIA/AAAAADpnIj8AAAAAcvUpPwAAAADK38k+AAAAAArXIz8AAAAA15rzPgAAAADsUbg+AAAAAE9SIT4AAAAArZ0CPgAAAAAAMpY+AAAAAArXIz4AAAAAT1KhPQAAAAAAADqkAAAAAMJrHz0AAAAACtcjPwAAAABaAj4/AAAAAAAAgD8AAAAAVg4hPwAAAAAK1yM9AAAAAGr4nD0AAAAA1J8MPQAAAADflIM9AAAAAP4eGz0AAAAAKVSSPQAAAADUnww9AAAAAIQGDT4AAAAAvHKYPgAAAADSq/8+AAAAAH0HDT8AAAAAIP0RPwAAAAAK1yM9AAAAAHcBgz0AAAAA5Y0EPQAAAABZCwI+AAAAAMMzIj8AAAAAaEfwPgAAAADsUbg+AAAAAGhH8D4AAAAAwzMiPwAAAAB+k7E+AAAAADftNz8AAAAAAVYMPwAAAADsUbg+AAAAALKtbj4AAAAA/h4bPQAAAAC1hBs+AAAAAHzXHj4AAAAATq9pPgAAAACqeQE+AAAAAHvYiz4AAAAAqnkBPgAAAAAoEDc+AAAAALxymD4AAAAAxWysPgAAAACtnQI+AAAAABdpZz4AAAAAvEMYPgAAAAB+k7E+AAAAAA==",
         "VUpNJAAAAABVVR2kAAAAALgBGCEAAAAAq6oqogAAAACE7HmkAAAAAFVV1SIAAAAAAAAAAAAAAADUnww9AAAAALmY1yIAAAAAVVX9owAAAAAAAFAkAAAAAOWNBD0AAAAAAACopQAAAAAK1yM9AAAAAACAmCYAAAAACtcjPQAAAADK38k+AAAAABHZrz4AAAAACtejPQAAAAAK1yM+AAAAAAIJJj8AAAAAwzMiPwAAAACPwnU+AAAAAOxRuD4AAAAAIYFfPgAAAAC8cpg+AAAAAI/C9T4AAAAACtcjPwAAAADSAuQ+AAAAAH0HDT8AAAAAAACAPwAAAAAAAIA/AAAAAAAAgD8AAAAAAACAPwAAAAAAAIA/AAAAAAAAgD8AAAAA1JZQPwAAAABy9Sk/AAAAAAAAgD8AAAAAAACAPwAAAAAYxks/AAAAAMMzIj8AAAAACQFLPwAAAACk+iA/AAAAAAkBSz8AAAAApPogPwAAAADNzEw/AAAAAArXIz8AAAAAnnz0PgAAAAAR2a8+AAAAAI/C9T4AAAAA7FG4PgAAAACPwnU+AAAAAArXIz4AAAAAKBA3PgAAAADwSIA+AAAAAArXoz0AAAAACtcjPQAAAAAAAEAjAAAAAP4eGz0AAAAAzcxMPwAAAAAAAIA/AAAAAMX9WD8AAAAAN+03PwAAAADCax89AAAAAP4eGz0AAAAAmocIPQAAAADljQQ9AAAAAOexEz0AAAAA1J8MPQAAAAAch4c9AAAAAK2dAj4AAAAA3VzPPgAAAAB9Bw0/AAAAAFYOIT8AAAAAN+03PwAAAADJpZE9AAAAAKp5AT4AAAAAdwGDPQAAAACqeQE+AAAAAOeWIT8AAAAApPogPwAAAACyzbU+AAAAAERSsz4AAAAApjDxPgAAAABEUrM+AAAAAAjOMD8AAAAAcvUpPwAAAAB2+3E+AAAAAHzXHj4AAAAAqq+ZPQAAAAC8Qxg+AAAAALWEGz4AAAAAvEMYPgAAAADhr0Y+AAAAALxymD4AAAAAE0M2PgAAAADwSIA+AAAAAKH2uz4AAAAAoMDnPgAAAABRVFY+AAAAABHZrz4AAAAAF2lnPgAAAAAR2a8+AAAAAA=="
        ],
        "autoscale": true,
        "deformation": false,
        "draw_surf": true,
        "draw_vol": false,
        "edges": [
         "zcxMPgAAAAAAAAAAAAAAAM3MzD4AAAAAAAAAAAAAAACamRk/AAAAAAAAAAAAAAAAzcxMPwAAAAAAAAAAAAAAAAAAgD8AAAAAAAAAAAAAAAAAAIA/zcxMPgAAAAAAAAAAAACAP83MzD4AAAAAAAAAAAAAgD+amRk/AAAAAAAAAAAAAIA/zcxMPwAAAAAAAAAAAACAPwAAgD8AAAAAAAAAAM3MTD8AAIA/AAAAAAAAAACamRk/AACAPwAAAAAAAAAAzczMPgAAgD8AAAAAAAAAAM3MTD4AAIA/AAAAAAAAAAAAAAAAAACAPwAAAAAAAAAAAAAAAM3MTD8AAAAAAAAAAAAAAACamRk/AAAAAAAAAAAAAAAAzczMPgAAAAAAAAAAAAAAAM3MTD4AAAAAAAAAAAAAAAAAAAAAAAAAAAAAAAA=",
         "zczMPQAAAAAAAAAAAAAAAJqZmT4AAAAAAAAAAAAAAAAAAAA/AAAAAAAAAAAAAAAAMzMzPwAAAAAAAAAAAAAAAGZmZj8AAAAAAAAAAAAAAAAAAIA/zczMPQAAAAAAAAAAAACAP5qZmT4AAAAAAAAAAAAAgD8AAAA/AAAAAAAAAAAAAIA/MzMzPwAAAAAAAAAAAACAP2ZmZj8AAAAAAAAAAGZmZj8AAIA/AAAAAAAAAAAzMzM/AACAPwAAAAAAAAAAAAAAPwAAgD8AAAAAAAAAAJqZmT4AAIA/AAAAAAAAAADNzMw9AACAPwAAAAAAAAAAAAAAAGZmZj8AAAAAAAAAAAAAAAAzMzM/AAAAAAAAAAAAAAAAAAAAPwAAAAAAAAAAAAAAAJqZmT4AAAAAAAAAAAAAAADNzMw9AAAAAAAAAAA=",
         "AAAAAAAAAAAAAAAAAAAAAM3MTD4AAAAAAAAAAAAAAADNzMw+AAAAAAAAAAAAAAAAmpkZPwAAAAAAAAAAAAAAAM3MTD8AAAAAAAAAAAAAAAAAAIA/AAAAAAAAAAAAAAAAAACAP83MTD4AAAAAAAAAAAAAgD/NzMw+AAAAAAAAAAAAAIA/mpkZPwAAAAAAAAAAAACAP83MTD8AAAAAAAAAAAAAgD8AAIA/AAAAAAAAAADNzEw/AACAPwAAAAAAAAAAmpkZPwAAgD8AAAAAAAAAAM3MzD4AAIA/AAAAAAAAAADNzEw+AACAPwAAAAAAAAAAAAAAAAAAgD8AAAAAAAAAAAAAAADNzEw/AAAAAAAAAAAAAAAAmpkZPwAAAAAAAAAAAAAAAM3MzD4AAAAAAAAAAAAAAADNzEw+AAAAAAAAAAA="
        ],
        "fullscreen": false,
        "funcdim": 2,
        "funcmax": 1.0000000000000027,
        "funcmin": -9.020562075079397e-17,
        "gui_settings": {},
        "mesh_center": [
         0.5,
         0.5,
         1.1125369292536007e-308
        ],
        "mesh_dim": 2,
        "mesh_radius": 0.7071067811865476,
        "ngsolve_version": "6.2.2304",
        "objects": [],
        "order2d": 2,
        "order3d": 2,
        "show_mesh": true,
        "show_wireframe": true
       }
      }
     }
    },
    "version_major": 2,
    "version_minor": 0
   }
  }
 },
 "nbformat": 4,
 "nbformat_minor": 2
}
