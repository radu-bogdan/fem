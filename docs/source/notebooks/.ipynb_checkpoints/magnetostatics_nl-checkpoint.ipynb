{
 "cells": [
  {
   "cell_type": "markdown",
   "id": "89f2fe93-1606-49f3-87c7-f1d27952ee49",
   "metadata": {},
   "source": [
    "# Magnetostatics solution (nonlinear case)"
   ]
  },
  {
   "cell_type": "code",
   "execution_count": null,
   "id": "143856f1-c84b-4615-b459-3e803754a54a",
   "metadata": {},
   "outputs": [],
   "source": [
    "%%capture\n",
    "%run current_density.ipynb\n",
    "%run TEAM13_nonlinearity.ipynb"
   ]
  },
  {
   "cell_type": "code",
   "execution_count": null,
   "id": "da3bc14c-40eb-4076-a3cc-b285ce416b26",
   "metadata": {},
   "outputs": [],
   "source": [
    "##############################################################################\n",
    "# Tree/Cotree gauging\n",
    "##############################################################################\n",
    "MESH = pde.mesh3.netgen(geoOCCmesh)\n",
    "R = pde.tools.tree_cotree_gauge(MESH)"
   ]
  },
  {
   "cell_type": "code",
   "execution_count": null,
   "id": "6189e000-11cd-42a0-9210-efced1257005",
   "metadata": {},
   "outputs": [],
   "source": [
    "R"
   ]
  },
  {
   "cell_type": "code",
   "execution_count": null,
   "id": "89b4c1dc-c3d8-41e0-812b-992b9e3dd4a6",
   "metadata": {},
   "outputs": [],
   "source": [
    "##############################################################################\n",
    "# Assembly\n",
    "##############################################################################\n",
    "\n",
    "linear = '*coil,default'\n",
    "nonlinear = 'r_steel,l_steel,mid_steel'\n",
    "maxIter = 100\n",
    "\n",
    "order = 1\n",
    "\n",
    "fem_linear = pde.int.evaluate3(MESH, order = order, regions = linear).diagonal()\n",
    "fem_nonlinear = pde.int.evaluate3(MESH, order = order, regions = nonlinear).diagonal()\n",
    "\n",
    "D = pde.int.assemble3(MESH, order = order)\n",
    "\n",
    "phix_Hcurl, phiy_Hcurl, phiz_Hcurl = pde.hcurl.assemble3(MESH, space = 'N0', matrix = 'M', order = order)\n",
    "curlphix_Hcurl, curlphiy_Hcurl, curlphiz_Hcurl = pde.hcurl.assemble3(MESH, space = 'N0', matrix = 'K', order = order)\n",
    "\n",
    "aJ = jx_L2 @ D @ phix_Hcurl.T +\\\n",
    "     jy_L2 @ D @ phiy_Hcurl.T +\\\n",
    "     jz_L2 @ D @ phiz_Hcurl.T\n",
    "     \n",
    "aJ = 1e7*aJ\n",
    "\n",
    "def gss(A):\n",
    "    curl_Ax = curlphix_Hcurl.T@A; curl_Ay = curlphiy_Hcurl.T@A; curl_Az = curlphiz_Hcurl.T@A\n",
    "    \n",
    "    Kxx = curlphix_Hcurl @ D @ sp.diags(fxx_linear(curl_Ax,curl_Ay,curl_Az)*fem_linear + fxx_nonlinear(curl_Ax,curl_Ay,curl_Az)*fem_nonlinear)@ curlphix_Hcurl.T\n",
    "    Kyy = curlphiy_Hcurl @ D @ sp.diags(fyy_linear(curl_Ax,curl_Ay,curl_Az)*fem_linear + fyy_nonlinear(curl_Ax,curl_Ay,curl_Az)*fem_nonlinear)@ curlphiy_Hcurl.T\n",
    "    Kzz = curlphiz_Hcurl @ D @ sp.diags(fzz_linear(curl_Ax,curl_Ay,curl_Az)*fem_linear + fzz_nonlinear(curl_Ax,curl_Ay,curl_Az)*fem_nonlinear)@ curlphiz_Hcurl.T\n",
    "    \n",
    "    Kxy = curlphiy_Hcurl @ D @ sp.diags(fxy_linear(curl_Ax,curl_Ay,curl_Az)*fem_linear + fxy_nonlinear(curl_Ax,curl_Ay,curl_Az)*fem_nonlinear)@ curlphix_Hcurl.T\n",
    "    Kxz = curlphiz_Hcurl @ D @ sp.diags(fxz_linear(curl_Ax,curl_Ay,curl_Az)*fem_linear + fxz_nonlinear(curl_Ax,curl_Ay,curl_Az)*fem_nonlinear)@ curlphix_Hcurl.T\n",
    "    \n",
    "    Kyx = curlphix_Hcurl @ D @ sp.diags(fyx_linear(curl_Ax,curl_Ay,curl_Az)*fem_linear + fyx_nonlinear(curl_Ax,curl_Ay,curl_Az)*fem_nonlinear)@ curlphiy_Hcurl.T\n",
    "    Kyz = curlphiz_Hcurl @ D @ sp.diags(fyz_linear(curl_Ax,curl_Ay,curl_Az)*fem_linear + fyz_nonlinear(curl_Ax,curl_Ay,curl_Az)*fem_nonlinear)@ curlphiy_Hcurl.T\n",
    "    \n",
    "    Kzx = curlphix_Hcurl @ D @ sp.diags(fzx_linear(curl_Ax,curl_Ay,curl_Az)*fem_linear + fzx_nonlinear(curl_Ax,curl_Ay,curl_Az)*fem_nonlinear)@ curlphiz_Hcurl.T\n",
    "    Kzy = curlphiy_Hcurl @ D @ sp.diags(fzy_linear(curl_Ax,curl_Ay,curl_Az)*fem_linear + fzy_nonlinear(curl_Ax,curl_Ay,curl_Az)*fem_nonlinear)@ curlphiz_Hcurl.T\n",
    "    \n",
    "    return Kxx + Kyy + Kzz + Kxy + Kxz + Kyx + Kyz + Kzx + Kzy\n",
    "    \n",
    "def gs(A):\n",
    "    curl_Ax = curlphix_Hcurl.T@A; curl_Ay = curlphiy_Hcurl.T@A; curl_Az = curlphiz_Hcurl.T@A\n",
    "    return curlphix_Hcurl @ D @ (fx_linear(curl_Ax,curl_Ay,curl_Az)*fem_linear + fx_nonlinear(curl_Ax,curl_Ay,curl_Az)*fem_nonlinear) +\\\n",
    "           curlphiy_Hcurl @ D @ (fy_linear(curl_Ax,curl_Ay,curl_Az)*fem_linear + fy_nonlinear(curl_Ax,curl_Ay,curl_Az)*fem_nonlinear) +\\\n",
    "           curlphiz_Hcurl @ D @ (fz_linear(curl_Ax,curl_Ay,curl_Az)*fem_linear + fz_nonlinear(curl_Ax,curl_Ay,curl_Az)*fem_nonlinear) - aJ\n",
    "           \n",
    "def J(A):\n",
    "    curl_Ax = curlphix_Hcurl.T@A; curl_Ay = curlphiy_Hcurl.T@A; curl_Az = curlphiz_Hcurl.T@A\n",
    "    return np.ones(D.size)@ D @(f_linear(curl_Ax,curl_Ay,curl_Az)*fem_linear + f_nonlinear(curl_Ax,curl_Ay,curl_Az)*fem_nonlinear) -aJ@A\n",
    "\n",
    "\n",
    "\n",
    "\n",
    "import time\n",
    "A = np.zeros(curlphix_Hcurl.shape[0])\n",
    "mu = 0.0001\n",
    "eps_newton = 1e-5\n",
    "factor_residual = 1/2\n",
    "\n",
    "tm = time.monotonic()\n",
    "for i in range(maxIter):\n",
    "    \n",
    "    gssu = R.T @ gss(A) @ R\n",
    "    gsu = R.T @ gs(A)\n",
    "    \n",
    "    tm = time.monotonic()\n",
    "    # wS = chol(gssu).solve_A(-gsu)\n",
    "    wS = sp.linalg.spsolve(gssu, -gsu)\n",
    "    print('Solving took ', time.monotonic()-tm)\n",
    "    \n",
    "    w = R@wS\n",
    "    \n",
    "    alpha = 1\n",
    "    \n",
    "    # ResidualLineSearch\n",
    "    # for k in range(1000):\n",
    "    #     if np.linalg.norm(gs(A+alpha*w),np.inf) <= np.linalg.norm(gs(A),np.inf): break\n",
    "    #     else: alpha = alpha*factor_residual\n",
    "    \n",
    "    # AmijoBacktracking\n",
    "    float_eps = 1e-12; #float_eps = np.finfo(float).eps\n",
    "    for kk in range(1000):\n",
    "        if J(A+alpha*w)-J(A) <= alpha*mu*(gsu@wS) + np.abs(J(A))*float_eps: break\n",
    "        else: alpha = alpha*factor_residual\n",
    "    \n",
    "    \n",
    "    A_old_i = A\n",
    "    A = A + alpha*w\n",
    "    \n",
    "    print (\"NEWTON: Iteration: %2d \" %(i+1)+\"||obj: %2e\" %J(A)+\"|| ||grad||: %2e\" %np.linalg.norm(R.T @ gs(A),np.inf)+\"||alpha: %2e\" % (alpha))\n",
    "    \n",
    "    \n",
    "    # if ( np.linalg.norm(R.T @ gs(A),np.inf) < eps_newton):\n",
    "    #     break\n",
    "    if (np.abs(J(A)-J(A_old_i)) < 1e-5):\n",
    "        break\n",
    "    \n",
    "elapsed = time.monotonic()-tm\n",
    "print('Solving took ', elapsed, 'seconds')"
   ]
  },
  {
   "cell_type": "code",
   "execution_count": null,
   "id": "5f04c1a9-669b-449c-b003-6fc336fb4b5c",
   "metadata": {},
   "outputs": [],
   "source": [
    "curlphix_Hcurl_P0, curlphiy_Hcurl_P0, curlphiz_Hcurl_P0 = pde.hcurl.assemble3(MESH, space = 'N0', matrix = 'K', order = 0)\n",
    "Bx = curlphix_Hcurl_P0.T @ A\n",
    "By = curlphiy_Hcurl_P0.T @ A\n",
    "Bz = curlphiz_Hcurl_P0.T @ A"
   ]
  },
  {
   "cell_type": "code",
   "execution_count": null,
   "id": "10c50cc3-61bd-4e57-a2e5-2aba73733131",
   "metadata": {},
   "outputs": [],
   "source": [
    "##############################################################################\n",
    "# Storing to vtk\n",
    "##############################################################################\n",
    "\n",
    "grid = pde.tools.vtklib.createVTK(MESH)\n",
    "pde.tools.vtklib.add_L2_Vector(grid,Bx,By,Bz,'grad_x')\n",
    "pde.tools.vtklib.writeVTK(grid, 'magnetostatics_solution.vtu')\n"
   ]
  },
  {
   "cell_type": "code",
   "execution_count": null,
   "id": "f0f74207-6ae1-4b56-bec5-e263b1da8e32",
   "metadata": {},
   "outputs": [],
   "source": [
    "import pyvista as pv\n",
    "mesh = pv.read('magnetostatics_solution.vtu')\n",
    "mesh2 = pv.read('current_density.vtu')\n",
    "\n",
    "mesh.set_active_scalars(\"Scalars_\")\n",
    "threshed = mesh.threshold([0,4])\n",
    "\n",
    "p = pv.Plotter()\n",
    "p.add_mesh(threshed, style='surface', color = \"w\", opacity=0.2, label=None)\n",
    "\n",
    "threshed.set_active_vectors(\"grad_x\")\n",
    "arrows = mesh.glyph(scale=\"grad_x\", orient=True, tolerance=0.03, factor=18)\n",
    "p.add_mesh(arrows, color=\"orange\")\n",
    "\n",
    "\n",
    "mesh2.set_active_vectors(\"J_L2\")\n",
    "arrows2 = mesh2.glyph(scale=\"J_L2\", orient=True, tolerance=0.03, factor=9500.0)\n",
    "p.add_mesh(arrows2, color=\"black\")\n",
    "\n",
    "p.camera_position = [(0, -500, 200),(0, 0, 0),(0, 0, 0)]\n",
    "p.show(jupyter_backend=\"html\")"
   ]
  },
  {
   "cell_type": "code",
   "execution_count": null,
   "id": "182c7305-ab19-4efa-b8cb-c2f0e8a8b3fa",
   "metadata": {},
   "outputs": [],
   "source": []
  }
 ],
 "metadata": {
  "kernelspec": {
   "display_name": "Python 3 (ipykernel)",
   "language": "python",
   "name": "python3"
  },
  "language_info": {
   "codemirror_mode": {
    "name": "ipython",
    "version": 3
   },
   "file_extension": ".py",
   "mimetype": "text/x-python",
   "name": "python",
   "nbconvert_exporter": "python",
   "pygments_lexer": "ipython3",
   "version": "3.11.7"
  },
  "widgets": {
   "application/vnd.jupyter.widget-state+json": {
    "state": {},
    "version_major": 2,
    "version_minor": 0
   }
  }
 },
 "nbformat": 4,
 "nbformat_minor": 5
}
