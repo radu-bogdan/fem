{
 "cells": [
  {
   "cell_type": "code",
   "execution_count": null,
   "id": "d78a4b0a-dba5-401c-a1da-e114cbd121f5",
   "metadata": {},
   "outputs": [],
   "source": [
    "import netgen.occ as occ\n",
    "from netgen.webgui import Draw as DrawGeo\n",
    "\n",
    "inch2m = 2.54e-2;\n",
    "l = inch2m*0.01;\n",
    "lout = 15*l;\n",
    "depth = 1;\n",
    "\n",
    "\n",
    "\n",
    "big_box = occ.Box(occ.Pnt(1.25*inch2m, -0.75*inch2m, (depth+0.5)*inch2m), occ.Pnt(0, 1.25*inch2m, depth/2*inch2m))\n",
    "coil_ext = occ.Box(occ.Pnt(5.000000e-1*inch2m, 0*inch2m, (depth+2.5e-1)*inch2m), occ.Pnt(0, 5.000000e-1*inch2m, depth*inch2m))\n",
    "iron_bot = occ.Box(occ.Pnt(7.500000e-1*inch2m, -2.750000e-1*inch2m, depth*inch2m), occ.Pnt(0, -2.500000e-02*inch2m, depth/2*inch2m))\n",
    "airgap = occ.Box(occ.Pnt(7.500000e-1*inch2m, -2.500000e-02*inch2m, depth*inch2m), occ.Pnt(0, 0*inch2m, depth/2*inch2m))\n",
    "iron_top_and_coil_int = occ.Box(occ.Pnt(7.500000e-1*inch2m, 0*inch2m, depth*inch2m), occ.Pnt(0, 7.500000e-1*inch2m, depth/2*inch2m))\n",
    "coil_int = occ.Box(occ.Pnt(5.000000e-1*inch2m, 0*inch2m, depth*inch2m), occ.Pnt(2.500000e-1*inch2m, 5.000000e-1*inch2m, depth/2*inch2m))\n",
    "iron_top = iron_top_and_coil_int-coil_int\n",
    "outer_box = big_box - coil_ext - iron_bot - airgap - iron_top_and_coil_int\n",
    "\n",
    "for face in outer_box.faces: face.name = 'outer'\n",
    "# for face in coil_int.faces: face.name = 'coilfaces'\n",
    "coil_int.faces[3].name = \"coil1\"\n",
    "\n",
    "full = occ.Glue([outer_box, coil_ext, iron_bot, airgap, coil_int, iron_top])\n",
    "# full.faces[27].name = \"coil1\"\n",
    "# full.faces[35].name = \"coil2\"\n",
    "\n",
    "geoOCC = occ.OCCGeometry(full)\n",
    "geoOCCmesh = geoOCC.GenerateMesh()\n",
    "# geoOCCmesh.Refine()\n",
    "\n",
    "DrawGeo(full, clipping={\"z\":-1, \"dist\":64})\n",
    "DrawGeo(geoOCCmesh, clipping={\"z\":-1, \"dist\":64})\n",
    "\n",
    "import ngsolve as ng\n",
    "\n",
    "ngmesh = ng.Mesh(geoOCCmesh)\n",
    "ngmesh.GetBoundaries()"
   ]
  },
  {
   "cell_type": "code",
   "execution_count": null,
   "id": "15e0029b-f254-44d0-bf17-ddf201e2a367",
   "metadata": {},
   "outputs": [],
   "source": []
  },
  {
   "cell_type": "code",
   "execution_count": null,
   "id": "11d17ae3-598a-4cb4-b9a8-cf59f3f8753d",
   "metadata": {},
   "outputs": [],
   "source": []
  }
 ],
 "metadata": {
  "kernelspec": {
   "display_name": "Python 3 (ipykernel)",
   "language": "python",
   "name": "python3"
  },
  "language_info": {
   "codemirror_mode": {
    "name": "ipython",
    "version": 3
   },
   "file_extension": ".py",
   "mimetype": "text/x-python",
   "name": "python",
   "nbconvert_exporter": "python",
   "pygments_lexer": "ipython3",
   "version": "3.10.13"
  },
  "widgets": {
   "application/vnd.jupyter.widget-state+json": {
    "state": {},
    "version_major": 2,
    "version_minor": 0
   }
  }
 },
 "nbformat": 4,
 "nbformat_minor": 5
}
