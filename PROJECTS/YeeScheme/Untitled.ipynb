{
 "cells": [
  {
   "cell_type": "code",
   "execution_count": 1,
   "id": "5e3e607f-e402-4912-bfbd-3b92ca37b074",
   "metadata": {},
   "outputs": [],
   "source": [
    "from sksparse.cholmod import cholesky"
   ]
  },
  {
   "cell_type": "code",
   "execution_count": 2,
   "id": "c3aefd59-1653-4dab-a3f0-8fa822028b35",
   "metadata": {},
   "outputs": [
    {
     "data": {
      "text/plain": [
       "<cyfunction cholesky at 0x7ff53fe3c450>"
      ]
     },
     "execution_count": 2,
     "metadata": {},
     "output_type": "execute_result"
    }
   ],
   "source": [
    "cholesky"
   ]
  },
  {
   "cell_type": "code",
   "execution_count": null,
   "id": "71a3bd71-391e-4893-ac01-0ba7787f5d2d",
   "metadata": {},
   "outputs": [],
   "source": []
  }
 ],
 "metadata": {
  "kernelspec": {
   "display_name": "Python 3 (ipykernel)",
   "language": "python",
   "name": "python3"
  },
  "language_info": {
   "codemirror_mode": {
    "name": "ipython",
    "version": 3
   },
   "file_extension": ".py",
   "mimetype": "text/x-python",
   "name": "python",
   "nbconvert_exporter": "python",
   "pygments_lexer": "ipython3",
   "version": "3.9.13"
  }
 },
 "nbformat": 4,
 "nbformat_minor": 5
}
