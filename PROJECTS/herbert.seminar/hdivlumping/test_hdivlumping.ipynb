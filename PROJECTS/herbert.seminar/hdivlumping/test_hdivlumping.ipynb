{
 "cells": [
  {
   "cell_type": "code",
   "execution_count": 1,
   "metadata": {
    "scrolled": true
   },
   "outputs": [],
   "source": [
    "from time import sleep\n",
    "from ngsolve.fem import CompilePythonModule\n",
    "from pathlib import Path\n",
    "from ngsolve import *\n",
    "from netgen.geom2d import unit_square\n",
    "from netgen import geom2d\n",
    "from ngsolve.webgui import Draw"
   ]
  },
  {
   "cell_type": "code",
   "execution_count": 2,
   "metadata": {
    "scrolled": true
   },
   "outputs": [],
   "source": [
    "def UnitTrig():\n",
    "    geo = geom2d.SplineGeometry()\n",
    "    p1 = geo.AppendPoint (0,0)\n",
    "    p2 = geo.AppendPoint (1,0)\n",
    "    p3 = geo.AppendPoint (0,1)\n",
    "    geo.Append ([\"line\", p1, p2])\n",
    "    geo.Append ([\"line\", p2, p3])\n",
    "    geo.Append ([\"line\", p3, p1])\n",
    "    return Mesh(geo.GenerateMesh(maxh=1))\n",
    "\n",
    "def TrigA():\n",
    "    geo = geom2d.SplineGeometry()\n",
    "    p1 = geo.AppendPoint (0,0)\n",
    "    p2 = geo.AppendPoint (1,0)\n",
    "    p3 = geo.AppendPoint (1,1)\n",
    "    geo.Append ([\"line\", p1, p2])\n",
    "    geo.Append ([\"line\", p2, p3])\n",
    "    geo.Append ([\"line\", p3, p1])\n",
    "    return Mesh(geo.GenerateMesh(maxh=1))\n",
    "def TrigB():\n",
    "    geo = geom2d.SplineGeometry()\n",
    "    p1 = geo.AppendPoint (1,0)\n",
    "    p2 = geo.AppendPoint (1,1)\n",
    "    p3 = geo.AppendPoint (0,1)\n",
    "    geo.Append ([\"line\", p1, p2])\n",
    "    geo.Append ([\"line\", p2, p3])\n",
    "    geo.Append ([\"line\", p3, p1])\n",
    "    return Mesh(geo.GenerateMesh(maxh=1))\n",
    "\n",
    "def UnitSquare():\n",
    "    geo = geom2d.SplineGeometry()\n",
    "    p1 = geo.AppendPoint (-1,-1)\n",
    "    p2 = geo.AppendPoint (1,-1)\n",
    "    p3 = geo.AppendPoint (1,1)\n",
    "    p4 = geo.AppendPoint (-1,1)\n",
    "    geo.Append ([\"line\", p1, p2])\n",
    "    geo.Append ([\"line\", p2, p3])\n",
    "    geo.Append ([\"line\", p3, p4])\n",
    "    geo.Append ([\"line\", p4, p1])\n",
    "    return Mesh(geo.GenerateMesh (maxh=0.1))\n",
    "\n",
    "def TwoTrigs(_maxh=1, antidiagonal=False):\n",
    "    geo = geom2d.SplineGeometry()\n",
    "    p1 = geo.AppendPoint (0,0)\n",
    "    p2 = geo.AppendPoint (1,0)\n",
    "    p3 = geo.AppendPoint (0,1)\n",
    "    p4 = geo.AppendPoint (1,1)\n",
    "    geo.Append ([\"line\", p1, p2])\n",
    "    if antidiagonal:\n",
    "        geo.Append ([\"line\", p2, p3], leftdomain=1,rightdomain=1)\n",
    "    geo.Append ([\"line\", p3, p1])\n",
    "    geo.Append ([\"line\", p2, p4])\n",
    "    geo.Append ([\"line\", p4, p3])\n",
    "    return Mesh(geo.GenerateMesh(maxh=_maxh))"
   ]
  },
  {
   "cell_type": "code",
   "execution_count": 3,
   "metadata": {},
   "outputs": [
    {
     "ename": "NgException",
     "evalue": "problem calling compiler",
     "output_type": "error",
     "traceback": [
      "\u001b[1;31m---------------------------------------------------------------------------\u001b[0m",
      "\u001b[1;31mNgException\u001b[0m                               Traceback (most recent call last)",
      "Cell \u001b[1;32mIn[3], line 1\u001b[0m\n\u001b[1;32m----> 1\u001b[0m mm \u001b[38;5;241m=\u001b[39m \u001b[43mCompilePythonModule\u001b[49m\u001b[43m(\u001b[49m\u001b[43mPath\u001b[49m\u001b[43m(\u001b[49m\u001b[38;5;124;43m'\u001b[39;49m\u001b[38;5;124;43mmymodule.cpp\u001b[39;49m\u001b[38;5;124;43m'\u001b[39;49m\u001b[43m)\u001b[49m\u001b[43m,\u001b[49m\u001b[43m \u001b[49m\u001b[43minit_function_name\u001b[49m\u001b[38;5;241;43m=\u001b[39;49m\u001b[38;5;124;43m'\u001b[39;49m\u001b[38;5;124;43mmymodule\u001b[39;49m\u001b[38;5;124;43m'\u001b[39;49m\u001b[43m)\u001b[49m\n",
      "\u001b[1;31mNgException\u001b[0m: problem calling compiler"
     ]
    }
   ],
   "source": [
    "mm = CompilePythonModule(Path('mymodule.cpp'), init_function_name='mymodule')"
   ]
  },
  {
   "cell_type": "code",
   "execution_count": null,
   "metadata": {},
   "outputs": [],
   "source": [
    "mesh=TwoTrigs(_maxh=2**-6)\n",
    "#fes = mm.HDivLumpingFESpace(mesh, verbose=True)\n",
    "fes = mm.HDivLumpingFESpace(mesh, verbose=False)\n",
    "hdivfes = HDiv(mesh, order=1, RT=True)\n",
    "gfu = GridFunction(fes)"
   ]
  },
  {
   "cell_type": "code",
   "execution_count": null,
   "metadata": {},
   "outputs": [],
   "source": [
    "uex=(2*exp(-50*((x+1))**2),0)\n",
    "\n",
    "gfu.Set(uex)\n",
    "Draw(gfu, order=3, vectors={\"grid_size\" : 40})"
   ]
  },
  {
   "cell_type": "code",
   "execution_count": null,
   "metadata": {},
   "outputs": [],
   "source": [
    "lumping=IntegrationRule( [(0,0),(1,0),(0,1),(1/3,1/3)], [3/8,3/8,3/8,1/24])\n",
    "\n",
    "u,v=fes.TnT()\n",
    "mform=u*v*dx#(intrules={TRIG : lumping})\n",
    "aform=div(u)*div(v)*dx\n",
    "\n",
    "m=BilinearForm(mform).Assemble()\n",
    "a=BilinearForm(aform).Assemble()"
   ]
  },
  {
   "cell_type": "code",
   "execution_count": null,
   "metadata": {},
   "outputs": [],
   "source": [
    "rows,cols,vals = m.mat.COO()\n",
    "import scipy.sparse as sp\n",
    "A = sp.csr_matrix((vals,(rows,cols)))\n",
    "import matplotlib.pylab as plt\n",
    "plt.spy(A,precision=1e-16)\n",
    "plt.show()"
   ]
  },
  {
   "cell_type": "code",
   "execution_count": null,
   "metadata": {},
   "outputs": [],
   "source": [
    "tau = 0.0005\n",
    "tend = 1\n",
    "u0 = (2*exp(-50*(x)**2),2*exp(-50*(x)**2))# (-sin(pi*(x))*cos(0*pi),0)\n",
    "v0 = 0\n",
    "t=1\n",
    "uex= (cos(pi*x)*cos(t*pi),0)\n",
    "\n",
    "gfu = GridFunction(fes)\n",
    "gfu.Set(u0)\n",
    "\n",
    "scene = Draw((gfu), mesh, order=2, autoscale=False, eval=0)\n",
    "sleep (1)\n",
    "unew = gfu.vec.CreateVector()\n",
    "uold = gfu.vec.CreateVector()\n",
    "uold.data = gfu.vec\n",
    "\n",
    "def VertexPatchBlocks(mesh, fes):\n",
    "    nedges=fes.GetNEdges()\n",
    "    nel=fes.GetNE()\n",
    "    blocks = []\n",
    "    freedofs = fes.FreeDofs()\n",
    "    for v in mesh.vertices:\n",
    "        vdofs=set()\n",
    "        for e in mesh[v].edges:\n",
    "            dofs=fes.GetDofNrs(e)\n",
    "            if (v in mesh[e].vertices):\n",
    "                vdofs.add(dofs[mesh[e].vertices.index(v)])\n",
    "#                print(v, \":\",e,\":\",mesh[e].vertices,\":\",dofs)\n",
    "#            i=0\n",
    "#            for ed in mesh[el].edges:\n",
    "#                blocks[mesh[ed].vertices[0].nr].add(dofs[i])\n",
    "#                blocks[mesh[ed].vertices[1].nr].add(dofs[i + 4])\n",
    "#                i+=1#\n",
    "        blocks.append(vdofs)\n",
    "    for e in mesh.Elements(VOL):\n",
    "        a=set()\n",
    "        a|=set([2*nedges+2*e.nr])\n",
    "        a|=set([2*nedges+2*e.nr+1])\n",
    "        blocks.append(a)\n",
    "    return blocks\n",
    "\n",
    "blocks = VertexPatchBlocks(mesh, fes)\n",
    "blockjac = m.mat.CreateBlockSmoother(blocks)\n",
    "\n",
    "minv=m.mat.Inverse(inverse='umfpack')\n",
    "\n",
    "for n in range(int(tend/tau)):\n",
    "    unew.data = 2*gfu.vec - uold \n",
    "    unew.data -= tau**2 * (minv*(a.mat * gfu.vec))\n",
    "    #unew.data -= tau**2 * blockjac@a.mat * gfu.vec\n",
    "    uold.data = gfu.vec\n",
    "    gfu.vec.data = unew.data\n",
    "    if n % 20 == 0:\n",
    "        scene.Redraw()\n",
    "scene.Redraw()\n",
    "\n"
   ]
  },
  {
   "cell_type": "code",
   "execution_count": null,
   "metadata": {},
   "outputs": [],
   "source": [
    "for e in mesh.Elements(VOL):\n",
    "    print(fes.GetDofNrs(e))\n",
    "    print(hdivfes.GetDofNrs(e))"
   ]
  },
  {
   "cell_type": "code",
   "execution_count": null,
   "metadata": {
    "scrolled": true
   },
   "outputs": [],
   "source": [
    "for i in range(fes.ndof):#[1, 2, 0, 4, 5, 3]:\n",
    "    gfu.vec[:]=0\n",
    "    gfu.vec[i]=1\n",
    "    Draw(gfu, order=3,vectors={\"grid_size\":40})"
   ]
  }
 ],
 "metadata": {
  "kernelspec": {
   "display_name": "Python 3 (ipykernel)",
   "language": "python",
   "name": "python3"
  },
  "language_info": {
   "codemirror_mode": {
    "name": "ipython",
    "version": 3
   },
   "file_extension": ".py",
   "mimetype": "text/x-python",
   "name": "python",
   "nbconvert_exporter": "python",
   "pygments_lexer": "ipython3",
   "version": "3.10.13"
  },
  "widgets": {
   "application/vnd.jupyter.widget-state+json": {
    "state": {},
    "version_major": 2,
    "version_minor": 0
   }
  }
 },
 "nbformat": 4,
 "nbformat_minor": 4
}
