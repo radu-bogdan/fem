{
 "cells": [
  {
   "cell_type": "code",
   "execution_count": 52,
   "metadata": {},
   "outputs": [
    {
     "data": {
      "image/png": "[encoded data removed]",
      "text/plain": [
       "<Figure size 640x480 with 1 Axes>"
      ]
     },
     "metadata": {},
     "output_type": "display_data"
    }
   ],
   "source": [
    "import ngsolve as ngs\n",
    "from netgen.geom2d import unit_square\n",
    "mesh = ngs.Mesh(unit_square.GenerateMesh(maxh=0.01))\n",
    "\n",
    "\n",
    "order = 1\n",
    "# Q = ngs.HDiv(mesh, order=order-1, discontinuous=True)\n",
    "Q = ngs.VectorL2(mesh, order=order-1)\n",
    "V = ngs.H1(mesh, order=order, dirichlet=\"bottom|right\")\n",
    "\n",
    "# F = FacetFESpace(mesh, order=order, dirichlet=\"bottom\")\n",
    "X = Q*V\n",
    "\n",
    "\n",
    "(p,u),(q,v) = X.TnT()\n",
    "\n",
    "\n",
    "\n",
    "K = ngs.BilinearForm(X, condense=True)\n",
    "K += (p*q + ngs.grad(u)*q + p*ngs.grad(v)-1e-6*u*v)*ngs.dx\n",
    "K.Assemble()\n",
    "\n",
    "f = ngs.LinearForm(X, condense=True)\n",
    "f += 1*v*ngs.dx\n",
    "f.Assemble()\n",
    "\n",
    "rows,cols,vals = K.mat.COO()\n",
    "import scipy.sparse as sp\n",
    "KS = sp.csr_matrix((vals,(rows,cols)))\n",
    "\n",
    "import matplotlib.pylab as plt\n",
    "plt.spy(KS, markersize=1)\n",
    "\n",
    "gfx = ngs.GridFunction(X)\n",
    "gfx.vec.data = K.mat.Inverse(X.FreeDofs(), inverse='pardiso') * f.vec\n",
    "\n",
    "invS = K.mat.Inverse(freedofs=X.FreeDofs(coupling=True))\n",
    "ext = ngs.IdentityMatrix() + K.harmonic_extension\n",
    "extT = ngs.IdentityMatrix() + K.harmonic_extension_trans\n",
    "invK =  ext @ invS @ extT + K.inner_solve\n",
    "\n",
    "gfx.vec.data = invK * f.vec\n",
    "gfp, gfu = gfx.components"
   ]
  },
  {
   "cell_type": "code",
   "execution_count": 55,
   "metadata": {},
   "outputs": [
    {
     "data": {
      "application/vnd.jupyter.widget-view+json": {
       "model_id": "03a7b89ca82a455299b9dc87df1328fd",
       "version_major": 2,
       "version_minor": 0
      },
      "text/plain": [
       "WebGuiWidget(layout=Layout(height='500px', width='100%'), value={'gui_settings': {}, 'ngsolve_version': '6.2.2…"
      ]
     },
     "metadata": {},
     "output_type": "display_data"
    },
    {
     "data": {
      "application/vnd.jupyter.widget-view+json": {
       "model_id": "97ea370112a74959b97d421d2d026f1a",
       "version_major": 2,
       "version_minor": 0
      },
      "text/plain": [
       "WebGuiWidget(layout=Layout(height='500px', width='100%'), value={'gui_settings': {}, 'ngsolve_version': '6.2.2…"
      ]
     },
     "metadata": {},
     "output_type": "display_data"
    },
    {
     "data": {
      "text/plain": [
       "BaseWebGuiScene"
      ]
     },
     "execution_count": 55,
     "metadata": {},
     "output_type": "execute_result"
    }
   ],
   "source": [
    "from ngsolve.webgui import Draw\n",
    "Draw(gfp)\n",
    "Draw(gfu)"
   ]
  },
  {
   "cell_type": "code",
   "execution_count": null,
   "metadata": {},
   "outputs": [],
   "source": []
  }
 ],
 "metadata": {
  "kernelspec": {
   "display_name": "pdefem",
   "language": "python",
   "name": "python3"
  },
  "language_info": {
   "codemirror_mode": {
    "name": "ipython",
    "version": 3
   },
   "file_extension": ".py",
   "mimetype": "text/x-python",
   "name": "python",
   "nbconvert_exporter": "python",
   "pygments_lexer": "ipython3",
   "version": "3.10.13"
  }
 },
 "nbformat": 4,
 "nbformat_minor": 2
}
