{
 "cells": [
  {
   "cell_type": "code",
   "execution_count": 215,
   "metadata": {},
   "outputs": [],
   "source": [
    "import ngsolve as ngs\n",
    "from ngsolve.webgui import Draw\n",
    "import numpy as np\n",
    "import matplotlib.pyplot as plt\n",
    "\n",
    "mesh = ngs.Mesh('proximity_geo.vol')\n",
    "mesh.Curve(2)\n",
    "# mesh.RefineHP(3,factor = 0.2)\n",
    "mesh.Refine()"
   ]
  },
  {
   "cell_type": "code",
   "execution_count": 216,
   "metadata": {},
   "outputs": [],
   "source": [
    "# Parameters\n",
    "\n",
    "circ_mass = np.pi*0.031**2\n",
    "circ_number = 58\n",
    "\n",
    "mu0 = 1.256*1e-6\n",
    "mu_iron = 1000*mu0\n",
    "sigma = 58*1e6\n",
    "J = 1e7\n",
    "eps = 1e-10\n",
    "order = 2\n",
    "\n",
    "circles_left = \"\"; \n",
    "for i in range(58): circles_left+=\"circle_left_\"+str(i)+\"|\"\n",
    "circles_right = \"\"; \n",
    "for i in range(58): circles_right+=\"circle_right_\"+str(i)+\"|\"\n",
    "\n",
    "cf_Js = mesh.MaterialCF({circles_left: J, circles_right: -J}, default = 0)\n",
    "cf_mu = mesh.MaterialCF({ circles_left + circles_right + \"left|right|bridge\" : mu0, \"ambient\": mu_iron})\n",
    "cf_sigma = mesh.MaterialCF({circles_left + circles_right: sigma}, default = 0)\n",
    "\n",
    "#############################################################################################################\n",
    "\n",
    "f = 50 #(Hz)\n",
    "w = f*2*np.pi\n",
    "\n",
    "H1 = ngs.H1(mesh, order = order, dirichlet = \"ambient_face\", complex = True)\n",
    "PH1 = ngs.NumberSpace(mesh, complex = True)\n",
    "PH2 = ngs.NumberSpace(mesh, complex = True)\n",
    "# PH1 = ngs.H1(mesh, order = order, dirichlet = \"circle_edge\", complex = True, definedon = circles_left + circles_right)\n",
    "\n",
    "X = H1*PH1*PH2\n",
    "\n",
    "(A,L,M), (As,Ls,Ms) = X.TnT()\n",
    "# (A,L), (As,Ls) = X.TnT()\n",
    "\n",
    "K = ngs.BilinearForm(X)\n",
    "# K += (1/cf_mu*ngs.grad(A)*ngs.grad(As))*ngs.dx\\\n",
    "#     + ((1j*w)*cf_sigma*A*As)*ngs.dx(circles_left + circles_right)\\\n",
    "#     + (cf_sigma*L*As)*ngs.dx(circles_left + circles_right)\\\n",
    "#     + ((1j*w)*cf_sigma*A*Ls)*ngs.dx(circles_left + circles_right)\\\n",
    "#     + (cf_sigma*L*Ls)*ngs.dx(circles_left + circles_right)\n",
    "\n",
    "K += (1/cf_mu*ngs.grad(A)*ngs.grad(As))*ngs.dx\\\n",
    "    + ((1j*w)*cf_sigma*A*As)*ngs.dx(circles_left + circles_right)\\\n",
    "    + (cf_sigma*L*As)*ngs.dx(circles_left)\\\n",
    "    + (cf_sigma*M*As)*ngs.dx(circles_right)\\\n",
    "    + ((1j*w)*cf_sigma*A*Ls)*ngs.dx(circles_left)\\\n",
    "    + ((1j*w)*cf_sigma*A*Ms)*ngs.dx(circles_right)\\\n",
    "    + (cf_sigma*L*Ls)*ngs.dx(circles_left)\\\n",
    "    + (cf_sigma*M*Ms)*ngs.dx(circles_right)\n",
    "\n",
    "K.Assemble()\n",
    "\n",
    "# rows,cols,vals = K.mat.COO()\n",
    "# import scipy.sparse as sp\n",
    "# A = sp.csr_matrix((vals,(rows,cols)))\n",
    "# plt.spy(A, markersize = 1)\n",
    "\n",
    "volCopper = ngs.Integrate(ngs.CF(1.0)*ngs.dx(circles_left), mesh)\n",
    "\n",
    "f = ngs.LinearForm(X)\n",
    "f += (cf_Js*Ls)*ngs.dx(circles_left)\\\n",
    "    +(cf_Js*Ms)*ngs.dx(circles_right)\n",
    "f.Assemble()\n",
    "\n",
    "\n",
    "A_and_L = ngs.GridFunction(X)\n",
    "A_and_L.vec.data += K.mat.Inverse(X.FreeDofs())*f.vec\n",
    "\n",
    "A = A_and_L.components[0]\n",
    "L = A_and_L.components[1]\n",
    "M = A_and_L.components[2]\n",
    "B = ngs.grad(A)\n",
    "\n",
    "tot_J = (1j*w)*cf_sigma*(A) + cf_sigma*(L) + cf_sigma*(M)\n",
    "\n",
    "\n",
    "# # J = J/intJ*I"
   ]
  },
  {
   "cell_type": "code",
   "execution_count": 217,
   "metadata": {},
   "outputs": [
    {
     "data": {
      "application/vnd.jupyter.widget-view+json": {
       "model_id": "9df0ba69b4a94860a00cf2c214318185",
       "version_major": 2,
       "version_minor": 0
      },
      "text/plain": [
       "WebGuiWidget(layout=Layout(height='500px', width='100%'), value={'gui_settings': {'Objects': {'Wireframe': Fal…"
      ]
     },
     "metadata": {},
     "output_type": "display_data"
    },
    {
     "data": {
      "application/vnd.jupyter.widget-view+json": {
       "model_id": "a3d4cfb784474771ba3375ec64599222",
       "version_major": 2,
       "version_minor": 0
      },
      "text/plain": [
       "WebGuiWidget(layout=Layout(height='500px', width='100%'), value={'gui_settings': {'Objects': {'Wireframe': Fal…"
      ]
     },
     "metadata": {},
     "output_type": "display_data"
    },
    {
     "data": {
      "text/plain": [
       "BaseWebGuiScene"
      ]
     },
     "execution_count": 217,
     "metadata": {},
     "output_type": "execute_result"
    }
   ],
   "source": [
    "# Draw(ngs.Norm(J), mesh, settings = {\"Objects\": {\"Wireframe\": False}})\n",
    "# Draw(ngs.Norm(B),mesh, settings = {\"Objects\": {\"Wireframe\": False}})\n",
    "\n",
    "# Draw(ngs.log(ngs.Norm(J)), mesh, settings = {\"Objects\": {\"Wireframe\": False}})\n",
    "# Draw(ngs.log(ngs.Norm(B)), mesh, settings = {\"Objects\": {\"Wireframe\": False}})\n",
    "Draw(ngs.log(ngs.Norm(tot_J)), mesh, settings = {\"Objects\": {\"Wireframe\": False}})\n",
    "# Draw(tot_J, mesh, settings = {\"Objects\": {\"Wireframe\": False}}, max = 1e7, min=0)\n",
    "Draw(tot_J, mesh, settings = {\"Objects\": {\"Wireframe\": False}})"
   ]
  },
  {
   "cell_type": "code",
   "execution_count": 218,
   "metadata": {},
   "outputs": [
    {
     "data": {
      "text/plain": [
       "458.6364241121236"
      ]
     },
     "execution_count": 218,
     "metadata": {},
     "output_type": "execute_result"
    }
   ],
   "source": [
    "ngs.Integrate(ngs.Norm(tot_J),mesh)"
   ]
  },
  {
   "cell_type": "code",
   "execution_count": 219,
   "metadata": {},
   "outputs": [
    {
     "data": {
      "text/plain": [
       "104.81408098855535"
      ]
     },
     "execution_count": 219,
     "metadata": {},
     "output_type": "execute_result"
    }
   ],
   "source": [
    "ngs.Integrate(1/sigma*ngs.Norm(tot_J)*ngs.Norm(tot_J), mesh)"
   ]
  },
  {
   "cell_type": "code",
   "execution_count": 220,
   "metadata": {},
   "outputs": [
    {
     "name": "stdout",
     "output_type": "stream",
     "text": [
      "38483.33407409862 13712427.82155069\n",
      "-38449.09072469734 -13724282.14681832\n"
     ]
    }
   ],
   "source": [
    "L2 = ngs.L2(mesh, complex = True)\n",
    "a = ngs.GridFunction(L2)\n",
    "a.Set(tot_J)\n",
    "print(max(a.vec.FV().real),max(a.vec.FV().imag))\n",
    "print(min(a.vec.FV().real),min(a.vec.FV().imag))"
   ]
  },
  {
   "cell_type": "code",
   "execution_count": 221,
   "metadata": {},
   "outputs": [
    {
     "data": {
      "text/plain": [
       "1116007.0"
      ]
     },
     "execution_count": 221,
     "metadata": {},
     "output_type": "execute_result"
    }
   ],
   "source": [
    "38483*58/2"
   ]
  }
 ],
 "metadata": {
  "kernelspec": {
   "display_name": "pdefem",
   "language": "python",
   "name": "python3"
  },
  "language_info": {
   "codemirror_mode": {
    "name": "ipython",
    "version": 3
   },
   "file_extension": ".py",
   "mimetype": "text/x-python",
   "name": "python",
   "nbconvert_exporter": "python",
   "pygments_lexer": "ipython3",
   "version": "3.10.13"
  }
 },
 "nbformat": 4,
 "nbformat_minor": 2
}
