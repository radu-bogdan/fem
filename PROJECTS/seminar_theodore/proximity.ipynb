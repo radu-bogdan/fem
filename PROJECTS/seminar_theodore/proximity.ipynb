{
 "cells": [
  {
   "cell_type": "code",
   "execution_count": 1,
   "metadata": {},
   "outputs": [],
   "source": [
    "import ngsolve as ngs\n",
    "from ngsolve.webgui import Draw\n",
    "import numpy as np\n",
    "\n",
    "mesh = ngs.Mesh('proximity_geo.vol')\n",
    "mesh.Curve(3)\n",
    "mesh.RefineHP(2,factor = 0.2)"
   ]
  },
  {
   "cell_type": "code",
   "execution_count": 2,
   "metadata": {},
   "outputs": [],
   "source": [
    "# Draw(mesh)"
   ]
  },
  {
   "cell_type": "code",
   "execution_count": 3,
   "metadata": {},
   "outputs": [],
   "source": [
    "# H1 = ngs.H1(mesh, order = 2, dirichlet = \"ambient_face\")\n",
    "# cfJ = mesh.MaterialCF({\"circle\": 1}, default = 0)\n",
    "\n",
    "# u,v = H1.TnT()\n",
    "\n",
    "# K = ngs.BilinearForm(H1)\n",
    "# K += (ngs.grad(u)*ngs.grad(v))*ngs.dx()\n",
    "# K.Assemble()\n",
    "\n",
    "# f = ngs.LinearForm(H1)\n",
    "# f += (cfJ*v)*ngs.dx()\n",
    "# f.Assemble()\n",
    "\n",
    "# x = ngs.GridFunction(H1)\n",
    "# x.vec.data += K.mat.Inverse(H1.FreeDofs())*f.vec\n",
    "\n",
    "# # Draw(x)\n",
    "# # Draw(cfJ,mesh)"
   ]
  },
  {
   "cell_type": "code",
   "execution_count": 4,
   "metadata": {},
   "outputs": [
    {
     "data": {
      "application/vnd.jupyter.widget-view+json": {
       "model_id": "69de55841efb48fa916be953990fac25",
       "version_major": 2,
       "version_minor": 0
      },
      "text/plain": [
       "WebGuiWidget(layout=Layout(height='500px', width='100%'), value={'gui_settings': {'Objects': {'Wireframe': Fal…"
      ]
     },
     "metadata": {},
     "output_type": "display_data"
    },
    {
     "data": {
      "application/vnd.jupyter.widget-view+json": {
       "model_id": "2cb3184378584c02b87a7b3969e21fa6",
       "version_major": 2,
       "version_minor": 0
      },
      "text/plain": [
       "WebGuiWidget(layout=Layout(height='500px', width='100%'), value={'gui_settings': {'Objects': {'Wireframe': Fal…"
      ]
     },
     "metadata": {},
     "output_type": "display_data"
    },
    {
     "data": {
      "text/plain": [
       "BaseWebGuiScene"
      ]
     },
     "execution_count": 4,
     "metadata": {},
     "output_type": "execute_result"
    }
   ],
   "source": [
    "# Parameters\n",
    "\n",
    "circ_mass = np.pi*0.031**2\n",
    "circ_number = 58\n",
    "\n",
    "mu0 = 1.256*1e-6\n",
    "mu_iron = 1*mu0\n",
    "sigma = 58*1e6\n",
    "J = 1e7/(circ_mass)\n",
    "\n",
    "cf_Js = mesh.MaterialCF({\"circle_left\": J, \"circle_right\": -J}, default = 0)\n",
    "cf_mu = mesh.MaterialCF({\"circle_left|circle_right|left|right|bridge\" : mu0, \"ambient\": mu_iron})\n",
    "cf_sigma = mesh.MaterialCF({\"circle_left|circle_right\" : sigma}, default = 0)\n",
    "\n",
    "f = 50 #(Hz)\n",
    "w = f*2*np.pi\n",
    "\n",
    "# H1 = ngs.H1(mesh, order = 2, dirichlet = \"ambient_face\")\n",
    "H1 = ngs.H1(mesh, order = 3, dirichlet = \"ambient_face\", complex = True)\n",
    "u,v = H1.TnT()\n",
    "\n",
    "K = ngs.BilinearForm(H1)\n",
    "K += (1/cf_mu*ngs.grad(u)*ngs.grad(v))*ngs.dx + ((1j*w)*sigma*u*v)*ngs.dx(\"circle_left|circle_right\")\n",
    "K.Assemble()\n",
    "\n",
    "f = ngs.LinearForm(H1)\n",
    "f += (cf_Js*v)*ngs.dx()\n",
    "f.Assemble()\n",
    "\n",
    "\n",
    "A = ngs.GridFunction(H1)\n",
    "A.vec.data += K.mat.Inverse(H1.FreeDofs())*f.vec\n",
    "\n",
    "B = ngs.grad(A)\n",
    "\n",
    "J = (cf_Js -(1j*w)*cf_sigma*A)\n",
    "intJ = ngs.Integrate(J, mesh)\n",
    "\n",
    "# J = J/intJ*I\n",
    "\n",
    "Draw(ngs.Norm(J), mesh, settings = {\"Objects\": {\"Wireframe\": False}})\n",
    "Draw(ngs.Norm(B),mesh, settings = {\"Objects\": {\"Wireframe\": False}})"
   ]
  },
  {
   "cell_type": "code",
   "execution_count": 5,
   "metadata": {},
   "outputs": [
    {
     "data": {
      "text/plain": [
       "271.8270213973592"
      ]
     },
     "execution_count": 5,
     "metadata": {},
     "output_type": "execute_result"
    }
   ],
   "source": [
    "ngs.Integrate(cf_Js, mesh)"
   ]
  },
  {
   "cell_type": "code",
   "execution_count": 22,
   "metadata": {},
   "outputs": [
    {
     "data": {
      "application/vnd.jupyter.widget-view+json": {
       "model_id": "1a1b0ecf98b94e0292b86ae2652db101",
       "version_major": 2,
       "version_minor": 0
      },
      "text/plain": [
       "WebGuiWidget(layout=Layout(height='500px', width='100%'), value={'gui_settings': {'Objects': {'Wireframe': Fal…"
      ]
     },
     "metadata": {},
     "output_type": "display_data"
    },
    {
     "data": {
      "application/vnd.jupyter.widget-view+json": {
       "model_id": "63abcb5b3d364bd7a05a15e577923fdc",
       "version_major": 2,
       "version_minor": 0
      },
      "text/plain": [
       "WebGuiWidget(layout=Layout(height='500px', width='100%'), value={'gui_settings': {'Objects': {'Wireframe': Fal…"
      ]
     },
     "metadata": {},
     "output_type": "display_data"
    },
    {
     "data": {
      "text/plain": [
       "BaseWebGuiScene"
      ]
     },
     "execution_count": 22,
     "metadata": {},
     "output_type": "execute_result"
    }
   ],
   "source": [
    "# Parameters\n",
    "\n",
    "circ_mass = np.pi*0.031**2\n",
    "circ_number = 58\n",
    "\n",
    "mu0 = 1.256*1e-6\n",
    "mu_iron = 1*mu0\n",
    "sigma = 58*1e6\n",
    "J = 1e7/(circ_mass)\n",
    "eps = 1e-8\n",
    "\n",
    "cf_Js = mesh.MaterialCF({\"circle_left\": J, \"circle_right\": -J}, default = 0)\n",
    "cf_mu = mesh.MaterialCF({\"circle_left|circle_right|left|right|bridge\" : mu0, \"ambient\": mu_iron})\n",
    "cf_sigma = mesh.MaterialCF({\"circle_left|circle_right\" : sigma}, default = 0)\n",
    "\n",
    "f = 50 #(Hz)\n",
    "w = f*2*np.pi\n",
    "\n",
    "# H1 = ngs.H1(mesh, order = 2, dirichlet = \"ambient_face\")\n",
    "H1 = ngs.H1(mesh, order = 3, dirichlet = \"ambient_face\", complex = True)\n",
    "PH1 = ngs.H1(mesh, order = 1, dirichlet = \"ambient_face\", complex = True)\n",
    "\n",
    "X = H1*PH1\n",
    "\n",
    "# u,v = X.TnT()\n",
    "(u,p), (v,q) = X.TnT()\n",
    "\n",
    "K = ngs.BilinearForm(X)\n",
    "K += (1/cf_mu*ngs.grad(u)*ngs.grad(v))*ngs.dx +((1j*w)*sigma*u*v)*ngs.dx(\"circle_left|circle_right\")\\\n",
    "    +((1j*w)*sigma*u*q)*ngs.dx(\"circle_left|circle_right\")\\\n",
    "    +((1j*w)*sigma*p*v)*ngs.dx(\"circle_left|circle_right\")\\\n",
    "    + 1/eps*p*q*ngs.dx(\"circle_left|circle_right\")\n",
    "K.Assemble()\n",
    "\n",
    "f = ngs.LinearForm(X)\n",
    "f += (cf_Js*v)*ngs.dx() + ((1-cf_Js)*q)*ngs.dx(\"circle_left|circle_right\")\n",
    "f.Assemble()\n",
    "\n",
    "\n",
    "A_and_L = ngs.GridFunction(X)\n",
    "A_and_L.vec.data += K.mat.Inverse(X.FreeDofs())*f.vec\n",
    "\n",
    "A = A_and_L.components[0]\n",
    "L = A_and_L.components[1]\n",
    "\n",
    "\n",
    "B = ngs.grad(A)\n",
    "\n",
    "J = (cf_Js -(1j*w)*cf_sigma*A-(1j*w)*cf_sigma*L)\n",
    "\n",
    "# # J = J/intJ*I\n",
    "\n",
    "Draw(J, mesh, settings = {\"Objects\": {\"Wireframe\": False}})\n",
    "Draw(ngs.Norm(B),mesh, settings = {\"Objects\": {\"Wireframe\": False}})"
   ]
  },
  {
   "cell_type": "code",
   "execution_count": null,
   "metadata": {},
   "outputs": [],
   "source": []
  }
 ],
 "metadata": {
  "kernelspec": {
   "display_name": "pdefem",
   "language": "python",
   "name": "python3"
  },
  "language_info": {
   "codemirror_mode": {
    "name": "ipython",
    "version": 3
   },
   "file_extension": ".py",
   "mimetype": "text/x-python",
   "name": "python",
   "nbconvert_exporter": "python",
   "pygments_lexer": "ipython3",
   "version": "3.10.13"
  }
 },
 "nbformat": 4,
 "nbformat_minor": 2
}
