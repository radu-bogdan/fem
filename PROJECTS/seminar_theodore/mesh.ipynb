{
 "cells": [
  {
   "cell_type": "code",
   "execution_count": 89,
   "metadata": {},
   "outputs": [],
   "source": [
    "import ngsolve as ngs\n",
    "import netgen.occ as occ\n",
    "# import netgen.gui\n",
    "from netgen.webgui import Draw as DrawGeo\n",
    "from ngsolve.webgui import Draw\n",
    "import time\n",
    "\n",
    "width = 0.4\n",
    "height = 1.5\n",
    "abstand = 0.3\n",
    "\n",
    "box1 = occ.MoveTo(-1,-1).Rectangle(2,2).Face()\n",
    "box2 = occ.MoveTo(abstand,-0.75).Rectangle(width,height).Face()\n",
    "box3 = occ.MoveTo(-abstand,-0.75).Rectangle(-width,height).Reverse().Face()\n",
    "\n",
    "\n",
    "c1 = occ.Circle(occ.Pnt(0,0),0.05).Face()\n",
    "c2 = occ.Circle(occ.Pnt(0,0.2),0.05).Face()\n",
    "\n",
    "geo = occ.Glue([box1,box2,box3,c1,c2])\n",
    "\n",
    "# geoOCC = occ.OCCGeometry(geo, dim = 2)\n"
   ]
  },
  {
   "cell_type": "code",
   "execution_count": 90,
   "metadata": {},
   "outputs": [
    {
     "data": {
      "application/vnd.jupyter.widget-view+json": {
       "model_id": "a5d6d854e8aa45dd9dba6bed69f4d4e9",
       "version_major": 2,
       "version_minor": 0
      },
      "text/plain": [
       "WebGuiWidget(layout=Layout(height='500px', width='100%'), value={'ngsolve_version': 'Netgen x.x', 'mesh_dim': …"
      ]
     },
     "metadata": {},
     "output_type": "display_data"
    },
    {
     "data": {
      "text/plain": [
       "BaseWebGuiScene"
      ]
     },
     "execution_count": 90,
     "metadata": {},
     "output_type": "execute_result"
    }
   ],
   "source": [
    "\n",
    "DrawGeo(geo)"
   ]
  },
  {
   "cell_type": "code",
   "execution_count": null,
   "metadata": {},
   "outputs": [],
   "source": []
  },
  {
   "cell_type": "code",
   "execution_count": null,
   "metadata": {},
   "outputs": [],
   "source": []
  }
 ],
 "metadata": {
  "kernelspec": {
   "display_name": "pdefem",
   "language": "python",
   "name": "python3"
  },
  "language_info": {
   "codemirror_mode": {
    "name": "ipython",
    "version": 3
   },
   "file_extension": ".py",
   "mimetype": "text/x-python",
   "name": "python",
   "nbconvert_exporter": "python",
   "pygments_lexer": "ipython3",
   "version": "3.10.13"
  }
 },
 "nbformat": 4,
 "nbformat_minor": 2
}
