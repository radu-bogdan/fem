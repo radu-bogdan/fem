{
 "cells": [
  {
   "cell_type": "code",
   "execution_count": 1,
   "metadata": {},
   "outputs": [],
   "source": [
    "import ngsolve as ngs\n",
    "import netgen.occ as occ\n",
    "# import netgen.gui\n",
    "from netgen.webgui import Draw as DrawGeo\n",
    "from ngsolve.webgui import Draw\n",
    "import time\n",
    "\n",
    "width = 0.4/100\n",
    "height = 1.35/100\n",
    "abstand = 0.27/100\n",
    "\n",
    "box1 = occ.MoveTo(-1/100,-1/100).Rectangle(2/100,2/100).Face()\n",
    "box2 = occ.MoveTo(abstand,-height/2).Rectangle(width,height).Face()\n",
    "box3 = occ.MoveTo(-abstand,-height/2).Rectangle(-width,height).Reverse().Face()\n",
    "# box1.name = 'ambient' # this overwrites the other names for some weird reason...\n",
    "box2.name = 'right'\n",
    "box3.name = 'left'\n",
    "\n",
    "rad = 0.031/100\n",
    "tol = 0.022/100\n",
    "\n",
    "circles_right = []\n",
    "x = abstand + rad + 0.06/100; y = -height/2 + rad + 0.05/100\n",
    "for i in range(15): circles_right.append(occ.Circle(occ.Pnt(x, y + 2*i*rad + i*tol),rad).Face())\n",
    "x = abstand + rad + 0.20/100; y = -height/2 + rad + 0.05/100\n",
    "for i in range(15): circles_right.append(occ.Circle(occ.Pnt(x, y + 2*i*rad + i*tol),rad).Face())\n",
    "x = abstand + rad + 0.13/100; y = -height/2 + rad + 0.09/100\n",
    "for i in range(14): circles_right.append(occ.Circle(occ.Pnt(x, y + 2*i*rad + i*tol),rad).Face())\n",
    "x = abstand + rad + 0.27/100; y = -height/2 + rad + 0.09/100\n",
    "for i in range(14): circles_right.append(occ.Circle(occ.Pnt(x, y + 2*i*rad + i*tol),rad).Face())\n",
    "\n",
    "\n",
    "circles_left = []\n",
    "x = -abstand - rad - 0.06/100; y = -height/2 + rad + 0.05/100\n",
    "for i in range(15): circles_left.append(occ.Circle(occ.Pnt(x, y + 2*i*rad + i*tol),rad).Face())\n",
    "x = -abstand - rad - 0.20/100; y = -height/2 + rad + 0.05/100\n",
    "for i in range(15): circles_left.append(occ.Circle(occ.Pnt(x, y + 2*i*rad + i*tol),rad).Face())\n",
    "x = -abstand - rad - 0.13/100; y = -height/2 + rad + 0.09/100\n",
    "for i in range(14): circles_left.append(occ.Circle(occ.Pnt(x, y + 2*i*rad + i*tol),rad).Face())\n",
    "x = -abstand - rad - 0.27/100; y = -height/2 + rad + 0.09/100\n",
    "for i in range(14): circles_left.append(occ.Circle(occ.Pnt(x, y + 2*i*rad + i*tol),rad).Face())\n",
    "\n",
    "\n",
    "bheight = 0.1/100\n",
    "bridge = occ.MoveTo(-abstand,-bheight/2).Rectangle(2*abstand,bheight).Face()\n",
    "\n",
    "iter = 0\n",
    "for c in circles_left: \n",
    "    c.name = \"circle_left_\"+str(iter)\n",
    "    iter = iter + 1\n",
    "    c.edges.hpref = 1\n",
    "    c.edges.name = 'circle_edge'\n",
    "\n",
    "\n",
    "iter = 0\n",
    "for c in circles_right: \n",
    "    c.name = \"circle_right_\"+str(iter)\n",
    "    iter = iter + 1\n",
    "    c.edges.hpref = 1\n",
    "    c.edges.name = 'circle_edge'\n",
    "\n",
    "bridge.name = 'bridge'\n",
    "\n",
    "geo = occ.Glue([box1, box2, box3, bridge] + circles_left + circles_right)\n",
    "# geo = occ.Glue([box1, box2, box3] + circles_left + circles_right)\n",
    "geo.faces[0].name = 'ambient'\n",
    "\n",
    "geo.edges[0].name = 'ambient_face'\n",
    "geo.edges[1].name = 'ambient_face'\n",
    "geo.edges[2].name = 'ambient_face'\n",
    "geo.edges[3].name = 'ambient_face'\n",
    "\n",
    "geoOCC = occ.OCCGeometry(geo, dim = 2)\n",
    "# geoOCCmesh = geoOCC.GenerateMesh(quad_dominated = True)\n",
    "geoOCCmesh = geoOCC.GenerateMesh()\n",
    "\n",
    "mesh = ngs.Mesh(geoOCCmesh)\n",
    "mesh.Curve(2)\n",
    "# geoOCCmesh.Curve(3)\n",
    "# mesh.RefineHP(2,factor = 0.2)\n",
    "\n",
    "mesh.ngmesh.Save('proximity_geo.vol')\n",
    "# mesh = ngs.Mesh('proximity_geo.vol')\n",
    "# mesh.Curve(2)"
   ]
  },
  {
   "cell_type": "code",
   "execution_count": 2,
   "metadata": {},
   "outputs": [
    {
     "data": {
      "application/vnd.jupyter.widget-view+json": {
       "model_id": "ee5272c99b5e40a2850e8c02426fea4c",
       "version_major": 2,
       "version_minor": 0
      },
      "text/plain": [
       "WebGuiWidget(layout=Layout(height='500px', width='100%'), value={'gui_settings': {}, 'ngsolve_version': '6.2.2…"
      ]
     },
     "metadata": {},
     "output_type": "display_data"
    },
    {
     "data": {
      "text/plain": [
       "BaseWebGuiScene"
      ]
     },
     "execution_count": 2,
     "metadata": {},
     "output_type": "execute_result"
    }
   ],
   "source": [
    "Draw(mesh)"
   ]
  },
  {
   "cell_type": "code",
   "execution_count": 3,
   "metadata": {},
   "outputs": [],
   "source": [
    "# c1 = circles_right[0]"
   ]
  },
  {
   "cell_type": "code",
   "execution_count": 4,
   "metadata": {},
   "outputs": [],
   "source": [
    "# c1.mass\n",
    "# 3.1415926*0.031**2"
   ]
  },
  {
   "cell_type": "code",
   "execution_count": 5,
   "metadata": {},
   "outputs": [],
   "source": [
    "# # import netgen.gui\n",
    "# from ngsolve import Mesh\n",
    "# from ngsolve.webgui import Draw\n",
    "# from netgen.geom2d import SplineGeometry\n",
    "# geo = SplineGeometry()\n",
    "\n",
    "# geo = SplineGeometry()\n",
    "# geo.AddRectangle(p1=(-1,-1),\n",
    "#                  p2=(1,1),\n",
    "#                  bc=\"rectangle\",\n",
    "#                  leftdomain=1,\n",
    "#                  rightdomain=0)\n",
    "# geo.AddCircle(c=(0,0),\n",
    "#               r=0.5,\n",
    "#               bc=\"circle\",\n",
    "#               leftdomain=2,\n",
    "#               rightdomain=1,\n",
    "#               hpref = 1)\n",
    "# geo.SetMaterial (1, \"outer\")\n",
    "# geo.SetMaterial (2, \"inner\")"
   ]
  },
  {
   "cell_type": "code",
   "execution_count": 6,
   "metadata": {},
   "outputs": [],
   "source": [
    "# geo.SetDomainMaxH(2, 0.02)\n",
    "# ngmesh = geo.GenerateMesh(maxh=0.1, quad_dominated=True)\n",
    "\n",
    "# mesh = Mesh(ngmesh)\n",
    "# mesh.RefineHP(2,factor = 0.2)\n",
    "\n",
    "# Draw (mesh)"
   ]
  },
  {
   "cell_type": "code",
   "execution_count": null,
   "metadata": {},
   "outputs": [],
   "source": []
  }
 ],
 "metadata": {
  "kernelspec": {
   "display_name": "pdefem",
   "language": "python",
   "name": "python3"
  },
  "language_info": {
   "codemirror_mode": {
    "name": "ipython",
    "version": 3
   },
   "file_extension": ".py",
   "mimetype": "text/x-python",
   "name": "python",
   "nbconvert_exporter": "python",
   "pygments_lexer": "ipython3",
   "version": "3.10.13"
  }
 },
 "nbformat": 4,
 "nbformat_minor": 2
}
