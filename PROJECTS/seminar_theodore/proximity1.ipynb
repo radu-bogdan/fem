{
 "cells": [
  {
   "cell_type": "code",
   "execution_count": 1,
   "metadata": {},
   "outputs": [],
   "source": [
    "import ngsolve as ngs\n",
    "from ngsolve.webgui import Draw\n",
    "import numpy as np\n",
    "\n",
    "mesh = ngs.Mesh('proximity_geo.vol')\n",
    "mesh.Curve(2)\n",
    "# mesh.RefineHP(3,factor = 0.2)\n",
    "mesh.Refine()"
   ]
  },
  {
   "cell_type": "code",
   "execution_count": 2,
   "metadata": {},
   "outputs": [],
   "source": [
    "# Parameters\n",
    "\n",
    "circ_mass = np.pi*0.031**2\n",
    "circ_number = 58\n",
    "\n",
    "mu0 = 1.256*1e-6\n",
    "mu_iron = 1000*mu0\n",
    "sigma = 58*1e6\n",
    "J = 1e7\n",
    "\n",
    "circles_left = \"\"; \n",
    "for i in range(58): circles_left+=\"circle_left_\"+str(i)+\"|\"\n",
    "circles_right = \"\"; \n",
    "for i in range(58): circles_right+=\"circle_right_\"+str(i)+\"|\"\n",
    "\n",
    "cf_Js = mesh.MaterialCF({circles_left: J, circles_right: -J}, default = 0)\n",
    "cf_mu = mesh.MaterialCF({ circles_left +circles_right +\"left|right|bridge\" : mu0, \"ambient\": mu_iron})\n",
    "cf_sigma = mesh.MaterialCF({circles_left +circles_right: sigma}, default = 0)\n",
    "\n",
    "f = 0 #(Hz)\n",
    "w = f*2*np.pi\n",
    "\n",
    "# H1 = ngs.H1(mesh, order = 2, dirichlet = \"ambient_face\")\n",
    "H1 = ngs.H1(mesh, order = 3, dirichlet = \"ambient_face\", complex = True)\n",
    "u,v = H1.TnT()\n",
    "\n",
    "K = ngs.BilinearForm(H1)\n",
    "K += (1/cf_mu*ngs.grad(u)*ngs.grad(v))*ngs.dx + ((1j*w)*sigma*u*v)*ngs.dx(circles_left +circles_right)\n",
    "K.Assemble()\n",
    "\n",
    "f = ngs.LinearForm(H1)\n",
    "f += (cf_Js*v)*ngs.dx()\n",
    "f.Assemble()\n",
    "\n",
    "A = ngs.GridFunction(H1)\n",
    "A.vec.data += K.mat.Inverse(H1.FreeDofs())*f.vec\n",
    "\n",
    "B = ngs.grad(A)\n",
    "\n",
    "J = (cf_Js -(1j*w)*cf_sigma*A)\n",
    "\n",
    "# J = J/intJ*I"
   ]
  },
  {
   "cell_type": "code",
   "execution_count": 3,
   "metadata": {},
   "outputs": [
    {
     "data": {
      "application/vnd.jupyter.widget-view+json": {
       "model_id": "0fb813deab764afaa53cf5fd32b80fa3",
       "version_major": 2,
       "version_minor": 0
      },
      "text/plain": [
       "WebGuiWidget(layout=Layout(height='500px', width='100%'), value={'gui_settings': {'Objects': {'Wireframe': Fal…"
      ]
     },
     "metadata": {},
     "output_type": "display_data"
    },
    {
     "data": {
      "text/plain": [
       "BaseWebGuiScene"
      ]
     },
     "execution_count": 3,
     "metadata": {},
     "output_type": "execute_result"
    }
   ],
   "source": [
    "# Draw(ngs.Norm(J), mesh, settings = {\"Objects\": {\"Wireframe\": False}})\n",
    "# Draw(ngs.Norm(B),mesh, settings = {\"Objects\": {\"Wireframe\": False}})\n",
    "\n",
    "# Draw(ngs.log(ngs.Norm(J)), mesh, settings = {\"Objects\": {\"Wireframe\": False}})\n",
    "# Draw(ngs.log(ngs.Norm(B)), mesh, settings = {\"Objects\": {\"Wireframe\": False}})\n",
    "Draw((J), mesh, settings = {\"Objects\": {\"Wireframe\": False}})"
   ]
  },
  {
   "cell_type": "code",
   "execution_count": 4,
   "metadata": {},
   "outputs": [
    {
     "data": {
      "text/plain": [
       "59.717485021790026"
      ]
     },
     "execution_count": 4,
     "metadata": {},
     "output_type": "execute_result"
    }
   ],
   "source": [
    "ngs.Integrate(1/sigma*ngs.Norm(J)*ngs.Norm(J), mesh)"
   ]
  },
  {
   "cell_type": "code",
   "execution_count": null,
   "metadata": {},
   "outputs": [],
   "source": []
  }
 ],
 "metadata": {
  "kernelspec": {
   "display_name": "pdefem",
   "language": "python",
   "name": "python3"
  },
  "language_info": {
   "codemirror_mode": {
    "name": "ipython",
    "version": 3
   },
   "file_extension": ".py",
   "mimetype": "text/x-python",
   "name": "python",
   "nbconvert_exporter": "python",
   "pygments_lexer": "ipython3",
   "version": "3.10.13"
  }
 },
 "nbformat": 4,
 "nbformat_minor": 2
}
