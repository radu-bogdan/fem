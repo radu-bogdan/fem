{
 "cells": [
  {
   "cell_type": "code",
   "execution_count": 58,
   "metadata": {},
   "outputs": [],
   "source": [
    "import ngsolve as ngs\n",
    "from ngsolve.webgui import Draw\n",
    "import numpy as np\n",
    "\n",
    "mesh = ngs.Mesh('proximity_geo.vol')\n",
    "mesh.Curve(2)\n",
    "# mesh.RefineHP(3,factor = 0.2)\n",
    "mesh.Refine()"
   ]
  },
  {
   "cell_type": "code",
   "execution_count": 72,
   "metadata": {},
   "outputs": [],
   "source": [
    "# Parameters\n",
    "\n",
    "# circ_mass = np.pi*0.031**2\n",
    "# circ_number = 58\n",
    "\n",
    "mu0 = 1.256*1e-6\n",
    "mu_iron = 2500*mu0\n",
    "sigma = 58*1e6\n",
    "Js = 1e7\n",
    "\n",
    "circles_left = \"\"; \n",
    "for i in range(58): circles_left+=\"circle_left_\"+str(i)+\"|\"\n",
    "circles_right = \"\"; \n",
    "for i in range(58): circles_right+=\"circle_right_\"+str(i)+\"|\"\n",
    "\n",
    "cf_Js = mesh.MaterialCF({circles_left: Js, circles_right: -Js}, default = 0)\n",
    "cf_mu = mesh.MaterialCF({ circles_left +circles_right + \"left|right\" : mu0, \"ambient|bridge\": mu_iron})\n",
    "cf_sigma = mesh.MaterialCF({circles_left +circles_right: sigma}, default = 0)\n",
    "\n",
    "f = 200 #(Hz)\n",
    "w = f*2*np.pi\n",
    "\n",
    "# H1 = ngs.H1(mesh, order = 2, dirichlet = \"ambient_face\")\n",
    "H1 = ngs.H1(mesh, order = 2, dirichlet = \"ambient_face\", complex = True)\n",
    "u,v = H1.TnT()\n",
    "\n",
    "K = ngs.BilinearForm(H1)\n",
    "K += (1/cf_mu*ngs.grad(u)*ngs.grad(v))*ngs.dx + ((1j*w)*sigma*u*v)*ngs.dx(circles_left +circles_right)\n",
    "K.Assemble()\n",
    "\n",
    "f = ngs.LinearForm(H1)\n",
    "f += (cf_Js*v)*ngs.dx()\n",
    "f.Assemble()\n",
    "\n",
    "A = ngs.GridFunction(H1)\n",
    "A.vec.data += K.mat.Inverse(H1.FreeDofs())*f.vec\n",
    "\n",
    "B = ngs.grad(A)\n",
    "\n",
    "J = (cf_Js -(1j*w)*cf_sigma*A)\n",
    "vJ = ngs.Integrate(ngs.Norm(J)*ngs.dx(circles_left + circles_right),mesh)\n",
    "vJs = ngs.Integrate(ngs.Norm(cf_Js)*ngs.dx(circles_left + circles_right),mesh)\n",
    "volCopper = ngs.Integrate(ngs.CF(1.0)*ngs.dx(circles_left + circles_right), mesh)\n",
    "\n",
    "tot_J = J/vJ*vJs#*vJs/volCopper"
   ]
  },
  {
   "cell_type": "code",
   "execution_count": 74,
   "metadata": {},
   "outputs": [
    {
     "data": {
      "application/vnd.jupyter.widget-view+json": {
       "model_id": "eef25167a4b84ca3828ce72383fe762e",
       "version_major": 2,
       "version_minor": 0
      },
      "text/plain": [
       "WebGuiWidget(layout=Layout(height='500px', width='100%'), value={'gui_settings': {'Objects': {'Wireframe': Fal…"
      ]
     },
     "metadata": {},
     "output_type": "display_data"
    },
    {
     "data": {
      "text/plain": [
       "BaseWebGuiScene"
      ]
     },
     "execution_count": 74,
     "metadata": {},
     "output_type": "execute_result"
    }
   ],
   "source": [
    "Draw(ngs.Norm(J), mesh, settings = {\"Objects\": {\"Wireframe\": False}})\n",
    "# Draw(ngs.Norm(B),mesh, settings = {\"Objects\": {\"Wireframe\": False}})\n",
    "\n",
    "# Draw(ngs.log(ngs.Norm(J)), mesh, settings = {\"Objects\": {\"Wireframe\": False}})\n",
    "# Draw(ngs.log(ngs.Norm(B)), mesh, settings = {\"Objects\": {\"Wireframe\": False}})\n",
    "# Draw((J), mesh, settings = {\"Objects\": {\"Wireframe\": False}})"
   ]
  },
  {
   "cell_type": "code",
   "execution_count": 61,
   "metadata": {},
   "outputs": [
    {
     "data": {
      "text/plain": [
       "59.72365807463942"
      ]
     },
     "execution_count": 61,
     "metadata": {},
     "output_type": "execute_result"
    }
   ],
   "source": [
    "ngs.Integrate(1/sigma*ngs.Norm(tot_J)*ngs.Norm(tot_J), mesh)"
   ]
  },
  {
   "cell_type": "code",
   "execution_count": 62,
   "metadata": {},
   "outputs": [
    {
     "name": "stdout",
     "output_type": "stream",
     "text": [
      "3.4636141312638395e-05 346.3614131263851 10000000.000000034\n"
     ]
    }
   ],
   "source": [
    "vJ = ngs.Integrate(ngs.Norm(tot_J)*ngs.dx(circles_left + circles_right),mesh)\n",
    "\n",
    "volCopper = ngs.Integrate(ngs.CF(1.0)*ngs.dx(circles_left + circles_right), mesh)\n",
    "print(volCopper, vJ, vJ/volCopper)"
   ]
  },
  {
   "cell_type": "code",
   "execution_count": 63,
   "metadata": {},
   "outputs": [
    {
     "name": "stdout",
     "output_type": "stream",
     "text": [
      "1936763.2533163424 10122487.634372327\n",
      "-1933472.1774736273 -10123492.808083326\n"
     ]
    }
   ],
   "source": [
    "L2 = ngs.L2(mesh, complex = True)\n",
    "a = ngs.GridFunction(L2)\n",
    "a.Set(tot_J)\n",
    "print(max(a.vec.FV().real),max(a.vec.FV().imag))\n",
    "print(min(a.vec.FV().real),min(a.vec.FV().imag))"
   ]
  },
  {
   "cell_type": "code",
   "execution_count": 64,
   "metadata": {},
   "outputs": [],
   "source": [
    "from ngsolve.fem import CompilePythonModule"
   ]
  },
  {
   "cell_type": "code",
   "execution_count": 65,
   "metadata": {},
   "outputs": [
    {
     "data": {
      "text/plain": [
       "<function ngsolve.fem.PyCapsule.CompilePythonModule>"
      ]
     },
     "execution_count": 65,
     "metadata": {},
     "output_type": "execute_result"
    }
   ],
   "source": [
    "CompilePythonModule"
   ]
  }
 ],
 "metadata": {
  "kernelspec": {
   "display_name": "pdefem",
   "language": "python",
   "name": "python3"
  },
  "language_info": {
   "codemirror_mode": {
    "name": "ipython",
    "version": 3
   },
   "file_extension": ".py",
   "mimetype": "text/x-python",
   "name": "python",
   "nbconvert_exporter": "python",
   "pygments_lexer": "ipython3",
   "version": "3.10.13"
  }
 },
 "nbformat": 4,
 "nbformat_minor": 2
}
