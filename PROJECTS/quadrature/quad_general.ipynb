{
 "cells": [
  {
   "cell_type": "code",
   "execution_count": 459,
   "metadata": {},
   "outputs": [
    {
     "name": "stderr",
     "output_type": "stream",
     "text": [
      "WARNING: replacing module MySimplexQuad.\n",
      "WARNING: using MySimplexQuad.mysimplexquad in module Main conflicts with an existing identifier.\n",
      "WARNING: replacing module OrthoPols.\n",
      "WARNING: using OrthoPols.ortho2eva3 in module Main conflicts with an existing identifier.\n"
     ]
    },
    {
     "data": {
      "text/plain": [
       "2-element Vector{Float64}:\n",
       " -1.0\n",
       " -0.577350269189626"
      ]
     },
     "metadata": {},
     "output_type": "display_data"
    }
   ],
   "source": [
    "include(\"MySimplexQuad.jl\")\n",
    "using .MySimplexQuad\n",
    "\n",
    "include(\"OrthoPols.jl\")\n",
    "using .OrthoPols\n",
    "\n",
    "###############################################################\n",
    "\n",
    "function rse(vec::Vector{T}) where T <: AbstractFloat\n",
    "    threshold = if T == BigFloat\n",
    "        BigFloat(\"1e-60\")\n",
    "    else\n",
    "        T(1e-14)\n",
    "    end\n",
    "    \n",
    "    map(x -> abs(x) < threshold ? zero(T) : x, vec)\n",
    "end\n",
    "\n",
    "###############################################################\n",
    "\n",
    "\n",
    "function transform_triangle(point::Vector{T}) where T <: AbstractFloat\n",
    "    @assert length(point) == 2 \"Input point must be a 2-element vector\"\n",
    "\n",
    "    # Define the vertices of the target triangle\n",
    "    v1 = T[0, 2 / sqrt(T(3))]    # (0,0) maps to this\n",
    "    v2 = T[-1, -1 / sqrt(T(3))]  # (1,0) maps to this\n",
    "    v3 = T[1, -1 / sqrt(T(3))]   # (0,1) maps to this\n",
    "    \n",
    "    # Extract x and y from the input point\n",
    "    x, y = point\n",
    "\n",
    "    # Compute the affine transformation\n",
    "    new_x = (v2[1] - v1[1]) * x + (v3[1] - v1[1]) * y + v1[1]\n",
    "    new_y = (v2[2] - v1[2]) * x + (v3[2] - v1[2]) * y + v1[2]\n",
    "\n",
    "    return T[new_x, new_y]\n",
    "end\n",
    "\n",
    "###############################################################\n",
    "\n",
    "Trans([0.0,1.0])"
   ]
  },
  {
   "cell_type": "code",
   "execution_count": 460,
   "metadata": {},
   "outputs": [],
   "source": []
  },
  {
   "cell_type": "code",
   "execution_count": 461,
   "metadata": {},
   "outputs": [],
   "source": [
    "# X, W = mysimplexquad(BigFloat, 10, 2)"
   ]
  },
  {
   "cell_type": "code",
   "execution_count": 462,
   "metadata": {},
   "outputs": [],
   "source": [
    "# order = 10\n",
    "# z0 = [0.0, 0.0]\n",
    "# z1 = [1.0, 0.0]\n",
    "# z2 = [0.0, 1.0]\n",
    "\n",
    "# # z0 = BigFloat.([0, 0])\n",
    "# # z1 = BigFloat.([1, 0])\n",
    "# # z2 = BigFloat.([0, 1])\n",
    "\n",
    "# use_bigfloat = true\n",
    "# p1 = use_bigfloat ? BigFloat[0.0, 0.0] : [0.0, 0.0]\n",
    "# p2 = use_bigfloat ? BigFloat[1.0, 0.0] : [1.0, 0.0]\n",
    "# p3 = use_bigfloat ? BigFloat[0.0, 1.0] : [0.0, 1.0]\n",
    "\n",
    "# T1 = hcat(p1, p2, p3)\n",
    "\n",
    "# pols0, dersx0, dersy0 = ortho2eva3(1, p1)\n",
    "# dersy0\n",
    "\n",
    "# # eval_T1 = rse(ortho2eva3(order, T1[:,1])[1])\n",
    "# # eval_T1\n",
    "\n",
    "# pols0 = ortho2eva3(order, X[2,:])[1]"
   ]
  },
  {
   "cell_type": "code",
   "execution_count": 499,
   "metadata": {},
   "outputs": [
    {
     "data": {
      "text/plain": [
       "rhs (generic function with 2 methods)"
      ]
     },
     "metadata": {},
     "output_type": "display_data"
    }
   ],
   "source": [
    "using LinearAlgebra\n",
    "using Optim\n",
    "using Plots\n",
    "using Optim\n",
    "using LineSearches\n",
    "\n",
    "\n",
    "freeparam = 1\n",
    "order = 4\n",
    "use_bigfloat = true\n",
    "\n",
    "# pols0, dersx0, dersy0 = ortho2eva3(10, z0)\n",
    "\n",
    "###############################################################\n",
    "\n",
    "function rse(vec::Vector{T}) where T <: AbstractFloat\n",
    "    threshold = if T == BigFloat\n",
    "        BigFloat(\"1e-60\")\n",
    "    else\n",
    "        T(1e-14)\n",
    "    end\n",
    "    \n",
    "    map(x -> abs(x) < threshold ? zero(T) : x, vec)\n",
    "end\n",
    "\n",
    "###############################################################\n",
    "p1 = use_bigfloat ? BigFloat[0.0, 0.0] : [0.0, 0.0]\n",
    "p2 = use_bigfloat ? BigFloat[1.0, 0.0] : [1.0, 0.0]\n",
    "p3 = use_bigfloat ? BigFloat[0.0, 1.0] : [0.0, 1.0]\n",
    "\n",
    "m1 = (p2 .+ p3) ./ (use_bigfloat ? BigFloat(2.0) : 2.0)\n",
    "m2 = (p1 .+ p3) ./ (use_bigfloat ? BigFloat(2.0) : 2.0)\n",
    "m3 = (p1 .+ p2) ./ (use_bigfloat ? BigFloat(2.0) : 2.0)\n",
    "\n",
    "b = (p1 .+ p2 .+ p3) ./ (use_bigfloat ? BigFloat(3.0) : 3.0)\n",
    "###############################################################\n",
    "\n",
    "\n",
    "# vertices\n",
    "T1 = hcat(p1, p2, p3)\n",
    "eval_T1(order) = rse(ortho2eva3(order, Trans(T1[:,1]))[1])+\n",
    "                 rse(ortho2eva3(order, Trans(T1[:,2]))[1])+\n",
    "                 rse(ortho2eva3(order, Trans(T1[:,3]))[1])\n",
    "\n",
    "# edge midpoints\n",
    "T2 = hcat(m1, m2, m3)\n",
    "eval_T2(order) = rse(ortho2eva3(order, Trans(T2[:,1]))[1])+\n",
    "                 rse(ortho2eva3(order, Trans(T2[:,2]))[1])+\n",
    "                 rse(ortho2eva3(order, Trans(T2[:,3]))[1])\n",
    "\n",
    "# midpoint\n",
    "T3 = hcat(b)\n",
    "eval_T3(order) = rse(ortho2eva3(order, Trans(T3[:,1]))[1])\n",
    "\n",
    "\n",
    "# edge class\n",
    "T4(a) = hcat(a * p1 .+ (1 .- a) * p2,\n",
    "             a * p2 .+ (1 .- a) * p1,\n",
    "             a * p3 .+ (1 .- a) * p1,\n",
    "             a * p1 .+ (1 .- a) * p3,\n",
    "             a * p3 .+ (1 .- a) * p2,\n",
    "             a * p2 .+ (1 .- a) * p3)\n",
    "\n",
    "eval_T4(order,a) = rse(6*ortho2eva3(order, Trans(T4(a)[:,1]))[1])\n",
    "\n",
    "\n",
    "# inner class, type 1\n",
    "T5(a) = hcat(a * m1 .+ (1 .- a) * p1, \n",
    "             a * m2 .+ (1 .- a) * p2, \n",
    "             a * m3 .+ (1 .- a) * p3)\n",
    "\n",
    "eval_T5(order,a) = rse(ortho2eva3(order, Trans(T5(a)[:,1]))[1])+\n",
    "                   rse(ortho2eva3(order, Trans(T5(a)[:,2]))[1])+\n",
    "                   rse(ortho2eva3(order, Trans(T5(a)[:,3]))[1])\n",
    "\n",
    "\n",
    "# inner class, type 2\n",
    "T6(a, b) =  hcat(b * (a * m1 .+ (1 - a) .* p1) .+ (1 - b) * (a * m2 .+ (1 - a) .* p2),\n",
    "                 b * (a * m1 .+ (1 - a) .* p1) .+ (1 - b) * (a * m3 .+ (1 - a) .* p3),\n",
    "                 b * (a * m3 .+ (1 - a) .* p3) .+ (1 - b) * (a * m2 .+ (1 - a) .* p2),\n",
    "                 b * (a * m2 .+ (1 - a) .* p2) .+ (1 - b) * (a * m1 .+ (1 - a) .* p1),\n",
    "                 b * (a * m3 .+ (1 - a) .* p3) .+ (1 - b) * (a * m1 .+ (1 - a) .* p1),\n",
    "                 b * (a * m2 .+ (1 - a) .* p2) .+ (1 - b) * (a * m3 .+ (1 - a) .* p3))\n",
    "\n",
    "# TODO!\n",
    "eval_T6(order,a,b) = rse(6*ortho2eva3(order, Trans(T6(a, b)[:,1]))[1])\n",
    "\n",
    "\n",
    "\n",
    "# System setup\n",
    "function A(a,order)\n",
    "    hcat(\n",
    "        eval_T1(order), # trig vertices\n",
    "        eval_T2(order), # edge midpoints\n",
    "\n",
    "        # eval_T4(order,a[1]), # edge class\n",
    "        # eval_T4(order,a[2]), # edge class\n",
    "        \n",
    "\n",
    "\n",
    "        # # eval_T3, # trig midpoint\n",
    "        \n",
    "        eval_T5(order,a[1]),\n",
    "        # eval_T5(order,a[4]),\n",
    "        # eval_T5(order,a[5]),\n",
    "\n",
    "        # eval_T6(order,a[6],a[7]),\n",
    "        # eval_T5(order,a[8]),\n",
    "        )'\n",
    "end\n",
    "\n",
    "\n",
    "# # # System setup\n",
    "# # function Aij(i, j, a)\n",
    "# #     vcat(sum(eval_T1(i, j)),\n",
    "# #          sum(eval_T4(a[1], i, j)), # edge class\n",
    "# #          sum(eval_T5(a[2], i, j)),\n",
    "# #          sum(eval_T5(a[3], i, j)))\n",
    "# # end\n",
    "\n",
    "# # A(a, order) = hcat([Aij(i, j, a) for i in 0:order for j in 0:order if i + j <= order]...)\n",
    "# rhs(order) = vcat([integral(i, j) for i in 0:order for j in 0:order if i + j <= order]...)\n",
    "\n",
    "\n",
    "\n",
    "function rhs(::Type{T}, order::Int) where T <: AbstractFloat\n",
    "    X, W = mysimplexquad(T, order, 2)\n",
    "    w = zeros(T, div((order + 1) * (order + 2), 2))  # Initialize w with the correct type and size\n",
    "    \n",
    "    for k = 1:length(W)\n",
    "        pols = ortho2eva3(order, Trans(T.(X[k,:])))[1]\n",
    "        w .+= 2*sqrt(3)*W[k] .* pols\n",
    "    end\n",
    "    return w\n",
    "end\n",
    "\n",
    "# integral2(1,2)\n",
    "\n",
    "# rhs2(order) = vcat([integral2(i, j) for i in 0:order for j in 0:order if i + j <= order]...)\n",
    "# rhs2(5)\n",
    "\n",
    "# rhs(BigFloat, order)\n",
    "# ortho2eva3(order, Trans(BigFloat.(X[5,:])))[1]\n",
    "# sum(W)"
   ]
  },
  {
   "cell_type": "code",
   "execution_count": 500,
   "metadata": {},
   "outputs": [
    {
     "data": {
      "text/plain": [
       "1-element Vector{Float64}:\n",
       " 0.7598356856515927"
      ]
     },
     "metadata": {},
     "output_type": "display_data"
    }
   ],
   "source": [
    "ortho2eva3(0, Trans([1.0,1.0]))[1]"
   ]
  },
  {
   "cell_type": "code",
   "execution_count": 501,
   "metadata": {},
   "outputs": [
    {
     "data": {
      "text/plain": [
       "3×6 adjoint(::Matrix{BigFloat}) with eltype BigFloat:\n",
       " 2.27951   0.0          -3.45447e-77   5.88566    0.0           6.58037\n",
       " 2.27951   0.0          -1.72723e-77   0.0        0.0          -1.72723e-77\n",
       " 2.27951  -2.59085e-77  -6.04532e-77  -0.706279  -1.91761e-93  -0.789644"
      ]
     },
     "metadata": {},
     "output_type": "display_data"
    }
   ],
   "source": [
    "A([0.4],2)\n",
    "# eval_T6(0.3,0.6)\n",
    "# T1[:,1]\n",
    "\n",
    "# Trans(BigFloat.(X[1,:]))\n",
    "# Trans(T.(X[k,:])\n"
   ]
  },
  {
   "cell_type": "code",
   "execution_count": null,
   "metadata": {},
   "outputs": [],
   "source": []
  },
  {
   "cell_type": "code",
   "execution_count": 502,
   "metadata": {},
   "outputs": [
    {
     "data": {
      "text/plain": [
       "f (generic function with 1 method)"
      ]
     },
     "metadata": {},
     "output_type": "display_data"
    }
   ],
   "source": [
    "\n",
    "# f(a) = A(a,order)'*((A(a,order) * A(a,order)')\\(A(a,order) * rhs(order)))-rhs(order)\n",
    "f(a) = norm(A(a,order)'*((A(a,order) * A(a,order)')\\(A(a,order) * rhs(BigFloat,order)))-rhs(BigFloat,order))"
   ]
  },
  {
   "cell_type": "code",
   "execution_count": 503,
   "metadata": {},
   "outputs": [
    {
     "data": {
      "text/plain": [
       "15-element Vector{BigFloat}:\n",
       "  0.594900070498880415034721259616747964341954781733624980871498440143450561644987\n",
       " -2.97904401247128962291765335297892467305772009997501426034521442942937390017987e-78\n",
       "  3.086469479934355482904918043949054659308040393927675572331063171302404983856355e-17\n",
       "  0.3854518783245122667592451943677489006650266815202034550454486040960537799434306\n",
       "  1.489522006235644811458826676489462336528860049987507130172607214714686950089935e-78\n",
       "  0.4309483009942935477447150785084033501484493163503451640866705500791904925477489\n",
       " -1.97361665826222937518294534634853759590073956623344694747870455949696020886915e-77\n",
       "  0.2734707959795898905244150383610510648947204838394752651638057108358597042024702\n",
       " -3.723805015589112028647066691223655841322150124968767825431518036786717375224837e-79\n",
       " -0.1222998579342676858659413788581864806075314210233907756959688536441364232030897\n",
       " -0.04137622120173674564016496417369496008554119664931995637244358545686289612893213\n",
       "  3.351424514030200825782360022101290257189935112471891042888366233108045637702363e-78\n",
       " -0.03084001441971725899669733750369440377447037533943356708269355225387503394554653\n",
       " -1.489522006235644811458826676489462336528860049987507130172607214714686950089935e-78\n",
       " -0.04827225806869298329700207274473357604921698811389470065634165282739346063718887"
      ]
     },
     "metadata": {},
     "output_type": "display_data"
    }
   ],
   "source": [
    "f([0.18858048469644503927])\n",
    "a = 0.18858048469644503927\n",
    "A(a,order)'*((A(a,order) * A(a,order)')\\(A(a,order) * rhs(BigFloat,order)))"
   ]
  },
  {
   "cell_type": "code",
   "execution_count": 504,
   "metadata": {},
   "outputs": [
    {
     "data": {
      "text/plain": [
       "15-element Vector{BigFloat}:\n",
       "  1.316074012952492384569067899315739998333703982317882066406291336816594989207151\n",
       "  4.753266208643778311394285068236626170196267388082312684179061792760760097912445e-77\n",
       "  3.23856320816041673451988194855014983916850013666360551938388880131322192618591e-77\n",
       " -2.6144650899211697596384463647149647139120704228273898724192852302268197841605e-78\n",
       "  2.7122966868343490151604011319107504903036188644557696224840068710998233631807e-77\n",
       " -5.181701133056666775231811117680239742669600218661768831014222082101155081897456e-77\n",
       "  4.374801302481802527640171259796032487819479774455283263131270100159377717866631e-77\n",
       "  1.120003109488810787354792507206926819379106297262830242120261543787489249472627e-77\n",
       "  4.250614210710546964057345057472071663908656429370982244191354051723603778119007e-77\n",
       "  2.159042138773611156346587965700099892779000091109070346255925867542147950790607e-77\n",
       "  6.789913429296483093106186089201481142295754827542084657778584831581402493484893e-77\n",
       "  1.306136156374488905403890930656150274979233375429928611424434527758798645073989e-76\n",
       "  4.048204010200520918149852435687687298960625170829506899229861001641527407732388e-77\n",
       "  7.151827084687586955398072636381580894830437801798795521972754436233365086993885e-77\n",
       " -3.616395582445798686880534842547667320404825152607692829978675828133097817574266e-77"
      ]
     },
     "metadata": {},
     "output_type": "display_data"
    }
   ],
   "source": [
    "rhs(BigFloat,order)"
   ]
  },
  {
   "cell_type": "code",
   "execution_count": 469,
   "metadata": {},
   "outputs": [],
   "source": []
  },
  {
   "cell_type": "code",
   "execution_count": 470,
   "metadata": {},
   "outputs": [
    {
     "name": "stdout",
     "output_type": "stream",
     "text": [
      "BigFloat[0.2474625286109175419721058495400436614039449969862606876173515176031703077796919]"
     ]
    },
    {
     "ename": "BoundsError",
     "evalue": "BoundsError: attempt to access 1-element Vector{BigFloat} at index [2]",
     "output_type": "error",
     "traceback": [
      "BoundsError: attempt to access 1-element Vector{BigFloat} at index [2]\n",
      "\n",
      "Stacktrace:\n",
      " [1] getindex(A::Vector{BigFloat}, i1::Int64)\n",
      "   @ Base ./essentials.jl:13\n",
      " [2] top-level scope\n",
      "   @ ~/Documents/fem/PROJECTS/quadrature/jl_notebook_cell_df34fa98e69747e1a8f8a730347b8e2f_X10sZmlsZQ==.jl:36"
     ]
    }
   ],
   "source": [
    "# Define the bounds\n",
    "# lower_bounds = BigFloat[0.0, 0.0, 0.0]\n",
    "# upper_bounds = BigFloat[1, 1, 1]\n",
    "# initial_value = BigFloat[0.1, 0.1, 0.2]\n",
    "\n",
    "min_val = 0.15\n",
    "max_val = 0.85\n",
    "a = min_val .+ (max_val - min_val) .* (use_bigfloat ? BigFloat.(rand(freeparam)) : rand(freeparam))\n",
    "\n",
    "# a = BigFloat[0.01, 0.01, 0.02]\n",
    "# a = BigFloat[0.1, 0.1, 0.2] # works!\n",
    "# a = BigFloat[0.3, 0.23, 0.85, 0.23, 0.31, 0.21, 0.32] #works!\n",
    "# a = BigFloat[0.3, 0.23, 0.85, 0.23, 0.31, 0.21, 0.32]\n",
    "\n",
    "print(a)\n",
    "\n",
    "#########################################################################################################################\n",
    "# Plotting initial distribution\n",
    "#########################################################################################################################\n",
    "\n",
    "using Plots\n",
    "plot()\n",
    "# gr()  # Set the backend to GR\n",
    "\n",
    "# Define the vertices of the triangle\n",
    "x = [p1[1], p2[1], p3[1], p1[1]]\n",
    "y = [p1[2], p2[2], p3[2], p1[2]]\n",
    "\n",
    "# Plot the triangle\n",
    "plot!(x, y, seriestype = :shape, fillalpha = 0.3, linecolor = :blue, legend = false, aspect_ratio = :equal)\n",
    "\n",
    "scatter!(T1[1, :], T1[2, :], markersize = 3, markercolor = :blue, legend = false, aspect_ratio = :equal)\n",
    "scatter!(T3[1, :], T3[2, :], markersize = 3, markercolor = :blue, legend = false, aspect_ratio = :equal)\n",
    "\n",
    "scatter!(T4(a[1])[1, :], T4(a[1])[2, :], markersize = 3, markercolor = :blue, legend = false, aspect_ratio = :equal)\n",
    "scatter!(T4(a[2])[1, :], T4(a[2])[2, :], markersize = 3, markercolor = :blue, legend = false, aspect_ratio = :equal)\n",
    "\n",
    "scatter!(T5(a[3])[1, :], T5(a[3])[2, :], markersize = 3, markercolor = :blue, legend = false, aspect_ratio = :equal)\n",
    "scatter!(T5(a[4])[1, :], T5(a[4])[2, :], markersize = 3, markercolor = :blue, legend = false, aspect_ratio = :equal)\n",
    "scatter!(T5(a[5])[1, :], T5(a[5])[2, :], markersize = 3, markercolor = :blue, legend = false, aspect_ratio = :equal)\n",
    "\n",
    "scatter!(T6(a[6],a[7])[1, :], T6(a[6],a[7])[2, :], markersize = 3, markercolor = :blue, legend = false, aspect_ratio = :equal)\n",
    "\n",
    "# Add plot title and labels\n",
    "xlabel!(\"x\")\n",
    "ylabel!(\"y\")\n",
    "#########################################################################################################################"
   ]
  },
  {
   "cell_type": "code",
   "execution_count": 471,
   "metadata": {},
   "outputs": [
    {
     "data": {
      "text/plain": [
       "1-element Vector{BigFloat}:\n",
       " 0.2474625286109175419721058495400436614039449969862606876173515176031703077796919"
      ]
     },
     "metadata": {},
     "output_type": "display_data"
    }
   ],
   "source": [
    "# Initialize an array of strings\n",
    "# bigfloat_strings = [\n",
    "#     \"0.3497563276590531286006952954445668121161354629231253675436650998033682105163362\",\n",
    "#     \"0.1168256301165253085822263078463557402695806217250798718929824146309700850615156\",\n",
    "#     \"0.5359920624522696018750290486301153617643693213794692184596278721041560647158745\",\n",
    "#     \"0.9164715952736393185489606854094341672897032003628564147678514037992402493209116\",\n",
    "#     \"0.1285678358785933850614611990426681246047116310691077189241495441532828989922064\",\n",
    "#     \"0.1855704466508220428127271513465450386606911784968365895779597754013640528697462\",\n",
    "#     \"0.1423596791302088104796922427088486702578148291092101059677756895056200393064595\",\n",
    "#     \"0.7432798925094192858277743305767780573199273721370474792622147549960748094153323\",\n",
    "#     \"0.2656623668160845723068798650918091304937794310308354680743438212151354872098177\",\n",
    "# ]\n",
    "# print(a)\n",
    "# Convert each string to BigFloat with full precision\n",
    "# a = [parse(BigFloat, x) for x in bigfloat_strings]\n",
    "# f(a)\n",
    "\n",
    "# 0.435550025252798077216426997182572878840986513981683599296083745679164511699355\n",
    "# 0.6637731214588893098777332609060568543103149065899114560422128146835452078278195\n",
    "# 0.3264161593786625458414059141416173085535859770832105718160910797984164410934227\n",
    "# 0.3238553555448429211620722851576776397156578278747866410510017646726121931521902\n",
    "# 0.5240811779919137310112339080707195055864630881706360421103444401091930870961733\n",
    "# 0.3802763277282470564714697017139324236356332292701035679786790042952726587088819\n",
    "# 0.3395063654849585434670365174169452616756157045808562770409328931964232367590739\n",
    "\n",
    "a"
   ]
  },
  {
   "cell_type": "code",
   "execution_count": 472,
   "metadata": {},
   "outputs": [
    {
     "ename": "MethodError",
     "evalue": "MethodError: no method matching initial_state(::Fminbox{GradientDescent{InitialPrevious{Float64}, HagerZhang{Float64, Base.RefValue{Bool}}, Nothing, Optim.var\"#13#15\"}, Float64, Optim.var\"#51#53\"}, ::Optim.Options{Float64, Nothing}, ::OnceDifferentiable{BigFloat, Vector{BigFloat}, Vector{BigFloat}}, ::Vector{BigFloat})\n\nClosest candidates are:\n  initial_state(!Matched::Newton, ::Any, ::Any, ::Any)\n   @ Optim ~/.julia/packages/Optim/ZhuZN/src/multivariate/solvers/second_order/newton.jl:39\n  initial_state(!Matched::MomentumGradientDescent, ::Any, ::Any, ::Any)\n   @ Optim ~/.julia/packages/Optim/ZhuZN/src/multivariate/solvers/first_order/momentum_gradient_descent.jl:29\n  initial_state(!Matched::Optim.KrylovTrustRegion, ::Any, ::Any, ::Array{T}) where T\n   @ Optim ~/.julia/packages/Optim/ZhuZN/src/multivariate/solvers/second_order/krylov_trust_region.jl:39\n  ...\n",
     "output_type": "error",
     "traceback": [
      "MethodError: no method matching initial_state(::Fminbox{GradientDescent{InitialPrevious{Float64}, HagerZhang{Float64, Base.RefValue{Bool}}, Nothing, Optim.var\"#13#15\"}, Float64, Optim.var\"#51#53\"}, ::Optim.Options{Float64, Nothing}, ::OnceDifferentiable{BigFloat, Vector{BigFloat}, Vector{BigFloat}}, ::Vector{BigFloat})\n",
      "\n",
      "Closest candidates are:\n",
      "  initial_state(!Matched::Newton, ::Any, ::Any, ::Any)\n",
      "   @ Optim ~/.julia/packages/Optim/ZhuZN/src/multivariate/solvers/second_order/newton.jl:39\n",
      "  initial_state(!Matched::MomentumGradientDescent, ::Any, ::Any, ::Any)\n",
      "   @ Optim ~/.julia/packages/Optim/ZhuZN/src/multivariate/solvers/first_order/momentum_gradient_descent.jl:29\n",
      "  initial_state(!Matched::Optim.KrylovTrustRegion, ::Any, ::Any, ::Array{T}) where T\n",
      "   @ Optim ~/.julia/packages/Optim/ZhuZN/src/multivariate/solvers/second_order/krylov_trust_region.jl:39\n",
      "  ...\n",
      "\n",
      "\n",
      "Stacktrace:\n",
      " [1] optimize(d::OnceDifferentiable{BigFloat, Vector{BigFloat}, Vector{BigFloat}}, initial_x::Vector{BigFloat}, method::Fminbox{GradientDescent{InitialPrevious{Float64}, HagerZhang{Float64, Base.RefValue{Bool}}, Nothing, Optim.var\"#13#15\"}, Float64, Optim.var\"#51#53\"}, options::Optim.Options{Float64, Nothing})\n",
      "   @ Optim ~/.julia/packages/Optim/ZhuZN/src/multivariate/optimize/optimize.jl:36\n",
      " [2] top-level scope\n",
      "   @ ~/Documents/fem/PROJECTS/quadrature/jl_notebook_cell_df34fa98e69747e1a8f8a730347b8e2f_X12sZmlsZQ==.jl:38"
     ]
    }
   ],
   "source": [
    "# println(a)\n",
    "\n",
    "# td = TwiceDifferentiable(f, a; autodiff = :forward);\n",
    "\n",
    "# # result = optimize(td, a, Newton(; linesearch = LineSearches.MoreThuente()), Optim.Options(g_tol = 1e-100, iterations = 1000, show_trace = true, show_every = 1, time_limit = 1000))\n",
    "# # result = optimize(td, a, Newton(; linesearch = LineSearches.BackTracking(), alphaguess = LineSearches.InitialStatic()), Optim.Options(g_tol = 1e-15, iterations = 1000, show_trace = true, show_every = 1, time_limit = 1000))\n",
    "\n",
    "# result = optimize(td, a, Newton(; linesearch = LineSearches.BackTracking(), alphaguess = LineSearches.InitialStatic()), Optim.Options(g_tol = 1e-63, iterations = 50, show_trace = true, show_every = 10, time_limit = 1000))\n",
    "\n",
    "# println(result)\n",
    "\n",
    "# a = Optim.minimizer(result)\n",
    "# using Base.Threads\n",
    "\n",
    "# using Distributed\n",
    "\n",
    "# num_runs = 5\n",
    "\n",
    "# @threads  for i in 1:num_runs\n",
    "# a = min_val .+ (max_val - min_val) .* BigFloat.(rand(freeparam))\n",
    "\n",
    "\n",
    "\n",
    "# of = TwiceDifferentiable(f, a; autodiff = :forward)\n",
    "# # method = Newton(; linesearch = LineSearches.MoreThuente())\n",
    "# method = Newton(; linesearch = LineSearches.BackTracking())\n",
    "\n",
    "\n",
    "of = OnceDifferentiable(f, a; autodiff = :forward);\n",
    "method = Fminbox(GradientDescent())\n",
    "\n",
    "options = Optim.Options(g_tol = 1e-20, iterations = 200, show_trace = true, show_every = 10, time_limit = 1000)\n",
    "\n",
    "\n",
    "# lower_bounds = fill(BigFloat(\"0\"), freeparam)\n",
    "# upper_bounds = fill(Inf, freeparam)\n",
    "\n",
    "result = optimize(of, a, method, options)\n",
    "# result = optimize(of,lower_bounds, upper_bounds, a, method, options)\n",
    "a = Optim.minimizer(result)\n",
    "# # end\n",
    "\n",
    "print(a)"
   ]
  },
  {
   "cell_type": "code",
   "execution_count": 473,
   "metadata": {},
   "outputs": [
    {
     "ename": "UndefVarError",
     "evalue": "UndefVarError: `result` not defined",
     "output_type": "error",
     "traceback": [
      "UndefVarError: `result` not defined\n"
     ]
    }
   ],
   "source": [
    "result"
   ]
  },
  {
   "cell_type": "code",
   "execution_count": 474,
   "metadata": {},
   "outputs": [],
   "source": [
    "# result2 = optimize(f,\n",
    "#             a,\n",
    "#             NelderMead(),\n",
    "#             autodiff = :forward,\n",
    "#             Optim.Options(g_tol = 1e-63, iterations = 1000, show_trace = true, show_every = 100, time_limit = 1000))"
   ]
  },
  {
   "cell_type": "code",
   "execution_count": 475,
   "metadata": {},
   "outputs": [
    {
     "ename": "UndefVarError",
     "evalue": "UndefVarError: `result` not defined",
     "output_type": "error",
     "traceback": [
      "UndefVarError: `result` not defined\n",
      "\n",
      "Stacktrace:\n",
      " [1] top-level scope\n",
      "   @ ~/Documents/fem/PROJECTS/quadrature/jl_notebook_cell_df34fa98e69747e1a8f8a730347b8e2f_X15sZmlsZQ==.jl:1"
     ]
    }
   ],
   "source": [
    "a = Optim.minimizer(result)"
   ]
  },
  {
   "cell_type": "code",
   "execution_count": 476,
   "metadata": {},
   "outputs": [
    {
     "data": {
      "text/plain": [
       "3-element Vector{BigFloat}:\n",
       " 0.01583979167744119591739537231552691238914058736301973464628663865870307316851768\n",
       " 0.03701257042521246892163722627420681084797997456281847185058323208438832146424865\n",
       " 0.1016544642077696871104783465153522022246749887957795002824802260580600224979899"
      ]
     },
     "metadata": {},
     "output_type": "display_data"
    }
   ],
   "source": [
    "(A(a,order) * A(a,order)')\\(A(a,order) * rhs(order))"
   ]
  },
  {
   "cell_type": "code",
   "execution_count": 477,
   "metadata": {},
   "outputs": [
    {
     "data": {
      "text/plain": [
       "0.2837434851170644720835933451368333598149063377252304929242022310033112486530273"
      ]
     },
     "metadata": {},
     "output_type": "display_data"
    }
   ],
   "source": [
    "f(a)"
   ]
  },
  {
   "cell_type": "code",
   "execution_count": 478,
   "metadata": {},
   "outputs": [
    {
     "ename": "BoundsError",
     "evalue": "BoundsError: attempt to access 1-element Vector{BigFloat} at index [2]",
     "output_type": "error",
     "traceback": [
      "BoundsError: attempt to access 1-element Vector{BigFloat} at index [2]\n",
      "\n",
      "Stacktrace:\n",
      " [1] getindex(A::Vector{BigFloat}, i1::Int64)\n",
      "   @ Base ./essentials.jl:13\n",
      " [2] top-level scope\n",
      "   @ ~/Documents/fem/PROJECTS/quadrature/jl_notebook_cell_df34fa98e69747e1a8f8a730347b8e2f_X21sZmlsZQ==.jl:15"
     ]
    }
   ],
   "source": [
    "using Plots\n",
    "# gr()  # Set the backend to GR\n",
    "plot()\n",
    "# Define the vertices of the triangle\n",
    "x = [p1[1], p2[1], p3[1], p1[1]]\n",
    "y = [p1[2], p2[2], p3[2], p1[2]]\n",
    "\n",
    "# Plot the triangle\n",
    "plot!(x, y, seriestype = :shape, fillalpha = 0.3, linecolor = :blue, legend = false, aspect_ratio = :equal)\n",
    "\n",
    "scatter!(T1[1, :], T1[2, :], markersize = 3, markercolor = :blue, legend = false, aspect_ratio = :equal)\n",
    "scatter!(T3[1, :], T3[2, :], markersize = 3, markercolor = :blue, legend = false, aspect_ratio = :equal)\n",
    "\n",
    "scatter!(T4(a[1])[1, :], T4(a[1])[2, :], markersize = 3, markercolor = :blue, legend = false, aspect_ratio = :equal)\n",
    "scatter!(T4(a[2])[1, :], T4(a[2])[2, :], markersize = 3, markercolor = :blue, legend = false, aspect_ratio = :equal)\n",
    "\n",
    "scatter!(T5(a[3])[1, :], T5(a[3])[2, :], markersize = 3, markercolor = :blue, legend = false, aspect_ratio = :equal)\n",
    "scatter!(T5(a[4])[1, :], T5(a[4])[2, :], markersize = 3, markercolor = :blue, legend = false, aspect_ratio = :equal)\n",
    "scatter!(T5(a[5])[1, :], T5(a[5])[2, :], markersize = 3, markercolor = :blue, legend = false, aspect_ratio = :equal)\n",
    "\n",
    "scatter!(T6(a[6],a[7])[1, :], T6(a[6],a[7])[2, :], markersize = 3, markercolor = :blue, legend = false, aspect_ratio = :equal)\n",
    "\n",
    "# scatter!(T5(a[8])[1, :], T5(a[8])[2, :], markersize = 3, markercolor = :blue, legend = false, aspect_ratio = :equal)\n",
    "\n",
    "# Add plot title and labels\n",
    "xlabel!(\"x\")\n",
    "ylabel!(\"y\")\n",
    "\n",
    "# savefig(\"kek.png\")"
   ]
  },
  {
   "cell_type": "code",
   "execution_count": 479,
   "metadata": {},
   "outputs": [
    {
     "name": "stdout",
     "output_type": "stream",
     "text": [
      "BigFloat[0.0 1.0 0.0; 0.0 0.0 1.0]\n",
      "BigFloat[0.7525374713890824580278941504599563385960550030137393123826484823968296922203081 0.2474625286109175419721058495400436614039449969862606876173515176031703077796919 0.0 0.0 0.7525374713890824580278941504599563385960550030137393123826484823968296922203081 0.2474625286109175419721058495400436614039449969862606876173515176031703077796919; 0.0 0.0 0.2474625286109175419721058495400436614039449969862606876173515176031703077796919 0.7525374713890824580278941504599563385960550030137393123826484823968296922203081 0.2474625286109175419721058495400436614039449969862606876173515176031703077796919 0.7525374713890824580278941504599563385960550030137393123826484823968296922203081]\n"
     ]
    },
    {
     "ename": "BoundsError",
     "evalue": "BoundsError: attempt to access 1-element Vector{BigFloat} at index [2]",
     "output_type": "error",
     "traceback": [
      "BoundsError: attempt to access 1-element Vector{BigFloat} at index [2]\n",
      "\n",
      "Stacktrace:\n",
      " [1] getindex(A::Vector{BigFloat}, i1::Int64)\n",
      "   @ Base ./essentials.jl:13\n",
      " [2] top-level scope\n",
      "   @ ~/Documents/fem/PROJECTS/quadrature/jl_notebook_cell_df34fa98e69747e1a8f8a730347b8e2f_X22sZmlsZQ==.jl:4"
     ]
    }
   ],
   "source": [
    "println(T1)\n",
    "\n",
    "println(T4(a[1]))\n",
    "println(T4(a[2]))\n",
    "\n",
    "println(T5(a[3]))\n",
    "println(T5(a[4]))\n",
    "println(T5(a[5]))"
   ]
  },
  {
   "cell_type": "code",
   "execution_count": 480,
   "metadata": {},
   "outputs": [
    {
     "data": {
      "text/plain": [
       "0.00101010101010101"
      ]
     },
     "metadata": {},
     "output_type": "display_data"
    }
   ],
   "source": [
    "integral(1,8)"
   ]
  },
  {
   "cell_type": "code",
   "execution_count": 481,
   "metadata": {},
   "outputs": [
    {
     "name": "stderr",
     "output_type": "stream",
     "text": [
      "WARNING: replacing module MySimplexQuad.\n",
      "WARNING: using MySimplexQuad.mysimplexquad in module Main conflicts with an existing identifier.\n"
     ]
    }
   ],
   "source": [
    "# using Makie\n",
    "include(\"MySimplexQuad.jl\")\n",
    "using .MySimplexQuad\n"
   ]
  },
  {
   "cell_type": "code",
   "execution_count": 482,
   "metadata": {},
   "outputs": [
    {
     "data": {
      "image/png": "[encoded data removed]",
      "image/svg+xml": [
       "<?xml version=\"1.0\" encoding=\"utf-8\"?>\n",
       "<svg xmlns=\"http://www.w3.org/2000/svg\" xmlns:xlink=\"http://www.w3.org/1999/xlink\" width=\"600\" height=\"400\" viewBox=\"0 0 2400 1600\">\n",
       "<defs>\n",
       "  <clipPath id=\"clip090\">\n",
       "    <rect x=\"0\" y=\"0\" width=\"2400\" height=\"1600\"/>\n",
       "  </clipPath>\n",
       "</defs>\n",
       "<path clip-path=\"url(#clip090)\" d=\"M0 1600 L2400 1600 L2400 8.88178e-14 L0 8.88178e-14  Z\" fill=\"#ffffff\" fill-rule=\"evenodd\" fill-opacity=\"1\"/>\n",
       "<defs>\n",
       "  <clipPath id=\"clip091\">\n",
       "    <rect x=\"480\" y=\"0\" width=\"1681\" height=\"1600\"/>\n",
       "  </clipPath>\n",
       "</defs>\n",
       "<path clip-path=\"url(#clip090)\" d=\"M249.542 1423.18 L2352.76 1423.18 L2352.76 47.2441 L249.542 47.2441  Z\" fill=\"#ffffff\" fill-rule=\"evenodd\" fill-opacity=\"1\"/>\n",
       "<defs>\n",
       "  <clipPath id=\"clip092\">\n",
       "    <rect x=\"249\" y=\"47\" width=\"2104\" height=\"1377\"/>\n",
       "  </clipPath>\n",
       "</defs>\n",
       "<polyline clip-path=\"url(#clip092)\" style=\"stroke:#000000; stroke-linecap:round; stroke-linejoin:round; stroke-width:2; stroke-opacity:0.1; fill:none\" points=\"392.512,1423.18 392.512,47.2441 \"/>\n",
       "<polyline clip-path=\"url(#clip092)\" style=\"stroke:#000000; stroke-linecap:round; stroke-linejoin:round; stroke-width:2; stroke-opacity:0.1; fill:none\" points=\"652.123,1423.18 652.123,47.2441 \"/>\n",
       "<polyline clip-path=\"url(#clip092)\" style=\"stroke:#000000; stroke-linecap:round; stroke-linejoin:round; stroke-width:2; stroke-opacity:0.1; fill:none\" points=\"911.733,1423.18 911.733,47.2441 \"/>\n",
       "<polyline clip-path=\"url(#clip092)\" style=\"stroke:#000000; stroke-linecap:round; stroke-linejoin:round; stroke-width:2; stroke-opacity:0.1; fill:none\" points=\"1171.34,1423.18 1171.34,47.2441 \"/>\n",
       "<polyline clip-path=\"url(#clip092)\" style=\"stroke:#000000; stroke-linecap:round; stroke-linejoin:round; stroke-width:2; stroke-opacity:0.1; fill:none\" points=\"1430.95,1423.18 1430.95,47.2441 \"/>\n",
       "<polyline clip-path=\"url(#clip092)\" style=\"stroke:#000000; stroke-linecap:round; stroke-linejoin:round; stroke-width:2; stroke-opacity:0.1; fill:none\" points=\"1690.56,1423.18 1690.56,47.2441 \"/>\n",
       "<polyline clip-path=\"url(#clip092)\" style=\"stroke:#000000; stroke-linecap:round; stroke-linejoin:round; stroke-width:2; stroke-opacity:0.1; fill:none\" points=\"1950.18,1423.18 1950.18,47.2441 \"/>\n",
       "<polyline clip-path=\"url(#clip092)\" style=\"stroke:#000000; stroke-linecap:round; stroke-linejoin:round; stroke-width:2; stroke-opacity:0.1; fill:none\" points=\"2209.79,1423.18 2209.79,47.2441 \"/>\n",
       "<polyline clip-path=\"url(#clip090)\" style=\"stroke:#000000; stroke-linecap:round; stroke-linejoin:round; stroke-width:4; stroke-opacity:1; fill:none\" points=\"249.542,1423.18 2352.76,1423.18 \"/>\n",
       "<polyline clip-path=\"url(#clip090)\" style=\"stroke:#000000; stroke-linecap:round; stroke-linejoin:round; stroke-width:4; stroke-opacity:1; fill:none\" points=\"392.512,1423.18 392.512,1404.28 \"/>\n",
       "<polyline clip-path=\"url(#clip090)\" style=\"stroke:#000000; stroke-linecap:round; stroke-linejoin:round; stroke-width:4; stroke-opacity:1; fill:none\" points=\"652.123,1423.18 652.123,1404.28 \"/>\n",
       "<polyline clip-path=\"url(#clip090)\" style=\"stroke:#000000; stroke-linecap:round; stroke-linejoin:round; stroke-width:4; stroke-opacity:1; fill:none\" points=\"911.733,1423.18 911.733,1404.28 \"/>\n",
       "<polyline clip-path=\"url(#clip090)\" style=\"stroke:#000000; stroke-linecap:round; stroke-linejoin:round; stroke-width:4; stroke-opacity:1; fill:none\" points=\"1171.34,1423.18 1171.34,1404.28 \"/>\n",
       "<polyline clip-path=\"url(#clip090)\" style=\"stroke:#000000; stroke-linecap:round; stroke-linejoin:round; stroke-width:4; stroke-opacity:1; fill:none\" points=\"1430.95,1423.18 1430.95,1404.28 \"/>\n",
       "<polyline clip-path=\"url(#clip090)\" style=\"stroke:#000000; stroke-linecap:round; stroke-linejoin:round; stroke-width:4; stroke-opacity:1; fill:none\" points=\"1690.56,1423.18 1690.56,1404.28 \"/>\n",
       "<polyline clip-path=\"url(#clip090)\" style=\"stroke:#000000; stroke-linecap:round; stroke-linejoin:round; stroke-width:4; stroke-opacity:1; fill:none\" points=\"1950.18,1423.18 1950.18,1404.28 \"/>\n",
       "<polyline clip-path=\"url(#clip090)\" style=\"stroke:#000000; stroke-linecap:round; stroke-linejoin:round; stroke-width:4; stroke-opacity:1; fill:none\" points=\"2209.79,1423.18 2209.79,1404.28 \"/>\n",
       "<path clip-path=\"url(#clip090)\" d=\"M339.839 1468.75 L369.515 1468.75 L369.515 1472.69 L339.839 1472.69 L339.839 1468.75 Z\" fill=\"#000000\" fill-rule=\"nonzero\" fill-opacity=\"1\" /><path clip-path=\"url(#clip090)\" d=\"M389.607 1454.1 Q385.996 1454.1 384.167 1457.66 Q382.362 1461.2 382.362 1468.33 Q382.362 1475.44 384.167 1479.01 Q385.996 1482.55 389.607 1482.55 Q393.241 1482.55 395.047 1479.01 Q396.876 1475.44 396.876 1468.33 Q396.876 1461.2 395.047 1457.66 Q393.241 1454.1 389.607 1454.1 M389.607 1450.39 Q395.417 1450.39 398.473 1455 Q401.551 1459.58 401.551 1468.33 Q401.551 1477.06 398.473 1481.67 Q395.417 1486.25 389.607 1486.25 Q383.797 1486.25 380.718 1481.67 Q377.663 1477.06 377.663 1468.33 Q377.663 1459.58 380.718 1455 Q383.797 1450.39 389.607 1450.39 Z\" fill=\"#000000\" fill-rule=\"nonzero\" fill-opacity=\"1\" /><path clip-path=\"url(#clip090)\" d=\"M409.769 1479.7 L414.653 1479.7 L414.653 1485.58 L409.769 1485.58 L409.769 1479.7 Z\" fill=\"#000000\" fill-rule=\"nonzero\" fill-opacity=\"1\" /><path clip-path=\"url(#clip090)\" d=\"M428.866 1481.64 L445.185 1481.64 L445.185 1485.58 L423.241 1485.58 L423.241 1481.64 Q425.903 1478.89 430.486 1474.26 Q435.093 1469.61 436.273 1468.27 Q438.519 1465.74 439.398 1464.01 Q440.301 1462.25 440.301 1460.56 Q440.301 1457.8 438.357 1456.07 Q436.436 1454.33 433.334 1454.33 Q431.135 1454.33 428.681 1455.09 Q426.25 1455.86 423.473 1457.41 L423.473 1452.69 Q426.297 1451.55 428.75 1450.97 Q431.204 1450.39 433.241 1450.39 Q438.611 1450.39 441.806 1453.08 Q445 1455.77 445 1460.26 Q445 1462.39 444.19 1464.31 Q443.403 1466.2 441.297 1468.8 Q440.718 1469.47 437.616 1472.69 Q434.514 1475.88 428.866 1481.64 Z\" fill=\"#000000\" fill-rule=\"nonzero\" fill-opacity=\"1\" /><path clip-path=\"url(#clip090)\" d=\"M629.507 1454.1 Q625.896 1454.1 624.067 1457.66 Q622.262 1461.2 622.262 1468.33 Q622.262 1475.44 624.067 1479.01 Q625.896 1482.55 629.507 1482.55 Q633.141 1482.55 634.947 1479.01 Q636.776 1475.44 636.776 1468.33 Q636.776 1461.2 634.947 1457.66 Q633.141 1454.1 629.507 1454.1 M629.507 1450.39 Q635.317 1450.39 638.373 1455 Q641.451 1459.58 641.451 1468.33 Q641.451 1477.06 638.373 1481.67 Q635.317 1486.25 629.507 1486.25 Q623.697 1486.25 620.618 1481.67 Q617.563 1477.06 617.563 1468.33 Q617.563 1459.58 620.618 1455 Q623.697 1450.39 629.507 1450.39 Z\" fill=\"#000000\" fill-rule=\"nonzero\" fill-opacity=\"1\" /><path clip-path=\"url(#clip090)\" d=\"M649.669 1479.7 L654.553 1479.7 L654.553 1485.58 L649.669 1485.58 L649.669 1479.7 Z\" fill=\"#000000\" fill-rule=\"nonzero\" fill-opacity=\"1\" /><path clip-path=\"url(#clip090)\" d=\"M674.738 1454.1 Q671.127 1454.1 669.299 1457.66 Q667.493 1461.2 667.493 1468.33 Q667.493 1475.44 669.299 1479.01 Q671.127 1482.55 674.738 1482.55 Q678.373 1482.55 680.178 1479.01 Q682.007 1475.44 682.007 1468.33 Q682.007 1461.2 680.178 1457.66 Q678.373 1454.1 674.738 1454.1 M674.738 1450.39 Q680.548 1450.39 683.604 1455 Q686.683 1459.58 686.683 1468.33 Q686.683 1477.06 683.604 1481.67 Q680.548 1486.25 674.738 1486.25 Q668.928 1486.25 665.849 1481.67 Q662.794 1477.06 662.794 1468.33 Q662.794 1459.58 665.849 1455 Q668.928 1450.39 674.738 1450.39 Z\" fill=\"#000000\" fill-rule=\"nonzero\" fill-opacity=\"1\" /><path clip-path=\"url(#clip090)\" d=\"M889.916 1454.1 Q886.305 1454.1 884.476 1457.66 Q882.671 1461.2 882.671 1468.33 Q882.671 1475.44 884.476 1479.01 Q886.305 1482.55 889.916 1482.55 Q893.55 1482.55 895.356 1479.01 Q897.185 1475.44 897.185 1468.33 Q897.185 1461.2 895.356 1457.66 Q893.55 1454.1 889.916 1454.1 M889.916 1450.39 Q895.726 1450.39 898.782 1455 Q901.861 1459.58 901.861 1468.33 Q901.861 1477.06 898.782 1481.67 Q895.726 1486.25 889.916 1486.25 Q884.106 1486.25 881.027 1481.67 Q877.972 1477.06 877.972 1468.33 Q877.972 1459.58 881.027 1455 Q884.106 1450.39 889.916 1450.39 Z\" fill=\"#000000\" fill-rule=\"nonzero\" fill-opacity=\"1\" /><path clip-path=\"url(#clip090)\" d=\"M910.078 1479.7 L914.962 1479.7 L914.962 1485.58 L910.078 1485.58 L910.078 1479.7 Z\" fill=\"#000000\" fill-rule=\"nonzero\" fill-opacity=\"1\" /><path clip-path=\"url(#clip090)\" d=\"M929.175 1481.64 L945.495 1481.64 L945.495 1485.58 L923.55 1485.58 L923.55 1481.64 Q926.212 1478.89 930.796 1474.26 Q935.402 1469.61 936.583 1468.27 Q938.828 1465.74 939.708 1464.01 Q940.61 1462.25 940.61 1460.56 Q940.61 1457.8 938.666 1456.07 Q936.745 1454.33 933.643 1454.33 Q931.444 1454.33 928.99 1455.09 Q926.56 1455.86 923.782 1457.41 L923.782 1452.69 Q926.606 1451.55 929.059 1450.97 Q931.513 1450.39 933.55 1450.39 Q938.921 1450.39 942.115 1453.08 Q945.309 1455.77 945.309 1460.26 Q945.309 1462.39 944.499 1464.31 Q943.712 1466.2 941.606 1468.8 Q941.027 1469.47 937.925 1472.69 Q934.823 1475.88 929.175 1481.64 Z\" fill=\"#000000\" fill-rule=\"nonzero\" fill-opacity=\"1\" /><path clip-path=\"url(#clip090)\" d=\"M1148.49 1454.1 Q1144.87 1454.1 1143.05 1457.66 Q1141.24 1461.2 1141.24 1468.33 Q1141.24 1475.44 1143.05 1479.01 Q1144.87 1482.55 1148.49 1482.55 Q1152.12 1482.55 1153.92 1479.01 Q1155.75 1475.44 1155.75 1468.33 Q1155.75 1461.2 1153.92 1457.66 Q1152.12 1454.1 1148.49 1454.1 M1148.49 1450.39 Q1154.3 1450.39 1157.35 1455 Q1160.43 1459.58 1160.43 1468.33 Q1160.43 1477.06 1157.35 1481.67 Q1154.3 1486.25 1148.49 1486.25 Q1142.67 1486.25 1139.6 1481.67 Q1136.54 1477.06 1136.54 1468.33 Q1136.54 1459.58 1139.6 1455 Q1142.67 1450.39 1148.49 1450.39 Z\" fill=\"#000000\" fill-rule=\"nonzero\" fill-opacity=\"1\" /><path clip-path=\"url(#clip090)\" d=\"M1168.65 1479.7 L1173.53 1479.7 L1173.53 1485.58 L1168.65 1485.58 L1168.65 1479.7 Z\" fill=\"#000000\" fill-rule=\"nonzero\" fill-opacity=\"1\" /><path clip-path=\"url(#clip090)\" d=\"M1196.56 1455.09 L1184.76 1473.54 L1196.56 1473.54 L1196.56 1455.09 M1195.34 1451.02 L1201.22 1451.02 L1201.22 1473.54 L1206.15 1473.54 L1206.15 1477.43 L1201.22 1477.43 L1201.22 1485.58 L1196.56 1485.58 L1196.56 1477.43 L1180.96 1477.43 L1180.96 1472.92 L1195.34 1451.02 Z\" fill=\"#000000\" fill-rule=\"nonzero\" fill-opacity=\"1\" /><path clip-path=\"url(#clip090)\" d=\"M1408.26 1454.1 Q1404.65 1454.1 1402.82 1457.66 Q1401.01 1461.2 1401.01 1468.33 Q1401.01 1475.44 1402.82 1479.01 Q1404.65 1482.55 1408.26 1482.55 Q1411.89 1482.55 1413.7 1479.01 Q1415.53 1475.44 1415.53 1468.33 Q1415.53 1461.2 1413.7 1457.66 Q1411.89 1454.1 1408.26 1454.1 M1408.26 1450.39 Q1414.07 1450.39 1417.12 1455 Q1420.2 1459.58 1420.2 1468.33 Q1420.2 1477.06 1417.12 1481.67 Q1414.07 1486.25 1408.26 1486.25 Q1402.45 1486.25 1399.37 1481.67 Q1396.31 1477.06 1396.31 1468.33 Q1396.31 1459.58 1399.37 1455 Q1402.45 1450.39 1408.26 1450.39 Z\" fill=\"#000000\" fill-rule=\"nonzero\" fill-opacity=\"1\" /><path clip-path=\"url(#clip090)\" d=\"M1428.42 1479.7 L1433.3 1479.7 L1433.3 1485.58 L1428.42 1485.58 L1428.42 1479.7 Z\" fill=\"#000000\" fill-rule=\"nonzero\" fill-opacity=\"1\" /><path clip-path=\"url(#clip090)\" d=\"M1454.07 1466.44 Q1450.92 1466.44 1449.07 1468.59 Q1447.24 1470.74 1447.24 1474.49 Q1447.24 1478.22 1449.07 1480.39 Q1450.92 1482.55 1454.07 1482.55 Q1457.22 1482.55 1459.04 1480.39 Q1460.9 1478.22 1460.9 1474.49 Q1460.9 1470.74 1459.04 1468.59 Q1457.22 1466.44 1454.07 1466.44 M1463.35 1451.78 L1463.35 1456.04 Q1461.59 1455.21 1459.79 1454.77 Q1458 1454.33 1456.24 1454.33 Q1451.61 1454.33 1449.16 1457.45 Q1446.73 1460.58 1446.38 1466.9 Q1447.75 1464.89 1449.81 1463.82 Q1451.87 1462.73 1454.35 1462.73 Q1459.55 1462.73 1462.56 1465.9 Q1465.6 1469.05 1465.6 1474.49 Q1465.6 1479.82 1462.45 1483.03 Q1459.3 1486.25 1454.07 1486.25 Q1448.07 1486.25 1444.9 1481.67 Q1441.73 1477.06 1441.73 1468.33 Q1441.73 1460.14 1445.62 1455.28 Q1449.51 1450.39 1456.06 1450.39 Q1457.82 1450.39 1459.6 1450.74 Q1461.41 1451.09 1463.35 1451.78 Z\" fill=\"#000000\" fill-rule=\"nonzero\" fill-opacity=\"1\" /><path clip-path=\"url(#clip090)\" d=\"M1668 1454.1 Q1664.38 1454.1 1662.56 1457.66 Q1660.75 1461.2 1660.75 1468.33 Q1660.75 1475.44 1662.56 1479.01 Q1664.38 1482.55 1668 1482.55 Q1671.63 1482.55 1673.44 1479.01 Q1675.26 1475.44 1675.26 1468.33 Q1675.26 1461.2 1673.44 1457.66 Q1671.63 1454.1 1668 1454.1 M1668 1450.39 Q1673.81 1450.39 1676.86 1455 Q1679.94 1459.58 1679.94 1468.33 Q1679.94 1477.06 1676.86 1481.67 Q1673.81 1486.25 1668 1486.25 Q1662.19 1486.25 1659.11 1481.67 Q1656.05 1477.06 1656.05 1468.33 Q1656.05 1459.58 1659.11 1455 Q1662.19 1450.39 1668 1450.39 Z\" fill=\"#000000\" fill-rule=\"nonzero\" fill-opacity=\"1\" /><path clip-path=\"url(#clip090)\" d=\"M1688.16 1479.7 L1693.04 1479.7 L1693.04 1485.58 L1688.16 1485.58 L1688.16 1479.7 Z\" fill=\"#000000\" fill-rule=\"nonzero\" fill-opacity=\"1\" /><path clip-path=\"url(#clip090)\" d=\"M1713.23 1469.17 Q1709.89 1469.17 1707.97 1470.95 Q1706.07 1472.73 1706.07 1475.86 Q1706.07 1478.98 1707.97 1480.77 Q1709.89 1482.55 1713.23 1482.55 Q1716.56 1482.55 1718.48 1480.77 Q1720.4 1478.96 1720.4 1475.86 Q1720.4 1472.73 1718.48 1470.95 Q1716.58 1469.17 1713.23 1469.17 M1708.55 1467.18 Q1705.54 1466.44 1703.85 1464.38 Q1702.19 1462.32 1702.19 1459.35 Q1702.19 1455.21 1705.12 1452.8 Q1708.09 1450.39 1713.23 1450.39 Q1718.39 1450.39 1721.33 1452.8 Q1724.27 1455.21 1724.27 1459.35 Q1724.27 1462.32 1722.58 1464.38 Q1720.91 1466.44 1717.93 1467.18 Q1721.31 1467.96 1723.18 1470.26 Q1725.08 1472.55 1725.08 1475.86 Q1725.08 1480.88 1722 1483.57 Q1718.94 1486.25 1713.23 1486.25 Q1707.51 1486.25 1704.43 1483.57 Q1701.37 1480.88 1701.37 1475.86 Q1701.37 1472.55 1703.27 1470.26 Q1705.17 1467.96 1708.55 1467.18 M1706.84 1459.79 Q1706.84 1462.48 1708.5 1463.98 Q1710.19 1465.49 1713.23 1465.49 Q1716.24 1465.49 1717.93 1463.98 Q1719.64 1462.48 1719.64 1459.79 Q1719.64 1457.11 1717.93 1455.6 Q1716.24 1454.1 1713.23 1454.1 Q1710.19 1454.1 1708.5 1455.6 Q1706.84 1457.11 1706.84 1459.79 Z\" fill=\"#000000\" fill-rule=\"nonzero\" fill-opacity=\"1\" /><path clip-path=\"url(#clip090)\" d=\"M1917.33 1481.64 L1924.97 1481.64 L1924.97 1455.28 L1916.66 1456.95 L1916.66 1452.69 L1924.92 1451.02 L1929.6 1451.02 L1929.6 1481.64 L1937.24 1481.64 L1937.24 1485.58 L1917.33 1485.58 L1917.33 1481.64 Z\" fill=\"#000000\" fill-rule=\"nonzero\" fill-opacity=\"1\" /><path clip-path=\"url(#clip090)\" d=\"M1946.68 1479.7 L1951.56 1479.7 L1951.56 1485.58 L1946.68 1485.58 L1946.68 1479.7 Z\" fill=\"#000000\" fill-rule=\"nonzero\" fill-opacity=\"1\" /><path clip-path=\"url(#clip090)\" d=\"M1971.75 1454.1 Q1968.14 1454.1 1966.31 1457.66 Q1964.5 1461.2 1964.5 1468.33 Q1964.5 1475.44 1966.31 1479.01 Q1968.14 1482.55 1971.75 1482.55 Q1975.38 1482.55 1977.19 1479.01 Q1979.02 1475.44 1979.02 1468.33 Q1979.02 1461.2 1977.19 1457.66 Q1975.38 1454.1 1971.75 1454.1 M1971.75 1450.39 Q1977.56 1450.39 1980.61 1455 Q1983.69 1459.58 1983.69 1468.33 Q1983.69 1477.06 1980.61 1481.67 Q1977.56 1486.25 1971.75 1486.25 Q1965.94 1486.25 1962.86 1481.67 Q1959.8 1477.06 1959.8 1468.33 Q1959.8 1459.58 1962.86 1455 Q1965.94 1450.39 1971.75 1450.39 Z\" fill=\"#000000\" fill-rule=\"nonzero\" fill-opacity=\"1\" /><path clip-path=\"url(#clip090)\" d=\"M2177.74 1481.64 L2185.38 1481.64 L2185.38 1455.28 L2177.07 1456.95 L2177.07 1452.69 L2185.33 1451.02 L2190.01 1451.02 L2190.01 1481.64 L2197.64 1481.64 L2197.64 1485.58 L2177.74 1485.58 L2177.74 1481.64 Z\" fill=\"#000000\" fill-rule=\"nonzero\" fill-opacity=\"1\" /><path clip-path=\"url(#clip090)\" d=\"M2207.09 1479.7 L2211.97 1479.7 L2211.97 1485.58 L2207.09 1485.58 L2207.09 1479.7 Z\" fill=\"#000000\" fill-rule=\"nonzero\" fill-opacity=\"1\" /><path clip-path=\"url(#clip090)\" d=\"M2226.19 1481.64 L2242.51 1481.64 L2242.51 1485.58 L2220.56 1485.58 L2220.56 1481.64 Q2223.22 1478.89 2227.81 1474.26 Q2232.41 1469.61 2233.59 1468.27 Q2235.84 1465.74 2236.72 1464.01 Q2237.62 1462.25 2237.62 1460.56 Q2237.62 1457.8 2235.68 1456.07 Q2233.76 1454.33 2230.65 1454.33 Q2228.45 1454.33 2226 1455.09 Q2223.57 1455.86 2220.79 1457.41 L2220.79 1452.69 Q2223.62 1451.55 2226.07 1450.97 Q2228.52 1450.39 2230.56 1450.39 Q2235.93 1450.39 2239.13 1453.08 Q2242.32 1455.77 2242.32 1460.26 Q2242.32 1462.39 2241.51 1464.31 Q2240.72 1466.2 2238.62 1468.8 Q2238.04 1469.47 2234.94 1472.69 Q2231.83 1475.88 2226.19 1481.64 Z\" fill=\"#000000\" fill-rule=\"nonzero\" fill-opacity=\"1\" /><path clip-path=\"url(#clip090)\" d=\"M1317.76 1532.4 L1304.87 1549.74 L1318.43 1568.04 L1311.53 1568.04 L1301.15 1554.04 L1290.77 1568.04 L1283.87 1568.04 L1297.71 1549.39 L1285.04 1532.4 L1291.95 1532.4 L1301.4 1545.1 L1310.86 1532.4 L1317.76 1532.4 Z\" fill=\"#000000\" fill-rule=\"nonzero\" fill-opacity=\"1\" /><polyline clip-path=\"url(#clip092)\" style=\"stroke:#000000; stroke-linecap:round; stroke-linejoin:round; stroke-width:2; stroke-opacity:0.1; fill:none\" points=\"249.542,1384.24 2352.76,1384.24 \"/>\n",
       "<polyline clip-path=\"url(#clip092)\" style=\"stroke:#000000; stroke-linecap:round; stroke-linejoin:round; stroke-width:2; stroke-opacity:0.1; fill:none\" points=\"249.542,1059.73 2352.76,1059.73 \"/>\n",
       "<polyline clip-path=\"url(#clip092)\" style=\"stroke:#000000; stroke-linecap:round; stroke-linejoin:round; stroke-width:2; stroke-opacity:0.1; fill:none\" points=\"249.542,735.212 2352.76,735.212 \"/>\n",
       "<polyline clip-path=\"url(#clip092)\" style=\"stroke:#000000; stroke-linecap:round; stroke-linejoin:round; stroke-width:2; stroke-opacity:0.1; fill:none\" points=\"249.542,410.699 2352.76,410.699 \"/>\n",
       "<polyline clip-path=\"url(#clip092)\" style=\"stroke:#000000; stroke-linecap:round; stroke-linejoin:round; stroke-width:2; stroke-opacity:0.1; fill:none\" points=\"249.542,86.1857 2352.76,86.1857 \"/>\n",
       "<polyline clip-path=\"url(#clip090)\" style=\"stroke:#000000; stroke-linecap:round; stroke-linejoin:round; stroke-width:4; stroke-opacity:1; fill:none\" points=\"249.542,1423.18 249.542,47.2441 \"/>\n",
       "<polyline clip-path=\"url(#clip090)\" style=\"stroke:#000000; stroke-linecap:round; stroke-linejoin:round; stroke-width:4; stroke-opacity:1; fill:none\" points=\"249.542,1384.24 268.44,1384.24 \"/>\n",
       "<polyline clip-path=\"url(#clip090)\" style=\"stroke:#000000; stroke-linecap:round; stroke-linejoin:round; stroke-width:4; stroke-opacity:1; fill:none\" points=\"249.542,1059.73 268.44,1059.73 \"/>\n",
       "<polyline clip-path=\"url(#clip090)\" style=\"stroke:#000000; stroke-linecap:round; stroke-linejoin:round; stroke-width:4; stroke-opacity:1; fill:none\" points=\"249.542,735.212 268.44,735.212 \"/>\n",
       "<polyline clip-path=\"url(#clip090)\" style=\"stroke:#000000; stroke-linecap:round; stroke-linejoin:round; stroke-width:4; stroke-opacity:1; fill:none\" points=\"249.542,410.699 268.44,410.699 \"/>\n",
       "<polyline clip-path=\"url(#clip090)\" style=\"stroke:#000000; stroke-linecap:round; stroke-linejoin:round; stroke-width:4; stroke-opacity:1; fill:none\" points=\"249.542,86.1857 268.44,86.1857 \"/>\n",
       "<path clip-path=\"url(#clip090)\" d=\"M126.205 1370.04 Q122.593 1370.04 120.765 1373.6 Q118.959 1377.14 118.959 1384.27 Q118.959 1391.38 120.765 1394.94 Q122.593 1398.49 126.205 1398.49 Q129.839 1398.49 131.644 1394.94 Q133.473 1391.38 133.473 1384.27 Q133.473 1377.14 131.644 1373.6 Q129.839 1370.04 126.205 1370.04 M126.205 1366.33 Q132.015 1366.33 135.07 1370.94 Q138.149 1375.52 138.149 1384.27 Q138.149 1393 135.07 1397.61 Q132.015 1402.19 126.205 1402.19 Q120.394 1402.19 117.316 1397.61 Q114.26 1393 114.26 1384.27 Q114.26 1375.52 117.316 1370.94 Q120.394 1366.33 126.205 1366.33 Z\" fill=\"#000000\" fill-rule=\"nonzero\" fill-opacity=\"1\" /><path clip-path=\"url(#clip090)\" d=\"M146.366 1395.64 L151.251 1395.64 L151.251 1401.52 L146.366 1401.52 L146.366 1395.64 Z\" fill=\"#000000\" fill-rule=\"nonzero\" fill-opacity=\"1\" /><path clip-path=\"url(#clip090)\" d=\"M171.436 1370.04 Q167.825 1370.04 165.996 1373.6 Q164.19 1377.14 164.19 1384.27 Q164.19 1391.38 165.996 1394.94 Q167.825 1398.49 171.436 1398.49 Q175.07 1398.49 176.876 1394.94 Q178.704 1391.38 178.704 1384.27 Q178.704 1377.14 176.876 1373.6 Q175.07 1370.04 171.436 1370.04 M171.436 1366.33 Q177.246 1366.33 180.301 1370.94 Q183.38 1375.52 183.38 1384.27 Q183.38 1393 180.301 1397.61 Q177.246 1402.19 171.436 1402.19 Q165.626 1402.19 162.547 1397.61 Q159.491 1393 159.491 1384.27 Q159.491 1375.52 162.547 1370.94 Q165.626 1366.33 171.436 1366.33 Z\" fill=\"#000000\" fill-rule=\"nonzero\" fill-opacity=\"1\" /><path clip-path=\"url(#clip090)\" d=\"M201.598 1370.04 Q197.987 1370.04 196.158 1373.6 Q194.352 1377.14 194.352 1384.27 Q194.352 1391.38 196.158 1394.94 Q197.987 1398.49 201.598 1398.49 Q205.232 1398.49 207.037 1394.94 Q208.866 1391.38 208.866 1384.27 Q208.866 1377.14 207.037 1373.6 Q205.232 1370.04 201.598 1370.04 M201.598 1366.33 Q207.408 1366.33 210.463 1370.94 Q213.542 1375.52 213.542 1384.27 Q213.542 1393 210.463 1397.61 Q207.408 1402.19 201.598 1402.19 Q195.787 1402.19 192.709 1397.61 Q189.653 1393 189.653 1384.27 Q189.653 1375.52 192.709 1370.94 Q195.787 1366.33 201.598 1366.33 Z\" fill=\"#000000\" fill-rule=\"nonzero\" fill-opacity=\"1\" /><path clip-path=\"url(#clip090)\" d=\"M127.2 1045.52 Q123.589 1045.52 121.76 1049.09 Q119.955 1052.63 119.955 1059.76 Q119.955 1066.87 121.76 1070.43 Q123.589 1073.97 127.2 1073.97 Q130.834 1073.97 132.64 1070.43 Q134.468 1066.87 134.468 1059.76 Q134.468 1052.63 132.64 1049.09 Q130.834 1045.52 127.2 1045.52 M127.2 1041.82 Q133.01 1041.82 136.066 1046.43 Q139.144 1051.01 139.144 1059.76 Q139.144 1068.49 136.066 1073.09 Q133.01 1077.68 127.2 1077.68 Q121.39 1077.68 118.311 1073.09 Q115.256 1068.49 115.256 1059.76 Q115.256 1051.01 118.311 1046.43 Q121.39 1041.82 127.2 1041.82 Z\" fill=\"#000000\" fill-rule=\"nonzero\" fill-opacity=\"1\" /><path clip-path=\"url(#clip090)\" d=\"M147.362 1071.13 L152.246 1071.13 L152.246 1077.01 L147.362 1077.01 L147.362 1071.13 Z\" fill=\"#000000\" fill-rule=\"nonzero\" fill-opacity=\"1\" /><path clip-path=\"url(#clip090)\" d=\"M166.459 1073.07 L182.778 1073.07 L182.778 1077.01 L160.834 1077.01 L160.834 1073.07 Q163.496 1070.32 168.079 1065.69 Q172.686 1061.03 173.866 1059.69 Q176.112 1057.17 176.991 1055.43 Q177.894 1053.67 177.894 1051.98 Q177.894 1049.23 175.95 1047.49 Q174.028 1045.76 170.927 1045.76 Q168.727 1045.76 166.274 1046.52 Q163.843 1047.28 161.065 1048.83 L161.065 1044.11 Q163.89 1042.98 166.343 1042.4 Q168.797 1041.82 170.834 1041.82 Q176.204 1041.82 179.399 1044.51 Q182.593 1047.19 182.593 1051.68 Q182.593 1053.81 181.783 1055.73 Q180.996 1057.63 178.889 1060.22 Q178.311 1060.89 175.209 1064.11 Q172.107 1067.31 166.459 1073.07 Z\" fill=\"#000000\" fill-rule=\"nonzero\" fill-opacity=\"1\" /><path clip-path=\"url(#clip090)\" d=\"M192.639 1042.45 L210.996 1042.45 L210.996 1046.38 L196.922 1046.38 L196.922 1054.85 Q197.94 1054.51 198.959 1054.34 Q199.977 1054.16 200.996 1054.16 Q206.783 1054.16 210.162 1057.33 Q213.542 1060.5 213.542 1065.92 Q213.542 1071.5 210.07 1074.6 Q206.598 1077.68 200.278 1077.68 Q198.102 1077.68 195.834 1077.31 Q193.588 1076.94 191.181 1076.19 L191.181 1071.5 Q193.264 1072.63 195.487 1073.19 Q197.709 1073.74 200.186 1073.74 Q204.19 1073.74 206.528 1071.63 Q208.866 1069.53 208.866 1065.92 Q208.866 1062.31 206.528 1060.2 Q204.19 1058.09 200.186 1058.09 Q198.311 1058.09 196.436 1058.51 Q194.584 1058.93 192.639 1059.81 L192.639 1042.45 Z\" fill=\"#000000\" fill-rule=\"nonzero\" fill-opacity=\"1\" /><path clip-path=\"url(#clip090)\" d=\"M126.205 721.011 Q122.593 721.011 120.765 724.575 Q118.959 728.117 118.959 735.247 Q118.959 742.353 120.765 745.918 Q122.593 749.46 126.205 749.46 Q129.839 749.46 131.644 745.918 Q133.473 742.353 133.473 735.247 Q133.473 728.117 131.644 724.575 Q129.839 721.011 126.205 721.011 M126.205 717.307 Q132.015 717.307 135.07 721.913 Q138.149 726.497 138.149 735.247 Q138.149 743.973 135.07 748.58 Q132.015 753.163 126.205 753.163 Q120.394 753.163 117.316 748.58 Q114.26 743.973 114.26 735.247 Q114.26 726.497 117.316 721.913 Q120.394 717.307 126.205 717.307 Z\" fill=\"#000000\" fill-rule=\"nonzero\" fill-opacity=\"1\" /><path clip-path=\"url(#clip090)\" d=\"M146.366 746.612 L151.251 746.612 L151.251 752.492 L146.366 752.492 L146.366 746.612 Z\" fill=\"#000000\" fill-rule=\"nonzero\" fill-opacity=\"1\" /><path clip-path=\"url(#clip090)\" d=\"M161.482 717.932 L179.839 717.932 L179.839 721.867 L165.765 721.867 L165.765 730.339 Q166.783 729.992 167.802 729.83 Q168.82 729.645 169.839 729.645 Q175.626 729.645 179.005 732.816 Q182.385 735.987 182.385 741.404 Q182.385 746.983 178.913 750.085 Q175.44 753.163 169.121 753.163 Q166.945 753.163 164.677 752.793 Q162.431 752.423 160.024 751.682 L160.024 746.983 Q162.107 748.117 164.329 748.673 Q166.552 749.228 169.028 749.228 Q173.033 749.228 175.371 747.122 Q177.709 745.015 177.709 741.404 Q177.709 737.793 175.371 735.687 Q173.033 733.58 169.028 733.58 Q167.153 733.58 165.278 733.997 Q163.427 734.413 161.482 735.293 L161.482 717.932 Z\" fill=\"#000000\" fill-rule=\"nonzero\" fill-opacity=\"1\" /><path clip-path=\"url(#clip090)\" d=\"M201.598 721.011 Q197.987 721.011 196.158 724.575 Q194.352 728.117 194.352 735.247 Q194.352 742.353 196.158 745.918 Q197.987 749.46 201.598 749.46 Q205.232 749.46 207.037 745.918 Q208.866 742.353 208.866 735.247 Q208.866 728.117 207.037 724.575 Q205.232 721.011 201.598 721.011 M201.598 717.307 Q207.408 717.307 210.463 721.913 Q213.542 726.497 213.542 735.247 Q213.542 743.973 210.463 748.58 Q207.408 753.163 201.598 753.163 Q195.787 753.163 192.709 748.58 Q189.653 743.973 189.653 735.247 Q189.653 726.497 192.709 721.913 Q195.787 717.307 201.598 717.307 Z\" fill=\"#000000\" fill-rule=\"nonzero\" fill-opacity=\"1\" /><path clip-path=\"url(#clip090)\" d=\"M127.2 396.498 Q123.589 396.498 121.76 400.062 Q119.955 403.604 119.955 410.734 Q119.955 417.84 121.76 421.405 Q123.589 424.946 127.2 424.946 Q130.834 424.946 132.64 421.405 Q134.468 417.84 134.468 410.734 Q134.468 403.604 132.64 400.062 Q130.834 396.498 127.2 396.498 M127.2 392.794 Q133.01 392.794 136.066 397.4 Q139.144 401.984 139.144 410.734 Q139.144 419.46 136.066 424.067 Q133.01 428.65 127.2 428.65 Q121.39 428.65 118.311 424.067 Q115.256 419.46 115.256 410.734 Q115.256 401.984 118.311 397.4 Q121.39 392.794 127.2 392.794 Z\" fill=\"#000000\" fill-rule=\"nonzero\" fill-opacity=\"1\" /><path clip-path=\"url(#clip090)\" d=\"M147.362 422.099 L152.246 422.099 L152.246 427.979 L147.362 427.979 L147.362 422.099 Z\" fill=\"#000000\" fill-rule=\"nonzero\" fill-opacity=\"1\" /><path clip-path=\"url(#clip090)\" d=\"M161.251 393.419 L183.473 393.419 L183.473 395.41 L170.927 427.979 L166.042 427.979 L177.848 397.354 L161.251 397.354 L161.251 393.419 Z\" fill=\"#000000\" fill-rule=\"nonzero\" fill-opacity=\"1\" /><path clip-path=\"url(#clip090)\" d=\"M192.639 393.419 L210.996 393.419 L210.996 397.354 L196.922 397.354 L196.922 405.826 Q197.94 405.479 198.959 405.317 Q199.977 405.132 200.996 405.132 Q206.783 405.132 210.162 408.303 Q213.542 411.474 213.542 416.891 Q213.542 422.47 210.07 425.571 Q206.598 428.65 200.278 428.65 Q198.102 428.65 195.834 428.28 Q193.588 427.909 191.181 427.169 L191.181 422.47 Q193.264 423.604 195.487 424.159 Q197.709 424.715 200.186 424.715 Q204.19 424.715 206.528 422.608 Q208.866 420.502 208.866 416.891 Q208.866 413.28 206.528 411.173 Q204.19 409.067 200.186 409.067 Q198.311 409.067 196.436 409.484 Q194.584 409.9 192.639 410.78 L192.639 393.419 Z\" fill=\"#000000\" fill-rule=\"nonzero\" fill-opacity=\"1\" /><path clip-path=\"url(#clip090)\" d=\"M117.015 99.5305 L124.654 99.5305 L124.654 73.1649 L116.343 74.8316 L116.343 70.5723 L124.607 68.9057 L129.283 68.9057 L129.283 99.5305 L136.922 99.5305 L136.922 103.466 L117.015 103.466 L117.015 99.5305 Z\" fill=\"#000000\" fill-rule=\"nonzero\" fill-opacity=\"1\" /><path clip-path=\"url(#clip090)\" d=\"M146.366 97.5861 L151.251 97.5861 L151.251 103.466 L146.366 103.466 L146.366 97.5861 Z\" fill=\"#000000\" fill-rule=\"nonzero\" fill-opacity=\"1\" /><path clip-path=\"url(#clip090)\" d=\"M171.436 71.9844 Q167.825 71.9844 165.996 75.5492 Q164.19 79.0908 164.19 86.2204 Q164.19 93.3268 165.996 96.8916 Q167.825 100.433 171.436 100.433 Q175.07 100.433 176.876 96.8916 Q178.704 93.3268 178.704 86.2204 Q178.704 79.0908 176.876 75.5492 Q175.07 71.9844 171.436 71.9844 M171.436 68.2807 Q177.246 68.2807 180.301 72.8871 Q183.38 77.4704 183.38 86.2204 Q183.38 94.9472 180.301 99.5537 Q177.246 104.137 171.436 104.137 Q165.626 104.137 162.547 99.5537 Q159.491 94.9472 159.491 86.2204 Q159.491 77.4704 162.547 72.8871 Q165.626 68.2807 171.436 68.2807 Z\" fill=\"#000000\" fill-rule=\"nonzero\" fill-opacity=\"1\" /><path clip-path=\"url(#clip090)\" d=\"M201.598 71.9844 Q197.987 71.9844 196.158 75.5492 Q194.352 79.0908 194.352 86.2204 Q194.352 93.3268 196.158 96.8916 Q197.987 100.433 201.598 100.433 Q205.232 100.433 207.037 96.8916 Q208.866 93.3268 208.866 86.2204 Q208.866 79.0908 207.037 75.5492 Q205.232 71.9844 201.598 71.9844 M201.598 68.2807 Q207.408 68.2807 210.463 72.8871 Q213.542 77.4704 213.542 86.2204 Q213.542 94.9472 210.463 99.5537 Q207.408 104.137 201.598 104.137 Q195.787 104.137 192.709 99.5537 Q189.653 94.9472 189.653 86.2204 Q189.653 77.4704 192.709 72.8871 Q195.787 68.2807 201.598 68.2807 Z\" fill=\"#000000\" fill-rule=\"nonzero\" fill-opacity=\"1\" /><path clip-path=\"url(#clip090)\" d=\"M67.3143 733.525 Q73.68 736.008 75.6216 738.363 Q77.5631 740.718 77.5631 744.665 L77.5631 749.344 L72.6615 749.344 L72.6615 745.906 Q72.6615 743.487 71.5157 742.151 Q70.3699 740.814 66.1048 739.191 L63.4312 738.14 L28.3562 752.559 L28.3562 746.352 L56.238 735.212 L28.3562 724.072 L28.3562 717.865 L67.3143 733.525 Z\" fill=\"#000000\" fill-rule=\"nonzero\" fill-opacity=\"1\" /><path clip-path=\"url(#clip092)\" d=\"M652.123 1384.24 L1950.18 1384.24 L652.123 86.1857 L652.123 1384.24 L652.123 1384.24  Z\" fill=\"#009af9\" fill-rule=\"evenodd\" fill-opacity=\"0.3\"/>\n",
       "<polyline clip-path=\"url(#clip092)\" style=\"stroke:#0000ff; stroke-linecap:round; stroke-linejoin:round; stroke-width:4; stroke-opacity:1; fill:none\" points=\"652.123,1384.24 1950.18,1384.24 652.123,86.1857 652.123,1384.24 \"/>\n",
       "<circle clip-path=\"url(#clip092)\" cx=\"820.942\" cy=\"267.601\" r=\"28.8\" fill=\"#ff0000\" fill-rule=\"evenodd\" fill-opacity=\"1\" stroke=\"#000000\" stroke-opacity=\"1\" stroke-width=\"3.2\"/>\n",
       "<circle clip-path=\"url(#clip092)\" cx=\"1155.11\" cy=\"626.707\" r=\"28.8\" fill=\"#ff0000\" fill-rule=\"evenodd\" fill-opacity=\"1\" stroke=\"#000000\" stroke-opacity=\"1\" stroke-width=\"3.2\"/>\n",
       "<circle clip-path=\"url(#clip092)\" cx=\"1525.64\" cy=\"1024.88\" r=\"28.8\" fill=\"#ff0000\" fill-rule=\"evenodd\" fill-opacity=\"1\" stroke=\"#000000\" stroke-opacity=\"1\" stroke-width=\"3.2\"/>\n",
       "<circle clip-path=\"url(#clip092)\" cx=\"1791.07\" cy=\"1310.11\" r=\"28.8\" fill=\"#ff0000\" fill-rule=\"evenodd\" fill-opacity=\"1\" stroke=\"#000000\" stroke-opacity=\"1\" stroke-width=\"3.2\"/>\n",
       "<circle clip-path=\"url(#clip092)\" cx=\"773.669\" cy=\"267.601\" r=\"28.8\" fill=\"#ff0000\" fill-rule=\"evenodd\" fill-opacity=\"1\" stroke=\"#000000\" stroke-opacity=\"1\" stroke-width=\"3.2\"/>\n",
       "<circle clip-path=\"url(#clip092)\" cx=\"1014.27\" cy=\"626.707\" r=\"28.8\" fill=\"#ff0000\" fill-rule=\"evenodd\" fill-opacity=\"1\" stroke=\"#000000\" stroke-opacity=\"1\" stroke-width=\"3.2\"/>\n",
       "<circle clip-path=\"url(#clip092)\" cx=\"1281.04\" cy=\"1024.88\" r=\"28.8\" fill=\"#ff0000\" fill-rule=\"evenodd\" fill-opacity=\"1\" stroke=\"#000000\" stroke-opacity=\"1\" stroke-width=\"3.2\"/>\n",
       "<circle clip-path=\"url(#clip092)\" cx=\"1472.14\" cy=\"1310.11\" r=\"28.8\" fill=\"#ff0000\" fill-rule=\"evenodd\" fill-opacity=\"1\" stroke=\"#000000\" stroke-opacity=\"1\" stroke-width=\"3.2\"/>\n",
       "<circle clip-path=\"url(#clip092)\" cx=\"711.992\" cy=\"267.601\" r=\"28.8\" fill=\"#ff0000\" fill-rule=\"evenodd\" fill-opacity=\"1\" stroke=\"#000000\" stroke-opacity=\"1\" stroke-width=\"3.2\"/>\n",
       "<circle clip-path=\"url(#clip092)\" cx=\"830.5\" cy=\"626.707\" r=\"28.8\" fill=\"#ff0000\" fill-rule=\"evenodd\" fill-opacity=\"1\" stroke=\"#000000\" stroke-opacity=\"1\" stroke-width=\"3.2\"/>\n",
       "<circle clip-path=\"url(#clip092)\" cx=\"961.901\" cy=\"1024.88\" r=\"28.8\" fill=\"#ff0000\" fill-rule=\"evenodd\" fill-opacity=\"1\" stroke=\"#000000\" stroke-opacity=\"1\" stroke-width=\"3.2\"/>\n",
       "<circle clip-path=\"url(#clip092)\" cx=\"1056.03\" cy=\"1310.11\" r=\"28.8\" fill=\"#ff0000\" fill-rule=\"evenodd\" fill-opacity=\"1\" stroke=\"#000000\" stroke-opacity=\"1\" stroke-width=\"3.2\"/>\n",
       "<circle clip-path=\"url(#clip092)\" cx=\"664.719\" cy=\"267.601\" r=\"28.8\" fill=\"#ff0000\" fill-rule=\"evenodd\" fill-opacity=\"1\" stroke=\"#000000\" stroke-opacity=\"1\" stroke-width=\"3.2\"/>\n",
       "<circle clip-path=\"url(#clip092)\" cx=\"689.652\" cy=\"626.707\" r=\"28.8\" fill=\"#ff0000\" fill-rule=\"evenodd\" fill-opacity=\"1\" stroke=\"#000000\" stroke-opacity=\"1\" stroke-width=\"3.2\"/>\n",
       "<circle clip-path=\"url(#clip092)\" cx=\"717.298\" cy=\"1024.88\" r=\"28.8\" fill=\"#ff0000\" fill-rule=\"evenodd\" fill-opacity=\"1\" stroke=\"#000000\" stroke-opacity=\"1\" stroke-width=\"3.2\"/>\n",
       "<circle clip-path=\"url(#clip092)\" cx=\"737.102\" cy=\"1310.11\" r=\"28.8\" fill=\"#ff0000\" fill-rule=\"evenodd\" fill-opacity=\"1\" stroke=\"#000000\" stroke-opacity=\"1\" stroke-width=\"3.2\"/>\n",
       "</svg>\n"
      ],
      "text/html": [
       "<?xml version=\"1.0\" encoding=\"utf-8\"?>\n",
       "<svg xmlns=\"http://www.w3.org/2000/svg\" xmlns:xlink=\"http://www.w3.org/1999/xlink\" width=\"600\" height=\"400\" viewBox=\"0 0 2400 1600\">\n",
       "<defs>\n",
       "  <clipPath id=\"clip140\">\n",
       "    <rect x=\"0\" y=\"0\" width=\"2400\" height=\"1600\"/>\n",
       "  </clipPath>\n",
       "</defs>\n",
       "<path clip-path=\"url(#clip140)\" d=\"M0 1600 L2400 1600 L2400 8.88178e-14 L0 8.88178e-14  Z\" fill=\"#ffffff\" fill-rule=\"evenodd\" fill-opacity=\"1\"/>\n",
       "<defs>\n",
       "  <clipPath id=\"clip141\">\n",
       "    <rect x=\"480\" y=\"0\" width=\"1681\" height=\"1600\"/>\n",
       "  </clipPath>\n",
       "</defs>\n",
       "<path clip-path=\"url(#clip140)\" d=\"M249.542 1423.18 L2352.76 1423.18 L2352.76 47.2441 L249.542 47.2441  Z\" fill=\"#ffffff\" fill-rule=\"evenodd\" fill-opacity=\"1\"/>\n",
       "<defs>\n",
       "  <clipPath id=\"clip142\">\n",
       "    <rect x=\"249\" y=\"47\" width=\"2104\" height=\"1377\"/>\n",
       "  </clipPath>\n",
       "</defs>\n",
       "<polyline clip-path=\"url(#clip142)\" style=\"stroke:#000000; stroke-linecap:round; stroke-linejoin:round; stroke-width:2; stroke-opacity:0.1; fill:none\" points=\"392.512,1423.18 392.512,47.2441 \"/>\n",
       "<polyline clip-path=\"url(#clip142)\" style=\"stroke:#000000; stroke-linecap:round; stroke-linejoin:round; stroke-width:2; stroke-opacity:0.1; fill:none\" points=\"652.123,1423.18 652.123,47.2441 \"/>\n",
       "<polyline clip-path=\"url(#clip142)\" style=\"stroke:#000000; stroke-linecap:round; stroke-linejoin:round; stroke-width:2; stroke-opacity:0.1; fill:none\" points=\"911.733,1423.18 911.733,47.2441 \"/>\n",
       "<polyline clip-path=\"url(#clip142)\" style=\"stroke:#000000; stroke-linecap:round; stroke-linejoin:round; stroke-width:2; stroke-opacity:0.1; fill:none\" points=\"1171.34,1423.18 1171.34,47.2441 \"/>\n",
       "<polyline clip-path=\"url(#clip142)\" style=\"stroke:#000000; stroke-linecap:round; stroke-linejoin:round; stroke-width:2; stroke-opacity:0.1; fill:none\" points=\"1430.95,1423.18 1430.95,47.2441 \"/>\n",
       "<polyline clip-path=\"url(#clip142)\" style=\"stroke:#000000; stroke-linecap:round; stroke-linejoin:round; stroke-width:2; stroke-opacity:0.1; fill:none\" points=\"1690.56,1423.18 1690.56,47.2441 \"/>\n",
       "<polyline clip-path=\"url(#clip142)\" style=\"stroke:#000000; stroke-linecap:round; stroke-linejoin:round; stroke-width:2; stroke-opacity:0.1; fill:none\" points=\"1950.18,1423.18 1950.18,47.2441 \"/>\n",
       "<polyline clip-path=\"url(#clip142)\" style=\"stroke:#000000; stroke-linecap:round; stroke-linejoin:round; stroke-width:2; stroke-opacity:0.1; fill:none\" points=\"2209.79,1423.18 2209.79,47.2441 \"/>\n",
       "<polyline clip-path=\"url(#clip140)\" style=\"stroke:#000000; stroke-linecap:round; stroke-linejoin:round; stroke-width:4; stroke-opacity:1; fill:none\" points=\"249.542,1423.18 2352.76,1423.18 \"/>\n",
       "<polyline clip-path=\"url(#clip140)\" style=\"stroke:#000000; stroke-linecap:round; stroke-linejoin:round; stroke-width:4; stroke-opacity:1; fill:none\" points=\"392.512,1423.18 392.512,1404.28 \"/>\n",
       "<polyline clip-path=\"url(#clip140)\" style=\"stroke:#000000; stroke-linecap:round; stroke-linejoin:round; stroke-width:4; stroke-opacity:1; fill:none\" points=\"652.123,1423.18 652.123,1404.28 \"/>\n",
       "<polyline clip-path=\"url(#clip140)\" style=\"stroke:#000000; stroke-linecap:round; stroke-linejoin:round; stroke-width:4; stroke-opacity:1; fill:none\" points=\"911.733,1423.18 911.733,1404.28 \"/>\n",
       "<polyline clip-path=\"url(#clip140)\" style=\"stroke:#000000; stroke-linecap:round; stroke-linejoin:round; stroke-width:4; stroke-opacity:1; fill:none\" points=\"1171.34,1423.18 1171.34,1404.28 \"/>\n",
       "<polyline clip-path=\"url(#clip140)\" style=\"stroke:#000000; stroke-linecap:round; stroke-linejoin:round; stroke-width:4; stroke-opacity:1; fill:none\" points=\"1430.95,1423.18 1430.95,1404.28 \"/>\n",
       "<polyline clip-path=\"url(#clip140)\" style=\"stroke:#000000; stroke-linecap:round; stroke-linejoin:round; stroke-width:4; stroke-opacity:1; fill:none\" points=\"1690.56,1423.18 1690.56,1404.28 \"/>\n",
       "<polyline clip-path=\"url(#clip140)\" style=\"stroke:#000000; stroke-linecap:round; stroke-linejoin:round; stroke-width:4; stroke-opacity:1; fill:none\" points=\"1950.18,1423.18 1950.18,1404.28 \"/>\n",
       "<polyline clip-path=\"url(#clip140)\" style=\"stroke:#000000; stroke-linecap:round; stroke-linejoin:round; stroke-width:4; stroke-opacity:1; fill:none\" points=\"2209.79,1423.18 2209.79,1404.28 \"/>\n",
       "<path clip-path=\"url(#clip140)\" d=\"M339.839 1468.75 L369.515 1468.75 L369.515 1472.69 L339.839 1472.69 L339.839 1468.75 Z\" fill=\"#000000\" fill-rule=\"nonzero\" fill-opacity=\"1\" /><path clip-path=\"url(#clip140)\" d=\"M389.607 1454.1 Q385.996 1454.1 384.167 1457.66 Q382.362 1461.2 382.362 1468.33 Q382.362 1475.44 384.167 1479.01 Q385.996 1482.55 389.607 1482.55 Q393.241 1482.55 395.047 1479.01 Q396.876 1475.44 396.876 1468.33 Q396.876 1461.2 395.047 1457.66 Q393.241 1454.1 389.607 1454.1 M389.607 1450.39 Q395.417 1450.39 398.473 1455 Q401.551 1459.58 401.551 1468.33 Q401.551 1477.06 398.473 1481.67 Q395.417 1486.25 389.607 1486.25 Q383.797 1486.25 380.718 1481.67 Q377.663 1477.06 377.663 1468.33 Q377.663 1459.58 380.718 1455 Q383.797 1450.39 389.607 1450.39 Z\" fill=\"#000000\" fill-rule=\"nonzero\" fill-opacity=\"1\" /><path clip-path=\"url(#clip140)\" d=\"M409.769 1479.7 L414.653 1479.7 L414.653 1485.58 L409.769 1485.58 L409.769 1479.7 Z\" fill=\"#000000\" fill-rule=\"nonzero\" fill-opacity=\"1\" /><path clip-path=\"url(#clip140)\" d=\"M428.866 1481.64 L445.185 1481.64 L445.185 1485.58 L423.241 1485.58 L423.241 1481.64 Q425.903 1478.89 430.486 1474.26 Q435.093 1469.61 436.273 1468.27 Q438.519 1465.74 439.398 1464.01 Q440.301 1462.25 440.301 1460.56 Q440.301 1457.8 438.357 1456.07 Q436.436 1454.33 433.334 1454.33 Q431.135 1454.33 428.681 1455.09 Q426.25 1455.86 423.473 1457.41 L423.473 1452.69 Q426.297 1451.55 428.75 1450.97 Q431.204 1450.39 433.241 1450.39 Q438.611 1450.39 441.806 1453.08 Q445 1455.77 445 1460.26 Q445 1462.39 444.19 1464.31 Q443.403 1466.2 441.297 1468.8 Q440.718 1469.47 437.616 1472.69 Q434.514 1475.88 428.866 1481.64 Z\" fill=\"#000000\" fill-rule=\"nonzero\" fill-opacity=\"1\" /><path clip-path=\"url(#clip140)\" d=\"M629.507 1454.1 Q625.896 1454.1 624.067 1457.66 Q622.262 1461.2 622.262 1468.33 Q622.262 1475.44 624.067 1479.01 Q625.896 1482.55 629.507 1482.55 Q633.141 1482.55 634.947 1479.01 Q636.776 1475.44 636.776 1468.33 Q636.776 1461.2 634.947 1457.66 Q633.141 1454.1 629.507 1454.1 M629.507 1450.39 Q635.317 1450.39 638.373 1455 Q641.451 1459.58 641.451 1468.33 Q641.451 1477.06 638.373 1481.67 Q635.317 1486.25 629.507 1486.25 Q623.697 1486.25 620.618 1481.67 Q617.563 1477.06 617.563 1468.33 Q617.563 1459.58 620.618 1455 Q623.697 1450.39 629.507 1450.39 Z\" fill=\"#000000\" fill-rule=\"nonzero\" fill-opacity=\"1\" /><path clip-path=\"url(#clip140)\" d=\"M649.669 1479.7 L654.553 1479.7 L654.553 1485.58 L649.669 1485.58 L649.669 1479.7 Z\" fill=\"#000000\" fill-rule=\"nonzero\" fill-opacity=\"1\" /><path clip-path=\"url(#clip140)\" d=\"M674.738 1454.1 Q671.127 1454.1 669.299 1457.66 Q667.493 1461.2 667.493 1468.33 Q667.493 1475.44 669.299 1479.01 Q671.127 1482.55 674.738 1482.55 Q678.373 1482.55 680.178 1479.01 Q682.007 1475.44 682.007 1468.33 Q682.007 1461.2 680.178 1457.66 Q678.373 1454.1 674.738 1454.1 M674.738 1450.39 Q680.548 1450.39 683.604 1455 Q686.683 1459.58 686.683 1468.33 Q686.683 1477.06 683.604 1481.67 Q680.548 1486.25 674.738 1486.25 Q668.928 1486.25 665.849 1481.67 Q662.794 1477.06 662.794 1468.33 Q662.794 1459.58 665.849 1455 Q668.928 1450.39 674.738 1450.39 Z\" fill=\"#000000\" fill-rule=\"nonzero\" fill-opacity=\"1\" /><path clip-path=\"url(#clip140)\" d=\"M889.916 1454.1 Q886.305 1454.1 884.476 1457.66 Q882.671 1461.2 882.671 1468.33 Q882.671 1475.44 884.476 1479.01 Q886.305 1482.55 889.916 1482.55 Q893.55 1482.55 895.356 1479.01 Q897.185 1475.44 897.185 1468.33 Q897.185 1461.2 895.356 1457.66 Q893.55 1454.1 889.916 1454.1 M889.916 1450.39 Q895.726 1450.39 898.782 1455 Q901.861 1459.58 901.861 1468.33 Q901.861 1477.06 898.782 1481.67 Q895.726 1486.25 889.916 1486.25 Q884.106 1486.25 881.027 1481.67 Q877.972 1477.06 877.972 1468.33 Q877.972 1459.58 881.027 1455 Q884.106 1450.39 889.916 1450.39 Z\" fill=\"#000000\" fill-rule=\"nonzero\" fill-opacity=\"1\" /><path clip-path=\"url(#clip140)\" d=\"M910.078 1479.7 L914.962 1479.7 L914.962 1485.58 L910.078 1485.58 L910.078 1479.7 Z\" fill=\"#000000\" fill-rule=\"nonzero\" fill-opacity=\"1\" /><path clip-path=\"url(#clip140)\" d=\"M929.175 1481.64 L945.495 1481.64 L945.495 1485.58 L923.55 1485.58 L923.55 1481.64 Q926.212 1478.89 930.796 1474.26 Q935.402 1469.61 936.583 1468.27 Q938.828 1465.74 939.708 1464.01 Q940.61 1462.25 940.61 1460.56 Q940.61 1457.8 938.666 1456.07 Q936.745 1454.33 933.643 1454.33 Q931.444 1454.33 928.99 1455.09 Q926.56 1455.86 923.782 1457.41 L923.782 1452.69 Q926.606 1451.55 929.059 1450.97 Q931.513 1450.39 933.55 1450.39 Q938.921 1450.39 942.115 1453.08 Q945.309 1455.77 945.309 1460.26 Q945.309 1462.39 944.499 1464.31 Q943.712 1466.2 941.606 1468.8 Q941.027 1469.47 937.925 1472.69 Q934.823 1475.88 929.175 1481.64 Z\" fill=\"#000000\" fill-rule=\"nonzero\" fill-opacity=\"1\" /><path clip-path=\"url(#clip140)\" d=\"M1148.49 1454.1 Q1144.87 1454.1 1143.05 1457.66 Q1141.24 1461.2 1141.24 1468.33 Q1141.24 1475.44 1143.05 1479.01 Q1144.87 1482.55 1148.49 1482.55 Q1152.12 1482.55 1153.92 1479.01 Q1155.75 1475.44 1155.75 1468.33 Q1155.75 1461.2 1153.92 1457.66 Q1152.12 1454.1 1148.49 1454.1 M1148.49 1450.39 Q1154.3 1450.39 1157.35 1455 Q1160.43 1459.58 1160.43 1468.33 Q1160.43 1477.06 1157.35 1481.67 Q1154.3 1486.25 1148.49 1486.25 Q1142.67 1486.25 1139.6 1481.67 Q1136.54 1477.06 1136.54 1468.33 Q1136.54 1459.58 1139.6 1455 Q1142.67 1450.39 1148.49 1450.39 Z\" fill=\"#000000\" fill-rule=\"nonzero\" fill-opacity=\"1\" /><path clip-path=\"url(#clip140)\" d=\"M1168.65 1479.7 L1173.53 1479.7 L1173.53 1485.58 L1168.65 1485.58 L1168.65 1479.7 Z\" fill=\"#000000\" fill-rule=\"nonzero\" fill-opacity=\"1\" /><path clip-path=\"url(#clip140)\" d=\"M1196.56 1455.09 L1184.76 1473.54 L1196.56 1473.54 L1196.56 1455.09 M1195.34 1451.02 L1201.22 1451.02 L1201.22 1473.54 L1206.15 1473.54 L1206.15 1477.43 L1201.22 1477.43 L1201.22 1485.58 L1196.56 1485.58 L1196.56 1477.43 L1180.96 1477.43 L1180.96 1472.92 L1195.34 1451.02 Z\" fill=\"#000000\" fill-rule=\"nonzero\" fill-opacity=\"1\" /><path clip-path=\"url(#clip140)\" d=\"M1408.26 1454.1 Q1404.65 1454.1 1402.82 1457.66 Q1401.01 1461.2 1401.01 1468.33 Q1401.01 1475.44 1402.82 1479.01 Q1404.65 1482.55 1408.26 1482.55 Q1411.89 1482.55 1413.7 1479.01 Q1415.53 1475.44 1415.53 1468.33 Q1415.53 1461.2 1413.7 1457.66 Q1411.89 1454.1 1408.26 1454.1 M1408.26 1450.39 Q1414.07 1450.39 1417.12 1455 Q1420.2 1459.58 1420.2 1468.33 Q1420.2 1477.06 1417.12 1481.67 Q1414.07 1486.25 1408.26 1486.25 Q1402.45 1486.25 1399.37 1481.67 Q1396.31 1477.06 1396.31 1468.33 Q1396.31 1459.58 1399.37 1455 Q1402.45 1450.39 1408.26 1450.39 Z\" fill=\"#000000\" fill-rule=\"nonzero\" fill-opacity=\"1\" /><path clip-path=\"url(#clip140)\" d=\"M1428.42 1479.7 L1433.3 1479.7 L1433.3 1485.58 L1428.42 1485.58 L1428.42 1479.7 Z\" fill=\"#000000\" fill-rule=\"nonzero\" fill-opacity=\"1\" /><path clip-path=\"url(#clip140)\" d=\"M1454.07 1466.44 Q1450.92 1466.44 1449.07 1468.59 Q1447.24 1470.74 1447.24 1474.49 Q1447.24 1478.22 1449.07 1480.39 Q1450.92 1482.55 1454.07 1482.55 Q1457.22 1482.55 1459.04 1480.39 Q1460.9 1478.22 1460.9 1474.49 Q1460.9 1470.74 1459.04 1468.59 Q1457.22 1466.44 1454.07 1466.44 M1463.35 1451.78 L1463.35 1456.04 Q1461.59 1455.21 1459.79 1454.77 Q1458 1454.33 1456.24 1454.33 Q1451.61 1454.33 1449.16 1457.45 Q1446.73 1460.58 1446.38 1466.9 Q1447.75 1464.89 1449.81 1463.82 Q1451.87 1462.73 1454.35 1462.73 Q1459.55 1462.73 1462.56 1465.9 Q1465.6 1469.05 1465.6 1474.49 Q1465.6 1479.82 1462.45 1483.03 Q1459.3 1486.25 1454.07 1486.25 Q1448.07 1486.25 1444.9 1481.67 Q1441.73 1477.06 1441.73 1468.33 Q1441.73 1460.14 1445.62 1455.28 Q1449.51 1450.39 1456.06 1450.39 Q1457.82 1450.39 1459.6 1450.74 Q1461.41 1451.09 1463.35 1451.78 Z\" fill=\"#000000\" fill-rule=\"nonzero\" fill-opacity=\"1\" /><path clip-path=\"url(#clip140)\" d=\"M1668 1454.1 Q1664.38 1454.1 1662.56 1457.66 Q1660.75 1461.2 1660.75 1468.33 Q1660.75 1475.44 1662.56 1479.01 Q1664.38 1482.55 1668 1482.55 Q1671.63 1482.55 1673.44 1479.01 Q1675.26 1475.44 1675.26 1468.33 Q1675.26 1461.2 1673.44 1457.66 Q1671.63 1454.1 1668 1454.1 M1668 1450.39 Q1673.81 1450.39 1676.86 1455 Q1679.94 1459.58 1679.94 1468.33 Q1679.94 1477.06 1676.86 1481.67 Q1673.81 1486.25 1668 1486.25 Q1662.19 1486.25 1659.11 1481.67 Q1656.05 1477.06 1656.05 1468.33 Q1656.05 1459.58 1659.11 1455 Q1662.19 1450.39 1668 1450.39 Z\" fill=\"#000000\" fill-rule=\"nonzero\" fill-opacity=\"1\" /><path clip-path=\"url(#clip140)\" d=\"M1688.16 1479.7 L1693.04 1479.7 L1693.04 1485.58 L1688.16 1485.58 L1688.16 1479.7 Z\" fill=\"#000000\" fill-rule=\"nonzero\" fill-opacity=\"1\" /><path clip-path=\"url(#clip140)\" d=\"M1713.23 1469.17 Q1709.89 1469.17 1707.97 1470.95 Q1706.07 1472.73 1706.07 1475.86 Q1706.07 1478.98 1707.97 1480.77 Q1709.89 1482.55 1713.23 1482.55 Q1716.56 1482.55 1718.48 1480.77 Q1720.4 1478.96 1720.4 1475.86 Q1720.4 1472.73 1718.48 1470.95 Q1716.58 1469.17 1713.23 1469.17 M1708.55 1467.18 Q1705.54 1466.44 1703.85 1464.38 Q1702.19 1462.32 1702.19 1459.35 Q1702.19 1455.21 1705.12 1452.8 Q1708.09 1450.39 1713.23 1450.39 Q1718.39 1450.39 1721.33 1452.8 Q1724.27 1455.21 1724.27 1459.35 Q1724.27 1462.32 1722.58 1464.38 Q1720.91 1466.44 1717.93 1467.18 Q1721.31 1467.96 1723.18 1470.26 Q1725.08 1472.55 1725.08 1475.86 Q1725.08 1480.88 1722 1483.57 Q1718.94 1486.25 1713.23 1486.25 Q1707.51 1486.25 1704.43 1483.57 Q1701.37 1480.88 1701.37 1475.86 Q1701.37 1472.55 1703.27 1470.26 Q1705.17 1467.96 1708.55 1467.18 M1706.84 1459.79 Q1706.84 1462.48 1708.5 1463.98 Q1710.19 1465.49 1713.23 1465.49 Q1716.24 1465.49 1717.93 1463.98 Q1719.64 1462.48 1719.64 1459.79 Q1719.64 1457.11 1717.93 1455.6 Q1716.24 1454.1 1713.23 1454.1 Q1710.19 1454.1 1708.5 1455.6 Q1706.84 1457.11 1706.84 1459.79 Z\" fill=\"#000000\" fill-rule=\"nonzero\" fill-opacity=\"1\" /><path clip-path=\"url(#clip140)\" d=\"M1917.33 1481.64 L1924.97 1481.64 L1924.97 1455.28 L1916.66 1456.95 L1916.66 1452.69 L1924.92 1451.02 L1929.6 1451.02 L1929.6 1481.64 L1937.24 1481.64 L1937.24 1485.58 L1917.33 1485.58 L1917.33 1481.64 Z\" fill=\"#000000\" fill-rule=\"nonzero\" fill-opacity=\"1\" /><path clip-path=\"url(#clip140)\" d=\"M1946.68 1479.7 L1951.56 1479.7 L1951.56 1485.58 L1946.68 1485.58 L1946.68 1479.7 Z\" fill=\"#000000\" fill-rule=\"nonzero\" fill-opacity=\"1\" /><path clip-path=\"url(#clip140)\" d=\"M1971.75 1454.1 Q1968.14 1454.1 1966.31 1457.66 Q1964.5 1461.2 1964.5 1468.33 Q1964.5 1475.44 1966.31 1479.01 Q1968.14 1482.55 1971.75 1482.55 Q1975.38 1482.55 1977.19 1479.01 Q1979.02 1475.44 1979.02 1468.33 Q1979.02 1461.2 1977.19 1457.66 Q1975.38 1454.1 1971.75 1454.1 M1971.75 1450.39 Q1977.56 1450.39 1980.61 1455 Q1983.69 1459.58 1983.69 1468.33 Q1983.69 1477.06 1980.61 1481.67 Q1977.56 1486.25 1971.75 1486.25 Q1965.94 1486.25 1962.86 1481.67 Q1959.8 1477.06 1959.8 1468.33 Q1959.8 1459.58 1962.86 1455 Q1965.94 1450.39 1971.75 1450.39 Z\" fill=\"#000000\" fill-rule=\"nonzero\" fill-opacity=\"1\" /><path clip-path=\"url(#clip140)\" d=\"M2177.74 1481.64 L2185.38 1481.64 L2185.38 1455.28 L2177.07 1456.95 L2177.07 1452.69 L2185.33 1451.02 L2190.01 1451.02 L2190.01 1481.64 L2197.64 1481.64 L2197.64 1485.58 L2177.74 1485.58 L2177.74 1481.64 Z\" fill=\"#000000\" fill-rule=\"nonzero\" fill-opacity=\"1\" /><path clip-path=\"url(#clip140)\" d=\"M2207.09 1479.7 L2211.97 1479.7 L2211.97 1485.58 L2207.09 1485.58 L2207.09 1479.7 Z\" fill=\"#000000\" fill-rule=\"nonzero\" fill-opacity=\"1\" /><path clip-path=\"url(#clip140)\" d=\"M2226.19 1481.64 L2242.51 1481.64 L2242.51 1485.58 L2220.56 1485.58 L2220.56 1481.64 Q2223.22 1478.89 2227.81 1474.26 Q2232.41 1469.61 2233.59 1468.27 Q2235.84 1465.74 2236.72 1464.01 Q2237.62 1462.25 2237.62 1460.56 Q2237.62 1457.8 2235.68 1456.07 Q2233.76 1454.33 2230.65 1454.33 Q2228.45 1454.33 2226 1455.09 Q2223.57 1455.86 2220.79 1457.41 L2220.79 1452.69 Q2223.62 1451.55 2226.07 1450.97 Q2228.52 1450.39 2230.56 1450.39 Q2235.93 1450.39 2239.13 1453.08 Q2242.32 1455.77 2242.32 1460.26 Q2242.32 1462.39 2241.51 1464.31 Q2240.72 1466.2 2238.62 1468.8 Q2238.04 1469.47 2234.94 1472.69 Q2231.83 1475.88 2226.19 1481.64 Z\" fill=\"#000000\" fill-rule=\"nonzero\" fill-opacity=\"1\" /><path clip-path=\"url(#clip140)\" d=\"M1317.76 1532.4 L1304.87 1549.74 L1318.43 1568.04 L1311.53 1568.04 L1301.15 1554.04 L1290.77 1568.04 L1283.87 1568.04 L1297.71 1549.39 L1285.04 1532.4 L1291.95 1532.4 L1301.4 1545.1 L1310.86 1532.4 L1317.76 1532.4 Z\" fill=\"#000000\" fill-rule=\"nonzero\" fill-opacity=\"1\" /><polyline clip-path=\"url(#clip142)\" style=\"stroke:#000000; stroke-linecap:round; stroke-linejoin:round; stroke-width:2; stroke-opacity:0.1; fill:none\" points=\"249.542,1384.24 2352.76,1384.24 \"/>\n",
       "<polyline clip-path=\"url(#clip142)\" style=\"stroke:#000000; stroke-linecap:round; stroke-linejoin:round; stroke-width:2; stroke-opacity:0.1; fill:none\" points=\"249.542,1059.73 2352.76,1059.73 \"/>\n",
       "<polyline clip-path=\"url(#clip142)\" style=\"stroke:#000000; stroke-linecap:round; stroke-linejoin:round; stroke-width:2; stroke-opacity:0.1; fill:none\" points=\"249.542,735.212 2352.76,735.212 \"/>\n",
       "<polyline clip-path=\"url(#clip142)\" style=\"stroke:#000000; stroke-linecap:round; stroke-linejoin:round; stroke-width:2; stroke-opacity:0.1; fill:none\" points=\"249.542,410.699 2352.76,410.699 \"/>\n",
       "<polyline clip-path=\"url(#clip142)\" style=\"stroke:#000000; stroke-linecap:round; stroke-linejoin:round; stroke-width:2; stroke-opacity:0.1; fill:none\" points=\"249.542,86.1857 2352.76,86.1857 \"/>\n",
       "<polyline clip-path=\"url(#clip140)\" style=\"stroke:#000000; stroke-linecap:round; stroke-linejoin:round; stroke-width:4; stroke-opacity:1; fill:none\" points=\"249.542,1423.18 249.542,47.2441 \"/>\n",
       "<polyline clip-path=\"url(#clip140)\" style=\"stroke:#000000; stroke-linecap:round; stroke-linejoin:round; stroke-width:4; stroke-opacity:1; fill:none\" points=\"249.542,1384.24 268.44,1384.24 \"/>\n",
       "<polyline clip-path=\"url(#clip140)\" style=\"stroke:#000000; stroke-linecap:round; stroke-linejoin:round; stroke-width:4; stroke-opacity:1; fill:none\" points=\"249.542,1059.73 268.44,1059.73 \"/>\n",
       "<polyline clip-path=\"url(#clip140)\" style=\"stroke:#000000; stroke-linecap:round; stroke-linejoin:round; stroke-width:4; stroke-opacity:1; fill:none\" points=\"249.542,735.212 268.44,735.212 \"/>\n",
       "<polyline clip-path=\"url(#clip140)\" style=\"stroke:#000000; stroke-linecap:round; stroke-linejoin:round; stroke-width:4; stroke-opacity:1; fill:none\" points=\"249.542,410.699 268.44,410.699 \"/>\n",
       "<polyline clip-path=\"url(#clip140)\" style=\"stroke:#000000; stroke-linecap:round; stroke-linejoin:round; stroke-width:4; stroke-opacity:1; fill:none\" points=\"249.542,86.1857 268.44,86.1857 \"/>\n",
       "<path clip-path=\"url(#clip140)\" d=\"M126.205 1370.04 Q122.593 1370.04 120.765 1373.6 Q118.959 1377.14 118.959 1384.27 Q118.959 1391.38 120.765 1394.94 Q122.593 1398.49 126.205 1398.49 Q129.839 1398.49 131.644 1394.94 Q133.473 1391.38 133.473 1384.27 Q133.473 1377.14 131.644 1373.6 Q129.839 1370.04 126.205 1370.04 M126.205 1366.33 Q132.015 1366.33 135.07 1370.94 Q138.149 1375.52 138.149 1384.27 Q138.149 1393 135.07 1397.61 Q132.015 1402.19 126.205 1402.19 Q120.394 1402.19 117.316 1397.61 Q114.26 1393 114.26 1384.27 Q114.26 1375.52 117.316 1370.94 Q120.394 1366.33 126.205 1366.33 Z\" fill=\"#000000\" fill-rule=\"nonzero\" fill-opacity=\"1\" /><path clip-path=\"url(#clip140)\" d=\"M146.366 1395.64 L151.251 1395.64 L151.251 1401.52 L146.366 1401.52 L146.366 1395.64 Z\" fill=\"#000000\" fill-rule=\"nonzero\" fill-opacity=\"1\" /><path clip-path=\"url(#clip140)\" d=\"M171.436 1370.04 Q167.825 1370.04 165.996 1373.6 Q164.19 1377.14 164.19 1384.27 Q164.19 1391.38 165.996 1394.94 Q167.825 1398.49 171.436 1398.49 Q175.07 1398.49 176.876 1394.94 Q178.704 1391.38 178.704 1384.27 Q178.704 1377.14 176.876 1373.6 Q175.07 1370.04 171.436 1370.04 M171.436 1366.33 Q177.246 1366.33 180.301 1370.94 Q183.38 1375.52 183.38 1384.27 Q183.38 1393 180.301 1397.61 Q177.246 1402.19 171.436 1402.19 Q165.626 1402.19 162.547 1397.61 Q159.491 1393 159.491 1384.27 Q159.491 1375.52 162.547 1370.94 Q165.626 1366.33 171.436 1366.33 Z\" fill=\"#000000\" fill-rule=\"nonzero\" fill-opacity=\"1\" /><path clip-path=\"url(#clip140)\" d=\"M201.598 1370.04 Q197.987 1370.04 196.158 1373.6 Q194.352 1377.14 194.352 1384.27 Q194.352 1391.38 196.158 1394.94 Q197.987 1398.49 201.598 1398.49 Q205.232 1398.49 207.037 1394.94 Q208.866 1391.38 208.866 1384.27 Q208.866 1377.14 207.037 1373.6 Q205.232 1370.04 201.598 1370.04 M201.598 1366.33 Q207.408 1366.33 210.463 1370.94 Q213.542 1375.52 213.542 1384.27 Q213.542 1393 210.463 1397.61 Q207.408 1402.19 201.598 1402.19 Q195.787 1402.19 192.709 1397.61 Q189.653 1393 189.653 1384.27 Q189.653 1375.52 192.709 1370.94 Q195.787 1366.33 201.598 1366.33 Z\" fill=\"#000000\" fill-rule=\"nonzero\" fill-opacity=\"1\" /><path clip-path=\"url(#clip140)\" d=\"M127.2 1045.52 Q123.589 1045.52 121.76 1049.09 Q119.955 1052.63 119.955 1059.76 Q119.955 1066.87 121.76 1070.43 Q123.589 1073.97 127.2 1073.97 Q130.834 1073.97 132.64 1070.43 Q134.468 1066.87 134.468 1059.76 Q134.468 1052.63 132.64 1049.09 Q130.834 1045.52 127.2 1045.52 M127.2 1041.82 Q133.01 1041.82 136.066 1046.43 Q139.144 1051.01 139.144 1059.76 Q139.144 1068.49 136.066 1073.09 Q133.01 1077.68 127.2 1077.68 Q121.39 1077.68 118.311 1073.09 Q115.256 1068.49 115.256 1059.76 Q115.256 1051.01 118.311 1046.43 Q121.39 1041.82 127.2 1041.82 Z\" fill=\"#000000\" fill-rule=\"nonzero\" fill-opacity=\"1\" /><path clip-path=\"url(#clip140)\" d=\"M147.362 1071.13 L152.246 1071.13 L152.246 1077.01 L147.362 1077.01 L147.362 1071.13 Z\" fill=\"#000000\" fill-rule=\"nonzero\" fill-opacity=\"1\" /><path clip-path=\"url(#clip140)\" d=\"M166.459 1073.07 L182.778 1073.07 L182.778 1077.01 L160.834 1077.01 L160.834 1073.07 Q163.496 1070.32 168.079 1065.69 Q172.686 1061.03 173.866 1059.69 Q176.112 1057.17 176.991 1055.43 Q177.894 1053.67 177.894 1051.98 Q177.894 1049.23 175.95 1047.49 Q174.028 1045.76 170.927 1045.76 Q168.727 1045.76 166.274 1046.52 Q163.843 1047.28 161.065 1048.83 L161.065 1044.11 Q163.89 1042.98 166.343 1042.4 Q168.797 1041.82 170.834 1041.82 Q176.204 1041.82 179.399 1044.51 Q182.593 1047.19 182.593 1051.68 Q182.593 1053.81 181.783 1055.73 Q180.996 1057.63 178.889 1060.22 Q178.311 1060.89 175.209 1064.11 Q172.107 1067.31 166.459 1073.07 Z\" fill=\"#000000\" fill-rule=\"nonzero\" fill-opacity=\"1\" /><path clip-path=\"url(#clip140)\" d=\"M192.639 1042.45 L210.996 1042.45 L210.996 1046.38 L196.922 1046.38 L196.922 1054.85 Q197.94 1054.51 198.959 1054.34 Q199.977 1054.16 200.996 1054.16 Q206.783 1054.16 210.162 1057.33 Q213.542 1060.5 213.542 1065.92 Q213.542 1071.5 210.07 1074.6 Q206.598 1077.68 200.278 1077.68 Q198.102 1077.68 195.834 1077.31 Q193.588 1076.94 191.181 1076.19 L191.181 1071.5 Q193.264 1072.63 195.487 1073.19 Q197.709 1073.74 200.186 1073.74 Q204.19 1073.74 206.528 1071.63 Q208.866 1069.53 208.866 1065.92 Q208.866 1062.31 206.528 1060.2 Q204.19 1058.09 200.186 1058.09 Q198.311 1058.09 196.436 1058.51 Q194.584 1058.93 192.639 1059.81 L192.639 1042.45 Z\" fill=\"#000000\" fill-rule=\"nonzero\" fill-opacity=\"1\" /><path clip-path=\"url(#clip140)\" d=\"M126.205 721.011 Q122.593 721.011 120.765 724.575 Q118.959 728.117 118.959 735.247 Q118.959 742.353 120.765 745.918 Q122.593 749.46 126.205 749.46 Q129.839 749.46 131.644 745.918 Q133.473 742.353 133.473 735.247 Q133.473 728.117 131.644 724.575 Q129.839 721.011 126.205 721.011 M126.205 717.307 Q132.015 717.307 135.07 721.913 Q138.149 726.497 138.149 735.247 Q138.149 743.973 135.07 748.58 Q132.015 753.163 126.205 753.163 Q120.394 753.163 117.316 748.58 Q114.26 743.973 114.26 735.247 Q114.26 726.497 117.316 721.913 Q120.394 717.307 126.205 717.307 Z\" fill=\"#000000\" fill-rule=\"nonzero\" fill-opacity=\"1\" /><path clip-path=\"url(#clip140)\" d=\"M146.366 746.612 L151.251 746.612 L151.251 752.492 L146.366 752.492 L146.366 746.612 Z\" fill=\"#000000\" fill-rule=\"nonzero\" fill-opacity=\"1\" /><path clip-path=\"url(#clip140)\" d=\"M161.482 717.932 L179.839 717.932 L179.839 721.867 L165.765 721.867 L165.765 730.339 Q166.783 729.992 167.802 729.83 Q168.82 729.645 169.839 729.645 Q175.626 729.645 179.005 732.816 Q182.385 735.987 182.385 741.404 Q182.385 746.983 178.913 750.085 Q175.44 753.163 169.121 753.163 Q166.945 753.163 164.677 752.793 Q162.431 752.423 160.024 751.682 L160.024 746.983 Q162.107 748.117 164.329 748.673 Q166.552 749.228 169.028 749.228 Q173.033 749.228 175.371 747.122 Q177.709 745.015 177.709 741.404 Q177.709 737.793 175.371 735.687 Q173.033 733.58 169.028 733.58 Q167.153 733.58 165.278 733.997 Q163.427 734.413 161.482 735.293 L161.482 717.932 Z\" fill=\"#000000\" fill-rule=\"nonzero\" fill-opacity=\"1\" /><path clip-path=\"url(#clip140)\" d=\"M201.598 721.011 Q197.987 721.011 196.158 724.575 Q194.352 728.117 194.352 735.247 Q194.352 742.353 196.158 745.918 Q197.987 749.46 201.598 749.46 Q205.232 749.46 207.037 745.918 Q208.866 742.353 208.866 735.247 Q208.866 728.117 207.037 724.575 Q205.232 721.011 201.598 721.011 M201.598 717.307 Q207.408 717.307 210.463 721.913 Q213.542 726.497 213.542 735.247 Q213.542 743.973 210.463 748.58 Q207.408 753.163 201.598 753.163 Q195.787 753.163 192.709 748.58 Q189.653 743.973 189.653 735.247 Q189.653 726.497 192.709 721.913 Q195.787 717.307 201.598 717.307 Z\" fill=\"#000000\" fill-rule=\"nonzero\" fill-opacity=\"1\" /><path clip-path=\"url(#clip140)\" d=\"M127.2 396.498 Q123.589 396.498 121.76 400.062 Q119.955 403.604 119.955 410.734 Q119.955 417.84 121.76 421.405 Q123.589 424.946 127.2 424.946 Q130.834 424.946 132.64 421.405 Q134.468 417.84 134.468 410.734 Q134.468 403.604 132.64 400.062 Q130.834 396.498 127.2 396.498 M127.2 392.794 Q133.01 392.794 136.066 397.4 Q139.144 401.984 139.144 410.734 Q139.144 419.46 136.066 424.067 Q133.01 428.65 127.2 428.65 Q121.39 428.65 118.311 424.067 Q115.256 419.46 115.256 410.734 Q115.256 401.984 118.311 397.4 Q121.39 392.794 127.2 392.794 Z\" fill=\"#000000\" fill-rule=\"nonzero\" fill-opacity=\"1\" /><path clip-path=\"url(#clip140)\" d=\"M147.362 422.099 L152.246 422.099 L152.246 427.979 L147.362 427.979 L147.362 422.099 Z\" fill=\"#000000\" fill-rule=\"nonzero\" fill-opacity=\"1\" /><path clip-path=\"url(#clip140)\" d=\"M161.251 393.419 L183.473 393.419 L183.473 395.41 L170.927 427.979 L166.042 427.979 L177.848 397.354 L161.251 397.354 L161.251 393.419 Z\" fill=\"#000000\" fill-rule=\"nonzero\" fill-opacity=\"1\" /><path clip-path=\"url(#clip140)\" d=\"M192.639 393.419 L210.996 393.419 L210.996 397.354 L196.922 397.354 L196.922 405.826 Q197.94 405.479 198.959 405.317 Q199.977 405.132 200.996 405.132 Q206.783 405.132 210.162 408.303 Q213.542 411.474 213.542 416.891 Q213.542 422.47 210.07 425.571 Q206.598 428.65 200.278 428.65 Q198.102 428.65 195.834 428.28 Q193.588 427.909 191.181 427.169 L191.181 422.47 Q193.264 423.604 195.487 424.159 Q197.709 424.715 200.186 424.715 Q204.19 424.715 206.528 422.608 Q208.866 420.502 208.866 416.891 Q208.866 413.28 206.528 411.173 Q204.19 409.067 200.186 409.067 Q198.311 409.067 196.436 409.484 Q194.584 409.9 192.639 410.78 L192.639 393.419 Z\" fill=\"#000000\" fill-rule=\"nonzero\" fill-opacity=\"1\" /><path clip-path=\"url(#clip140)\" d=\"M117.015 99.5305 L124.654 99.5305 L124.654 73.1649 L116.343 74.8316 L116.343 70.5723 L124.607 68.9057 L129.283 68.9057 L129.283 99.5305 L136.922 99.5305 L136.922 103.466 L117.015 103.466 L117.015 99.5305 Z\" fill=\"#000000\" fill-rule=\"nonzero\" fill-opacity=\"1\" /><path clip-path=\"url(#clip140)\" d=\"M146.366 97.5861 L151.251 97.5861 L151.251 103.466 L146.366 103.466 L146.366 97.5861 Z\" fill=\"#000000\" fill-rule=\"nonzero\" fill-opacity=\"1\" /><path clip-path=\"url(#clip140)\" d=\"M171.436 71.9844 Q167.825 71.9844 165.996 75.5492 Q164.19 79.0908 164.19 86.2204 Q164.19 93.3268 165.996 96.8916 Q167.825 100.433 171.436 100.433 Q175.07 100.433 176.876 96.8916 Q178.704 93.3268 178.704 86.2204 Q178.704 79.0908 176.876 75.5492 Q175.07 71.9844 171.436 71.9844 M171.436 68.2807 Q177.246 68.2807 180.301 72.8871 Q183.38 77.4704 183.38 86.2204 Q183.38 94.9472 180.301 99.5537 Q177.246 104.137 171.436 104.137 Q165.626 104.137 162.547 99.5537 Q159.491 94.9472 159.491 86.2204 Q159.491 77.4704 162.547 72.8871 Q165.626 68.2807 171.436 68.2807 Z\" fill=\"#000000\" fill-rule=\"nonzero\" fill-opacity=\"1\" /><path clip-path=\"url(#clip140)\" d=\"M201.598 71.9844 Q197.987 71.9844 196.158 75.5492 Q194.352 79.0908 194.352 86.2204 Q194.352 93.3268 196.158 96.8916 Q197.987 100.433 201.598 100.433 Q205.232 100.433 207.037 96.8916 Q208.866 93.3268 208.866 86.2204 Q208.866 79.0908 207.037 75.5492 Q205.232 71.9844 201.598 71.9844 M201.598 68.2807 Q207.408 68.2807 210.463 72.8871 Q213.542 77.4704 213.542 86.2204 Q213.542 94.9472 210.463 99.5537 Q207.408 104.137 201.598 104.137 Q195.787 104.137 192.709 99.5537 Q189.653 94.9472 189.653 86.2204 Q189.653 77.4704 192.709 72.8871 Q195.787 68.2807 201.598 68.2807 Z\" fill=\"#000000\" fill-rule=\"nonzero\" fill-opacity=\"1\" /><path clip-path=\"url(#clip140)\" d=\"M67.3143 733.525 Q73.68 736.008 75.6216 738.363 Q77.5631 740.718 77.5631 744.665 L77.5631 749.344 L72.6615 749.344 L72.6615 745.906 Q72.6615 743.487 71.5157 742.151 Q70.3699 740.814 66.1048 739.191 L63.4312 738.14 L28.3562 752.559 L28.3562 746.352 L56.238 735.212 L28.3562 724.072 L28.3562 717.865 L67.3143 733.525 Z\" fill=\"#000000\" fill-rule=\"nonzero\" fill-opacity=\"1\" /><path clip-path=\"url(#clip142)\" d=\"M652.123 1384.24 L1950.18 1384.24 L652.123 86.1857 L652.123 1384.24 L652.123 1384.24  Z\" fill=\"#009af9\" fill-rule=\"evenodd\" fill-opacity=\"0.3\"/>\n",
       "<polyline clip-path=\"url(#clip142)\" style=\"stroke:#0000ff; stroke-linecap:round; stroke-linejoin:round; stroke-width:4; stroke-opacity:1; fill:none\" points=\"652.123,1384.24 1950.18,1384.24 652.123,86.1857 652.123,1384.24 \"/>\n",
       "<circle clip-path=\"url(#clip142)\" cx=\"820.942\" cy=\"267.601\" r=\"28.8\" fill=\"#ff0000\" fill-rule=\"evenodd\" fill-opacity=\"1\" stroke=\"#000000\" stroke-opacity=\"1\" stroke-width=\"3.2\"/>\n",
       "<circle clip-path=\"url(#clip142)\" cx=\"1155.11\" cy=\"626.707\" r=\"28.8\" fill=\"#ff0000\" fill-rule=\"evenodd\" fill-opacity=\"1\" stroke=\"#000000\" stroke-opacity=\"1\" stroke-width=\"3.2\"/>\n",
       "<circle clip-path=\"url(#clip142)\" cx=\"1525.64\" cy=\"1024.88\" r=\"28.8\" fill=\"#ff0000\" fill-rule=\"evenodd\" fill-opacity=\"1\" stroke=\"#000000\" stroke-opacity=\"1\" stroke-width=\"3.2\"/>\n",
       "<circle clip-path=\"url(#clip142)\" cx=\"1791.07\" cy=\"1310.11\" r=\"28.8\" fill=\"#ff0000\" fill-rule=\"evenodd\" fill-opacity=\"1\" stroke=\"#000000\" stroke-opacity=\"1\" stroke-width=\"3.2\"/>\n",
       "<circle clip-path=\"url(#clip142)\" cx=\"773.669\" cy=\"267.601\" r=\"28.8\" fill=\"#ff0000\" fill-rule=\"evenodd\" fill-opacity=\"1\" stroke=\"#000000\" stroke-opacity=\"1\" stroke-width=\"3.2\"/>\n",
       "<circle clip-path=\"url(#clip142)\" cx=\"1014.27\" cy=\"626.707\" r=\"28.8\" fill=\"#ff0000\" fill-rule=\"evenodd\" fill-opacity=\"1\" stroke=\"#000000\" stroke-opacity=\"1\" stroke-width=\"3.2\"/>\n",
       "<circle clip-path=\"url(#clip142)\" cx=\"1281.04\" cy=\"1024.88\" r=\"28.8\" fill=\"#ff0000\" fill-rule=\"evenodd\" fill-opacity=\"1\" stroke=\"#000000\" stroke-opacity=\"1\" stroke-width=\"3.2\"/>\n",
       "<circle clip-path=\"url(#clip142)\" cx=\"1472.14\" cy=\"1310.11\" r=\"28.8\" fill=\"#ff0000\" fill-rule=\"evenodd\" fill-opacity=\"1\" stroke=\"#000000\" stroke-opacity=\"1\" stroke-width=\"3.2\"/>\n",
       "<circle clip-path=\"url(#clip142)\" cx=\"711.992\" cy=\"267.601\" r=\"28.8\" fill=\"#ff0000\" fill-rule=\"evenodd\" fill-opacity=\"1\" stroke=\"#000000\" stroke-opacity=\"1\" stroke-width=\"3.2\"/>\n",
       "<circle clip-path=\"url(#clip142)\" cx=\"830.5\" cy=\"626.707\" r=\"28.8\" fill=\"#ff0000\" fill-rule=\"evenodd\" fill-opacity=\"1\" stroke=\"#000000\" stroke-opacity=\"1\" stroke-width=\"3.2\"/>\n",
       "<circle clip-path=\"url(#clip142)\" cx=\"961.901\" cy=\"1024.88\" r=\"28.8\" fill=\"#ff0000\" fill-rule=\"evenodd\" fill-opacity=\"1\" stroke=\"#000000\" stroke-opacity=\"1\" stroke-width=\"3.2\"/>\n",
       "<circle clip-path=\"url(#clip142)\" cx=\"1056.03\" cy=\"1310.11\" r=\"28.8\" fill=\"#ff0000\" fill-rule=\"evenodd\" fill-opacity=\"1\" stroke=\"#000000\" stroke-opacity=\"1\" stroke-width=\"3.2\"/>\n",
       "<circle clip-path=\"url(#clip142)\" cx=\"664.719\" cy=\"267.601\" r=\"28.8\" fill=\"#ff0000\" fill-rule=\"evenodd\" fill-opacity=\"1\" stroke=\"#000000\" stroke-opacity=\"1\" stroke-width=\"3.2\"/>\n",
       "<circle clip-path=\"url(#clip142)\" cx=\"689.652\" cy=\"626.707\" r=\"28.8\" fill=\"#ff0000\" fill-rule=\"evenodd\" fill-opacity=\"1\" stroke=\"#000000\" stroke-opacity=\"1\" stroke-width=\"3.2\"/>\n",
       "<circle clip-path=\"url(#clip142)\" cx=\"717.298\" cy=\"1024.88\" r=\"28.8\" fill=\"#ff0000\" fill-rule=\"evenodd\" fill-opacity=\"1\" stroke=\"#000000\" stroke-opacity=\"1\" stroke-width=\"3.2\"/>\n",
       "<circle clip-path=\"url(#clip142)\" cx=\"737.102\" cy=\"1310.11\" r=\"28.8\" fill=\"#ff0000\" fill-rule=\"evenodd\" fill-opacity=\"1\" stroke=\"#000000\" stroke-opacity=\"1\" stroke-width=\"3.2\"/>\n",
       "</svg>\n"
      ]
     },
     "metadata": {},
     "output_type": "display_data"
    }
   ],
   "source": [
    "vertices = [\n",
    "    0.0 0.0\n",
    "    1.0 0.0\n",
    "    0.0 1.0\n",
    "]\n",
    "\n",
    "# Need at least 4 vertices for plotting?\n",
    "vertices1 = [vertices; vertices[1:1, :]]\n",
    "\n",
    "using Plots\n",
    "plot()\n",
    "\n",
    "# for npoints in [1,2]\n",
    "npoints = 4\n",
    "    X, W = mysimplexquad(BigFloat, npoints, 2)\n",
    "\n",
    "    # scene = Scene()\n",
    "    # lines!(scene, vertices1; color = :black, linewidth = 2)\n",
    "    # scatter!(scene, X[:, 1], X[:, 2]; color = :red, markersize = 0.3 * sqrt.(W))\n",
    "    # text!(scene, \"N=$npoints\"; fontsize = 0.15, position = (0.5, 0.9))\n",
    "    # scale!(scene, 1, 1)\n",
    "\n",
    "    # Makie.save(\"figures/gauß-points-$npoints.png\", scene; resolution = (300, 300))\n",
    "\n",
    "    # x = [p1[1], p2[1], p3[1], p1[1]]\n",
    "    # y = [p1[2], p2[2], p3[2], p1[2]]\n",
    "\n",
    "\n",
    "    # Plot the triangle\n",
    "    plot!(vertices1'[1,:], vertices1'[2,:], seriestype = :shape, fillalpha = 0.3, linecolor = :blue, legend = false, aspect_ratio = :equal)\n",
    "    scatter!(X[:, 1], X[:, 2], markersize = 8, markercolor = :red, legend = false, aspect_ratio = :equal)\n",
    "\n",
    "    # Add plot title and labels\n",
    "    xlabel!(\"x\")\n",
    "    ylabel!(\"y\")\n",
    "# end"
   ]
  },
  {
   "cell_type": "code",
   "execution_count": 483,
   "metadata": {},
   "outputs": [
    {
     "data": {
      "text/plain": [
       "6-element Vector{Float64}:\n",
       " 0.5\n",
       " 0.16666666666666666\n",
       " 0.08333333333333333\n",
       " 0.16666666666666666\n",
       " 0.041666666666666664\n",
       " 0.08333333333333333"
      ]
     },
     "metadata": {},
     "output_type": "display_data"
    }
   ],
   "source": [
    "# Integral function using custom factorial\n",
    "function integral(i, j)\n",
    "    factorial(j) * factorial(i) / factorial(i + j + 2)\n",
    "end\n",
    "\n",
    "rhs(order) = vcat([integral(i, j) for i in 0:order for j in 0:order if i + j <= order]...)\n",
    "rhs(2)"
   ]
  },
  {
   "cell_type": "code",
   "execution_count": 484,
   "metadata": {},
   "outputs": [
    {
     "data": {
      "text/plain": [
       "21-element Vector{BigFloat}:\n",
       " 0.4999999999999999999999999999999999999999999999999999999999999999999999999999827\n",
       " 0.1666666666666666666666666666666666666666666666666666666666666666666666666666523\n",
       " 0.0833333333333333333333333333333333333333333333333333333333333333333333333333283\n",
       " 0.04999999999999999999999999999999999999999999999999999999999999999999999999999471\n",
       " 0.03333333333333333333333333333333333333333333333333333333333333333333333333332873\n",
       " 0.0238095238095238095238095238095238095238095238095238095238095238095238095238065\n",
       " 0.1666666666666666666666666666666666666666666666666666666666666666666666666666544\n",
       " 0.04166666666666666666666666666666666666666666666666666666666666666666666666666523\n",
       " 0.01666666666666666666666666666666666666666666666666666666666666666666666666666598\n",
       " 0.008333333333333333333333333333333333333333333333333333333333333333333333333332452\n",
       " ⋮\n",
       " 0.01666666666666666666666666666666666666666666666666666666666666666666666666666652\n",
       " 0.00555555555555555555555555555555555555555555555555555555555555555555555555555553\n",
       " 0.002380952380952380952380952380952380952380952380952380952380952380952380952380691\n",
       " 0.04999999999999999999999999999999999999999999999999999999999999999999999999999687\n",
       " 0.008333333333333333333333333333333333333333333333333333333333333333333333333332857\n",
       " 0.002380952380952380952380952380952380952380952380952380952380952380952380952381062\n",
       " 0.03333333333333333333333333333333333333333333333333333333333333333333333333333251\n",
       " 0.004761904761904761904761904761904761904761904761904761904761904761904761904761787\n",
       " 0.02380952380952380952380952380952380952380952380952380952380952380952380952380704"
      ]
     },
     "metadata": {},
     "output_type": "display_data"
    }
   ],
   "source": [
    "X, W = mysimplexquad(BigFloat, 10, 2)\n",
    "\n",
    "function integral2(i, j)\n",
    "    w = 0\n",
    "    for k=1:length(W)\n",
    "        w += W[k]*X[k,1]^i*X[k,2]^j\n",
    "    end\n",
    "    return w\n",
    "end\n",
    "\n",
    "# integral2(1,2)\n",
    "\n",
    "rhs2(order) = vcat([integral2(i, j) for i in 0:order for j in 0:order if i + j <= order]...)\n",
    "rhs2(5)\n",
    "# rhs(5)"
   ]
  }
 ],
 "metadata": {
  "kernelspec": {
   "display_name": "Julia 1.10.4",
   "language": "julia",
   "name": "julia-1.10"
  },
  "language_info": {
   "file_extension": ".jl",
   "mimetype": "application/julia",
   "name": "julia",
   "version": "1.10.4"
  }
 },
 "nbformat": 4,
 "nbformat_minor": 2
}
