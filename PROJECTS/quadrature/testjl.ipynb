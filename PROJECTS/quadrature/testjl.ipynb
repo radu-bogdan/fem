{
 "cells": [
  {
   "cell_type": "code",
   "execution_count": 2,
   "metadata": {},
   "outputs": [],
   "source": [
    "using LinearAlgebra\n",
    "using Optim\n",
    "using Plots\n",
    "using SparseArrays\n",
    "using IterativeSolvers\n",
    "using DoubleFloats\n",
    "\n",
    "# Set up the points\n",
    "p1 = [0.0, 0.0]\n",
    "p2 = [1.0, 0.0]\n",
    "p3 = [0.0, 1.0]\n",
    "\n",
    "m1 = (p2 .+ p3) ./ 2\n",
    "m2 = (p1 .+ p3) ./ 2\n",
    "m3 = (p1 .+ p2) ./ 2\n",
    "\n",
    "b = (p1 .+ p2 .+ p3) ./ 3\n",
    "\n",
    "# vertices\n",
    "T1 = hcat(p1, p2, p3)\n",
    "eval_T1(i, j) = T1[1, :] .^ i .* T1[2, :] .^ j\n",
    "\n",
    "# edge midpoints\n",
    "T2 = hcat(m1, m2, m3)\n",
    "eval_T2(i, j) = T2[1, :] .^ i .* T2[2, :] .^ j\n",
    "\n",
    "# midpoint\n",
    "T3 = hcat(b)\n",
    "eval_T3(i, j) = T3[1, :] .^ i .* T3[2, :] .^ j\n",
    "\n",
    "# edge class\n",
    "T4(a) = hcat(a * p1 .+ (1 .- a) * p2,\n",
    "             a * p2 .+ (1 .- a) * p1,\n",
    "             a * p3 .+ (1 .- a) * p1,\n",
    "             a * p1 .+ (1 .- a) * p3,\n",
    "             a * p3 .+ (1 .- a) * p2,\n",
    "             a * p2 .+ (1 .- a) * p3)\n",
    "\n",
    "eval_T4(a, i, j) = T4(a)[1, :] .^ (0 * (i < 0) + i * (i >= 0)) .* T4(a)[2, :] .^ (0 * (j < 0) + j * (j >= 0))\n",
    "\n",
    "dT4 = hcat(p1 .- p2, p2 .- p1, p3 .- p1, p1 .- p3, p3 .- p2, p2 .- p3)\n",
    "eval_dT4(i, j) = dT4[1, :] .^ (0 * (i < 0) + i * (i >= 0)) .* dT4[2, :] .^ (0 * (j < 0) + j * (j >= 0))\n",
    "\n",
    "# inner class, type 1\n",
    "T5(a) = hcat(a * m1 .+ (1 .- a) * p1, a * m2 .+ (1 .- a) * p2, a * m3 .+ (1 .- a) * p3)\n",
    "dT5 = hcat(m1 .- p1, m2 .- p2, m3 .- p3)\n",
    "eval_T5(a, i, j) = T5(a)[1, :] .^ (0 * (i < 0) + i * (i >= 0)) .* T5(a)[2, :] .^ (0 * (j < 0) + j * (j >= 0))\n",
    "\n",
    "# inner class, type 2 (TODO)\n",
    "T6(a, b) = hcat(b * (a * m1 .+ (1 .- a) * p1) .+ (1 .- b) * (a * m2 .+ (1 .- a) * p2),\n",
    "                b * (a * m1 .+ (1 .- a) * p1) .+ (1 .- b) * (a * m3 .+ (1 .- a) * p3),\n",
    "                b * (a * m3 .+ (1 .- a) * p3) .+ (1 .- b) * (a * m2 .+ (1 .- a) * p2),\n",
    "                b * (a * m2 .+ (1 .- a) * p2) .+ (1 .- b) * (a * m1 .+ (1 .- a) * p1),\n",
    "                b * (a * m3 .+ (1 .- a) * p3) .+ (1 .- b) * (a * m1 .+ (1 .- a) * p1),\n",
    "                b * (a * m2 .+ (1 .- a) * p2) .+ (1 .- b) * (a * m3 .+ (1 .- a) * p3))\n",
    "\n",
    "# Integral function\n",
    "function integral(i, j)\n",
    "    factorial(j) * factorial(i) / factorial(i + j + 2)\n",
    "end\n",
    "\n",
    "# System setup\n",
    "function Aij(i, j, a)\n",
    "    vcat(sum(eval_T1(i, j)),\n",
    "         sum(eval_T4(a[1], i, j)),\n",
    "         sum(eval_T5(a[2], i, j)),\n",
    "         sum(eval_T5(a[3], i, j)))\n",
    "end\n",
    "\n",
    "function A(a)\n",
    "    hcat(\n",
    "        Aij(0,0,a),\n",
    "                    \n",
    "        Aij(1,0,a),\n",
    "        # Aij(0,1,a),\n",
    "\n",
    "        # Aij(1,1,a),\n",
    "        Aij(2,0,a),\n",
    "        # Aij(0,2,a),\n",
    "\n",
    "        Aij(2,1,a),\n",
    "        # Aij(1,2,a),\n",
    "        Aij(3,0,a),\n",
    "        # Aij(0,3,a),\n",
    "\n",
    "        # Aij(2,2,a),\n",
    "        Aij(1,3,a),\n",
    "        # Aij(3,1,a),\n",
    "        Aij(4,0,a),\n",
    "        # Aij(0,4,a),\n",
    "\n",
    "        Aij(1,4,a),\n",
    "        # Aij(4,1,a),\n",
    "        Aij(2,3,a),\n",
    "        # Aij(3,2,a),\n",
    "        Aij(0,5,a),\n",
    "        # Aij(5,0,a),\n",
    "\n",
    "        Aij(1,5,a),\n",
    "        # Aij(5,1,a),\n",
    "        Aij(2,4,a),\n",
    "        # Aij(4,2,a),\n",
    "        # Aij(3,3,a),\n",
    "        Aij(0,6,a),\n",
    "        # Aij(6,0,a),\n",
    "         )\n",
    "end\n",
    "\n",
    "rhs = [\n",
    "        integral(0,0),\n",
    "                \n",
    "        integral(1,0),\n",
    "        # integral(0,1),\n",
    "\n",
    "        # integral(1,1),\n",
    "        integral(2,0),\n",
    "        # integral(0,2),\n",
    "\n",
    "        integral(2,1),\n",
    "        # integral(1,2),\n",
    "        integral(3,0),\n",
    "        # integral(0,3),\n",
    "\n",
    "        # integral(2,2),\n",
    "        integral(1,3),\n",
    "        # integral(3,1),\n",
    "        integral(4,0),\n",
    "        # integral(0,4),\n",
    "\n",
    "        integral(1,4),\n",
    "        # integral(4,1),\n",
    "        integral(2,3),\n",
    "        # integral(3,2),\n",
    "        integral(0,5),\n",
    "        # integral(5,0),\n",
    "\n",
    "        integral(1,5),\n",
    "        # integral(5,1),\n",
    "        integral(2,4),\n",
    "        # integral(4,2),\n",
    "        # integral(3,3),\n",
    "        integral(0,6),\n",
    "        # integral(6,0),\n",
    "       ];"
   ]
  },
  {
   "cell_type": "code",
   "execution_count": 2,
   "metadata": {},
   "outputs": [
    {
     "data": {
      "text/plain": [
       "f (generic function with 1 method)"
      ]
     },
     "metadata": {},
     "output_type": "display_data"
    }
   ],
   "source": [
    "f(a) = norm(A(a)'*((A(a) * A(a)')\\(A(a) * rhs))-rhs)"
   ]
  },
  {
   "cell_type": "code",
   "execution_count": 3,
   "metadata": {},
   "outputs": [
    {
     "data": {
      "text/plain": [
       "0.0014510545603040725"
      ]
     },
     "metadata": {},
     "output_type": "display_data"
    }
   ],
   "source": [
    "f([0.3,0.2,0.1])"
   ]
  },
  {
   "cell_type": "code",
   "execution_count": 4,
   "metadata": {},
   "outputs": [
    {
     "data": {
      "text/plain": [
       " * Status: success\n",
       "\n",
       " * Candidate solution\n",
       "    Final objective value:     2.652415e-15\n",
       "\n",
       " * Found with\n",
       "    Algorithm:     Fminbox with Nelder-Mead\n",
       "\n",
       " * Convergence measures\n",
       "    |x - x'|               = 0.00e+00 ≤ 0.0e+00\n",
       "    |x - x'|/|x'|          = 0.00e+00 ≤ 0.0e+00\n",
       "    |f(x) - f(x')|         = 0.00e+00 ≤ 0.0e+00\n",
       "    |f(x) - f(x')|/|f(x')| = 0.00e+00 ≤ 0.0e+00\n",
       "    |g(x)|                 = 8.79e-03 ≰ 1.0e-15\n",
       "\n",
       " * Work counters\n",
       "    Seconds run:   3  (vs limit Inf)\n",
       "    Iterations:    4\n",
       "    f(x) calls:    1611\n",
       "    ∇f(x) calls:   1\n"
      ]
     },
     "metadata": {},
     "output_type": "display_data"
    }
   ],
   "source": [
    "result = optimize(f, [0,0,0], [1,1,1], [0.1, 0.12, 0.13], Fminbox(NelderMead()),  Optim.Options(g_tol = 1e-15))"
   ]
  },
  {
   "cell_type": "code",
   "execution_count": 5,
   "metadata": {},
   "outputs": [
    {
     "data": {
      "text/plain": [
       "3-element Vector{Float64}:\n",
       " 0.3077459416060209\n",
       " 0.8506802519851394\n",
       " 0.23722737279251319"
      ]
     },
     "metadata": {},
     "output_type": "display_data"
    }
   ],
   "source": [
    "Optim.minimizer(result)"
   ]
  },
  {
   "cell_type": "code",
   "execution_count": 6,
   "metadata": {},
   "outputs": [],
   "source": []
  },
  {
   "cell_type": "code",
   "execution_count": 7,
   "metadata": {},
   "outputs": [],
   "source": []
  },
  {
   "cell_type": "code",
   "execution_count": 8,
   "metadata": {},
   "outputs": [],
   "source": []
  },
  {
   "cell_type": "code",
   "execution_count": 1,
   "metadata": {},
   "outputs": [],
   "source": [
    "using LinearAlgebra\n",
    "using Optim\n",
    "using Plots\n",
    "using SparseArrays\n",
    "using IterativeSolvers\n",
    "using DoubleFloats\n",
    "\n",
    "function factorial64(x::Double64)\n",
    "    if x == 0\n",
    "        return Double64(1.0)\n",
    "    else\n",
    "        return x * factorial64(x - 1)\n",
    "    end\n",
    "end\n",
    "\n",
    "# Set up the points with Double64\n",
    "p1 = Double64[0.0, 0.0]\n",
    "p2 = Double64[1.0, 0.0]\n",
    "p3 = Double64[0.0, 1.0]\n",
    "\n",
    "m1 = (p2 .+ p3) ./ 2\n",
    "m2 = (p1 .+ p3) ./ 2\n",
    "m3 = (p1 .+ p2) ./ 2\n",
    "\n",
    "b = (p1 .+ p2 .+ p3) ./ 3\n",
    "\n",
    "# vertices\n",
    "T1 = hcat(p1, p2, p3)\n",
    "eval_T1(i, j) = T1[1, :] .^ Double64(i) .* T1[2, :] .^ Double64(j)\n",
    "\n",
    "# edge midpoints\n",
    "T2 = hcat(m1, m2, m3)\n",
    "eval_T2(i, j) = T2[1, :] .^ Double64(i) .* T2[2, :] .^ Double64(j)\n",
    "\n",
    "# midpoint\n",
    "T3 = hcat(b)\n",
    "eval_T3(i, j) = T3[1, :] .^ Double64(i) .* T3[2, :] .^ Double64(j)\n",
    "\n",
    "# edge class\n",
    "T4(a) = hcat(a * p1 .+ (1 .- a) * p2,\n",
    "             a * p2 .+ (1 .- a) * p1,\n",
    "             a * p3 .+ (1 .- a) * p1,\n",
    "             a * p1 .+ (1 .- a) * p3,\n",
    "             a * p3 .+ (1 .- a) * p2,\n",
    "             a * p2 .+ (1 .- a) * p3)\n",
    "\n",
    "eval_T4(a, i, j) = T4(a)[1, :] .^ (0 * (i < 0) + i * (i >= 0)) .* T4(a)[2, :] .^ (0 * (j < 0) + j * (j >= 0))\n",
    "\n",
    "dT4 = hcat(p1 .- p2, p2 .- p1, p3 .- p1, p1 .- p3, p3 .- p2, p2 .- p3)\n",
    "eval_dT4(i, j) = dT4[1, :] .^ (0 * (i < 0) + i * (i >= 0)) .* dT4[2, :] .^ (0 * (j < 0) + j * (j >= 0))\n",
    "\n",
    "# inner class, type 1\n",
    "T5(a) = hcat(a * m1 .+ (1 .- a) * p1, a * m2 .+ (1 .- a) * p2, a * m3 .+ (1 .- a) * p3)\n",
    "dT5 = hcat(m1 .- p1, m2 .- p2, m3 .- p3)\n",
    "eval_T5(a, i, j) = T5(a)[1, :] .^ (0 * (i < 0) + i * (i >= 0)) .* T5(a)[2, :] .^ (0 * (j < 0) + j * (j >= 0))\n",
    "\n",
    "# Integral function\n",
    "function integral(i, j)\n",
    "    factorial64(Double64(j)) * factorial64(Double64(i)) / factorial64(Double64(i + j + 2))\n",
    "end\n",
    "\n",
    "# System setup\n",
    "function Aij(i, j, a)\n",
    "    vcat(sum(eval_T1(i, j)),\n",
    "         sum(eval_T4(a[1], i, j)),\n",
    "         sum(eval_T5(a[2], i, j)),\n",
    "         sum(eval_T5(a[3], i, j)))\n",
    "end\n",
    "\n",
    "function A(a)\n",
    "    hcat(Aij(0, 0, a),\n",
    "         Aij(1, 0, a),\n",
    "         Aij(2, 0, a),\n",
    "         Aij(2, 1, a),\n",
    "         Aij(3, 0, a),\n",
    "         Aij(1, 3, a),\n",
    "         Aij(4, 0, a),\n",
    "         Aij(1, 4, a),\n",
    "         Aij(2, 3, a),\n",
    "         Aij(0, 5, a),\n",
    "         Aij(1, 5, a),\n",
    "         Aij(2, 4, a),\n",
    "         Aij(0, 6, a))\n",
    "end\n",
    "\n",
    "rhs = [integral(0, 0),\n",
    "       integral(1, 0),\n",
    "       integral(2, 0),\n",
    "       integral(2, 1),\n",
    "       integral(3, 0),\n",
    "       integral(1, 3),\n",
    "       integral(4, 0),\n",
    "       integral(1, 4),\n",
    "       integral(2, 3),\n",
    "       integral(0, 5),\n",
    "       integral(1, 5),\n",
    "       integral(2, 4),\n",
    "       integral(0, 6)];"
   ]
  },
  {
   "cell_type": "code",
   "execution_count": 2,
   "metadata": {},
   "outputs": [
    {
     "data": {
      "text/plain": [
       "f (generic function with 1 method)"
      ]
     },
     "metadata": {},
     "output_type": "display_data"
    }
   ],
   "source": [
    "f(a) = norm(A(a)'*((A(a) * A(a)')\\(A(a) * rhs))-rhs)"
   ]
  },
  {
   "cell_type": "code",
   "execution_count": 18,
   "metadata": {},
   "outputs": [],
   "source": [
    "# Define the bounds\n",
    "lower_bounds = Double64[0.0, 0.0, 0.0]\n",
    "upper_bounds = Double64[Inf, Inf, Inf]\n",
    "\n",
    "# f(a) = Double64[norm(A(a)'*((A(a) * A(a)')\\(A(a) * rhs))-rhs)]\n",
    "\n",
    "# Set up the optimization problem with bounds\n",
    "result = optimize(f, lower_bounds, upper_bounds, Double64[0.1, 0.1, 0.2], Fminbox(NelderMead()), Optim.Options(g_tol = 1e-31, iterations = 100_000, show_trace = false))\n"
   ]
  },
  {
   "cell_type": "code",
   "execution_count": 14,
   "metadata": {},
   "outputs": [
    {
     "data": {
      "text/plain": [
       "3-element Vector{Double64}:\n",
       " 6.9225405837400835389538372619186903e-01\n",
       " 2.37227372793185736381326795590560855e-01\n",
       " 8.5068025197949430405086231098419421e-01"
      ]
     },
     "metadata": {},
     "output_type": "display_data"
    }
   ],
   "source": [
    "x = Optim.minimizer(result)"
   ]
  },
  {
   "cell_type": "code",
   "execution_count": null,
   "metadata": {},
   "outputs": [],
   "source": []
  },
  {
   "cell_type": "code",
   "execution_count": null,
   "metadata": {},
   "outputs": [],
   "source": []
  },
  {
   "cell_type": "code",
   "execution_count": null,
   "metadata": {},
   "outputs": [],
   "source": []
  },
  {
   "cell_type": "code",
   "execution_count": 1,
   "metadata": {},
   "outputs": [],
   "source": [
    "using LinearAlgebra\n",
    "using Optim\n",
    "using Plots\n",
    "\n",
    "# Custom factorial function for BigFloat\n",
    "function factorial_big(x::BigFloat)\n",
    "    if x == BigFloat(0)\n",
    "        return BigFloat(1.0)\n",
    "    else\n",
    "        return x * factorial_big(x - BigFloat(1))\n",
    "    end\n",
    "end\n",
    "\n",
    "# Set up the points with BigFloat\n",
    "p1 = BigFloat[0.0, 0.0]\n",
    "p2 = BigFloat[1.0, 0.0]\n",
    "p3 = BigFloat[0.0, 1.0]\n",
    "\n",
    "m1 = (p2 .+ p3) ./ BigFloat(2.0)\n",
    "m2 = (p1 .+ p3) ./ BigFloat(2.0)\n",
    "m3 = (p1 .+ p2) ./ BigFloat(2.0)\n",
    "\n",
    "b = (p1 .+ p2 .+ p3) ./ BigFloat(3.0)\n",
    "\n",
    "# vertices\n",
    "T1 = hcat(p1, p2, p3)\n",
    "eval_T1(i, j) = T1[1, :] .^ BigFloat(i) .* T1[2, :] .^ BigFloat(j)\n",
    "\n",
    "# edge midpoints\n",
    "T2 = hcat(m1, m2, m3)\n",
    "eval_T2(i, j) = T2[1, :] .^ BigFloat(i) .* T2[2, :] .^ BigFloat(j)\n",
    "\n",
    "# midpoint\n",
    "T3 = hcat(b)\n",
    "eval_T3(i, j) = T3[1, :] .^ BigFloat(i) .* T3[2, :] .^ BigFloat(j)\n",
    "\n",
    "# edge class\n",
    "T4(a) = hcat(a * p1 .+ (1 .- a) * p2,\n",
    "             a * p2 .+ (1 .- a) * p1,\n",
    "             a * p3 .+ (1 .- a) * p1,\n",
    "             a * p1 .+ (1 .- a) * p3,\n",
    "             a * p3 .+ (1 .- a) * p2,\n",
    "             a * p2 .+ (1 .- a) * p3)\n",
    "\n",
    "eval_T4(a, i, j) = T4(a)[1, :] .^ (0 * (i < 0) + BigFloat(i) * (i >= 0)) .* T4(a)[2, :] .^ (0 * (j < 0) + BigFloat(j) * (j >= 0))\n",
    "\n",
    "dT4 = hcat(p1 .- p2, p2 .- p1, p3 .- p1, p1 .- p3, p3 .- p2, p2 .- p3)\n",
    "eval_dT4(i, j) = dT4[1, :] .^ (0 * (i < 0) + BigFloat(i) * (i >= 0)) .* dT4[2, :] .^ (0 * (j < 0) + BigFloat(j) * (j >= 0))\n",
    "\n",
    "# inner class, type 1\n",
    "T5(a) = hcat(a * m1 .+ (1 .- a) * p1, a * m2 .+ (1 .- a) * p2, a * m3 .+ (1 .- a) * p3)\n",
    "dT5 = hcat(m1 .- p1, m2 .- p2, m3 .- p3)\n",
    "eval_T5(a, i, j) = T5(a)[1, :] .^ (0 * (i < 0) + BigFloat(i) * (i >= 0)) .* T5(a)[2, :] .^ (0 * (j < 0) + BigFloat(j) * (j >= 0))\n",
    "\n",
    "# Integral function using custom factorial_big\n",
    "function integral(i, j)\n",
    "    factorial_big(BigFloat(j)) * factorial_big(BigFloat(i)) / factorial_big(BigFloat(i + j + 2))\n",
    "end\n",
    "\n",
    "# System setup\n",
    "function Aij(i, j, a)\n",
    "    vcat(sum(eval_T1(i, j)),\n",
    "         sum(eval_T4(a[1], i, j)),\n",
    "         sum(eval_T5(a[2], i, j)),\n",
    "         sum(eval_T5(a[3], i, j)))\n",
    "end\n",
    "\n",
    "function A(a)\n",
    "    hcat(Aij(0, 0, a),\n",
    "         Aij(1, 0, a),\n",
    "         Aij(2, 0, a),\n",
    "         Aij(2, 1, a),\n",
    "         Aij(3, 0, a),\n",
    "         Aij(1, 3, a),\n",
    "         Aij(4, 0, a),\n",
    "         Aij(1, 4, a),\n",
    "         Aij(2, 3, a),\n",
    "         Aij(0, 5, a),\n",
    "         Aij(1, 5, a),\n",
    "         Aij(2, 4, a),\n",
    "         Aij(0, 6, a))\n",
    "end\n",
    "\n",
    "rhs = [integral(0, 0),\n",
    "       integral(1, 0),\n",
    "       integral(2, 0),\n",
    "       integral(2, 1),\n",
    "       integral(3, 0),\n",
    "       integral(1, 3),\n",
    "       integral(4, 0),\n",
    "       integral(1, 4),\n",
    "       integral(2, 3),\n",
    "       integral(0, 5),\n",
    "       integral(1, 5),\n",
    "       integral(2, 4),\n",
    "       integral(0, 6)];"
   ]
  },
  {
   "cell_type": "code",
   "execution_count": 17,
   "metadata": {},
   "outputs": [
    {
     "data": {
      "text/plain": [
       "f (generic function with 1 method)"
      ]
     },
     "metadata": {},
     "output_type": "display_data"
    }
   ],
   "source": [
    "f(a) = norm(A(a)'*((A(a) * A(a)')\\(A(a) * rhs))-rhs)\n",
    "\n",
    "# a = (0.1,0.2,0.1)\n",
    "# cond((A(a) * A(a)'), Inf)"
   ]
  },
  {
   "cell_type": "code",
   "execution_count": 3,
   "metadata": {},
   "outputs": [
    {
     "data": {
      "text/plain": [
       " * Status: success\n",
       "\n",
       " * Candidate solution\n",
       "    Final objective value:     6.988051e-64\n",
       "\n",
       " * Found with\n",
       "    Algorithm:     Fminbox with Nelder-Mead\n",
       "\n",
       " * Convergence measures\n",
       "    |x - x'|               = 0.00e+00 ≤ 0.0e+00\n",
       "    |x - x'|/|x'|          = 0.00e+00 ≤ 0.0e+00\n",
       "    |f(x) - f(x')|         = 0.00e+00 ≤ 0.0e+00\n",
       "    |f(x) - f(x')|/|f(x')| = 0.00e+00 ≤ 0.0e+00\n",
       "    |g(x)|                 = 9.29e-03 ≰ 1.0e-63\n",
       "\n",
       " * Work counters\n",
       "    Seconds run:   33  (vs limit Inf)\n",
       "    Iterations:    4\n",
       "    f(x) calls:    7935\n",
       "    ∇f(x) calls:   1\n"
      ]
     },
     "metadata": {},
     "output_type": "display_data"
    }
   ],
   "source": [
    "# Define the bounds\n",
    "lower_bounds = BigFloat[0.0, 0.0, 0.0]\n",
    "upper_bounds = BigFloat[Inf, Inf, Inf]\n",
    "\n",
    "# f(a) = Double64[norm(A(a)'*((A(a) * A(a)')\\(A(a) * rhs))-rhs)]\n",
    "\n",
    "# Set up the optimization problem with bounds\n",
    "result = optimize(f, lower_bounds, upper_bounds, BigFloat[0.1, 0.1, 0.2], Fminbox(NelderMead()), Optim.Options(g_tol = 1e-63, iterations = 100_000, show_trace = false))\n"
   ]
  },
  {
   "cell_type": "code",
   "execution_count": 4,
   "metadata": {},
   "outputs": [
    {
     "data": {
      "text/plain": [
       "3-element Vector{BigFloat}:\n",
       " 0.6922540583740083538953837157537490399617063915677563020138905937798600138656936\n",
       " 0.2372273727931857363813267950086108322143854707884946004397634693057437204509927\n",
       " 0.8506802519794943040508623079882848864972963422938270486893607218359283319043889"
      ]
     },
     "metadata": {},
     "output_type": "display_data"
    }
   ],
   "source": [
    "x = Optim.minimizer(result)"
   ]
  },
  {
   "cell_type": "code",
   "execution_count": 5,
   "metadata": {},
   "outputs": [
    {
     "data": {
      "text/plain": [
       "0.3077459416259916461046162842462509600382936084322436979861094062201399861343064"
      ]
     },
     "metadata": {},
     "output_type": "display_data"
    }
   ],
   "source": [
    "1-x[1]"
   ]
  },
  {
   "cell_type": "code",
   "execution_count": null,
   "metadata": {},
   "outputs": [],
   "source": []
  }
 ],
 "metadata": {
  "kernelspec": {
   "display_name": "Julia 1.10.4",
   "language": "julia",
   "name": "julia-1.10"
  },
  "language_info": {
   "file_extension": ".jl",
   "mimetype": "application/julia",
   "name": "julia",
   "version": "1.10.4"
  }
 },
 "nbformat": 4,
 "nbformat_minor": 2
}
