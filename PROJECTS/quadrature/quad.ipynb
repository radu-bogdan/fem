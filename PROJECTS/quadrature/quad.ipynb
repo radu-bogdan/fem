{
 "cells": [
  {
   "cell_type": "code",
   "execution_count": 2,
   "metadata": {},
   "outputs": [
    {
     "data": {
      "text/plain": [
       "rhs (generic function with 1 method)"
      ]
     },
     "metadata": {},
     "output_type": "display_data"
    }
   ],
   "source": [
    "using LinearAlgebra\n",
    "using Optim\n",
    "using Plots\n",
    "\n",
    "# Custom factorial function for BigFloat\n",
    "function factorial_big(x::BigFloat)\n",
    "    if x == BigFloat(0)\n",
    "        return BigFloat(1.0)\n",
    "    else\n",
    "        return x * factorial_big(x - BigFloat(1))\n",
    "    end\n",
    "end\n",
    "\n",
    "# Set up the points with BigFloat\n",
    "p1 = BigFloat[0.0, 0.0]\n",
    "p2 = BigFloat[1.0, 0.0]\n",
    "p3 = BigFloat[0.0, 1.0]\n",
    "\n",
    "m1 = (p2 .+ p3) ./ BigFloat(2.0)\n",
    "m2 = (p1 .+ p3) ./ BigFloat(2.0)\n",
    "m3 = (p1 .+ p2) ./ BigFloat(2.0)\n",
    "\n",
    "b = (p1 .+ p2 .+ p3) ./ BigFloat(3.0)\n",
    "\n",
    "# vertices\n",
    "T1 = hcat(p1, p2, p3)\n",
    "eval_T1(i, j) = T1[1, :] .^ BigFloat(i) .* T1[2, :] .^ BigFloat(j)\n",
    "\n",
    "# edge midpoints\n",
    "T2 = hcat(m1, m2, m3)\n",
    "eval_T2(i, j) = T2[1, :] .^ BigFloat(i) .* T2[2, :] .^ BigFloat(j)\n",
    "\n",
    "# midpoint\n",
    "T3 = hcat(b)\n",
    "eval_T3(i, j) = T3[1, :] .^ BigFloat(i) .* T3[2, :] .^ BigFloat(j)\n",
    "\n",
    "# edge class\n",
    "T4(a) = hcat(a * p1 .+ (1 .- a) * p2,\n",
    "             a * p2 .+ (1 .- a) * p1,\n",
    "             a * p3 .+ (1 .- a) * p1,\n",
    "             a * p1 .+ (1 .- a) * p3,\n",
    "             a * p3 .+ (1 .- a) * p2,\n",
    "             a * p2 .+ (1 .- a) * p3)\n",
    "\n",
    "eval_T4(a, i, j) = T4(a)[1, :] .^ (0 * (i < 0) + BigFloat(i) * (i >= 0)) .* T4(a)[2, :] .^ (0 * (j < 0) + BigFloat(j) * (j >= 0))\n",
    "\n",
    "dT4 = hcat(p1 .- p2, p2 .- p1, p3 .- p1, p1 .- p3, p3 .- p2, p2 .- p3)\n",
    "eval_dT4(i, j) = dT4[1, :] .^ (0 * (i < 0) + BigFloat(i) * (i >= 0)) .* dT4[2, :] .^ (0 * (j < 0) + BigFloat(j) * (j >= 0))\n",
    "\n",
    "# inner class, type 1\n",
    "T5(a) = hcat(a * m1 .+ (1 .- a) * p1, a * m2 .+ (1 .- a) * p2, a * m3 .+ (1 .- a) * p3)\n",
    "dT5 = hcat(m1 .- p1, m2 .- p2, m3 .- p3)\n",
    "eval_T5(a, i, j) = T5(a)[1, :] .^ (0 * (i < 0) + BigFloat(i) * (i >= 0)) .* T5(a)[2, :] .^ (0 * (j < 0) + BigFloat(j) * (j >= 0))\n",
    "\n",
    "# Integral function using custom factorial_big\n",
    "function integral(i, j)\n",
    "    factorial_big(BigFloat(j)) * factorial_big(BigFloat(i)) / factorial_big(BigFloat(i + j + 2))\n",
    "end\n",
    "\n",
    "# System setup\n",
    "function Aij(i, j, a)\n",
    "    vcat(sum(eval_T1(i, j)),\n",
    "         sum(eval_T4(a[1], i, j)),\n",
    "         sum(eval_T5(a[2], i, j)),\n",
    "         sum(eval_T5(a[3], i, j)))\n",
    "end\n",
    "\n",
    "A(a,order) = hcat([Aij(i, j, a) for i in 0:order for j in 0:order if i + j <= order]...)\n",
    "rhs(order) = vcat([integral(i, j) for i in 0:order for j in 0:order if i + j <= order]...)"
   ]
  },
  {
   "cell_type": "code",
   "execution_count": 6,
   "metadata": {},
   "outputs": [
    {
     "data": {
      "text/plain": [
       "f (generic function with 1 method)"
      ]
     },
     "metadata": {},
     "output_type": "display_data"
    }
   ],
   "source": [
    "order = 6\n",
    "# f(a) = A(a,order)'*((A(a,order) * A(a,order)')\\(A(a,order) * rhs(order)))-rhs(order)\n",
    "f(a) = norm(A(a,order)'*((A(a,order) * A(a,order)')\\(A(a,order) * rhs(order)))-rhs(order))"
   ]
  },
  {
   "cell_type": "code",
   "execution_count": 25,
   "metadata": {},
   "outputs": [],
   "source": [
    "# rhs(6)"
   ]
  },
  {
   "cell_type": "code",
   "execution_count": 7,
   "metadata": {},
   "outputs": [
    {
     "data": {
      "text/plain": [
       " * Status: success\n",
       "\n",
       " * Candidate solution\n",
       "    Final objective value:     9.185104e-64\n",
       "\n",
       " * Found with\n",
       "    Algorithm:     Fminbox with Nelder-Mead\n",
       "\n",
       " * Convergence measures\n",
       "    |x - x'|               = 0.00e+00 ≤ 0.0e+00\n",
       "    |x - x'|/|x'|          = 0.00e+00 ≤ 0.0e+00\n",
       "    |f(x) - f(x')|         = 0.00e+00 ≤ 0.0e+00\n",
       "    |f(x) - f(x')|/|f(x')| = 0.00e+00 ≤ 0.0e+00\n",
       "    |g(x)|                 = 1.41e-02 ≰ 1.0e-63\n",
       "\n",
       " * Work counters\n",
       "    Seconds run:   52  (vs limit Inf)\n",
       "    Iterations:    3\n",
       "    f(x) calls:    5910\n",
       "    ∇f(x) calls:   1\n"
      ]
     },
     "metadata": {},
     "output_type": "display_data"
    }
   ],
   "source": [
    "# Define the bounds\n",
    "lower_bounds = BigFloat[0.0, 0.0, 0.0]\n",
    "upper_bounds = BigFloat[Inf, Inf, Inf]\n",
    "\n",
    "# Set up the optimization problem with bounds\n",
    "# result = optimize(f, lower_bounds, upper_bounds, BigFloat[0.1, 0.1, 0.2], Fminbox(NelderMead()), Optim.Options(g_tol = 1e-63, iterations = 100_000, show_trace = false))\n",
    "result = optimize(f, lower_bounds, upper_bounds, BigFloat[0.1, 0.1, 0.2], Fminbox(NelderMead()), Optim.Options(g_tol = 1e-63, iterations = 100_000, show_trace = false))"
   ]
  },
  {
   "cell_type": "code",
   "execution_count": 8,
   "metadata": {},
   "outputs": [
    {
     "data": {
      "text/plain": [
       "3-element Vector{BigFloat}:\n",
       " 0.3077459416259916461046162842462509600382936084322436979861117990325812663252404\n",
       " 0.2372273727931857363813267950086108322143854707884946004397633209324842310231048\n",
       " 0.850680251979494304050862307988284886497296342293827048689360019564192889270086"
      ]
     },
     "metadata": {},
     "output_type": "display_data"
    }
   ],
   "source": [
    "a = Optim.minimizer(result)"
   ]
  },
  {
   "cell_type": "code",
   "execution_count": 11,
   "metadata": {},
   "outputs": [
    {
     "data": {
      "text/plain": [
       "4-element Vector{BigFloat}:\n",
       " 0.003565179653602241016812012063893264122299237666447620688443634664172285231010069\n",
       " 0.01478470808840264696637773783215089794492942347110195357270891240225364353337022\n",
       " 0.05094232651347590707570190028215320579175092728676235295992276755133328901377686\n",
       " 0.08258974432278322464139727865631840086275765477125278587288243964406721305692034"
      ]
     },
     "metadata": {},
     "output_type": "display_data"
    }
   ],
   "source": [
    "(A(a,order) * A(a,order)')\\(A(a,order) * rhs(order))"
   ]
  }
 ],
 "metadata": {
  "kernelspec": {
   "display_name": "Julia 1.10.4",
   "language": "julia",
   "name": "julia-1.10"
  },
  "language_info": {
   "file_extension": ".jl",
   "mimetype": "application/julia",
   "name": "julia",
   "version": "1.10.4"
  }
 },
 "nbformat": 4,
 "nbformat_minor": 2
}
