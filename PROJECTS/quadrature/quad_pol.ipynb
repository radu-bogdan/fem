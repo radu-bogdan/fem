{
 "cells": [
  {
   "cell_type": "code",
   "execution_count": 1,
   "metadata": {},
   "outputs": [
    {
     "data": {
      "text/plain": [
       "kjacopols2 (generic function with 1 method)"
      ]
     },
     "metadata": {},
     "output_type": "display_data"
    }
   ],
   "source": [
    "function kjacopols2(x, a, b, n)\n",
    "    pols = zeros(Float64, n+1)\n",
    "    ders = zeros(Float64, n+1)\n",
    "\n",
    "    pkp1 = 1.0\n",
    "    pols[1] = pkp1\n",
    "\n",
    "    dkp1 = 0.0\n",
    "    ders[1] = dkp1\n",
    "\n",
    "    if n == 0\n",
    "        return pols, ders\n",
    "    end\n",
    "\n",
    "    pk = pkp1\n",
    "    pkp1 = (a / 2.0 - b / 2.0) + (1.0 + a / 2.0 + b / 2.0) * x\n",
    "    pols[2] = pkp1\n",
    "\n",
    "    dk = dkp1\n",
    "    dkp1 = (1.0 + a / 2.0 + b / 2.0)\n",
    "    ders[2] = dkp1\n",
    "\n",
    "    if n == 1\n",
    "        return pols, ders\n",
    "    end\n",
    "\n",
    "    for k in 2:n\n",
    "        pkm1 = pk\n",
    "        pk = pkp1\n",
    "        dkm1 = dk\n",
    "        dk = dkp1\n",
    "\n",
    "        alpha1 = (2.0 * k + a + b - 1.0) * (a * a - b * b)\n",
    "        alpha2 = (2.0 * k + a + b - 1.0) * \n",
    "                 ((2.0 * k + a + b - 2.0) * (2.0 * k + a + b))\n",
    "        beta = 2.0 * (k + a - 1.0) * (k + b - 1.0) * \n",
    "               (2.0 * k + a + b)\n",
    "        gamma = (2.0 * k * (k + a + b) * (2.0 * k + a + b - 2.0))\n",
    "        \n",
    "        pkp1 = ((alpha1 + alpha2 * x) * pk - beta * pkm1) / gamma\n",
    "        dkp1 = ((alpha1 + alpha2 * x) * dk - \n",
    "                beta * dkm1 + alpha2 * pk) / gamma\n",
    "\n",
    "        pols[k+1] = pkp1\n",
    "        ders[k+1] = dkp1\n",
    "    end\n",
    "\n",
    "    return pols, ders\n",
    "end"
   ]
  },
  {
   "cell_type": "code",
   "execution_count": 2,
   "metadata": {},
   "outputs": [
    {
     "data": {
      "text/plain": [
       "ortho2eva3 (generic function with 1 method)"
      ]
     },
     "metadata": {},
     "output_type": "display_data"
    }
   ],
   "source": [
    "# function ortho2eva3(mmax, z)\n",
    "#     # Initialize constants\n",
    "#     c0 = 1 / sqrt(3.0) * sqrt(sqrt(3.0))\n",
    "#     c1 = sqrt(2.0) * sqrt(sqrt(3.0))\n",
    "#     c2 = sqrt(2.0) * sqrt(sqrt(3.0))\n",
    "\n",
    "#     # Handle special cases for mmax = 0 and mmax = 1\n",
    "#     if mmax == 0\n",
    "#         return [c0], [0.0], [0.0]\n",
    "#     elseif mmax == 1\n",
    "#         pols = [c0, z[1]*c1, z[2]*c2]\n",
    "#         dersx = [0.0, c1, 0.0]\n",
    "#         dersy = [0.0, 0.0, c2]\n",
    "#         return pols, dersx, dersy\n",
    "#     end\n",
    "#     # Call ortho2eva30\n",
    "#     pols, dersx, dersy = ortho2eva30(mmax, z)\n",
    "\n",
    "#     return pols, dersx, dersy\n",
    "# end\n",
    "\n",
    "function ortho2eva3(mmax, z)\n",
    "    # Check if z has exactly 2 elements\n",
    "    @assert length(z) == 2 \"z must be a vector of length 2\"\n",
    "\n",
    "    # Constants\n",
    "    c0 = 1.0 / sqrt(3.0) * sqrt(sqrt(3.0))\n",
    "    c1 = sqrt(2.0) * sqrt(sqrt(3.0))\n",
    "    c2 = sqrt(2.0) * sqrt(sqrt(3.0))\n",
    "\n",
    "    if mmax == 0\n",
    "        pols = [c0]\n",
    "        dersx = [0.0]\n",
    "        dersy = [0.0]\n",
    "    elseif mmax == 1\n",
    "        pols = [c0, z[1] * c1, z[2] * c2]\n",
    "        dersx = [0.0, c1, 0.0]\n",
    "        dersy = [0.0, 0.0, c2]\n",
    "    else\n",
    "        pols, dersx, dersy = ortho2eva30(mmax, z)\n",
    "    end\n",
    "\n",
    "    return pols, dersx, dersy\n",
    "end"
   ]
  },
  {
   "cell_type": "code",
   "execution_count": 3,
   "metadata": {},
   "outputs": [
    {
     "data": {
      "text/plain": [
       "ortho2eva30 (generic function with 1 method)"
      ]
     },
     "metadata": {},
     "output_type": "display_data"
    }
   ],
   "source": [
    "function ortho2eva30(mmax, z)\n",
    "    # Constants\n",
    "    zero = 0.0\n",
    "    sqrt2 = sqrt(2.0)\n",
    "    sqrt3 = sqrt(3.0)\n",
    "    r11 = -1.0 / 3.0\n",
    "    r12 = -1.0 / sqrt3\n",
    "    r21 = -1.0 / 3.0\n",
    "    r22 = 2.0 / sqrt3\n",
    "\n",
    "    x, y = z\n",
    "\n",
    "    # Map the reference triangle to the right triangle with vertices (-1,-1), (1,-1), (-1,1)\n",
    "    a = r11 + r12 * y + x\n",
    "    b = r21 + r22 * y\n",
    "\n",
    "    # Evaluate the Koornwinder's polynomials via the three term recursion\n",
    "    par1 = (2.0 * a + 1.0 + b) / 2.0\n",
    "    par2 = (1.0 - b) / 2.0\n",
    "    f1, f3, f4 = klegeypols3!(par1, par2, mmax)\n",
    "\n",
    "    f2 = zeros(Float64, mmax+1, mmax+1)\n",
    "    f5 = zeros(Float64, mmax+1, mmax+1)\n",
    "    for m in 0:mmax\n",
    "        par1 = 2 * m + 1\n",
    "        n1 = 1 + m * (mmax + 1)\n",
    "        n2 = mmax - m + 1 + m * (mmax + 1)\n",
    "        print(b,\" \", par1,\" \",zero,\" \",mmax-m)\n",
    "        f2[n1:n2, m+1], f5[n1:n2, m+1] = kjacopols2(b, par1, zero, mmax - m)\n",
    "    end\n",
    "\n",
    "    pols = zeros(Float64, div((mmax + 1) * (mmax + 2), 2))\n",
    "    dersx = zeros(Float64, div((mmax + 1) * (mmax + 2), 2))\n",
    "    dersy = zeros(Float64, div((mmax + 1) * (mmax + 2), 2))\n",
    "    \n",
    "    kk = 0\n",
    "    for m in 0:mmax\n",
    "        for n in 0:m\n",
    "            kk += 1\n",
    "            # Evaluate the polynomial (m-n, n), and their derivatives with respect to x,y\n",
    "            pols[kk] = f1[m-n+1] * f2[n+1+(m-n)*(mmax+1), m-n+1]\n",
    "\n",
    "            dersx[kk] = f3[m-n+1] * f2[n+1+(m-n)*(mmax+1), m-n+1]\n",
    "\n",
    "            dersy[kk] = f1[m-n+1] * f5[n+1+(m-n)*(mmax+1), m-n+1] * r22 +\n",
    "                        f3[m-n+1] * f2[n+1+(m-n)*(mmax+1), m-n+1] * (r12 + r22 / 2.0) +\n",
    "                        f4[m-n+1] * f2[n+1+(m-n)*(mmax+1), m-n+1] * (-r22 / 2.0)\n",
    "\n",
    "            # Normalize\n",
    "            scale = sqrt(((1 + (m - n) + n) * (1 + (m - n) + (m - n))) / sqrt3)\n",
    "            pols[kk] *= scale\n",
    "            dersx[kk] *= scale\n",
    "            dersy[kk] *= scale\n",
    "        end\n",
    "    end\n",
    "\n",
    "    return pols, dersx, dersy\n",
    "end"
   ]
  },
  {
   "cell_type": "code",
   "execution_count": 4,
   "metadata": {},
   "outputs": [
    {
     "data": {
      "text/plain": [
       "klegeypols3! (generic function with 1 method)"
      ]
     },
     "metadata": {},
     "output_type": "display_data"
    }
   ],
   "source": [
    "function klegeypols3!(x, y, n)\n",
    "    pols = zeros(Float64, n + 1)\n",
    "    dersx = zeros(Float64, n + 1)\n",
    "    dersy = zeros(Float64, n + 1)\n",
    "\n",
    "    pkp1 = 1.0\n",
    "    pols[1] = pkp1\n",
    "    dkp1 = 0.0\n",
    "    dersx[1] = dkp1\n",
    "    ykp1 = 0.0\n",
    "    dersy[1] = ykp1\n",
    "\n",
    "    if n == 0\n",
    "        return pols, dersx, dersy\n",
    "    end\n",
    "\n",
    "    pk = pkp1\n",
    "    pkp1 = x\n",
    "    pols[2] = pkp1\n",
    "    dk = dkp1\n",
    "    dkp1 = 1.0\n",
    "    dersx[2] = dkp1\n",
    "    yk = ykp1\n",
    "    ykp1 = 0.0\n",
    "    dersy[2] = ykp1\n",
    "\n",
    "    if n == 1\n",
    "        return pols, dersx, dersy\n",
    "    end\n",
    "\n",
    "    for k in 1:n-1\n",
    "        pkm1 = pk\n",
    "        pk = pkp1\n",
    "        dkm1 = dk\n",
    "        dk = dkp1\n",
    "        ykm1 = yk\n",
    "        yk = ykp1\n",
    "        pkp1 = ((2.0 * k + 1.0) * x * pk - k * pkm1 * y * y) / (k + 1.0)\n",
    "        dkp1 = ((2.0 * k + 1.0) * (x * dk + pk) - k * dkm1 * y * y) / (k + 1.0)\n",
    "        ykp1 = ((2.0 * k + 1.0) * (x * yk) - k * (pkm1 * 2.0 * y + ykm1 * y * y)) / (k + 1.0)\n",
    "        pols[k+2] = pkp1\n",
    "        dersx[k+2] = dkp1\n",
    "        dersy[k+2] = ykp1\n",
    "    end\n",
    "\n",
    "    return pols, dersx, dersy\n",
    "end"
   ]
  },
  {
   "cell_type": "code",
   "execution_count": 11,
   "metadata": {},
   "outputs": [
    {
     "name": "stdout",
     "output_type": "stream",
     "text": [
      "0.24401693585629253 1 0.0 20.24401693585629253 3 0.0 1"
     ]
    },
    {
     "ename": "BoundsError",
     "evalue": "BoundsError: attempt to access 3×3 Matrix{Float64} at index [4:5, 2]",
     "output_type": "error",
     "traceback": [
      "BoundsError: attempt to access 3×3 Matrix{Float64} at index [4:5, 2]\n",
      "\n",
      "Stacktrace:\n",
      " [1] throw_boundserror(A::Matrix{Float64}, I::Tuple{UnitRange{Int64}, Int64})\n",
      "   @ Base .\\abstractarray.jl:737\n",
      " [2] checkbounds\n",
      "   @ .\\abstractarray.jl:702 [inlined]\n",
      " [3] _setindex!\n",
      "   @ .\\multidimensional.jl:943 [inlined]\n",
      " [4] setindex!\n",
      "   @ .\\abstractarray.jl:1396 [inlined]\n",
      " [5] ortho2eva30(mmax::Int64, z::Vector{Float64})\n",
      "   @ Main c:\\Users\\Radu\\Documents\\GitHub\\fem\\PROJECTS\\quadrature\\quad_pol.ipynb:29\n",
      " [6] ortho2eva3(mmax::Int64, z::Vector{Float64})\n",
      "   @ Main c:\\Users\\Radu\\Documents\\GitHub\\fem\\PROJECTS\\quadrature\\quad_pol.ipynb:40\n",
      " [7] top-level scope\n",
      "   @ c:\\Users\\Radu\\Documents\\GitHub\\fem\\PROJECTS\\quadrature\\quad_pol.ipynb:9"
     ]
    }
   ],
   "source": [
    "# mmax = 0\n",
    "# z = [0.5, 0.5]\n",
    "\n",
    "# pols, dersx, dersy = ortho2eva30(mmax, z)\n",
    "\n",
    "mmax = 2\n",
    "z = [0.5, 0.5]\n",
    "\n",
    "pols, dersx, dersy = ortho2eva3(mmax, z)\n",
    "pols\n",
    "# dersx"
   ]
  },
  {
   "cell_type": "code",
   "execution_count": 10,
   "metadata": {},
   "outputs": [
    {
     "name": "stdout",
     "output_type": "stream",
     "text": [
      "0.24401693585629253 1 0.0 50.24401693585629253 3 0.0 4"
     ]
    },
    {
     "ename": "BoundsError",
     "evalue": "BoundsError: attempt to access 6×6 Matrix{Float64} at index [7:11, 2]",
     "output_type": "error",
     "traceback": [
      "BoundsError: attempt to access 6×6 Matrix{Float64} at index [7:11, 2]\n",
      "\n",
      "Stacktrace:\n",
      " [1] throw_boundserror(A::Matrix{Float64}, I::Tuple{UnitRange{Int64}, Int64})\n",
      "   @ Base .\\abstractarray.jl:737\n",
      " [2] checkbounds\n",
      "   @ .\\abstractarray.jl:702 [inlined]\n",
      " [3] _setindex!\n",
      "   @ .\\multidimensional.jl:943 [inlined]\n",
      " [4] setindex!\n",
      "   @ .\\abstractarray.jl:1396 [inlined]\n",
      " [5] ortho2eva30(mmax::Int64, z::Vector{Float64})\n",
      "   @ Main c:\\Users\\Radu\\Documents\\GitHub\\fem\\PROJECTS\\quadrature\\quad_pol.ipynb:29\n",
      " [6] ortho2eva3(mmax::Int64, z::Vector{Float64})\n",
      "   @ Main c:\\Users\\Radu\\Documents\\GitHub\\fem\\PROJECTS\\quadrature\\quad_pol.ipynb:40\n",
      " [7] top-level scope\n",
      "   @ c:\\Users\\Radu\\Documents\\GitHub\\fem\\PROJECTS\\quadrature\\quad_pol.ipynb:1"
     ]
    }
   ],
   "source": [
    "# pols = ortho2eva3(5, [0.5, 0.5])\n",
    "# pols"
   ]
  },
  {
   "cell_type": "code",
   "execution_count": 7,
   "metadata": {},
   "outputs": [],
   "source": []
  }
 ],
 "metadata": {
  "kernelspec": {
   "display_name": "Julia 1.10.4",
   "language": "julia",
   "name": "julia-1.10"
  },
  "language_info": {
   "file_extension": ".jl",
   "mimetype": "application/julia",
   "name": "julia",
   "version": "1.10.4"
  }
 },
 "nbformat": 4,
 "nbformat_minor": 2
}
