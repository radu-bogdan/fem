{
 "cells": [
  {
   "cell_type": "code",
   "execution_count": 33,
   "metadata": {},
   "outputs": [],
   "source": [
    "# import netgen.gui\n",
    "import ngsolve as ngs\n",
    "from netgen.webgui import Draw as DrawGeo\n",
    "from ngsolve.webgui import Draw\n",
    "from ttictoc import tic, toc\n",
    "\n",
    "mesh = ngs.Mesh('whatever.vol')\n",
    "# mesh.Curve(2)\n",
    "# mesh.Refine()"
   ]
  },
  {
   "cell_type": "code",
   "execution_count": 34,
   "metadata": {},
   "outputs": [
    {
     "name": "stdout",
     "output_type": "stream",
     "text": [
      "using 3d mesh with ne= 179611  elements and nv= 31186  points\n",
      "Solving...\n",
      "Number of iterations = 168/1000 | Residual = 8.85866142608333e-06\n",
      "999.9999999999958\n",
      "Solving...\n",
      "Number of iterations = 326/1000 | Residual = 9.820525066381727e-06\n",
      "999.9999999448601\n"
     ]
    }
   ],
   "source": [
    "%run J.ipynb"
   ]
  },
  {
   "cell_type": "code",
   "execution_count": 35,
   "metadata": {},
   "outputs": [
    {
     "name": "stdout",
     "output_type": "stream",
     "text": [
      "BH data from TEAM 13 problem\n",
      "returning energy\n"
     ]
    }
   ],
   "source": [
    "from bhdata import BHCurves\n",
    "fun_dw  = BHCurves(4)\n",
    "fun_w   = fun_dw.Integrate()\n",
    "fun_ddw = fun_dw.Differentiate()\n",
    "\n",
    "mu0 = 1.256636e-6\n",
    "nu0 = 1/mu0\n",
    "\n",
    "linear = \"coil|ambient|default\"\n",
    "nonlinear = \"r_steel|l_steel|mid_steel\"\n",
    "\n",
    "lin = 0"
   ]
  },
  {
   "cell_type": "code",
   "execution_count": 36,
   "metadata": {},
   "outputs": [],
   "source": [
    "p = 1\n",
    "\n",
    "Q = ngs.VectorL2(mesh, order = p-1)\n",
    "V = ngs.H1(mesh, order = p)\n",
    "# V = ngs.H1(mesh, order = p, dirichlet = \"ambient_face\")\n",
    "\n",
    "X = Q*V\n",
    "(p,u), (q,v) = X.TnT()\n",
    "\n",
    "# Nonlinear:\n",
    "\n",
    "maxit = int(1e7)\n",
    "\n",
    "tol2 = 1e-8\n",
    "regb = 1e-12\n",
    "\n",
    "B_psi = ngs.GridFunction(X)\n",
    "\n",
    "B = B_psi.components[0]\n",
    "psi = B_psi.components[1]\n",
    "\n",
    "normB = ngs.sqrt(B*B + regb)\n",
    "\n",
    "if lin == 1: cf_energy = mesh.MaterialCF({linear: nu0/2*B*B, nonlinear: nu0/2*B*B}, default = nu0/2*B*B).Compile()\n",
    "cf_energy = mesh.MaterialCF({linear: nu0/2*B*B, nonlinear: fun_w(normB)}, default = nu0/2*B*B).Compile()\n",
    "\n",
    "def fun_W():\n",
    "    with ngs.TaskManager(): res = ngs.Integrate(cf_energy - Hs*B, mesh)\n",
    "    return res\n",
    "\n",
    "if lin == 1: cf_rhs = mesh.MaterialCF({linear: nu0, nonlinear: nu0}, default = nu0).Compile()\n",
    "else: cf_rhs = mesh.MaterialCF({linear: nu0, nonlinear: fun_dw(normB)/normB}, default = nu0).Compile()\n",
    "\n",
    "rhs = ngs.LinearForm((cf_rhs*B*q -ngs.grad(psi)*q -Hs*q +B*ngs.grad(v))*ngs.dx)\n",
    "\n",
    "def fun_dW(): #implicitly depending on A!\n",
    "    with ngs.TaskManager(): rhs.Assemble()\n",
    "    return rhs\n",
    "\n",
    "Id = ngs.CF((1,0,0,\n",
    "             0,1,0,\n",
    "             0,0,1), dims=(3,3))\n",
    "\n",
    "BBt = ngs.CF((B[0]*B[0], B[0]*B[1], B[0]*B[2],\n",
    "              B[1]*B[0], B[1]*B[1], B[1]*B[2],\n",
    "              B[2]*B[0], B[2]*B[1], B[2]*B[2]), dims = (3,3))\n",
    "\n",
    "fun1 = fun_dw(normB)/normB\n",
    "fun2 = (fun_ddw(normB) - fun_dw(normB)/normB)/(normB*normB)\n",
    "\n",
    "if lin == 1: cf_iter = mesh.MaterialCF({linear: nu0*Id, nonlinear: nu0*Id}, default = nu0*Id).Compile()\n",
    "else: cf_iter = mesh.MaterialCF({linear: nu0*Id, nonlinear: fun1*Id + fun2*BBt}, default = nu0*Id).Compile()\n",
    "\n",
    "# K_iter = ngs.BilinearForm(X, condense = True)\n",
    "K_iter = ngs.BilinearForm(X)\n",
    "K_iter += (cf_iter*p*q - ngs.grad(u)*q + p*ngs.grad(v))*ngs.dx\n",
    "# C_iter = ngs.Preconditioner(K_iter, type = \"local\")\n",
    "\n",
    "def fun_ddW():\n",
    "    with ngs.TaskManager(): K_iter.Assemble()\n",
    "    return K_iter\n"
   ]
  },
  {
   "cell_type": "code",
   "execution_count": 37,
   "metadata": {},
   "outputs": [
    {
     "name": "stdout",
     "output_type": "stream",
     "text": [
      "Using 3D mesh with ne= 179611 elements and nv= 31186 points and  570019 DOFs.\n",
      " \n",
      "Iter:  1 | assem : 1.95s | CG took 17.78s with  326 iterations | alpha : 1.00 | energy = 0.0000000000 | relres = 1.00e+00 |\n",
      "Iter:  2 | assem : 2.58s | CG took 10.39s with  326 iterations | alpha : 1.00 | energy = -0.0869749954 | relres = 7.54e-06 |\n",
      "Iter:  3 | assem : 0.83s | CG took 8.78s with  326 iterations | alpha : 1.00 | energy = -0.0869756509 | relres = 1.57e-10 |\n",
      "converged to desired tolerance\n"
     ]
    }
   ],
   "source": [
    "print(\"Using 3D mesh with ne=\", mesh.ne, \"elements and nv=\", mesh.nv, \"points and \" ,X.ndof, \"DOFs.\\n \")\n",
    "\n",
    "with ngs.TaskManager(): B.Set(ngs.CF((0,0,0)))\n",
    "with ngs.TaskManager(): psi.Set(ngs.CF((0)))\n",
    "\n",
    "du = ngs.GridFunction(X)\n",
    "uo = ngs.GridFunction(X)\n",
    "wo = 1e12\n",
    "\n",
    "for it in range(1,maxit+1):\n",
    "    \n",
    "    tic()\n",
    "    # with ngs.TaskManager():\n",
    "    #     K_iter.Assemble()\n",
    "    #     rhs.Assemble()\n",
    "    #     res = ngs.Integrate(cf_energy - Hs*ngs.curl(A), mesh)\n",
    "    \n",
    "    w  = fun_W()\n",
    "    dw = fun_dW()\n",
    "    da = fun_ddW()\n",
    "    tm1 = toc()\n",
    "    \n",
    "    tic()\n",
    "    with ngs.TaskManager():\n",
    "        du.vec.data = da.mat.Inverse(X.FreeDofs()) * dw.vec \n",
    "        # iterativeSolver = CGSolver(K_iter.mat, freedofs = X.FreeDofs(), atol = 1e-2,  maxiter = maxit, printrates = False)\n",
    "        # iterativeSolver = CGSolver(K_iter.mat, pre = C_iter.mat, tol  = 1e-2,  maxiter = maxit)\n",
    "        # du.vec.data = iterativeSolver * dw.vec\n",
    "    \n",
    "    # if len(iterativeSolver.residuals) == maxit: print(\"... reached maxit!\")\n",
    "    # print(f\"Number of iterations = {iterativeSolver.iterations}/{maxit} | Residual = {iterativeSolver.residuals[-1]}\")\n",
    "    tm2 = toc()\n",
    "\n",
    "    nrm = ngs.InnerProduct(du.vec,dw.vec)\n",
    "    \n",
    "    if it == 1:\n",
    "        nrm0 = nrm\n",
    "\n",
    "    # wn = 1e12\n",
    "    if abs(wo-w) < tol2:\n",
    "    # if nrm/nrm0 < tol2:\n",
    "        print(\"converged to desired tolerance\")\n",
    "        break\n",
    "    # elif abs(wo-w) < tol2*1e-2:\n",
    "    #     print(\"stopped early due to stagnation\")\n",
    "    #     break\n",
    "    else:\n",
    "        # linesearch\n",
    "        uo.vec.data = B_psi.vec.data\n",
    "        wo = w\n",
    "        alpha = 1\n",
    "        for init in range(1,21):\n",
    "            B_psi.vec.data -= alpha*du.vec.data\n",
    "            wn = fun_W()\n",
    "            if wn < w - alpha*0.1*nrm:\n",
    "                print(\"Iter: %2d | assem : %.2fs | CG took %.2fs with %4d iterations | alpha : %.2f | energy = %.10f | relres = %.2e |\"  %(it,tm1,tm2,iterativeSolver.iterations,alpha,w,nrm/nrm0))\n",
    "                break\n",
    "            else:\n",
    "                alpha = alpha/2\n",
    "                B_psi.vec.data = uo.vec.data"
   ]
  },
  {
   "cell_type": "code",
   "execution_count": 38,
   "metadata": {},
   "outputs": [],
   "source": [
    "L2 = ngs.HDiv(mesh, order = 3)\n",
    "BB = ngs.GridFunction(L2)\n",
    "with ngs.TaskManager(): BB.Set(B)\n",
    "# BBnp = BB.vec.FV().NumPy()\n",
    "# HCurl.ndof\n",
    "\n",
    "# import matplotlib.pyplot as plt\n",
    "# import numpy as np\n",
    "# max(abs(BBnp))"
   ]
  },
  {
   "cell_type": "code",
   "execution_count": 39,
   "metadata": {},
   "outputs": [
    {
     "data": {
      "text/plain": [
       "7.139557771651298e-05"
      ]
     },
     "execution_count": 39,
     "metadata": {},
     "output_type": "execute_result"
    }
   ],
   "source": [
    "ngs.Integrate(ngs.Norm(B),mesh)"
   ]
  },
  {
   "cell_type": "code",
   "execution_count": 40,
   "metadata": {},
   "outputs": [],
   "source": [
    "# Draw(BB, mesh)"
   ]
  },
  {
   "cell_type": "code",
   "execution_count": null,
   "metadata": {},
   "outputs": [],
   "source": []
  }
 ],
 "metadata": {
  "kernelspec": {
   "display_name": "pdefem",
   "language": "python",
   "name": "python3"
  },
  "language_info": {
   "codemirror_mode": {
    "name": "ipython",
    "version": 3
   },
   "file_extension": ".py",
   "mimetype": "text/x-python",
   "name": "python",
   "nbconvert_exporter": "python",
   "pygments_lexer": "ipython3",
   "version": "3.10.13"
  }
 },
 "nbformat": 4,
 "nbformat_minor": 2
}
