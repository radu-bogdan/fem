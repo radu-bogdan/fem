{
 "cells": [
  {
   "cell_type": "code",
   "execution_count": 1,
   "metadata": {},
   "outputs": [
    {
     "data": {
      "text/plain": [
       "<ngsolve.comp.Mesh at 0x11e2e52b0>"
      ]
     },
     "execution_count": 1,
     "metadata": {},
     "output_type": "execute_result"
    }
   ],
   "source": [
    "import ngsolve as ngs\n",
    "from netgen.webgui import Draw as DrawGeo\n",
    "from ngsolve.webgui import Draw\n",
    "from ngsolve.krylovspace import CGSolver\n",
    "from ttictoc import tic, toc\n",
    "\n",
    "mesh = ngs.Mesh('whatever.vol')\n",
    "mesh.Curve(2)\n",
    "# mesh.Refine()"
   ]
  },
  {
   "cell_type": "code",
   "execution_count": 2,
   "metadata": {},
   "outputs": [
    {
     "name": "stdout",
     "output_type": "stream",
     "text": [
      "using 3d mesh with ne= 21022  elements and nv= 3727  points\n",
      "Solving...\n",
      "... Success!\n",
      "Number of iterations = 396/1000 | Residual = 9.688436042944872e-06\n",
      "999.9999999999955\n",
      "Solving...\n",
      "... Success!\n",
      "Number of iterations = 321/1000 | Residual = 9.965986531095817e-06\n",
      "1000.00109446151\n"
     ]
    }
   ],
   "source": [
    "%run J.ipynb"
   ]
  },
  {
   "cell_type": "code",
   "execution_count": 3,
   "metadata": {},
   "outputs": [
    {
     "name": "stdout",
     "output_type": "stream",
     "text": [
      "BH data from TEAM 13 problem\n",
      "returning energy\n"
     ]
    }
   ],
   "source": [
    "from bhdata import BHCurves\n",
    "fun_dw  = BHCurves(4)\n",
    "fun_w   = fun_dw.Integrate()\n",
    "fun_ddw = fun_dw.Differentiate()\n",
    "\n",
    "mu0 = 1.256636e-6\n",
    "nu0 = 1/mu0\n",
    "\n",
    "linear = \"coil|ambient|default\"\n",
    "nonlinear = \"r_steel|l_steel|mid_steel\""
   ]
  },
  {
   "cell_type": "code",
   "execution_count": 8,
   "metadata": {},
   "outputs": [],
   "source": [
    "p = 1\n",
    "\n",
    "Q = ngs.VectorL2(mesh, order = p-1)\n",
    "V = ngs.H1(mesh, order = p, dirichlet = \"ambient_face\")\n",
    "\n",
    "X = Q*V\n",
    "(p,u), (q,v) = X.TnT()\n",
    "\n",
    "# Nonlinear:\n",
    "\n",
    "maxit = int(1e7)\n",
    "tol2 = 1e-8\n",
    "regb = 1e-12\n",
    "\n",
    "B_psi = ngs.GridFunction(X)\n",
    "\n",
    "B = B_psi.components[0]\n",
    "psi = B_psi.components[1]\n",
    "\n",
    "normB = ngs.sqrt(B*B + regb)\n",
    "\n",
    "cf_energy = mesh.MaterialCF({linear: nu0/2*B*B, nonlinear: fun_w(normB)}, default = nu0/2*B*B).Compile()\n",
    "\n",
    "def fun_W():\n",
    "    with ngs.TaskManager(): res = ngs.Integrate(cf_energy - Hs*B, mesh)\n",
    "    return res\n",
    "\n",
    "cf_rhs = mesh.MaterialCF({linear: nu0, nonlinear: fun_dw(normB)/normB}, default = nu0).Compile()\n",
    "rhs = ngs.LinearForm((cf_rhs*B*q -ngs.grad(psi)*q -Hs*q +B*ngs.grad(v))*ngs.dx)\n",
    "\n",
    "def fun_dW(): #implicitly depending on A!\n",
    "    with ngs.TaskManager(): rhs.Assemble()\n",
    "    return rhs\n",
    "\n",
    "Id = ngs.CF((1,0,0,\n",
    "             0,1,0,\n",
    "             0,0,1), dims=(3,3))\n",
    "\n",
    "BBt = ngs.CF((B[0]*B[0], B[0]*B[1], B[0]*B[2],\n",
    "              B[1]*B[0], B[1]*B[1], B[1]*B[2],\n",
    "              B[2]*B[0], B[2]*B[1], B[2]*B[2]), dims = (3,3))\n",
    "\n",
    "fun1 = fun_dw(normB)/normB\n",
    "fun2 = (fun_ddw(normB) - fun_dw(normB)/normB)/(normB*normB)\n",
    "\n",
    "cf_iter = mesh.MaterialCF({linear: nu0*Id, nonlinear: fun1*Id + fun2*BBt}, default = nu0*Id).Compile()\n",
    "\n",
    "# K = ngs.BilinearForm(X, condense = True)\n",
    "K_iter = ngs.BilinearForm(X)\n",
    "K_iter += (cf_iter*p*q - ngs.grad(u)*q + p*ngs.grad(v))*ngs.dx\n",
    "# C_iter = ngs.Preconditioner(K_iter, type = \"local\")\n",
    "\n",
    "def fun_ddW():\n",
    "    with ngs.TaskManager(): K_iter.Assemble()\n",
    "    return K_iter\n"
   ]
  },
  {
   "cell_type": "code",
   "execution_count": 9,
   "metadata": {},
   "outputs": [
    {
     "name": "stdout",
     "output_type": "stream",
     "text": [
      "Using 3D mesh with ne= 21022 elements and nv= 3727 points and  66793 DOFs.\n",
      " \n",
      "Iter:  1 | assem : 0.18s | CG took 0.54s with 1575 iterations | alpha : 1.00 | energy = 0.0000000000 | relres = 1.00e+00 |\n"
     ]
    },
    {
     "ename": "KeyboardInterrupt",
     "evalue": "",
     "output_type": "error",
     "traceback": [
      "\u001b[0;31m---------------------------------------------------------------------------\u001b[0m",
      "\u001b[0;31mKeyboardInterrupt\u001b[0m                         Traceback (most recent call last)",
      "Cell \u001b[0;32mIn[9], line 28\u001b[0m\n\u001b[1;32m     26\u001b[0m     iterativeSolver \u001b[38;5;241m=\u001b[39m CGSolver(K_iter\u001b[38;5;241m.\u001b[39mmat, freedofs \u001b[38;5;241m=\u001b[39m X\u001b[38;5;241m.\u001b[39mFreeDofs(), atol \u001b[38;5;241m=\u001b[39m \u001b[38;5;241m1e-2\u001b[39m,  maxiter \u001b[38;5;241m=\u001b[39m maxit, printrates \u001b[38;5;241m=\u001b[39m \u001b[38;5;28;01mFalse\u001b[39;00m)\n\u001b[1;32m     27\u001b[0m     \u001b[38;5;66;03m# iterativeSolver = CGSolver(K_iter.mat, pre = C_iter.mat, tol  = 1e-2,  maxiter = maxit)\u001b[39;00m\n\u001b[0;32m---> 28\u001b[0m     \u001b[43mdu\u001b[49m\u001b[38;5;241;43m.\u001b[39;49m\u001b[43mvec\u001b[49m\u001b[38;5;241;43m.\u001b[39;49m\u001b[43mdata\u001b[49m \u001b[38;5;241m=\u001b[39m iterativeSolver \u001b[38;5;241m*\u001b[39m dw\u001b[38;5;241m.\u001b[39mvec\n\u001b[1;32m     30\u001b[0m \u001b[38;5;28;01mif\u001b[39;00m \u001b[38;5;28mlen\u001b[39m(iterativeSolver\u001b[38;5;241m.\u001b[39mresiduals) \u001b[38;5;241m==\u001b[39m maxit: \u001b[38;5;28mprint\u001b[39m(\u001b[38;5;124m\"\u001b[39m\u001b[38;5;124m... reached maxit!\u001b[39m\u001b[38;5;124m\"\u001b[39m)\n\u001b[1;32m     31\u001b[0m \u001b[38;5;66;03m# print(f\"Number of iterations = {iterativeSolver.iterations}/{maxit} | Residual = {iterativeSolver.residuals[-1]}\")\u001b[39;00m\n",
      "File \u001b[0;32m/opt/homebrew/anaconda3/envs/mne/lib/python3.11/site-packages/ngsolve/krylovspace.py:108\u001b[0m, in \u001b[0;36mLinearSolver.Mult\u001b[0;34m(self, x, y)\u001b[0m\n\u001b[1;32m    107\u001b[0m \u001b[38;5;28;01mdef\u001b[39;00m \u001b[38;5;21mMult\u001b[39m(\u001b[38;5;28mself\u001b[39m, x : BaseVector, y : BaseVector) \u001b[38;5;241m-\u001b[39m\u001b[38;5;241m>\u001b[39m \u001b[38;5;28;01mNone\u001b[39;00m:\n\u001b[0;32m--> 108\u001b[0m     \u001b[38;5;28;43mself\u001b[39;49m\u001b[38;5;241;43m.\u001b[39;49m\u001b[43mSolve\u001b[49m\u001b[43m(\u001b[49m\u001b[43mrhs\u001b[49m\u001b[38;5;241;43m=\u001b[39;49m\u001b[43mx\u001b[49m\u001b[43m,\u001b[49m\u001b[43m \u001b[49m\u001b[43msol\u001b[49m\u001b[38;5;241;43m=\u001b[39;49m\u001b[43my\u001b[49m\u001b[43m,\u001b[49m\u001b[43m \u001b[49m\u001b[43minitialize\u001b[49m\u001b[38;5;241;43m=\u001b[39;49m\u001b[38;5;28;43;01mTrue\u001b[39;49;00m\u001b[43m)\u001b[49m\n",
      "File \u001b[0;32m/opt/homebrew/anaconda3/envs/mne/lib/python3.11/site-packages/netgen/__init__.py:57\u001b[0m, in \u001b[0;36mTimeFunction.<locals>.retfunc\u001b[0;34m(*args, **kwargs)\u001b[0m\n\u001b[1;32m     55\u001b[0m \u001b[38;5;28;01mdef\u001b[39;00m \u001b[38;5;21mretfunc\u001b[39m(\u001b[38;5;241m*\u001b[39margs,\u001b[38;5;241m*\u001b[39m\u001b[38;5;241m*\u001b[39mkwargs):\n\u001b[1;32m     56\u001b[0m     \u001b[38;5;28;01mwith\u001b[39;00m timer:\n\u001b[0;32m---> 57\u001b[0m         ret \u001b[38;5;241m=\u001b[39m \u001b[43mfunc\u001b[49m\u001b[43m(\u001b[49m\u001b[38;5;241;43m*\u001b[39;49m\u001b[43margs\u001b[49m\u001b[43m,\u001b[49m\u001b[43m \u001b[49m\u001b[38;5;241;43m*\u001b[39;49m\u001b[38;5;241;43m*\u001b[39;49m\u001b[43mkwargs\u001b[49m\u001b[43m)\u001b[49m\n\u001b[1;32m     58\u001b[0m     \u001b[38;5;28;01mreturn\u001b[39;00m ret\n",
      "File \u001b[0;32m/opt/homebrew/anaconda3/envs/mne/lib/python3.11/site-packages/ngsolve/krylovspace.py:89\u001b[0m, in \u001b[0;36mLinearSolver.Solve\u001b[0;34m(self, rhs, sol, initialize)\u001b[0m\n\u001b[1;32m     87\u001b[0m     sol[:] \u001b[38;5;241m=\u001b[39m \u001b[38;5;241m0\u001b[39m\n\u001b[1;32m     88\u001b[0m \u001b[38;5;28mself\u001b[39m\u001b[38;5;241m.\u001b[39msol \u001b[38;5;241m=\u001b[39m sol\n\u001b[0;32m---> 89\u001b[0m \u001b[38;5;28;43mself\u001b[39;49m\u001b[38;5;241;43m.\u001b[39;49m\u001b[43m_SolveImpl\u001b[49m\u001b[43m(\u001b[49m\u001b[43mrhs\u001b[49m\u001b[38;5;241;43m=\u001b[39;49m\u001b[43mrhs\u001b[49m\u001b[43m,\u001b[49m\u001b[43m \u001b[49m\u001b[43msol\u001b[49m\u001b[38;5;241;43m=\u001b[39;49m\u001b[43msol\u001b[49m\u001b[43m)\u001b[49m\n\u001b[1;32m     90\u001b[0m \u001b[38;5;28;01mif\u001b[39;00m old_status[\u001b[38;5;241m0\u001b[39m] \u001b[38;5;241m!=\u001b[39m \u001b[38;5;124m\"\u001b[39m\u001b[38;5;124midle\u001b[39m\u001b[38;5;124m\"\u001b[39m:\n\u001b[1;32m     91\u001b[0m     _PushStatus(old_status[\u001b[38;5;241m0\u001b[39m])\n",
      "File \u001b[0;32m/opt/homebrew/anaconda3/envs/mne/lib/python3.11/site-packages/ngsolve/krylovspace.py:195\u001b[0m, in \u001b[0;36mCGSolver._SolveImpl\u001b[0;34m(self, rhs, sol)\u001b[0m\n\u001b[1;32m    193\u001b[0m w\u001b[38;5;241m.\u001b[39mdata \u001b[38;5;241m=\u001b[39m \u001b[38;5;28mself\u001b[39m\u001b[38;5;241m.\u001b[39mmat \u001b[38;5;241m*\u001b[39m s\n\u001b[1;32m    194\u001b[0m wd \u001b[38;5;241m=\u001b[39m wdn\n\u001b[0;32m--> 195\u001b[0m as_s \u001b[38;5;241m=\u001b[39m \u001b[43ms\u001b[49m\u001b[38;5;241;43m.\u001b[39;49m\u001b[43mInnerProduct\u001b[49m\u001b[43m(\u001b[49m\u001b[43mw\u001b[49m\u001b[43m,\u001b[49m\u001b[43m \u001b[49m\u001b[43mconjugate\u001b[49m\u001b[38;5;241;43m=\u001b[39;49m\u001b[43mconjugate\u001b[49m\u001b[43m)\u001b[49m        \n\u001b[1;32m    196\u001b[0m \u001b[38;5;28;01mif\u001b[39;00m as_s \u001b[38;5;241m==\u001b[39m \u001b[38;5;241m0\u001b[39m \u001b[38;5;129;01mor\u001b[39;00m wd \u001b[38;5;241m==\u001b[39m \u001b[38;5;241m0\u001b[39m: \u001b[38;5;28;01mbreak\u001b[39;00m\n\u001b[1;32m    197\u001b[0m alpha \u001b[38;5;241m=\u001b[39m wd \u001b[38;5;241m/\u001b[39m as_s\n",
      "\u001b[0;31mKeyboardInterrupt\u001b[0m: "
     ]
    }
   ],
   "source": [
    "print(\"Using 3D mesh with ne=\", mesh.ne, \"elements and nv=\", mesh.nv, \"points and \" ,X.ndof, \"DOFs.\\n \")\n",
    "\n",
    "with ngs.TaskManager(): B.Set(ngs.CF((0,0,0)))\n",
    "with ngs.TaskManager(): psi.Set(ngs.CF((0)))\n",
    "\n",
    "du = ngs.GridFunction(X)\n",
    "uo = ngs.GridFunction(X)\n",
    "wo = 1e12\n",
    "\n",
    "for it in range(1,maxit+1):\n",
    "    \n",
    "    tic()\n",
    "    # with ngs.TaskManager():\n",
    "    #     K_iter.Assemble()\n",
    "    #     rhs.Assemble()\n",
    "    #     res = ngs.Integrate(cf_energy - Hs*ngs.curl(A), mesh)\n",
    "    \n",
    "    w  = fun_W()\n",
    "    dw = fun_dW()\n",
    "    da = fun_ddW()\n",
    "    tm1 = toc()\n",
    "    \n",
    "    tic()\n",
    "    # du.vec.data = da.mat.Inverse(X.FreeDofs(), inverse=\"sparsecholesky\") * dw.vec \n",
    "    with ngs.TaskManager():\n",
    "        iterativeSolver = CGSolver(K_iter.mat, freedofs = X.FreeDofs(), atol = 1e-2,  maxiter = maxit, printrates = False)\n",
    "        # iterativeSolver = CGSolver(K_iter.mat, pre = C_iter.mat, tol  = 1e-2,  maxiter = maxit)\n",
    "        du.vec.data = iterativeSolver * dw.vec\n",
    "    \n",
    "    if len(iterativeSolver.residuals) == maxit: print(\"... reached maxit!\")\n",
    "    # print(f\"Number of iterations = {iterativeSolver.iterations}/{maxit} | Residual = {iterativeSolver.residuals[-1]}\")\n",
    "    tm2 = toc()\n",
    "\n",
    "    nrm = ngs.InnerProduct(du.vec,dw.vec)\n",
    "    \n",
    "    if it == 1:\n",
    "        nrm0 = nrm\n",
    "\n",
    "    # wn = 1e12\n",
    "    # if abs(wn-w) < tol2:\n",
    "    if nrm/nrm0 < tol2:\n",
    "        print(\"converged to desired tolerance\")\n",
    "        break\n",
    "    elif abs(wo-w) < tol2*1e-2:\n",
    "        print(\"stopped early due to stagnation\")\n",
    "        break\n",
    "    else:\n",
    "        # linesearch\n",
    "        uo.vec.data = B_psi.vec.data\n",
    "        wo = w\n",
    "        alpha = 1\n",
    "        for init in range(1,21):\n",
    "            B_psi.vec.data -= alpha*du.vec.data\n",
    "            wn = fun_W()\n",
    "            if wn < w - alpha*0.1*nrm:\n",
    "                print(\"Iter: %2d | assem : %.2fs | CG took %.2fs with %4d iterations | alpha : %.2f | energy = %.10f | relres = %.2e |\"  %(it,tm1,tm2,iterativeSolver.iterations,alpha,w,nrm/nrm0))\n",
    "                break\n",
    "            else:\n",
    "                alpha = alpha/2\n",
    "                B_psi.vec.data = uo.vec.data"
   ]
  },
  {
   "cell_type": "code",
   "execution_count": null,
   "metadata": {},
   "outputs": [
    {
     "ename": "NameError",
     "evalue": "name 'HCurl' is not defined",
     "output_type": "error",
     "traceback": [
      "\u001b[0;31m---------------------------------------------------------------------------\u001b[0m",
      "\u001b[0;31mNameError\u001b[0m                                 Traceback (most recent call last)",
      "Cell \u001b[0;32mIn[6], line 5\u001b[0m\n\u001b[1;32m      3\u001b[0m \u001b[38;5;28;01mwith\u001b[39;00m ngs\u001b[38;5;241m.\u001b[39mTaskManager(): Bl2\u001b[38;5;241m.\u001b[39mSet(B)\n\u001b[1;32m      4\u001b[0m Bl2np \u001b[38;5;241m=\u001b[39m Bl2\u001b[38;5;241m.\u001b[39mvec\u001b[38;5;241m.\u001b[39mFV()\u001b[38;5;241m.\u001b[39mNumPy()\n\u001b[0;32m----> 5\u001b[0m \u001b[43mHCurl\u001b[49m\u001b[38;5;241m.\u001b[39mndof\n\u001b[1;32m      7\u001b[0m \u001b[38;5;28;01mimport\u001b[39;00m \u001b[38;5;21;01mmatplotlib\u001b[39;00m\u001b[38;5;21;01m.\u001b[39;00m\u001b[38;5;21;01mpyplot\u001b[39;00m \u001b[38;5;28;01mas\u001b[39;00m \u001b[38;5;21;01mplt\u001b[39;00m\n\u001b[1;32m      8\u001b[0m \u001b[38;5;28;01mimport\u001b[39;00m \u001b[38;5;21;01mnumpy\u001b[39;00m \u001b[38;5;28;01mas\u001b[39;00m \u001b[38;5;21;01mnp\u001b[39;00m\n",
      "\u001b[0;31mNameError\u001b[0m: name 'HCurl' is not defined"
     ]
    }
   ],
   "source": [
    "L2 = ngs.VectorL2(mesh, dim = 3, order=2)\n",
    "Bl2 = ngs.GridFunction(L2)\n",
    "with ngs.TaskManager(): Bl2.Set(B)\n",
    "Bl2np = Bl2.vec.FV().NumPy()\n",
    "HCurl.ndof\n",
    "\n",
    "import matplotlib.pyplot as plt\n",
    "import numpy as np\n",
    "max(abs(Bl2np))"
   ]
  },
  {
   "cell_type": "code",
   "execution_count": null,
   "metadata": {},
   "outputs": [],
   "source": [
    "Draw(B, mesh, clipping={\"z\":-1, \"dist\":0.064})"
   ]
  },
  {
   "cell_type": "code",
   "execution_count": null,
   "metadata": {},
   "outputs": [
    {
     "data": {
      "text/plain": [
       "(<ngsolve.comp.ComponentGridFunction at 0x12cde8f50>,\n",
       " <ngsolve.comp.ComponentGridFunction at 0x12cde8fb0>)"
      ]
     },
     "execution_count": 13,
     "metadata": {},
     "output_type": "execute_result"
    }
   ],
   "source": [
    "B_psi.components"
   ]
  },
  {
   "cell_type": "code",
   "execution_count": null,
   "metadata": {},
   "outputs": [],
   "source": []
  }
 ],
 "metadata": {
  "kernelspec": {
   "display_name": "pdefem",
   "language": "python",
   "name": "python3"
  },
  "language_info": {
   "codemirror_mode": {
    "name": "ipython",
    "version": 3
   },
   "file_extension": ".py",
   "mimetype": "text/x-python",
   "name": "python",
   "nbconvert_exporter": "python",
   "pygments_lexer": "ipython3",
   "version": "3.11.7"
  }
 },
 "nbformat": 4,
 "nbformat_minor": 2
}
