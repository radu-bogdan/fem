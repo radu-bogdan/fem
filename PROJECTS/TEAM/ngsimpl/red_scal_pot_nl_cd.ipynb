{
 "cells": [
  {
   "cell_type": "code",
   "execution_count": 10,
   "metadata": {},
   "outputs": [
    {
     "data": {
      "text/plain": [
       "<ngsolve.comp.Mesh at 0x284ba5aef20>"
      ]
     },
     "execution_count": 10,
     "metadata": {},
     "output_type": "execute_result"
    }
   ],
   "source": [
    "# import netgen.gui\n",
    "import ngsolve as ngs\n",
    "from netgen.webgui import Draw as DrawGeo\n",
    "from ngsolve.webgui import Draw\n",
    "from ttictoc import tic, toc\n",
    "from ngsolve.krylovspace import CGSolver\n",
    "\n",
    "mesh = ngs.Mesh('whatever.vol')\n",
    "mesh.Curve(2)\n",
    "# mesh.Refine()"
   ]
  },
  {
   "cell_type": "code",
   "execution_count": 11,
   "metadata": {},
   "outputs": [
    {
     "name": "stdout",
     "output_type": "stream",
     "text": [
      "using 3d mesh with ne= 24847  elements and nv= 4407  points\n",
      "Solving...\n",
      "Number of iterations = 382/1000 | Residual = 9.564760723616434e-06\n",
      "999.999999999996\n",
      "Solving...\n",
      "Number of iterations = 326/1000 | Residual = 9.768859232477003e-06\n",
      "1000.0009231223594\n"
     ]
    }
   ],
   "source": [
    "%run J.ipynb"
   ]
  },
  {
   "cell_type": "code",
   "execution_count": 12,
   "metadata": {},
   "outputs": [
    {
     "name": "stdout",
     "output_type": "stream",
     "text": [
      "BH data from TEAM 20 problem\n",
      "returning energy\n"
     ]
    }
   ],
   "source": [
    "from bhdata import BHCurves\n",
    "fun_dw  = BHCurves(3)\n",
    "fun_w   = fun_dw.Integrate()\n",
    "fun_ddw = fun_dw.Differentiate()\n",
    "\n",
    "mu0 = 1.256636e-6\n",
    "nu0 = 1/mu0\n",
    "\n",
    "linear = \"coil|ambient|default\"\n",
    "nonlinear = \"r_steel|l_steel|mid_steel\"\n",
    "\n",
    "lin = 0"
   ]
  },
  {
   "cell_type": "code",
   "execution_count": 13,
   "metadata": {},
   "outputs": [],
   "source": [
    "Q = ngs.VectorL2(mesh, order = deg-1)\n",
    "V = ngs.H1(mesh, order = deg)\n",
    "# V = ngs.H1(mesh, order = deg, dirichlet = \"ambient_face\")\n",
    "\n",
    "X = Q*V\n",
    "(p,u), (q,v) = X.TnT()\n",
    "\n",
    "# Nonlinear:\n",
    "\n",
    "maxit = int(1e7)\n",
    "\n",
    "tol2 = 1e-8\n",
    "regb = 1e-12\n",
    "\n",
    "B_psi = ngs.GridFunction(X)\n",
    "\n",
    "B = B_psi.components[0]\n",
    "psi = B_psi.components[1]\n",
    "\n",
    "normB = ngs.sqrt(B*B + regb)\n",
    "\n",
    "if lin == 1: cf_energy = mesh.MaterialCF({linear: nu0/2*B*B, nonlinear: nu0/2*B*B}, default = nu0/2*B*B).Compile()\n",
    "cf_energy = mesh.MaterialCF({linear: nu0/2*B*B, nonlinear: fun_w(normB)}, default = nu0/2*B*B).Compile()\n",
    "\n",
    "def fun_W():\n",
    "    with ngs.TaskManager(): res = ngs.Integrate(cf_energy - Hs*B, mesh)\n",
    "    return res\n",
    "\n",
    "ir = ngs.IntegrationRule(ngs.fem.ET.TET, order = 2*deg)\n",
    "\n",
    "if lin == 1: cf_rhs = mesh.MaterialCF({linear: nu0, nonlinear: nu0}, default = nu0).Compile()\n",
    "else: cf_rhs = mesh.MaterialCF({linear: nu0, nonlinear: fun_dw(normB)/normB}, default = nu0).Compile()\n",
    "\n",
    "rhs = ngs.LinearForm(X)\n",
    "rhs += ngs.SymbolicLFI(cf_rhs*B*q -ngs.grad(psi)*q -Hs*q +B*ngs.grad(v), intrule = ir)\n",
    "# rhs = ngs.LinearForm((cf_rhs*B*q -ngs.grad(psi)*q -Hs*q +B*ngs.grad(v))*ngs.dx)\n",
    "\n",
    "def fun_dW():\n",
    "    with ngs.TaskManager(): rhs.Assemble()\n",
    "    return rhs\n",
    "\n",
    "Id = ngs.CF((1,0,0,\n",
    "             0,1,0,\n",
    "             0,0,1), dims=(3,3))\n",
    "\n",
    "BBt = ngs.CF((B[0]*B[0], B[0]*B[1], B[0]*B[2],\n",
    "              B[1]*B[0], B[1]*B[1], B[1]*B[2],\n",
    "              B[2]*B[0], B[2]*B[1], B[2]*B[2]), dims = (3,3))\n",
    "\n",
    "fun1 = fun_dw(normB)/normB\n",
    "fun2 = (fun_ddw(normB) - fun_dw(normB)/normB)/(normB*normB)\n",
    "\n",
    "if lin == 1: cf_iter = mesh.MaterialCF({linear: nu0*Id, nonlinear: nu0*Id}, default = nu0*Id).Compile()\n",
    "else: cf_iter = mesh.MaterialCF({linear: nu0*Id, nonlinear: fun1*Id + fun2*BBt}, default = nu0*Id).Compile()\n",
    "\n",
    "K_iter = ngs.BilinearForm(X, condense = True)\n",
    "K_iter += ngs.SymbolicBFI(cf_iter*p*q - ngs.grad(u)*q + p*ngs.grad(v), intrule = ir)\n",
    "# K_iter += (cf_iter*p*q - ngs.grad(u)*q + p*ngs.grad(v))*ngs.dx\n",
    "C_iter = ngs.Preconditioner(K_iter, type = \"local\")\n",
    "\n",
    "def fun_ddW():\n",
    "    with ngs.TaskManager(): K_iter.Assemble()\n",
    "    return K_iter\n"
   ]
  },
  {
   "cell_type": "code",
   "execution_count": 14,
   "metadata": {},
   "outputs": [],
   "source": [
    "du = ngs.GridFunction(X)\n",
    "uo = ngs.GridFunction(X)\n",
    "\n",
    "size_du0 = du.components[0].vec.FV().NumPy().size\n",
    "size_du1 = du.components[1].vec.FV().NumPy().size\n",
    "\n",
    "import matplotlib.pyplot as plt\n",
    "import numpy as np\n",
    "rrow = np.arange(size_du1) + size_du0\n",
    "rcol = np.arange(size_du1)\n",
    "rdata = np.ones(rcol.size)\n",
    "\n",
    "R  = ngs.la.SparseMatrixdouble.CreateFromCOO(rrow, rcol, rdata, size_du0+size_du1, size_du1)\n",
    "RT = ngs.la.SparseMatrixdouble.CreateFromCOO(rcol, rrow, rdata, size_du1, size_du0+size_du1)\n",
    "\n",
    "def compactify(A):\n",
    "    A = ngs.la.SparseMatrixdouble.__matmul__(A,R)\n",
    "    A = ngs.la.SparseMatrixdouble.__matmul__(RT,A)\n",
    "    return A"
   ]
  },
  {
   "cell_type": "code",
   "execution_count": 15,
   "metadata": {},
   "outputs": [
    {
     "name": "stdout",
     "output_type": "stream",
     "text": [
      "Using 3D mesh with ne= 24847 elements and nv= 4407 points and  332117 DOFs.\n",
      " \n",
      "Iter:  1 | assem : 0.37s | CG took 0.26s with  228 iterations | alpha : 1.00 | energy = 0.0000000000 | relres = 1.00e+00 |\n",
      "Iter:  2 | assem : 0.40s | CG took 0.37s with  285 iterations | alpha : 1.00 | energy = -0.1621200022 | relres = 2.70e-01 |\n",
      "Iter:  3 | assem : 0.31s | CG took 0.55s with  457 iterations | alpha : 1.00 | energy = -0.1928687376 | relres = 1.45e-02 |\n",
      "Iter:  4 | assem : 0.34s | CG took 0.50s with  421 iterations | alpha : 1.00 | energy = -0.1949796954 | relres = 6.30e-04 |\n",
      "Iter:  5 | assem : 0.30s | CG took 0.50s with  416 iterations | alpha : 1.00 | energy = -0.1950713450 | relres = 2.93e-05 |\n",
      "Iter:  6 | assem : 0.38s | CG took 0.50s with  410 iterations | alpha : 1.00 | energy = -0.1950755607 | relres = 6.47e-07 |\n",
      "Iter:  7 | assem : 0.41s | CG took 0.54s with  432 iterations | alpha : 1.00 | energy = -0.1950756555 | relres = 3.77e-09 |\n",
      "converged to desired tolerance\n"
     ]
    }
   ],
   "source": [
    "with ngs.TaskManager():\n",
    "    print(\"Using 3D mesh with ne=\", mesh.ne, \"elements and nv=\", mesh.nv, \"points and \" ,X.ndof, \"DOFs.\\n \")\n",
    "\n",
    "    with ngs.TaskManager(): B.Set(ngs.CF((0,0,0)))\n",
    "    with ngs.TaskManager(): psi.Set(ngs.CF((0)))\n",
    "\n",
    "    du = ngs.GridFunction(X)\n",
    "    uo = ngs.GridFunction(X)\n",
    "    wo = 1e12\n",
    "\n",
    "    for it in range(1,maxit+1):\n",
    "        \n",
    "        tic()\n",
    "        # with ngs.TaskManager():\n",
    "        #     K_iter.Assemble()\n",
    "        #     rhs.Assemble()\n",
    "        #     res = ngs.Integrate(cf_energy - Hs*ngs.curl(A), mesh)\n",
    "        \n",
    "        w  = fun_W()\n",
    "        dw = fun_dW()\n",
    "        da = fun_ddW()\n",
    "        tm1 = toc()\n",
    "        \n",
    "        tic()\n",
    "        with ngs.TaskManager():\n",
    "            rhs_mod = (da.harmonic_extension_trans * rhs.vec).Evaluate()\n",
    "            iterativeSolver = CGSolver(mat = da.mat, pre = C_iter.mat, tol  = 1e-4,  maxiter = maxit)\n",
    "            # iterativeSolver = CGSolver(mat = da.mat, freedofs = X.FreeDofs(True), tol  = 1e-4,  maxiter = maxit)\n",
    "            du.vec.data = iterativeSolver * rhs_mod\n",
    "            # du.vec.data = RT * du.vec\n",
    "\n",
    "            du.vec.data += da.harmonic_extension * du.vec\n",
    "            du.vec.data += da.inner_solve * rhs.vec\n",
    "\n",
    "            # invS = da.mat.Inverse(freedofs = X.FreeDofs(coupling=True))\n",
    "            # # invS = CGSolver(da.mat, freedofs = X.FreeDofs(coupling=True), tol  = 1e-4,  maxiter = maxit)\n",
    "            # ext = ngs.IdentityMatrix() + da.harmonic_extension\n",
    "            # extT = ngs.IdentityMatrix() + da.harmonic_extension_trans\n",
    "            # invA =  ext @ invS @ extT + da.inner_solve\n",
    "            # du.vec.data = invA * dw.vec\n",
    "\n",
    "            # du.vec.data = da.mat.Inverse(X.FreeDofs()) * dw.vec\n",
    "            # ngs.solvers.MinRes(mat=da.mat, pre=C_iter.mat, rhs=dw.vec, sol=du.vec, printrates=False, initialize=False, maxsteps=10000)\n",
    "            # iterativeSolver = CGSolver(K_iter.mat, freedofs = X.FreeDofs(), atol = 1e-2,  maxiter = maxit, printrates = False)\n",
    "            # iterativeSolver = CGSolver(K_iter.mat, pre = C_iter.mat, tol  = 1e-2,  maxiter = maxit)\n",
    "            # du.vec.data = iterativeSolver * dw.vec\n",
    "        \n",
    "        if len(iterativeSolver.residuals) == maxit: print(\"... reached maxit!\")\n",
    "        # print(f\"Number of iterations = {iterativeSolver.iterations}/{maxit} | Residual = {iterativeSolver.residuals[-1]}\")\n",
    "        tm2 = toc()\n",
    "\n",
    "        nrm = ngs.InnerProduct(du.vec,dw.vec)\n",
    "        \n",
    "        if it == 1:\n",
    "            nrm0 = nrm\n",
    "\n",
    "        # wn = 1e12\n",
    "        if abs(wo-w) < tol2:\n",
    "        # if nrm/nrm0 < tol2:\n",
    "            print(\"converged to desired tolerance\")\n",
    "            break\n",
    "        # elif abs(wo-w) < tol2*1e-2:\n",
    "        #     print(\"stopped early due to stagnation\")\n",
    "        #     break\n",
    "        else:\n",
    "            # linesearch\n",
    "            uo.vec.data = B_psi.vec.data\n",
    "            wo = w\n",
    "            alpha = 1\n",
    "            for init in range(1,21):\n",
    "                B_psi.vec.data -= alpha*du.vec.data\n",
    "                wn = fun_W()\n",
    "                if wn < w - alpha*0.1*nrm:\n",
    "                    print(\"Iter: %2d | assem : %.2fs | CG took %.2fs with %4d iterations | alpha : %.2f | energy = %.10f | relres = %.2e |\"  %(it,tm1,tm2,iterativeSolver.iterations,alpha,w,nrm/nrm0))\n",
    "                    break\n",
    "                else:\n",
    "                    alpha = alpha/2\n",
    "                    B_psi.vec.data = uo.vec.data"
   ]
  },
  {
   "cell_type": "code",
   "execution_count": 16,
   "metadata": {},
   "outputs": [],
   "source": [
    "# Draw(BB, mesh)"
   ]
  },
  {
   "cell_type": "code",
   "execution_count": 17,
   "metadata": {},
   "outputs": [
    {
     "data": {
      "text/plain": [
       "'B2'"
      ]
     },
     "execution_count": 17,
     "metadata": {},
     "output_type": "execute_result"
    }
   ],
   "source": [
    "scalars = mesh.MaterialCF({\"coil\" : 1, \"mid_steel|l_steel|r_steel\" : 2}, default = 0)\n",
    "L2 = ngs.L2(mesh, order = 2)\n",
    "scal = ngs.GridFunction(L2)\n",
    "scal.Set(scalars)\n",
    "\n",
    "vtk = ngs.VTKOutput(mesh, coefs = [B,ngs.curl(Hs),scal],names = [\"B\",\"J\",\"scalars\"], filename = \"B2\", order = 2)\n",
    "vtk.Do()"
   ]
  },
  {
   "cell_type": "code",
   "execution_count": 18,
   "metadata": {},
   "outputs": [
    {
     "data": {
      "application/vnd.jupyter.widget-view+json": {
       "model_id": "e082867359a0411cbccec137f407dca7",
       "version_major": 2,
       "version_minor": 0
      },
      "text/plain": [
       "EmbeddableWidget(value='<iframe srcdoc=\"<!DOCTYPE html>\\n<html>\\n  <head>\\n    <meta http-equiv=&quot;Content-…"
      ]
     },
     "metadata": {},
     "output_type": "display_data"
    }
   ],
   "source": [
    "import pyvista as pv\n",
    "pv.global_theme.cmap = 'gist_ncar'\n",
    "# pv.global_theme.cmap = 'nipy_spectral'\n",
    "\n",
    "pvmesh = pv.read(\"B1.vtu\")\n",
    "pvmesh.set_active_scalars(\"scalars\")\n",
    "pvmesh.set_active_vectors(\"B\")\n",
    "threshed = pvmesh.threshold([0.7,1.6])\n",
    "# threshed.set_active_scalars(\"scalars\")\n",
    "\n",
    "p = pv.Plotter()\n",
    "p.add_mesh(threshed, style = 'surface', color = \"w\", opacity = 0, label = None)\n",
    "threshed = pvmesh.threshold([1.2,2.1])\n",
    "p.add_mesh(threshed, scalars = \"B\", clim = [0, 2.3])\n",
    "\n",
    "# arrows = pvmesh.glyph(scale = \"B\", orient = True, tolerance = 0.01, factor = 0.01) #0.8\n",
    "# p.add_mesh(arrows, color = \"orange\")\n",
    "\n",
    "pvmesh.set_active_vectors(\"J\")\n",
    "arrows2 = pvmesh.glyph(scale = \"J\", orient = True, tolerance = 0.001, factor = 1*1e-8)\n",
    "p.add_mesh(arrows2, color = \"black\")\n",
    "\n",
    "p.show(jupyter_backend = \"html\")\n",
    "# p.show()"
   ]
  },
  {
   "cell_type": "code",
   "execution_count": 19,
   "metadata": {},
   "outputs": [
    {
     "name": "stdout",
     "output_type": "stream",
     "text": [
      "0.0001750568471004676\n",
      "-0.1950756562709492\n"
     ]
    }
   ],
   "source": [
    "print(ngs.Integrate(ngs.Norm(B),mesh))\n",
    "print(fun_W())"
   ]
  },
  {
   "cell_type": "code",
   "execution_count": 20,
   "metadata": {},
   "outputs": [],
   "source": [
    "# size_du0 = du.components[0].vec.FV().NumPy().size\n",
    "# size_du1 = du.components[1].vec.FV().NumPy().size\n",
    "\n",
    "# import matplotlib.pyplot as plt\n",
    "# import numpy as np\n",
    "# rrow = np.arange(size_du1) + size_du0\n",
    "# rcol = np.arange(size_du1)\n",
    "# rdata = np.ones(rcol.size)\n",
    "\n",
    "# R  = ngs.la.SparseMatrixdouble.CreateFromCOO(rrow, rcol, rdata, size_du0+size_du1, size_du1)\n",
    "# RT = ngs.la.SparseMatrixdouble.CreateFromCOO(rcol, rrow, rdata, size_du1, size_du0+size_du1)\n",
    "\n",
    "# def compactify(A):\n",
    "#     A = ngs.la.SparseMatrixdouble.__matmul__(A,R)\n",
    "#     A = ngs.la.SparseMatrixdouble.__matmul__(RT,A)\n",
    "#     return A\n",
    "\n",
    "# print(type(R),type(R.T), type(da.mat))\n",
    "\n",
    "\n",
    "\n",
    "\n",
    "\n",
    "# rrow\n",
    "\n",
    "# rows,cols,vals = RR.COO()\n",
    "# import scipy.sparse as sp\n",
    "# A = sp.csr_matrix((vals,(rows,cols)))\n",
    "\n",
    "# # print(A.shape)\n",
    "# plt.spy(A,markersize=1)\n",
    "# # print(A.nnz)\n",
    "# # rhs_mod.FV().NumPy().size\n",
    "\n",
    "# # A, X.FreeDofs()\n",
    "# # print(R.shape)"
   ]
  },
  {
   "cell_type": "code",
   "execution_count": 21,
   "metadata": {},
   "outputs": [],
   "source": [
    "# R * rhs_mod"
   ]
  },
  {
   "cell_type": "code",
   "execution_count": 22,
   "metadata": {},
   "outputs": [],
   "source": [
    "# help(ngs.IdentityMatrix())\n",
    "# # da.mat(freedofs=X.FreeDofs(coupling=True))"
   ]
  }
 ],
 "metadata": {
  "kernelspec": {
   "display_name": "pdefem",
   "language": "python",
   "name": "python3"
  },
  "language_info": {
   "codemirror_mode": {
    "name": "ipython",
    "version": 3
   },
   "file_extension": ".py",
   "mimetype": "text/x-python",
   "name": "python",
   "nbconvert_exporter": "python",
   "pygments_lexer": "ipython3",
   "version": "3.10.13"
  }
 },
 "nbformat": 4,
 "nbformat_minor": 2
}
