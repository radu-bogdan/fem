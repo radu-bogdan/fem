{
 "cells": [
  {
   "cell_type": "code",
   "execution_count": 1,
   "metadata": {},
   "outputs": [
    {
     "data": {
      "text/plain": [
       "<ngsolve.comp.Mesh at 0x13bf9b36bb0>"
      ]
     },
     "execution_count": 1,
     "metadata": {},
     "output_type": "execute_result"
    }
   ],
   "source": [
    "# import netgen.gui\n",
    "import ngsolve as ngs\n",
    "from netgen.webgui import Draw as DrawGeo\n",
    "from ngsolve.webgui import Draw\n",
    "from ttictoc import tic, toc\n",
    "from ngsolve.krylovspace import CGSolver\n",
    "\n",
    "mesh = ngs.Mesh('whatever.vol')\n",
    "mesh.Curve(2)\n",
    "# mesh.Refine()"
   ]
  },
  {
   "cell_type": "code",
   "execution_count": 2,
   "metadata": {},
   "outputs": [
    {
     "name": "stdout",
     "output_type": "stream",
     "text": [
      "using 3d mesh with ne= 72204  elements and nv= 12535  points\n",
      "Solving...\n",
      "Number of iterations = 503/1000 | Residual = 9.792831543321432e-06\n",
      "2999.999999999987\n",
      "Solving...\n",
      "Number of iterations = 442/1000 | Residual = 9.899156656591516e-06\n",
      "3000.0020577247274\n"
     ]
    }
   ],
   "source": [
    "%run J.ipynb"
   ]
  },
  {
   "cell_type": "code",
   "execution_count": 3,
   "metadata": {},
   "outputs": [
    {
     "name": "stdout",
     "output_type": "stream",
     "text": [
      "BH data from TEAM 20 problem\n",
      "returning energy\n"
     ]
    }
   ],
   "source": [
    "from bhdata import BHCurves\n",
    "fun_dw  = BHCurves(3)\n",
    "fun_w   = fun_dw.Integrate()\n",
    "fun_ddw = fun_dw.Differentiate()\n",
    "\n",
    "mu0 = 1.256636e-6\n",
    "nu0 = 1/mu0\n",
    "\n",
    "linear = \"coil|ambient|default\"\n",
    "nonlinear = \"r_steel|l_steel|mid_steel\"\n",
    "\n",
    "lin = 0"
   ]
  },
  {
   "cell_type": "code",
   "execution_count": 4,
   "metadata": {},
   "outputs": [],
   "source": [
    "Q = ngs.VectorL2(mesh, order = deg-1)\n",
    "V = ngs.H1(mesh, order = deg)\n",
    "# V = ngs.H1(mesh, order = deg, dirichlet = \"ambient_face\")\n",
    "\n",
    "X = Q*V\n",
    "(p,u), (q,v) = X.TnT()\n",
    "\n",
    "# Nonlinear:\n",
    "\n",
    "maxit = int(1e7)\n",
    "\n",
    "tol2 = 1e-8\n",
    "regb = 1e-12\n",
    "\n",
    "B_psi = ngs.GridFunction(X)\n",
    "\n",
    "B = B_psi.components[0]\n",
    "psi = B_psi.components[1]\n",
    "\n",
    "normB = ngs.sqrt(B*B + regb)\n",
    "\n",
    "if lin == 1: cf_energy = mesh.MaterialCF({linear: nu0/2*B*B, nonlinear: nu0/2*B*B}, default = nu0/2*B*B).Compile()\n",
    "cf_energy = mesh.MaterialCF({linear: nu0/2*B*B, nonlinear: fun_w(normB)}, default = nu0/2*B*B).Compile()\n",
    "\n",
    "def fun_W():\n",
    "    with ngs.TaskManager(): res = ngs.Integrate(cf_energy - Hs*B, mesh)\n",
    "    return res\n",
    "\n",
    "ir = ngs.IntegrationRule(ngs.fem.ET.TET, order = 2*deg)\n",
    "\n",
    "if lin == 1: cf_rhs = mesh.MaterialCF({linear: nu0, nonlinear: nu0}, default = nu0).Compile()\n",
    "else: cf_rhs = mesh.MaterialCF({linear: nu0, nonlinear: fun_dw(normB)/normB}, default = nu0).Compile()\n",
    "\n",
    "rhs = ngs.LinearForm(X)\n",
    "rhs += ngs.SymbolicLFI(cf_rhs*B*q -ngs.grad(psi)*q -Hs*q +B*ngs.grad(v), intrule = ir)\n",
    "# rhs = ngs.LinearForm((cf_rhs*B*q -ngs.grad(psi)*q -Hs*q +B*ngs.grad(v))*ngs.dx)\n",
    "\n",
    "def fun_dW():\n",
    "    with ngs.TaskManager(): rhs.Assemble()\n",
    "    return rhs\n",
    "\n",
    "Id = ngs.CF((1,0,0,\n",
    "             0,1,0,\n",
    "             0,0,1), dims=(3,3))\n",
    "\n",
    "BBt = ngs.CF((B[0]*B[0], B[0]*B[1], B[0]*B[2],\n",
    "              B[1]*B[0], B[1]*B[1], B[1]*B[2],\n",
    "              B[2]*B[0], B[2]*B[1], B[2]*B[2]), dims = (3,3))\n",
    "\n",
    "fun1 = fun_dw(normB)/normB\n",
    "fun2 = (fun_ddw(normB) - fun_dw(normB)/normB)/(normB*normB)\n",
    "\n",
    "if lin == 1: cf_iter = mesh.MaterialCF({linear: nu0*Id, nonlinear: nu0*Id}, default = nu0*Id).Compile()\n",
    "else: cf_iter = mesh.MaterialCF({linear: nu0*Id, nonlinear: fun1*Id + fun2*BBt}, default = nu0*Id).Compile()\n",
    "\n",
    "K_iter = ngs.BilinearForm(X, condense = True)\n",
    "K_iter += ngs.SymbolicBFI(cf_iter*p*q - ngs.grad(u)*q + p*ngs.grad(v), intrule = ir)\n",
    "# K_iter += (cf_iter*p*q - ngs.grad(u)*q + p*ngs.grad(v))*ngs.dx\n",
    "C_iter = ngs.Preconditioner(K_iter, type = \"local\")\n",
    "\n",
    "def fun_ddW():\n",
    "    with ngs.TaskManager(): K_iter.Assemble()\n",
    "    return K_iter\n"
   ]
  },
  {
   "cell_type": "code",
   "execution_count": 94,
   "metadata": {},
   "outputs": [],
   "source": [
    "du = ngs.GridFunction(X)\n",
    "uo = ngs.GridFunction(X)\n",
    "\n",
    "size_du0 = du.components[0].vec.FV().NumPy().size\n",
    "size_du1 = du.components[1].vec.FV().NumPy().size\n",
    "\n",
    "import matplotlib.pyplot as plt\n",
    "import numpy as np\n",
    "rrow = np.arange(size_du1) + size_du0\n",
    "rcol = np.arange(size_du1)\n",
    "rdata = np.ones(rcol.size)\n",
    "\n",
    "R  = ngs.la.SparseMatrixdouble.CreateFromCOO(rrow, rcol, rdata, size_du0+size_du1, size_du1)\n",
    "RT = ngs.la.SparseMatrixdouble.CreateFromCOO(rcol, rrow, rdata, size_du1, size_du0+size_du1)\n",
    "\n",
    "def compactify(A):\n",
    "    A = ngs.la.SparseMatrixdouble.__matmul__(A,R)\n",
    "    A = ngs.la.SparseMatrixdouble.__matmul__(RT,A)\n",
    "    return A"
   ]
  },
  {
   "cell_type": "code",
   "execution_count": 113,
   "metadata": {},
   "outputs": [
    {
     "name": "stdout",
     "output_type": "stream",
     "text": [
      "Using 3D mesh with ne= 72204 elements and nv= 12535 points and  964043 DOFs.\n",
      " \n"
     ]
    },
    {
     "ename": "AttributeError",
     "evalue": "'ngsolve.la.DynamicVectorExpression' object has no attribute 'vec'",
     "output_type": "error",
     "traceback": [
      "\u001b[1;31m---------------------------------------------------------------------------\u001b[0m",
      "\u001b[1;31mAttributeError\u001b[0m                            Traceback (most recent call last)",
      "Cell \u001b[1;32mIn[113], line 31\u001b[0m\n\u001b[0;32m     26\u001b[0m iterativeSolver \u001b[38;5;241m=\u001b[39m CGSolver(mat \u001b[38;5;241m=\u001b[39m compactify(da\u001b[38;5;241m.\u001b[39mmat), pre \u001b[38;5;241m=\u001b[39m C_iter\u001b[38;5;241m.\u001b[39mmat, tol  \u001b[38;5;241m=\u001b[39m \u001b[38;5;241m1e-4\u001b[39m,  maxiter \u001b[38;5;241m=\u001b[39m maxit)\n\u001b[0;32m     27\u001b[0m \u001b[38;5;66;03m# iterativeSolver = CGSolver(mat = da.mat, freedofs = X.FreeDofs(True), tol  = 1e-4,  maxiter = maxit)\u001b[39;00m\n\u001b[0;32m     28\u001b[0m \u001b[38;5;66;03m# du.vec.data = iterativeSolver * (R*rhs_mod)\u001b[39;00m\n\u001b[0;32m     29\u001b[0m \u001b[38;5;66;03m# du.vec.data = RT * du.vec\u001b[39;00m\n\u001b[1;32m---> 31\u001b[0m du\u001b[38;5;241m.\u001b[39mvec \u001b[38;5;241m=\u001b[39m RT \u001b[38;5;241m*\u001b[39m \u001b[43m(\u001b[49m\u001b[43miterativeSolver\u001b[49m\u001b[43m \u001b[49m\u001b[38;5;241;43m*\u001b[39;49m\u001b[43m \u001b[49m\u001b[43m(\u001b[49m\u001b[43mR\u001b[49m\u001b[38;5;241;43m*\u001b[39;49m\u001b[43mrhs_mod\u001b[49m\u001b[43m)\u001b[49m\u001b[43m)\u001b[49m\u001b[38;5;241;43m.\u001b[39;49m\u001b[43mvec\u001b[49m\n\u001b[0;32m     33\u001b[0m du\u001b[38;5;241m.\u001b[39mvec\u001b[38;5;241m.\u001b[39mdata \u001b[38;5;241m+\u001b[39m\u001b[38;5;241m=\u001b[39m da\u001b[38;5;241m.\u001b[39mharmonic_extension \u001b[38;5;241m*\u001b[39m du\u001b[38;5;241m.\u001b[39mvec\n\u001b[0;32m     34\u001b[0m du\u001b[38;5;241m.\u001b[39mvec\u001b[38;5;241m.\u001b[39mdata \u001b[38;5;241m+\u001b[39m\u001b[38;5;241m=\u001b[39m da\u001b[38;5;241m.\u001b[39minner_solve \u001b[38;5;241m*\u001b[39m rhs\u001b[38;5;241m.\u001b[39mvec\n",
      "\u001b[1;31mAttributeError\u001b[0m: 'ngsolve.la.DynamicVectorExpression' object has no attribute 'vec'"
     ]
    }
   ],
   "source": [
    "print(\"Using 3D mesh with ne=\", mesh.ne, \"elements and nv=\", mesh.nv, \"points and \" ,X.ndof, \"DOFs.\\n \")\n",
    "\n",
    "with ngs.TaskManager(): B.Set(ngs.CF((0,0,0)))\n",
    "with ngs.TaskManager(): psi.Set(ngs.CF((0)))\n",
    "\n",
    "du = ngs.GridFunction(X)\n",
    "uo = ngs.GridFunction(X)\n",
    "wo = 1e12\n",
    "\n",
    "for it in range(1,maxit+1):\n",
    "    \n",
    "    tic()\n",
    "    # with ngs.TaskManager():\n",
    "    #     K_iter.Assemble()\n",
    "    #     rhs.Assemble()\n",
    "    #     res = ngs.Integrate(cf_energy - Hs*ngs.curl(A), mesh)\n",
    "    \n",
    "    w  = fun_W()\n",
    "    dw = fun_dW()\n",
    "    da = fun_ddW()\n",
    "    tm1 = toc()\n",
    "    \n",
    "    tic()\n",
    "    with ngs.TaskManager():\n",
    "        rhs_mod = (da.harmonic_extension_trans * rhs.vec).Evaluate()\n",
    "        iterativeSolver = CGSolver(mat = compactify(da.mat), pre = C_iter.mat, tol  = 1e-4,  maxiter = maxit)\n",
    "        # iterativeSolver = CGSolver(mat = da.mat, freedofs = X.FreeDofs(True), tol  = 1e-4,  maxiter = maxit)\n",
    "        du.vec.data = iterativeSolver * (R*rhs_mod)\n",
    "        du.vec.data = RT * du.vec\n",
    "\n",
    "        du.vec.data += da.harmonic_extension * du.vec\n",
    "        du.vec.data += da.inner_solve * rhs.vec\n",
    "\n",
    "        # invS = da.mat.Inverse(freedofs = X.FreeDofs(coupling=True))\n",
    "        # # invS = CGSolver(da.mat, freedofs = X.FreeDofs(coupling=True), tol  = 1e-4,  maxiter = maxit)\n",
    "        # ext = ngs.IdentityMatrix() + da.harmonic_extension\n",
    "        # extT = ngs.IdentityMatrix() + da.harmonic_extension_trans\n",
    "        # invA =  ext @ invS @ extT + da.inner_solve\n",
    "        # du.vec.data = invA * dw.vec\n",
    "\n",
    "        # du.vec.data = da.mat.Inverse(X.FreeDofs()) * dw.vec\n",
    "        # ngs.solvers.MinRes(mat=da.mat, pre=C_iter.mat, rhs=dw.vec, sol=du.vec, printrates=False, initialize=False, maxsteps=10000)\n",
    "        # iterativeSolver = CGSolver(K_iter.mat, freedofs = X.FreeDofs(), atol = 1e-2,  maxiter = maxit, printrates = False)\n",
    "        # iterativeSolver = CGSolver(K_iter.mat, pre = C_iter.mat, tol  = 1e-2,  maxiter = maxit)\n",
    "        # du.vec.data = iterativeSolver * dw.vec\n",
    "    \n",
    "    if len(iterativeSolver.residuals) == maxit: print(\"... reached maxit!\")\n",
    "    # print(f\"Number of iterations = {iterativeSolver.iterations}/{maxit} | Residual = {iterativeSolver.residuals[-1]}\")\n",
    "    tm2 = toc()\n",
    "\n",
    "    nrm = ngs.InnerProduct(du.vec,dw.vec)\n",
    "    \n",
    "    if it == 1:\n",
    "        nrm0 = nrm\n",
    "\n",
    "    # wn = 1e12\n",
    "    if abs(wo-w) < tol2:\n",
    "    # if nrm/nrm0 < tol2:\n",
    "        print(\"converged to desired tolerance\")\n",
    "        break\n",
    "    # elif abs(wo-w) < tol2*1e-2:\n",
    "    #     print(\"stopped early due to stagnation\")\n",
    "    #     break\n",
    "    else:\n",
    "        # linesearch\n",
    "        uo.vec.data = B_psi.vec.data\n",
    "        wo = w\n",
    "        alpha = 1\n",
    "        for init in range(1,21):\n",
    "            B_psi.vec.data -= alpha*du.vec.data\n",
    "            wn = fun_W()\n",
    "            if wn < w - alpha*0.1*nrm:\n",
    "                print(\"Iter: %2d | assem : %.2fs | CG took %.2fs with %4d iterations | alpha : %.2f | energy = %.10f | relres = %.2e |\"  %(it,tm1,tm2,iterativeSolver.iterations,alpha,w,nrm/nrm0))\n",
    "                break\n",
    "            else:\n",
    "                alpha = alpha/2\n",
    "                B_psi.vec.data = uo.vec.data"
   ]
  },
  {
   "cell_type": "code",
   "execution_count": 6,
   "metadata": {},
   "outputs": [],
   "source": [
    "# Draw(BB, mesh)"
   ]
  },
  {
   "cell_type": "code",
   "execution_count": 7,
   "metadata": {},
   "outputs": [
    {
     "data": {
      "text/plain": [
       "'B2'"
      ]
     },
     "execution_count": 7,
     "metadata": {},
     "output_type": "execute_result"
    }
   ],
   "source": [
    "scalars = mesh.MaterialCF({\"coil\": 1, \"mid_steel\": 2}, default = 0)\n",
    "L2 = ngs.L2(mesh, order = 2)\n",
    "scal = ngs.GridFunction(L2)\n",
    "scal.Set(scalars)\n",
    "\n",
    "vtk = ngs.VTKOutput(mesh, coefs = [B,ngs.curl(Hs),scal],names = [\"B\",\"J\",\"scalars\"], filename = \"B2\", order = 1)\n",
    "vtk.Do()"
   ]
  },
  {
   "cell_type": "code",
   "execution_count": 8,
   "metadata": {},
   "outputs": [
    {
     "data": {
      "application/vnd.jupyter.widget-view+json": {
       "model_id": "518623727825492a9b0083029193c102",
       "version_major": 2,
       "version_minor": 0
      },
      "text/plain": [
       "EmbeddableWidget(value='<iframe srcdoc=\"<!DOCTYPE html>\\n<html>\\n  <head>\\n    <meta http-equiv=&quot;Content-…"
      ]
     },
     "metadata": {},
     "output_type": "display_data"
    }
   ],
   "source": [
    "import pyvista as pv\n",
    "pvmesh = pv.read(\"B2.vtu\")\n",
    "pvmesh.set_active_scalars(\"scalars\")\n",
    "pvmesh.set_active_vectors(\"B\")\n",
    "threshed = pvmesh.threshold([0.8,2.1])\n",
    "# threshed.set_active_vectors(\"B\")\n",
    "\n",
    "p = pv.Plotter()\n",
    "p.add_mesh(threshed, style = 'surface', color = \"w\", opacity = 0.01, label = None)\n",
    "\n",
    "arrows = pvmesh.glyph(scale = \"B\", orient = True, tolerance = 0.01, factor = 0.01)\n",
    "# arrows = pvmesh.glyph(scale = \"B\", orient = True, tolerance = 0.01, factor = 0.01)\n",
    "p.add_mesh(arrows, color = \"yellow\")\n",
    "\n",
    "pvmesh.set_active_vectors(\"J\")\n",
    "arrows2 = pvmesh.glyph(scale = \"J\", orient = True, tolerance = 0.001, factor = 1*1e-8)\n",
    "p.add_mesh(arrows2, color = \"black\")\n",
    "\n",
    "p.show(jupyter_backend = \"html\")\n",
    "# p.show()"
   ]
  },
  {
   "cell_type": "code",
   "execution_count": 9,
   "metadata": {},
   "outputs": [
    {
     "name": "stdout",
     "output_type": "stream",
     "text": [
      "0.00036099095438012365\n",
      "-1.6074973371236418\n"
     ]
    }
   ],
   "source": [
    "print(ngs.Integrate(ngs.Norm(B),mesh))\n",
    "print(fun_W())"
   ]
  },
  {
   "cell_type": "code",
   "execution_count": 88,
   "metadata": {},
   "outputs": [
    {
     "name": "stdout",
     "output_type": "stream",
     "text": [
      "<class 'ngsolve.la.SparseMatrixdouble'> <class 'ngsolve.la.TransposeMatrix'> <class 'ngsolve.la.SparseMatrixdouble'>\n"
     ]
    },
    {
     "data": {
      "text/plain": [
       "<matplotlib.lines.Line2D at 0x13ba60d5630>"
      ]
     },
     "execution_count": 88,
     "metadata": {},
     "output_type": "execute_result"
    },
    {
     "data": {
      "image/png": "[encoded data removed]",
      "text/plain": [
       "<Figure size 640x480 with 1 Axes>"
      ]
     },
     "metadata": {},
     "output_type": "display_data"
    }
   ],
   "source": [
    "size_du0 = du.components[0].vec.FV().NumPy().size\n",
    "size_du1 = du.components[1].vec.FV().NumPy().size\n",
    "\n",
    "import matplotlib.pyplot as plt\n",
    "import numpy as np\n",
    "rrow = np.arange(size_du1) + size_du0\n",
    "rcol = np.arange(size_du1)\n",
    "rdata = np.ones(rcol.size)\n",
    "\n",
    "R  = ngs.la.SparseMatrixdouble.CreateFromCOO(rrow, rcol, rdata, size_du0+size_du1, size_du1)\n",
    "RT = ngs.la.SparseMatrixdouble.CreateFromCOO(rcol, rrow, rdata, size_du1, size_du0+size_du1)\n",
    "\n",
    "def compactify(A):\n",
    "    A = ngs.la.SparseMatrixdouble.__matmul__(A,R)\n",
    "    A = ngs.la.SparseMatrixdouble.__matmul__(RT,A)\n",
    "    return A\n",
    "\n",
    "print(type(R),type(R.T), type(da.mat))\n",
    "\n",
    "\n",
    "\n",
    "\n",
    "\n",
    "rrow\n",
    "\n",
    "rows,cols,vals = RR.COO()\n",
    "import scipy.sparse as sp\n",
    "A = sp.csr_matrix((vals,(rows,cols)))\n",
    "\n",
    "# print(A.shape)\n",
    "plt.spy(A,markersize=1)\n",
    "# print(A.nnz)\n",
    "# rhs_mod.FV().NumPy().size\n",
    "\n",
    "# A, X.FreeDofs()\n",
    "# print(R.shape)"
   ]
  },
  {
   "cell_type": "code",
   "execution_count": 100,
   "metadata": {},
   "outputs": [
    {
     "data": {
      "text/plain": [
       "<ngsolve.la.DynamicVectorExpression at 0x13ba5e74fb0>"
      ]
     },
     "execution_count": 100,
     "metadata": {},
     "output_type": "execute_result"
    }
   ],
   "source": [
    "R * rhs_mod"
   ]
  },
  {
   "cell_type": "code",
   "execution_count": 12,
   "metadata": {},
   "outputs": [
    {
     "name": "stdout",
     "output_type": "stream",
     "text": [
      "Help on IdentityMatrix in module ngsolve.la object:\n",
      "\n",
      "class IdentityMatrix(BaseMatrix)\n",
      " |  Method resolution order:\n",
      " |      IdentityMatrix\n",
      " |      BaseMatrix\n",
      " |      pybind11_builtins.pybind11_object\n",
      " |      builtins.object\n",
      " |  \n",
      " |  Methods defined here:\n",
      " |  \n",
      " |  __init__(...)\n",
      " |      __init__(*args, **kwargs)\n",
      " |      Overloaded function.\n",
      " |      \n",
      " |      1. __init__(self: ngsolve.la.IdentityMatrix) -> None\n",
      " |      \n",
      " |      2. __init__(self: ngsolve.la.IdentityMatrix, size: int, complex: bool = False) -> None\n",
      " |  \n",
      " |  ----------------------------------------------------------------------\n",
      " |  Methods inherited from BaseMatrix:\n",
      " |  \n",
      " |  AsVector(...)\n",
      " |      AsVector(self: ngsolve.la.BaseMatrix) -> ngsolve.la.BaseVector\n",
      " |      \n",
      " |      Interprets the matrix values as a vector\n",
      " |  \n",
      " |  CreateColVector(...)\n",
      " |      CreateColVector(self: ngsolve.la.BaseMatrix) -> ngsolve.la.BaseVector\n",
      " |  \n",
      " |  CreateDeviceMatrix(...)\n",
      " |      CreateDeviceMatrix(self: ngsolve.la.BaseMatrix) -> BaseMatrix\n",
      " |  \n",
      " |  CreateMatrix(...)\n",
      " |      CreateMatrix(self: ngsolve.la.BaseMatrix) -> BaseMatrix\n",
      " |      \n",
      " |      Create matrix of same dimension and same sparsestructure\n",
      " |  \n",
      " |  CreateRowVector(...)\n",
      " |      CreateRowVector(self: ngsolve.la.BaseMatrix) -> ngsolve.la.BaseVector\n",
      " |  \n",
      " |  CreateVector(...)\n",
      " |      CreateVector(self: ngsolve.la.BaseMatrix, colvector: bool = False) -> ngsolve.la.BaseVector\n",
      " |  \n",
      " |  GetInverseType(...)\n",
      " |      GetInverseType(self: ngsolve.la.BaseMatrix) -> str\n",
      " |  \n",
      " |  GetOperatorInfo(...)\n",
      " |      GetOperatorInfo(self: ngsolve.la.BaseMatrix) -> str\n",
      " |  \n",
      " |  Inverse(...)\n",
      " |      Inverse(self: ngsolve.la.BaseMatrix, freedofs: pyngcore.pyngcore.BitArray = None, inverse: str = '', flags: pyngcore.pyngcore.Flags = <pyngcore.pyngcore.Flags object at 0x0000013BFB894470>) -> BaseMatrix\n",
      " |      \n",
      " |      Calculate inverse of sparse matrix\n",
      " |      Parameters:\n",
      " |      \n",
      " |      freedofs : BitArray\n",
      " |        If set, invert only the rows/columns the matrix defined by the bit array, otherwise invert the whole matrix\n",
      " |      \n",
      " |      inverse : string\n",
      " |        Solver to use, allowed values are:\n",
      " |          sparsecholesky - internal solver of NGSolve for symmetric matrices\n",
      " |          umfpack        - solver by Suitesparse/UMFPACK (if NGSolve was configured with USE_UMFPACK=ON)\n",
      " |          pardiso        - PARDISO, either provided by libpardiso (USE_PARDISO=ON) or Intel MKL (USE_MKL=ON).\n",
      " |                           If neither Pardiso nor Intel MKL was linked at compile-time, NGSolve will look\n",
      " |                           for libmkl_rt in LD_LIBRARY_PATH (Unix) or PATH (Windows) at run-time.\n",
      " |  \n",
      " |  Mult(...)\n",
      " |      Mult(self: ngsolve.la.BaseMatrix, x: ngsolve.la.BaseVector, y: ngsolve.la.BaseVector) -> None\n",
      " |  \n",
      " |  MultAdd(...)\n",
      " |      MultAdd(*args, **kwargs)\n",
      " |      Overloaded function.\n",
      " |      \n",
      " |      1. MultAdd(self: ngsolve.la.BaseMatrix, value: float, x: ngsolve.la.BaseVector, y: ngsolve.la.BaseVector) -> None\n",
      " |      \n",
      " |      2. MultAdd(self: ngsolve.la.BaseMatrix, value: complex, x: ngsolve.la.BaseVector, y: ngsolve.la.BaseVector) -> None\n",
      " |  \n",
      " |  MultScale(...)\n",
      " |      MultScale(*args, **kwargs)\n",
      " |      Overloaded function.\n",
      " |      \n",
      " |      1. MultScale(self: ngsolve.la.BaseMatrix, value: float, x: ngsolve.la.BaseVector, y: ngsolve.la.BaseVector) -> None\n",
      " |      \n",
      " |      2. MultScale(self: ngsolve.la.BaseMatrix, value: complex, x: ngsolve.la.BaseVector, y: ngsolve.la.BaseVector) -> None\n",
      " |  \n",
      " |  MultTrans(...)\n",
      " |      MultTrans(*args, **kwargs)\n",
      " |      Overloaded function.\n",
      " |      \n",
      " |      1. MultTrans(self: ngsolve.la.BaseMatrix, value: float, x: ngsolve.la.BaseVector, y: ngsolve.la.BaseVector) -> None\n",
      " |      \n",
      " |      2. MultTrans(self: ngsolve.la.BaseMatrix, value: complex, x: ngsolve.la.BaseVector, y: ngsolve.la.BaseVector) -> None\n",
      " |  \n",
      " |  MultTransAdd(...)\n",
      " |      MultTransAdd(*args, **kwargs)\n",
      " |      Overloaded function.\n",
      " |      \n",
      " |      1. MultTransAdd(self: ngsolve.la.BaseMatrix, value: float, x: ngsolve.la.BaseVector, y: ngsolve.la.BaseVector) -> None\n",
      " |      \n",
      " |      2. MultTransAdd(self: ngsolve.la.BaseMatrix, value: complex, x: ngsolve.la.BaseVector, y: ngsolve.la.BaseVector) -> None\n",
      " |  \n",
      " |  ToDense(...)\n",
      " |      ToDense(self: ngsolve.la.BaseMatrix) -> object\n",
      " |  \n",
      " |  Update(...)\n",
      " |      Update(self: ngsolve.la.BaseMatrix) -> None\n",
      " |      \n",
      " |      Update matrix\n",
      " |  \n",
      " |  __add__(...)\n",
      " |      __add__(self: BaseMatrix, mat: BaseMatrix) -> BaseMatrix\n",
      " |  \n",
      " |  __iadd__(...)\n",
      " |      __iadd__(self: ngsolve.la.BaseMatrix, mat: ngsolve.la.BaseMatrix) -> None\n",
      " |  \n",
      " |  __matmul__(...)\n",
      " |      __matmul__(self: BaseMatrix, mat: BaseMatrix) -> BaseMatrix\n",
      " |  \n",
      " |  __mul__(...)\n",
      " |      __mul__(*args, **kwargs)\n",
      " |      Overloaded function.\n",
      " |      \n",
      " |      1. __mul__(self: BaseMatrix, arg0: ngsolve.la.BaseVector) -> ngla::DynamicVectorExpression\n",
      " |      \n",
      " |      2. __mul__(self: BaseMatrix, arg0: ngsolve.la.MultiVector) -> ngsolve.la.MultiVectorExpr\n",
      " |  \n",
      " |  __neg__(...)\n",
      " |      __neg__(self: BaseMatrix) -> BaseMatrix\n",
      " |  \n",
      " |  __radd__(...)\n",
      " |      __radd__(self: BaseMatrix, arg0: int) -> BaseMatrix\n",
      " |  \n",
      " |  __rmul__(...)\n",
      " |      __rmul__(*args, **kwargs)\n",
      " |      Overloaded function.\n",
      " |      \n",
      " |      1. __rmul__(self: BaseMatrix, value: float) -> BaseMatrix\n",
      " |      \n",
      " |      2. __rmul__(self: BaseMatrix, value: complex) -> BaseMatrix\n",
      " |  \n",
      " |  __str__(...)\n",
      " |      __str__(self: ngsolve.la.BaseMatrix) -> str\n",
      " |  \n",
      " |  __sub__(...)\n",
      " |      __sub__(self: BaseMatrix, mat: BaseMatrix) -> BaseMatrix\n",
      " |  \n",
      " |  __timing__(...)\n",
      " |      __timing__(self: ngsolve.la.BaseMatrix, runs: int = 10) -> float\n",
      " |  \n",
      " |  matvec(...)\n",
      " |      matvec(self: BaseMatrix, arg0: ngsolve.la.BaseVector) -> ngsolve.la.BaseVector\n",
      " |  \n",
      " |  ----------------------------------------------------------------------\n",
      " |  Readonly properties inherited from BaseMatrix:\n",
      " |  \n",
      " |  H\n",
      " |      Return conjugate transpose of matrix (WIP, only partially supported)\n",
      " |  \n",
      " |  T\n",
      " |      Return transpose of matrix\n",
      " |  \n",
      " |  comm\n",
      " |  \n",
      " |  dtype\n",
      " |  \n",
      " |  height\n",
      " |      Height of the matrix\n",
      " |  \n",
      " |  is_complex\n",
      " |      is the matrix complex-valued ?\n",
      " |  \n",
      " |  local_mat\n",
      " |  \n",
      " |  nze\n",
      " |      number of non-zero elements\n",
      " |  \n",
      " |  shape\n",
      " |  \n",
      " |  width\n",
      " |      Width of the matrix\n",
      " |  \n",
      " |  ----------------------------------------------------------------------\n",
      " |  Static methods inherited from pybind11_builtins.pybind11_object:\n",
      " |  \n",
      " |  __new__(*args, **kwargs) from pybind11_builtins.pybind11_type\n",
      " |      Create and return a new object.  See help(type) for accurate signature.\n",
      "\n"
     ]
    }
   ],
   "source": [
    "help(ngs.IdentityMatrix())\n",
    "# da.mat(freedofs=X.FreeDofs(coupling=True))"
   ]
  }
 ],
 "metadata": {
  "kernelspec": {
   "display_name": "pdefem",
   "language": "python",
   "name": "python3"
  },
  "language_info": {
   "codemirror_mode": {
    "name": "ipython",
    "version": 3
   },
   "file_extension": ".py",
   "mimetype": "text/x-python",
   "name": "python",
   "nbconvert_exporter": "python",
   "pygments_lexer": "ipython3",
   "version": "3.10.13"
  }
 },
 "nbformat": 4,
 "nbformat_minor": 2
}
