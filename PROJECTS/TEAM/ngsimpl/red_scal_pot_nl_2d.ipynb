{
 "cells": [
  {
   "cell_type": "code",
   "execution_count": 1,
   "metadata": {},
   "outputs": [],
   "source": [
    "# import netgen.gui\n",
    "import ngsolve as ngs\n",
    "from netgen.webgui import Draw as DrawGeo\n",
    "from ngsolve.webgui import Draw\n",
    "from ttictoc import tic, toc\n",
    "from ngsolve.krylovspace import CGSolver\n",
    "\n",
    "mesh = ngs.Mesh('team10_2d.vol')\n",
    "# mesh.Curve(2)\n",
    "# mesh.Refine()"
   ]
  },
  {
   "cell_type": "code",
   "execution_count": 2,
   "metadata": {},
   "outputs": [
    {
     "name": "stdout",
     "output_type": "stream",
     "text": [
      "using 3d mesh with ne= 69424  elements and nv= 35047  points\n"
     ]
    }
   ],
   "source": [
    "%run J_2D.ipynb"
   ]
  },
  {
   "cell_type": "code",
   "execution_count": 3,
   "metadata": {},
   "outputs": [
    {
     "name": "stdout",
     "output_type": "stream",
     "text": [
      "BH data from TEAM 20 problem\n",
      "returning energy\n"
     ]
    }
   ],
   "source": [
    "from bhdata import BHCurves\n",
    "fun_dw  = BHCurves(3)\n",
    "fun_w   = fun_dw.Integrate()\n",
    "fun_ddw = fun_dw.Differentiate()\n",
    "\n",
    "mu0 = 1.256636e-6\n",
    "nu0 = 1/mu0\n",
    "\n",
    "linear = \"coil_plus|coil_minus|ambient|default\"\n",
    "nonlinear = \"r_steel|l_steel|mid_steel\"\n",
    "\n",
    "lin = 0"
   ]
  },
  {
   "cell_type": "code",
   "execution_count": 4,
   "metadata": {},
   "outputs": [],
   "source": [
    "\n",
    "\n",
    "Q = ngs.VectorL2(mesh, order = deg-1)\n",
    "V = ngs.H1(mesh, order = deg)\n",
    "# V = ngs.H1(mesh, order = p, dirichlet = \"ambient_face\")\n",
    "\n",
    "X = Q*V\n",
    "(p,u), (q,v) = X.TnT()\n",
    "\n",
    "# Nonlinear:\n",
    "\n",
    "maxit = int(1e7)\n",
    "\n",
    "tol2 = 1e-8\n",
    "regb = 1e-14\n",
    "\n",
    "B_psi = ngs.GridFunction(X)\n",
    "\n",
    "B = B_psi.components[0]\n",
    "psi = B_psi.components[1]\n",
    "\n",
    "normB = ngs.sqrt(B*B + regb)\n",
    "\n",
    "if lin == 1: cf_energy = mesh.MaterialCF({linear: nu0/2*B*B, nonlinear: nu0/2*B*B}, default = nu0/2*B*B).Compile()\n",
    "cf_energy = mesh.MaterialCF({linear: nu0/2*B*B, nonlinear: fun_w(normB)}, default = nu0/2*B*B).Compile()\n",
    "\n",
    "def fun_W():\n",
    "    with ngs.TaskManager(): res = ngs.Integrate(cf_energy - Hs*B, mesh)\n",
    "    return res\n",
    "\n",
    "if lin == 1: cf_rhs = mesh.MaterialCF({linear: nu0, nonlinear: nu0}, default = nu0).Compile()\n",
    "else: cf_rhs = mesh.MaterialCF({linear: nu0, nonlinear: fun_dw(normB)/normB}, default = nu0).Compile()\n",
    "\n",
    "ir = ngs.IntegrationRule(points = [(1/3,1/3)], weights = [1/2])\n",
    "\n",
    "rhs = ngs.LinearForm((cf_rhs*B*q -ngs.grad(psi)*q -Hs*q +B*ngs.grad(v))*ngs.dx)\n",
    "# rhs = ngs.LinearForm(X)\n",
    "# rhs += ngs.SymbolicLFI(cf_rhs*B*q -ngs.grad(psi)*q -Hs*q +B*ngs.grad(v), intrule = ir)\n",
    "\n",
    "def fun_dW(): #implicitly depending on A!\n",
    "    with ngs.TaskManager(): rhs.Assemble()\n",
    "    return rhs\n",
    "\n",
    "Id = ngs.CF((1,0,\n",
    "             0,1), dims=(2,2)).Compile()\n",
    "\n",
    "BBt = ngs.CF((B[0]*B[0], B[0]*B[1],\n",
    "              B[1]*B[0], B[1]*B[1]), dims = (2,2)).Compile()\n",
    "\n",
    "fun1 = fun_dw(normB)/normB\n",
    "fun2 = (fun_ddw(normB) - fun_dw(normB)/normB)/(normB*normB)\n",
    "\n",
    "if lin == 1: cf_iter = mesh.MaterialCF({linear: nu0*Id, nonlinear: nu0*Id}, default = nu0*Id)\n",
    "else: cf_iter = mesh.MaterialCF({linear: nu0*Id, nonlinear: fun1*Id + fun2*BBt}, default = nu0*Id)\n",
    "\n",
    "K_iter = ngs.BilinearForm(X)\n",
    "K_iter += (cf_iter*p*q - ngs.grad(u)*q + p*ngs.grad(v))*ngs.dx\n",
    "# K_iter += ngs.SymbolicBFI(cf_iter*p*q - ngs.grad(u)*q + p*ngs.grad(v), intrule = ir)\n",
    "C_iter = ngs.Preconditioner(K_iter, type = \"local\")\n",
    "\n",
    "def fun_ddW():\n",
    "    with ngs.TaskManager(): K_iter.Assemble()\n",
    "    return K_iter\n"
   ]
  },
  {
   "cell_type": "code",
   "execution_count": 10,
   "metadata": {},
   "outputs": [
    {
     "name": "stdout",
     "output_type": "stream",
     "text": [
      "Using 3D mesh with ne= 69424 elements and nv= 35047 points and  173895 DOFs.\n",
      " \n"
     ]
    },
    {
     "ename": "KeyboardInterrupt",
     "evalue": "",
     "output_type": "error",
     "traceback": [
      "\u001b[0;31m---------------------------------------------------------------------------\u001b[0m",
      "\u001b[0;31mKeyboardInterrupt\u001b[0m                         Traceback (most recent call last)",
      "Cell \u001b[0;32mIn[10], line 29\u001b[0m\n\u001b[1;32m     24\u001b[0m \u001b[38;5;28;01mwith\u001b[39;00m ngs\u001b[38;5;241m.\u001b[39mTaskManager():\n\u001b[1;32m     25\u001b[0m     \u001b[38;5;66;03m# du.vec.data = da.mat.Inverse(X.FreeDofs()) * dw.vec\u001b[39;00m\n\u001b[1;32m     26\u001b[0m     \u001b[38;5;66;03m# ngs.solvers.MinRes(mat=da.mat, pre=C_iter.mat, rhs=dw.vec, sol=du.vec, printrates=False, initialize=False, maxsteps=10000)\u001b[39;00m\n\u001b[1;32m     27\u001b[0m     \u001b[38;5;66;03m# iterativeSolver = CGSolver(K_iter.mat, freedofs = X.FreeDofs(), atol = 1e-2,  maxiter = maxit, printrates = False)\u001b[39;00m\n\u001b[1;32m     28\u001b[0m     iterativeSolver \u001b[38;5;241m=\u001b[39m CGSolver(K_iter\u001b[38;5;241m.\u001b[39mmat, pre \u001b[38;5;241m=\u001b[39m C_iter\u001b[38;5;241m.\u001b[39mmat, tol  \u001b[38;5;241m=\u001b[39m \u001b[38;5;241m1e-2\u001b[39m,  maxiter \u001b[38;5;241m=\u001b[39m maxit)\n\u001b[0;32m---> 29\u001b[0m     \u001b[43mdu\u001b[49m\u001b[38;5;241;43m.\u001b[39;49m\u001b[43mvec\u001b[49m\u001b[38;5;241;43m.\u001b[39;49m\u001b[43mdata\u001b[49m \u001b[38;5;241m=\u001b[39m iterativeSolver \u001b[38;5;241m*\u001b[39m dw\u001b[38;5;241m.\u001b[39mvec\n\u001b[1;32m     31\u001b[0m \u001b[38;5;66;03m# if len(iterativeSolver.residuals) == maxit: print(\"... reached maxit!\")\u001b[39;00m\n\u001b[1;32m     32\u001b[0m \u001b[38;5;66;03m# print(f\"Number of iterations = {iterativeSolver.iterations}/{maxit} | Residual = {iterativeSolver.residuals[-1]}\")\u001b[39;00m\n\u001b[1;32m     33\u001b[0m tm2 \u001b[38;5;241m=\u001b[39m toc()\n",
      "File \u001b[0;32m/opt/homebrew/anaconda3/envs/mne/lib/python3.11/site-packages/ngsolve/krylovspace.py:108\u001b[0m, in \u001b[0;36mLinearSolver.Mult\u001b[0;34m(self, x, y)\u001b[0m\n\u001b[1;32m    107\u001b[0m \u001b[38;5;28;01mdef\u001b[39;00m \u001b[38;5;21mMult\u001b[39m(\u001b[38;5;28mself\u001b[39m, x : BaseVector, y : BaseVector) \u001b[38;5;241m-\u001b[39m\u001b[38;5;241m>\u001b[39m \u001b[38;5;28;01mNone\u001b[39;00m:\n\u001b[0;32m--> 108\u001b[0m     \u001b[38;5;28;43mself\u001b[39;49m\u001b[38;5;241;43m.\u001b[39;49m\u001b[43mSolve\u001b[49m\u001b[43m(\u001b[49m\u001b[43mrhs\u001b[49m\u001b[38;5;241;43m=\u001b[39;49m\u001b[43mx\u001b[49m\u001b[43m,\u001b[49m\u001b[43m \u001b[49m\u001b[43msol\u001b[49m\u001b[38;5;241;43m=\u001b[39;49m\u001b[43my\u001b[49m\u001b[43m,\u001b[49m\u001b[43m \u001b[49m\u001b[43minitialize\u001b[49m\u001b[38;5;241;43m=\u001b[39;49m\u001b[38;5;28;43;01mTrue\u001b[39;49;00m\u001b[43m)\u001b[49m\n",
      "File \u001b[0;32m/opt/homebrew/anaconda3/envs/mne/lib/python3.11/site-packages/netgen/__init__.py:57\u001b[0m, in \u001b[0;36mTimeFunction.<locals>.retfunc\u001b[0;34m(*args, **kwargs)\u001b[0m\n\u001b[1;32m     55\u001b[0m \u001b[38;5;28;01mdef\u001b[39;00m \u001b[38;5;21mretfunc\u001b[39m(\u001b[38;5;241m*\u001b[39margs,\u001b[38;5;241m*\u001b[39m\u001b[38;5;241m*\u001b[39mkwargs):\n\u001b[1;32m     56\u001b[0m     \u001b[38;5;28;01mwith\u001b[39;00m timer:\n\u001b[0;32m---> 57\u001b[0m         ret \u001b[38;5;241m=\u001b[39m \u001b[43mfunc\u001b[49m\u001b[43m(\u001b[49m\u001b[38;5;241;43m*\u001b[39;49m\u001b[43margs\u001b[49m\u001b[43m,\u001b[49m\u001b[43m \u001b[49m\u001b[38;5;241;43m*\u001b[39;49m\u001b[38;5;241;43m*\u001b[39;49m\u001b[43mkwargs\u001b[49m\u001b[43m)\u001b[49m\n\u001b[1;32m     58\u001b[0m     \u001b[38;5;28;01mreturn\u001b[39;00m ret\n",
      "File \u001b[0;32m/opt/homebrew/anaconda3/envs/mne/lib/python3.11/site-packages/ngsolve/krylovspace.py:89\u001b[0m, in \u001b[0;36mLinearSolver.Solve\u001b[0;34m(self, rhs, sol, initialize)\u001b[0m\n\u001b[1;32m     87\u001b[0m     sol[:] \u001b[38;5;241m=\u001b[39m \u001b[38;5;241m0\u001b[39m\n\u001b[1;32m     88\u001b[0m \u001b[38;5;28mself\u001b[39m\u001b[38;5;241m.\u001b[39msol \u001b[38;5;241m=\u001b[39m sol\n\u001b[0;32m---> 89\u001b[0m \u001b[38;5;28;43mself\u001b[39;49m\u001b[38;5;241;43m.\u001b[39;49m\u001b[43m_SolveImpl\u001b[49m\u001b[43m(\u001b[49m\u001b[43mrhs\u001b[49m\u001b[38;5;241;43m=\u001b[39;49m\u001b[43mrhs\u001b[49m\u001b[43m,\u001b[49m\u001b[43m \u001b[49m\u001b[43msol\u001b[49m\u001b[38;5;241;43m=\u001b[39;49m\u001b[43msol\u001b[49m\u001b[43m)\u001b[49m\n\u001b[1;32m     90\u001b[0m \u001b[38;5;28;01mif\u001b[39;00m old_status[\u001b[38;5;241m0\u001b[39m] \u001b[38;5;241m!=\u001b[39m \u001b[38;5;124m\"\u001b[39m\u001b[38;5;124midle\u001b[39m\u001b[38;5;124m\"\u001b[39m:\n\u001b[1;32m     91\u001b[0m     _PushStatus(old_status[\u001b[38;5;241m0\u001b[39m])\n",
      "File \u001b[0;32m/opt/homebrew/anaconda3/envs/mne/lib/python3.11/site-packages/ngsolve/krylovspace.py:195\u001b[0m, in \u001b[0;36mCGSolver._SolveImpl\u001b[0;34m(self, rhs, sol)\u001b[0m\n\u001b[1;32m    193\u001b[0m w\u001b[38;5;241m.\u001b[39mdata \u001b[38;5;241m=\u001b[39m \u001b[38;5;28mself\u001b[39m\u001b[38;5;241m.\u001b[39mmat \u001b[38;5;241m*\u001b[39m s\n\u001b[1;32m    194\u001b[0m wd \u001b[38;5;241m=\u001b[39m wdn\n\u001b[0;32m--> 195\u001b[0m as_s \u001b[38;5;241m=\u001b[39m \u001b[43ms\u001b[49m\u001b[38;5;241;43m.\u001b[39;49m\u001b[43mInnerProduct\u001b[49m\u001b[43m(\u001b[49m\u001b[43mw\u001b[49m\u001b[43m,\u001b[49m\u001b[43m \u001b[49m\u001b[43mconjugate\u001b[49m\u001b[38;5;241;43m=\u001b[39;49m\u001b[43mconjugate\u001b[49m\u001b[43m)\u001b[49m        \n\u001b[1;32m    196\u001b[0m \u001b[38;5;28;01mif\u001b[39;00m as_s \u001b[38;5;241m==\u001b[39m \u001b[38;5;241m0\u001b[39m \u001b[38;5;129;01mor\u001b[39;00m wd \u001b[38;5;241m==\u001b[39m \u001b[38;5;241m0\u001b[39m: \u001b[38;5;28;01mbreak\u001b[39;00m\n\u001b[1;32m    197\u001b[0m alpha \u001b[38;5;241m=\u001b[39m wd \u001b[38;5;241m/\u001b[39m as_s\n",
      "\u001b[0;31mKeyboardInterrupt\u001b[0m: "
     ]
    }
   ],
   "source": [
    "print(\"Using 3D mesh with ne=\", mesh.ne, \"elements and nv=\", mesh.nv, \"points and \" ,X.ndof, \"DOFs.\\n \")\n",
    "\n",
    "with ngs.TaskManager(): B.Set(ngs.CF((0,0)))\n",
    "with ngs.TaskManager(): psi.Set(ngs.CF((0)))\n",
    "\n",
    "du = ngs.GridFunction(X)\n",
    "uo = ngs.GridFunction(X)\n",
    "wo = 1e12\n",
    "\n",
    "for it in range(1,maxit+1):\n",
    "    \n",
    "    tic()\n",
    "    # with ngs.TaskManager():\n",
    "    #     K_iter.Assemble()\n",
    "    #     rhs.Assemble()\n",
    "    #     res = ngs.Integrate(cf_energy - Hs*ngs.curl(A), mesh)\n",
    "    \n",
    "    w  = fun_W()\n",
    "    dw = fun_dW()\n",
    "    da = fun_ddW()\n",
    "    tm1 = toc()\n",
    "    \n",
    "    tic()\n",
    "    with ngs.TaskManager():\n",
    "        du.vec.data = da.mat.Inverse(X.FreeDofs()) * dw.vec\n",
    "        # ngs.solvers.MinRes(mat=da.mat, pre=C_iter.mat, rhs=dw.vec, sol=du.vec, printrates=False, initialize=False, maxsteps=10000)\n",
    "        # iterativeSolver = CGSolver(K_iter.mat, freedofs = X.FreeDofs(), atol = 1e-2,  maxiter = maxit, printrates = False)\n",
    "        iterativeSolver = CGSolver(K_iter.mat, pre = C_iter.mat, tol  = 1e-2,  maxiter = maxit)\n",
    "        # du.vec.data = iterativeSolver * dw.vec\n",
    "    \n",
    "    # if len(iterativeSolver.residuals) == maxit: print(\"... reached maxit!\")\n",
    "    # print(f\"Number of iterations = {iterativeSolver.iterations}/{maxit} | Residual = {iterativeSolver.residuals[-1]}\")\n",
    "    tm2 = toc()\n",
    "\n",
    "    nrm = ngs.InnerProduct(du.vec,dw.vec)\n",
    "    \n",
    "    if it == 1:\n",
    "        nrm0 = nrm\n",
    "\n",
    "    wn = 1e12\n",
    "    # if abs(wo-w) < tol2:\n",
    "    if abs(wo-w)/abs(w) < tol2:\n",
    "    # if nrm/nrm0 < tol2:\n",
    "        print(\"converged to desired tolerance\")\n",
    "        break\n",
    "    # elif abs(wo-w) < tol2*1e-5:\n",
    "    #     print(\"stopped early due to stagnation\")\n",
    "    #     break\n",
    "    else:\n",
    "        # linesearch\n",
    "        uo.vec.data = B_psi.vec.data\n",
    "        wo = w\n",
    "        alpha = 1\n",
    "        for init in range(1,21):\n",
    "            B_psi.vec.data -= alpha*du.vec.data\n",
    "            wn = fun_W()\n",
    "            if wn < w - alpha*0.01*nrm:\n",
    "                print(\"Iter: %2d | assem : %.2fs | CG took %.2fs with %4d iterations | alpha : %.2f | energy = %.10f | relres = %.2e |\"  %(it,tm1,tm2,iterativeSolver.iterations,alpha,w,nrm/nrm0))\n",
    "                break\n",
    "            else:\n",
    "                alpha = alpha/2\n",
    "                B_psi.vec.data = uo.vec.data"
   ]
  },
  {
   "cell_type": "code",
   "execution_count": 6,
   "metadata": {},
   "outputs": [
    {
     "data": {
      "application/vnd.jupyter.widget-view+json": {
       "model_id": "ac962c3897d240d5a89522a3e9d2c5ab",
       "version_major": 2,
       "version_minor": 0
      },
      "text/plain": [
       "WebGuiWidget(layout=Layout(height='500px', width='100%'), value={'gui_settings': {'Objects': {'Wireframe': Fal…"
      ]
     },
     "metadata": {},
     "output_type": "display_data"
    },
    {
     "data": {
      "text/plain": [
       "BaseWebGuiScene"
      ]
     },
     "execution_count": 6,
     "metadata": {},
     "output_type": "execute_result"
    }
   ],
   "source": [
    "Draw(ngs.log(ngs.Norm(B)), mesh, min = -13, max = 0.5, settings={\"Objects\": {\"Wireframe\": False}})"
   ]
  },
  {
   "cell_type": "code",
   "execution_count": 7,
   "metadata": {},
   "outputs": [
    {
     "name": "stdout",
     "output_type": "stream",
     "text": [
      "0.001748803840351732\n",
      "25.26028025055311\n",
      "-2.8947718328889076\n"
     ]
    }
   ],
   "source": [
    "print(ngs.Integrate(ngs.Norm(B),mesh, order = 0))\n",
    "print(ngs.Integrate(ngs.Norm(psi),mesh))\n",
    "print(fun_W())"
   ]
  },
  {
   "cell_type": "code",
   "execution_count": 8,
   "metadata": {},
   "outputs": [
    {
     "data": {
      "text/plain": [
       "'B2'"
      ]
     },
     "execution_count": 8,
     "metadata": {},
     "output_type": "execute_result"
    }
   ],
   "source": [
    "scalars = mesh.MaterialCF({\"coil\": 1, \"mid_steel\": 2}, default = 0)\n",
    "L2 = ngs.L2(mesh, order = 2)\n",
    "scal = ngs.GridFunction(L2)\n",
    "scal.Set(scalars)\n",
    "\n",
    "vtk = ngs.VTKOutput(mesh, coefs = [B,ngs.curl(Hs),scal],names = [\"B\",\"J\",\"scalars\"], filename = \"B2\", order = 1)\n",
    "vtk.Do()"
   ]
  },
  {
   "cell_type": "code",
   "execution_count": 9,
   "metadata": {},
   "outputs": [
    {
     "name": "stderr",
     "output_type": "stream",
     "text": [
      "\u001b[0m\u001b[33m2024-04-25 12:00:31.724 (   0.587s) [          16F192]vtkDataSetAttributes.cx:1504  WARN| vtkPointData (0x3734c1320): Can not set attribute Vectors. Incorrect number of components.\u001b[0m\n"
     ]
    },
    {
     "ename": "ValueError",
     "evalue": "Data field (B) with type (FieldAssociation.POINT) could not be set as the active vectors",
     "output_type": "error",
     "traceback": [
      "\u001b[0;31m---------------------------------------------------------------------------\u001b[0m",
      "\u001b[0;31mValueError\u001b[0m                                Traceback (most recent call last)",
      "Cell \u001b[0;32mIn[9], line 4\u001b[0m\n\u001b[1;32m      2\u001b[0m pvmesh \u001b[38;5;241m=\u001b[39m pv\u001b[38;5;241m.\u001b[39mread(\u001b[38;5;124m\"\u001b[39m\u001b[38;5;124mB2.vtu\u001b[39m\u001b[38;5;124m\"\u001b[39m)\n\u001b[1;32m      3\u001b[0m pvmesh\u001b[38;5;241m.\u001b[39mset_active_scalars(\u001b[38;5;124m\"\u001b[39m\u001b[38;5;124mscalars\u001b[39m\u001b[38;5;124m\"\u001b[39m)\n\u001b[0;32m----> 4\u001b[0m \u001b[43mpvmesh\u001b[49m\u001b[38;5;241;43m.\u001b[39;49m\u001b[43mset_active_vectors\u001b[49m\u001b[43m(\u001b[49m\u001b[38;5;124;43m\"\u001b[39;49m\u001b[38;5;124;43mB\u001b[39;49m\u001b[38;5;124;43m\"\u001b[39;49m\u001b[43m)\u001b[49m\n\u001b[1;32m      5\u001b[0m threshed \u001b[38;5;241m=\u001b[39m pvmesh\u001b[38;5;241m.\u001b[39mthreshold([\u001b[38;5;241m0.8\u001b[39m,\u001b[38;5;241m2.1\u001b[39m])\n\u001b[1;32m      6\u001b[0m \u001b[38;5;66;03m# threshed.set_active_vectors(\"B\")\u001b[39;00m\n",
      "File \u001b[0;32m/opt/homebrew/anaconda3/envs/mne/lib/python3.11/site-packages/pyvista/core/dataset.py:692\u001b[0m, in \u001b[0;36mDataSet.set_active_vectors\u001b[0;34m(self, name, preference)\u001b[0m\n\u001b[1;32m    689\u001b[0m         \u001b[38;5;28;01mraise\u001b[39;00m \u001b[38;5;167;01mValueError\u001b[39;00m(\u001b[38;5;124mf\u001b[39m\u001b[38;5;124m'\u001b[39m\u001b[38;5;124mData field (\u001b[39m\u001b[38;5;132;01m{\u001b[39;00mname\u001b[38;5;132;01m}\u001b[39;00m\u001b[38;5;124m) with type (\u001b[39m\u001b[38;5;132;01m{\u001b[39;00mfield\u001b[38;5;132;01m}\u001b[39;00m\u001b[38;5;124m) not usable\u001b[39m\u001b[38;5;124m'\u001b[39m)\n\u001b[1;32m    691\u001b[0m     \u001b[38;5;28;01mif\u001b[39;00m ret \u001b[38;5;241m<\u001b[39m \u001b[38;5;241m0\u001b[39m:\n\u001b[0;32m--> 692\u001b[0m         \u001b[38;5;28;01mraise\u001b[39;00m \u001b[38;5;167;01mValueError\u001b[39;00m(\n\u001b[1;32m    693\u001b[0m             \u001b[38;5;124mf\u001b[39m\u001b[38;5;124m'\u001b[39m\u001b[38;5;124mData field (\u001b[39m\u001b[38;5;132;01m{\u001b[39;00mname\u001b[38;5;132;01m}\u001b[39;00m\u001b[38;5;124m) with type (\u001b[39m\u001b[38;5;132;01m{\u001b[39;00mfield\u001b[38;5;132;01m}\u001b[39;00m\u001b[38;5;124m) could not be set as the active vectors\u001b[39m\u001b[38;5;124m'\u001b[39m\n\u001b[1;32m    694\u001b[0m         )\n\u001b[1;32m    696\u001b[0m \u001b[38;5;28mself\u001b[39m\u001b[38;5;241m.\u001b[39m_active_vectors_info \u001b[38;5;241m=\u001b[39m ActiveArrayInfo(field, name)\n\u001b[1;32m    697\u001b[0m \u001b[38;5;28;01mreturn\u001b[39;00m \u001b[38;5;28;01mNone\u001b[39;00m\n",
      "\u001b[0;31mValueError\u001b[0m: Data field (B) with type (FieldAssociation.POINT) could not be set as the active vectors"
     ]
    }
   ],
   "source": [
    "import pyvista as pv\n",
    "pvmesh = pv.read(\"B2.vtu\")\n",
    "pvmesh.set_active_scalars(\"scalars\")\n",
    "pvmesh.set_active_vectors(\"B\")\n",
    "threshed = pvmesh.threshold([0.8,2.1])\n",
    "# threshed.set_active_vectors(\"B\")\n",
    "\n",
    "p = pv.Plotter()\n",
    "p.add_mesh(threshed, style = 'surface', color = \"w\", opacity = 0.01, label = None)\n",
    "\n",
    "arrows = pvmesh.glyph(scale = \"B\", orient = True, tolerance = 0.01, factor = 0.01)\n",
    "# arrows = pvmesh.glyph(scale = \"B\", orient = True, tolerance = 0.01, factor = 0.01)\n",
    "p.add_mesh(arrows, color = \"yellow\")\n",
    "\n",
    "pvmesh.set_active_vectors(\"J\")\n",
    "arrows2 = pvmesh.glyph(scale = \"J\", orient = True, tolerance = 0.001, factor = 1*1e-8)\n",
    "p.add_mesh(arrows2, color = \"black\")\n",
    "\n",
    "p.show(jupyter_backend = \"html\")\n",
    "# p.show()"
   ]
  },
  {
   "cell_type": "code",
   "execution_count": null,
   "metadata": {},
   "outputs": [],
   "source": [
    "deg = 2\n",
    "print(deg)\n",
    "{ir if deg==1 else None}"
   ]
  },
  {
   "cell_type": "code",
   "execution_count": null,
   "metadata": {},
   "outputs": [],
   "source": [
    "ir.weights"
   ]
  },
  {
   "cell_type": "code",
   "execution_count": null,
   "metadata": {},
   "outputs": [],
   "source": [
    "ngs.i"
   ]
  }
 ],
 "metadata": {
  "kernelspec": {
   "display_name": "pdefem",
   "language": "python",
   "name": "python3"
  },
  "language_info": {
   "codemirror_mode": {
    "name": "ipython",
    "version": 3
   },
   "file_extension": ".py",
   "mimetype": "text/x-python",
   "name": "python",
   "nbconvert_exporter": "python",
   "pygments_lexer": "ipython3",
   "version": "3.11.7"
  }
 },
 "nbformat": 4,
 "nbformat_minor": 2
}
