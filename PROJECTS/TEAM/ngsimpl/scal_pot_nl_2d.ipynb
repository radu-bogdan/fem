{
 "cells": [
  {
   "cell_type": "code",
   "execution_count": 10,
   "metadata": {},
   "outputs": [],
   "source": [
    "import ngsolve as ngs\n",
    "from netgen.webgui import Draw as DrawGeo\n",
    "from ngsolve.webgui import Draw\n",
    "from ngsolve.krylovspace import CGSolver\n",
    "from ttictoc import tic, toc\n",
    "\n",
    "mesh = ngs.Mesh('team10_2d.vol')\n",
    "# mesh.Curve(2)\n",
    "# mesh.Refine()\n",
    "# ngs.ngsglobals.msg_level = 0\n",
    "# ngs.SetHeapSize(100*1000*1000)"
   ]
  },
  {
   "cell_type": "code",
   "execution_count": 11,
   "metadata": {},
   "outputs": [
    {
     "name": "stdout",
     "output_type": "stream",
     "text": [
      "Using 2D mesh with ne= 52064 elements and nv= 26337 points and  78400 edges and  626593 DOFs. Actual DOFs after condensation: 418337 .\n",
      " \n"
     ]
    }
   ],
   "source": [
    "%run J_2d.ipynb"
   ]
  },
  {
   "cell_type": "code",
   "execution_count": 12,
   "metadata": {},
   "outputs": [
    {
     "name": "stdout",
     "output_type": "stream",
     "text": [
      "BH data from TEAM 20 problem\n",
      "returning coenergy\n"
     ]
    }
   ],
   "source": [
    "from bhdata import BHCurves\n",
    "fun_dw  = BHCurves(-3)\n",
    "fun_w   = fun_dw.Integrate()\n",
    "fun_ddw = fun_dw.Differentiate()\n",
    "\n",
    "mu0 = 1.256636e-6\n",
    "nu0 = 1/mu0\n",
    "\n",
    "linear = \"coil_plus|coil_minus|ambient|default\"\n",
    "nonlinear = \"r_steel|l_steel|mid_steel\"\n",
    "\n",
    "lin = 0"
   ]
  },
  {
   "cell_type": "code",
   "execution_count": 13,
   "metadata": {},
   "outputs": [],
   "source": [
    "# print(HCurl.ndof)\n",
    "# print(mesh.GetMaterials())\n",
    "\n",
    "H1 = ngs.H1(mesh, order = deg)\n",
    "# H1 = ngs.H1(mesh, order = p, dirichlet = 'ambient_face')\n",
    "u,v = H1.TnT()\n",
    "\n",
    "\n",
    "# Nonlinear:\n",
    "maxit = 10000\n",
    "tol2 = 1e-8\n",
    "regh = 1e-14\n",
    "\n",
    "psi = ngs.GridFunction(H1)\n",
    "H = ngs.grad(psi) + Hs\n",
    "normH = ngs.sqrt(H*H + regh)\n",
    "\n",
    "if lin == 1: cf_coenergy = mesh.MaterialCF({linear: mu0/2*H*H, nonlinear: mu0/2*H*H}, default = mu0/2*H*H).Compile()\n",
    "else: cf_coenergy = mesh.MaterialCF({linear: mu0/2*H*H, nonlinear: fun_w(normH)}, default = mu0/2*H*H).Compile()\n",
    "\n",
    "def fun_W():\n",
    "    # with ngs.TaskManager(): \n",
    "    res = ngs.Integrate(cf_coenergy, mesh)\n",
    "    return res\n",
    "\n",
    "# ir = ngs.IntegrationRule(points = [(1/3,1/3)], weights = [1/2])\n",
    "ir = ngs.IntegrationRule(ngs.fem.ET.TRIG, order = 2*deg)\n",
    "\n",
    "if lin == 1: cf_rhs = mesh.MaterialCF({linear: mu0, nonlinear: mu0}, default = mu0).Compile()\n",
    "else: cf_rhs = mesh.MaterialCF({linear: mu0, nonlinear: fun_dw(normH)/normH}, default = mu0).Compile()\n",
    "# rhs = ngs.LinearForm(cf_rhs*H*ngs.grad(v)*ngs.dx)\n",
    "rhs = ngs.LinearForm(H1)\n",
    "rhs += ngs.SymbolicLFI(cf_rhs*H*ngs.grad(v), intrule = ir)\n",
    "\n",
    "def fun_dW(): #implicitly depending on A!\n",
    "    # with ngs.TaskManager(): \n",
    "    rhs.Assemble()\n",
    "    return rhs\n",
    "\n",
    "\n",
    "Id = ngs.CF((1,0,\n",
    "             0,1), dims=(2,2))\n",
    "\n",
    "HHt = ngs.CF((H[0]*H[0], H[0]*H[1],\n",
    "              H[1]*H[0], H[1]*H[1]), dims=(2,2))\n",
    "\n",
    "\n",
    "fun1 = fun_dw(normH)/normH\n",
    "fun2 = (fun_ddw(normH) - fun_dw(normH)/normH)/(normH*normH)\n",
    "\n",
    "if lin == 1: cf_iter = mesh.MaterialCF({linear: mu0*Id, nonlinear: mu0*Id}, default = mu0*Id).Compile()\n",
    "else: cf_iter = mesh.MaterialCF({linear: mu0*Id, nonlinear: fun1*Id + fun2*HHt}, default = mu0*Id).Compile()\n",
    "\n",
    "\n",
    "K_iter = ngs.BilinearForm(H1)\n",
    "# K_iter += ngs.SymbolicBFI(cf_iter*ngs.grad(u)*ngs.grad(v))\n",
    "K_iter += ngs.SymbolicBFI(cf_iter*ngs.grad(u)*ngs.grad(v), intrule = ir)\n",
    "\n",
    "C_iter = ngs.Preconditioner(K_iter, type = \"local\")\n",
    "\n",
    "def fun_ddW():\n",
    "    # with ngs.TaskManager(): \n",
    "    K_iter.Assemble()\n",
    "    return K_iter"
   ]
  },
  {
   "cell_type": "code",
   "execution_count": 14,
   "metadata": {},
   "outputs": [
    {
     "name": "stdout",
     "output_type": "stream",
     "text": [
      "Using 2D mesh with ne= 52064 elements and nv= 26337 points and  104737 DOFs.\n",
      " \n",
      "Iter:  1 | assem : 0.02s,0.05s,0.10s | CG took 0.36s with    0 iterations | alpha : 0.50 | energy = 8.2678119147 | relres = 1.00e+00 |\n",
      "Iter:  2 | assem : 0.01s,0.01s,0.06s | CG took 0.37s with    0 iterations | alpha : 0.50 | energy = 5.5339786520 | relres = 5.11e-01 |\n",
      "Iter:  3 | assem : 0.02s,0.02s,0.08s | CG took 0.37s with    0 iterations | alpha : 0.25 | energy = 4.7545726931 | relres = 3.08e-01 |\n",
      "Iter:  4 | assem : 0.02s,0.05s,0.08s | CG took 0.34s with    0 iterations | alpha : 0.25 | energy = 4.1759975805 | relres = 7.74e-02 |\n",
      "Iter:  5 | assem : 0.02s,0.06s,0.06s | CG took 0.38s with    0 iterations | alpha : 0.25 | energy = 4.0645415666 | relres = 4.77e-02 |\n",
      "Iter:  6 | assem : 0.02s,0.04s,0.10s | CG took 0.36s with    0 iterations | alpha : 0.25 | energy = 4.0244951382 | relres = 4.18e-02 |\n",
      "Iter:  7 | assem : 0.02s,0.04s,0.07s | CG took 0.36s with    0 iterations | alpha : 0.25 | energy = 4.0100262385 | relres = 4.18e-02 |\n",
      "Iter:  8 | assem : 0.01s,0.02s,0.07s | CG took 0.35s with    0 iterations | alpha : 0.12 | energy = 4.0044747067 | relres = 4.40e-02 |\n",
      "Iter:  9 | assem : 0.02s,0.03s,0.06s | CG took 0.38s with    0 iterations | alpha : 1.00 | energy = 3.9409725262 | relres = 2.45e-03 |\n",
      "Iter: 10 | assem : 0.01s,0.02s,0.06s | CG took 0.36s with    0 iterations | alpha : 0.25 | energy = 3.9337731820 | relres = 4.24e-03 |\n",
      "Iter: 11 | assem : 0.02s,0.03s,0.07s | CG took 0.37s with    0 iterations | alpha : 0.25 | energy = 3.9308953621 | relres = 2.58e-03 |\n",
      "Iter: 12 | assem : 0.01s,0.04s,0.06s | CG took 0.34s with    0 iterations | alpha : 0.25 | energy = 3.9290222133 | relres = 1.52e-03 |\n",
      "Iter: 13 | assem : 0.02s,0.02s,0.07s | CG took 0.35s with    0 iterations | alpha : 0.25 | energy = 3.9277691836 | relres = 8.56e-04 |\n",
      "Iter: 14 | assem : 0.01s,0.02s,0.06s | CG took 0.34s with    0 iterations | alpha : 0.25 | energy = 3.9272322579 | relres = 6.09e-04 |\n",
      "Iter: 15 | assem : 0.01s,0.02s,0.06s | CG took 0.37s with    0 iterations | alpha : 0.25 | energy = 3.9270005217 | relres = 4.58e-04 |\n",
      "Iter: 16 | assem : 0.01s,0.02s,0.06s | CG took 0.37s with    0 iterations | alpha : 0.25 | energy = 3.9267276239 | relres = 2.62e-04 |\n",
      "Iter: 17 | assem : 0.02s,0.03s,0.07s | CG took 0.37s with    0 iterations | alpha : 0.25 | energy = 3.9263687950 | relres = 6.80e-05 |\n",
      "Iter: 18 | assem : 0.01s,0.02s,0.06s | CG took 0.36s with    0 iterations | alpha : 1.00 | energy = 3.9262332626 | relres = 7.24e-06 |\n",
      "Iter: 19 | assem : 0.02s,0.04s,0.07s | CG took 0.38s with    0 iterations | alpha : 0.50 | energy = 3.9262232325 | relres = 7.83e-06 |\n",
      "Iter: 20 | assem : 0.02s,0.03s,0.09s | CG took 0.40s with    0 iterations | alpha : 1.00 | energy = 3.9262042083 | relres = 1.74e-06 |\n",
      "Iter: 21 | assem : 0.02s,0.03s,0.07s | CG took 0.38s with    0 iterations | alpha : 0.50 | energy = 3.9262030302 | relres = 1.66e-06 |\n",
      "Iter: 22 | assem : 0.01s,0.02s,0.07s | CG took 0.37s with    0 iterations | alpha : 1.00 | energy = 3.9261966166 | relres = 4.11e-08 |\n",
      "Iter: 23 | assem : 0.02s,0.02s,0.08s | CG took 0.38s with    0 iterations | alpha : 1.00 | energy = 3.9261962670 | relres = 9.74e-09 |\n",
      "Iter: 24 | assem : 0.01s,0.02s,0.06s | CG took 0.36s with    0 iterations | alpha : 1.00 | energy = 3.9261961844 | relres = 9.55e-10 |\n",
      "converged to desired tolerance\n"
     ]
    }
   ],
   "source": [
    "with ngs.TaskManager():\n",
    "    print(\"Using 2D mesh with ne=\", mesh.ne, \"elements and nv=\", mesh.nv, \"points and \" ,H1.ndof, \"DOFs.\\n \")\n",
    "\n",
    "    with ngs.TaskManager(): psi.Set(ngs.CF((0)))\n",
    "\n",
    "    du = ngs.GridFunction(H1)\n",
    "    uo = ngs.GridFunction(H1)\n",
    "    wo = 1e12\n",
    "\n",
    "    for it in range(1,maxit+1):\n",
    "        \n",
    "        tic()\n",
    "        # w  = fun_W()\n",
    "        res = ngs.Integrate(cf_coenergy, mesh)\n",
    "        w = res\n",
    "        tm10 = toc()\n",
    "\n",
    "        tic()\n",
    "        # dw = fun_dW()\n",
    "        rhs.Assemble()\n",
    "        dw = rhs\n",
    "        tm11 = toc()\n",
    "\n",
    "        tic()\n",
    "        # da = fun_ddW()\n",
    "        K_iter.Assemble()\n",
    "        da = K_iter\n",
    "        tm12 = toc()\n",
    "        \n",
    "        tic()\n",
    "        # iterativeSolver = CGSolver(K_iter.mat, freedofs = HCurl.FreeDofs(), atol = 1e-2,  maxiter = maxit, printrates = False)\n",
    "        with ngs.TaskManager():\n",
    "            iterativeSolver = CGSolver(K_iter.mat, pre = C_iter.mat, tol  = 1e-8,  maxiter = maxit)\n",
    "            # iterativeSolver = CGSolver(K_iter.mat, freedofs = H1.FreeDofs(), tol  = 1e-2,  maxiter = maxit)\n",
    "            # du.vec.data = iterativeSolver * dw.vec\n",
    "            du.vec.data = da.mat.Inverse(H1.FreeDofs(), inverse = \"sparsecholesky\") * dw.vec \n",
    "        \n",
    "        if len(iterativeSolver.residuals) == maxit: print(\"... Failure! MaxIT reached!\")\n",
    "        # print(f\"Number of iterations = {iterativeSolver.iterations}/{maxit} | Residual = {iterativeSolver.residuals[-1]}\")\n",
    "        tm2 = toc()\n",
    "\n",
    "        nrm = ngs.InnerProduct(du.vec,dw.vec)\n",
    "        \n",
    "        if it == 1:\n",
    "            nrm0 = nrm\n",
    "\n",
    "        wn = 1e12\n",
    "        # if nrm/nrm0 < tol2:\n",
    "        if abs(wo-w)/abs(w) < tol2:\n",
    "        # if abs(wn-w) < tol2:\n",
    "            print(\"converged to desired tolerance\")\n",
    "            break\n",
    "        # elif abs(wo-w) < tol2*1e-2:\n",
    "        #     print(\"stopped early due to stagnation | energy= %.10f\" %w)\n",
    "        #     break\n",
    "        else:\n",
    "            # linesearch\n",
    "            uo.vec.data = psi.vec.data\n",
    "            wo = w\n",
    "            alpha = 1\n",
    "            for init in range(1,21):\n",
    "                psi.vec.data -= alpha*du.vec.data\n",
    "                wn = fun_W()\n",
    "                if wn < w - alpha*0.01*nrm:\n",
    "                    print(\"Iter: %2d | assem : %.2fs,%.2fs,%.2fs | CG took %.2fs with %4d iterations | alpha : %.2f | energy = %.10f | relres = %.2e |\"  %(it,tm10,tm11,tm12,tm2,iterativeSolver.iterations,alpha,w,nrm/nrm0))\n",
    "                    break\n",
    "                else:\n",
    "                    alpha = alpha/2\n",
    "                    psi.vec.data = uo.vec.data"
   ]
  },
  {
   "cell_type": "code",
   "execution_count": 15,
   "metadata": {},
   "outputs": [
    {
     "data": {
      "application/vnd.jupyter.widget-view+json": {
       "model_id": "2564ab9632a142aa9888399f4a527030",
       "version_major": 2,
       "version_minor": 0
      },
      "text/plain": [
       "WebGuiWidget(layout=Layout(height='500px', width='100%'), value={'gui_settings': {'Objects': {'Wireframe': Fal…"
      ]
     },
     "metadata": {},
     "output_type": "display_data"
    },
    {
     "data": {
      "text/plain": [
       "BaseWebGuiScene"
      ]
     },
     "execution_count": 15,
     "metadata": {},
     "output_type": "execute_result"
    }
   ],
   "source": [
    "B = cf_rhs*H\n",
    "Draw(ngs.log(ngs.Norm(B)), mesh, min = -13, max = 0.5, settings={\"Objects\": {\"Wireframe\": False}})"
   ]
  },
  {
   "cell_type": "code",
   "execution_count": 16,
   "metadata": {},
   "outputs": [
    {
     "name": "stdout",
     "output_type": "stream",
     "text": [
      "0.002988292645154881\n",
      "3.926196177388386\n"
     ]
    }
   ],
   "source": [
    "print(ngs.Integrate(ngs.Norm(B),mesh, order = 0))\n",
    "# print(ngs.Integrate(ngs.Norm(psi),mesh))\n",
    "print(fun_W())"
   ]
  },
  {
   "cell_type": "code",
   "execution_count": 17,
   "metadata": {},
   "outputs": [
    {
     "data": {
      "text/plain": [
       "'B1'"
      ]
     },
     "execution_count": 17,
     "metadata": {},
     "output_type": "execute_result"
    }
   ],
   "source": [
    "scalars = mesh.MaterialCF({\"coil\":1, \"mid_steel\": 2}, default = 0)\n",
    "L2 = ngs.L2(mesh, order = 2)\n",
    "scal = ngs.GridFunction(L2)\n",
    "scal.Set(scalars)\n",
    "\n",
    "vtk = ngs.VTKOutput(mesh, coefs = [B,ngs.curl(Hs),scal,Hs/ngs.Norm(Hs)],names = [\"B\",\"J\",\"scalars\",\"nHS\"], filename = \"B1\", order = 1)\n",
    "vtk.Do()"
   ]
  },
  {
   "cell_type": "code",
   "execution_count": 18,
   "metadata": {},
   "outputs": [
    {
     "ename": "ValueError",
     "evalue": "Data field (B) with type (FieldAssociation.POINT) could not be set as the active vectors",
     "output_type": "error",
     "traceback": [
      "\u001b[1;31m---------------------------------------------------------------------------\u001b[0m",
      "\u001b[1;31mValueError\u001b[0m                                Traceback (most recent call last)",
      "Cell \u001b[1;32mIn[18], line 4\u001b[0m\n\u001b[0;32m      2\u001b[0m pvmesh \u001b[38;5;241m=\u001b[39m pv\u001b[38;5;241m.\u001b[39mread(\u001b[38;5;124m\"\u001b[39m\u001b[38;5;124mB1.vtu\u001b[39m\u001b[38;5;124m\"\u001b[39m)\n\u001b[0;32m      3\u001b[0m pvmesh\u001b[38;5;241m.\u001b[39mset_active_scalars(\u001b[38;5;124m\"\u001b[39m\u001b[38;5;124mscalars\u001b[39m\u001b[38;5;124m\"\u001b[39m)\n\u001b[1;32m----> 4\u001b[0m \u001b[43mpvmesh\u001b[49m\u001b[38;5;241;43m.\u001b[39;49m\u001b[43mset_active_vectors\u001b[49m\u001b[43m(\u001b[49m\u001b[38;5;124;43m\"\u001b[39;49m\u001b[38;5;124;43mB\u001b[39;49m\u001b[38;5;124;43m\"\u001b[39;49m\u001b[43m)\u001b[49m\n\u001b[0;32m      5\u001b[0m threshed \u001b[38;5;241m=\u001b[39m pvmesh\u001b[38;5;241m.\u001b[39mthreshold([\u001b[38;5;241m0.8\u001b[39m,\u001b[38;5;241m2.1\u001b[39m])\n\u001b[0;32m      6\u001b[0m threshed\u001b[38;5;241m.\u001b[39mset_active_vectors(\u001b[38;5;124m\"\u001b[39m\u001b[38;5;124mB\u001b[39m\u001b[38;5;124m\"\u001b[39m)\n",
      "File \u001b[1;32mc:\\Users\\Radu\\anaconda\\envs\\pdefem\\lib\\site-packages\\pyvista\\core\\dataset.py:692\u001b[0m, in \u001b[0;36mDataSet.set_active_vectors\u001b[1;34m(self, name, preference)\u001b[0m\n\u001b[0;32m    689\u001b[0m         \u001b[38;5;28;01mraise\u001b[39;00m \u001b[38;5;167;01mValueError\u001b[39;00m(\u001b[38;5;124mf\u001b[39m\u001b[38;5;124m'\u001b[39m\u001b[38;5;124mData field (\u001b[39m\u001b[38;5;132;01m{\u001b[39;00mname\u001b[38;5;132;01m}\u001b[39;00m\u001b[38;5;124m) with type (\u001b[39m\u001b[38;5;132;01m{\u001b[39;00mfield\u001b[38;5;132;01m}\u001b[39;00m\u001b[38;5;124m) not usable\u001b[39m\u001b[38;5;124m'\u001b[39m)\n\u001b[0;32m    691\u001b[0m     \u001b[38;5;28;01mif\u001b[39;00m ret \u001b[38;5;241m<\u001b[39m \u001b[38;5;241m0\u001b[39m:\n\u001b[1;32m--> 692\u001b[0m         \u001b[38;5;28;01mraise\u001b[39;00m \u001b[38;5;167;01mValueError\u001b[39;00m(\n\u001b[0;32m    693\u001b[0m             \u001b[38;5;124mf\u001b[39m\u001b[38;5;124m'\u001b[39m\u001b[38;5;124mData field (\u001b[39m\u001b[38;5;132;01m{\u001b[39;00mname\u001b[38;5;132;01m}\u001b[39;00m\u001b[38;5;124m) with type (\u001b[39m\u001b[38;5;132;01m{\u001b[39;00mfield\u001b[38;5;132;01m}\u001b[39;00m\u001b[38;5;124m) could not be set as the active vectors\u001b[39m\u001b[38;5;124m'\u001b[39m\n\u001b[0;32m    694\u001b[0m         )\n\u001b[0;32m    696\u001b[0m \u001b[38;5;28mself\u001b[39m\u001b[38;5;241m.\u001b[39m_active_vectors_info \u001b[38;5;241m=\u001b[39m ActiveArrayInfo(field, name)\n\u001b[0;32m    697\u001b[0m \u001b[38;5;28;01mreturn\u001b[39;00m \u001b[38;5;28;01mNone\u001b[39;00m\n",
      "\u001b[1;31mValueError\u001b[0m: Data field (B) with type (FieldAssociation.POINT) could not be set as the active vectors"
     ]
    },
    {
     "ename": "",
     "evalue": "",
     "output_type": "error",
     "traceback": [
      "\u001b[1;31mThe Kernel crashed while executing code in the current cell or a previous cell. \n",
      "\u001b[1;31mPlease review the code in the cell(s) to identify a possible cause of the failure. \n",
      "\u001b[1;31mClick <a href='https://aka.ms/vscodeJupyterKernelCrash'>here</a> for more info. \n",
      "\u001b[1;31mView Jupyter <a href='command:jupyter.viewOutput'>log</a> for further details."
     ]
    }
   ],
   "source": [
    "import pyvista as pv\n",
    "pvmesh = pv.read(\"B1.vtu\")\n",
    "pvmesh.set_active_scalars(\"scalars\")\n",
    "pvmesh.set_active_vectors(\"B\")\n",
    "threshed = pvmesh.threshold([0.8,2.1])\n",
    "threshed.set_active_vectors(\"B\")\n",
    "\n",
    "p = pv.Plotter()\n",
    "p.add_mesh(threshed, style = 'surface', color = \"w\", opacity = 0.01, label = None)\n",
    "\n",
    "arrows = pvmesh.glyph(scale = \"B\", orient = True, tolerance = 0.01, factor = 0.01) #0.8\n",
    "# arrows = pvmesh.glyph(scale = \"nHS\", orient = True, tolerance = 0.01, factor = 0.01)\n",
    "# arrows = pvmesh.glyph(scale = \"B\", orient = True, tolerance = 0.01, factor = 0.5)\n",
    "p.add_mesh(arrows, color = \"yellow\")\n",
    "\n",
    "pvmesh.set_active_vectors(\"J\")\n",
    "arrows2 = pvmesh.glyph(scale = \"J\", orient = True, tolerance = 0.001, factor = 1*1e-8)\n",
    "p.add_mesh(arrows2, color = \"black\")\n",
    "\n",
    "p.show(jupyter_backend = \"html\")\n",
    "# p.show()"
   ]
  },
  {
   "cell_type": "code",
   "execution_count": null,
   "metadata": {},
   "outputs": [],
   "source": [
    "1j*5+2"
   ]
  },
  {
   "cell_type": "code",
   "execution_count": null,
   "metadata": {},
   "outputs": [],
   "source": []
  }
 ],
 "metadata": {
  "kernelspec": {
   "display_name": "pdefem",
   "language": "python",
   "name": "python3"
  },
  "language_info": {
   "codemirror_mode": {
    "name": "ipython",
    "version": 3
   },
   "file_extension": ".py",
   "mimetype": "text/x-python",
   "name": "python",
   "nbconvert_exporter": "python",
   "pygments_lexer": "ipython3",
   "version": "3.10.13"
  }
 },
 "nbformat": 4,
 "nbformat_minor": 2
}
