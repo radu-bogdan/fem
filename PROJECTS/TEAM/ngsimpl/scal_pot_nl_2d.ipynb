{
 "cells": [
  {
   "cell_type": "code",
   "execution_count": 237,
   "metadata": {},
   "outputs": [
    {
     "data": {
      "text/plain": [
       "<ngsolve.comp.Mesh at 0x22da9378950>"
      ]
     },
     "execution_count": 237,
     "metadata": {},
     "output_type": "execute_result"
    }
   ],
   "source": [
    "import ngsolve as ngs\n",
    "from netgen.webgui import Draw as DrawGeo\n",
    "from ngsolve.webgui import Draw\n",
    "from ngsolve.krylovspace import CGSolver\n",
    "from ttictoc import tic, toc\n",
    "\n",
    "mesh = ngs.Mesh('team10_2d.vol')\n",
    "mesh.Curve(2)\n",
    "# mesh.Refine()\n",
    "# ngs.ngsglobals.msg_level = 0\n",
    "# ngs.SetHeapSize(100*1000*1000)"
   ]
  },
  {
   "cell_type": "code",
   "execution_count": 238,
   "metadata": {},
   "outputs": [
    {
     "name": "stdout",
     "output_type": "stream",
     "text": [
      "using 3d mesh with ne= 29552  elements and nv= 15017  points\n"
     ]
    }
   ],
   "source": [
    "%run J_2d.ipynb"
   ]
  },
  {
   "cell_type": "code",
   "execution_count": 239,
   "metadata": {},
   "outputs": [
    {
     "name": "stdout",
     "output_type": "stream",
     "text": [
      "BH data from TEAM 13 problem\n",
      "returning coenergy\n"
     ]
    }
   ],
   "source": [
    "from bhdata import BHCurves\n",
    "fun_dw  = BHCurves(-4)\n",
    "fun_w   = fun_dw.Integrate()\n",
    "fun_ddw = fun_dw.Differentiate()\n",
    "\n",
    "mu0 = 1.256636e-6\n",
    "nu0 = 1/mu0\n",
    "\n",
    "linear = \"coil|ambient|default\"\n",
    "nonlinear = \"r_steel|l_steel|mid_steel\"\n",
    "\n",
    "lin = 0"
   ]
  },
  {
   "cell_type": "code",
   "execution_count": 240,
   "metadata": {},
   "outputs": [],
   "source": [
    "# print(HCurl.ndof)\n",
    "# print(mesh.GetMaterials())\n",
    "\n",
    "p = 1\n",
    "\n",
    "H1 = ngs.H1(mesh, order = p)\n",
    "# H1 = ngs.H1(mesh, order = p, dirichlet = 'ambient_face')\n",
    "u,v = H1.TnT()\n",
    "\n",
    "\n",
    "# Nonlinear:\n",
    "maxit = 10000\n",
    "tol2 = 1e-8\n",
    "regh = 1e-12\n",
    "\n",
    "psi = ngs.GridFunction(H1)\n",
    "H = ngs.grad(psi) + Hs\n",
    "normH = ngs.sqrt(H*H + regh)\n",
    "\n",
    "if lin == 1: cf_coenergy = mesh.MaterialCF({linear: mu0/2*H*H, nonlinear: mu0/2*H*H}, default = mu0/2*H*H).Compile()\n",
    "else: cf_coenergy = mesh.MaterialCF({linear: mu0/2*H*H, nonlinear: fun_w(normH)}, default = mu0/2*H*H).Compile()\n",
    "\n",
    "def fun_W():\n",
    "    # with ngs.TaskManager(): \n",
    "    res = ngs.Integrate(cf_coenergy, mesh)\n",
    "    return res\n",
    "\n",
    "if lin == 1: cf_rhs = mesh.MaterialCF({linear: mu0, nonlinear: mu0}, default = mu0).Compile()\n",
    "else: cf_rhs = mesh.MaterialCF({linear: mu0, nonlinear: fun_dw(normH)/normH}, default = mu0).Compile()\n",
    "rhs = ngs.LinearForm(cf_rhs*H*ngs.grad(v)*ngs.dx)\n",
    "\n",
    "def fun_dW(): #implicitly depending on A!\n",
    "    # with ngs.TaskManager(): \n",
    "    rhs.Assemble()\n",
    "    return rhs\n",
    "\n",
    "\n",
    "Id = ngs.CF((1,0,\n",
    "             0,1), dims=(2,2))\n",
    "\n",
    "HHt = ngs.CF((H[0]*H[0], H[0]*H[1],\n",
    "              H[1]*H[0], H[1]*H[1]), dims=(2,2))\n",
    "\n",
    "\n",
    "fun1 = fun_dw(normH)/normH\n",
    "fun2 = (fun_ddw(normH) - fun_dw(normH)/normH)/(normH*normH)\n",
    "\n",
    "if lin == 1: cf_iter = mesh.MaterialCF({linear: mu0*Id, nonlinear: mu0*Id}, default = mu0*Id).Compile()\n",
    "else: cf_iter = mesh.MaterialCF({linear: mu0*Id, nonlinear: fun1*Id + fun2*HHt}, default = mu0*Id).Compile()\n",
    "\n",
    "K_iter = ngs.BilinearForm(H1)\n",
    "K_iter += ((cf_iter*ngs.grad(u))*ngs.grad(v))*ngs.dx\n",
    "\n",
    "C_iter = ngs.Preconditioner(K_iter, type = \"local\")\n",
    "\n",
    "def fun_ddW():\n",
    "    # with ngs.TaskManager(): \n",
    "    K_iter.Assemble()\n",
    "    return K_iter"
   ]
  },
  {
   "cell_type": "code",
   "execution_count": 241,
   "metadata": {},
   "outputs": [
    {
     "name": "stdout",
     "output_type": "stream",
     "text": [
      "Using 3D mesh with ne= 29552 elements and nv= 15017 points and  15017 DOFs.\n",
      " \n",
      "Iter:  1 | assem : 0.01s,0.01s,0.02s | CG took 0.20s with 1415 iterations | alpha : 0.25 | energy = 9.4224836041 | relres = 1.00e+00 |\n",
      "Iter:  2 | assem : 0.00s,0.01s,0.02s | CG took 0.21s with 1382 iterations | alpha : 0.12 | energy = 7.7249626887 | relres = 1.68e+00 |\n",
      "Iter:  3 | assem : 0.01s,0.01s,0.05s | CG took 0.22s with 1494 iterations | alpha : 0.12 | energy = 6.9169688636 | relres = 1.04e+00 |\n",
      "Iter:  4 | assem : 0.01s,0.03s,0.04s | CG took 0.21s with 1382 iterations | alpha : 0.12 | energy = 5.8125520874 | relres = 6.54e-01 |\n",
      "Iter:  5 | assem : 0.01s,0.01s,0.04s | CG took 0.19s with 1290 iterations | alpha : 0.12 | energy = 5.3841183853 | relres = 4.26e-01 |\n",
      "Iter:  6 | assem : 0.00s,0.01s,0.02s | CG took 0.19s with 1244 iterations | alpha : 0.12 | energy = 5.0807132458 | relres = 3.13e-01 |\n",
      "Iter:  7 | assem : 0.01s,0.01s,0.03s | CG took 0.18s with 1206 iterations | alpha : 0.12 | energy = 4.9013658236 | relres = 2.15e-01 |\n",
      "Iter:  8 | assem : 0.01s,0.01s,0.02s | CG took 0.17s with 1150 iterations | alpha : 0.12 | energy = 4.7358515017 | relres = 1.61e-01 |\n",
      "Iter:  9 | assem : 0.00s,0.01s,0.03s | CG took 0.17s with 1134 iterations | alpha : 0.12 | energy = 4.6700337924 | relres = 1.24e-01 |\n",
      "Iter: 10 | assem : 0.01s,0.01s,0.02s | CG took 0.16s with 1083 iterations | alpha : 0.12 | energy = 4.5900861362 | relres = 9.91e-02 |\n",
      "Iter: 11 | assem : 0.00s,0.01s,0.02s | CG took 0.16s with 1053 iterations | alpha : 0.12 | energy = 4.5462378751 | relres = 7.30e-02 |\n",
      "Iter: 12 | assem : 0.01s,0.01s,0.02s | CG took 0.18s with 1048 iterations | alpha : 0.06 | energy = 4.5040706180 | relres = 6.45e-02 |\n",
      "Iter: 13 | assem : 0.01s,0.01s,0.02s | CG took 0.18s with 1079 iterations | alpha : 1.00 | energy = 4.4226863018 | relres = 4.48e-03 |\n",
      "Iter: 14 | assem : 0.01s,0.02s,0.05s | CG took 0.18s with 1014 iterations | alpha : 0.25 | energy = 4.3797637340 | relres = 1.63e-03 |\n",
      "Iter: 15 | assem : 0.01s,0.02s,0.02s | CG took 0.17s with  995 iterations | alpha : 0.12 | energy = 4.3785466023 | relres = 4.45e-03 |\n",
      "Iter: 16 | assem : 0.01s,0.01s,0.02s | CG took 0.17s with 1005 iterations | alpha : 0.12 | energy = 4.3764552354 | relres = 8.97e-04 |\n",
      "Iter: 17 | assem : 0.01s,0.01s,0.03s | CG took 0.18s with 1016 iterations | alpha : 1.00 | energy = 4.3739531195 | relres = 9.66e-05 |\n",
      "Iter: 18 | assem : 0.01s,0.03s,0.05s | CG took 0.17s with  985 iterations | alpha : 1.00 | energy = 4.3734652306 | relres = 2.62e-05 |\n",
      "Iter: 19 | assem : 0.01s,0.02s,0.03s | CG took 0.16s with  939 iterations | alpha : 1.00 | energy = 4.3730481046 | relres = 9.18e-06 |\n",
      "Iter: 20 | assem : 0.01s,0.01s,0.02s | CG took 0.16s with  956 iterations | alpha : 1.00 | energy = 4.3729780275 | relres = 1.11e-06 |\n",
      "Iter: 21 | assem : 0.01s,0.02s,0.04s | CG took 0.16s with  917 iterations | alpha : 1.00 | energy = 4.3729645535 | relres = 3.76e-09 |\n",
      "Iter: 22 | assem : 0.01s,0.01s,0.02s | CG took 0.17s with  991 iterations | alpha : 1.00 | energy = 4.3729645110 | relres = 2.30e-10 |\n",
      "converged to desired tolerance\n"
     ]
    }
   ],
   "source": [
    "with ngs.TaskManager():\n",
    "    print(\"Using 3D mesh with ne=\", mesh.ne, \"elements and nv=\", mesh.nv, \"points and \" ,H1.ndof, \"DOFs.\\n \")\n",
    "\n",
    "    with ngs.TaskManager(): psi.Set(ngs.CF((0)))\n",
    "\n",
    "    du = ngs.GridFunction(H1)\n",
    "    uo = ngs.GridFunction(H1)\n",
    "    wo = 1e12\n",
    "\n",
    "    for it in range(1,maxit+1):\n",
    "        \n",
    "        tic()\n",
    "        # w  = fun_W()\n",
    "        res = ngs.Integrate(cf_coenergy, mesh)\n",
    "        w = res\n",
    "        tm10 = toc()\n",
    "\n",
    "        tic()\n",
    "        # dw = fun_dW()\n",
    "        rhs.Assemble()\n",
    "        dw = rhs\n",
    "        tm11 = toc()\n",
    "\n",
    "        tic()\n",
    "        # da = fun_ddW()\n",
    "        K_iter.Assemble()\n",
    "        da = K_iter\n",
    "        tm12 = toc()\n",
    "        \n",
    "        tic()\n",
    "        # iterativeSolver = CGSolver(K_iter.mat, freedofs = HCurl.FreeDofs(), atol = 1e-2,  maxiter = maxit, printrates = False)\n",
    "        with ngs.TaskManager():\n",
    "            iterativeSolver = CGSolver(K_iter.mat, pre = C_iter.mat, tol  = 1e-8,  maxiter = maxit)\n",
    "            # iterativeSolver = CGSolver(K_iter.mat, freedofs = H1.FreeDofs(), tol  = 1e-2,  maxiter = maxit)\n",
    "            du.vec.data = iterativeSolver * dw.vec\n",
    "            # du.vec.data = da.mat.Inverse(H1.FreeDofs(), inverse=\"sparsecholesky\") * dw.vec \n",
    "        \n",
    "        if len(iterativeSolver.residuals) == maxit: print(\"... Failure! MaxIT reached!\")\n",
    "        # print(f\"Number of iterations = {iterativeSolver.iterations}/{maxit} | Residual = {iterativeSolver.residuals[-1]}\")\n",
    "        tm2 = toc()\n",
    "\n",
    "        nrm = ngs.InnerProduct(du.vec,dw.vec)\n",
    "        \n",
    "        if it == 1:\n",
    "            nrm0 = nrm\n",
    "\n",
    "        wn = 1e12\n",
    "        # if nrm/nrm0 < tol2:\n",
    "        if abs(wo-w) < tol2:\n",
    "        # if abs(wn-w) < tol2:\n",
    "            print(\"converged to desired tolerance\")\n",
    "            break\n",
    "        # elif abs(wo-w) < tol2*1e-2:\n",
    "        #     print(\"stopped early due to stagnation\")\n",
    "        #     break\n",
    "        else:\n",
    "            # linesearch\n",
    "            uo.vec.data = psi.vec.data\n",
    "            wo = w\n",
    "            alpha = 1\n",
    "            for init in range(1,21):\n",
    "                psi.vec.data -= alpha*du.vec.data\n",
    "                wn = fun_W()\n",
    "                if wn < w - alpha*0.1*nrm:\n",
    "                    print(\"Iter: %2d | assem : %.2fs,%.2fs,%.2fs | CG took %.2fs with %4d iterations | alpha : %.2f | energy = %.10f | relres = %.2e |\"  %(it,tm10,tm11,tm12,tm2,iterativeSolver.iterations,alpha,w,nrm/nrm0))\n",
    "                    break\n",
    "                else:\n",
    "                    alpha = alpha/2\n",
    "                    psi.vec.data = uo.vec.data"
   ]
  },
  {
   "cell_type": "code",
   "execution_count": 242,
   "metadata": {},
   "outputs": [
    {
     "data": {
      "application/vnd.jupyter.widget-view+json": {
       "model_id": "ee0876037c8d4a64885809718547e089",
       "version_major": 2,
       "version_minor": 0
      },
      "text/plain": [
       "WebGuiWidget(layout=Layout(height='500px', width='100%'), value={'gui_settings': {'Objects': {'Wireframe': Fal…"
      ]
     },
     "metadata": {},
     "output_type": "display_data"
    },
    {
     "data": {
      "text/plain": [
       "BaseWebGuiScene"
      ]
     },
     "execution_count": 242,
     "metadata": {},
     "output_type": "execute_result"
    }
   ],
   "source": [
    "B = cf_rhs*H\n",
    "Draw(ngs.log(ngs.Norm(B)), mesh, min = -13, max = 0.5, settings={\"Objects\": {\"Wireframe\": False}})"
   ]
  },
  {
   "cell_type": "code",
   "execution_count": 243,
   "metadata": {},
   "outputs": [
    {
     "name": "stdout",
     "output_type": "stream",
     "text": [
      "0.0031534720265929883\n",
      "4.372964510007535\n"
     ]
    }
   ],
   "source": [
    "print(ngs.Integrate(ngs.Norm(B),mesh))\n",
    "print(fun_W())"
   ]
  },
  {
   "cell_type": "code",
   "execution_count": 244,
   "metadata": {},
   "outputs": [
    {
     "data": {
      "text/plain": [
       "'B1'"
      ]
     },
     "execution_count": 244,
     "metadata": {},
     "output_type": "execute_result"
    }
   ],
   "source": [
    "scalars = mesh.MaterialCF({\"coil\":1, \"mid_steel\": 2}, default = 0)\n",
    "L2 = ngs.L2(mesh, order = 2)\n",
    "scal = ngs.GridFunction(L2)\n",
    "scal.Set(scalars)\n",
    "\n",
    "vtk = ngs.VTKOutput(mesh, coefs = [B,ngs.curl(Hs),scal,Hs/ngs.Norm(Hs)],names = [\"B\",\"J\",\"scalars\",\"nHS\"], filename = \"B1\", order = 1)\n",
    "vtk.Do()"
   ]
  },
  {
   "cell_type": "code",
   "execution_count": 245,
   "metadata": {},
   "outputs": [
    {
     "ename": "ValueError",
     "evalue": "Data field (B) with type (FieldAssociation.POINT) could not be set as the active vectors",
     "output_type": "error",
     "traceback": [
      "\u001b[1;31m---------------------------------------------------------------------------\u001b[0m",
      "\u001b[1;31mValueError\u001b[0m                                Traceback (most recent call last)",
      "Cell \u001b[1;32mIn[245], line 4\u001b[0m\n\u001b[0;32m      2\u001b[0m pvmesh \u001b[38;5;241m=\u001b[39m pv\u001b[38;5;241m.\u001b[39mread(\u001b[38;5;124m\"\u001b[39m\u001b[38;5;124mB1.vtu\u001b[39m\u001b[38;5;124m\"\u001b[39m)\n\u001b[0;32m      3\u001b[0m pvmesh\u001b[38;5;241m.\u001b[39mset_active_scalars(\u001b[38;5;124m\"\u001b[39m\u001b[38;5;124mscalars\u001b[39m\u001b[38;5;124m\"\u001b[39m)\n\u001b[1;32m----> 4\u001b[0m \u001b[43mpvmesh\u001b[49m\u001b[38;5;241;43m.\u001b[39;49m\u001b[43mset_active_vectors\u001b[49m\u001b[43m(\u001b[49m\u001b[38;5;124;43m\"\u001b[39;49m\u001b[38;5;124;43mB\u001b[39;49m\u001b[38;5;124;43m\"\u001b[39;49m\u001b[43m)\u001b[49m\n\u001b[0;32m      5\u001b[0m threshed \u001b[38;5;241m=\u001b[39m pvmesh\u001b[38;5;241m.\u001b[39mthreshold([\u001b[38;5;241m0.8\u001b[39m,\u001b[38;5;241m2.1\u001b[39m])\n\u001b[0;32m      6\u001b[0m threshed\u001b[38;5;241m.\u001b[39mset_active_vectors(\u001b[38;5;124m\"\u001b[39m\u001b[38;5;124mB\u001b[39m\u001b[38;5;124m\"\u001b[39m)\n",
      "File \u001b[1;32mc:\\Users\\Radu\\anaconda\\envs\\pdefem\\lib\\site-packages\\pyvista\\core\\dataset.py:692\u001b[0m, in \u001b[0;36mDataSet.set_active_vectors\u001b[1;34m(self, name, preference)\u001b[0m\n\u001b[0;32m    689\u001b[0m         \u001b[38;5;28;01mraise\u001b[39;00m \u001b[38;5;167;01mValueError\u001b[39;00m(\u001b[38;5;124mf\u001b[39m\u001b[38;5;124m'\u001b[39m\u001b[38;5;124mData field (\u001b[39m\u001b[38;5;132;01m{\u001b[39;00mname\u001b[38;5;132;01m}\u001b[39;00m\u001b[38;5;124m) with type (\u001b[39m\u001b[38;5;132;01m{\u001b[39;00mfield\u001b[38;5;132;01m}\u001b[39;00m\u001b[38;5;124m) not usable\u001b[39m\u001b[38;5;124m'\u001b[39m)\n\u001b[0;32m    691\u001b[0m     \u001b[38;5;28;01mif\u001b[39;00m ret \u001b[38;5;241m<\u001b[39m \u001b[38;5;241m0\u001b[39m:\n\u001b[1;32m--> 692\u001b[0m         \u001b[38;5;28;01mraise\u001b[39;00m \u001b[38;5;167;01mValueError\u001b[39;00m(\n\u001b[0;32m    693\u001b[0m             \u001b[38;5;124mf\u001b[39m\u001b[38;5;124m'\u001b[39m\u001b[38;5;124mData field (\u001b[39m\u001b[38;5;132;01m{\u001b[39;00mname\u001b[38;5;132;01m}\u001b[39;00m\u001b[38;5;124m) with type (\u001b[39m\u001b[38;5;132;01m{\u001b[39;00mfield\u001b[38;5;132;01m}\u001b[39;00m\u001b[38;5;124m) could not be set as the active vectors\u001b[39m\u001b[38;5;124m'\u001b[39m\n\u001b[0;32m    694\u001b[0m         )\n\u001b[0;32m    696\u001b[0m \u001b[38;5;28mself\u001b[39m\u001b[38;5;241m.\u001b[39m_active_vectors_info \u001b[38;5;241m=\u001b[39m ActiveArrayInfo(field, name)\n\u001b[0;32m    697\u001b[0m \u001b[38;5;28;01mreturn\u001b[39;00m \u001b[38;5;28;01mNone\u001b[39;00m\n",
      "\u001b[1;31mValueError\u001b[0m: Data field (B) with type (FieldAssociation.POINT) could not be set as the active vectors"
     ]
    }
   ],
   "source": [
    "import pyvista as pv\n",
    "pvmesh = pv.read(\"B1.vtu\")\n",
    "pvmesh.set_active_scalars(\"scalars\")\n",
    "pvmesh.set_active_vectors(\"B\")\n",
    "threshed = pvmesh.threshold([0.8,2.1])\n",
    "threshed.set_active_vectors(\"B\")\n",
    "\n",
    "p = pv.Plotter()\n",
    "p.add_mesh(threshed, style = 'surface', color = \"w\", opacity = 0.01, label = None)\n",
    "\n",
    "arrows = pvmesh.glyph(scale = \"B\", orient = True, tolerance = 0.01, factor = 0.01) #0.8\n",
    "# arrows = pvmesh.glyph(scale = \"nHS\", orient = True, tolerance = 0.01, factor = 0.01)\n",
    "# arrows = pvmesh.glyph(scale = \"B\", orient = True, tolerance = 0.01, factor = 0.5)\n",
    "p.add_mesh(arrows, color = \"yellow\")\n",
    "\n",
    "pvmesh.set_active_vectors(\"J\")\n",
    "arrows2 = pvmesh.glyph(scale = \"J\", orient = True, tolerance = 0.001, factor = 1*1e-8)\n",
    "p.add_mesh(arrows2, color = \"black\")\n",
    "\n",
    "p.show(jupyter_backend = \"html\")\n",
    "# p.show()"
   ]
  }
 ],
 "metadata": {
  "kernelspec": {
   "display_name": "pdefem",
   "language": "python",
   "name": "python3"
  },
  "language_info": {
   "codemirror_mode": {
    "name": "ipython",
    "version": 3
   },
   "file_extension": ".py",
   "mimetype": "text/x-python",
   "name": "python",
   "nbconvert_exporter": "python",
   "pygments_lexer": "ipython3",
   "version": "3.10.13"
  }
 },
 "nbformat": 4,
 "nbformat_minor": 2
}
