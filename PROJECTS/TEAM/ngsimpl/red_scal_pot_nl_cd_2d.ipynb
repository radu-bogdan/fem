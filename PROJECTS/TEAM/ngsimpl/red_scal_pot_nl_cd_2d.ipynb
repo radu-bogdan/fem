{
 "cells": [
  {
   "cell_type": "code",
   "execution_count": 23,
   "metadata": {},
   "outputs": [],
   "source": [
    "# import netgen.gui\n",
    "import ngsolve as ngs\n",
    "from netgen.webgui import Draw as DrawGeo\n",
    "from ngsolve.webgui import Draw\n",
    "from ttictoc import tic, toc\n",
    "from ngsolve.krylovspace import CGSolver\n",
    "\n",
    "mesh = ngs.Mesh('team10_2d.vol')\n",
    "# mesh.Curve(2)\n",
    "# mesh.Refine()"
   ]
  },
  {
   "cell_type": "code",
   "execution_count": 24,
   "metadata": {},
   "outputs": [
    {
     "name": "stdout",
     "output_type": "stream",
     "text": [
      "Using 2D mesh with ne= 52064 elements and nv= 26337 points and  78400 edges and  626593 DOFs. Actual DOFs after condensation: 418337 .\n",
      " \n"
     ]
    }
   ],
   "source": [
    "%run J_2D.ipynb"
   ]
  },
  {
   "cell_type": "code",
   "execution_count": 25,
   "metadata": {},
   "outputs": [
    {
     "name": "stdout",
     "output_type": "stream",
     "text": [
      "BH data from TEAM 20 problem\n",
      "returning energy\n"
     ]
    }
   ],
   "source": [
    "from bhdata import BHCurves\n",
    "fun_dw  = BHCurves(3)\n",
    "fun_w   = fun_dw.Integrate()\n",
    "fun_ddw = fun_dw.Differentiate()\n",
    "\n",
    "mu0 = 1.256636e-6\n",
    "nu0 = 1/mu0\n",
    "\n",
    "linear = \"coil_plus|coil_minus|ambient|default\"\n",
    "nonlinear = \"r_steel|l_steel|mid_steel\"\n",
    "\n",
    "lin = 0"
   ]
  },
  {
   "cell_type": "code",
   "execution_count": 26,
   "metadata": {},
   "outputs": [],
   "source": [
    "\n",
    "\n",
    "Q = ngs.VectorL2(mesh, order = deg-1)\n",
    "V = ngs.H1(mesh, order = deg)\n",
    "# V = ngs.H1(mesh, order = p, dirichlet = \"ambient_face\")\n",
    "\n",
    "X = Q*V\n",
    "(p,u), (q,v) = X.TnT()\n",
    "\n",
    "# Nonlinear:\n",
    "\n",
    "maxit = int(1e7)\n",
    "\n",
    "tol2 = 1e-8\n",
    "regb = 1e-14\n",
    "\n",
    "B_psi = ngs.GridFunction(X)\n",
    "\n",
    "B = B_psi.components[0]\n",
    "psi = B_psi.components[1]\n",
    "\n",
    "normB = ngs.sqrt(B*B + regb)\n",
    "\n",
    "if lin == 1: cf_energy = mesh.MaterialCF({linear: nu0/2*B*B, nonlinear: nu0/2*B*B}, default = nu0/2*B*B).Compile()\n",
    "cf_energy = mesh.MaterialCF({linear: nu0/2*B*B, nonlinear: fun_w(normB)}, default = nu0/2*B*B).Compile()\n",
    "\n",
    "def fun_W():\n",
    "    with ngs.TaskManager(): res = ngs.Integrate(cf_energy - Hs*B, mesh)\n",
    "    return res\n",
    "\n",
    "if lin == 1: cf_rhs = mesh.MaterialCF({linear: nu0, nonlinear: nu0}, default = nu0).Compile()\n",
    "else: cf_rhs = mesh.MaterialCF({linear: nu0, nonlinear: fun_dw(normB)/normB}, default = nu0).Compile()\n",
    "\n",
    "# ir = ngs.IntegrationRule(points = [(1/3,1/3)], weights = [1/2])\n",
    "ir = ngs.IntegrationRule(ngs.fem.ET.TRIG, order = 2*deg)\n",
    "\n",
    "# rhs = ngs.LinearForm((cf_rhs*B*q -ngs.grad(psi)*q -Hs*q +B*ngs.grad(v))*ngs.dx)\n",
    "rhs = ngs.LinearForm(X)\n",
    "rhs += ngs.SymbolicLFI(cf_rhs*B*q -ngs.grad(psi)*q -Hs*q +B*ngs.grad(v), intrule = ir)\n",
    "\n",
    "def fun_dW():\n",
    "    with ngs.TaskManager(): rhs.Assemble()\n",
    "    return rhs\n",
    "\n",
    "Id = ngs.CF((1,0,\n",
    "             0,1), dims=(2,2)).Compile()\n",
    "\n",
    "BBt = ngs.CF((B[0]*B[0], B[0]*B[1],\n",
    "              B[1]*B[0], B[1]*B[1]), dims = (2,2)).Compile()\n",
    "\n",
    "fun1 = fun_dw(normB)/normB\n",
    "fun2 = (fun_ddw(normB) - fun_dw(normB)/normB)/(normB*normB)\n",
    "\n",
    "if lin == 1: cf_iter = mesh.MaterialCF({linear: nu0*Id, nonlinear: nu0*Id}, default = nu0*Id).Compile()\n",
    "else: cf_iter = mesh.MaterialCF({linear: nu0*Id, nonlinear: fun1*Id + fun2*BBt}, default = nu0*Id)\n",
    "\n",
    "K_iter = ngs.BilinearForm(X, condense=True)\n",
    "# K_iter += ngs.SymbolicBFI(cf_iter*p*q - ngs.grad(u)*q + p*ngs.grad(v))\n",
    "K_iter += ngs.SymbolicBFI(cf_iter*p*q - ngs.grad(u)*q + p*ngs.grad(v), intrule = ir)\n",
    "# C_iter = ngs.Preconditioner(K_iter, type = \"local\")\n",
    "\n",
    "def fun_ddW():\n",
    "    with ngs.TaskManager(): K_iter.Assemble()\n",
    "    return K_iter\n"
   ]
  },
  {
   "cell_type": "code",
   "execution_count": 27,
   "metadata": {},
   "outputs": [
    {
     "name": "stdout",
     "output_type": "stream",
     "text": [
      "Using 2D mesh with ne= 52064 elements and nv= 26337 points and  417121 DOFs. Actual DOFs after condensation: 104737 .\n",
      " \n",
      "Iter:  1 | assem : 0.17s | CG took 0.32s with    0 iterations | alpha : 1.00 | energy = 0.0000000000 | relres = 1.00e+00 |\n",
      "Iter:  2 | assem : 0.27s | CG took 0.23s with    0 iterations | alpha : 0.50 | energy = -2.8918515033 | relres = 8.37e-01 |\n",
      "Iter:  3 | assem : 0.19s | CG took 0.22s with    0 iterations | alpha : 1.00 | energy = -3.8702469699 | relres = 2.73e-02 |\n",
      "Iter:  4 | assem : 0.20s | CG took 0.22s with    0 iterations | alpha : 1.00 | energy = -3.9257077494 | relres = 2.21e-04 |\n",
      "Iter:  5 | assem : 0.17s | CG took 0.23s with    0 iterations | alpha : 1.00 | energy = -3.9261579191 | relres = 3.22e-06 |\n",
      "Iter:  6 | assem : 0.20s | CG took 0.23s with    0 iterations | alpha : 1.00 | energy = -3.9261648600 | relres = 1.37e-07 |\n",
      "Iter:  7 | assem : 0.19s | CG took 0.21s with    0 iterations | alpha : 1.00 | energy = -3.9261651616 | relres = 4.10e-09 |\n",
      "converged to desired tolerance\n"
     ]
    }
   ],
   "source": [
    "import numpy as np\n",
    "actual_ndof = np.argwhere(X.FreeDofs(True)).size\n",
    "\n",
    "print(\"Using 2D mesh with ne=\", mesh.ne, \"elements and nv=\", mesh.nv, \"points and \" ,X.ndof, \"DOFs. Actual DOFs after condensation:\", actual_ndof, \".\\n \")\n",
    "\n",
    "with ngs.TaskManager(): B.Set(ngs.CF((0,0)))\n",
    "with ngs.TaskManager(): psi.Set(ngs.CF((0)))\n",
    "\n",
    "du = ngs.GridFunction(X)\n",
    "uo = ngs.GridFunction(X)\n",
    "wo = 1e12\n",
    "\n",
    "for it in range(1,maxit+1):\n",
    "    \n",
    "    tic()\n",
    "    # with ngs.TaskManager():\n",
    "    #     K_iter.Assemble()\n",
    "    #     rhs.Assemble()\n",
    "    #     res = ngs.Integrate(cf_energy - Hs*ngs.curl(A), mesh)\n",
    "    \n",
    "    w  = fun_W()\n",
    "    dw = fun_dW()\n",
    "    da = fun_ddW()\n",
    "    tm1 = toc()\n",
    "    \n",
    "    tic()\n",
    "    with ngs.TaskManager():\n",
    "\n",
    "        invS = da.mat.Inverse(freedofs = X.FreeDofs(coupling=True))\n",
    "        ext = ngs.IdentityMatrix() + da.harmonic_extension\n",
    "        extT = ngs.IdentityMatrix() + da.harmonic_extension_trans\n",
    "        invA =  ext @ invS @ extT + da.inner_solve\n",
    "\n",
    "        du.vec.data = invA * dw.vec\n",
    "        \n",
    "        iterativeSolver = CGSolver(invA, freedofs = X.FreeDofs(coupling=True), tol  = 1e-2,  maxiter = maxit)\n",
    "        # du.vec.data = iterativeSolver * dw.vec\n",
    "    \n",
    "    # if len(iterativeSolver.residuals) == maxit: print(\"... reached maxit!\")\n",
    "    # print(f\"Number of iterations = {iterativeSolver.iterations}/{maxit} | Residual = {iterativeSolver.residuals[-1]}\")\n",
    "    tm2 = toc()\n",
    "\n",
    "    nrm = ngs.InnerProduct(du.vec,dw.vec)\n",
    "    \n",
    "    if it == 1:\n",
    "        nrm0 = nrm\n",
    "\n",
    "    wn = 1e12\n",
    "    # if abs(wo-w) < tol2:\n",
    "    if abs(wo-w)/abs(w) < tol2:\n",
    "    # if nrm/nrm0 < tol2:\n",
    "        print(\"converged to desired tolerance\")\n",
    "        break\n",
    "    # elif abs(wo-w) < tol2*1e-5:\n",
    "    #     print(\"stopped early due to stagnation\")\n",
    "    #     break\n",
    "    else:\n",
    "        # linesearch\n",
    "        uo.vec.data = B_psi.vec.data\n",
    "        wo = w\n",
    "        alpha = 1\n",
    "        for init in range(1,21):\n",
    "            B_psi.vec.data -= alpha*du.vec.data\n",
    "            wn = fun_W()\n",
    "            if wn < w - alpha*0.01*nrm:\n",
    "                print(\"Iter: %2d | assem : %.2fs | CG took %.2fs with %4d iterations | alpha : %.2f | energy = %.10f | relres = %.2e |\"  %(it,tm1,tm2,iterativeSolver.iterations,alpha,w,nrm/nrm0))\n",
    "                break\n",
    "            else:\n",
    "                alpha = alpha/2\n",
    "                B_psi.vec.data = uo.vec.data"
   ]
  },
  {
   "cell_type": "code",
   "execution_count": 28,
   "metadata": {},
   "outputs": [
    {
     "data": {
      "application/vnd.jupyter.widget-view+json": {
       "model_id": "07be5f975f02454cba93a1b52c5bfb18",
       "version_major": 2,
       "version_minor": 0
      },
      "text/plain": [
       "WebGuiWidget(layout=Layout(height='500px', width='100%'), value={'gui_settings': {'Objects': {'Wireframe': Fal…"
      ]
     },
     "metadata": {},
     "output_type": "display_data"
    },
    {
     "data": {
      "text/plain": [
       "BaseWebGuiScene"
      ]
     },
     "execution_count": 28,
     "metadata": {},
     "output_type": "execute_result"
    }
   ],
   "source": [
    "Draw(ngs.log(ngs.Norm(B)), mesh, min = -13, max = 0.5, settings={\"Objects\": {\"Wireframe\": False}})"
   ]
  },
  {
   "cell_type": "code",
   "execution_count": 29,
   "metadata": {},
   "outputs": [
    {
     "name": "stdout",
     "output_type": "stream",
     "text": [
      "0.0029881548003558543\n",
      "-3.926165168113358\n"
     ]
    }
   ],
   "source": [
    "print(ngs.Integrate(ngs.Norm(B),mesh, order = 0))\n",
    "# print(ngs.Integrate(ngs.Norm(psi),mesh))\n",
    "print(fun_W())"
   ]
  },
  {
   "cell_type": "code",
   "execution_count": 30,
   "metadata": {},
   "outputs": [
    {
     "data": {
      "text/plain": [
       "'B2'"
      ]
     },
     "execution_count": 30,
     "metadata": {},
     "output_type": "execute_result"
    }
   ],
   "source": [
    "scalars = mesh.MaterialCF({\"coil\": 1, \"mid_steel\": 2}, default = 0)\n",
    "L2 = ngs.L2(mesh, order = 2)\n",
    "scal = ngs.GridFunction(L2)\n",
    "scal.Set(scalars)\n",
    "\n",
    "vtk = ngs.VTKOutput(mesh, coefs = [B,ngs.curl(Hs),scal],names = [\"B\",\"J\",\"scalars\"], filename = \"B2\", order = 1)\n",
    "vtk.Do()"
   ]
  },
  {
   "cell_type": "code",
   "execution_count": 31,
   "metadata": {},
   "outputs": [
    {
     "ename": "ValueError",
     "evalue": "Data field (B) with type (FieldAssociation.POINT) could not be set as the active vectors",
     "output_type": "error",
     "traceback": [
      "\u001b[1;31m---------------------------------------------------------------------------\u001b[0m",
      "\u001b[1;31mValueError\u001b[0m                                Traceback (most recent call last)",
      "Cell \u001b[1;32mIn[31], line 4\u001b[0m\n\u001b[0;32m      2\u001b[0m pvmesh \u001b[38;5;241m=\u001b[39m pv\u001b[38;5;241m.\u001b[39mread(\u001b[38;5;124m\"\u001b[39m\u001b[38;5;124mB2.vtu\u001b[39m\u001b[38;5;124m\"\u001b[39m)\n\u001b[0;32m      3\u001b[0m pvmesh\u001b[38;5;241m.\u001b[39mset_active_scalars(\u001b[38;5;124m\"\u001b[39m\u001b[38;5;124mscalars\u001b[39m\u001b[38;5;124m\"\u001b[39m)\n\u001b[1;32m----> 4\u001b[0m \u001b[43mpvmesh\u001b[49m\u001b[38;5;241;43m.\u001b[39;49m\u001b[43mset_active_vectors\u001b[49m\u001b[43m(\u001b[49m\u001b[38;5;124;43m\"\u001b[39;49m\u001b[38;5;124;43mB\u001b[39;49m\u001b[38;5;124;43m\"\u001b[39;49m\u001b[43m)\u001b[49m\n\u001b[0;32m      5\u001b[0m threshed \u001b[38;5;241m=\u001b[39m pvmesh\u001b[38;5;241m.\u001b[39mthreshold([\u001b[38;5;241m0.8\u001b[39m,\u001b[38;5;241m2.1\u001b[39m])\n\u001b[0;32m      6\u001b[0m \u001b[38;5;66;03m# threshed.set_active_vectors(\"B\")\u001b[39;00m\n",
      "File \u001b[1;32mc:\\Users\\Radu\\anaconda\\envs\\pdefem\\lib\\site-packages\\pyvista\\core\\dataset.py:692\u001b[0m, in \u001b[0;36mDataSet.set_active_vectors\u001b[1;34m(self, name, preference)\u001b[0m\n\u001b[0;32m    689\u001b[0m         \u001b[38;5;28;01mraise\u001b[39;00m \u001b[38;5;167;01mValueError\u001b[39;00m(\u001b[38;5;124mf\u001b[39m\u001b[38;5;124m'\u001b[39m\u001b[38;5;124mData field (\u001b[39m\u001b[38;5;132;01m{\u001b[39;00mname\u001b[38;5;132;01m}\u001b[39;00m\u001b[38;5;124m) with type (\u001b[39m\u001b[38;5;132;01m{\u001b[39;00mfield\u001b[38;5;132;01m}\u001b[39;00m\u001b[38;5;124m) not usable\u001b[39m\u001b[38;5;124m'\u001b[39m)\n\u001b[0;32m    691\u001b[0m     \u001b[38;5;28;01mif\u001b[39;00m ret \u001b[38;5;241m<\u001b[39m \u001b[38;5;241m0\u001b[39m:\n\u001b[1;32m--> 692\u001b[0m         \u001b[38;5;28;01mraise\u001b[39;00m \u001b[38;5;167;01mValueError\u001b[39;00m(\n\u001b[0;32m    693\u001b[0m             \u001b[38;5;124mf\u001b[39m\u001b[38;5;124m'\u001b[39m\u001b[38;5;124mData field (\u001b[39m\u001b[38;5;132;01m{\u001b[39;00mname\u001b[38;5;132;01m}\u001b[39;00m\u001b[38;5;124m) with type (\u001b[39m\u001b[38;5;132;01m{\u001b[39;00mfield\u001b[38;5;132;01m}\u001b[39;00m\u001b[38;5;124m) could not be set as the active vectors\u001b[39m\u001b[38;5;124m'\u001b[39m\n\u001b[0;32m    694\u001b[0m         )\n\u001b[0;32m    696\u001b[0m \u001b[38;5;28mself\u001b[39m\u001b[38;5;241m.\u001b[39m_active_vectors_info \u001b[38;5;241m=\u001b[39m ActiveArrayInfo(field, name)\n\u001b[0;32m    697\u001b[0m \u001b[38;5;28;01mreturn\u001b[39;00m \u001b[38;5;28;01mNone\u001b[39;00m\n",
      "\u001b[1;31mValueError\u001b[0m: Data field (B) with type (FieldAssociation.POINT) could not be set as the active vectors"
     ]
    }
   ],
   "source": [
    "import pyvista as pv\n",
    "pvmesh = pv.read(\"B2.vtu\")\n",
    "pvmesh.set_active_scalars(\"scalars\")\n",
    "pvmesh.set_active_vectors(\"B\")\n",
    "threshed = pvmesh.threshold([0.8,2.1])\n",
    "# threshed.set_active_vectors(\"B\")\n",
    "\n",
    "p = pv.Plotter()\n",
    "p.add_mesh(threshed, style = 'surface', color = \"w\", opacity = 0.01, label = None)\n",
    "\n",
    "arrows = pvmesh.glyph(scale = \"B\", orient = True, tolerance = 0.01, factor = 0.01)\n",
    "# arrows = pvmesh.glyph(scale = \"B\", orient = True, tolerance = 0.01, factor = 0.01)\n",
    "p.add_mesh(arrows, color = \"yellow\")\n",
    "\n",
    "pvmesh.set_active_vectors(\"J\")\n",
    "arrows2 = pvmesh.glyph(scale = \"J\", orient = True, tolerance = 0.001, factor = 1*1e-8)\n",
    "p.add_mesh(arrows2, color = \"black\")\n",
    "\n",
    "p.show(jupyter_backend = \"html\")\n",
    "# p.show()"
   ]
  },
  {
   "cell_type": "code",
   "execution_count": null,
   "metadata": {},
   "outputs": [],
   "source": [
    "deg = 2\n",
    "print(deg)\n",
    "{ir if deg==1 else None}"
   ]
  },
  {
   "cell_type": "code",
   "execution_count": 35,
   "metadata": {},
   "outputs": [
    {
     "name": "stdout",
     "output_type": "stream",
     "text": [
      "[0.16666666666666666]\n",
      "[(0.25, 0.25, 0.25)]\n"
     ]
    },
    {
     "ename": "",
     "evalue": "",
     "output_type": "error",
     "traceback": [
      "\u001b[1;31mThe Kernel crashed while executing code in the current cell or a previous cell. \n",
      "\u001b[1;31mPlease review the code in the cell(s) to identify a possible cause of the failure. \n",
      "\u001b[1;31mClick <a href='https://aka.ms/vscodeJupyterKernelCrash'>here</a> for more info. \n",
      "\u001b[1;31mView Jupyter <a href='command:jupyter.viewOutput'>log</a> for further details."
     ]
    }
   ],
   "source": [
    "\n",
    "# help(ngs.fem.ET)\n",
    "print(a.weights)\n",
    "print(a.points)\n"
   ]
  }
 ],
 "metadata": {
  "kernelspec": {
   "display_name": "pdefem",
   "language": "python",
   "name": "python3"
  },
  "language_info": {
   "codemirror_mode": {
    "name": "ipython",
    "version": 3
   },
   "file_extension": ".py",
   "mimetype": "text/x-python",
   "name": "python",
   "nbconvert_exporter": "python",
   "pygments_lexer": "ipython3",
   "version": "3.10.13"
  }
 },
 "nbformat": 4,
 "nbformat_minor": 2
}
