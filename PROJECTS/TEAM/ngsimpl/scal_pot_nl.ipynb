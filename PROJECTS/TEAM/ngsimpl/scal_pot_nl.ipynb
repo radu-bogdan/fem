{
 "cells": [
  {
   "cell_type": "code",
   "execution_count": 70,
   "metadata": {},
   "outputs": [
    {
     "data": {
      "text/plain": [
       "<ngsolve.comp.Mesh at 0x15dc876b0>"
      ]
     },
     "execution_count": 70,
     "metadata": {},
     "output_type": "execute_result"
    }
   ],
   "source": [
    "import ngsolve as ngs\n",
    "from netgen.webgui import Draw as DrawGeo\n",
    "from ngsolve.webgui import Draw\n",
    "from ngsolve.krylovspace import CGSolver\n",
    "from ttictoc import tic, toc\n",
    "\n",
    "mesh = ngs.Mesh('whatever.vol')\n",
    "mesh.Curve(2)\n",
    "# mesh.Refine()\n",
    "# ngs.ngsglobals.msg_level = 0\n",
    "# ngs.SetHeapSize(100*1000*1000)"
   ]
  },
  {
   "cell_type": "code",
   "execution_count": 71,
   "metadata": {},
   "outputs": [
    {
     "name": "stdout",
     "output_type": "stream",
     "text": [
      "using 3d mesh with ne= 494988  elements and nv= 85316  points\n",
      "Solving...\n",
      "... Success!\n",
      "Number of iterations = 558/1000 | Residual = 9.935128322942854e-06\n",
      "999.9999999999961\n",
      "Solving...\n",
      "... Success!\n",
      "Number of iterations = 641/1000 | Residual = 9.9234432391929e-06\n",
      "1000.0003712683572\n"
     ]
    }
   ],
   "source": [
    "%run J.ipynb"
   ]
  },
  {
   "cell_type": "code",
   "execution_count": 72,
   "metadata": {},
   "outputs": [
    {
     "name": "stdout",
     "output_type": "stream",
     "text": [
      "BH data from TEAM 13 problem\n",
      "returning coenergy\n"
     ]
    }
   ],
   "source": [
    "from bhdata import BHCurves\n",
    "fun_dw  = BHCurves(-4)\n",
    "fun_w   = fun_dw.Integrate()\n",
    "fun_ddw = fun_dw.Differentiate()\n",
    "\n",
    "mu0 = 1.256636e-6\n",
    "nu0 = 1/mu0\n",
    "\n",
    "linear = \"coil|ambient|default\"\n",
    "nonlinear = \"r_steel|l_steel|mid_steel\""
   ]
  },
  {
   "cell_type": "code",
   "execution_count": 73,
   "metadata": {},
   "outputs": [],
   "source": [
    "# print(HCurl.ndof)\n",
    "# print(mesh.GetMaterials())\n",
    "\n",
    "p = 1\n",
    "\n",
    "H1 = ngs.H1(mesh, order = p, dirichlet = 'ambient_face')\n",
    "u,v = H1.TnT()\n",
    "\n",
    "\n",
    "# Nonlinear:\n",
    "maxit = 10000\n",
    "tol2 = 1e-8\n",
    "regh = 1e-12\n",
    "\n",
    "psi = ngs.GridFunction(H1)\n",
    "H = ngs.grad(psi) + Hs\n",
    "normH = ngs.sqrt(H*H + regh)\n",
    "\n",
    "cf_coenergy = mesh.MaterialCF({linear: mu0/2*H*H, nonlinear: fun_w(normH)}, default = mu0/2*H*H).Compile()\n",
    "def fun_W():\n",
    "    # with ngs.TaskManager(): \n",
    "    res = ngs.Integrate(cf_coenergy, mesh)\n",
    "    return res\n",
    "\n",
    "cf_rhs = mesh.MaterialCF({linear: mu0, nonlinear: fun_dw(normH)/normH}, default = mu0).Compile()\n",
    "rhs = ngs.LinearForm(cf_rhs*H*ngs.grad(v)*ngs.dx)\n",
    "\n",
    "def fun_dW(): #implicitly depending on A!\n",
    "    # with ngs.TaskManager(): \n",
    "    rhs.Assemble()\n",
    "    return rhs\n",
    "\n",
    "\n",
    "Id = ngs.CF((1,0,0,\n",
    "             0,1,0,\n",
    "             0,0,1), dims=(3,3))\n",
    "\n",
    "HHt = ngs.CF((H[0]*H[0], H[0]*H[1], H[0]*H[2],\n",
    "              H[1]*H[0], H[1]*H[1], H[1]*H[2],\n",
    "              H[2]*H[0], H[2]*H[1], H[2]*H[2]), dims=(3,3))\n",
    "\n",
    "\n",
    "fun1 = fun_dw(normH)/normH\n",
    "fun2 = (fun_ddw(normH) - fun_dw(normH)/normH)/(normH*normH)\n",
    "\n",
    "cf_iter = mesh.MaterialCF({linear: mu0*Id, nonlinear: fun1*Id + fun2*(HHt)}, default = mu0*Id).Compile()\n",
    "\n",
    "K_iter = ngs.BilinearForm(H1)\n",
    "K_iter += ((cf_iter*ngs.grad(u))*ngs.grad(v))*ngs.dx\n",
    "# K_iter += (cf_iter[0]*gU[0]*gV[0] + cf_iter[1]*gU[1]*gV[0] + cf_iter[2]*gU[2]*gV[0] +\\\n",
    "#            cf_iter[3]*gU[0]*gV[1] + cf_iter[4]*gU[1]*gV[1] + cf_iter[5]*gU[2]*gV[1] +\\\n",
    "#            cf_iter[6]*gU[0]*gV[2] + cf_iter[7]*gU[1]*gV[2] + cf_iter[8]*gU[2]*gV[2])*ngs.dx\n",
    "\n",
    "# K_iter += ((cf_iter*ngs.grad(u))*ngs.grad(v))*ngs.dx\n",
    "C_iter = ngs.Preconditioner(K_iter, type = \"local\")\n",
    "\n",
    "def fun_ddW():\n",
    "    # with ngs.TaskManager(): \n",
    "    K_iter.Assemble()\n",
    "    return K_iter"
   ]
  },
  {
   "cell_type": "code",
   "execution_count": 74,
   "metadata": {},
   "outputs": [
    {
     "name": "stdout",
     "output_type": "stream",
     "text": [
      "Using 3D mesh with ne= 494988 elements and nv= 85316 points and  85316 DOFs.\n",
      " \n"
     ]
    },
    {
     "name": "stdout",
     "output_type": "stream",
     "text": [
      "Iter:  1 | assem : 0.28s,0.40s,1.04s | CG took 0.22s with  392 iterations | alpha : 0.50 | energy = 0.4449973505 | relres = 1.00e+00 |\n",
      "Iter:  2 | assem : 0.19s,0.40s,0.99s | CG took 0.25s with  476 iterations | alpha : 0.12 | energy = 0.3732735734 | relres = 2.53e+00 |\n",
      "Iter:  3 | assem : 0.18s,0.35s,1.10s | CG took 0.24s with  480 iterations | alpha : 0.25 | energy = 0.2872697716 | relres = 3.41e-01 |\n",
      "Iter:  4 | assem : 0.18s,0.34s,0.99s | CG took 0.26s with  543 iterations | alpha : 0.50 | energy = 0.2726428466 | relres = 2.63e-01 |\n",
      "Iter:  5 | assem : 0.25s,0.38s,1.00s | CG took 0.21s with  420 iterations | alpha : 0.12 | energy = 0.2633095848 | relres = 2.54e-01 |\n",
      "Iter:  6 | assem : 0.19s,0.34s,1.01s | CG took 0.22s with  437 iterations | alpha : 0.50 | energy = 0.2477614948 | relres = 3.65e-02 |\n",
      "Iter:  7 | assem : 0.19s,0.36s,1.11s | CG took 0.18s with  340 iterations | alpha : 0.25 | energy = 0.2458576461 | relres = 3.51e-02 |\n",
      "Iter:  8 | assem : 0.18s,0.36s,1.01s | CG took 0.17s with  346 iterations | alpha : 0.25 | energy = 0.2432906522 | relres = 7.74e-03 |\n",
      "Iter:  9 | assem : 0.18s,0.35s,0.98s | CG took 0.22s with  326 iterations | alpha : 0.50 | energy = 0.2426679418 | relres = 2.51e-03 |\n",
      "Iter: 10 | assem : 0.21s,0.35s,1.05s | CG took 0.16s with  322 iterations | alpha : 0.50 | energy = 0.2423501547 | relres = 1.33e-03 |\n",
      "Iter: 11 | assem : 0.19s,0.38s,1.20s | CG took 0.09s with  154 iterations | alpha : 0.25 | energy = 0.2423094903 | relres = 1.43e-03 |\n",
      "Iter: 12 | assem : 0.20s,0.41s,1.05s | CG took 0.12s with  231 iterations | alpha : 0.50 | energy = 0.2421840083 | relres = 1.99e-04 |\n",
      "Iter: 13 | assem : 0.19s,0.36s,1.05s | CG took 0.03s with   46 iterations | alpha : 0.12 | energy = 0.2421664431 | relres = 3.54e-04 |\n",
      "Iter: 14 | assem : 0.19s,0.36s,1.18s | CG took 0.11s with  223 iterations | alpha : 0.25 | energy = 0.2421578183 | relres = 1.16e-04 |\n",
      "Iter: 15 | assem : 0.19s,0.34s,1.06s | CG took 0.11s with  228 iterations | alpha : 0.50 | energy = 0.2421521266 | relres = 4.91e-05 |\n",
      "Iter: 16 | assem : 0.19s,0.36s,1.07s | CG took 0.03s with   43 iterations | alpha : 0.50 | energy = 0.2421472951 | relres = 2.10e-05 |\n",
      "Iter: 17 | assem : 0.19s,0.36s,1.01s | CG took 0.20s with  387 iterations | alpha : 1.00 | energy = 0.2421447785 | relres = 3.19e-06 |\n",
      "Iter: 18 | assem : 0.19s,0.40s,1.10s | CG took 0.07s with  143 iterations | alpha : 1.00 | energy = 0.2421439002 | relres = 2.58e-07 |\n",
      "Iter: 19 | assem : 0.19s,0.35s,1.00s | CG took 0.12s with  235 iterations | alpha : 1.00 | energy = 0.2421438226 | relres = 3.20e-08 |\n",
      "converged to desired tolerance\n"
     ]
    }
   ],
   "source": [
    "with ngs.TaskManager():\n",
    "    print(\"Using 3D mesh with ne=\", mesh.ne, \"elements and nv=\", mesh.nv, \"points and \" ,H1.ndof, \"DOFs.\\n \")\n",
    "\n",
    "    with ngs.TaskManager(): psi.Set(ngs.CF((0)))\n",
    "\n",
    "    du = ngs.GridFunction(H1)\n",
    "    uo = ngs.GridFunction(H1)\n",
    "    wo = 1e12\n",
    "\n",
    "    for it in range(1,maxit+1):\n",
    "        \n",
    "        tic()\n",
    "        # w  = fun_W()\n",
    "        res = ngs.Integrate(cf_coenergy, mesh)\n",
    "        w = res\n",
    "        tm10 = toc()\n",
    "\n",
    "        tic()\n",
    "        # dw = fun_dW()\n",
    "        rhs.Assemble()\n",
    "        dw = rhs\n",
    "        tm11 = toc()\n",
    "\n",
    "        tic()\n",
    "        # da = fun_ddW()\n",
    "        K_iter.Assemble()\n",
    "        da = K_iter\n",
    "        tm12 = toc()\n",
    "        \n",
    "        tic()\n",
    "        # du.vec.data = da.mat.Inverse(HCurl.FreeDofs(), inverse=\"sparsecholesky\") * dw.vec \n",
    "        # iterativeSolver = CGSolver(K_iter.mat, freedofs = HCurl.FreeDofs(), atol = 1e-2,  maxiter = maxit, printrates = False)\n",
    "        with ngs.TaskManager():\n",
    "            iterativeSolver = CGSolver(K_iter.mat, pre = C_iter.mat, tol  = 1e-2,  maxiter = maxit)\n",
    "            # iterativeSolver = CGSolver(K_iter.mat, freedofs = H1.FreeDofs(), tol  = 1e-2,  maxiter = maxit)\n",
    "            du.vec.data = iterativeSolver * dw.vec \n",
    "        \n",
    "        if len(iterativeSolver.residuals) == maxit: print(\"... Success!\")\n",
    "        # print(f\"Number of iterations = {iterativeSolver.iterations}/{maxit} | Residual = {iterativeSolver.residuals[-1]}\")\n",
    "        tm2 = toc()\n",
    "\n",
    "        nrm = ngs.InnerProduct(du.vec,dw.vec)\n",
    "        \n",
    "        if it == 1:\n",
    "            nrm0 = nrm\n",
    "\n",
    "        wn = 1e12\n",
    "        if nrm/nrm0 < tol2:\n",
    "        # if abs(wn-w) < tol2:\n",
    "            print(\"converged to desired tolerance\")\n",
    "            break\n",
    "        elif abs(wo-w) < tol2*1e-2:\n",
    "            print(\"stopped early due to stagnation\")\n",
    "            break\n",
    "        else:\n",
    "            # linesearch\n",
    "            uo.vec.data = psi.vec.data\n",
    "            wo = w\n",
    "            alpha = 1\n",
    "            for init in range(1,21):\n",
    "                psi.vec.data -= alpha*du.vec.data\n",
    "                wn = fun_W()\n",
    "                if wn < w - alpha*0.1*nrm:\n",
    "                    print(\"Iter: %2d | assem : %.2fs,%.2fs,%.2fs | CG took %.2fs with %4d iterations | alpha : %.2f | energy = %.10f | relres = %.2e |\"  %(it,tm10,tm11,tm12,tm2,iterativeSolver.iterations,alpha,w,nrm/nrm0))\n",
    "                    break\n",
    "                else:\n",
    "                    alpha = alpha/2\n",
    "                    psi.vec.data = uo.vec.data"
   ]
  },
  {
   "cell_type": "code",
   "execution_count": 75,
   "metadata": {},
   "outputs": [
    {
     "name": "stdout",
     "output_type": "stream",
     "text": [
      "3.179464520438809\n"
     ]
    },
    {
     "data": {
      "text/plain": [
       "[<matplotlib.lines.Line2D at 0x16602b7d0>]"
      ]
     },
     "execution_count": 75,
     "metadata": {},
     "output_type": "execute_result"
    },
    {
     "data": {
      "image/png": "[encoded data removed]",
      "text/plain": [
       "<Figure size 640x480 with 1 Axes>"
      ]
     },
     "metadata": {},
     "output_type": "display_data"
    }
   ],
   "source": [
    "L2 = ngs.L2(mesh, dim=3, order = 3)\n",
    "BB = ngs.GridFunction(L2)\n",
    "\n",
    "B = fun_dw(normH)/normH*H\n",
    "# B = fun_dw(H)\n",
    "\n",
    "with ngs.TaskManager(): BB.Set(B)\n",
    "BBnp = BB.vec.FV().NumPy()\n",
    "\n",
    "\n",
    "import matplotlib.pyplot as plt\n",
    "import numpy as np\n",
    "print(max(abs(BBnp)))\n",
    "\n",
    "plt.plot((BBnp))"
   ]
  },
  {
   "cell_type": "code",
   "execution_count": 76,
   "metadata": {},
   "outputs": [
    {
     "data": {
      "text/plain": [
       "<ngsolve.fem.CoefficientFunction at 0x15dd6df10>"
      ]
     },
     "execution_count": 76,
     "metadata": {},
     "output_type": "execute_result"
    }
   ],
   "source": [
    "Draw(B, mesh, clipping={\"z\":-1, \"dist\":0.064})\n",
    "B[0]"
   ]
  },
  {
   "cell_type": "code",
   "execution_count": null,
   "metadata": {},
   "outputs": [],
   "source": []
  }
 ],
 "metadata": {
  "kernelspec": {
   "display_name": "pdefem",
   "language": "python",
   "name": "python3"
  },
  "language_info": {
   "codemirror_mode": {
    "name": "ipython",
    "version": 3
   },
   "file_extension": ".py",
   "mimetype": "text/x-python",
   "name": "python",
   "nbconvert_exporter": "python",
   "pygments_lexer": "ipython3",
   "version": "3.11.7"
  }
 },
 "nbformat": 4,
 "nbformat_minor": 2
}
