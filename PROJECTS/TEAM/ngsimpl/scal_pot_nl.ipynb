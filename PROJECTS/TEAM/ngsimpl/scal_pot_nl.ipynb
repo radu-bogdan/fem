{
 "cells": [
  {
   "cell_type": "code",
   "execution_count": 1,
   "metadata": {},
   "outputs": [
    {
     "data": {
      "text/plain": [
       "<ngsolve.comp.Mesh at 0x2d373f4e840>"
      ]
     },
     "execution_count": 1,
     "metadata": {},
     "output_type": "execute_result"
    }
   ],
   "source": [
    "import ngsolve as ngs\n",
    "from netgen.webgui import Draw as DrawGeo\n",
    "from ngsolve.webgui import Draw\n",
    "from ngsolve.krylovspace import CGSolver\n",
    "from ttictoc import tic, toc\n",
    "\n",
    "mesh = ngs.Mesh('whatever.vol')\n",
    "mesh.Curve(2)\n",
    "# mesh.Refine()\n",
    "# ngs.ngsglobals.msg_level = 0\n",
    "# ngs.SetHeapSize(100*1000*1000)"
   ]
  },
  {
   "cell_type": "code",
   "execution_count": 2,
   "metadata": {},
   "outputs": [
    {
     "name": "stdout",
     "output_type": "stream",
     "text": [
      "using 3d mesh with ne= 24847  elements and nv= 4407  points\n",
      "Solving...\n",
      "Number of iterations = 382/1000 | Residual = 9.564760723616434e-06\n",
      "999.9999999999961\n",
      "Solving...\n",
      "Number of iterations = 326/1000 | Residual = 9.768859232477003e-06\n",
      "1000.0009231223594\n"
     ]
    }
   ],
   "source": [
    "%run J.ipynb"
   ]
  },
  {
   "cell_type": "code",
   "execution_count": 3,
   "metadata": {},
   "outputs": [
    {
     "name": "stdout",
     "output_type": "stream",
     "text": [
      "BH data from TEAM 20 problem\n",
      "returning coenergy\n"
     ]
    }
   ],
   "source": [
    "from bhdata import BHCurves\n",
    "fun_dw  = BHCurves(-3)\n",
    "fun_w   = fun_dw.Integrate()\n",
    "fun_ddw = fun_dw.Differentiate()\n",
    "\n",
    "mu0 = 1.256636e-6\n",
    "nu0 = 1/mu0\n",
    "\n",
    "linear = \"coil|ambient|default\"\n",
    "nonlinear = \"r_steel|l_steel|mid_steel\"\n",
    "\n",
    "lin = 0"
   ]
  },
  {
   "cell_type": "code",
   "execution_count": 4,
   "metadata": {},
   "outputs": [],
   "source": [
    "# print(HCurl.ndof)\n",
    "# print(mesh.GetMaterials())\n",
    "\n",
    "H1 = ngs.H1(mesh, order = deg)\n",
    "# H1 = ngs.H1(mesh, order = deg, dirichlet = 'ambient_face')\n",
    "u,v = H1.TnT()\n",
    "\n",
    "\n",
    "# Nonlinear:\n",
    "maxit = 100000\n",
    "tol2 = 1e-8\n",
    "regh = 1e-12\n",
    "\n",
    "psi = ngs.GridFunction(H1)\n",
    "H = ngs.grad(psi) + Hs\n",
    "normH = ngs.sqrt(H*H + regh)\n",
    "\n",
    "if lin == 1: cf_coenergy = mesh.MaterialCF({linear: mu0/2*H*H, nonlinear: mu0/2*H*H}, default = mu0/2*H*H).Compile()\n",
    "else: cf_coenergy = mesh.MaterialCF({linear: mu0/2*H*H, nonlinear: fun_w(normH)}, default = mu0/2*H*H).Compile()\n",
    "\n",
    "def fun_W():\n",
    "    # with ngs.TaskManager(): \n",
    "    res = ngs.Integrate(cf_coenergy, mesh)\n",
    "    return res\n",
    "\n",
    "ir = ngs.IntegrationRule(ngs.fem.ET.TET, order = 2*deg)\n",
    "\n",
    "if lin == 1: cf_rhs = mesh.MaterialCF({linear: mu0, nonlinear: mu0}, default = mu0).Compile()\n",
    "else: cf_rhs = mesh.MaterialCF({linear: mu0, nonlinear: fun_dw(normH)/normH}, default = mu0).Compile()\n",
    "\n",
    "\n",
    "rhs = ngs.LinearForm(H1)\n",
    "rhs += ngs.SymbolicLFI(cf_rhs*H*ngs.grad(v), intrule = ir)\n",
    "# rhs = ngs.LinearForm(cf_rhs*H*ngs.grad(v)*ngs.dx)\n",
    "\n",
    "\n",
    "def fun_dW(): #implicitly depending on A!\n",
    "    # with ngs.TaskManager(): \n",
    "    rhs.Assemble()\n",
    "    return rhs\n",
    "\n",
    "\n",
    "Id = ngs.CF((1,0,0,\n",
    "             0,1,0,\n",
    "             0,0,1), dims=(3,3))\n",
    "\n",
    "HHt = ngs.CF((H[0]*H[0], H[0]*H[1], H[0]*H[2],\n",
    "              H[1]*H[0], H[1]*H[1], H[1]*H[2],\n",
    "              H[2]*H[0], H[2]*H[1], H[2]*H[2]), dims=(3,3))\n",
    "\n",
    "\n",
    "fun1 = fun_dw(normH)/normH\n",
    "fun2 = (fun_ddw(normH) - fun_dw(normH)/normH)/(normH*normH)\n",
    "\n",
    "if lin == 1: cf_iter = mesh.MaterialCF({linear: mu0*Id, nonlinear: mu0*Id}, default = mu0*Id).Compile()\n",
    "else: cf_iter = mesh.MaterialCF({linear: mu0*Id, nonlinear: fun1*Id + fun2*HHt}, default = mu0*Id).Compile()\n",
    "\n",
    "K_iter = ngs.BilinearForm(H1)\n",
    "K_iter += ngs.SymbolicBFI(cf_iter*ngs.grad(u)*ngs.grad(v), intrule = ir)\n",
    "# K_iter += ((cf_iter*ngs.grad(u))*ngs.grad(v))*ngs.dx\n",
    "\n",
    "C_iter = ngs.Preconditioner(K_iter, type = \"local\")\n",
    "\n",
    "def fun_ddW():\n",
    "    # with ngs.TaskManager(): \n",
    "    K_iter.Assemble()\n",
    "    return K_iter"
   ]
  },
  {
   "cell_type": "code",
   "execution_count": 5,
   "metadata": {},
   "outputs": [
    {
     "name": "stdout",
     "output_type": "stream",
     "text": [
      "Using 3D mesh with ne= 24847 elements and nv= 4407 points and  33953 DOFs.\n",
      " \n",
      "Iter:  1 | assem : 0.03s,0.17s,0.44s | CG took 0.10s with  310 iterations | alpha : 0.25 | energy = 0.6047052126 | relres = 1.00e+00 |\n",
      "Iter:  2 | assem : 0.03s,0.10s,0.45s | CG took 0.11s with  328 iterations | alpha : 0.25 | energy = 0.3932757053 | relres = 5.18e-01 |\n",
      "Iter:  3 | assem : 0.02s,0.11s,0.47s | CG took 0.13s with  421 iterations | alpha : 0.25 | energy = 0.3049475040 | relres = 2.97e-01 |\n",
      "Iter:  4 | assem : 0.02s,0.04s,0.33s | CG took 0.12s with  374 iterations | alpha : 0.25 | energy = 0.2626294763 | relres = 2.05e-01 |\n",
      "Iter:  5 | assem : 0.02s,0.05s,0.43s | CG took 0.14s with  439 iterations | alpha : 0.25 | energy = 0.2403185803 | relres = 1.44e-01 |\n",
      "Iter:  6 | assem : 0.03s,0.08s,0.40s | CG took 0.09s with  264 iterations | alpha : 0.25 | energy = 0.2261790784 | relres = 1.07e-01 |\n",
      "Iter:  7 | assem : 0.02s,0.16s,0.41s | CG took 0.08s with  259 iterations | alpha : 0.12 | energy = 0.2183739588 | relres = 8.50e-02 |\n",
      "Iter:  8 | assem : 0.02s,0.05s,0.30s | CG took 0.13s with  396 iterations | alpha : 1.00 | energy = 0.1996246995 | relres = 5.43e-03 |\n",
      "Iter:  9 | assem : 0.02s,0.05s,0.38s | CG took 0.06s with  196 iterations | alpha : 0.25 | energy = 0.1973315781 | relres = 5.47e-03 |\n",
      "Iter: 10 | assem : 0.02s,0.06s,0.40s | CG took 0.10s with  349 iterations | alpha : 0.50 | energy = 0.1957719426 | relres = 1.19e-03 |\n",
      "Iter: 11 | assem : 0.02s,0.06s,0.36s | CG took 0.10s with  347 iterations | alpha : 0.50 | energy = 0.1954805680 | relres = 7.40e-04 |\n",
      "Iter: 12 | assem : 0.02s,0.04s,0.41s | CG took 0.10s with  322 iterations | alpha : 0.50 | energy = 0.1953113501 | relres = 3.38e-04 |\n",
      "Iter: 13 | assem : 0.02s,0.03s,0.35s | CG took 0.13s with  403 iterations | alpha : 1.00 | energy = 0.1951423839 | relres = 2.38e-05 |\n",
      "Iter: 14 | assem : 0.02s,0.04s,0.37s | CG took 0.11s with  373 iterations | alpha : 1.00 | energy = 0.1951187624 | relres = 5.20e-07 |\n",
      "Iter: 15 | assem : 0.02s,0.12s,0.42s | CG took 0.11s with  328 iterations | alpha : 1.00 | energy = 0.1951181977 | relres = 3.96e-11 |\n",
      "converged to desired tolerance\n"
     ]
    }
   ],
   "source": [
    "with ngs.TaskManager():\n",
    "    print(\"Using 3D mesh with ne=\", mesh.ne, \"elements and nv=\", mesh.nv, \"points and \" ,H1.ndof, \"DOFs.\\n \")\n",
    "\n",
    "    with ngs.TaskManager(): psi.Set(ngs.CF((0)))\n",
    "\n",
    "    du = ngs.GridFunction(H1)\n",
    "    uo = ngs.GridFunction(H1)\n",
    "    wo = 1e12\n",
    "\n",
    "    for it in range(1,maxit+1):\n",
    "        \n",
    "        tic()\n",
    "        # w  = fun_W()\n",
    "        res = ngs.Integrate(cf_coenergy, mesh)\n",
    "        w = res\n",
    "        tm10 = toc()\n",
    "\n",
    "        tic()\n",
    "        # dw = fun_dW()\n",
    "        rhs.Assemble()\n",
    "        dw = rhs\n",
    "        tm11 = toc()\n",
    "\n",
    "        tic()\n",
    "        # da = fun_ddW()\n",
    "        K_iter.Assemble()\n",
    "        da = K_iter\n",
    "        tm12 = toc()\n",
    "        \n",
    "        tic()\n",
    "        # iterativeSolver = CGSolver(K_iter.mat, freedofs = HCurl.FreeDofs(), atol = 1e-2,  maxiter = maxit, printrates = False)\n",
    "        with ngs.TaskManager():\n",
    "            iterativeSolver = CGSolver(K_iter.mat, pre = C_iter.mat, tol  = 1e-4,  maxiter = maxit)\n",
    "            # iterativeSolver = CGSolver(K_iter.mat, freedofs = H1.FreeDofs(), tol  = 1e-2,  maxiter = maxit)\n",
    "            du.vec.data = iterativeSolver * dw.vec\n",
    "            # du.vec.data = da.mat.Inverse(H1.FreeDofs(), inverse=\"sparsecholesky\") * dw.vec \n",
    "        \n",
    "        if len(iterativeSolver.residuals) == maxit: print(\"... Failure! MaxIt Reached!\")\n",
    "        # print(f\"Number of iterations = {iterativeSolver.iterations}/{maxit} | Residual = {iterativeSolver.residuals[-1]}\")\n",
    "        tm2 = toc()\n",
    "\n",
    "        nrm = ngs.InnerProduct(du.vec,dw.vec)\n",
    "        \n",
    "        if it == 1:\n",
    "            nrm0 = nrm\n",
    "\n",
    "        wn = 1e12\n",
    "        # if nrm/nrm0 < tol2:\n",
    "        if abs(wo-w) < tol2:\n",
    "        # if abs(wn-w) < tol2:\n",
    "            print(\"converged to desired tolerance\")\n",
    "            break\n",
    "        # elif abs(wo-w) < tol2*1e-2:\n",
    "        #     print(\"stopped early due to stagnation\")\n",
    "        #     break\n",
    "        else:\n",
    "            # linesearch\n",
    "            uo.vec.data = psi.vec.data\n",
    "            wo = w\n",
    "            alpha = 1\n",
    "            for init in range(1,21):\n",
    "                psi.vec.data -= alpha*du.vec.data\n",
    "                wn = fun_W()\n",
    "                if wn < w - alpha*0.1*nrm:\n",
    "                    print(\"Iter: %2d | assem : %.2fs,%.2fs,%.2fs | CG took %.2fs with %4d iterations | alpha : %.2f | energy = %.10f | relres = %.2e |\"  %(it,tm10,tm11,tm12,tm2,iterativeSolver.iterations,alpha,w,nrm/nrm0))\n",
    "                    break\n",
    "                else:\n",
    "                    alpha = alpha/2\n",
    "                    psi.vec.data = uo.vec.data"
   ]
  },
  {
   "cell_type": "code",
   "execution_count": 6,
   "metadata": {},
   "outputs": [],
   "source": [
    "B = cf_rhs*H\n",
    "# Draw(H, mesh, clipping={\"z\":-1, \"dist\":0.064})"
   ]
  },
  {
   "cell_type": "code",
   "execution_count": 7,
   "metadata": {},
   "outputs": [
    {
     "data": {
      "text/plain": [
       "'B1'"
      ]
     },
     "execution_count": 7,
     "metadata": {},
     "output_type": "execute_result"
    }
   ],
   "source": [
    "scalars = mesh.MaterialCF({\"coil\" : 1, \"mid_steel|l_steel|r_steel\" : 2}, default = 0)\n",
    "L2 = ngs.L2(mesh, order = 2)\n",
    "scal = ngs.GridFunction(L2)\n",
    "scal.Set(scalars)\n",
    "\n",
    "vtk = ngs.VTKOutput(mesh, coefs = [B,ngs.curl(Hs),scal,Hs/ngs.Norm(Hs)],names = [\"B\",\"J\",\"scalars\",\"nHS\"], filename = \"B1\", order = 2)\n",
    "vtk.Do()"
   ]
  },
  {
   "cell_type": "code",
   "execution_count": 8,
   "metadata": {},
   "outputs": [
    {
     "data": {
      "application/vnd.jupyter.widget-view+json": {
       "model_id": "d8fb7ea29ca046be8b185b89835c7a89",
       "version_major": 2,
       "version_minor": 0
      },
      "text/plain": [
       "EmbeddableWidget(value='<iframe srcdoc=\"<!DOCTYPE html>\\n<html>\\n  <head>\\n    <meta http-equiv=&quot;Content-…"
      ]
     },
     "metadata": {},
     "output_type": "display_data"
    }
   ],
   "source": [
    "import pyvista as pv\n",
    "pv.global_theme.cmap = 'turbo'\n",
    "\n",
    "pvmesh = pv.read(\"B1.vtu\")\n",
    "pvmesh.set_active_scalars(\"scalars\")\n",
    "pvmesh.set_active_vectors(\"B\")\n",
    "threshed = pvmesh.threshold([0.7,1.6])\n",
    "# threshed.set_active_scalars(\"scalars\")\n",
    "\n",
    "p = pv.Plotter()\n",
    "p.add_mesh(threshed, style = 'surface', color = \"w\", opacity = 0, label = None)\n",
    "threshed = pvmesh.threshold([1.2,2.1])\n",
    "p.add_mesh(threshed, scalars = \"B\", clim = [0, 2])\n",
    "\n",
    "# arrows = pvmesh.glyph(scale = \"B\", orient = True, tolerance = 0.01, factor = 0.01) #0.8\n",
    "# p.add_mesh(arrows, color = \"orange\")\n",
    "\n",
    "pvmesh.set_active_vectors(\"J\")\n",
    "arrows2 = pvmesh.glyph(scale = \"J\", orient = True, tolerance = 0.001, factor = 1*1e-8)\n",
    "p.add_mesh(arrows2, color = \"black\")\n",
    "\n",
    "p.show(jupyter_backend = \"html\")\n",
    "# p.show()"
   ]
  },
  {
   "cell_type": "code",
   "execution_count": 9,
   "metadata": {},
   "outputs": [
    {
     "name": "stdout",
     "output_type": "stream",
     "text": [
      "0.00017514953864583818\n",
      "0.19511819764926921\n"
     ]
    }
   ],
   "source": [
    "print(ngs.Integrate(ngs.Norm(B),mesh))\n",
    "print(fun_W())"
   ]
  },
  {
   "cell_type": "code",
   "execution_count": 10,
   "metadata": {},
   "outputs": [
    {
     "name": "stdout",
     "output_type": "stream",
     "text": [
      "960155\n"
     ]
    },
    {
     "data": {
      "image/png": "[encoded data removed]",
      "text/plain": [
       "<Figure size 640x480 with 1 Axes>"
      ]
     },
     "metadata": {},
     "output_type": "display_data"
    }
   ],
   "source": [
    "import matplotlib.pyplot as plt\n",
    "rows,cols,vals = da.mat.COO()\n",
    "import scipy.sparse as sp\n",
    "A = sp.csr_matrix((vals,(rows,cols)))\n",
    "plt.spy(A,markersize=1)\n",
    "print(A.nnz)"
   ]
  },
  {
   "cell_type": "code",
   "execution_count": null,
   "metadata": {},
   "outputs": [],
   "source": []
  }
 ],
 "metadata": {
  "kernelspec": {
   "display_name": "pdefem",
   "language": "python",
   "name": "python3"
  },
  "language_info": {
   "codemirror_mode": {
    "name": "ipython",
    "version": 3
   },
   "file_extension": ".py",
   "mimetype": "text/x-python",
   "name": "python",
   "nbconvert_exporter": "python",
   "pygments_lexer": "ipython3",
   "version": "3.10.13"
  }
 },
 "nbformat": 4,
 "nbformat_minor": 2
}
