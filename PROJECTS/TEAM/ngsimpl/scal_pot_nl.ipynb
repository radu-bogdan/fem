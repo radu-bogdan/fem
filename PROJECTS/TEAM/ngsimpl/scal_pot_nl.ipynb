{
 "cells": [
  {
   "cell_type": "code",
   "execution_count": 61,
   "metadata": {},
   "outputs": [],
   "source": [
    "import ngsolve as ngs\n",
    "from netgen.webgui import Draw as DrawGeo\n",
    "from ngsolve.webgui import Draw\n",
    "from ngsolve.krylovspace import CGSolver\n",
    "from ttictoc import tic, toc\n",
    "\n",
    "mesh = ngs.Mesh('whatever.vol')\n",
    "# mesh.Curve(2)\n",
    "# mesh.Refine()\n",
    "# ngs.ngsglobals.msg_level = 0\n",
    "# ngs.SetHeapSize(100*1000*1000)"
   ]
  },
  {
   "cell_type": "code",
   "execution_count": 62,
   "metadata": {},
   "outputs": [
    {
     "name": "stdout",
     "output_type": "stream",
     "text": [
      "using 3d mesh with ne= 179611  elements and nv= 31186  points\n",
      "Solving...\n",
      "Number of iterations = 168/1000 | Residual = 8.85866142608333e-06\n",
      "999.9999999999959\n",
      "Solving...\n",
      "Number of iterations = 326/1000 | Residual = 9.820525066381727e-06\n",
      "999.9999999448601\n"
     ]
    }
   ],
   "source": [
    "%run J.ipynb"
   ]
  },
  {
   "cell_type": "code",
   "execution_count": 63,
   "metadata": {},
   "outputs": [
    {
     "name": "stdout",
     "output_type": "stream",
     "text": [
      "BH data from TEAM 13 problem\n",
      "returning coenergy\n"
     ]
    }
   ],
   "source": [
    "from bhdata import BHCurves\n",
    "fun_dw  = BHCurves(-4)\n",
    "fun_w   = fun_dw.Integrate()\n",
    "fun_ddw = fun_dw.Differentiate()\n",
    "\n",
    "mu0 = 1.256636e-6\n",
    "nu0 = 1/mu0\n",
    "\n",
    "linear = \"coil|ambient|default\"\n",
    "nonlinear = \"r_steel|l_steel|mid_steel\"\n",
    "\n",
    "lin = 0"
   ]
  },
  {
   "cell_type": "code",
   "execution_count": 64,
   "metadata": {},
   "outputs": [],
   "source": [
    "# print(HCurl.ndof)\n",
    "# print(mesh.GetMaterials())\n",
    "\n",
    "p = 1\n",
    "\n",
    "H1 = ngs.H1(mesh, order = p)\n",
    "# H1 = ngs.H1(mesh, order = p, dirichlet = 'ambient_face')\n",
    "u,v = H1.TnT()\n",
    "\n",
    "\n",
    "# Nonlinear:\n",
    "maxit = 10000\n",
    "tol2 = 1e-8\n",
    "regh = 1e-12\n",
    "\n",
    "psi = ngs.GridFunction(H1)\n",
    "H = ngs.grad(psi) + Hs\n",
    "normH = ngs.sqrt(H*H + regh)\n",
    "\n",
    "if lin == 1: cf_coenergy = mesh.MaterialCF({linear: mu0/2*H*H, nonlinear: mu0/2*H*H}, default = mu0/2*H*H).Compile()\n",
    "else: cf_coenergy = mesh.MaterialCF({linear: mu0/2*H*H, nonlinear: fun_w(normH)}, default = mu0/2*H*H).Compile()\n",
    "\n",
    "def fun_W():\n",
    "    # with ngs.TaskManager(): \n",
    "    res = ngs.Integrate(cf_coenergy, mesh)\n",
    "    return res\n",
    "\n",
    "if lin == 1: cf_rhs = mesh.MaterialCF({linear: mu0, nonlinear: mu0}, default = mu0).Compile()\n",
    "else: cf_rhs = mesh.MaterialCF({linear: mu0, nonlinear: fun_dw(normH)/normH}, default = mu0).Compile()\n",
    "rhs = ngs.LinearForm(cf_rhs*H*ngs.grad(v)*ngs.dx)\n",
    "\n",
    "def fun_dW(): #implicitly depending on A!\n",
    "    # with ngs.TaskManager(): \n",
    "    rhs.Assemble()\n",
    "    return rhs\n",
    "\n",
    "\n",
    "Id = ngs.CF((1,0,0,\n",
    "             0,1,0,\n",
    "             0,0,1), dims=(3,3))\n",
    "\n",
    "HHt = ngs.CF((H[0]*H[0], H[0]*H[1], H[0]*H[2],\n",
    "              H[1]*H[0], H[1]*H[1], H[1]*H[2],\n",
    "              H[2]*H[0], H[2]*H[1], H[2]*H[2]), dims=(3,3))\n",
    "\n",
    "\n",
    "fun1 = fun_dw(normH)/normH\n",
    "fun2 = (fun_ddw(normH) - fun_dw(normH)/normH)/(normH*normH)\n",
    "\n",
    "if lin == 1: cf_iter = mesh.MaterialCF({linear: mu0*Id, nonlinear: mu0*Id}, default = mu0*Id).Compile()\n",
    "else: cf_iter = mesh.MaterialCF({linear: mu0*Id, nonlinear: fun1*Id + fun2*HHt}, default = mu0*Id).Compile()\n",
    "\n",
    "K_iter = ngs.BilinearForm(H1)\n",
    "K_iter += ((cf_iter*ngs.grad(u))*ngs.grad(v))*ngs.dx\n",
    "# K_iter += (cf_iter[0]*gU[0]*gV[0] + cf_iter[1]*gU[1]*gV[0] + cf_iter[2]*gU[2]*gV[0] +\\\n",
    "#            cf_iter[3]*gU[0]*gV[1] + cf_iter[4]*gU[1]*gV[1] + cf_iter[5]*gU[2]*gV[1] +\\\n",
    "#            cf_iter[6]*gU[0]*gV[2] + cf_iter[7]*gU[1]*gV[2] + cf_iter[8]*gU[2]*gV[2])*ngs.dx\n",
    "\n",
    "# K_iter += ((cf_iter*ngs.grad(u))*ngs.grad(v))*ngs.dx\n",
    "C_iter = ngs.Preconditioner(K_iter, type = \"local\")\n",
    "\n",
    "def fun_ddW():\n",
    "    # with ngs.TaskManager(): \n",
    "    K_iter.Assemble()\n",
    "    return K_iter"
   ]
  },
  {
   "cell_type": "code",
   "execution_count": 65,
   "metadata": {},
   "outputs": [
    {
     "name": "stdout",
     "output_type": "stream",
     "text": [
      "Using 3D mesh with ne= 179611 elements and nv= 31186 points and  31186 DOFs.\n",
      " \n",
      "Iter:  1 | assem : 0.05s,0.19s,0.86s | CG took 0.12s with  208 iterations | alpha : 0.25 | energy = 0.6407810998 | relres = 1.00e+00 |\n",
      "Iter:  2 | assem : 0.06s,0.29s,0.40s | CG took 0.13s with  233 iterations | alpha : 1.00 | energy = 0.2080469297 | relres = 7.07e-02 |\n",
      "Iter:  3 | assem : 0.05s,0.11s,0.45s | CG took 0.09s with  244 iterations | alpha : 1.00 | energy = 0.0944679575 | relres = 3.65e-03 |\n",
      "Iter:  4 | assem : 0.06s,0.08s,0.74s | CG took 0.57s with  222 iterations | alpha : 1.00 | energy = 0.0911269007 | relres = 2.02e-03 |\n",
      "Iter:  5 | assem : 0.07s,0.75s,0.82s | CG took 0.13s with  217 iterations | alpha : 0.50 | energy = 0.0902008342 | relres = 2.64e-03 |\n",
      "Iter:  6 | assem : 0.06s,0.14s,0.61s | CG took 0.05s with  189 iterations | alpha : 0.12 | energy = 0.0896771460 | relres = 3.29e-03 |\n",
      "Iter:  7 | assem : 0.09s,0.37s,0.67s | CG took 0.40s with  206 iterations | alpha : 0.12 | energy = 0.0886076974 | relres = 8.08e-04 |\n",
      "Iter:  8 | assem : 0.05s,0.14s,0.53s | CG took 0.16s with  197 iterations | alpha : 0.12 | energy = 0.0884589625 | relres = 5.59e-04 |\n",
      "Iter:  9 | assem : 0.06s,0.37s,0.87s | CG took 0.12s with  196 iterations | alpha : 0.12 | energy = 0.0883948213 | relres = 4.92e-04 |\n",
      "Iter: 10 | assem : 0.05s,0.09s,0.39s | CG took 0.15s with  199 iterations | alpha : 0.12 | energy = 0.0883462111 | relres = 4.24e-04 |\n",
      "Iter: 11 | assem : 0.05s,0.32s,1.03s | CG took 0.14s with  195 iterations | alpha : 0.12 | energy = 0.0883012554 | relres = 3.62e-04 |\n",
      "Iter: 12 | assem : 0.06s,0.32s,0.89s | CG took 0.26s with  190 iterations | alpha : 0.12 | energy = 0.0882688108 | relres = 2.70e-04 |\n",
      "Iter: 13 | assem : 0.10s,0.35s,1.16s | CG took 0.32s with  194 iterations | alpha : 0.12 | energy = 0.0882209765 | relres = 1.43e-04 |\n",
      "Iter: 14 | assem : 0.09s,0.45s,1.81s | CG took 0.17s with  209 iterations | alpha : 1.00 | energy = 0.0881834844 | relres = 3.98e-05 |\n",
      "Iter: 15 | assem : 0.09s,0.54s,1.03s | CG took 0.04s with  177 iterations | alpha : 1.00 | energy = 0.0881126339 | relres = 1.05e-05 |\n",
      "Iter: 16 | assem : 0.06s,0.20s,0.50s | CG took 0.15s with  165 iterations | alpha : 1.00 | energy = 0.0880920610 | relres = 2.00e-06 |\n",
      "Iter: 17 | assem : 0.08s,0.24s,1.08s | CG took 0.13s with  160 iterations | alpha : 1.00 | energy = 0.0880881199 | relres = 1.81e-07 |\n",
      "Iter: 18 | assem : 0.10s,0.54s,0.36s | CG took 0.04s with  161 iterations | alpha : 1.00 | energy = 0.0880877965 | relres = 3.13e-09 |\n",
      "converged to desired tolerance\n"
     ]
    }
   ],
   "source": [
    "with ngs.TaskManager():\n",
    "    print(\"Using 3D mesh with ne=\", mesh.ne, \"elements and nv=\", mesh.nv, \"points and \" ,H1.ndof, \"DOFs.\\n \")\n",
    "\n",
    "    with ngs.TaskManager(): psi.Set(ngs.CF((0)))\n",
    "\n",
    "    du = ngs.GridFunction(H1)\n",
    "    uo = ngs.GridFunction(H1)\n",
    "    wo = 1e12\n",
    "\n",
    "    for it in range(1,maxit+1):\n",
    "        \n",
    "        tic()\n",
    "        # w  = fun_W()\n",
    "        res = ngs.Integrate(cf_coenergy, mesh)\n",
    "        w = res\n",
    "        tm10 = toc()\n",
    "\n",
    "        tic()\n",
    "        # dw = fun_dW()\n",
    "        rhs.Assemble()\n",
    "        dw = rhs\n",
    "        tm11 = toc()\n",
    "\n",
    "        tic()\n",
    "        # da = fun_ddW()\n",
    "        K_iter.Assemble()\n",
    "        da = K_iter\n",
    "        tm12 = toc()\n",
    "        \n",
    "        tic()\n",
    "        # iterativeSolver = CGSolver(K_iter.mat, freedofs = HCurl.FreeDofs(), atol = 1e-2,  maxiter = maxit, printrates = False)\n",
    "        with ngs.TaskManager():\n",
    "            iterativeSolver = CGSolver(K_iter.mat, pre = C_iter.mat, tol  = 1e-8,  maxiter = maxit)\n",
    "            # iterativeSolver = CGSolver(K_iter.mat, freedofs = H1.FreeDofs(), tol  = 1e-2,  maxiter = maxit)\n",
    "            du.vec.data = iterativeSolver * dw.vec\n",
    "            # du.vec.data = da.mat.Inverse(H1.FreeDofs(), inverse=\"sparsecholesky\") * dw.vec \n",
    "        \n",
    "        if len(iterativeSolver.residuals) == maxit: print(\"... Success!\")\n",
    "        # print(f\"Number of iterations = {iterativeSolver.iterations}/{maxit} | Residual = {iterativeSolver.residuals[-1]}\")\n",
    "        tm2 = toc()\n",
    "\n",
    "        nrm = ngs.InnerProduct(du.vec,dw.vec)\n",
    "        \n",
    "        if it == 1:\n",
    "            nrm0 = nrm\n",
    "\n",
    "        wn = 1e12\n",
    "        # if nrm/nrm0 < tol2:\n",
    "        if abs(wo-w) < tol2:\n",
    "        # if abs(wn-w) < tol2:\n",
    "            print(\"converged to desired tolerance\")\n",
    "            break\n",
    "        # elif abs(wo-w) < tol2*1e-2:\n",
    "        #     print(\"stopped early due to stagnation\")\n",
    "        #     break\n",
    "        else:\n",
    "            # linesearch\n",
    "            uo.vec.data = psi.vec.data\n",
    "            wo = w\n",
    "            alpha = 1\n",
    "            for init in range(1,21):\n",
    "                psi.vec.data -= alpha*du.vec.data\n",
    "                wn = fun_W()\n",
    "                if wn < w - alpha*0.1*nrm:\n",
    "                    print(\"Iter: %2d | assem : %.2fs,%.2fs,%.2fs | CG took %.2fs with %4d iterations | alpha : %.2f | energy = %.10f | relres = %.2e |\"  %(it,tm10,tm11,tm12,tm2,iterativeSolver.iterations,alpha,w,nrm/nrm0))\n",
    "                    break\n",
    "                else:\n",
    "                    alpha = alpha/2\n",
    "                    psi.vec.data = uo.vec.data"
   ]
  },
  {
   "cell_type": "code",
   "execution_count": 66,
   "metadata": {},
   "outputs": [],
   "source": [
    "# L2 = ngs.L2(mesh, dim=3, order = 3)\n",
    "# BB = ngs.GridFunction(L2)\n",
    "\n",
    "\n",
    "# # B = fun_dw(H)\n",
    "\n",
    "# with ngs.TaskManager(): BB.Set(B)\n",
    "# BBnp = BB.vec.FV().NumPy()\n",
    "\n",
    "\n",
    "# import matplotlib.pyplot as plt\n",
    "# import numpy as np\n",
    "# print(max(abs(BBnp)))\n",
    "\n",
    "# plt.plot((BBnp))"
   ]
  },
  {
   "cell_type": "code",
   "execution_count": 67,
   "metadata": {},
   "outputs": [],
   "source": [
    "B = cf_rhs*H\n",
    "# Draw(H, mesh, clipping={\"z\":-1, \"dist\":0.064})"
   ]
  },
  {
   "cell_type": "code",
   "execution_count": 68,
   "metadata": {},
   "outputs": [
    {
     "data": {
      "text/plain": [
       "7.163365637265201e-05"
      ]
     },
     "execution_count": 68,
     "metadata": {},
     "output_type": "execute_result"
    }
   ],
   "source": [
    "ngs.Integrate(ngs.Norm(B),mesh)"
   ]
  },
  {
   "cell_type": "code",
   "execution_count": null,
   "metadata": {},
   "outputs": [],
   "source": []
  }
 ],
 "metadata": {
  "kernelspec": {
   "display_name": "pdefem",
   "language": "python",
   "name": "python3"
  },
  "language_info": {
   "codemirror_mode": {
    "name": "ipython",
    "version": 3
   },
   "file_extension": ".py",
   "mimetype": "text/x-python",
   "name": "python",
   "nbconvert_exporter": "python",
   "pygments_lexer": "ipython3",
   "version": "3.10.13"
  }
 },
 "nbformat": 4,
 "nbformat_minor": 2
}
