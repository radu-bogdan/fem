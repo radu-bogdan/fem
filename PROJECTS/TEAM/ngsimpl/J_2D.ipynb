{
 "cells": [
  {
   "cell_type": "code",
   "execution_count": 12,
   "metadata": {},
   "outputs": [
    {
     "name": "stdout",
     "output_type": "stream",
     "text": [
      "using 3d mesh with ne= 69424  elements and nv= 35047  points\n"
     ]
    }
   ],
   "source": [
    "import ngsolve as ngs\n",
    "from netgen.webgui import Draw as DrawGeo\n",
    "from ngsolve.webgui import Draw\n",
    "\n",
    "mesh = ngs.Mesh('team10_2d.vol')\n",
    "mesh.Curve(2)\n",
    "# mesh.Refine()\n",
    "\n",
    "print(\"using 3d mesh with ne=\", mesh.ne, \" elements and nv=\", mesh.nv, \" points\")\n"
   ]
  },
  {
   "cell_type": "code",
   "execution_count": 13,
   "metadata": {},
   "outputs": [],
   "source": [
    "from ngsolve.krylovspace import CGSolver\n",
    "\n",
    "deg = 1\n",
    "\n",
    "# HCurl = ngs.HCurl(mesh, order = deg, dirichlet = \"ambient_face\")\n",
    "HCurl = ngs.HCurl(mesh, order = deg)\n",
    "H1 = ngs.H1(mesh, order = deg+1)\n",
    "\n",
    "X = HCurl*H1\n",
    "\n",
    "(u,p),(v,q) = X.TnT()\n",
    "\n",
    "K = ngs.BilinearForm(X)\n",
    "K += (ngs.curl(u)*ngs.curl(v) - v*ngs.grad(p) +ngs.grad(q)*u)*ngs.dx\n",
    "C = ngs.Preconditioner(K, type = \"local\")\n",
    "\n",
    "total_current = 1000/0.0025\n",
    "cfJ = mesh.MaterialCF({\"coil_plus\": total_current, \"coil_minus\": -total_current}, default = 0)\n",
    "\n",
    "\n",
    "f = ngs.LinearForm(X)\n",
    "f += cfJ*ngs.curl(v)*ngs.dx()\n",
    "\n",
    "with ngs.TaskManager():\n",
    "    K.Assemble()\n",
    "    f.Assemble()\n",
    "\n",
    "HsA = ngs.GridFunction(X)\n",
    "HsA.vec.data = K.mat.Inverse(X.FreeDofs())*f.vec\n",
    "\n",
    "Hs = HsA.components[0]\n",
    "\n",
    "# # with ngs.TaskManager():\n",
    "# #     iterativeSolver = CGSolver(K.mat, pre = C.mat, tol  = 1e-8,  maxiter = 1000)\n",
    "# #     J.vec.data = iterativeSolver * f.vec\n",
    "\n",
    "# J.vec.FV()"
   ]
  },
  {
   "cell_type": "code",
   "execution_count": 14,
   "metadata": {},
   "outputs": [],
   "source": [
    "# Draw(Hs, mesh)\n",
    "# Draw(ngs.curl(Hs), mesh)"
   ]
  }
 ],
 "metadata": {
  "kernelspec": {
   "display_name": "pdefem",
   "language": "python",
   "name": "python3"
  },
  "language_info": {
   "codemirror_mode": {
    "name": "ipython",
    "version": 3
   },
   "file_extension": ".py",
   "mimetype": "text/x-python",
   "name": "python",
   "nbconvert_exporter": "python",
   "pygments_lexer": "ipython3",
   "version": "3.10.13"
  }
 },
 "nbformat": 4,
 "nbformat_minor": 2
}
