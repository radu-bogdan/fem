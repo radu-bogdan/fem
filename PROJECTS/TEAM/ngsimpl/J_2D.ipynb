{
 "cells": [
  {
   "cell_type": "code",
   "execution_count": 131,
   "metadata": {},
   "outputs": [
    {
     "data": {
      "text/plain": [
       "<ngsolve.comp.Mesh at 0x25cbef8a7a0>"
      ]
     },
     "execution_count": 131,
     "metadata": {},
     "output_type": "execute_result"
    }
   ],
   "source": [
    "import ngsolve as ngs\n",
    "from netgen.webgui import Draw as DrawGeo\n",
    "from ngsolve.webgui import Draw\n",
    "\n",
    "mesh = ngs.Mesh('team10_2d.vol')\n",
    "mesh.Curve(2)\n",
    "# mesh.Refine()\n",
    "\n",
    "# print(\"using 2D mesh with ne=\", mesh.ne, \" elements and nv=\", mesh.nv, \" points\")\n"
   ]
  },
  {
   "cell_type": "code",
   "execution_count": 132,
   "metadata": {},
   "outputs": [
    {
     "name": "stdout",
     "output_type": "stream",
     "text": [
      "Using 2D mesh with ne= 33576 elements and nv= 16987 points and  50562 edges and  404101 DOFs. Actual DOFs after condensation: 269797 .\n",
      " \n"
     ]
    }
   ],
   "source": [
    "from ngsolve.krylovspace import CGSolver\n",
    "\n",
    "deg = 2\n",
    "\n",
    "# HCurl = ngs.HCurl(mesh, order = deg, dirichlet = \"ambient_face\")\n",
    "HCurl = ngs.HCurl(mesh, order = deg)\n",
    "H1 = ngs.H1(mesh, order = deg + 1)\n",
    "\n",
    "X = HCurl*H1\n",
    "\n",
    "(u,p),(v,q) = X.TnT()\n",
    "\n",
    "eps = 1e-8\n",
    "\n",
    "K = ngs.BilinearForm(X, condense = True)\n",
    "K += (ngs.curl(u)*ngs.curl(v) - v*ngs.grad(p) +ngs.grad(q)*u)*ngs.dx\n",
    "C = ngs.Preconditioner(K, type = \"local\")\n",
    "\n",
    "total_current = 1000/0.0025\n",
    "cfJ = mesh.MaterialCF({\"coil_plus\": total_current, \"coil_minus\": -total_current}, default = 0)\n",
    "\n",
    "\n",
    "f = ngs.LinearForm(X)\n",
    "f += cfJ*ngs.curl(v)*ngs.dx()\n",
    "\n",
    "with ngs.TaskManager():\n",
    "    K.Assemble()\n",
    "    f.Assemble()\n",
    "\n",
    "HsA = ngs.GridFunction(X)\n",
    "\n",
    "invS = K.mat.Inverse(freedofs = X.FreeDofs(coupling=True))\n",
    "ext = ngs.IdentityMatrix() + K.harmonic_extension\n",
    "extT = ngs.IdentityMatrix() + K.harmonic_extension_trans\n",
    "invA =  ext @ invS @ extT + K.inner_solve\n",
    "\n",
    "HsA.vec.data = invA*f.vec\n",
    "# HsA.vec.data = K.mat.Inverse(X.FreeDofs())*f.vec\n",
    "\n",
    "Hs = HsA.components[0]\n",
    "\n",
    "# # with ngs.TaskManager():\n",
    "# #     iterativeSolver = CGSolver(K.mat, pre = C.mat, tol  = 1e-8,  maxiter = 1000)\n",
    "# #     J.vec.data = iterativeSolver * f.vec\n",
    "\n",
    "# J.vec.FV()\n",
    "\n",
    "import numpy as np\n",
    "actual_ndof = np.argwhere(X.FreeDofs(True)).size\n",
    "print(\"Using 2D mesh with ne=\", mesh.ne, \"elements and nv=\", mesh.nv, \"points and \", mesh.nedge, \"edges and \" ,X.ndof, \"DOFs. Actual DOFs after condensation:\", actual_ndof, \".\\n \")"
   ]
  },
  {
   "cell_type": "code",
   "execution_count": 133,
   "metadata": {},
   "outputs": [],
   "source": [
    "# Draw(Hs, mesh)\n",
    "# Draw(ngs.curl(Hs), mesh)"
   ]
  },
  {
   "cell_type": "code",
   "execution_count": 134,
   "metadata": {},
   "outputs": [],
   "source": [
    "# from ngsolve.krylovspace import CGSolver\n",
    "\n",
    "# deg = 3\n",
    "\n",
    "# # HCurl = ngs.HCurl(mesh, order = deg, dirichlet = \"ambient_face\")\n",
    "# HCurl = ngs.HCurl(mesh, order = deg, nograds = True)\n",
    "\n",
    "# X = HCurl\n",
    "\n",
    "# u, v = X.TnT()\n",
    "\n",
    "# eps = 0 #1e-5\n",
    "\n",
    "# K = ngs.BilinearForm(X)\n",
    "# K += (ngs.curl(u)*ngs.curl(v)+eps*u*v)*ngs.dx\n",
    "# C = ngs.Preconditioner(K, type = \"local\")\n",
    "\n",
    "# total_current = 1000/0.0025\n",
    "# cfJ = mesh.MaterialCF({\"coil_plus\": total_current, \"coil_minus\": -total_current}, default = 0)\n",
    "\n",
    "\n",
    "# f = ngs.LinearForm(X)\n",
    "# f += cfJ*ngs.curl(v)*ngs.dx()\n",
    "\n",
    "# with ngs.TaskManager():\n",
    "#     K.Assemble()\n",
    "#     f.Assemble()\n",
    "\n",
    "# Hs = ngs.GridFunction(X)\n",
    "\n",
    "# # invS = K.mat.Inverse(freedofs = X.FreeDofs(coupling=True))\n",
    "# # ext = ngs.IdentityMatrix() + K.harmonic_extension\n",
    "# # extT = ngs.IdentityMatrix() + K.harmonic_extension_trans\n",
    "# # invA =  ext @ invS @ extT + K.inner_solve\n",
    "\n",
    "# # HsA.vec.data = invA*f.vec\n",
    "# # Hs.vec.data = K.mat.Inverse(X.FreeDofs())*f.vec\n",
    "\n",
    "# with ngs.TaskManager():\n",
    "#     iterativeSolver = CGSolver(K.mat, pre = C.mat, tol  = 1e-8,  maxiter = 100000)\n",
    "#     Hs.vec.data = iterativeSolver * f.vec\n",
    "\n",
    "# # J.vec.FV()\n",
    "\n",
    "# import numpy as np\n",
    "# actual_ndof = np.argwhere(X.FreeDofs()).size\n",
    "# print(\"Using 2D mesh with ne=\", mesh.ne, \"elements and nv=\", mesh.nv, \"points and \", mesh.nedge, \"edges and \" ,X.ndof, \"DOFs. Actual DOFs after condensation:\", actual_ndof, \".\\n \")"
   ]
  },
  {
   "cell_type": "code",
   "execution_count": 135,
   "metadata": {},
   "outputs": [],
   "source": [
    "# Draw(Hs, mesh)\n",
    "# Draw(ngs.curl(Hs), mesh)"
   ]
  },
  {
   "cell_type": "code",
   "execution_count": null,
   "metadata": {},
   "outputs": [],
   "source": []
  }
 ],
 "metadata": {
  "kernelspec": {
   "display_name": "pdefem",
   "language": "python",
   "name": "python3"
  },
  "language_info": {
   "codemirror_mode": {
    "name": "ipython",
    "version": 3
   },
   "file_extension": ".py",
   "mimetype": "text/x-python",
   "name": "python",
   "nbconvert_exporter": "python",
   "pygments_lexer": "ipython3",
   "version": "3.10.13"
  }
 },
 "nbformat": 4,
 "nbformat_minor": 2
}
