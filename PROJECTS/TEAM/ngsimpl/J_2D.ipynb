{
 "cells": [
  {
   "cell_type": "code",
   "execution_count": 31,
   "metadata": {},
   "outputs": [
    {
     "name": "stdout",
     "output_type": "stream",
     "text": [
      "using 3d mesh with ne= 0  elements and nv= 3846  points\n"
     ]
    }
   ],
   "source": [
    "import ngsolve as ngs\n",
    "from netgen.webgui import Draw as DrawGeo\n",
    "from ngsolve.webgui import Draw\n",
    "\n",
    "mesh = ngs.Mesh('team10_2d.vol')\n",
    "mesh.Curve(2)\n",
    "# mesh.Refine()\n",
    "\n",
    "print(\"using 3d mesh with ne=\", mesh.ne, \" elements and nv=\", mesh.nv, \" points\")\n",
    "\n",
    "p = 2"
   ]
  },
  {
   "cell_type": "code",
   "execution_count": 36,
   "metadata": {},
   "outputs": [],
   "source": [
    "# Draw(mesh)"
   ]
  },
  {
   "cell_type": "code",
   "execution_count": 64,
   "metadata": {},
   "outputs": [
    {
     "ename": "NgException",
     "evalue": "SymbolicLFI needs scalar-valued CoefficientFunction",
     "output_type": "error",
     "traceback": [
      "\u001b[1;31m---------------------------------------------------------------------------\u001b[0m",
      "\u001b[1;31mNgException\u001b[0m                               Traceback (most recent call last)",
      "Cell \u001b[1;32mIn[64], line 19\u001b[0m\n\u001b[0;32m     16\u001b[0m \u001b[38;5;66;03m# cfJ = ngs.CF({\"coil_plus\": total_current, \"coil_minus\": -total_current})\u001b[39;00m\n\u001b[0;32m     18\u001b[0m f \u001b[38;5;241m=\u001b[39m ngs\u001b[38;5;241m.\u001b[39mLinearForm(Hcurl)\n\u001b[1;32m---> 19\u001b[0m \u001b[43mf\u001b[49m\u001b[43m \u001b[49m\u001b[38;5;241;43m+\u001b[39;49m\u001b[38;5;241;43m=\u001b[39;49m\u001b[43m \u001b[49m\u001b[43mcfJ\u001b[49m\u001b[38;5;241;43m*\u001b[39;49m\u001b[43mngs\u001b[49m\u001b[38;5;241;43m.\u001b[39;49m\u001b[43mcurl\u001b[49m\u001b[43m(\u001b[49m\u001b[43mv\u001b[49m\u001b[43m)\u001b[49m\u001b[38;5;241;43m*\u001b[39;49m\u001b[43mngs\u001b[49m\u001b[38;5;241;43m.\u001b[39;49m\u001b[43mdx\u001b[49m\u001b[43m(\u001b[49m\u001b[43m)\u001b[49m\n",
      "\u001b[1;31mNgException\u001b[0m: SymbolicLFI needs scalar-valued CoefficientFunction"
     ]
    },
    {
     "ename": "",
     "evalue": "",
     "output_type": "error",
     "traceback": [
      "\u001b[1;31mThe Kernel crashed while executing code in the current cell or a previous cell. \n",
      "\u001b[1;31mPlease review the code in the cell(s) to identify a possible cause of the failure. \n",
      "\u001b[1;31mClick <a href='https://aka.ms/vscodeJupyterKernelCrash'>here</a> for more info. \n",
      "\u001b[1;31mView Jupyter <a href='command:jupyter.viewOutput'>log</a> for further details."
     ]
    }
   ],
   "source": [
    "p = 1\n",
    "\n",
    "rot = ngs.CF((0,1,-1,0), dims=(2,2))\n",
    "def curl2d(a):\n",
    "    return rot*ngs.grad(a)\n",
    "\n",
    "H1 = ngs.H1(mesh, order = p)\n",
    "u,v = H1.TnT()\n",
    "\n",
    "K = ngs.BilinearForm(H1)\n",
    "K += ngs.curl(u)*ngs.curl(v)*ngs.dx()\n",
    "\n",
    "\n",
    "total_current = 1000/0.0025\n",
    "cfJ ngs.= mesh.MaterialCF({\"coil_plus\": total_current, \"coil_minus\": -total_current}, default = 0)\n",
    "# cfJ = ngs.CF({\"coil_plus\": total_current, \"coil_minus\": -total_current})\n",
    "\n",
    "f = ngs.LinearForm(H1)\n",
    "f += cfJ*ngs.curl(v)*ngs.dxngs.()"
   ]
  },
  {
   "cell_type": "code",
   "execution_count": 49,
   "metadata": {},
   "outputs": [
    {
     "data": {
      "text/plain": [
       "400000.0"
      ]
     },
     "execution_count": 49,
     "metadata": {},
     "output_type": "execute_result"
    }
   ],
   "source": [
    "total_current"
   ]
  },
  {
   "cell_type": "code",
   "execution_count": 33,
   "metadata": {},
   "outputs": [
    {
     "name": "stdout",
     "output_type": "stream",
     "text": [
      "Solving...\n",
      "Number of iterations = 357/1000 | Residual = 9.493271747018348e-06\n",
      "0.0\n"
     ]
    }
   ],
   "source": [
    "from ngsolve.krylovspace import CGSolver\n",
    "\n",
    "\n",
    "\n",
    "# Weak form\n",
    "T, Tstar = HcurlCoil.TnT()\n",
    "Kt = ngs.BilinearForm(ngs.curl(Tstar)*ngs.curl(T)*ngs.dx)\n",
    "    \n",
    "# Assembly\n",
    "with ngs.TaskManager(): Kt.Assemble()\n",
    "\n",
    "r = - Kt.mat * gfuDirichlet.vec\n",
    "\n",
    "# Solving\n",
    "maxres = 1e-5\n",
    "maxit = 1000\n",
    "                              \n",
    "Tsol = ngs.GridFunction(HcurlCoil)\n",
    "print(\"Solving...\")\n",
    "\n",
    "with ngs.TaskManager():\n",
    "    iterativeSolver = CGSolver(Kt.mat, freedofs = HcurlCoil.FreeDofs(), atol  = maxres,  maxiter = maxit)\n",
    "    Tsol.vec.data = iterativeSolver * r + gfuDirichlet.vec\n",
    "\n",
    "# if len(iterativeSolver.residuals) == maxit: print(\"... Failure!\")\n",
    "# else: print(\"... Success!\")\n",
    "print(f\"Number of iterations = {iterativeSolver.iterations}/{maxit} | Residual = {iterativeSolver.residuals[-1]}\")\n",
    "\n",
    "# Draw(ngs.curl(Tsol), mesh, vectors = { \"grid_size\" : 150},clipping = {\"x\" : 0, \"y\" : 0, \"z\" : -1, \"dist\" : 0})\n",
    "with ngs.TaskManager():\n",
    "    flux_bd = ngs.Integrate(ngs.curl(Tsol) * n, mesh, definedon = mesh.Boundaries(\"coil_cut_2\"))\n",
    "print(flux_bd)"
   ]
  },
  {
   "cell_type": "code",
   "execution_count": 34,
   "metadata": {},
   "outputs": [
    {
     "name": "stdout",
     "output_type": "stream",
     "text": [
      "Solving...\n",
      "Number of iterations = 1000/1000 | Residual = nan\n",
      "0.0\n"
     ]
    }
   ],
   "source": [
    "# Hcurl = ngs.HCurl(mesh, order = p, nograds = True)\n",
    "Hcurl = ngs.HCurl(mesh, order = p, nograds = True, dirichlet = 'ambient_face')\n",
    "u,v = Hcurl.TnT()\n",
    "\n",
    "K = ngs.BilinearForm(ngs.curl(u)*ngs.curl(v)*ngs.dx)\n",
    "c = ngs.Preconditioner(K, type = \"local\")\n",
    "\n",
    "with ngs.TaskManager(): K.Assemble()\n",
    "\n",
    "f = ngs.LinearForm(Hcurl)\n",
    "f +=  ngs.curl(Tsol)* ngs.curl(v) * ngs.dx\n",
    "\n",
    "with ngs.TaskManager(): f.Assemble()\n",
    "\n",
    "Hs = ngs.GridFunction(Hcurl)\n",
    "print(\"Solving...\")\n",
    "\n",
    "with ngs.TaskManager():\n",
    "    iterativeSolver = CGSolver(K.mat, c.mat, atol  = maxres,  maxiter = maxit)\n",
    "    # iterativeSolver = CGSolver(K.mat, freedofs = Hcurl.FreeDofs(), tol  = maxres,  maxiter = maxit)\n",
    "    Hs.vec.data = iterativeSolver * f.vec\n",
    "\n",
    "# if len(iterativeSolver.residuals) == maxit: print(\"... Failure!\")\n",
    "# else: print(\"... Success!\")\n",
    "print(f\"Number of iterations = {iterativeSolver.iterations}/{maxit} | Residual = {iterativeSolver.residuals[-1]}\")\n",
    "\n",
    "# Draw(ngs.curl(Hs), mesh, vectors = { \"grid_size\" : 150},clipping = {\"x\" : 0, \"y\" : 0, \"z\" : -1, \"dist\" : 0})\n",
    "\n",
    "with ngs.TaskManager():\n",
    "    flux_bd = ngs.Integrate(ngs.curl(Hs) * n, mesh, definedon = mesh.Boundaries(\"coil_cut_2\"))\n",
    "print(flux_bd)"
   ]
  },
  {
   "cell_type": "code",
   "execution_count": 35,
   "metadata": {},
   "outputs": [],
   "source": [
    "# Draw(ngs.curl(Hs), mesh, vectors = { \"grid_size\" : 500},clipping = {\"x\" : 0, \"y\" : 0, \"z\" : -1, \"dist\" : 0})"
   ]
  },
  {
   "cell_type": "code",
   "execution_count": null,
   "metadata": {},
   "outputs": [],
   "source": []
  }
 ],
 "metadata": {
  "kernelspec": {
   "display_name": "pdefem",
   "language": "python",
   "name": "python3"
  },
  "language_info": {
   "codemirror_mode": {
    "name": "ipython",
    "version": 3
   },
   "file_extension": ".py",
   "mimetype": "text/x-python",
   "name": "python",
   "nbconvert_exporter": "python",
   "pygments_lexer": "ipython3",
   "version": "3.11.7"
  }
 },
 "nbformat": 4,
 "nbformat_minor": 2
}
