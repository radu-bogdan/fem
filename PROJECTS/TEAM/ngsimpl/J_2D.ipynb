{
 "cells": [
  {
   "cell_type": "code",
   "execution_count": 5,
   "metadata": {},
   "outputs": [
    {
     "name": "stdout",
     "output_type": "stream",
     "text": [
      "using 3d mesh with ne= 45440  elements and nv= 23021  points\n"
     ]
    }
   ],
   "source": [
    "import ngsolve as ngs\n",
    "from netgen.webgui import Draw as DrawGeo\n",
    "from ngsolve.webgui import Draw\n",
    "\n",
    "mesh = ngs.Mesh('team10_2d.vol')\n",
    "mesh.Curve(2)\n",
    "# mesh.Refine()\n",
    "\n",
    "print(\"using 3d mesh with ne=\", mesh.ne, \" elements and nv=\", mesh.nv, \" points\")\n"
   ]
  },
  {
   "cell_type": "code",
   "execution_count": 6,
   "metadata": {},
   "outputs": [
    {
     "ename": "NgException",
     "evalue": "PardisoInverse: Setup and Factorization failed.",
     "output_type": "error",
     "traceback": [
      "\u001b[1;31m---------------------------------------------------------------------------\u001b[0m",
      "\u001b[1;31mNgException\u001b[0m                               Traceback (most recent call last)",
      "Cell \u001b[1;32mIn[6], line 29\u001b[0m\n\u001b[0;32m     26\u001b[0m     f\u001b[38;5;241m.\u001b[39mAssemble()\n\u001b[0;32m     28\u001b[0m HsA \u001b[38;5;241m=\u001b[39m ngs\u001b[38;5;241m.\u001b[39mGridFunction(X)\n\u001b[1;32m---> 29\u001b[0m HsA\u001b[38;5;241m.\u001b[39mvec\u001b[38;5;241m.\u001b[39mdata \u001b[38;5;241m=\u001b[39m \u001b[43mK\u001b[49m\u001b[38;5;241;43m.\u001b[39;49m\u001b[43mmat\u001b[49m\u001b[38;5;241;43m.\u001b[39;49m\u001b[43mInverse\u001b[49m\u001b[43m(\u001b[49m\u001b[43mX\u001b[49m\u001b[38;5;241;43m.\u001b[39;49m\u001b[43mFreeDofs\u001b[49m\u001b[43m(\u001b[49m\u001b[43m)\u001b[49m\u001b[43m)\u001b[49m\u001b[38;5;241m*\u001b[39mf\u001b[38;5;241m.\u001b[39mvec\n\u001b[0;32m     31\u001b[0m Hs \u001b[38;5;241m=\u001b[39m HsA\u001b[38;5;241m.\u001b[39mcomponents[\u001b[38;5;241m0\u001b[39m]\n\u001b[0;32m     33\u001b[0m \u001b[38;5;66;03m# # with ngs.TaskManager():\u001b[39;00m\n\u001b[0;32m     34\u001b[0m \u001b[38;5;66;03m# #     iterativeSolver = CGSolver(K.mat, pre = C.mat, tol  = 1e-8,  maxiter = 1000)\u001b[39;00m\n\u001b[0;32m     35\u001b[0m \u001b[38;5;66;03m# #     J.vec.data = iterativeSolver * f.vec\u001b[39;00m\n\u001b[0;32m     36\u001b[0m \n\u001b[0;32m     37\u001b[0m \u001b[38;5;66;03m# J.vec.FV()\u001b[39;00m\n",
      "\u001b[1;31mNgException\u001b[0m: PardisoInverse: Setup and Factorization failed."
     ]
    }
   ],
   "source": [
    "from ngsolve.krylovspace import CGSolver\n",
    "\n",
    "deg = 0\n",
    "\n",
    "# HCurl = ngs.HCurl(mesh, order = deg, dirichlet = \"ambient_face\")\n",
    "HCurl = ngs.HCurl(mesh, order = deg)\n",
    "H1 = ngs.H1(mesh, order = deg+1)\n",
    "\n",
    "deg = 3\n",
    "\n",
    "X = HCurl*H1\n",
    "\n",
    "(u,p),(v,q) = X.TnT()\n",
    "\n",
    "K = ngs.BilinearForm(X)\n",
    "K += (ngs.curl(u)*ngs.curl(v) - v*ngs.grad(p) +ngs.grad(q)*u)*ngs.dx\n",
    "C = ngs.Preconditioner(K, type = \"local\")\n",
    "\n",
    "total_current = 1000/0.0025\n",
    "cfJ = mesh.MaterialCF({\"coil_plus\": total_current, \"coil_minus\": -total_current}, default = 0)\n",
    "\n",
    "\n",
    "f = ngs.LinearForm(X)\n",
    "f += cfJ*ngs.curl(v)*ngs.dx()\n",
    "\n",
    "with ngs.TaskManager():\n",
    "    K.Assemble()\n",
    "    f.Assemble()\n",
    "\n",
    "HsA = ngs.GridFunction(X)\n",
    "HsA.vec.data = K.mat.Inverse(X.FreeDofs())*f.vec\n",
    "\n",
    "Hs = HsA.components[0]\n",
    "\n",
    "# # with ngs.TaskManager():\n",
    "# #     iterativeSolver = CGSolver(K.mat, pre = C.mat, tol  = 1e-8,  maxiter = 1000)\n",
    "# #     J.vec.data = iterativeSolver * f.vec\n",
    "\n",
    "# J.vec.FV()"
   ]
  },
  {
   "cell_type": "code",
   "execution_count": null,
   "metadata": {},
   "outputs": [],
   "source": [
    "# Draw(Hs, mesh)\n",
    "# Draw(ngs.curl(Hs), mesh)"
   ]
  }
 ],
 "metadata": {
  "kernelspec": {
   "display_name": "pdefem",
   "language": "python",
   "name": "python3"
  },
  "language_info": {
   "codemirror_mode": {
    "name": "ipython",
    "version": 3
   },
   "file_extension": ".py",
   "mimetype": "text/x-python",
   "name": "python",
   "nbconvert_exporter": "python",
   "pygments_lexer": "ipython3",
   "version": "3.10.13"
  }
 },
 "nbformat": 4,
 "nbformat_minor": 2
}
