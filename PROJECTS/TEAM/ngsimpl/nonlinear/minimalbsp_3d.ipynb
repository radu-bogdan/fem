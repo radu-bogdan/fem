{
 "cells": [
  {
   "cell_type": "code",
   "execution_count": 1,
   "metadata": {},
   "outputs": [
    {
     "name": "stdout",
     "output_type": "stream",
     "text": [
      "BH data from TEAM 13 problem\n",
      "Applying a current of 196.88 Amps\n"
     ]
    }
   ],
   "source": [
    "import ngsolve as ngs\n",
    "from do import solve\n",
    "from ngsolve.webgui import Draw\n",
    "import matplotlib.pyplot as plt\n",
    "from copy import deepcopy\n",
    "\n",
    "levels = 4\n",
    "deg = 1\n",
    "\n",
    "######################################################\n",
    "from bhdata import BHCurves\n",
    "fun_dw  = BHCurves(4)\n",
    "fun_w   = fun_dw.Integrate()\n",
    "fun_ddw = fun_dw.Differentiate()\n",
    "\n",
    "mu0 = 1.256636e-6\n",
    "nu0 = 1/mu0\n",
    "\n",
    "linear = \"coil_plus|coil_minus\"\n",
    "nonlinear = \"stator\"\n",
    "\n",
    "strom = 1e5\n",
    "amps = 0.025**2*3.15*strom\n",
    "print(f'Applying a current of {amps:.2f} Amps')\n",
    "######################################################\n",
    "\n",
    "from createGeom import makeGeo\n",
    "geoOCC = makeGeo()"
   ]
  },
  {
   "cell_type": "code",
   "execution_count": 2,
   "metadata": {},
   "outputs": [
    {
     "name": "stdout",
     "output_type": "stream",
     "text": [
      "Using 3D mesh with ne= 1057 elements and nv= 307 points and  1580 DOFs.\n",
      " \n",
      "Using 3D mesh with ne= 8456 elements and nv= 1887 points and  12790 DOFs.\n",
      " \n",
      "5.328011346541991e-06\n",
      "Using 3D mesh with ne= 67648 elements and nv= 13097 points and  97006 DOFs.\n",
      " \n",
      "2.2467046595046153e-06\n",
      "Using 3D mesh with ne= 541184 elements and nv= 97313 points and  749390 DOFs.\n",
      " \n",
      "6.508678547245232e-07\n",
      "[8, 8, 8, 8]\n"
     ]
    }
   ],
   "source": [
    "meshes = []; Bs = []; Bps = []; its = [];\n",
    "\n",
    "for i in range(levels):\n",
    "    ngmesh = geoOCC.GenerateMesh()\n",
    "    mesh = ngs.Mesh(ngmesh)\n",
    "\n",
    "    for j in range(i):\n",
    "        mesh.Refine()\n",
    "    mesh.Curve(3)\n",
    "\n",
    "    with ngs.TaskManager(): J = mesh.MaterialCF({'coil_plus': (0,0,strom), 'coil_minus': (0,0,-strom), 'stator': (0,0,0)}, default = (0,0,0))\n",
    "    HCurl = ngs.HCurl(mesh, order = deg, nograds = True, dirichlet = 'outer_face|coil_plus_face|coil_minus_face|stator_face', autoupdate = True)\n",
    "    V3L2 = ngs.L2(mesh, dim = 3, order = deg-1, autoupdate = True)\n",
    "    A0 = ngs.GridFunction(HCurl)\n",
    "    A0, it = solve(HCurl, A0, mesh,deg, J, fun_w, fun_dw, fun_ddw)\n",
    "    its.append(it)\n",
    "\n",
    "    B = ngs.GridFunction(V3L2, nested = True)\n",
    "    with ngs.TaskManager(): B.Set(ngs.curl(A0))\n",
    "    Bs.append(B)\n",
    "\n",
    "    if i>0:\n",
    "        V3L2 = ngs.L2(mesh, dim = 3, order = deg-1)\n",
    "        Bp = ngs.GridFunction(V3L2)\n",
    "        with ngs.TaskManager(): Bp.Set(Bs[i-1])\n",
    "        Bps.append(Bp)\n",
    "        with ngs.TaskManager(): error = ngs.Integrate((B-Bp)**2, mesh)*(1/2)\n",
    "        print(error)\n",
    "        \n",
    "\n",
    "    # ######################################################\n",
    "    # # Refine mesh, apply prolongation\n",
    "    # ######################################################\n",
    "\n",
    "    # ngmesh2 = geoOCC.GenerateMesh()\n",
    "    # mesh2 = ngs.Mesh(ngmesh2)\n",
    "\n",
    "    # for j in range(i+1):\n",
    "    #     mesh2.Refine()\n",
    "    # mesh2.Curve()\n",
    "\n",
    "    # V3L2 = ngs.L2(mesh2, dim=3, order = deg-1)\n",
    "    # Bp = ngs.GridFunction(V3L2)\n",
    "    # Bp.Set(B)\n",
    "    # Bps.append(B)\n",
    "\n",
    "\n",
    "print(its)\n"
   ]
  },
  {
   "cell_type": "code",
   "execution_count": 3,
   "metadata": {},
   "outputs": [
    {
     "data": {
      "text/plain": [
       "array([1.2469249, 1.7873781])"
      ]
     },
     "execution_count": 3,
     "metadata": {},
     "output_type": "execute_result"
    }
   ],
   "source": [
    "import numpy as np\n",
    "a = np.array([5.332232056354972e-06, 2.246711173326673e-06, 6.508678547245244e-07])\n",
    "np.log2(a[:-1]/a[1:])"
   ]
  },
  {
   "cell_type": "code",
   "execution_count": 4,
   "metadata": {},
   "outputs": [
    {
     "name": "stdout",
     "output_type": "stream",
     "text": [
      "Using 3D mesh with ne= 1057 elements and nv= 307 points and  1580 DOFs.\n",
      " \n"
     ]
    },
    {
     "data": {
      "application/vnd.jupyter.widget-view+json": {
       "model_id": "ed6e7f28fd824f5a8d5b84e0b619ec86",
       "version_major": 2,
       "version_minor": 0
      },
      "text/plain": [
       "WebGuiWidget(layout=Layout(height='500px', width='100%'), value={'gui_settings': {}, 'ngsolve_version': '6.2.2…"
      ]
     },
     "metadata": {},
     "output_type": "display_data"
    },
    {
     "data": {
      "application/vnd.jupyter.widget-view+json": {
       "model_id": "8e88a2831413496eb759427e4fb90dec",
       "version_major": 2,
       "version_minor": 0
      },
      "text/plain": [
       "WebGuiWidget(layout=Layout(height='500px', width='100%'), value={'gui_settings': {}, 'ngsolve_version': '6.2.2…"
      ]
     },
     "metadata": {},
     "output_type": "display_data"
    },
    {
     "name": "stdout",
     "output_type": "stream",
     "text": [
      "Using 3D mesh with ne= 8456 elements and nv= 1887 points and  12790 DOFs.\n",
      " \n"
     ]
    },
    {
     "data": {
      "application/vnd.jupyter.widget-view+json": {
       "model_id": "042083d433dc41fbbb8aa8c058d0f6f3",
       "version_major": 2,
       "version_minor": 0
      },
      "text/plain": [
       "WebGuiWidget(layout=Layout(height='500px', width='100%'), value={'gui_settings': {}, 'ngsolve_version': '6.2.2…"
      ]
     },
     "metadata": {},
     "output_type": "display_data"
    },
    {
     "data": {
      "application/vnd.jupyter.widget-view+json": {
       "model_id": "dfa9f1c37b0f4a30bdc75c38363ceaae",
       "version_major": 2,
       "version_minor": 0
      },
      "text/plain": [
       "WebGuiWidget(layout=Layout(height='500px', width='100%'), value={'gui_settings': {}, 'ngsolve_version': '6.2.2…"
      ]
     },
     "metadata": {},
     "output_type": "display_data"
    },
    {
     "data": {
      "text/plain": [
       "4.777482607243841e-06"
      ]
     },
     "execution_count": 4,
     "metadata": {},
     "output_type": "execute_result"
    }
   ],
   "source": [
    "######################################################\n",
    "# Compute first solution\n",
    "######################################################\n",
    "\n",
    "ngmesh = geoOCC.GenerateMesh()\n",
    "mesh = ngs.Mesh(ngmesh)\n",
    "# mesh.Refine()\n",
    "mesh.Curve(3)\n",
    "\n",
    "levels = 2\n",
    "deg = 1\n",
    "\n",
    "J = mesh.MaterialCF({'coil_plus': (0,0,strom), 'coil_minus': (0,0,-strom), 'stator': (0,0,0)}, default = (0,0,0))\n",
    "\n",
    "HCurl = ngs.HCurl(mesh, order = deg, nograds = True, dirichlet = 'outer_face|coil_plus_face|coil_minus_face|stator_face', autoupdate = True)\n",
    "V3L2 = ngs.L2(mesh, dim=3, order = deg-1, autoupdate = True)\n",
    "\n",
    "A0 = ngs.GridFunction(HCurl)\n",
    "A0, it0 = solve(HCurl,A0,mesh,deg,J,fun_w,fun_dw,fun_ddw)\n",
    "\n",
    "B0 = ngs.GridFunction(V3L2, nested = True)\n",
    "with ngs.TaskManager(): B0.Set(ngs.curl(A0))\n",
    "\n",
    "clipping = { \"function\" : True, \"z\" : -0.4}\n",
    "with ngs.TaskManager(): Draw(B0, mesh, clipping = clipping)\n",
    "\n",
    "######################################################\n",
    "# Refine mesh, apply prolongation\n",
    "######################################################\n",
    "\n",
    "ngmesh2 = geoOCC.GenerateMesh()\n",
    "mesh2 = ngs.Mesh(ngmesh2)\n",
    "\n",
    "mesh2.Refine()\n",
    "# mesh2.Refine()\n",
    "mesh2.Curve(3)\n",
    "\n",
    "V3L2 = ngs.L2(mesh2, dim=3, order = deg-1)\n",
    "B01 = ngs.GridFunction(V3L2)\n",
    "B01.Set(B0)\n",
    "\n",
    "clipping = { \"function\" : True, \"z\" : -0.4}\n",
    "with ngs.TaskManager(): Draw(B01, mesh2, clipping = clipping)\n",
    "\n",
    "######################################################\n",
    "# Compute second solution\n",
    "######################################################\n",
    "\n",
    "HCurl = ngs.HCurl(mesh2, order = deg, nograds = True, dirichlet = 'outer_face|coil_plus_face|coil_minus_face|stator_face', autoupdate = True)\n",
    "V3L2 = ngs.L2(mesh2, dim=3, order = deg-1)\n",
    "\n",
    "A1 = ngs.GridFunction(HCurl)\n",
    "A1, it1 = solve(HCurl,A1,mesh2,deg,J,fun_w,fun_dw,fun_ddw)\n",
    "\n",
    "B1 = ngs.GridFunction(V3L2, nested = True)\n",
    "with ngs.TaskManager(): B1.Set(ngs.curl(A1))\n",
    "\n",
    "clipping = { \"function\" : True, \"z\" : -0.4}\n",
    "with ngs.TaskManager(): Draw(B1, mesh2, clipping = clipping)\n",
    "\n",
    "\n",
    "######################################################\n",
    "# Compute error\n",
    "######################################################\n",
    "\n",
    "clipping = { \"function\" : True, \"z\" : -0.4}\n",
    "with ngs.TaskManager(): Draw(B01-B1, mesh2, clipping = clipping)\n",
    "\n",
    "error = ngs.Integrate((B01-B1)**2, mesh)*(1/2)\n",
    "error\n"
   ]
  },
  {
   "cell_type": "code",
   "execution_count": 5,
   "metadata": {},
   "outputs": [
    {
     "data": {
      "application/vnd.jupyter.widget-view+json": {
       "model_id": "93024ce51a6f4bad853a7fe2a97a504b",
       "version_major": 2,
       "version_minor": 0
      },
      "text/plain": [
       "WebGuiWidget(layout=Layout(height='500px', width='100%'), value={'gui_settings': {}, 'ngsolve_version': '6.2.2…"
      ]
     },
     "metadata": {},
     "output_type": "display_data"
    }
   ],
   "source": [
    "ngmesh2 = geoOCC.GenerateMesh()\n",
    "mesh2 = ngs.Mesh(ngmesh2)\n",
    "\n",
    "mesh2.Refine()\n",
    "mesh2.Refine()\n",
    "mesh2.Curve(3)\n",
    "\n",
    "V3L2 = ngs.L2(mesh2, dim=3, order = deg-1)\n",
    "B01 = ngs.GridFunction(V3L2)\n",
    "B01.Set(B0)\n",
    "\n",
    "clipping = { \"function\" : True, \"z\" : -0.4}\n",
    "with ngs.TaskManager(): Draw(B01, mesh2, clipping = clipping)"
   ]
  },
  {
   "cell_type": "code",
   "execution_count": 6,
   "metadata": {},
   "outputs": [
    {
     "name": "stdout",
     "output_type": "stream",
     "text": [
      "Using 3D mesh with ne= 67648 elements and nv= 13097 points and  97006 DOFs.\n",
      " \n"
     ]
    },
    {
     "data": {
      "application/vnd.jupyter.widget-view+json": {
       "model_id": "da2ea08e291443c78a62cca42bdcc5dc",
       "version_major": 2,
       "version_minor": 0
      },
      "text/plain": [
       "WebGuiWidget(layout=Layout(height='500px', width='100%'), value={'gui_settings': {}, 'ngsolve_version': '6.2.2…"
      ]
     },
     "metadata": {},
     "output_type": "display_data"
    }
   ],
   "source": [
    "HCurl = ngs.HCurl(mesh2, order = deg, nograds = True, dirichlet = 'outer_face|coil_plus_face|coil_minus_face|stator_face', autoupdate = True)\n",
    "A1 = ngs.GridFunction(HCurl)\n",
    "A1, it1 = solve(HCurl,A1,mesh2,deg,J,fun_w,fun_dw,fun_ddw)\n",
    "\n",
    "V3L2 = ngs.L2(mesh2, dim=3, order = deg-1)\n",
    "B1 = ngs.GridFunction(V3L2, nested = True)\n",
    "with ngs.TaskManager(): B1.Set(ngs.curl(A1))\n",
    "\n",
    "clipping = { \"function\" : True, \"z\" : -0.4}\n",
    "with ngs.TaskManager(): Draw(B1, mesh2, clipping = clipping)"
   ]
  },
  {
   "cell_type": "code",
   "execution_count": 7,
   "metadata": {},
   "outputs": [
    {
     "data": {
      "text/plain": [
       "7.30165737153249e-06"
      ]
     },
     "execution_count": 7,
     "metadata": {},
     "output_type": "execute_result"
    }
   ],
   "source": [
    "error = ngs.Integrate((B01-B1)**2, mesh)*(1/2)\n",
    "error"
   ]
  },
  {
   "cell_type": "code",
   "execution_count": 10,
   "metadata": {},
   "outputs": [
    {
     "data": {
      "text/plain": [
       "2.4592807841074844"
      ]
     },
     "execution_count": 10,
     "metadata": {},
     "output_type": "execute_result"
    }
   ],
   "source": [
    "\n",
    "np.log2(0.00017818059050590164/3.2399858246322277e-05)"
   ]
  }
 ],
 "metadata": {
  "kernelspec": {
   "display_name": "pdefem",
   "language": "python",
   "name": "python3"
  },
  "language_info": {
   "codemirror_mode": {
    "name": "ipython",
    "version": 3
   },
   "file_extension": ".py",
   "mimetype": "text/x-python",
   "name": "python",
   "nbconvert_exporter": "python",
   "pygments_lexer": "ipython3",
   "version": "3.10.13"
  }
 },
 "nbformat": 4,
 "nbformat_minor": 2
}
