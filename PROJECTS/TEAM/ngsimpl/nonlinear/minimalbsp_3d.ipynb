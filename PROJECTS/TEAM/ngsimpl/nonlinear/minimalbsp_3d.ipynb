{
 "cells": [
  {
   "cell_type": "code",
   "execution_count": 1,
   "metadata": {},
   "outputs": [
    {
     "name": "stdout",
     "output_type": "stream",
     "text": [
      "Applying a current of 196.88 Amps\n"
     ]
    }
   ],
   "source": [
    "import ngsolve as ngs\n",
    "from do import solve\n",
    "from ngsolve.webgui import Draw\n",
    "import matplotlib.pyplot as plt\n",
    "from copy import deepcopy\n",
    "\n",
    "levels = 1\n",
    "deg = 3\n",
    "degdif = 1\n",
    "\n",
    "######################################################\n",
    "# from bhdata import BHCurves\n",
    "# fun_dw  = BHCurves(4)\n",
    "# fun_w   = fun_dw.Integrate()\n",
    "# fun_ddw = fun_dw.Differentiate()\n",
    "######################################################\n",
    "from bhdata import Brauer, BrauerCut\n",
    "fun_w, fun_dw, fun_ddw  = Brauer()\n",
    "######################################################\n",
    "\n",
    "mu0 = 1.256636e-6\n",
    "nu0 = 1/mu0\n",
    "\n",
    "linear = \"coil_plus|coil_minus\"\n",
    "nonlinear = \"stator\"\n",
    "\n",
    "strom = 1e5\n",
    "amps = 0.025**2*3.15*strom\n",
    "print(f'Applying a current of {amps:.2f} Amps')\n",
    "######################################################\n",
    "\n",
    "from createGeom import makeGeo\n",
    "geoOCC = makeGeo()"
   ]
  },
  {
   "cell_type": "code",
   "execution_count": 2,
   "metadata": {},
   "outputs": [
    {
     "name": "stdout",
     "output_type": "stream",
     "text": [
      "#####################################################\n",
      "# Level 0\n",
      "#####################################################\n",
      "Using 3D mesh with ne= 850 elements and nv= 265 points and  13442 DOFs.\n",
      " \n",
      "Iter:  1 | assem : 0.18s | CG took 0.07s with    0 iterations | alpha : 1.00 | energy = 0.0000000015 | relres = 1.00e+00 |\n",
      "Iter:  2 | assem : 0.26s | CG took 0.06s with    0 iterations | alpha : 1.00 | energy = -0.1039725754 | relres = 2.19e+00 |\n",
      "Iter:  3 | assem : 0.17s | CG took 0.06s with    0 iterations | alpha : 1.00 | energy = -0.1442354716 | relres = 8.54e-01 |\n",
      "Iter:  4 | assem : 0.18s | CG took 0.06s with    0 iterations | alpha : 1.00 | energy = -0.1609767874 | relres = 3.24e-01 |\n",
      "Iter:  5 | assem : 0.24s | CG took 0.07s with    0 iterations | alpha : 1.00 | energy = -0.1663037723 | relres = 1.18e-01 |\n",
      "Iter:  6 | assem : 0.21s | CG took 0.08s with    0 iterations | alpha : 0.25 | energy = -0.1674162354 | relres = 4.02e-02 |\n",
      "Iter:  7 | assem : 0.27s | CG took 0.06s with    0 iterations | alpha : 0.06 | energy = -0.1674909115 | relres = 3.06e-02 |\n",
      "Iter:  8 | assem : 0.18s | CG took 0.07s with    0 iterations | alpha : 0.02 | energy = -0.1675001542 | relres = 2.86e-02 |\n",
      "Iter:  9 | assem : 0.17s | CG took 0.08s with    0 iterations | alpha : 0.00 | energy = -0.1675019477 | relres = 2.81e-02 |\n",
      "Iter: 10 | assem : 0.26s | CG took 0.13s with    0 iterations | alpha : 0.00 | energy = -0.1675023648 | relres = 2.80e-02 |\n",
      "Iter: 11 | assem : 0.37s | CG took 0.10s with    0 iterations | alpha : 0.00 | energy = -0.1675024162 | relres = 2.79e-02 |\n",
      "Iter: 12 | assem : 0.30s | CG took 0.09s with    0 iterations | alpha : 0.00 | energy = -0.1675024290 | relres = 2.79e-02 |\n",
      "Iter: 13 | assem : 0.19s | CG took 0.09s with    0 iterations | alpha : 0.00 | energy = -0.1675024322 | relres = 2.79e-02 |\n",
      "Iter: 14 | assem : 0.29s | CG took 0.07s with    0 iterations | alpha : 0.00 | energy = -0.1675024330 | relres = 2.79e-02 |\n",
      "Iter: 15 | assem : 0.26s | CG took 0.07s with    0 iterations | alpha : 0.00 | energy = -0.1675024330 | relres = 2.79e-02 |\n",
      "Iter: 16 | assem : 0.32s | CG took 0.08s with    0 iterations | alpha : 0.00 | energy = -0.1675024330 | relres = 2.79e-02 |\n",
      "0.0006858559174148491\n",
      "Using 3D mesh with ne= 850 elements and nv= 265 points and  27894 DOFs.\n",
      " \n",
      "Iter:  1 | assem : 0.87s | CG took 0.19s with    0 iterations | alpha : 1.00 | energy = 0.0000000015 | relres = 1.00e+00 |\n",
      "Iter:  2 | assem : 0.70s | CG took 0.18s with    0 iterations | alpha : 1.00 | energy = -0.1031372447 | relres = 2.25e+00 |\n",
      "Iter:  3 | assem : 0.80s | CG took 0.18s with    0 iterations | alpha : 1.00 | energy = -0.1437994683 | relres = 8.79e-01 |\n",
      "Iter:  4 | assem : 0.70s | CG took 0.19s with    0 iterations | alpha : 1.00 | energy = -0.1607499533 | relres = 3.33e-01 |\n",
      "Iter:  5 | assem : 0.72s | CG took 0.18s with    0 iterations | alpha : 1.00 | energy = -0.1661851709 | relres = 1.22e-01 |\n",
      "Iter:  6 | assem : 0.77s | CG took 0.18s with    0 iterations | alpha : 0.25 | energy = -0.1674004985 | relres = 4.19e-02 |\n",
      "Iter:  7 | assem : 0.76s | CG took 0.20s with    0 iterations | alpha : 0.12 | energy = -0.1674947943 | relres = 3.19e-02 |\n",
      "Iter:  8 | assem : 0.72s | CG took 0.19s with    0 iterations | alpha : 0.00 | energy = -0.1675130154 | relres = 2.78e-02 |\n",
      "0.0006854618964234239\n",
      "0.011684220641888692\n",
      "[17, 9]\n"
     ]
    }
   ],
   "source": [
    "\n",
    "meshes = []; its = []; errors = []\n",
    "\n",
    "for i in range(levels):\n",
    "\n",
    "    print(\"#####################################################\")\n",
    "    print(f\"# Level {i}\")\n",
    "    print(\"#####################################################\")\n",
    "\n",
    "    ngmesh = geoOCC.GenerateMesh()\n",
    "    mesh = ngs.Mesh(ngmesh)\n",
    "\n",
    "    for j in range(i):\n",
    "        mesh.Refine()\n",
    "    mesh.Curve(2)\n",
    "    \n",
    "    with ngs.TaskManager(): J = mesh.MaterialCF({'coil_plus': (0,0,strom), 'coil_minus': (0,0,-strom), 'stator': (0,0,0)}, default = (0,0,0))\n",
    "    \n",
    "    HCurl_0 = ngs.HCurl(mesh, order = deg, nograds = True, dirichlet = 'outer_face|coil_plus_face|coil_minus_face|stator_face')\n",
    "    L2_0 = ngs.L2(mesh, dim = 3, order = deg-1)\n",
    "    A0 = ngs.GridFunction(HCurl_0)\n",
    "    A0, it = solve(HCurl_0, A0, mesh, deg, J, fun_w, fun_dw, fun_ddw, linear, nonlinear)\n",
    "    its.append(it)\n",
    "    B0 = ngs.GridFunction(L2_0, nested = True)\n",
    "    with ngs.TaskManager(): B0.Set(ngs.curl(A0), bonus_intorder = 10)\n",
    "\n",
    "    \n",
    "    HCurl_1 = ngs.HCurl(mesh, order = deg+degdif, nograds = True, dirichlet = 'outer_face|coil_plus_face|coil_minus_face|stator_face')\n",
    "    L2_1 = ngs.L2(mesh, dim = 3, order = deg+degdif-1)\n",
    "    A0 = ngs.GridFunction(HCurl_1)\n",
    "    A0, it = solve(HCurl_1, A0, mesh, deg+degdif, J, fun_w, fun_dw, fun_ddw, linear, nonlinear)\n",
    "    its.append(it)\n",
    "    B1 = ngs.GridFunction(L2_1, nested = True)\n",
    "    with ngs.TaskManager(): B1.Set(ngs.curl(A0), bonus_intorder = 10)\n",
    "\n",
    "    with ngs.TaskManager(): error = ngs.Integrate((B0-B1)**2, mesh, order = 3*(deg+degdif))**(1/2)/\\\n",
    "                                    ngs.Integrate((B1)**2, mesh, order = 3*(deg+degdif))**(1/2)\n",
    "    print(error)\n",
    "    errors.append(error)\n",
    "    \n",
    "print(its)"
   ]
  },
  {
   "cell_type": "code",
   "execution_count": 3,
   "metadata": {},
   "outputs": [
    {
     "name": "stdout",
     "output_type": "stream",
     "text": [
      "[]\n"
     ]
    }
   ],
   "source": [
    "import numpy as np\n",
    "a = np.array(errors)\n",
    "print(np.log2(a[:-1]/a[1:]))"
   ]
  },
  {
   "cell_type": "code",
   "execution_count": 4,
   "metadata": {},
   "outputs": [
    {
     "data": {
      "application/vnd.jupyter.widget-view+json": {
       "model_id": "7f75f403bdc646be96fcc2675739f28b",
       "version_major": 2,
       "version_minor": 0
      },
      "text/plain": [
       "WebGuiWidget(layout=Layout(height='500px', width='100%'), value={'gui_settings': {}, 'ngsolve_version': '6.2.2…"
      ]
     },
     "metadata": {},
     "output_type": "display_data"
    },
    {
     "data": {
      "application/vnd.jupyter.widget-view+json": {
       "model_id": "ac9b347868a24ad9b206f7b85d7f1959",
       "version_major": 2,
       "version_minor": 0
      },
      "text/plain": [
       "WebGuiWidget(layout=Layout(height='500px', width='100%'), value={'gui_settings': {}, 'ngsolve_version': '6.2.2…"
      ]
     },
     "metadata": {},
     "output_type": "display_data"
    },
    {
     "data": {
      "application/vnd.jupyter.widget-view+json": {
       "model_id": "53211fffeb69401098e9025bff9f25bf",
       "version_major": 2,
       "version_minor": 0
      },
      "text/plain": [
       "WebGuiWidget(layout=Layout(height='500px', width='100%'), value={'gui_settings': {}, 'ngsolve_version': '6.2.2…"
      ]
     },
     "metadata": {},
     "output_type": "display_data"
    }
   ],
   "source": [
    "clipping = { \"function\" : True, \"z\" : -0.4}\n",
    "with ngs.TaskManager(): Draw(B0, mesh, clipping = clipping)\n",
    "with ngs.TaskManager(): Draw(B1, mesh, clipping = clipping)\n",
    "with ngs.TaskManager(): Draw(ngs.log(ngs.Norm(B0-B1)), mesh, clipping = clipping)"
   ]
  },
  {
   "cell_type": "code",
   "execution_count": 5,
   "metadata": {},
   "outputs": [
    {
     "ename": "NameError",
     "evalue": "name 'stop' is not defined",
     "output_type": "error",
     "traceback": [
      "\u001b[1;31m---------------------------------------------------------------------------\u001b[0m",
      "\u001b[1;31mNameError\u001b[0m                                 Traceback (most recent call last)",
      "Cell \u001b[1;32mIn[5], line 1\u001b[0m\n\u001b[1;32m----> 1\u001b[0m \u001b[43mstop\u001b[49m\n",
      "\u001b[1;31mNameError\u001b[0m: name 'stop' is not defined"
     ]
    }
   ],
   "source": [
    "stop"
   ]
  },
  {
   "cell_type": "code",
   "execution_count": null,
   "metadata": {},
   "outputs": [],
   "source": [
    "# meshes = []; Bs = []; Bps = []; its = [];\n",
    "\n",
    "# for i in range(levels):\n",
    "#     ngmesh = geoOCC.GenerateMesh()\n",
    "#     mesh = ngs.Mesh(ngmesh)\n",
    "\n",
    "#     for j in range(i):\n",
    "#         mesh.Refine()\n",
    "#     mesh.Curve(3)\n",
    "\n",
    "#     with ngs.TaskManager(): J = mesh.MaterialCF({'coil_plus': (0,0,strom), 'coil_minus': (0,0,-strom), 'stator': (0,0,0)}, default = (0,0,0))\n",
    "#     HCurl = ngs.HCurl(mesh, order = deg, nograds = True, dirichlet = 'outer_face|coil_plus_face|coil_minus_face|stator_face', autoupdate = True)\n",
    "#     V3L2 = ngs.L2(mesh, dim = 3, order = deg-1, autoupdate = True)\n",
    "#     A0 = ngs.GridFunction(HCurl)\n",
    "#     A0, it = solve(HCurl, A0, mesh,deg, J, fun_w, fun_dw, fun_ddw)\n",
    "#     its.append(it)\n",
    "\n",
    "#     B = ngs.GridFunction(V3L2, nested = True)\n",
    "#     with ngs.TaskManager(): B.Set(ngs.curl(A0))\n",
    "#     Bs.append(B)\n",
    "\n",
    "#     if i>0:\n",
    "#         V3L2 = ngs.L2(mesh, dim = 3, order = deg-1)\n",
    "#         Bp = ngs.GridFunction(V3L2)\n",
    "#         with ngs.TaskManager(): Bp.Set(Bs[i-1])\n",
    "#         Bps.append(Bp)\n",
    "#         with ngs.TaskManager(): error = ngs.Integrate((B-Bp)**2, mesh)**(1/2)/\\\n",
    "#                                         ngs.Integrate((B)**2, mesh)**(1/2)\n",
    "#         print(error)\n",
    "        \n",
    "\n",
    "#     # ######################################################\n",
    "#     # # Refine mesh, apply prolongation\n",
    "#     # ######################################################\n",
    "\n",
    "#     # ngmesh2 = geoOCC.GenerateMesh()\n",
    "#     # mesh2 = ngs.Mesh(ngmesh2)\n",
    "\n",
    "#     # for j in range(i+1):\n",
    "#     #     mesh2.Refine()\n",
    "#     # mesh2.Curve()\n",
    "\n",
    "#     # V3L2 = ngs.L2(mesh2, dim=3, order = deg-1)\n",
    "#     # Bp = ngs.GridFunction(V3L2)\n",
    "#     # Bp.Set(B)\n",
    "#     # Bps.append(B)\n",
    "\n",
    "\n",
    "# print(its)\n"
   ]
  },
  {
   "cell_type": "code",
   "execution_count": null,
   "metadata": {},
   "outputs": [],
   "source": [
    "import numpy as np\n",
    "a = np.array([5.332232056354972e-06, 2.246711173326673e-06, 6.508678547245244e-07])\n",
    "np.log2(a[:-1]/a[1:])"
   ]
  },
  {
   "cell_type": "code",
   "execution_count": null,
   "metadata": {},
   "outputs": [],
   "source": [
    "######################################################\n",
    "# Compute first solution\n",
    "######################################################\n",
    "\n",
    "ngmesh = geoOCC.GenerateMesh()\n",
    "mesh = ngs.Mesh(ngmesh)\n",
    "# mesh.Refine()\n",
    "mesh.Curve(3)\n",
    "\n",
    "levels = 2\n",
    "deg = 1\n",
    "\n",
    "J = mesh.MaterialCF({'coil_plus': (0,0,strom), 'coil_minus': (0,0,-strom), 'stator': (0,0,0)}, default = (0,0,0))\n",
    "\n",
    "HCurl = ngs.HCurl(mesh, order = deg, nograds = True, dirichlet = 'outer_face|coil_plus_face|coil_minus_face|stator_face', autoupdate = True)\n",
    "V3L2 = ngs.L2(mesh, dim=3, order = deg-1, autoupdate = True)\n",
    "\n",
    "A0 = ngs.GridFunction(HCurl)\n",
    "A0, it0 = solve(HCurl,A0,mesh,deg,J,fun_w,fun_dw,fun_ddw)\n",
    "\n",
    "B0 = ngs.GridFunction(V3L2, nested = True)\n",
    "with ngs.TaskManager(): B0.Set(ngs.curl(A0))\n",
    "\n",
    "clipping = { \"function\" : True, \"z\" : -0.4}\n",
    "with ngs.TaskManager(): Draw(B0, mesh, clipping = clipping)\n",
    "\n",
    "######################################################\n",
    "# Refine mesh, apply prolongation\n",
    "######################################################\n",
    "\n",
    "ngmesh2 = geoOCC.GenerateMesh()\n",
    "mesh2 = ngs.Mesh(ngmesh2)\n",
    "\n",
    "mesh2.Refine()\n",
    "# mesh2.Refine()\n",
    "mesh2.Curve(3)\n",
    "\n",
    "V3L2 = ngs.L2(mesh2, dim=3, order = deg-1)\n",
    "B01 = ngs.GridFunction(V3L2)\n",
    "B01.Set(B0)\n",
    "\n",
    "clipping = { \"function\" : True, \"z\" : -0.4}\n",
    "with ngs.TaskManager(): Draw(B01, mesh2, clipping = clipping)\n",
    "\n",
    "######################################################\n",
    "# Compute second solution\n",
    "######################################################\n",
    "\n",
    "HCurl = ngs.HCurl(mesh2, order = deg, nograds = True, dirichlet = 'outer_face|coil_plus_face|coil_minus_face|stator_face', autoupdate = True)\n",
    "V3L2 = ngs.L2(mesh2, dim=3, order = deg-1)\n",
    "\n",
    "A1 = ngs.GridFunction(HCurl)\n",
    "A1, it1 = solve(HCurl,A1,mesh2,deg,J,fun_w,fun_dw,fun_ddw)\n",
    "\n",
    "B1 = ngs.GridFunction(V3L2, nested = True)\n",
    "with ngs.TaskManager(): B1.Set(ngs.curl(A1))\n",
    "\n",
    "clipping = { \"function\" : True, \"z\" : -0.4}\n",
    "with ngs.TaskManager(): Draw(B1, mesh2, clipping = clipping)\n",
    "\n",
    "\n",
    "######################################################\n",
    "# Compute error\n",
    "######################################################\n",
    "\n",
    "clipping = { \"function\" : True, \"z\" : -0.4}\n",
    "with ngs.TaskManager(): Draw(B01-B1, mesh2, clipping = clipping)\n",
    "\n",
    "error = ngs.Integrate((B01-B1)**2, mesh)*(1/2)\n",
    "error\n"
   ]
  },
  {
   "cell_type": "code",
   "execution_count": null,
   "metadata": {},
   "outputs": [],
   "source": [
    "ngmesh2 = geoOCC.GenerateMesh()\n",
    "mesh2 = ngs.Mesh(ngmesh2)\n",
    "\n",
    "mesh2.Refine()\n",
    "mesh2.Refine()\n",
    "mesh2.Curve(3)\n",
    "\n",
    "V3L2 = ngs.L2(mesh2, dim=3, order = deg-1)\n",
    "B01 = ngs.GridFunction(V3L2)\n",
    "B01.Set(B0)\n",
    "\n",
    "clipping = { \"function\" : True, \"z\" : -0.4}\n",
    "with ngs.TaskManager(): Draw(B01, mesh2, clipping = clipping)"
   ]
  },
  {
   "cell_type": "code",
   "execution_count": null,
   "metadata": {},
   "outputs": [],
   "source": [
    "HCurl = ngs.HCurl(mesh2, order = deg, nograds = True, dirichlet = 'outer_face|coil_plus_face|coil_minus_face|stator_face', autoupdate = True)\n",
    "A1 = ngs.GridFunction(HCurl)\n",
    "A1, it1 = solve(HCurl,A1,mesh2,deg,J,fun_w,fun_dw,fun_ddw)\n",
    "\n",
    "V3L2 = ngs.L2(mesh2, dim=3, order = deg-1)\n",
    "B1 = ngs.GridFunction(V3L2, nested = True)\n",
    "with ngs.TaskManager(): B1.Set(ngs.curl(A1))\n",
    "\n",
    "clipping = { \"function\" : True, \"z\" : -0.4}\n",
    "with ngs.TaskManager(): Draw(B1, mesh2, clipping = clipping)"
   ]
  },
  {
   "cell_type": "code",
   "execution_count": null,
   "metadata": {},
   "outputs": [],
   "source": [
    "error = ngs.Integrate((B01-B1)**2, mesh)*(1/2)\n",
    "error"
   ]
  },
  {
   "cell_type": "code",
   "execution_count": null,
   "metadata": {},
   "outputs": [],
   "source": [
    "help(ngs.)"
   ]
  }
 ],
 "metadata": {
  "kernelspec": {
   "display_name": "pdefem",
   "language": "python",
   "name": "python3"
  },
  "language_info": {
   "codemirror_mode": {
    "name": "ipython",
    "version": 3
   },
   "file_extension": ".py",
   "mimetype": "text/x-python",
   "name": "python",
   "nbconvert_exporter": "python",
   "pygments_lexer": "ipython3",
   "version": "3.10.13"
  }
 },
 "nbformat": 4,
 "nbformat_minor": 2
}
