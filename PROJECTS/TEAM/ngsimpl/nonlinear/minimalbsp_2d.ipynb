{
 "cells": [
  {
   "cell_type": "code",
   "execution_count": 1,
   "metadata": {},
   "outputs": [
    {
     "name": "stdout",
     "output_type": "stream",
     "text": [
      "Applying a current of 393.75 Amps\n"
     ]
    },
    {
     "data": {
      "application/vnd.jupyter.widget-view+json": {
       "model_id": "aa8f46d6b42d4e4684143fb8c2fd89e9",
       "version_major": 2,
       "version_minor": 0
      },
      "text/plain": [
       "WebGuiWidget(layout=Layout(height='500px', width='100%'), value={'ngsolve_version': 'Netgen x.x', 'mesh_dim': …"
      ]
     },
     "metadata": {},
     "output_type": "display_data"
    },
    {
     "data": {
      "text/plain": [
       "BaseWebGuiScene"
      ]
     },
     "execution_count": 1,
     "metadata": {},
     "output_type": "execute_result"
    }
   ],
   "source": [
    "import ngsolve as ngs\n",
    "from do import solve, solve_2d\n",
    "from ngsolve.webgui import Draw\n",
    "import matplotlib.pyplot as plt\n",
    "from copy import deepcopy\n",
    "import netgen.occ as occ\n",
    "\n",
    "levels = 5\n",
    "deg = 2\n",
    "degdif = 1\n",
    "\n",
    "######################################################\n",
    "# from bhdata import BHCurves\n",
    "# fun_dw  = BHCurves(4)\n",
    "# fun_w   = fun_dw.Integrate()\n",
    "# fun_ddw = fun_dw.Differentiate()\n",
    "######################################################\n",
    "from bhdata import Brauer, BrauerCut\n",
    "fun_w, fun_dw, fun_ddw  = Brauer()\n",
    "######################################################\n",
    "\n",
    "mu0 = 1.256636e-6\n",
    "nu0 = 1/mu0\n",
    "\n",
    "linear = \"coil_plus|coil_minus\"\n",
    "nonlinear = \"stator\"\n",
    "\n",
    "# linear = \"stator|coil_plus|coil_minus\"\n",
    "# nonlinear = \"\"\n",
    "\n",
    "strom = 1e5*2\n",
    "amps = 0.025**2*3.15*strom\n",
    "print(f'Applying a current of {amps:.2f} Amps')\n",
    "######################################################\n",
    "\n",
    "r_coil = 0.025\n",
    "y_coil = 0.05\n",
    "r_outer = 0.1\n",
    "\n",
    "c1 = occ.WorkPlane().Circle(r_outer).Face()\n",
    "c2 = occ.WorkPlane().MoveTo(0,y_coil).Circle(r_coil).Face()\n",
    "c3 = occ.WorkPlane().MoveTo(0,-y_coil).Circle(r_coil).Face()\n",
    "\n",
    "full = occ.Glue([c1,c2,c3])\n",
    "\n",
    "full.faces[0].name = 'stator'\n",
    "full.faces[1].name = 'coil_plus'\n",
    "full.faces[2].name = 'coil_minus'\n",
    "\n",
    "full.edges[0].name = 'outer'\n",
    "\n",
    "geoOCC = occ.OCCGeometry(full, dim = 2)\n",
    "Draw(full)"
   ]
  },
  {
   "cell_type": "code",
   "execution_count": 2,
   "metadata": {},
   "outputs": [
    {
     "name": "stdout",
     "output_type": "stream",
     "text": [
      "Using 2D mesh with ne= 191 elements and nv= 107 points and  2441 DOFs.\n",
      " \n",
      "Iter:  1 | assem : 0.02s | CG took 0.01s | alpha : 0.50 | energy = 0.0000000762 | relres = 1.00e+00 |\n",
      "Iter:  2 | assem : 0.02s | CG took 0.01s | alpha : 1.00 | energy = -23.9211956525 | relres = 5.28e-01 |\n",
      "Iter:  3 | assem : 0.01s | CG took 0.01s | alpha : 0.50 | energy = -24.7593095204 | relres = 1.99e-01 |\n",
      "Iter:  4 | assem : 0.01s | CG took 0.01s | alpha : 0.12 | energy = -24.8882121679 | relres = 1.20e-01 |\n",
      "Iter:  5 | assem : 0.01s | CG took 0.01s | alpha : 0.06 | energy = -24.9038603207 | relres = 1.06e-01 |\n",
      "Iter:  6 | assem : 0.01s | CG took 0.01s | alpha : 0.02 | energy = -24.9094375330 | relres = 9.95e-02 |\n",
      "Iter:  7 | assem : 0.01s | CG took 0.01s | alpha : 0.00 | energy = -24.9106355217 | relres = 9.80e-02 |\n",
      "Iter:  8 | assem : 0.01s | CG took 0.01s | alpha : 0.00 | energy = -24.9109230690 | relres = 9.76e-02 |\n",
      "Iter:  9 | assem : 0.06s | CG took 0.01s | alpha : 0.00 | energy = -24.9109230690 | relres = 9.76e-02 |\n",
      "Using 2D mesh with ne= 191 elements and nv= 107 points and  3502 DOFs.\n",
      " \n",
      "Iter:  1 | assem : 0.02s | CG took 0.02s | alpha : 0.50 | energy = 0.0000000762 | relres = 1.00e+00 |\n",
      "Iter:  2 | assem : 0.06s | CG took 0.03s | alpha : 1.00 | energy = -23.9205346514 | relres = 5.29e-01 |\n",
      "Iter:  3 | assem : 0.04s | CG took 0.02s | alpha : 0.50 | energy = -24.7589676449 | relres = 1.99e-01 |\n",
      "Iter:  4 | assem : 0.01s | CG took 0.02s | alpha : 0.12 | energy = -24.8880399220 | relres = 1.20e-01 |\n",
      "Iter:  5 | assem : 0.01s | CG took 0.01s | alpha : 0.06 | energy = -24.9037792941 | relres = 1.06e-01 |\n",
      "Iter:  6 | assem : 0.03s | CG took 0.02s | alpha : 0.02 | energy = -24.9093973435 | relres = 9.96e-02 |\n",
      "Iter:  7 | assem : 0.08s | CG took 0.02s | alpha : 0.00 | energy = -24.9106045542 | relres = 9.80e-02 |\n",
      "Iter:  8 | assem : 0.02s | CG took 0.02s | alpha : 0.00 | energy = -24.9108943354 | relres = 9.76e-02 |\n",
      "Iter:  9 | assem : 0.02s | CG took 0.02s | alpha : 0.00 | energy = -24.9109660342 | relres = 9.75e-02 |\n",
      "Iter: 10 | assem : 0.02s | CG took 0.02s | alpha : 0.00 | energy = -24.9109749772 | relres = 9.75e-02 |\n",
      "Iter: 11 | assem : 0.02s | CG took 0.01s | alpha : 0.00 | energy = -24.9109772122 | relres = 9.75e-02 |\n",
      "Iter: 12 | assem : 0.02s | CG took 0.02s | alpha : 0.00 | energy = -24.9109772471 | relres = 9.75e-02 |\n",
      "Iter: 13 | assem : 0.03s | CG took 0.02s | alpha : 0.00 | energy = -24.9109772646 | relres = 9.75e-02 |\n",
      "0.0005556362905363731\n",
      "Using 2D mesh with ne= 764 elements and nv= 404 points and  9656 DOFs.\n",
      " \n",
      "Iter:  1 | assem : 0.07s | CG took 0.04s | alpha : 0.50 | energy = 0.0000000762 | relres = 1.00e+00 |\n",
      "Iter:  2 | assem : 0.04s | CG took 0.04s | alpha : 1.00 | energy = -23.9204901898 | relres = 5.29e-01 |\n",
      "Iter:  3 | assem : 0.03s | CG took 0.04s | alpha : 0.50 | energy = -24.7589466016 | relres = 1.99e-01 |\n",
      "Iter:  4 | assem : 0.12s | CG took 0.05s | alpha : 0.12 | energy = -24.8880353363 | relres = 1.20e-01 |\n",
      "Iter:  5 | assem : 0.02s | CG took 0.04s | alpha : 0.06 | energy = -24.9037734994 | relres = 1.06e-01 |\n",
      "Iter:  6 | assem : 0.02s | CG took 0.04s | alpha : 0.02 | energy = -24.9093920659 | relres = 9.96e-02 |\n",
      "Iter:  7 | assem : 0.02s | CG took 0.03s | alpha : 0.00 | energy = -24.9105996161 | relres = 9.80e-02 |\n",
      "Iter:  8 | assem : 0.02s | CG took 0.04s | alpha : 0.00 | energy = -24.9108894966 | relres = 9.76e-02 |\n",
      "Iter:  9 | assem : 0.03s | CG took 0.04s | alpha : 0.00 | energy = -24.9109612211 | relres = 9.75e-02 |\n",
      "Iter: 10 | assem : 0.02s | CG took 0.03s | alpha : 0.00 | energy = -24.9109791057 | relres = 9.75e-02 |\n",
      "Iter: 11 | assem : 0.04s | CG took 0.04s | alpha : 0.00 | energy = -24.9109791058 | relres = 9.75e-02 |\n",
      "Using 2D mesh with ne= 764 elements and nv= 404 points and  13879 DOFs.\n",
      " \n",
      "Iter:  1 | assem : 0.03s | CG took 0.05s | alpha : 0.50 | energy = 0.0000000762 | relres = 1.00e+00 |\n",
      "Iter:  2 | assem : 0.03s | CG took 0.07s | alpha : 1.00 | energy = -23.9204837808 | relres = 5.29e-01 |\n",
      "Iter:  3 | assem : 0.06s | CG took 0.05s | alpha : 0.50 | energy = -24.7589433563 | relres = 1.99e-01 |\n",
      "Iter:  4 | assem : 0.04s | CG took 0.06s | alpha : 0.12 | energy = -24.8880334363 | relres = 1.20e-01 |\n",
      "Iter:  5 | assem : 0.03s | CG took 0.05s | alpha : 0.06 | energy = -24.9037718421 | relres = 1.06e-01 |\n",
      "Iter:  6 | assem : 0.02s | CG took 0.05s | alpha : 0.02 | energy = -24.9093904853 | relres = 9.96e-02 |\n",
      "Iter:  7 | assem : 0.02s | CG took 0.05s | alpha : 0.00 | energy = -24.9105980493 | relres = 9.80e-02 |\n",
      "Iter:  8 | assem : 0.02s | CG took 0.05s | alpha : 0.00 | energy = -24.9108879330 | relres = 9.76e-02 |\n",
      "Iter:  9 | assem : 0.02s | CG took 0.05s | alpha : 0.00 | energy = -24.9109596582 | relres = 9.75e-02 |\n",
      "Iter: 10 | assem : 0.04s | CG took 0.09s | alpha : 0.00 | energy = -24.9109775430 | relres = 9.75e-02 |\n",
      "Iter: 11 | assem : 0.05s | CG took 0.06s | alpha : 0.00 | energy = -24.9109775433 | relres = 9.75e-02 |\n",
      "2.826719534562217e-05\n",
      "Using 2D mesh with ne= 3056 elements and nv= 1571 points and  38411 DOFs.\n",
      " \n",
      "Iter:  1 | assem : 0.04s | CG took 0.15s | alpha : 0.50 | energy = 0.0000000762 | relres = 1.00e+00 |\n",
      "Iter:  2 | assem : 0.04s | CG took 0.13s | alpha : 1.00 | energy = -23.9204836876 | relres = 5.29e-01 |\n",
      "Iter:  3 | assem : 0.05s | CG took 0.16s | alpha : 0.50 | energy = -24.7589433087 | relres = 1.99e-01 |\n",
      "Iter:  4 | assem : 0.21s | CG took 0.17s | alpha : 0.12 | energy = -24.8880334095 | relres = 1.20e-01 |\n",
      "Iter:  5 | assem : 0.08s | CG took 0.17s | alpha : 0.06 | energy = -24.9037718348 | relres = 1.06e-01 |\n",
      "Iter:  6 | assem : 0.05s | CG took 0.12s | alpha : 0.02 | energy = -24.9093904937 | relres = 9.96e-02 |\n",
      "Iter:  7 | assem : 0.05s | CG took 0.14s | alpha : 0.00 | energy = -24.9105980625 | relres = 9.80e-02 |\n",
      "Iter:  8 | assem : 0.06s | CG took 0.16s | alpha : 0.00 | energy = -24.9108879475 | relres = 9.76e-02 |\n",
      "Iter:  9 | assem : 0.04s | CG took 0.16s | alpha : 0.00 | energy = -24.9109596731 | relres = 9.75e-02 |\n",
      "Iter: 10 | assem : 0.05s | CG took 0.17s | alpha : 0.00 | energy = -24.9109775580 | relres = 9.75e-02 |\n",
      "Iter: 11 | assem : 0.06s | CG took 0.12s | alpha : 0.00 | energy = -24.9109775581 | relres = 9.75e-02 |\n",
      "Using 2D mesh with ne= 3056 elements and nv= 1571 points and  55261 DOFs.\n",
      " \n",
      "Iter:  1 | assem : 0.08s | CG took 0.22s | alpha : 0.50 | energy = 0.0000000762 | relres = 1.00e+00 |\n",
      "Iter:  2 | assem : 0.05s | CG took 0.21s | alpha : 1.00 | energy = -23.9204836594 | relres = 5.29e-01 |\n",
      "Iter:  3 | assem : 0.05s | CG took 0.22s | alpha : 0.50 | energy = -24.7589432941 | relres = 1.99e-01 |\n",
      "Iter:  4 | assem : 0.05s | CG took 0.22s | alpha : 0.12 | energy = -24.8880333995 | relres = 1.20e-01 |\n",
      "Iter:  5 | assem : 0.04s | CG took 0.23s | alpha : 0.06 | energy = -24.9037718263 | relres = 1.06e-01 |\n",
      "Iter:  6 | assem : 0.05s | CG took 0.21s | alpha : 0.02 | energy = -24.9093904861 | relres = 9.96e-02 |\n",
      "Iter:  7 | assem : 0.05s | CG took 0.22s | alpha : 0.00 | energy = -24.9105980551 | relres = 9.80e-02 |\n",
      "Iter:  8 | assem : 0.06s | CG took 0.21s | alpha : 0.00 | energy = -24.9108879401 | relres = 9.76e-02 |\n",
      "Iter:  9 | assem : 0.06s | CG took 0.22s | alpha : 0.00 | energy = -24.9109596657 | relres = 9.75e-02 |\n",
      "Iter: 10 | assem : 0.07s | CG took 0.21s | alpha : 0.00 | energy = -24.9109775506 | relres = 9.75e-02 |\n",
      "Iter: 11 | assem : 0.04s | CG took 0.21s | alpha : 0.00 | energy = -24.9109775508 | relres = 9.75e-02 |\n",
      "1.108691102026169e-06\n",
      "Using 2D mesh with ne= 12224 elements and nv= 6197 points and  153221 DOFs.\n",
      " \n",
      "Iter:  1 | assem : 0.15s | CG took 0.55s | alpha : 0.50 | energy = 0.0000000762 | relres = 1.00e+00 |\n",
      "Iter:  2 | assem : 0.16s | CG took 0.54s | alpha : 1.00 | energy = -23.9204836593 | relres = 5.29e-01 |\n",
      "Iter:  3 | assem : 0.12s | CG took 0.56s | alpha : 0.50 | energy = -24.7589432940 | relres = 1.99e-01 |\n",
      "Iter:  4 | assem : 0.14s | CG took 0.60s | alpha : 0.12 | energy = -24.8880333994 | relres = 1.20e-01 |\n",
      "Iter:  5 | assem : 0.14s | CG took 0.54s | alpha : 0.06 | energy = -24.9037718263 | relres = 1.06e-01 |\n",
      "Iter:  6 | assem : 0.17s | CG took 0.57s | alpha : 0.02 | energy = -24.9093904861 | relres = 9.96e-02 |\n",
      "Iter:  7 | assem : 0.12s | CG took 0.55s | alpha : 0.00 | energy = -24.9105980551 | relres = 9.80e-02 |\n",
      "Iter:  8 | assem : 0.16s | CG took 0.54s | alpha : 0.00 | energy = -24.9108879401 | relres = 9.76e-02 |\n",
      "Iter:  9 | assem : 0.14s | CG took 0.55s | alpha : 0.00 | energy = -24.9109596657 | relres = 9.75e-02 |\n",
      "Iter: 10 | assem : 0.14s | CG took 0.61s | alpha : 0.00 | energy = -24.9109775506 | relres = 9.75e-02 |\n",
      "Iter: 11 | assem : 0.15s | CG took 0.58s | alpha : 0.00 | energy = -24.9109775528 | relres = 9.75e-02 |\n",
      "Using 2D mesh with ne= 12224 elements and nv= 6197 points and  220537 DOFs.\n",
      " \n",
      "Iter:  1 | assem : 0.24s | CG took 0.90s | alpha : 0.50 | energy = 0.0000000762 | relres = 1.00e+00 |\n",
      "Iter:  2 | assem : 0.21s | CG took 0.90s | alpha : 1.00 | energy = -23.9204836596 | relres = 5.29e-01 |\n",
      "Iter:  3 | assem : 0.19s | CG took 0.91s | alpha : 0.50 | energy = -24.7589432941 | relres = 1.99e-01 |\n",
      "Iter:  4 | assem : 0.18s | CG took 0.94s | alpha : 0.12 | energy = -24.8880333995 | relres = 1.20e-01 |\n",
      "Iter:  5 | assem : 0.20s | CG took 0.93s | alpha : 0.06 | energy = -24.9037718263 | relres = 1.06e-01 |\n",
      "Iter:  6 | assem : 0.16s | CG took 0.90s | alpha : 0.02 | energy = -24.9093904861 | relres = 9.96e-02 |\n",
      "Iter:  7 | assem : 0.19s | CG took 0.90s | alpha : 0.00 | energy = -24.9105980551 | relres = 9.80e-02 |\n",
      "Iter:  8 | assem : 0.21s | CG took 0.92s | alpha : 0.00 | energy = -24.9108879401 | relres = 9.76e-02 |\n",
      "Iter:  9 | assem : 0.15s | CG took 0.90s | alpha : 0.00 | energy = -24.9109596657 | relres = 9.75e-02 |\n",
      "Iter: 10 | assem : 0.19s | CG took 0.90s | alpha : 0.00 | energy = -24.9109775506 | relres = 9.75e-02 |\n",
      "Iter: 11 | assem : 0.17s | CG took 0.88s | alpha : 0.00 | energy = -24.9109775511 | relres = 9.75e-02 |\n",
      "3.650932849078521e-08\n",
      "Using 2D mesh with ne= 48896 elements and nv= 24617 points and  612041 DOFs.\n",
      " \n",
      "Iter:  1 | assem : 0.52s | CG took 2.40s | alpha : 0.50 | energy = 0.0000000762 | relres = 1.00e+00 |\n",
      "Iter:  2 | assem : 0.85s | CG took 2.36s | alpha : 1.00 | energy = -23.9204836605 | relres = 5.29e-01 |\n",
      "Iter:  3 | assem : 0.88s | CG took 2.40s | alpha : 0.50 | energy = -24.7589432943 | relres = 1.99e-01 |\n",
      "Iter:  4 | assem : 0.88s | CG took 2.47s | alpha : 0.12 | energy = -24.8880333996 | relres = 1.20e-01 |\n",
      "Iter:  5 | assem : 1.15s | CG took 2.34s | alpha : 0.06 | energy = -24.9037718264 | relres = 1.06e-01 |\n",
      "Iter:  6 | assem : 1.13s | CG took 2.33s | alpha : 0.02 | energy = -24.9093904861 | relres = 9.96e-02 |\n",
      "Iter:  7 | assem : 0.99s | CG took 2.32s | alpha : 0.00 | energy = -24.9105980552 | relres = 9.80e-02 |\n",
      "Iter:  8 | assem : 0.98s | CG took 2.33s | alpha : 0.00 | energy = -24.9108879402 | relres = 9.76e-02 |\n",
      "Iter:  9 | assem : 0.90s | CG took 2.34s | alpha : 0.00 | energy = -24.9109596658 | relres = 9.75e-02 |\n",
      "Iter: 10 | assem : 1.01s | CG took 2.31s | alpha : 0.00 | energy = -24.9109775507 | relres = 9.75e-02 |\n",
      "Iter: 11 | assem : 1.12s | CG took 2.32s | alpha : 0.00 | energy = -24.9109775517 | relres = 9.75e-02 |\n",
      "Using 2D mesh with ne= 48896 elements and nv= 24617 points and  881137 DOFs.\n",
      " \n",
      "Iter:  1 | assem : 1.82s | CG took 3.72s | alpha : 0.50 | energy = 0.0000000762 | relres = 1.00e+00 |\n",
      "Iter:  2 | assem : 1.77s | CG took 3.83s | alpha : 1.00 | energy = -23.9204836624 | relres = 5.29e-01 |\n",
      "Iter:  3 | assem : 1.98s | CG took 3.79s | alpha : 0.50 | energy = -24.7589432949 | relres = 1.99e-01 |\n",
      "Iter:  4 | assem : 1.93s | CG took 3.79s | alpha : 0.12 | energy = -24.8880333998 | relres = 1.20e-01 |\n",
      "Iter:  5 | assem : 1.91s | CG took 3.80s | alpha : 0.06 | energy = -24.9037718265 | relres = 1.06e-01 |\n",
      "Iter:  6 | assem : 1.89s | CG took 3.82s | alpha : 0.02 | energy = -24.9093904863 | relres = 9.96e-02 |\n",
      "Iter:  7 | assem : 2.10s | CG took 3.77s | alpha : 0.00 | energy = -24.9105980553 | relres = 9.80e-02 |\n",
      "Iter:  8 | assem : 2.03s | CG took 3.79s | alpha : 0.00 | energy = -24.9108879403 | relres = 9.76e-02 |\n",
      "Iter:  9 | assem : 2.03s | CG took 3.74s | alpha : 0.00 | energy = -24.9109596659 | relres = 9.75e-02 |\n",
      "Iter: 10 | assem : 1.97s | CG took 3.80s | alpha : 0.00 | energy = -24.9109775508 | relres = 9.75e-02 |\n",
      "Iter: 11 | assem : 2.28s | CG took 3.75s | alpha : 0.00 | energy = -24.9109775518 | relres = 9.75e-02 |\n",
      "1.1503797727443788e-09\n",
      "[9, 13, 11, 11, 11, 11, 11, 11, 11, 11]\n"
     ]
    }
   ],
   "source": [
    "meshes = []; its = []; errors = []\n",
    "\n",
    "for i in range(levels):\n",
    "    ngmesh = geoOCC.GenerateMesh()\n",
    "    mesh = ngs.Mesh(ngmesh)\n",
    "\n",
    "    for j in range(i):\n",
    "        mesh.Refine()\n",
    "    mesh.Curve(6)\n",
    "\n",
    "    with ngs.TaskManager(): J = mesh.MaterialCF({'coil_plus': strom, 'coil_minus': -strom, 'stator': 0}, default = 0)\n",
    "    H1_0 = ngs.H1(mesh, order = deg, dirichlet = \"outer\")\n",
    "    L2_0 = ngs.L2(mesh, dim = 2, order = deg-1)\n",
    "    A0 = ngs.GridFunction(H1_0)\n",
    "    A0, it = solve_2d(H1_0, A0, mesh, deg, J, fun_w, fun_dw, fun_ddw, linear, nonlinear)\n",
    "    its.append(it)\n",
    "    B0 = ngs.GridFunction(L2_0, nested = True)\n",
    "    with ngs.TaskManager(): B0.Set(ngs.grad(A0), bonus_intorder = 10)\n",
    "\n",
    "\n",
    "\n",
    "    H1_1 = ngs.H1(mesh, order = deg+degdif, dirichlet = \"outer\")\n",
    "    L2_1 = ngs.L2(mesh, dim = 2, order = deg+degdif-1)\n",
    "    A1 = ngs.GridFunction(H1_1)\n",
    "    A1, it = solve_2d(H1_1, A1, mesh, deg+degdif, J, fun_w, fun_dw, fun_ddw, linear, nonlinear)\n",
    "    its.append(it)\n",
    "    B1 = ngs.GridFunction(L2_1, nested = True)\n",
    "    with ngs.TaskManager(): B1.Set(ngs.grad(A1), bonus_intorder = 10)\n",
    "\n",
    "    with ngs.TaskManager(): error = ngs.Integrate((B0-B1)**2, mesh, order = 3*(deg+degdif))**(1/2)/\\\n",
    "                                    ngs.Integrate((B1)**2, mesh, order = 3*(deg+degdif))**(1/2)\n",
    "    print(error)\n",
    "    errors.append(error)\n",
    "    \n",
    "print(its)"
   ]
  },
  {
   "cell_type": "code",
   "execution_count": 3,
   "metadata": {},
   "outputs": [],
   "source": [
    "# meshes = []; Bs = []; Bps = []; its = []; errors = []\n",
    "\n",
    "# for i in range(levels):\n",
    "#     ngmesh = geoOCC.GenerateMesh()\n",
    "#     mesh = ngs.Mesh(ngmesh)\n",
    "\n",
    "#     for j in range(i):\n",
    "#         mesh.Refine()\n",
    "#     mesh.Curve(6)\n",
    "\n",
    "#     with ngs.TaskManager(): J = mesh.MaterialCF({'coil_plus': strom, 'coil_minus': -strom, 'stator': 0}, default = 0)\n",
    "#     H1 = ngs.H1(mesh, order = deg, dirichlet = \"outer\", autoupdate = True)\n",
    "#     L2 = ngs.L2(mesh, dim = 2, order = deg-1)\n",
    "#     # L2 = ngs.HDiv(mesh, order = deg-1)\n",
    "#     A0 = ngs.GridFunction(H1)\n",
    "#     A0, it = solve_2d(H1, A0, mesh, deg, J, fun_w, fun_dw, fun_ddw, linear, nonlinear)\n",
    "#     its.append(it)\n",
    "\n",
    "#     B = ngs.GridFunction(L2, nested = True)\n",
    "#     with ngs.TaskManager(): B.Set(ngs.grad(A0), bonus_intorder = 10)\n",
    "#     Bs.append(B)\n",
    "\n",
    "#     # Draw(B, mesh)\n",
    "\n",
    "#     if i>0:\n",
    "#         L2 = ngs.L2(mesh, dim = 2, order = deg-1)\n",
    "#         # L2 = ngs.HDiv(mesh, order = deg-1)\n",
    "#         Bp = ngs.GridFunction(L2)\n",
    "\n",
    "#         u,v = L2.TnT()\n",
    "#         ir = ngs.IntegrationRule(ngs.fem.ET.TRIG, order = 3*deg)\n",
    "\n",
    "#         # with ngs.TaskManager():\n",
    "#         #     a = ngs.BilinearForm(L2)\n",
    "#         #     a += ngs.SymbolicBFI(u*v, intrule = ir); a.Assemble()\n",
    "#         #     f = ngs.LinearForm(L2)\n",
    "#         #     f += ngs.SymbolicLFI(Bs[i-1]*v, intrule = ir); f.Assemble()\n",
    "#         #     Bp.vec.data = a.mat.Inverse(freedofs = L2.FreeDofs())*f.vec\n",
    "\n",
    "#         with ngs.TaskManager(): Bp.Set(Bs[i-1], bonus_intorder = 10)\n",
    "\n",
    "#         Bps.append(Bp)\n",
    "#         # Draw(Bp, mesh)\n",
    "#         with ngs.TaskManager(): error = ngs.Integrate((B-Bp)**2, mesh, order = 3*deg)**(1/2)/\\\n",
    "#                                         ngs.Integrate((B)**2, mesh, order = 3*deg)**(1/2)\n",
    "#         print(error)\n",
    "#         errors.append(error)\n",
    "\n",
    "# print(its)"
   ]
  },
  {
   "cell_type": "code",
   "execution_count": 4,
   "metadata": {},
   "outputs": [
    {
     "name": "stdout",
     "output_type": "stream",
     "text": [
      "[4.29694018 4.67219938 4.92444852 4.98808301]\n"
     ]
    }
   ],
   "source": [
    "import numpy as np\n",
    "a = np.array(errors)\n",
    "# a = np.array([0.00011907968926321385,7.813336806776809e-06\n",
    "# , 3.0480923924668197e-07\n",
    "# ,1.0782162011697921e-08\n",
    "# ])\n",
    "# print(errors)\n",
    "# print(a[:-1]/a[1:])\n",
    "print(np.log2(a[:-1]/a[1:]))\n",
    "\n",
    "# [1.86846328 1.99313412 2.08303115 2.32839828] # gesetz 4\n",
    "# [1.90055911 2.02087594 2.02998492 2.31871363] # gesetz 3\n",
    "\n",
    "# [2.36471921 3.7432967  3.82449012 3.90597432]\n",
    "\n",
    "# [3.42757099 3.72076194 3.9574683  3.96120833] # deg 4\n",
    "# [4.29694018 4.67219892 4.92504455 3.55727334] # deg 5, tol2 = 1e-8\n",
    "# [4.2969388  4.67219923 4.92497567 4.5799986 ] # deg 5, tol2 = 1e-12\n",
    "# [4.29694018 4.67219938 4.92444852 4.98808301] # deg 5, tol2 = 1e-15"
   ]
  },
  {
   "cell_type": "code",
   "execution_count": 5,
   "metadata": {},
   "outputs": [
    {
     "data": {
      "application/vnd.jupyter.widget-view+json": {
       "model_id": "dfce1b30c387436bb9f434d413ce6c7b",
       "version_major": 2,
       "version_minor": 0
      },
      "text/plain": [
       "WebGuiWidget(layout=Layout(height='500px', width='100%'), value={'gui_settings': {}, 'ngsolve_version': '6.2.2…"
      ]
     },
     "metadata": {},
     "output_type": "display_data"
    },
    {
     "data": {
      "application/vnd.jupyter.widget-view+json": {
       "model_id": "edd98f97ced840088bb8108d44d4a4fd",
       "version_major": 2,
       "version_minor": 0
      },
      "text/plain": [
       "WebGuiWidget(layout=Layout(height='500px', width='100%'), value={'gui_settings': {}, 'ngsolve_version': '6.2.2…"
      ]
     },
     "metadata": {},
     "output_type": "display_data"
    },
    {
     "data": {
      "application/vnd.jupyter.widget-view+json": {
       "model_id": "0828fe34a82349c4a537b0317961841e",
       "version_major": 2,
       "version_minor": 0
      },
      "text/plain": [
       "WebGuiWidget(layout=Layout(height='500px', width='100%'), value={'gui_settings': {}, 'ngsolve_version': '6.2.2…"
      ]
     },
     "metadata": {},
     "output_type": "display_data"
    }
   ],
   "source": [
    "with ngs.TaskManager(): Draw(B0, mesh)\n",
    "with ngs.TaskManager(): Draw(B1, mesh)\n",
    "with ngs.TaskManager(): Draw(ngs.log(ngs.Norm(B0-B1)), mesh)"
   ]
  },
  {
   "cell_type": "markdown",
   "metadata": {},
   "source": []
  },
  {
   "cell_type": "code",
   "execution_count": 6,
   "metadata": {},
   "outputs": [],
   "source": [
    "# help(ngs.GridFunction.Set)"
   ]
  },
  {
   "cell_type": "code",
   "execution_count": 7,
   "metadata": {},
   "outputs": [
    {
     "data": {
      "text/plain": [
       "<function ngsolve.fem.PyCapsule.exp>"
      ]
     },
     "execution_count": 7,
     "metadata": {},
     "output_type": "execute_result"
    }
   ],
   "source": [
    "ngs.exp"
   ]
  }
 ],
 "metadata": {
  "kernelspec": {
   "display_name": "pdefem",
   "language": "python",
   "name": "python3"
  },
  "language_info": {
   "codemirror_mode": {
    "name": "ipython",
    "version": 3
   },
   "file_extension": ".py",
   "mimetype": "text/x-python",
   "name": "python",
   "nbconvert_exporter": "python",
   "pygments_lexer": "ipython3",
   "version": "3.10.13"
  }
 },
 "nbformat": 4,
 "nbformat_minor": 2
}
