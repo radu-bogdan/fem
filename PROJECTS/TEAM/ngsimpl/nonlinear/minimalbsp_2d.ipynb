{
 "cells": [
  {
   "cell_type": "code",
   "execution_count": 5,
   "metadata": {},
   "outputs": [
    {
     "name": "stdout",
     "output_type": "stream",
     "text": [
      "BH data from TEAM 13 problem\n",
      "Applying a current of 196.88 Amps\n"
     ]
    }
   ],
   "source": [
    "import ngsolve as ngs\n",
    "from do import solve, solve_2d\n",
    "from ngsolve.webgui import Draw\n",
    "import matplotlib.pyplot as plt\n",
    "from copy import deepcopy\n",
    "import netgen.occ as occ\n",
    "\n",
    "levels = 5\n",
    "deg = 5\n",
    "\n",
    "######################################################\n",
    "from bhdata import BHCurves\n",
    "fun_dw  = BHCurves(4)\n",
    "fun_w   = fun_dw.Integrate()\n",
    "fun_ddw = fun_dw.Differentiate()\n",
    "\n",
    "mu0 = 1.256636e-6\n",
    "nu0 = 1/mu0\n",
    "\n",
    "linear = \"coil_plus|coil_minus\"\n",
    "nonlinear = \"stator\"\n",
    "\n",
    "strom = 1e5\n",
    "amps = 0.025**2*3.15*strom\n",
    "print(f'Applying a current of {amps:.2f} Amps')\n",
    "######################################################\n",
    "\n",
    "r_coil = 0.025\n",
    "y_coil = 0.05\n",
    "r_outer = 0.1\n",
    "\n",
    "c1 = occ.WorkPlane().Circle(r_outer).Face()\n",
    "c2 = occ.WorkPlane().MoveTo(0,y_coil).Circle(r_coil).Face()\n",
    "c3 = occ.WorkPlane().MoveTo(0,-y_coil).Circle(r_coil).Face()\n",
    "\n",
    "full = occ.Glue([c1,c2,c3])\n",
    "\n",
    "full.faces[0].name = 'stator'\n",
    "full.faces[1].name = 'coil_plus'\n",
    "full.faces[2].name = 'coil_minus'\n",
    "\n",
    "full.edges[0].name = 'outer'\n",
    "\n",
    "geoOCC = occ.OCCGeometry(full, dim = 2)"
   ]
  },
  {
   "cell_type": "code",
   "execution_count": 6,
   "metadata": {},
   "outputs": [
    {
     "name": "stdout",
     "output_type": "stream",
     "text": [
      "Using 2D mesh with ne= 197 elements and nv= 110 points and  2516 DOFs.\n",
      " \n",
      "Using 2D mesh with ne= 788 elements and nv= 416 points and  9956 DOFs.\n",
      " \n",
      "1.3980856701526355e-06\n",
      "Using 2D mesh with ne= 3152 elements and nv= 1619 points and  39611 DOFs.\n",
      " \n",
      "1.9920032552547145e-07\n",
      "Using 2D mesh with ne= 12608 elements and nv= 6389 points and  158021 DOFs.\n",
      " \n",
      "1.1360250704736986e-08\n",
      "Using 2D mesh with ne= 50432 elements and nv= 25385 points and  631241 DOFs.\n",
      " \n"
     ]
    }
   ],
   "source": [
    "meshes = []; Bs = []; Bps = []; its = []; errors = []\n",
    "\n",
    "for i in range(levels):\n",
    "    ngmesh = geoOCC.GenerateMesh()\n",
    "    mesh = ngs.Mesh(ngmesh)\n",
    "\n",
    "    for j in range(i):\n",
    "        mesh.Refine()\n",
    "    mesh.Curve(3)\n",
    "\n",
    "    with ngs.TaskManager(): J = mesh.MaterialCF({'coil_plus': strom, 'coil_minus': -strom, 'stator': 0}, default = 0)\n",
    "    H1 = ngs.H1(mesh, order = deg, dirichlet = \"outer\", autoupdate = True)\n",
    "    L2 = ngs.L2(mesh, dim = 2, order = deg-1, autoupdate = True)\n",
    "    A0 = ngs.GridFunction(H1)\n",
    "    A0, it = solve_2d(H1, A0, mesh, deg, J, fun_w, fun_dw, fun_ddw)\n",
    "    its.append(it)\n",
    "\n",
    "    B = ngs.GridFunction(L2, nested = True)\n",
    "    with ngs.TaskManager(): B.Set(ngs.grad(A0))\n",
    "    Bs.append(B)\n",
    "\n",
    "    if i>0:\n",
    "        L2 = ngs.L2(mesh, dim = 2, order = deg-1)\n",
    "        Bp = ngs.GridFunction(L2)\n",
    "        with ngs.TaskManager(): Bp.Set(Bs[i-1])\n",
    "        Bps.append(Bp)\n",
    "        with ngs.TaskManager(): error = ngs.Integrate((B-Bp)**2, mesh)*(1/2)/ngs.Integrate((B)**2, mesh)*(1/2)\n",
    "        print(error)\n",
    "        errors.append(error)\n",
    "        \n",
    "\n",
    "    # ######################################################\n",
    "    # # Refine mesh, apply prolongation\n",
    "    # ######################################################\n",
    "\n",
    "    # ngmesh2 = geoOCC.GenerateMesh()\n",
    "    # mesh2 = ngs.Mesh(ngmesh2)\n",
    "\n",
    "    # for j in range(i+1):\n",
    "    #     mesh2.Refine()\n",
    "    # mesh2.Curve()\n",
    "\n",
    "    # V3L2 = ngs.L2(mesh2, dim=3, order = deg-1)\n",
    "    # Bp = ngs.GridFunction(V3L2)\n",
    "    # Bp.Set(B)\n",
    "    # Bps.append(B)\n",
    "\n",
    "\n",
    "print(its)\n"
   ]
  },
  {
   "cell_type": "code",
   "execution_count": null,
   "metadata": {},
   "outputs": [
    {
     "name": "stdout",
     "output_type": "stream",
     "text": [
      "[2.28707753 4.29844636 4.84169275]\n"
     ]
    }
   ],
   "source": [
    "import numpy as np\n",
    "a = np.array(errors)\n",
    "print(np.log2(a[:-1]/a[1:]))"
   ]
  },
  {
   "cell_type": "code",
   "execution_count": null,
   "metadata": {},
   "outputs": [],
   "source": [
    "# with ngs.TaskManager(): Draw(B, mesh)"
   ]
  }
 ],
 "metadata": {
  "kernelspec": {
   "display_name": "pdefem",
   "language": "python",
   "name": "python3"
  },
  "language_info": {
   "codemirror_mode": {
    "name": "ipython",
    "version": 3
   },
   "file_extension": ".py",
   "mimetype": "text/x-python",
   "name": "python",
   "nbconvert_exporter": "python",
   "pygments_lexer": "ipython3",
   "version": "3.10.13"
  }
 },
 "nbformat": 4,
 "nbformat_minor": 2
}
