{
 "cells": [
  {
   "cell_type": "code",
   "execution_count": 1,
   "metadata": {},
   "outputs": [
    {
     "name": "stdout",
     "output_type": "stream",
     "text": [
      "Applying a current of 196.88 Amps\n"
     ]
    },
    {
     "data": {
      "application/vnd.jupyter.widget-view+json": {
       "model_id": "a3af17e35070499e8a6a924e8aa6bbe9",
       "version_major": 2,
       "version_minor": 0
      },
      "text/plain": [
       "WebGuiWidget(layout=Layout(height='500px', width='100%'), value={'ngsolve_version': 'Netgen x.x', 'mesh_dim': …"
      ]
     },
     "metadata": {},
     "output_type": "display_data"
    },
    {
     "data": {
      "text/plain": [
       "BaseWebGuiScene"
      ]
     },
     "execution_count": 1,
     "metadata": {},
     "output_type": "execute_result"
    }
   ],
   "source": [
    "import ngsolve as ngs\n",
    "from do import solve, solve_2d\n",
    "from ngsolve.webgui import Draw\n",
    "import matplotlib.pyplot as plt\n",
    "from copy import deepcopy\n",
    "import netgen.occ as occ\n",
    "\n",
    "levels = 5\n",
    "deg = 3\n",
    "degdif = 1\n",
    "\n",
    "######################################################\n",
    "# from bhdata import BHCurves\n",
    "# fun_dw  = BHCurves(4)\n",
    "# fun_w   = fun_dw.Integrate()\n",
    "# fun_ddw = fun_dw.Differentiate()\n",
    "######################################################\n",
    "from bhdata import Brauer, BrauerCut\n",
    "fun_w, fun_dw, fun_ddw  = Brauer()\n",
    "######################################################\n",
    "\n",
    "mu0 = 1.256636e-6\n",
    "nu0 = 1/mu0\n",
    "\n",
    "linear = \"coil_plus|coil_minus\"\n",
    "nonlinear = \"stator\"\n",
    "\n",
    "# linear = \"stator|coil_plus|coil_minus\"\n",
    "# nonlinear = \"\"\n",
    "\n",
    "strom = 1e5\n",
    "amps = 0.025**2*3.15*strom\n",
    "print(f'Applying a current of {amps:.2f} Amps')\n",
    "######################################################\n",
    "\n",
    "r_coil = 0.025\n",
    "y_coil = 0.05\n",
    "r_outer = 0.1\n",
    "\n",
    "c1 = occ.WorkPlane().Circle(r_outer).Face()\n",
    "c2 = occ.WorkPlane().MoveTo(0,y_coil).Circle(r_coil).Face()\n",
    "c3 = occ.WorkPlane().MoveTo(0,-y_coil).Circle(r_coil).Face()\n",
    "\n",
    "full = occ.Glue([c1,c2,c3])\n",
    "\n",
    "full.faces[0].name = 'stator'\n",
    "full.faces[1].name = 'coil_plus'\n",
    "full.faces[2].name = 'coil_minus'\n",
    "\n",
    "full.edges[0].name = 'outer'\n",
    "\n",
    "geoOCC = occ.OCCGeometry(full, dim = 2)\n",
    "Draw(full)"
   ]
  },
  {
   "cell_type": "code",
   "execution_count": 2,
   "metadata": {},
   "outputs": [
    {
     "name": "stdout",
     "output_type": "stream",
     "text": [
      "Using 2D mesh with ne= 191 elements and nv= 107 points and  892 DOFs.\n",
      " \n",
      "Iter:  1 | assem : 0.02s | CG took 0.01s | alpha : 1.00 | energy = 0.0000000762 | relres = 1.00e+00 |\n",
      "Iter:  2 | assem : 0.01s | CG took 0.01s | alpha : 1.00 | energy = -5.2196072522 | relres = 2.16e+00 |\n",
      "Iter:  3 | assem : 0.01s | CG took 0.01s | alpha : 1.00 | energy = -7.2243699441 | relres = 8.43e-01 |\n",
      "Iter:  4 | assem : 0.01s | CG took 0.01s | alpha : 1.00 | energy = -8.0570935772 | relres = 3.19e-01 |\n",
      "Iter:  5 | assem : 0.01s | CG took 0.01s | alpha : 1.00 | energy = -8.3211083900 | relres = 1.16e-01 |\n",
      "Iter:  6 | assem : 0.01s | CG took 0.01s | alpha : 0.25 | energy = -8.3722307897 | relres = 3.94e-02 |\n",
      "Iter:  7 | assem : 0.02s | CG took 0.01s | alpha : 0.06 | energy = -8.3754908935 | relres = 3.00e-02 |\n",
      "Iter:  8 | assem : 0.01s | CG took 0.01s | alpha : 0.02 | energy = -8.3759409682 | relres = 2.81e-02 |\n",
      "Iter:  9 | assem : 0.01s | CG took 0.01s | alpha : 0.01 | energy = -8.3760323672 | relres = 2.76e-02 |\n",
      "Iter: 10 | assem : 0.01s | CG took 0.01s | alpha : 0.00 | energy = -8.3760743319 | relres = 2.74e-02 |\n",
      "Iter: 11 | assem : 0.02s | CG took 0.01s | alpha : 0.00 | energy = -8.3760845026 | relres = 2.73e-02 |\n",
      "Iter: 12 | assem : 0.01s | CG took 0.01s | alpha : 0.00 | energy = -8.3760895303 | relres = 2.73e-02 |\n",
      "Iter: 13 | assem : 0.02s | CG took 0.01s | alpha : 0.00 | energy = -8.3760907822 | relres = 2.73e-02 |\n",
      "Iter: 14 | assem : 0.02s | CG took 0.01s | alpha : 0.00 | energy = -8.3760914072 | relres = 2.73e-02 |\n",
      "Iter: 15 | assem : 0.01s | CG took 0.01s | alpha : 0.00 | energy = -8.3760914853 | relres = 2.73e-02 |\n",
      "Iter: 16 | assem : 0.01s | CG took 0.01s | alpha : 0.00 | energy = -8.3760915049 | relres = 2.73e-02 |\n",
      "Iter: 17 | assem : 0.04s | CG took 0.01s | alpha : 0.00 | energy = -8.3760915097 | relres = 2.73e-02 |\n",
      "Using 2D mesh with ne= 191 elements and nv= 107 points and  1571 DOFs.\n",
      " \n",
      "Iter:  1 | assem : 0.02s | CG took 0.02s | alpha : 1.00 | energy = 0.0000000762 | relres = 1.00e+00 |\n",
      "Iter:  2 | assem : 0.02s | CG took 0.01s | alpha : 1.00 | energy = -5.1555664269 | relres = 2.25e+00 |\n",
      "Iter:  3 | assem : 0.02s | CG took 0.01s | alpha : 1.00 | energy = -7.1909929906 | relres = 8.79e-01 |\n",
      "Iter:  4 | assem : 0.01s | CG took 0.01s | alpha : 1.00 | energy = -8.0396974536 | relres = 3.34e-01 |\n",
      "Iter:  5 | assem : 0.01s | CG took 0.01s | alpha : 1.00 | energy = -8.3117048976 | relres = 1.22e-01 |\n",
      "Iter:  6 | assem : 0.02s | CG took 0.01s | alpha : 0.25 | energy = -8.3729621466 | relres = 4.19e-02 |\n",
      "Iter:  7 | assem : 0.01s | CG took 0.01s | alpha : 0.12 | energy = -8.3775916882 | relres = 3.19e-02 |\n",
      "Iter:  8 | assem : 0.01s | CG took 0.01s | alpha : 0.00 | energy = -8.3784168635 | relres = 2.77e-02 |\n",
      "Iter:  9 | assem : 0.02s | CG took 0.01s | alpha : 0.00 | energy = -8.3784168635 | relres = 2.77e-02 |\n",
      "0.016309129417119143\n",
      "Using 2D mesh with ne= 764 elements and nv= 404 points and  3502 DOFs.\n",
      " \n",
      "Iter:  1 | assem : 0.03s | CG took 0.02s | alpha : 1.00 | energy = 0.0000000762 | relres = 1.00e+00 |\n",
      "Iter:  2 | assem : 0.01s | CG took 0.01s | alpha : 1.00 | energy = -5.1534371361 | relres = 2.25e+00 |\n",
      "Iter:  3 | assem : 0.01s | CG took 0.01s | alpha : 1.00 | energy = -7.1898732059 | relres = 8.80e-01 |\n",
      "Iter:  4 | assem : 0.03s | CG took 0.02s | alpha : 1.00 | energy = -8.0391361214 | relres = 3.34e-01 |\n",
      "Iter:  5 | assem : 0.02s | CG took 0.01s | alpha : 1.00 | energy = -8.3117305823 | relres = 1.22e-01 |\n",
      "Iter:  6 | assem : 0.01s | CG took 0.01s | alpha : 0.25 | energy = -8.3727553508 | relres = 4.20e-02 |\n",
      "Iter:  7 | assem : 0.01s | CG took 0.02s | alpha : 0.12 | energy = -8.3775092975 | relres = 3.20e-02 |\n",
      "Iter:  8 | assem : 0.06s | CG took 0.02s | alpha : 0.00 | energy = -8.3784372922 | relres = 2.78e-02 |\n",
      "Iter:  9 | assem : 0.01s | CG took 0.02s | alpha : 0.00 | energy = -8.3784372922 | relres = 2.78e-02 |\n",
      "Using 2D mesh with ne= 764 elements and nv= 404 points and  6197 DOFs.\n",
      " \n",
      "Iter:  1 | assem : 0.03s | CG took 0.02s | alpha : 1.00 | energy = 0.0000000762 | relres = 1.00e+00 |\n",
      "Iter:  2 | assem : 0.02s | CG took 0.02s | alpha : 1.00 | energy = -5.1480409481 | relres = 2.26e+00 |\n",
      "Iter:  3 | assem : 0.02s | CG took 0.02s | alpha : 1.00 | energy = -7.1870558789 | relres = 8.84e-01 |\n",
      "Iter:  4 | assem : 0.02s | CG took 0.02s | alpha : 1.00 | energy = -8.0376808566 | relres = 3.36e-01 |\n",
      "Iter:  5 | assem : 0.02s | CG took 0.02s | alpha : 1.00 | energy = -8.3110351022 | relres = 1.23e-01 |\n",
      "Iter:  6 | assem : 0.02s | CG took 0.02s | alpha : 0.25 | energy = -8.3723626269 | relres = 4.22e-02 |\n",
      "Iter:  7 | assem : 0.02s | CG took 0.02s | alpha : 0.12 | energy = -8.3771706140 | relres = 3.22e-02 |\n",
      "Iter:  8 | assem : 0.03s | CG took 0.02s | alpha : 0.00 | energy = -8.3781509761 | relres = 2.80e-02 |\n",
      "Iter:  9 | assem : 0.04s | CG took 0.02s | alpha : 0.00 | energy = -8.3781715295 | relres = 2.79e-02 |\n",
      "Iter: 10 | assem : 0.04s | CG took 0.04s | alpha : 0.00 | energy = -8.3781715295 | relres = 2.79e-02 |\n",
      "0.002264640226241173\n",
      "Using 2D mesh with ne= 3056 elements and nv= 1571 points and  13879 DOFs.\n",
      " \n",
      "Iter:  1 | assem : 0.03s | CG took 0.05s | alpha : 1.00 | energy = 0.0000000762 | relres = 1.00e+00 |\n",
      "Iter:  2 | assem : 0.02s | CG took 0.06s | alpha : 1.00 | energy = -5.1480494607 | relres = 2.26e+00 |\n",
      "Iter:  3 | assem : 0.03s | CG took 0.07s | alpha : 1.00 | energy = -7.1870601390 | relres = 8.84e-01 |\n",
      "Iter:  4 | assem : 0.03s | CG took 0.09s | alpha : 1.00 | energy = -8.0376830148 | relres = 3.36e-01 |\n",
      "Iter:  5 | assem : 0.05s | CG took 0.05s | alpha : 1.00 | energy = -8.3110360680 | relres = 1.23e-01 |\n",
      "Iter:  6 | assem : 0.02s | CG took 0.05s | alpha : 0.25 | energy = -8.3723706229 | relres = 4.22e-02 |\n",
      "Iter:  7 | assem : 0.02s | CG took 0.05s | alpha : 0.12 | energy = -8.3771889286 | relres = 3.22e-02 |\n",
      "Iter:  8 | assem : 0.02s | CG took 0.05s | alpha : 0.00 | energy = -8.3781705955 | relres = 2.80e-02 |\n",
      "Iter:  9 | assem : 0.02s | CG took 0.05s | alpha : 0.00 | energy = -8.3781810054 | relres = 2.80e-02 |\n",
      "Iter: 10 | assem : 0.02s | CG took 0.05s | alpha : 0.00 | energy = -8.3781861386 | relres = 2.79e-02 |\n",
      "Iter: 11 | assem : 0.02s | CG took 0.05s | alpha : 0.00 | energy = -8.3781861387 | relres = 2.79e-02 |\n",
      "Using 2D mesh with ne= 3056 elements and nv= 1571 points and  24617 DOFs.\n",
      " \n",
      "Iter:  1 | assem : 0.33s | CG took 0.08s | alpha : 1.00 | energy = 0.0000000762 | relres = 1.00e+00 |\n",
      "Iter:  2 | assem : 0.06s | CG took 0.10s | alpha : 1.00 | energy = -5.1478234093 | relres = 2.26e+00 |\n",
      "Iter:  3 | assem : 0.04s | CG took 0.09s | alpha : 1.00 | energy = -7.1869422089 | relres = 8.84e-01 |\n",
      "Iter:  4 | assem : 0.09s | CG took 0.08s | alpha : 1.00 | energy = -8.0376216941 | relres = 3.36e-01 |\n",
      "Iter:  5 | assem : 0.04s | CG took 0.10s | alpha : 1.00 | energy = -8.3110053224 | relres = 1.23e-01 |\n",
      "Iter:  6 | assem : 0.06s | CG took 0.07s | alpha : 0.25 | energy = -8.3723600122 | relres = 4.22e-02 |\n",
      "Iter:  7 | assem : 0.04s | CG took 0.08s | alpha : 0.12 | energy = -8.3771805556 | relres = 3.22e-02 |\n",
      "Iter:  8 | assem : 0.09s | CG took 0.07s | alpha : 0.00 | energy = -8.3781624751 | relres = 2.80e-02 |\n",
      "Iter:  9 | assem : 0.08s | CG took 0.08s | alpha : 0.00 | energy = -8.3781728849 | relres = 2.80e-02 |\n",
      "Iter: 10 | assem : 0.05s | CG took 0.07s | alpha : 0.00 | energy = -8.3781780181 | relres = 2.79e-02 |\n",
      "Iter: 11 | assem : 0.06s | CG took 0.07s | alpha : 0.00 | energy = -8.3781780181 | relres = 2.79e-02 |\n",
      "0.0003553603010481052\n",
      "Using 2D mesh with ne= 12224 elements and nv= 6197 points and  55261 DOFs.\n",
      " \n",
      "Iter:  1 | assem : 0.05s | CG took 0.17s | alpha : 1.00 | energy = 0.0000000762 | relres = 1.00e+00 |\n",
      "Iter:  2 | assem : 0.05s | CG took 0.19s | alpha : 1.00 | energy = -5.1478259973 | relres = 2.26e+00 |\n",
      "Iter:  3 | assem : 0.04s | CG took 0.19s | alpha : 1.00 | energy = -7.1869435559 | relres = 8.84e-01 |\n",
      "Iter:  4 | assem : 0.05s | CG took 0.16s | alpha : 1.00 | energy = -8.0376223928 | relres = 3.36e-01 |\n",
      "Iter:  5 | assem : 0.04s | CG took 0.18s | alpha : 1.00 | energy = -8.3110056837 | relres = 1.23e-01 |\n",
      "Iter:  6 | assem : 0.04s | CG took 0.19s | alpha : 0.25 | energy = -8.3723601352 | relres = 4.22e-02 |\n",
      "Iter:  7 | assem : 0.04s | CG took 0.18s | alpha : 0.12 | energy = -8.3771806796 | relres = 3.22e-02 |\n",
      "Iter:  8 | assem : 0.11s | CG took 0.21s | alpha : 0.00 | energy = -8.3781626203 | relres = 2.80e-02 |\n",
      "Iter:  9 | assem : 0.05s | CG took 0.20s | alpha : 0.00 | energy = -8.3781730306 | relres = 2.80e-02 |\n",
      "Iter: 10 | assem : 0.05s | CG took 0.19s | alpha : 0.00 | energy = -8.3781781640 | relres = 2.79e-02 |\n",
      "Iter: 11 | assem : 0.04s | CG took 0.19s | alpha : 0.00 | energy = -8.3781781641 | relres = 2.79e-02 |\n",
      "Using 2D mesh with ne= 12224 elements and nv= 6197 points and  98129 DOFs.\n",
      " \n",
      "Iter:  1 | assem : 0.15s | CG took 0.32s | alpha : 1.00 | energy = 0.0000000762 | relres = 1.00e+00 |\n",
      "Iter:  2 | assem : 0.12s | CG took 0.32s | alpha : 1.00 | energy = -5.1478205216 | relres = 2.26e+00 |\n",
      "Iter:  3 | assem : 0.15s | CG took 0.32s | alpha : 1.00 | energy = -7.1869407017 | relres = 8.84e-01 |\n",
      "Iter:  4 | assem : 0.14s | CG took 0.34s | alpha : 1.00 | energy = -8.0376209090 | relres = 3.36e-01 |\n",
      "Iter:  5 | assem : 0.13s | CG took 0.31s | alpha : 1.00 | energy = -8.3110049343 | relres = 1.23e-01 |\n",
      "Iter:  6 | assem : 0.16s | CG took 0.29s | alpha : 0.25 | energy = -8.3723597959 | relres = 4.22e-02 |\n",
      "Iter:  7 | assem : 0.15s | CG took 0.32s | alpha : 0.12 | energy = -8.3771804254 | relres = 3.22e-02 |\n",
      "Iter:  8 | assem : 0.13s | CG took 0.32s | alpha : 0.00 | energy = -8.3781624067 | relres = 2.80e-02 |\n",
      "Iter:  9 | assem : 0.13s | CG took 0.32s | alpha : 0.00 | energy = -8.3781728176 | relres = 2.80e-02 |\n",
      "Iter: 10 | assem : 0.14s | CG took 0.33s | alpha : 0.00 | energy = -8.3781779513 | relres = 2.79e-02 |\n",
      "Iter: 11 | assem : 0.15s | CG took 0.29s | alpha : 0.00 | energy = -8.3781779513 | relres = 2.79e-02 |\n",
      "4.08205575314295e-05\n",
      "Using 2D mesh with ne= 48896 elements and nv= 24617 points and  220537 DOFs.\n",
      " \n",
      "Iter:  1 | assem : 0.15s | CG took 0.76s | alpha : 1.00 | energy = 0.0000000762 | relres = 1.00e+00 |\n",
      "Iter:  2 | assem : 0.15s | CG took 0.76s | alpha : 1.00 | energy = -5.1478206037 | relres = 2.26e+00 |\n",
      "Iter:  3 | assem : 0.16s | CG took 0.84s | alpha : 1.00 | energy = -7.1869407445 | relres = 8.84e-01 |\n",
      "Iter:  4 | assem : 0.15s | CG took 0.74s | alpha : 1.00 | energy = -8.0376209312 | relres = 3.36e-01 |\n",
      "Iter:  5 | assem : 0.14s | CG took 0.78s | alpha : 1.00 | energy = -8.3110049455 | relres = 1.23e-01 |\n",
      "Iter:  6 | assem : 0.14s | CG took 0.78s | alpha : 0.25 | energy = -8.3723598012 | relres = 4.22e-02 |\n",
      "Iter:  7 | assem : 0.15s | CG took 0.80s | alpha : 0.12 | energy = -8.3771804298 | relres = 3.22e-02 |\n",
      "Iter:  8 | assem : 0.17s | CG took 0.83s | alpha : 0.00 | energy = -8.3781624104 | relres = 2.80e-02 |\n",
      "Iter:  9 | assem : 0.14s | CG took 0.75s | alpha : 0.00 | energy = -8.3781728213 | relres = 2.80e-02 |\n",
      "Iter: 10 | assem : 0.16s | CG took 0.77s | alpha : 0.00 | energy = -8.3781779551 | relres = 2.79e-02 |\n",
      "Iter: 11 | assem : 0.13s | CG took 0.77s | alpha : 0.00 | energy = -8.3781779551 | relres = 2.79e-02 |\n",
      "Using 2D mesh with ne= 48896 elements and nv= 24617 points and  391841 DOFs.\n",
      " \n",
      "Iter:  1 | assem : 0.85s | CG took 1.36s | alpha : 1.00 | energy = 0.0000000762 | relres = 1.00e+00 |\n",
      "Iter:  2 | assem : 0.84s | CG took 1.33s | alpha : 1.00 | energy = -5.1478205044 | relres = 2.26e+00 |\n",
      "Iter:  3 | assem : 0.80s | CG took 1.30s | alpha : 1.00 | energy = -7.1869406926 | relres = 8.84e-01 |\n",
      "Iter:  4 | assem : 0.86s | CG took 1.36s | alpha : 1.00 | energy = -8.0376209041 | relres = 3.36e-01 |\n",
      "Iter:  5 | assem : 0.85s | CG took 1.38s | alpha : 1.00 | energy = -8.3110049317 | relres = 1.23e-01 |\n",
      "Iter:  6 | assem : 0.77s | CG took 1.37s | alpha : 0.25 | energy = -8.3723597950 | relres = 4.22e-02 |\n",
      "Iter:  7 | assem : 0.84s | CG took 1.33s | alpha : 0.12 | energy = -8.3771804250 | relres = 3.22e-02 |\n",
      "Iter:  8 | assem : 0.75s | CG took 1.34s | alpha : 0.00 | energy = -8.3781624062 | relres = 2.80e-02 |\n",
      "Iter:  9 | assem : 0.86s | CG took 1.35s | alpha : 0.00 | energy = -8.3781728171 | relres = 2.80e-02 |\n",
      "Iter: 10 | assem : 0.95s | CG took 1.32s | alpha : 0.00 | energy = -8.3781779509 | relres = 2.79e-02 |\n"
     ]
    }
   ],
   "source": [
    "meshes = []; its = []; errors = []\n",
    "\n",
    "for i in range(levels):\n",
    "    ngmesh = geoOCC.GenerateMesh()\n",
    "    mesh = ngs.Mesh(ngmesh)\n",
    "\n",
    "    for j in range(i):\n",
    "        mesh.Refine()\n",
    "    mesh.Curve(6)\n",
    "\n",
    "    with ngs.TaskManager(): J = mesh.MaterialCF({'coil_plus': strom, 'coil_minus': -strom, 'stator': 0}, default = 0)\n",
    "    H1_0 = ngs.H1(mesh, order = deg, dirichlet = \"outer\")\n",
    "    L2_0 = ngs.L2(mesh, dim = 2, order = deg-1)\n",
    "    A0 = ngs.GridFunction(H1_0)\n",
    "    A0, it = solve_2d(H1_0, A0, mesh, deg, J, fun_w, fun_dw, fun_ddw, linear, nonlinear)\n",
    "    its.append(it)\n",
    "    B0 = ngs.GridFunction(L2_0, nested = True)\n",
    "    with ngs.TaskManager(): B0.Set(ngs.grad(A0), bonus_intorder = 10)\n",
    "\n",
    "\n",
    "\n",
    "    H1_1 = ngs.H1(mesh, order = deg+degdif, dirichlet = \"outer\")\n",
    "    L2_1 = ngs.L2(mesh, dim = 2, order = deg+degdif-1)\n",
    "    A1 = ngs.GridFunction(H1_1)\n",
    "    A1, it = solve_2d(H1_1, A1, mesh, deg+degdif, J, fun_w, fun_dw, fun_ddw, linear, nonlinear)\n",
    "    its.append(it)\n",
    "    B1 = ngs.GridFunction(L2_1, nested = True)\n",
    "    with ngs.TaskManager(): B1.Set(ngs.grad(A1), bonus_intorder = 10)\n",
    "\n",
    "    with ngs.TaskManager(): error = ngs.Integrate((B0-B1)**2, mesh, order = 3*(deg+degdif))**(1/2)/\\\n",
    "                                    ngs.Integrate((B1)**2, mesh, order = 3*(deg+degdif))**(1/2)\n",
    "    print(error)\n",
    "    errors.append(error)\n",
    "    \n",
    "print(its)"
   ]
  },
  {
   "cell_type": "code",
   "execution_count": null,
   "metadata": {},
   "outputs": [],
   "source": [
    "# meshes = []; Bs = []; Bps = []; its = []; errors = []\n",
    "\n",
    "# for i in range(levels):\n",
    "#     ngmesh = geoOCC.GenerateMesh()\n",
    "#     mesh = ngs.Mesh(ngmesh)\n",
    "\n",
    "#     for j in range(i):\n",
    "#         mesh.Refine()\n",
    "#     mesh.Curve(6)\n",
    "\n",
    "#     with ngs.TaskManager(): J = mesh.MaterialCF({'coil_plus': strom, 'coil_minus': -strom, 'stator': 0}, default = 0)\n",
    "#     H1 = ngs.H1(mesh, order = deg, dirichlet = \"outer\", autoupdate = True)\n",
    "#     L2 = ngs.L2(mesh, dim = 2, order = deg-1)\n",
    "#     # L2 = ngs.HDiv(mesh, order = deg-1)\n",
    "#     A0 = ngs.GridFunction(H1)\n",
    "#     A0, it = solve_2d(H1, A0, mesh, deg, J, fun_w, fun_dw, fun_ddw, linear, nonlinear)\n",
    "#     its.append(it)\n",
    "\n",
    "#     B = ngs.GridFunction(L2, nested = True)\n",
    "#     with ngs.TaskManager(): B.Set(ngs.grad(A0), bonus_intorder = 10)\n",
    "#     Bs.append(B)\n",
    "\n",
    "#     # Draw(B, mesh)\n",
    "\n",
    "#     if i>0:\n",
    "#         L2 = ngs.L2(mesh, dim = 2, order = deg-1)\n",
    "#         # L2 = ngs.HDiv(mesh, order = deg-1)\n",
    "#         Bp = ngs.GridFunction(L2)\n",
    "\n",
    "#         u,v = L2.TnT()\n",
    "#         ir = ngs.IntegrationRule(ngs.fem.ET.TRIG, order = 3*deg)\n",
    "\n",
    "#         # with ngs.TaskManager():\n",
    "#         #     a = ngs.BilinearForm(L2)\n",
    "#         #     a += ngs.SymbolicBFI(u*v, intrule = ir); a.Assemble()\n",
    "#         #     f = ngs.LinearForm(L2)\n",
    "#         #     f += ngs.SymbolicLFI(Bs[i-1]*v, intrule = ir); f.Assemble()\n",
    "#         #     Bp.vec.data = a.mat.Inverse(freedofs = L2.FreeDofs())*f.vec\n",
    "\n",
    "#         with ngs.TaskManager(): Bp.Set(Bs[i-1], bonus_intorder = 10)\n",
    "\n",
    "#         Bps.append(Bp)\n",
    "#         # Draw(Bp, mesh)\n",
    "#         with ngs.TaskManager(): error = ngs.Integrate((B-Bp)**2, mesh, order = 3*deg)**(1/2)/\\\n",
    "#                                         ngs.Integrate((B)**2, mesh, order = 3*deg)**(1/2)\n",
    "#         print(error)\n",
    "#         errors.append(error)\n",
    "\n",
    "# print(its)"
   ]
  },
  {
   "cell_type": "code",
   "execution_count": null,
   "metadata": {},
   "outputs": [
    {
     "name": "stdout",
     "output_type": "stream",
     "text": [
      "[1.77526139 2.04993607 2.4279658  2.5582906 ]\n"
     ]
    }
   ],
   "source": [
    "import numpy as np\n",
    "a = np.array(errors)\n",
    "# a = np.array([0.00011907968926321385,7.813336806776809e-06\n",
    "# , 3.0480923924668197e-07\n",
    "# ,1.0782162011697921e-08\n",
    "# ])\n",
    "# print(errors)\n",
    "# print(a[:-1]/a[1:])\n",
    "print(np.log2(a[:-1]/a[1:]))\n",
    "\n",
    "# [1.86846328 1.99313412 2.08303115 2.32839828] # gesetz 4\n",
    "# [1.90055911 2.02087594 2.02998492 2.31871363] # gesetz 3\n",
    "\n",
    "# [2.36471921 3.7432967  3.82449012 3.90597432]"
   ]
  },
  {
   "cell_type": "code",
   "execution_count": null,
   "metadata": {},
   "outputs": [
    {
     "data": {
      "application/vnd.jupyter.widget-view+json": {
       "model_id": "9991ef1c16c0470e9f53575c3fd99189",
       "version_major": 2,
       "version_minor": 0
      },
      "text/plain": [
       "WebGuiWidget(layout=Layout(height='500px', width='100%'), value={'gui_settings': {}, 'ngsolve_version': '6.2.2…"
      ]
     },
     "metadata": {},
     "output_type": "display_data"
    },
    {
     "data": {
      "application/vnd.jupyter.widget-view+json": {
       "model_id": "706151e7373d496a8f125717f30f55a0",
       "version_major": 2,
       "version_minor": 0
      },
      "text/plain": [
       "WebGuiWidget(layout=Layout(height='500px', width='100%'), value={'gui_settings': {}, 'ngsolve_version': '6.2.2…"
      ]
     },
     "metadata": {},
     "output_type": "display_data"
    },
    {
     "data": {
      "application/vnd.jupyter.widget-view+json": {
       "model_id": "f60ec874ef124b039792bf4eb2720944",
       "version_major": 2,
       "version_minor": 0
      },
      "text/plain": [
       "WebGuiWidget(layout=Layout(height='500px', width='100%'), value={'gui_settings': {}, 'ngsolve_version': '6.2.2…"
      ]
     },
     "metadata": {},
     "output_type": "display_data"
    }
   ],
   "source": [
    "with ngs.TaskManager(): Draw(B0, mesh)\n",
    "with ngs.TaskManager(): Draw(B1, mesh)\n",
    "with ngs.TaskManager(): Draw(ngs.log(ngs.Norm(B0-B1)), mesh)"
   ]
  },
  {
   "cell_type": "markdown",
   "metadata": {},
   "source": []
  },
  {
   "cell_type": "code",
   "execution_count": null,
   "metadata": {},
   "outputs": [],
   "source": [
    "# help(ngs.GridFunction.Set)"
   ]
  },
  {
   "cell_type": "code",
   "execution_count": null,
   "metadata": {},
   "outputs": [
    {
     "data": {
      "text/plain": [
       "<function ngsolve.fem.PyCapsule.exp>"
      ]
     },
     "execution_count": 7,
     "metadata": {},
     "output_type": "execute_result"
    }
   ],
   "source": [
    "ngs.exp"
   ]
  }
 ],
 "metadata": {
  "kernelspec": {
   "display_name": "pdefem",
   "language": "python",
   "name": "python3"
  },
  "language_info": {
   "codemirror_mode": {
    "name": "ipython",
    "version": 3
   },
   "file_extension": ".py",
   "mimetype": "text/x-python",
   "name": "python",
   "nbconvert_exporter": "python",
   "pygments_lexer": "ipython3",
   "version": "3.10.13"
  }
 },
 "nbformat": 4,
 "nbformat_minor": 2
}
