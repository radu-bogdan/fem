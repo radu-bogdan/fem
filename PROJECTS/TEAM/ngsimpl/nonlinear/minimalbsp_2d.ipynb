{
 "cells": [
  {
   "cell_type": "code",
   "execution_count": 1,
   "metadata": {},
   "outputs": [
    {
     "name": "stdout",
     "output_type": "stream",
     "text": [
      "Applying a current of 196.88 Amps\n"
     ]
    },
    {
     "data": {
      "application/vnd.jupyter.widget-view+json": {
       "model_id": "82b84721f79e4810940546e6040ddded",
       "version_major": 2,
       "version_minor": 0
      },
      "text/plain": [
       "WebGuiWidget(layout=Layout(height='500px', width='100%'), value={'ngsolve_version': 'Netgen x.x', 'mesh_dim': …"
      ]
     },
     "metadata": {},
     "output_type": "display_data"
    },
    {
     "data": {
      "text/plain": [
       "BaseWebGuiScene"
      ]
     },
     "execution_count": 1,
     "metadata": {},
     "output_type": "execute_result"
    }
   ],
   "source": [
    "import ngsolve as ngs\n",
    "from do import solve, solve_2d\n",
    "from ngsolve.webgui import Draw\n",
    "import matplotlib.pyplot as plt\n",
    "from copy import deepcopy\n",
    "import netgen.occ as occ\n",
    "\n",
    "levels = 6\n",
    "deg = 2\n",
    "\n",
    "######################################################\n",
    "# from bhdata import BHCurves\n",
    "# fun_dw  = BHCurves(3)\n",
    "# fun_w   = fun_dw.Integrate()\n",
    "# fun_ddw = fun_dw.Differentiate()\n",
    "######################################################\n",
    "from bhdata import Brauer\n",
    "fun_w, fun_dw, fun_ddw  = Brauer()\n",
    "######################################################\n",
    "\n",
    "mu0 = 1.256636e-6\n",
    "nu0 = 1/mu0\n",
    "\n",
    "linear = \"coil_plus|coil_minus\"\n",
    "nonlinear = \"stator\"\n",
    "\n",
    "# linear = \"stator|coil_plus|coil_minus\"\n",
    "# nonlinear = \"\"\n",
    "\n",
    "strom = 1e5\n",
    "amps = 0.025**2*3.15*strom\n",
    "print(f'Applying a current of {amps:.2f} Amps')\n",
    "######################################################\n",
    "\n",
    "r_coil = 0.025\n",
    "y_coil = 0.05\n",
    "r_outer = 0.1\n",
    "\n",
    "c1 = occ.WorkPlane().Circle(r_outer).Face()\n",
    "c2 = occ.WorkPlane().MoveTo(0,y_coil).Circle(r_coil).Face()\n",
    "c3 = occ.WorkPlane().MoveTo(0,-y_coil).Circle(r_coil).Face()\n",
    "\n",
    "# c1 = occ.WorkPlane().MoveTo(-1,-1).Rectangle(2,2).Face()\n",
    "# c2 = occ.WorkPlane().MoveTo(-0.75,0).Rectangle(0.5,0.5).Face()\n",
    "# c3 = occ.WorkPlane().MoveTo(0.25,0).Rectangle(0.5,0.5).Face()\n",
    "\n",
    "full = occ.Glue([c1,c2,c3])\n",
    "\n",
    "full.faces[0].name = 'stator'\n",
    "full.faces[1].name = 'coil_plus'\n",
    "full.faces[2].name = 'coil_minus'\n",
    "\n",
    "full.edges[0].name = 'outer'\n",
    "\n",
    "geoOCC = occ.OCCGeometry(full, dim = 2)\n",
    "Draw(full)"
   ]
  },
  {
   "cell_type": "code",
   "execution_count": 2,
   "metadata": {},
   "outputs": [
    {
     "name": "stdout",
     "output_type": "stream",
     "text": [
      "Using 2D mesh with ne= 191 elements and nv= 107 points and  404 DOFs.\n",
      " \n",
      "Using 2D mesh with ne= 764 elements and nv= 404 points and  1571 DOFs.\n",
      " \n",
      "0.04977507204956671\n",
      "Using 2D mesh with ne= 3056 elements and nv= 1571 points and  6197 DOFs.\n",
      " \n",
      "0.01661317335456407\n",
      "Using 2D mesh with ne= 12224 elements and nv= 6197 points and  24617 DOFs.\n",
      " \n",
      "0.003871957303118123\n",
      "Using 2D mesh with ne= 48896 elements and nv= 24617 points and  98129 DOFs.\n",
      " \n",
      "0.001001834927167884\n",
      "Using 2D mesh with ne= 195584 elements and nv= 98129 points and  391841 DOFs.\n",
      " \n",
      "0.00025148443521136977\n",
      "[8, 13, 9, 10, 11, 11]\n"
     ]
    }
   ],
   "source": [
    "meshes = []; Bs = []; Bps = []; its = []; errors = []\n",
    "\n",
    "for i in range(levels):\n",
    "    ngmesh = geoOCC.GenerateMesh()\n",
    "    mesh = ngs.Mesh(ngmesh)\n",
    "\n",
    "    for j in range(i):\n",
    "        mesh.Refine()\n",
    "    mesh.Curve(6)\n",
    "\n",
    "    with ngs.TaskManager(): J = mesh.MaterialCF({'coil_plus': strom, 'coil_minus': -strom, 'stator': 0}, default = 0)\n",
    "    H1 = ngs.H1(mesh, order = deg, dirichlet = \"outer\", autoupdate = True)\n",
    "    L2 = ngs.L2(mesh, dim = 2, order = deg-1)\n",
    "    # L2 = ngs.HDiv(mesh, order = deg-1)\n",
    "    A0 = ngs.GridFunction(H1)\n",
    "    A0, it = solve_2d(H1, A0, mesh, deg, J, fun_w, fun_dw, fun_ddw, linear, nonlinear)\n",
    "    its.append(it)\n",
    "\n",
    "    B = ngs.GridFunction(L2, nested = True)\n",
    "    with ngs.TaskManager(): B.Set(ngs.grad(A0), bonus_intorder = 10)\n",
    "    Bs.append(B)\n",
    "\n",
    "    # Draw(B, mesh)\n",
    "\n",
    "    if i>0:\n",
    "        L2 = ngs.L2(mesh, dim = 2, order = deg-1)\n",
    "        # L2 = ngs.HDiv(mesh, order = deg-1)\n",
    "        Bp = ngs.GridFunction(L2)\n",
    "\n",
    "        u,v = L2.TnT()\n",
    "        ir = ngs.IntegrationRule(ngs.fem.ET.TRIG, order = 3*deg)\n",
    "        with ngs.TaskManager():\n",
    "            a = ngs.BilinearForm(L2)\n",
    "            a += ngs.SymbolicBFI(u*v, intrule = ir); a.Assemble()\n",
    "            f = ngs.LinearForm(L2)\n",
    "            f += ngs.SymbolicLFI(Bs[i-1]*v, intrule = ir); f.Assemble()\n",
    "            Bp.vec.data = a.mat.Inverse(freedofs = L2.FreeDofs())*f.vec\n",
    "\n",
    "\n",
    "\n",
    "\n",
    "\n",
    "\n",
    "        # with ngs.TaskManager(): Bp.Set(Bs[i-1], bonus_intorder = 10)\n",
    "\n",
    "        Bps.append(Bp)\n",
    "        # Draw(Bp, mesh)\n",
    "        with ngs.TaskManager(): error = ngs.Integrate((B-Bp)**2, mesh, order = 3*deg)**(1/2)/\\\n",
    "                                        ngs.Integrate((B)**2, mesh, order = 3*deg)**(1/2)\n",
    "        print(error)\n",
    "        errors.append(error)\n",
    "        \n",
    "\n",
    "    # ######################################################\n",
    "    # # Refine mesh, apply prolongation\n",
    "    # ######################################################\n",
    "\n",
    "    # ngmesh2 = geoOCC.GenerateMesh()\n",
    "    # mesh2 = ngs.Mesh(ngmesh2)\n",
    "\n",
    "    # for j in range(i+1):\n",
    "    #     mesh2.Refine()\n",
    "    # mesh2.Curve()\n",
    "\n",
    "    # V3L2 = ngs.L2(mesh2, dim=3, order = deg-1)\n",
    "    # Bp = ngs.GridFunction(V3L2)\n",
    "    # Bp.Set(B)\n",
    "    # Bps.append(B)\n",
    "\n",
    "\n",
    "print(its)\n",
    "\n",
    "\n",
    "# Using 2D mesh with ne= 191 elements and nv= 107 points and  107 DOFs.\n",
    " \n",
    "# Using 2D mesh with ne= 764 elements and nv= 404 points and  404 DOFs.\n",
    " \n",
    "# 0.1701561842247138\n",
    "# Using 2D mesh with ne= 3056 elements and nv= 1571 points and  1571 DOFs.\n",
    " \n",
    "# 0.1099406013037821\n",
    "# Using 2D mesh with ne= 12224 elements and nv= 6197 points and  6197 DOFs.\n",
    " \n",
    "# 0.05470195182434864\n",
    "# Using 2D mesh with ne= 48896 elements and nv= 24617 points and  24617 DOFs.\n",
    " \n",
    "# 0.027303573515624437\n",
    "# Using 2D mesh with ne= 195584 elements and nv= 98129 points and  98129 DOFs.\n",
    " \n",
    "# 0.013616107336767729\n",
    "# [8, 9, 9, 9, 10, 10]"
   ]
  },
  {
   "cell_type": "code",
   "execution_count": 3,
   "metadata": {},
   "outputs": [
    {
     "name": "stdout",
     "output_type": "stream",
     "text": [
      "[1.58309573 2.10119273 1.95041823 1.9941038 ]\n"
     ]
    }
   ],
   "source": [
    "import numpy as np\n",
    "a = np.array(errors)\n",
    "# a = np.array([0.00011907968926321385,7.813336806776809e-06\n",
    "# , 3.0480923924668197e-07\n",
    "# ,1.0782162011697921e-08\n",
    "# ])\n",
    "# print(errors)\n",
    "# print(a[:-1]/a[1:])\n",
    "print(np.log2(a[:-1]/a[1:]))\n",
    "\n",
    "# [1.86846328 1.99313412 2.08303115 2.32839828] # gesetz 4\n",
    "# [1.90055911 2.02087594 2.02998492 2.31871363] # gesetz 3"
   ]
  },
  {
   "cell_type": "code",
   "execution_count": 4,
   "metadata": {},
   "outputs": [
    {
     "data": {
      "application/vnd.jupyter.widget-view+json": {
       "model_id": "c1030fbbd723496d814a77e44e160aec",
       "version_major": 2,
       "version_minor": 0
      },
      "text/plain": [
       "WebGuiWidget(layout=Layout(height='500px', width='100%'), value={'gui_settings': {}, 'ngsolve_version': '6.2.2…"
      ]
     },
     "metadata": {},
     "output_type": "display_data"
    }
   ],
   "source": [
    "with ngs.TaskManager(): Draw(B, mesh)\n",
    "# with ngs.TaskManager(): Draw(Bp, mesh)\n",
    "# with ngs.TaskManager(): Draw((ngs.Norm(B-Bp)), mesh)"
   ]
  },
  {
   "cell_type": "code",
   "execution_count": 5,
   "metadata": {},
   "outputs": [
    {
     "name": "stdout",
     "output_type": "stream",
     "text": [
      "Help on instancemethod in module ngsolve.comp:\n",
      "\n",
      "Set(...)\n",
      "    Set(self: ngsolve.comp.GridFunction, coefficient: ngsolve.fem.CoefficientFunction, VOL_or_BND: ngsolve.comp.VorB = <VorB.VOL: 0>, definedon: object = <ngsolve.ngstd.DummyArgument>, dual: bool = False, use_simd: bool = True, mdcomp: int = 0, definedonelements: Optional[pyngcore.pyngcore.BitArray] = None, bonus_intorder: int = 0) -> None\n",
      "    \n",
      "    \n",
      "    Set values\n",
      "    \n",
      "    Parameters:\n",
      "    \n",
      "    coefficient : ngsolve.fem.CoefficientFunction\n",
      "      input CF to set\n",
      "    \n",
      "    VOL_or_BND : ngsolve.comp.VorB\n",
      "      input VOL, BND, BBND, ...\n",
      "    \n",
      "    definedon : object\n",
      "      input definedon region\n",
      "    \n",
      "    dual : bool\n",
      "      If set to true dual shapes are used, otherwise local L2-projection is used.\n",
      "      Default is False.\n",
      "    \n",
      "    use_simd : bool\n",
      "      If set to false does not use SIMD (for debugging).\n",
      "    \n",
      "    mdcomp : int\n",
      "      .\n",
      "    \n",
      "    definedonelements : nullopt\n",
      "      .\n",
      "    \n",
      "    bonus_intorder : int\n",
      "      Increase numerical integration order.\n",
      "\n"
     ]
    }
   ],
   "source": [
    "help(ngs.GridFunction.Set)"
   ]
  },
  {
   "cell_type": "code",
   "execution_count": 6,
   "metadata": {},
   "outputs": [
    {
     "data": {
      "text/plain": [
       "<function ngsolve.fem.PyCapsule.exp>"
      ]
     },
     "execution_count": 6,
     "metadata": {},
     "output_type": "execute_result"
    }
   ],
   "source": [
    "ngs.exp"
   ]
  }
 ],
 "metadata": {
  "kernelspec": {
   "display_name": "pdefem",
   "language": "python",
   "name": "python3"
  },
  "language_info": {
   "codemirror_mode": {
    "name": "ipython",
    "version": 3
   },
   "file_extension": ".py",
   "mimetype": "text/x-python",
   "name": "python",
   "nbconvert_exporter": "python",
   "pygments_lexer": "ipython3",
   "version": "3.10.13"
  }
 },
 "nbformat": 4,
 "nbformat_minor": 2
}
