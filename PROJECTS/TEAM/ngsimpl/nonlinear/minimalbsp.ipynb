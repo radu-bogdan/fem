{
 "cells": [
  {
   "cell_type": "code",
   "execution_count": 1,
   "metadata": {},
   "outputs": [],
   "source": [
    "import ngsolve as ngs\n",
    "from do import solve\n",
    "from ngsolve.webgui import Draw\n",
    "import matplotlib.pyplot as plt\n",
    "from copy import deepcopy\n",
    "\n",
    "from createGeom import makeGeo\n",
    "geoOCC = makeGeo()\n",
    "\n",
    "ngmesh = geoOCC.GenerateMesh()\n",
    "mesh = ngs.Mesh(ngmesh)\n",
    "\n",
    "levels = 2\n",
    "deg = 2"
   ]
  },
  {
   "cell_type": "code",
   "execution_count": 2,
   "metadata": {},
   "outputs": [
    {
     "name": "stdout",
     "output_type": "stream",
     "text": [
      "BH data from TEAM 13 problem\n",
      "Applying a current of 196.88 Amps\n"
     ]
    }
   ],
   "source": [
    "from bhdata import BHCurves\n",
    "fun_dw  = BHCurves(4)\n",
    "fun_w   = fun_dw.Integrate()\n",
    "fun_ddw = fun_dw.Differentiate()\n",
    "\n",
    "mu0 = 1.256636e-6\n",
    "nu0 = 1/mu0\n",
    "\n",
    "linear = \"coil_plus|coil_minus\"\n",
    "nonlinear = \"stator\"\n",
    "\n",
    "strom = 1e5\n",
    "amps = 0.025**2*3.15*strom\n",
    "print(f'Applying a current of {amps:.2f} Amps')\n",
    "J = mesh.MaterialCF({'coil_plus': (0,0,strom), 'coil_minus': (0,0,-strom), 'stator': (0,0,0)}, default = (0,0,0))\n",
    "# Draw(J, mesh)"
   ]
  },
  {
   "cell_type": "code",
   "execution_count": 3,
   "metadata": {},
   "outputs": [],
   "source": [
    "# from do import solve\n",
    "\n",
    "# ngmesh = geoOCC.GenerateMesh()\n",
    "# mesh = ngs.Mesh(ngmesh)\n",
    "\n",
    "HCurl = ngs.HCurl(mesh, order = deg, nograds = True, dirichlet = 'outer_face|coil_plus_face|coil_minus_face|stator_face', autoupdate = True)\n",
    "# HCurlN = ngs.HCurl(mesh, order = deg)\n",
    "V3L2 = ngs.L2(mesh, dim=3, order = deg-1, autoupdate = True)\n",
    "# # V3L2 = ngs.L2(mesh, dim=3, order = deg-1)\n",
    "# VL2 = ngs.L2(mesh, order = deg-1)\n",
    "\n",
    "\n",
    "# J = mesh.MaterialCF({'coil_plus': (0,0,strom), 'coil_minus': (0,0,-strom), 'stator': (0,0,0)}, default = (0,0,0))\n",
    "# A0 = ngs.GridFunction(HCurl)\n",
    "# A0, it0 = solve(HCurl,A0,mesh,deg,J,fun_w,fun_dw,fun_ddw)"
   ]
  },
  {
   "cell_type": "code",
   "execution_count": 4,
   "metadata": {},
   "outputs": [
    {
     "name": "stdout",
     "output_type": "stream",
     "text": [
      "Using 3D mesh with ne= 1057 elements and nv= 307 points and  6242 DOFs.\n",
      " \n"
     ]
    },
    {
     "data": {
      "application/vnd.jupyter.widget-view+json": {
       "model_id": "7bbb6e9114414f2fb801d9d4ebc275cb",
       "version_major": 2,
       "version_minor": 0
      },
      "text/plain": [
       "WebGuiWidget(layout=Layout(height='500px', width='100%'), value={'gui_settings': {}, 'ngsolve_version': '6.2.2…"
      ]
     },
     "metadata": {},
     "output_type": "display_data"
    }
   ],
   "source": [
    "# ngmesh = geoOCC.GenerateMesh()\n",
    "# mesh = ngs.Mesh(ngmesh)\n",
    "\n",
    "A0 = ngs.GridFunction(HCurl)\n",
    "A0, it0 = solve(HCurl,A0,mesh,deg,J,fun_w,fun_dw,fun_ddw)\n",
    "\n",
    "\n",
    "B0 = ngs.GridFunction(V3L2, nested = True)\n",
    "with ngs.TaskManager(): B0.Set(ngs.curl(A0), ngs.VOL)\n",
    "\n",
    "# with ngs.TaskManager(): B0.Set(ngs.CF((ngs.x,ngs.y,0)))\n",
    "# a = deepcopy(B0.vec.data.FV().NumPy())\n",
    "# plt.plot(a)\n",
    "# B0.vec.data = a\n",
    "\n",
    "# print(a.min(),a.max())\n",
    "\n",
    "# mesh.Refine()\n",
    "# B0.Update\n",
    "\n",
    "clipping = { \"function\" : True, \"z\" : -0.4}\n",
    "# with ngs.TaskManager(): Draw(B0, mesh, clipping = clipping)\n",
    "with ngs.TaskManager(): Draw(B0, mesh, clipping = clipping)\n",
    "\n",
    "# -8.468579201651239e-05 8.738808586428822e-05\n"
   ]
  },
  {
   "cell_type": "code",
   "execution_count": 5,
   "metadata": {},
   "outputs": [],
   "source": [
    "# print(B0.vec.data.FV().NumPy().size, 3*mesh.nface)\n",
    "# B0"
   ]
  },
  {
   "cell_type": "code",
   "execution_count": 8,
   "metadata": {},
   "outputs": [
    {
     "data": {
      "application/vnd.jupyter.widget-view+json": {
       "model_id": "fb20674bfd8247218ce8e087b37ef161",
       "version_major": 2,
       "version_minor": 0
      },
      "text/plain": [
       "WebGuiWidget(layout=Layout(height='500px', width='100%'), value={'gui_settings': {}, 'ngsolve_version': '6.2.2…"
      ]
     },
     "metadata": {},
     "output_type": "display_data"
    }
   ],
   "source": [
    "mesh.Refine()\n",
    "\n",
    "V3L2_2 = ngs.L2(mesh, dim=3, order = deg-1)\n",
    "B01 = ngs.GridFunction(V3L2_2)\n",
    "B01.Set(B0, ngs.VOL)\n",
    "\n",
    "clipping = { \"function\" : True, \"z\" : -0.4}\n",
    "with ngs.TaskManager(): Draw(B01, mesh, clipping = clipping)"
   ]
  },
  {
   "cell_type": "code",
   "execution_count": 7,
   "metadata": {},
   "outputs": [
    {
     "data": {
      "application/vnd.jupyter.widget-view+json": {
       "model_id": "a8c8f09d50cf4923abef56c471d853b2",
       "version_major": 2,
       "version_minor": 0
      },
      "text/plain": [
       "WebGuiWidget(layout=Layout(height='500px', width='100%'), value={'gui_settings': {}, 'ngsolve_version': '6.2.2…"
      ]
     },
     "metadata": {},
     "output_type": "display_data"
    }
   ],
   "source": [
    "clipping = { \"function\" : True, \"z\" : -0.4}\n",
    "with ngs.TaskManager(): Draw(B0, mesh, clipping = clipping)"
   ]
  }
 ],
 "metadata": {
  "kernelspec": {
   "display_name": "pdefem",
   "language": "python",
   "name": "python3"
  },
  "language_info": {
   "codemirror_mode": {
    "name": "ipython",
    "version": 3
   },
   "file_extension": ".py",
   "mimetype": "text/x-python",
   "name": "python",
   "nbconvert_exporter": "python",
   "pygments_lexer": "ipython3",
   "version": "3.10.13"
  }
 },
 "nbformat": 4,
 "nbformat_minor": 2
}
