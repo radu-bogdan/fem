{
 "cells": [
  {
   "cell_type": "code",
   "execution_count": 1,
   "metadata": {},
   "outputs": [
    {
     "data": {
      "text/plain": [
       "<ngsolve.comp.Mesh at 0x157993a5080>"
      ]
     },
     "execution_count": 1,
     "metadata": {},
     "output_type": "execute_result"
    }
   ],
   "source": [
    "import ngsolve as ngs\n",
    "from ngsolve.webgui import Draw\n",
    "\n",
    "from createGeom import makeGeo\n",
    "geoOCC = makeGeo()\n",
    "\n",
    "ngmesh = geoOCC.GenerateMesh()\n",
    "mesh = ngs.Mesh(ngmesh)\n",
    "\n",
    "mesh.Refine()\n",
    "mesh.Refine()\n",
    "mesh.Curve(2)\n"
   ]
  },
  {
   "cell_type": "code",
   "execution_count": 2,
   "metadata": {},
   "outputs": [
    {
     "data": {
      "application/vnd.jupyter.widget-view+json": {
       "model_id": "a68f2118c9894f2e92fdf2727ac2268c",
       "version_major": 2,
       "version_minor": 0
      },
      "text/plain": [
       "WebGuiWidget(layout=Layout(height='500px', width='100%'), value={'gui_settings': {}, 'ngsolve_version': '6.2.2…"
      ]
     },
     "metadata": {},
     "output_type": "display_data"
    },
    {
     "data": {
      "text/plain": [
       "BaseWebGuiScene"
      ]
     },
     "execution_count": 2,
     "metadata": {},
     "output_type": "execute_result"
    }
   ],
   "source": [
    "# mesh.Refine()\n",
    "# mesh.Refine()\n",
    "\n",
    "Draw(mesh)\n",
    "\n",
    "# help(occ.MakeFillet )"
   ]
  },
  {
   "cell_type": "code",
   "execution_count": 11,
   "metadata": {},
   "outputs": [
    {
     "name": "stdout",
     "output_type": "stream",
     "text": [
      "BH data from TEAM 13 problem\n",
      "Applying a current of 196.88 Amps\n"
     ]
    }
   ],
   "source": [
    "from bhdata import BHCurves\n",
    "fun_dw  = BHCurves(4)\n",
    "fun_w   = fun_dw.Integrate()\n",
    "fun_ddw = fun_dw.Differentiate()\n",
    "\n",
    "mu0 = 1.256636e-6\n",
    "nu0 = 1/mu0\n",
    "\n",
    "linear = \"coil_plus|coil_minus\"\n",
    "nonlinear = \"stator\"\n",
    "\n",
    "strom = 1e5\n",
    "amps = 0.025**2*3.15*strom\n",
    "print(f'Applying a current of {amps:.2f} Amps')\n",
    "\n",
    "J = mesh.MaterialCF({'coil_plus': (0,0,strom), 'coil_minus': (0,0,-strom), 'stator': (0,0,0)}, default = (0,0,0))\n",
    "# Draw(J, mesh)"
   ]
  },
  {
   "cell_type": "code",
   "execution_count": null,
   "metadata": {},
   "outputs": [],
   "source": []
  },
  {
   "cell_type": "code",
   "execution_count": null,
   "metadata": {},
   "outputs": [],
   "source": [
    "# print(HCurl.ndof)\n",
    "# print(mesh.GetMaterials())\n",
    "\n",
    "deg = 3\n",
    "\n",
    "HCurl = ngs.HCurl(mesh, order = deg, nograds = True, dirichlet = 'outer_face|coil_plus_face|coil_minus_face|stator_face')\n",
    "# HCurl = ngs.HCurl(mesh, order = deg, nograds = True)\n",
    "u,v = HCurl.TnT()\n",
    "\n",
    "\n",
    "# Nonlinear:\n",
    "maxit = 2000\n",
    "tol2 = 1e-8\n",
    "regb = 1e-8\n",
    "\n",
    "A = ngs.GridFunction(HCurl)\n",
    "B = ngs.curl(A)\n",
    "normB = ngs.sqrt(B*B + regb)\n",
    "\n",
    "\n",
    "cf_energy = mesh.MaterialCF({linear: nu0/2*B*B, nonlinear: fun_w(normB)}, default = nu0/2*B*B).Compile()\n",
    "\n",
    "def fun_W():\n",
    "    with ngs.TaskManager(): res = ngs.Integrate(cf_energy - J*A, mesh)\n",
    "    # with ngs.TaskManager(): res = ngs.Integrate(cf_energy - J*A, mesh, order = 2*deg)\n",
    "    # with ngs.TaskManager(): res = ngs.Integrate(cf_energy - ngs.curl(Hs)*A, mesh)\n",
    "    # print(\"res:\" + str(ngs.Integrate(cf_energy, mesh)))\n",
    "    return res\n",
    "\n",
    "ir = ngs.IntegrationRule(ngs.fem.ET.TET, order = 2*deg)\n",
    "\n",
    "\n",
    "cf_rhs = mesh.MaterialCF({linear: nu0, nonlinear: fun_dw(normB)/normB}, default = nu0).Compile()\n",
    "\n",
    "rhs = ngs.LinearForm(HCurl)\n",
    "rhs += ngs.SymbolicLFI(cf_rhs*B*ngs.curl(v) - J*v, intrule = ir)\n",
    "\n",
    "# rhs = ngs.LinearForm((cf_rhs*B*ngs.curl(v) - ngs.curl(v)*Hs)*ngs.dx)\n",
    "# rhs = ngs.LinearForm((cf_rhs*B*ngs.curl(v) - ngs.curl(Hs)*v)*ngs.dx)\n",
    "\n",
    "def fun_dW(): #implicitly depending on A!\n",
    "    with ngs.TaskManager(): rhs.Assemble()\n",
    "    return rhs\n",
    "\n",
    "\n",
    "Id = ngs.CF((1,0,0,\n",
    "             0,1,0,\n",
    "             0,0,1), dims=(3,3))\n",
    "\n",
    "BBt = ngs.CF((B[0]*B[0], B[0]*B[1], B[0]*B[2],\n",
    "              B[1]*B[0], B[1]*B[1], B[1]*B[2],\n",
    "              B[2]*B[0], B[2]*B[1], B[2]*B[2]), dims = (3,3))\n",
    "\n",
    "\n",
    "fun1 = fun_dw(normB)/normB\n",
    "fun2 = (fun_ddw(normB) - fun_dw(normB)/normB)/(normB*normB)\n",
    "\n",
    "cf_iter = mesh.MaterialCF({linear: nu0*Id, nonlinear: fun1*Id + fun2*BBt}, default = nu0*Id).Compile()\n",
    "\n",
    "K_iter = ngs.BilinearForm(HCurl)\n",
    "K_iter += ngs.SymbolicBFI(cf_iter*ngs.curl(u)*ngs.curl(v), intrule = ir)\n",
    "# K_iter += (cf_iter*ngs.curl(u)*ngs.curl(v))*ngs.dx\n",
    "C_iter = ngs.Preconditioner(K_iter, type = \"local\")\n",
    "\n",
    "def fun_ddW():\n",
    "    with ngs.TaskManager(): K_iter.Assemble()\n",
    "    return K_iter\n"
   ]
  },
  {
   "cell_type": "code",
   "execution_count": null,
   "metadata": {},
   "outputs": [
    {
     "ename": "ModuleNotFoundError",
     "evalue": "No module named 'ngcotree'",
     "output_type": "error",
     "traceback": [
      "\u001b[1;31m---------------------------------------------------------------------------\u001b[0m",
      "\u001b[1;31mModuleNotFoundError\u001b[0m                       Traceback (most recent call last)",
      "Cell \u001b[1;32mIn[6], line 4\u001b[0m\n\u001b[0;32m      1\u001b[0m \u001b[38;5;28;01mfrom\u001b[39;00m \u001b[38;5;21;01mttictoc\u001b[39;00m \u001b[38;5;28;01mimport\u001b[39;00m tic, toc\n\u001b[0;32m      2\u001b[0m \u001b[38;5;28;01mfrom\u001b[39;00m \u001b[38;5;21;01mngsolve\u001b[39;00m\u001b[38;5;21;01m.\u001b[39;00m\u001b[38;5;21;01mkrylovspace\u001b[39;00m \u001b[38;5;28;01mimport\u001b[39;00m CGSolver\n\u001b[1;32m----> 4\u001b[0m \u001b[38;5;28;01mfrom\u001b[39;00m \u001b[38;5;21;01mngcotree\u001b[39;00m \u001b[38;5;28;01mimport\u001b[39;00m \u001b[38;5;241m*\u001b[39m\n\u001b[0;32m      5\u001b[0m newFreeDofs \u001b[38;5;241m=\u001b[39m CoTreeBitArray(mesh, HCurl, plot \u001b[38;5;241m=\u001b[39m \u001b[38;5;28;01mFalse\u001b[39;00m)\n\u001b[0;32m      7\u001b[0m \u001b[38;5;28mprint\u001b[39m(\u001b[38;5;124m\"\u001b[39m\u001b[38;5;124mUsing 3D mesh with ne=\u001b[39m\u001b[38;5;124m\"\u001b[39m, mesh\u001b[38;5;241m.\u001b[39mne, \u001b[38;5;124m\"\u001b[39m\u001b[38;5;124melements and nv=\u001b[39m\u001b[38;5;124m\"\u001b[39m, mesh\u001b[38;5;241m.\u001b[39mnv, \u001b[38;5;124m\"\u001b[39m\u001b[38;5;124mpoints and \u001b[39m\u001b[38;5;124m\"\u001b[39m ,HCurl\u001b[38;5;241m.\u001b[39mndof, \u001b[38;5;124m\"\u001b[39m\u001b[38;5;124mDOFs.\u001b[39m\u001b[38;5;130;01m\\n\u001b[39;00m\u001b[38;5;124m \u001b[39m\u001b[38;5;124m\"\u001b[39m)\n",
      "\u001b[1;31mModuleNotFoundError\u001b[0m: No module named 'ngcotree'"
     ]
    }
   ],
   "source": [
    "from ttictoc import tic, toc\n",
    "from ngsolve.krylovspace import CGSolver\n",
    "\n",
    "from ngcotree import *\n",
    "newFreeDofs = CoTreeBitArray(mesh, HCurl, plot = False)\n",
    "\n",
    "print(\"Using 3D mesh with ne=\", mesh.ne, \"elements and nv=\", mesh.nv, \"points and \" ,HCurl.ndof, \"DOFs.\\n \")\n",
    "\n",
    "with ngs.TaskManager(): A.Set(ngs.CF((0,0,0)))\n",
    "\n",
    "du = ngs.GridFunction(HCurl)\n",
    "uo = ngs.GridFunction(HCurl)\n",
    "wo = 1e12\n",
    "\n",
    "for it in range(1,maxit+1):\n",
    "    tic()\n",
    "    # with ngs.TaskManager():\n",
    "    #     K_iter.Assemble()\n",
    "    #     rhs.Assemble()\n",
    "    #     res = ngs.Integrate(cf_energy - Hs*ngs.curl(A), mesh)\n",
    "    \n",
    "    w  = fun_W()\n",
    "    dw = fun_dW()\n",
    "    da = fun_ddW()\n",
    "    tm1 = toc()\n",
    "    \n",
    "    tic()\n",
    "\n",
    "    \n",
    "    # iterativeSolver = CGSolver(K_iter.mat, freedofs = HCurl.FreeDofs(), atol = 1e-2,  maxiter = maxit, printrates = False)\n",
    "    # iterativeSolver = CGSolver(K_iter.mat, pre = C_iter.mat, tol  = 1e-8,  maxiter = maxit*10)\n",
    "    with ngs.TaskManager():\n",
    "        iterativeSolver = CGSolver(K_iter.mat, freedofs = newFreeDofs, tol  = 1e-8,  maxiter = maxit, printrates = True)\n",
    "\n",
    "        # du.vec.data = iterativeSolver * dw.vec\n",
    "        du.vec.data = da.mat.Inverse(newFreeDofs, inverse=\"sparsecholesky\") * dw.vec \n",
    "    \n",
    "    # print('MAXdu: ' + str(du.vec.FV().NumPy().max()))\n",
    "    # print('MAXdw: ' + str(dw.vec.FV().NumPy().max()))\n",
    "\n",
    "    if len(iterativeSolver.residuals) == maxit: print(\"... Failure!\")\n",
    "    # print(f\"Number of iterations = {iterativeSolver.iterations}/{maxit} | Residual = {iterativeSolver.residuals[-1]}\")\n",
    "    tm2 = toc()\n",
    "    \n",
    "    nrm = ngs.InnerProduct(du.vec,dw.vec)\n",
    "    \n",
    "    if it == 1:\n",
    "        nrm0 = nrm\n",
    "    \n",
    "    # wn = 1e12\n",
    "    if abs(wo-w) < tol2:\n",
    "    # if abs(wn-w) < tol2:\n",
    "    # if nrm/nrm0 < tol2:\n",
    "        # print(wo,w)\n",
    "        print(\"converged to desired tolerance\")\n",
    "        break\n",
    "    # elif abs(wo-w) < tol2*1e-2:\n",
    "    #     print(\"stopped early due to stagnation\")\n",
    "    #     break\n",
    "    else:\n",
    "        # linesearch\n",
    "        # print(\"Doing LS:\")\n",
    "        uo.vec.data = A.vec.data\n",
    "        wo = w\n",
    "        alpha = 1\n",
    "        for init in range(1,2100):\n",
    "            A.vec.data -= alpha*du.vec.data\n",
    "            wn = fun_W()\n",
    "            # print(w,wn)\n",
    "            if wn < w - alpha*0.1*nrm:\n",
    "                # print(\"Iter: %2d | assem : %.2fs | CG took %.2fs with %4d iterations | alpha : %.2f | energy = %.10f | relres = %.2e |\"  %(it,tm1,tm2,iterativeSolver.iterations,alpha,w,nrm/nrm0))\n",
    "                print(\"Iter: %2d | assem : %.2fs | CG took %.2fs with %4d iterations | alpha : %.2f | energy = %.10f | relres = %.2e |\"  %(it,tm1,tm2,len(iterativeSolver.residuals),alpha,w,nrm/nrm0))\n",
    "                break\n",
    "            else:\n",
    "                # print(alpha)\n",
    "                alpha = alpha/2\n",
    "                A.vec.data = uo.vec.data"
   ]
  },
  {
   "cell_type": "code",
   "execution_count": null,
   "metadata": {},
   "outputs": [
    {
     "data": {
      "application/vnd.jupyter.widget-view+json": {
       "model_id": "1cad682e19d74c97ad2af65d3e384da9",
       "version_major": 2,
       "version_minor": 0
      },
      "text/plain": [
       "WebGuiWidget(layout=Layout(height='500px', width='100%'), value={'gui_settings': {}, 'ngsolve_version': '6.2.2…"
      ]
     },
     "metadata": {},
     "output_type": "display_data"
    },
    {
     "data": {
      "text/plain": [
       "BaseWebGuiScene"
      ]
     },
     "execution_count": 29,
     "metadata": {},
     "output_type": "execute_result"
    }
   ],
   "source": [
    "# !pip install webgui_jupyter_widgets\n",
    "# clipping = { \"function\" : True,  \"pnt\" : (2.5,1.5,1), \"vec\" : (0,1,-1) }\n",
    "# Draw (func, mesh, );\n",
    "# Draw(A, mesh)\n",
    "Draw(ngs.curl(A), mesh)\n",
    "# Draw(ngs.curl(A), mesh, settings = {\"Colormap\" : { \"ncolors\" : 32 }})"
   ]
  },
  {
   "cell_type": "code",
   "execution_count": null,
   "metadata": {},
   "outputs": [
    {
     "name": "stdout",
     "output_type": "stream",
     "text": [
      "2.816666666666667\n"
     ]
    }
   ],
   "source": [
    "U = 152 #-7*8\n",
    "ot = 44\n",
    "kM = 7\n",
    "\n",
    "\n",
    "hours = 200*(kM/12-1) +U +ot\n",
    "print(hours/8/5)\n",
    "# (200-152)"
   ]
  },
  {
   "cell_type": "code",
   "execution_count": null,
   "metadata": {},
   "outputs": [],
   "source": []
  }
 ],
 "metadata": {
  "kernelspec": {
   "display_name": "pdefem",
   "language": "python",
   "name": "python3"
  },
  "language_info": {
   "codemirror_mode": {
    "name": "ipython",
    "version": 3
   },
   "file_extension": ".py",
   "mimetype": "text/x-python",
   "name": "python",
   "nbconvert_exporter": "python",
   "pygments_lexer": "ipython3",
   "version": "3.10.13"
  }
 },
 "nbformat": 4,
 "nbformat_minor": 2
}
