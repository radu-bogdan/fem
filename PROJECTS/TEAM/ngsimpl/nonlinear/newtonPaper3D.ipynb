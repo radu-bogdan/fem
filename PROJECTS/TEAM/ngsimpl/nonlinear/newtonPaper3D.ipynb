{
 "cells": [
  {
   "cell_type": "code",
   "execution_count": 13,
   "metadata": {},
   "outputs": [
    {
     "name": "stdout",
     "output_type": "stream",
     "text": [
      "dsadas313\n",
      "4944\n"
     ]
    }
   ],
   "source": [
    "import ngsolve as ngs\n",
    "from ngsolve.webgui import Draw\n",
    "\n",
    "from createGeom import makeGeo\n",
    "geoOCC = makeGeo()\n",
    "\n",
    "ngmesh = geoOCC.GenerateMesh()\n",
    "mesh = ngs.Mesh(ngmesh)\n",
    "\n",
    "mesh.Refine()\n",
    "# mesh.Refine()\n",
    "mesh.Curve(7)\n",
    "\n",
    "print(mesh.ne)"
   ]
  },
  {
   "cell_type": "code",
   "execution_count": 12,
   "metadata": {},
   "outputs": [
    {
     "data": {
      "text/plain": [
       "4944.0"
      ]
     },
     "execution_count": 12,
     "metadata": {},
     "output_type": "execute_result"
    }
   ],
   "source": [
    "39552/8"
   ]
  },
  {
   "cell_type": "code",
   "execution_count": 3,
   "metadata": {},
   "outputs": [
    {
     "name": "stdout",
     "output_type": "stream",
     "text": [
      "Applying a current of 196.88 Amps\n"
     ]
    }
   ],
   "source": [
    "# from bhdata import BHCurves\n",
    "# fun_dw  = BHCurves(4)\n",
    "# fun_w   = fun_dw.Integrate()\n",
    "# fun_ddw = fun_dw.Differentiate()\n",
    "\n",
    "from bhdata import Brauer, BrauerCut\n",
    "fun_w, fun_dw, fun_ddw  = BrauerCut()\n",
    "\n",
    "mu0 = 1.256636e-6\n",
    "nu0 = 1/mu0\n",
    "\n",
    "linear = \"coil_plus|coil_minus\"\n",
    "nonlinear = \"stator\"\n",
    "\n",
    "strom = 1e5\n",
    "amps = 0.025**2*3.15*strom\n",
    "print(f'Applying a current of {amps:.2f} Amps')\n",
    "\n",
    "J = mesh.MaterialCF({'coil_plus': (0,0,strom), 'coil_minus': (0,0,-strom), 'stator': (0,0,0)}, default = (0,0,0))\n",
    "# Draw(J, mesh)"
   ]
  },
  {
   "cell_type": "code",
   "execution_count": 4,
   "metadata": {},
   "outputs": [],
   "source": [
    "# print(HCurl.ndof)\n",
    "# print(mesh.GetMaterials())\n",
    "\n",
    "deg = 3\n",
    "\n",
    "HCurl = ngs.HCurl(mesh, order = deg, nograds = True, dirichlet = 'outer_face|coil_plus_face|coil_minus_face|stator_face')\n",
    "# HCurl = ngs.HCurl(mesh, order = deg, nograds = True)\n",
    "u,v = HCurl.TnT()\n",
    "\n",
    "\n",
    "# Nonlinear:\n",
    "maxit = 2000\n",
    "tol2 = 1e-8\n",
    "regb = 1e-8\n",
    "\n",
    "A = ngs.GridFunction(HCurl)\n",
    "B = ngs.curl(A)\n",
    "normB = ngs.sqrt(B*B + regb)\n",
    "\n",
    "\n",
    "cf_energy = mesh.MaterialCF({linear: nu0/2*B*B, nonlinear: fun_w(normB)}, default = nu0/2*B*B).Compile()\n",
    "\n",
    "def fun_W():\n",
    "    with ngs.TaskManager(): res = ngs.Integrate(cf_energy - J*A, mesh)\n",
    "    # with ngs.TaskManager(): res = ngs.Integrate(cf_energy - J*A, mesh, order = 2*deg)\n",
    "    # with ngs.TaskManager(): res = ngs.Integrate(cf_energy - ngs.curl(Hs)*A, mesh)\n",
    "    # print(\"res:\" + str(ngs.Integrate(cf_energy, mesh)))\n",
    "    return res\n",
    "\n",
    "ir = ngs.IntegrationRule(ngs.fem.ET.TET, order = 2*deg)\n",
    "\n",
    "\n",
    "cf_rhs = mesh.MaterialCF({linear: nu0, nonlinear: fun_dw(normB)/normB}, default = nu0).Compile()\n",
    "\n",
    "rhs = ngs.LinearForm(HCurl)\n",
    "rhs += ngs.SymbolicLFI(cf_rhs*B*ngs.curl(v) - J*v, intrule = ir)\n",
    "\n",
    "# rhs = ngs.LinearForm((cf_rhs*B*ngs.curl(v) - ngs.curl(v)*Hs)*ngs.dx)\n",
    "# rhs = ngs.LinearForm((cf_rhs*B*ngs.curl(v) - ngs.curl(Hs)*v)*ngs.dx)\n",
    "\n",
    "def fun_dW(): #implicitly depending on A!\n",
    "    with ngs.TaskManager(): rhs.Assemble()\n",
    "    return rhs\n",
    "\n",
    "\n",
    "Id = ngs.CF((1,0,0,\n",
    "             0,1,0,\n",
    "             0,0,1), dims=(3,3))\n",
    "\n",
    "BBt = ngs.CF((B[0]*B[0], B[0]*B[1], B[0]*B[2],\n",
    "              B[1]*B[0], B[1]*B[1], B[1]*B[2],\n",
    "              B[2]*B[0], B[2]*B[1], B[2]*B[2]), dims = (3,3))\n",
    "\n",
    "\n",
    "fun1 = fun_dw(normB)/normB\n",
    "fun2 = (fun_ddw(normB) - fun_dw(normB)/normB)/(normB*normB)\n",
    "\n",
    "cf_iter = mesh.MaterialCF({linear: nu0*Id, nonlinear: fun1*Id + fun2*BBt}, default = nu0*Id).Compile()\n",
    "\n",
    "K_iter = ngs.BilinearForm(HCurl)\n",
    "K_iter += ngs.SymbolicBFI(cf_iter*ngs.curl(u)*ngs.curl(v), intrule = ir)\n",
    "# K_iter += (cf_iter*ngs.curl(u)*ngs.curl(v))*ngs.dx\n",
    "C_iter = ngs.Preconditioner(K_iter, type = \"local\")\n",
    "\n",
    "def fun_ddW():\n",
    "    with ngs.TaskManager(): K_iter.Assemble()\n",
    "    return K_iter\n"
   ]
  },
  {
   "cell_type": "code",
   "execution_count": 5,
   "metadata": {},
   "outputs": [
    {
     "name": "stdout",
     "output_type": "stream",
     "text": [
      "Using 3D mesh with ne= 39552 elements and nv= 8459 points and  592207 DOFs.\n",
      " \n",
      "Iter:  1 | assem : 3.40s | CG took 6.87s with    0 iterations | alpha : 0.50 | energy = 0.0000000007 | relres = 1.00e+00 |\n",
      "Iter:  2 | assem : 3.59s | CG took 6.63s with    0 iterations | alpha : 0.50 | energy = -0.1157972168 | relres = 8.21e-02 |\n",
      "Iter:  3 | assem : 3.68s | CG took 7.28s with    0 iterations | alpha : 1.00 | energy = -0.1235285987 | relres = 3.27e-03 |\n",
      "Iter:  4 | assem : 3.47s | CG took 6.85s with    0 iterations | alpha : 1.00 | energy = -0.1240942101 | relres = 2.33e-04 |\n",
      "Iter:  5 | assem : 3.51s | CG took 6.75s with    0 iterations | alpha : 1.00 | energy = -0.1241344667 | relres = 5.89e-06 |\n",
      "Iter:  6 | assem : 3.59s | CG took 7.33s with    0 iterations | alpha : 1.00 | energy = -0.1241354410 | relres = 1.66e-08 |\n",
      "converged to desired tolerance\n"
     ]
    }
   ],
   "source": [
    "from ttictoc import tic, toc\n",
    "from ngsolve.krylovspace import CGSolver\n",
    "\n",
    "from ngcotree import *\n",
    "newFreeDofs = CoTreeBitArray(mesh, HCurl, plot = False)\n",
    "\n",
    "print(\"Using 3D mesh with ne=\", mesh.ne, \"elements and nv=\", mesh.nv, \"points and \" ,HCurl.ndof, \"DOFs.\\n \")\n",
    "\n",
    "with ngs.TaskManager(): A.Set(ngs.CF((0,0,0)))\n",
    "\n",
    "du = ngs.GridFunction(HCurl)\n",
    "uo = ngs.GridFunction(HCurl)\n",
    "wo = 1e12\n",
    "\n",
    "for it in range(1,maxit+1):\n",
    "    tic()\n",
    "    # with ngs.TaskManager():\n",
    "    #     K_iter.Assemble()\n",
    "    #     rhs.Assemble()\n",
    "    #     res = ngs.Integrate(cf_energy - Hs*ngs.curl(A), mesh)\n",
    "    \n",
    "    w  = fun_W()\n",
    "    dw = fun_dW()\n",
    "    da = fun_ddW()\n",
    "    tm1 = toc()\n",
    "    \n",
    "    tic()\n",
    "\n",
    "    \n",
    "    # iterativeSolver = CGSolver(K_iter.mat, freedofs = HCurl.FreeDofs(), atol = 1e-2,  maxiter = maxit, printrates = False)\n",
    "    # iterativeSolver = CGSolver(K_iter.mat, pre = C_iter.mat, tol  = 1e-8,  maxiter = maxit*10)\n",
    "    with ngs.TaskManager():\n",
    "        iterativeSolver = CGSolver(K_iter.mat, freedofs = newFreeDofs, tol  = 1e-8,  maxiter = maxit, printrates = True)\n",
    "\n",
    "        # du.vec.data = iterativeSolver * dw.vec\n",
    "        du.vec.data = da.mat.Inverse(newFreeDofs, inverse=\"sparsecholesky\") * dw.vec \n",
    "    \n",
    "    # print('MAXdu: ' + str(du.vec.FV().NumPy().max()))\n",
    "    # print('MAXdw: ' + str(dw.vec.FV().NumPy().max()))\n",
    "\n",
    "    if len(iterativeSolver.residuals) == maxit: print(\"... Failure!\")\n",
    "    # print(f\"Number of iterations = {iterativeSolver.iterations}/{maxit} | Residual = {iterativeSolver.residuals[-1]}\")\n",
    "    tm2 = toc()\n",
    "    \n",
    "    nrm = ngs.InnerProduct(du.vec,dw.vec)\n",
    "    \n",
    "    if it == 1:\n",
    "        nrm0 = nrm\n",
    "    \n",
    "    # wn = 1e12\n",
    "    if abs(wo-w) < tol2:\n",
    "    # if abs(wn-w) < tol2:\n",
    "    # if nrm/nrm0 < tol2:\n",
    "        # print(wo,w)\n",
    "        print(\"converged to desired tolerance\")\n",
    "        break\n",
    "    # elif abs(wo-w) < tol2*1e-2:\n",
    "    #     print(\"stopped early due to stagnation\")\n",
    "    #     break\n",
    "    else:\n",
    "        # linesearch\n",
    "        # print(\"Doing LS:\")\n",
    "        uo.vec.data = A.vec.data\n",
    "        wo = w\n",
    "        alpha = 1\n",
    "        for init in range(1,2100):\n",
    "            A.vec.data -= alpha*du.vec.data\n",
    "            wn = fun_W()\n",
    "            # print(w,wn)\n",
    "            if wn < w - alpha*0.1*nrm:\n",
    "                # print(\"Iter: %2d | assem : %.2fs | CG took %.2fs with %4d iterations | alpha : %.2f | energy = %.10f | relres = %.2e |\"  %(it,tm1,tm2,iterativeSolver.iterations,alpha,w,nrm/nrm0))\n",
    "                print(\"Iter: %2d | assem : %.2fs | CG took %.2fs with %4d iterations | alpha : %.2f | energy = %.10f | relres = %.2e |\"  %(it,tm1,tm2,len(iterativeSolver.residuals),alpha,w,nrm/nrm0))\n",
    "                break\n",
    "            else:\n",
    "                # print(alpha)\n",
    "                alpha = alpha/2\n",
    "                A.vec.data = uo.vec.data"
   ]
  },
  {
   "cell_type": "code",
   "execution_count": 6,
   "metadata": {},
   "outputs": [
    {
     "data": {
      "application/vnd.jupyter.widget-view+json": {
       "model_id": "4c2a32990b9f455f8601cd0e7d6f7c75",
       "version_major": 2,
       "version_minor": 0
      },
      "text/plain": [
       "WebGuiWidget(layout=Layout(height='500px', width='100%'), value={'gui_settings': {}, 'ngsolve_version': '6.2.2…"
      ]
     },
     "metadata": {},
     "output_type": "display_data"
    },
    {
     "data": {
      "application/vnd.jupyter.widget-view+json": {
       "model_id": "71f293bac699423ca8fac668c831a8da",
       "version_major": 2,
       "version_minor": 0
      },
      "text/plain": [
       "WebGuiWidget(layout=Layout(height='500px', width='100%'), value={'gui_settings': {}, 'ngsolve_version': '6.2.2…"
      ]
     },
     "metadata": {},
     "output_type": "display_data"
    }
   ],
   "source": [
    "# !pip install webgui_jupyter_widgets\n",
    "# clipping = { \"function\" : True,  \"pnt\" : (2.5,1.5,1), \"vec\" : (0,1,-1) }\n",
    "# Draw (func, mesh, );\n",
    "# Draw(A, mesh)\n",
    "\n",
    "# clipping = { \"function\" : True}\n",
    "# Draw (ngs.curl(A), mesh, clipping = True, objects = {\"Clipping Plane\": True});\n",
    "\n",
    "B = ngs.curl(A)\n",
    "\n",
    "clipping = { \"function\" : True, \"z\" : -0.4}\n",
    "# clipping = { \"function\" : True, \"pnt\" : (0,0,0.1), \"vec\" : (0,0,-1)}\n",
    "Draw (B, mesh, clipping = clipping);\n",
    "\n",
    "normB = ngs.sqrt(B*B)\n",
    "H = B*mesh.MaterialCF({linear: nu0, nonlinear: fun_dw(normB)/normB}, default = nu0).Compile()\n",
    "\n",
    "Draw (H, mesh, clipping = clipping);\n",
    "# Draw(ngs.curl(A), mesh)\n",
    "# Draw(ngs.curl(A), mesh, settings = {\"Colormap\" : { \"ncolors\" : 32 }})"
   ]
  },
  {
   "cell_type": "code",
   "execution_count": 9,
   "metadata": {},
   "outputs": [
    {
     "data": {
      "text/plain": [
       "'B2'"
      ]
     },
     "execution_count": 9,
     "metadata": {},
     "output_type": "execute_result"
    }
   ],
   "source": [
    "scalars = mesh.MaterialCF({\"coil_plus|coil_minus\": 0, \"stator\": 0.1}, default = 0)\n",
    "L2 = ngs.L2(mesh, order = 0)\n",
    "scal = ngs.GridFunction(L2)\n",
    "scal.Set(scalars)\n",
    "\n",
    "vtk = ngs.VTKOutput(mesh, coefs = [B,H,scal],names = [\"B\",\"H\",\"scalars\"], filename = \"B2\", order = 2)\n",
    "vtk.Do()"
   ]
  },
  {
   "cell_type": "code",
   "execution_count": 8,
   "metadata": {},
   "outputs": [
    {
     "ename": "ValueError",
     "evalue": "Empty meshes cannot be plotted. Input mesh has zero points. To allow plotting empty meshes, set `pv.global_theme.allow_empty_mesh = True`",
     "output_type": "error",
     "traceback": [
      "\u001b[1;31m---------------------------------------------------------------------------\u001b[0m",
      "\u001b[1;31mValueError\u001b[0m                                Traceback (most recent call last)",
      "Cell \u001b[1;32mIn[8], line 9\u001b[0m\n\u001b[0;32m      6\u001b[0m \u001b[38;5;66;03m# threshed.set_active_vectors(\"B\")\u001b[39;00m\n\u001b[0;32m      8\u001b[0m p \u001b[38;5;241m=\u001b[39m pv\u001b[38;5;241m.\u001b[39mPlotter()\n\u001b[1;32m----> 9\u001b[0m \u001b[43mp\u001b[49m\u001b[38;5;241;43m.\u001b[39;49m\u001b[43madd_mesh\u001b[49m\u001b[43m(\u001b[49m\u001b[43mthreshed\u001b[49m\u001b[43m,\u001b[49m\u001b[43m \u001b[49m\u001b[43mstyle\u001b[49m\u001b[43m \u001b[49m\u001b[38;5;241;43m=\u001b[39;49m\u001b[43m \u001b[49m\u001b[38;5;124;43m'\u001b[39;49m\u001b[38;5;124;43msurface\u001b[39;49m\u001b[38;5;124;43m'\u001b[39;49m\u001b[43m,\u001b[49m\u001b[43m \u001b[49m\u001b[43mopacity\u001b[49m\u001b[43m \u001b[49m\u001b[38;5;241;43m=\u001b[39;49m\u001b[43m \u001b[49m\u001b[38;5;241;43m0.1\u001b[39;49m\u001b[43m,\u001b[49m\u001b[43m \u001b[49m\u001b[43mlabel\u001b[49m\u001b[43m \u001b[49m\u001b[38;5;241;43m=\u001b[39;49m\u001b[43m \u001b[49m\u001b[38;5;28;43;01mNone\u001b[39;49;00m\u001b[43m)\u001b[49m\n\u001b[0;32m     11\u001b[0m arrows \u001b[38;5;241m=\u001b[39m pvmesh\u001b[38;5;241m.\u001b[39mglyph(scale \u001b[38;5;241m=\u001b[39m \u001b[38;5;124m\"\u001b[39m\u001b[38;5;124mB\u001b[39m\u001b[38;5;124m\"\u001b[39m, orient \u001b[38;5;241m=\u001b[39m \u001b[38;5;28;01mTrue\u001b[39;00m, tolerance \u001b[38;5;241m=\u001b[39m \u001b[38;5;241m0.01\u001b[39m, factor \u001b[38;5;241m=\u001b[39m \u001b[38;5;241m0.01\u001b[39m)\n\u001b[0;32m     12\u001b[0m \u001b[38;5;66;03m# arrows = pvmesh.glyph(scale = \"B\", orient = True, tolerance = 0.01, factor = 0.01)\u001b[39;00m\n",
      "File \u001b[1;32mc:\\Users\\Radu\\anaconda\\envs\\pdefem\\lib\\site-packages\\pyvista\\plotting\\plotter.py:3515\u001b[0m, in \u001b[0;36mBasePlotter.add_mesh\u001b[1;34m(self, mesh, color, style, scalars, clim, show_edges, edge_color, point_size, line_width, opacity, flip_scalars, lighting, n_colors, interpolate_before_map, cmap, label, reset_camera, scalar_bar_args, show_scalar_bar, multi_colors, name, texture, render_points_as_spheres, render_lines_as_tubes, smooth_shading, split_sharp_edges, ambient, diffuse, specular, specular_power, nan_color, nan_opacity, culling, rgb, categories, silhouette, use_transparency, below_color, above_color, annotations, pickable, preference, log_scale, pbr, metallic, roughness, render, user_matrix, component, emissive, copy_mesh, backface_params, show_vertices, edge_opacity, **kwargs)\u001b[0m\n\u001b[0;32m   3511\u001b[0m         \u001b[38;5;28;01mraise\u001b[39;00m \u001b[38;5;167;01mValueError\u001b[39;00m(\u001b[38;5;124m'\u001b[39m\u001b[38;5;124mRGB array must be n_points/n_cells by 3/4 in shape.\u001b[39m\u001b[38;5;124m'\u001b[39m)\n\u001b[0;32m   3513\u001b[0m \u001b[38;5;28;01mif\u001b[39;00m algo \u001b[38;5;129;01mis\u001b[39;00m \u001b[38;5;28;01mNone\u001b[39;00m \u001b[38;5;129;01mand\u001b[39;00m \u001b[38;5;129;01mnot\u001b[39;00m \u001b[38;5;28mself\u001b[39m\u001b[38;5;241m.\u001b[39mtheme\u001b[38;5;241m.\u001b[39mallow_empty_mesh \u001b[38;5;129;01mand\u001b[39;00m \u001b[38;5;129;01mnot\u001b[39;00m mesh\u001b[38;5;241m.\u001b[39mn_points:\n\u001b[0;32m   3514\u001b[0m     \u001b[38;5;66;03m# Algorithms may initialize with an empty mesh\u001b[39;00m\n\u001b[1;32m-> 3515\u001b[0m     \u001b[38;5;28;01mraise\u001b[39;00m \u001b[38;5;167;01mValueError\u001b[39;00m(\n\u001b[0;32m   3516\u001b[0m         \u001b[38;5;124m'\u001b[39m\u001b[38;5;124mEmpty meshes cannot be plotted. Input mesh has zero points. To allow plotting empty meshes, set `pv.global_theme.allow_empty_mesh = True`\u001b[39m\u001b[38;5;124m'\u001b[39m\n\u001b[0;32m   3517\u001b[0m     )\n\u001b[0;32m   3519\u001b[0m \u001b[38;5;66;03m# set main values\u001b[39;00m\n\u001b[0;32m   3520\u001b[0m \u001b[38;5;28mself\u001b[39m\u001b[38;5;241m.\u001b[39mmesh \u001b[38;5;241m=\u001b[39m mesh\n",
      "\u001b[1;31mValueError\u001b[0m: Empty meshes cannot be plotted. Input mesh has zero points. To allow plotting empty meshes, set `pv.global_theme.allow_empty_mesh = True`"
     ]
    }
   ],
   "source": [
    "import pyvista as pv\n",
    "pvmesh = pv.read(\"B2.vtu\")\n",
    "pvmesh.set_active_scalars(\"scalars\")\n",
    "pvmesh.set_active_vectors(\"B\")\n",
    "threshed = pvmesh.threshold([0.8,2.1])\n",
    "# threshed.set_active_vectors(\"B\")\n",
    "\n",
    "p = pv.Plotter()\n",
    "p.add_mesh(threshed, style = 'surface', opacity = 0.1, label = None)\n",
    "\n",
    "arrows = pvmesh.glyph(scale = \"B\", orient = True, tolerance = 0.01, factor = 0.01)\n",
    "# arrows = pvmesh.glyph(scale = \"B\", orient = True, tolerance = 0.01, factor = 0.01)\n",
    "p.add_mesh(arrows)\n",
    "\n",
    "# pvmesh.set_active_vectors(\"J\")\n",
    "# arrows2 = pvmesh.glyph(scale = \"J\", orient = True, tolerance = 0.001, factor = 1*1e-8)\n",
    "# p.add_mesh(arrows2, color = \"black\")\n",
    "\n",
    "p.show(jupyter_backend = \"html\")\n",
    "# p.show()"
   ]
  },
  {
   "cell_type": "code",
   "execution_count": null,
   "metadata": {},
   "outputs": [],
   "source": []
  }
 ],
 "metadata": {
  "kernelspec": {
   "display_name": "pdefem",
   "language": "python",
   "name": "python3"
  },
  "language_info": {
   "codemirror_mode": {
    "name": "ipython",
    "version": 3
   },
   "file_extension": ".py",
   "mimetype": "text/x-python",
   "name": "python",
   "nbconvert_exporter": "python",
   "pygments_lexer": "ipython3",
   "version": "3.10.13"
  }
 },
 "nbformat": 4,
 "nbformat_minor": 2
}
