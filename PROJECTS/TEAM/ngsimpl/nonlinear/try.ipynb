{
 "cells": [
  {
   "cell_type": "code",
   "execution_count": 1,
   "metadata": {},
   "outputs": [],
   "source": [
    "import ngsolve as ngs\n",
    "import numpy as np\n",
    "import matplotlib.pyplot as plt\n",
    "\n",
    "mu0 = 1.256636e-6\n",
    "nu0 = 1/mu0\n",
    "\n",
    "k1 = 49.4; k2 = 1.46; k3 = 520.6;\n",
    "\n",
    "f = lambda B : k1/2/k2*(ngs.exp(B**2)-1)+1/2*k3*B**2\n",
    "df = lambda B : (k1*ngs.exp(k2*B**2)+k3)*B\n",
    "ddf = lambda B : 2*k1*k2*B**2*ngs.exp(k2*B**2) + k1*ngs.exp(k2*B**2) +k3"
   ]
  },
  {
   "cell_type": "code",
   "execution_count": 2,
   "metadata": {},
   "outputs": [],
   "source": [
    "from scipy.optimize import fsolve\n",
    "\n",
    "# Initial value must be set, depending on k1,k2,k3\n",
    "r = fsolve(lambda x :  ddf(x)-nu0, 2) \n",
    "a = df(r); s = f(r)\n",
    "\n",
    "fl1 = lambda B: 1/2*nu0*B**2 + (a-nu0*r)*B\n",
    "fl = lambda B: fl1(B)-fl1(r)+f(r) # adjusted convexity\n",
    "dfl = lambda B : nu0*B+a-nu0*r\n",
    "ddfl = lambda B : nu0\n",
    "\n",
    "fun_w = lambda B : fl(B)*(B>=r) + f(B)*(B<r)\n",
    "fun_dw = lambda B : dfl(B)*(B>=r) + df(B)*(B<r)\n",
    "fun_ddw = lambda B : ddfl(B)*(B>=r) + ddf(B)*(B<r)"
   ]
  },
  {
   "cell_type": "code",
   "execution_count": 3,
   "metadata": {},
   "outputs": [
    {
     "name": "stdout",
     "output_type": "stream",
     "text": [
      "[2.1866593] [3245.66788455]\n"
     ]
    }
   ],
   "source": [
    "B = np.arange(1,2.6,0.001)\n",
    "print(r,s)"
   ]
  },
  {
   "cell_type": "code",
   "execution_count": 4,
   "metadata": {},
   "outputs": [],
   "source": [
    "mu0 = 1.256636e-6; nu0 = 1/mu0\n",
    "\n",
    "k1 = 49.4; k2 = 1.46; k3 = 520.6\n",
    "\n",
    "f = lambda B : k1/2/k2*(ngs.exp(B**2)-1)+1/2*k3*B**2\n",
    "df = lambda B : (k1*ngs.exp(k2*B**2)+k3)*B\n",
    "ddf = lambda B : 2*k1*k2*B**2*ngs.exp(k2*B**2) + k1*ngs.exp(k2*B**2) +k3\n",
    "\n",
    "# Finding Schnittpunkt zwischen lin und nonlin\n",
    "r = fsolve(lambda x : ddf(x)-nu0, 2)\n",
    "a = df(r); s = f(r)\n",
    "\n",
    "# fl1 = lambda B: 1/2*nu0*B**2 + ngs.CF((a-nu0*r))*B\n",
    "# fl = lambda B: fl1(B)-ngs.CF(fl1(r)+f(r)) # adjusted convexity\n",
    "fl = lambda B: (1/2*nu0*B**2 + ngs.CF((a-nu0*r))*B)-\\\n",
    "                ngs.CF((1/2*nu0*r**2 + (a-nu0*r)*r)+ (k1/2/k2*(np.exp(r**2)-1)+1/2*k3*r**2))\n",
    "\n",
    "dfl = lambda B : nu0*B+a-nu0*r\n",
    "ddfl = lambda B : nu0\n",
    "\n",
    "fun_w = lambda B : fl(B)*ngs.IfPos(B-r,1,0) + f(B)*ngs.IfPos(B-r,0,1)\n",
    "fun_dw = lambda B : dfl(B)*ngs.IfPos(B-r,1,0) + df(B)*ngs.IfPos(B-r,0,1)\n",
    "fun_ddw = lambda B : ddfl(B)*ngs.IfPos(B-r,1,0) + ddf(B)*ngs.IfPos(B-r,0,1)"
   ]
  },
  {
   "cell_type": "code",
   "execution_count": 5,
   "metadata": {},
   "outputs": [
    {
     "ename": "TypeError",
     "evalue": "__mul__(): incompatible function arguments. The following argument types are supported:\n    1. (self: ngsolve.fem.CoefficientFunction, cf: ngsolve.fem.CoefficientFunction) -> ngsolve.fem.CoefficientFunction\n    2. (self: ngsolve.fem.CoefficientFunction, value: float) -> ngsolve.fem.CoefficientFunction\n    3. (self: ngsolve.fem.CoefficientFunction, value: complex) -> ngsolve.fem.CoefficientFunction\n    4. (self: ngsolve.fem.CoefficientFunction, arg0: ngfem::DifferentialSymbol) -> ngfem::SumOfIntegrals\n\nInvoked with: <ngsolve.fem.CoefficientFunction object at 0x0000021EC7B5AB10>, array([1.   , 1.001, 1.002, ..., 2.597, 2.598, 2.599])",
     "output_type": "error",
     "traceback": [
      "\u001b[1;31m---------------------------------------------------------------------------\u001b[0m",
      "\u001b[1;31mTypeError\u001b[0m                                 Traceback (most recent call last)",
      "Cell \u001b[1;32mIn[5], line 3\u001b[0m\n\u001b[0;32m      1\u001b[0m \u001b[38;5;66;03m# plt.plot(df(B),B)\u001b[39;00m\n\u001b[0;32m      2\u001b[0m \u001b[38;5;66;03m# plt.plot(dfl(B),B)\u001b[39;00m\n\u001b[1;32m----> 3\u001b[0m plt\u001b[38;5;241m.\u001b[39mplot(\u001b[43mfun_w\u001b[49m\u001b[43m(\u001b[49m\u001b[43mB\u001b[49m\u001b[43m)\u001b[49m,B)\n",
      "Cell \u001b[1;32mIn[4], line 21\u001b[0m, in \u001b[0;36m<lambda>\u001b[1;34m(B)\u001b[0m\n\u001b[0;32m     18\u001b[0m dfl \u001b[38;5;241m=\u001b[39m \u001b[38;5;28;01mlambda\u001b[39;00m B : nu0\u001b[38;5;241m*\u001b[39mB\u001b[38;5;241m+\u001b[39ma\u001b[38;5;241m-\u001b[39mnu0\u001b[38;5;241m*\u001b[39mr\n\u001b[0;32m     19\u001b[0m ddfl \u001b[38;5;241m=\u001b[39m \u001b[38;5;28;01mlambda\u001b[39;00m B : nu0\n\u001b[1;32m---> 21\u001b[0m fun_w \u001b[38;5;241m=\u001b[39m \u001b[38;5;28;01mlambda\u001b[39;00m B : \u001b[43mfl\u001b[49m\u001b[43m(\u001b[49m\u001b[43mB\u001b[49m\u001b[43m)\u001b[49m\u001b[38;5;241m*\u001b[39mngs\u001b[38;5;241m.\u001b[39mIfPos(B\u001b[38;5;241m-\u001b[39mr,\u001b[38;5;241m1\u001b[39m,\u001b[38;5;241m0\u001b[39m) \u001b[38;5;241m+\u001b[39m f(B)\u001b[38;5;241m*\u001b[39mngs\u001b[38;5;241m.\u001b[39mIfPos(B\u001b[38;5;241m-\u001b[39mr,\u001b[38;5;241m0\u001b[39m,\u001b[38;5;241m1\u001b[39m)\n\u001b[0;32m     22\u001b[0m fun_dw \u001b[38;5;241m=\u001b[39m \u001b[38;5;28;01mlambda\u001b[39;00m B : dfl(B)\u001b[38;5;241m*\u001b[39mngs\u001b[38;5;241m.\u001b[39mIfPos(B\u001b[38;5;241m-\u001b[39mr,\u001b[38;5;241m1\u001b[39m,\u001b[38;5;241m0\u001b[39m) \u001b[38;5;241m+\u001b[39m df(B)\u001b[38;5;241m*\u001b[39mngs\u001b[38;5;241m.\u001b[39mIfPos(B\u001b[38;5;241m-\u001b[39mr,\u001b[38;5;241m0\u001b[39m,\u001b[38;5;241m1\u001b[39m)\n\u001b[0;32m     23\u001b[0m fun_ddw \u001b[38;5;241m=\u001b[39m \u001b[38;5;28;01mlambda\u001b[39;00m B : ddfl(B)\u001b[38;5;241m*\u001b[39mngs\u001b[38;5;241m.\u001b[39mIfPos(B\u001b[38;5;241m-\u001b[39mr,\u001b[38;5;241m1\u001b[39m,\u001b[38;5;241m0\u001b[39m) \u001b[38;5;241m+\u001b[39m ddf(B)\u001b[38;5;241m*\u001b[39mngs\u001b[38;5;241m.\u001b[39mIfPos(B\u001b[38;5;241m-\u001b[39mr,\u001b[38;5;241m0\u001b[39m,\u001b[38;5;241m1\u001b[39m)\n",
      "Cell \u001b[1;32mIn[4], line 15\u001b[0m, in \u001b[0;36m<lambda>\u001b[1;34m(B)\u001b[0m\n\u001b[0;32m     11\u001b[0m a \u001b[38;5;241m=\u001b[39m df(r); s \u001b[38;5;241m=\u001b[39m f(r)\n\u001b[0;32m     13\u001b[0m \u001b[38;5;66;03m# fl1 = lambda B: 1/2*nu0*B**2 + ngs.CF((a-nu0*r))*B\u001b[39;00m\n\u001b[0;32m     14\u001b[0m \u001b[38;5;66;03m# fl = lambda B: fl1(B)-ngs.CF(fl1(r)+f(r)) # adjusted convexity\u001b[39;00m\n\u001b[1;32m---> 15\u001b[0m fl \u001b[38;5;241m=\u001b[39m \u001b[38;5;28;01mlambda\u001b[39;00m B: (\u001b[38;5;241m1\u001b[39m\u001b[38;5;241m/\u001b[39m\u001b[38;5;241m2\u001b[39m\u001b[38;5;241m*\u001b[39mnu0\u001b[38;5;241m*\u001b[39mB\u001b[38;5;241m*\u001b[39m\u001b[38;5;241m*\u001b[39m\u001b[38;5;241m2\u001b[39m \u001b[38;5;241m+\u001b[39m \u001b[43mngs\u001b[49m\u001b[38;5;241;43m.\u001b[39;49m\u001b[43mCF\u001b[49m\u001b[43m(\u001b[49m\u001b[43m(\u001b[49m\u001b[43ma\u001b[49m\u001b[38;5;241;43m-\u001b[39;49m\u001b[43mnu0\u001b[49m\u001b[38;5;241;43m*\u001b[39;49m\u001b[43mr\u001b[49m\u001b[43m)\u001b[49m\u001b[43m)\u001b[49m\u001b[38;5;241;43m*\u001b[39;49m\u001b[43mB\u001b[49m)\u001b[38;5;241m-\u001b[39m\\\n\u001b[0;32m     16\u001b[0m                 ngs\u001b[38;5;241m.\u001b[39mCF((\u001b[38;5;241m1\u001b[39m\u001b[38;5;241m/\u001b[39m\u001b[38;5;241m2\u001b[39m\u001b[38;5;241m*\u001b[39mnu0\u001b[38;5;241m*\u001b[39mr\u001b[38;5;241m*\u001b[39m\u001b[38;5;241m*\u001b[39m\u001b[38;5;241m2\u001b[39m \u001b[38;5;241m+\u001b[39m (a\u001b[38;5;241m-\u001b[39mnu0\u001b[38;5;241m*\u001b[39mr)\u001b[38;5;241m*\u001b[39mr)\u001b[38;5;241m+\u001b[39m (k1\u001b[38;5;241m/\u001b[39m\u001b[38;5;241m2\u001b[39m\u001b[38;5;241m/\u001b[39mk2\u001b[38;5;241m*\u001b[39m(np\u001b[38;5;241m.\u001b[39mexp(r\u001b[38;5;241m*\u001b[39m\u001b[38;5;241m*\u001b[39m\u001b[38;5;241m2\u001b[39m)\u001b[38;5;241m-\u001b[39m\u001b[38;5;241m1\u001b[39m)\u001b[38;5;241m+\u001b[39m\u001b[38;5;241m1\u001b[39m\u001b[38;5;241m/\u001b[39m\u001b[38;5;241m2\u001b[39m\u001b[38;5;241m*\u001b[39mk3\u001b[38;5;241m*\u001b[39mr\u001b[38;5;241m*\u001b[39m\u001b[38;5;241m*\u001b[39m\u001b[38;5;241m2\u001b[39m))\n\u001b[0;32m     18\u001b[0m dfl \u001b[38;5;241m=\u001b[39m \u001b[38;5;28;01mlambda\u001b[39;00m B : nu0\u001b[38;5;241m*\u001b[39mB\u001b[38;5;241m+\u001b[39ma\u001b[38;5;241m-\u001b[39mnu0\u001b[38;5;241m*\u001b[39mr\n\u001b[0;32m     19\u001b[0m ddfl \u001b[38;5;241m=\u001b[39m \u001b[38;5;28;01mlambda\u001b[39;00m B : nu0\n",
      "\u001b[1;31mTypeError\u001b[0m: __mul__(): incompatible function arguments. The following argument types are supported:\n    1. (self: ngsolve.fem.CoefficientFunction, cf: ngsolve.fem.CoefficientFunction) -> ngsolve.fem.CoefficientFunction\n    2. (self: ngsolve.fem.CoefficientFunction, value: float) -> ngsolve.fem.CoefficientFunction\n    3. (self: ngsolve.fem.CoefficientFunction, value: complex) -> ngsolve.fem.CoefficientFunction\n    4. (self: ngsolve.fem.CoefficientFunction, arg0: ngfem::DifferentialSymbol) -> ngfem::SumOfIntegrals\n\nInvoked with: <ngsolve.fem.CoefficientFunction object at 0x0000021EC7B5AB10>, array([1.   , 1.001, 1.002, ..., 2.597, 2.598, 2.599])"
     ]
    }
   ],
   "source": [
    "# plt.plot(df(B),B)\n",
    "# plt.plot(dfl(B),B)\n",
    "plt.plot(fun_w(B),B)"
   ]
  },
  {
   "cell_type": "code",
   "execution_count": null,
   "metadata": {},
   "outputs": [],
   "source": [
    "plt.plot(B,fun_w(B),'-')\n",
    "plt.plot(B,fun_dw(B),'-')\n",
    "plt.plot(B,fun_ddw(B),'-')"
   ]
  },
  {
   "cell_type": "code",
   "execution_count": null,
   "metadata": {},
   "outputs": [],
   "source": [
    "nu0"
   ]
  },
  {
   "cell_type": "code",
   "execution_count": null,
   "metadata": {},
   "outputs": [],
   "source": []
  }
 ],
 "metadata": {
  "kernelspec": {
   "display_name": "pdefem",
   "language": "python",
   "name": "python3"
  },
  "language_info": {
   "codemirror_mode": {
    "name": "ipython",
    "version": 3
   },
   "file_extension": ".py",
   "mimetype": "text/x-python",
   "name": "python",
   "nbconvert_exporter": "python",
   "pygments_lexer": "ipython3",
   "version": "3.10.13"
  }
 },
 "nbformat": 4,
 "nbformat_minor": 2
}
