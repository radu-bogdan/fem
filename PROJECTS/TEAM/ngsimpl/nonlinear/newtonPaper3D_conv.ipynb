{
 "cells": [
  {
   "cell_type": "code",
   "execution_count": 1,
   "metadata": {},
   "outputs": [],
   "source": [
    "import ngsolve as ngs\n",
    "from ngsolve.webgui import Draw\n",
    "import matplotlib.pyplot as plt\n",
    "\n",
    "from createGeom import makeGeo\n",
    "geoOCC = makeGeo()\n",
    "\n",
    "ngmesh = geoOCC.GenerateMesh()\n",
    "mesh = ngs.Mesh(ngmesh)\n",
    "\n",
    "# mesh.Refine()\n",
    "# mesh.Refine()\n",
    "# mesh.Curve(2)\n"
   ]
  },
  {
   "cell_type": "code",
   "execution_count": 2,
   "metadata": {},
   "outputs": [],
   "source": [
    "# Draw(mesh)"
   ]
  },
  {
   "cell_type": "code",
   "execution_count": 3,
   "metadata": {},
   "outputs": [
    {
     "name": "stdout",
     "output_type": "stream",
     "text": [
      "BH data from TEAM 13 problem\n",
      "Applying a current of 196.88 Amps\n"
     ]
    }
   ],
   "source": [
    "from bhdata import BHCurves\n",
    "fun_dw  = BHCurves(4)\n",
    "fun_w   = fun_dw.Integrate()\n",
    "fun_ddw = fun_dw.Differentiate()\n",
    "\n",
    "mu0 = 1.256636e-6\n",
    "nu0 = 1/mu0\n",
    "\n",
    "linear = \"coil_plus|coil_minus\"\n",
    "nonlinear = \"stator\"\n",
    "\n",
    "strom = 1e5\n",
    "amps = 0.025**2*3.15*strom\n",
    "print(f'Applying a current of {amps:.2f} Amps')\n",
    "# Draw(J, mesh)"
   ]
  },
  {
   "cell_type": "code",
   "execution_count": 4,
   "metadata": {},
   "outputs": [
    {
     "name": "stdout",
     "output_type": "stream",
     "text": [
      "Using 3D mesh with ne= 1057 elements and nv= 307 points and  6242 DOFs.\n",
      " \n"
     ]
    },
    {
     "data": {
      "application/vnd.jupyter.widget-view+json": {
       "model_id": "1f9cf62f4c1247b7a004706046df727a",
       "version_major": 2,
       "version_minor": 0
      },
      "text/plain": [
       "WebGuiWidget(layout=Layout(height='500px', width='100%'), value={'gui_settings': {}, 'ngsolve_version': '6.2.2…"
      ]
     },
     "metadata": {},
     "output_type": "display_data"
    },
    {
     "data": {
      "text/plain": [
       "[<matplotlib.lines.Line2D at 0x17bdb77c7c0>]"
      ]
     },
     "execution_count": 4,
     "metadata": {},
     "output_type": "execute_result"
    },
    {
     "data": {
      "image/png": "[encoded data removed]",
      "text/plain": [
       "<Figure size 640x480 with 1 Axes>"
      ]
     },
     "metadata": {},
     "output_type": "display_data"
    }
   ],
   "source": [
    "from do import solve\n",
    "from copy import deepcopy\n",
    "\n",
    "levels = 2\n",
    "deg = 2\n",
    "\n",
    "ngmesh = geoOCC.GenerateMesh()\n",
    "mesh = ngs.Mesh(ngmesh)\n",
    "\n",
    "HCurl = ngs.HCurl(mesh, order = deg, nograds = True, dirichlet = 'outer_face|coil_plus_face|coil_minus_face|stator_face')\n",
    "HCurlN = ngs.HCurl(mesh, order = deg)\n",
    "V3L2 = ngs.HDiv(mesh, order = deg-1)\n",
    "VL2 = ngs.L2(mesh, order = deg-1)\n",
    "\n",
    "# A = []; B = []; it = []; \n",
    "# for i in range(levels):\n",
    "#     print(f\"i = {i:d}\")\n",
    "#     # mesh.Curve(2)\n",
    "    \n",
    "#     J = mesh.MaterialCF({'coil_plus': (0,0,strom), 'coil_minus': (0,0,-strom), 'stator': (0,0,0)}, default = (0,0,0))\n",
    "\n",
    "#     Ai = ngs.GridFunction(HCurl, autoupdate = True, nested = True)\n",
    "#     Ai, Bi, iti = solve(HCurl,Ai,mesh,deg,J,fun_w,fun_dw,fun_ddw)\n",
    "\n",
    "#     Bi = ngs.GridFunction(V3L2, autoupdate = True, nested = True)\n",
    "#     with ngs.TaskManager(): Bi.Set(ngs.curl(Ai))\n",
    "\n",
    "#     clipping = { \"function\" : True, \"z\" : -0.4}\n",
    "#     with ngs.TaskManager(): Draw(Bi, mesh, clipping = clipping)\n",
    "\n",
    "#     # deepcopy(Ai)\n",
    "\n",
    "#     A.append(Ai)\n",
    "#     B.append(Bi)\n",
    "#     it.append(iti)\n",
    "\n",
    "#     if i!= levels-1: mesh.Refine()\n",
    "\n",
    "\n",
    "\n",
    "J = mesh.MaterialCF({'coil_plus': (0,0,strom), 'coil_minus': (0,0,-strom), 'stator': (0,0,0)}, default = (0,0,0))\n",
    "A0 = ngs.GridFunction(HCurl)\n",
    "A0, it0 = solve(HCurl,A0,mesh,deg,J,fun_w,fun_dw,fun_ddw)\n",
    "\n",
    "# A00 = ngs.GridFunction(HCurlN, nested = False, autoupdate = False)\n",
    "# A00.Set(deepcopy(A0))\n",
    "\n",
    "B0 = ngs.GridFunction(V3L2)\n",
    "with ngs.TaskManager(): B0.Set(ngs.curl(A0))\n",
    "\n",
    "clipping = { \"function\" : True, \"z\" : -0.4}\n",
    "# with ngs.TaskManager(): Draw(B0, mesh, clipping = clipping)\n",
    "with ngs.TaskManager(): Draw(B0, mesh, clipping = clipping)\n",
    "\n",
    "# data_B0 = B0.vec.data.FV().NumPy()\n",
    "# plt.figure()\n",
    "# plt.plot(data_B0)\n",
    "# print(data_B0.shape,mesh.ne)\n",
    "\n",
    "\n",
    "plt.figure()\n",
    "plt.plot(B0.vec.data.FV().NumPy())\n",
    "\n",
    "\n",
    "\n",
    "\n",
    "# J = mesh.MaterialCF({'coil_plus': (0,0,strom), 'coil_minus': (0,0,-strom), 'stator': (0,0,0)}, default = (0,0,0))\n",
    "# A1 = ngs.GridFunction(HCurl)\n",
    "# A1, it1 = solve(HCurl,A1,mesh,deg,J,fun_w,fun_dw,fun_ddw)\n",
    "# B1 = ngs.GridFunction(V3L2, nested = False, autoupdate = False)\n",
    "# with ngs.TaskManager(): B1.Set(ngs.curl(A1))\n",
    "\n",
    "# clipping = { \"function\" : True, \"z\" : -0.4}\n",
    "# with ngs.TaskManager(): Draw(B1, mesh, clipping = clipping)\n",
    "\n",
    "\n",
    "\n",
    "# data_B1 = B1.vec.data.FV().NumPy()\n",
    "# plt.figure()\n",
    "# plt.plot(data_B1)\n",
    "# print(data_B1.shape,mesh.ne)\n",
    "\n",
    "\n",
    "\n",
    "\n",
    "\n",
    "\n",
    "# B01 = ngs.GridFunction(VL2, nested = False)\n",
    "# with ngs.TaskManager(): B01.Set(B0[0])\n",
    "# clipping = { \"function\" : True, \"z\" : -0.4}\n",
    "# with ngs.TaskManager(): Draw(B01, mesh, clipping = clipping)\n",
    "\n",
    "\n",
    "\n",
    "\n",
    "\n",
    "# mesh.Refine()\n",
    "# J = mesh.MaterialCF({'coil_plus': (0,0,strom), 'coil_minus': (0,0,-strom), 'stator': (0,0,0)}, default = (0,0,0))\n",
    "# A2 = ngs.GridFunction(HCurl)\n",
    "# A2, it1 = solve(HCurl,A2,mesh,deg,J,fun_w,fun_dw,fun_ddw)\n",
    "# B2 = ngs.GridFunction(V3L2, nested = True)\n",
    "# with ngs.TaskManager(): B2.Set(ngs.curl(A2))\n",
    "\n",
    "# clipping = { \"function\" : True, \"z\" : -0.4}\n",
    "# with ngs.TaskManager(): Draw(B2, mesh, clipping = clipping)\n",
    "\n"
   ]
  },
  {
   "cell_type": "code",
   "execution_count": 5,
   "metadata": {},
   "outputs": [],
   "source": [
    "# mesh2 = ngs.Mesh(ngmesh)\n",
    "mesh.Refine()"
   ]
  },
  {
   "cell_type": "code",
   "execution_count": 6,
   "metadata": {},
   "outputs": [
    {
     "data": {
      "application/vnd.jupyter.widget-view+json": {
       "model_id": "6fff443882f74139a0fd677676ff88ea",
       "version_major": 2,
       "version_minor": 0
      },
      "text/plain": [
       "WebGuiWidget(layout=Layout(height='500px', width='100%'), value={'gui_settings': {}, 'ngsolve_version': '6.2.2…"
      ]
     },
     "metadata": {},
     "output_type": "display_data"
    },
    {
     "data": {
      "text/plain": [
       "[<matplotlib.lines.Line2D at 0x17bdb9b9ba0>]"
      ]
     },
     "execution_count": 6,
     "metadata": {},
     "output_type": "execute_result"
    },
    {
     "data": {
      "image/png": "[encoded data removed]",
      "text/plain": [
       "<Figure size 640x480 with 1 Axes>"
      ]
     },
     "metadata": {},
     "output_type": "display_data"
    }
   ],
   "source": [
    "V3L2 = ngs.HDiv(mesh, order = deg-1)\n",
    "\n",
    "u, v = V3L2.TnT()\n",
    "a = ngs.BilinearForm(V3L2)\n",
    "a += u*v*ngs.dx()\n",
    "a.Assemble()\n",
    "\n",
    "# f = ngs.LinearForm(V3L2)\n",
    "# f += B0*v*ngs.dx()\n",
    "# f.Assemble()\n",
    "\n",
    "f = ngs.LinearForm(V3L2)\n",
    "f += ngs.SymbolicLFI(B0*v)\n",
    "f.Assemble()\n",
    "\n",
    "\n",
    "\n",
    "B01 = ngs.GridFunction(V3L2)\n",
    "with ngs.TaskManager(): B01.vec.data = a.mat.Inverse(freedofs = V3L2.FreeDofs(), inverse=\"pardiso\")*f.vec\n",
    "\n",
    "clipping = { \"function\" : True, \"z\" : -0.4}\n",
    "with ngs.TaskManager(): Draw(B01, mesh, clipping = clipping)\n",
    "\n",
    "\n",
    "plt.plot(B0.vec.data.FV().NumPy())\n",
    "plt.plot(B01.vec.data.FV().NumPy())"
   ]
  },
  {
   "cell_type": "code",
   "execution_count": 7,
   "metadata": {},
   "outputs": [
    {
     "ename": "NameError",
     "evalue": "name 'stop' is not defined",
     "output_type": "error",
     "traceback": [
      "\u001b[1;31m---------------------------------------------------------------------------\u001b[0m",
      "\u001b[1;31mNameError\u001b[0m                                 Traceback (most recent call last)",
      "Cell \u001b[1;32mIn[7], line 1\u001b[0m\n\u001b[1;32m----> 1\u001b[0m \u001b[43mstop\u001b[49m\n\u001b[0;32m      3\u001b[0m B01 \u001b[38;5;241m=\u001b[39m ngs\u001b[38;5;241m.\u001b[39mGridFunction(V3L2)\n\u001b[0;32m      4\u001b[0m B01\u001b[38;5;241m.\u001b[39mSet(B0)\n",
      "\u001b[1;31mNameError\u001b[0m: name 'stop' is not defined"
     ]
    }
   ],
   "source": [
    "stop\n",
    "\n",
    "B01 = ngs.GridFunction(V3L2)\n",
    "B01.Set(B0)\n",
    "\n",
    "clipping = { \"function\" : True, \"z\" : -0.4}\n",
    "with ngs.TaskManager(): Draw(B01, mesh, clipping = clipping)\n",
    "\n"
   ]
  },
  {
   "cell_type": "code",
   "execution_count": null,
   "metadata": {},
   "outputs": [],
   "source": [
    "# import matplotlib.pyplot as plt\n",
    "\n",
    "# data_B0 = B0.vec.data.FV().NumPy()\n",
    "\n",
    "# plt.plot(data_B0)\n",
    "# print(data_B0.shape,mesh.ne)\n",
    "\n",
    "import numpy as np\n",
    "\n",
    "\n",
    "B01 = ngs.GridFunction(VL2)\n",
    "B01.vec.data = np.tile(B0.vec.data.FV().NumPy()[0::3].copy(),8) # I really don't know why i need \"copy\" here, but I do.\n",
    "# B01.Set(B0[0])\n",
    "\n",
    "\n",
    "#= np.tile(B0.vec.data.FV().NumPy(),4)\n",
    "# np.tile(B0.vec.data.FV().NumPy(),8).shape\n",
    "\n",
    "plt.figure()\n",
    "plt.plot(B01.vec.data.FV())\n",
    "plt.figure()\n",
    "plt.plot(B0.vec.data.FV().NumPy()[0::3])\n",
    "# plt.figure()\n",
    "# plt.plot(B01.vec.data.FV().NumPy()-B0.vec.data.FV().NumPy()[0::3])\n",
    "\n",
    "print(mesh.ne, B01.vec.data.size, B0.vec.data.size, B0.vec.data.FV().NumPy().size)\n",
    "clipping = { \"function\" : True, \"z\" : -0.4}\n",
    "with ngs.TaskManager(): Draw(B01, mesh, clipping = clipping)\n",
    "\n",
    "B0.Update()\n",
    "with ngs.TaskManager(): Draw(B0, mesh, clipping = clipping)\n",
    "\n",
    "A00.Update()\n",
    "with ngs.TaskManager(): Draw(ngs.curl(A00), mesh, clipping = clipping)"
   ]
  },
  {
   "cell_type": "code",
   "execution_count": null,
   "metadata": {},
   "outputs": [],
   "source": [
    "print(B0.vec.data.FV().NumPy().reshape(3400,3)[:,0])\n",
    "print(B0.vec.data.FV().NumPy()[:3400])\n",
    "print(B0.vec.data.FV().NumPy()[0::3])"
   ]
  },
  {
   "cell_type": "code",
   "execution_count": null,
   "metadata": {},
   "outputs": [],
   "source": [
    "clipping = {\"z\" : -1, \"dist\": 0}\n",
    "\n",
    "# B0.Update()\n",
    "# B1.Update()\n",
    "with ngs.TaskManager(): Draw(B0, mesh, clipping = clipping)\n",
    "with ngs.TaskManager(): Draw(B1, mesh, clipping = clipping)\n",
    "with ngs.TaskManager(): Draw(B2, mesh, clipping = clipping)"
   ]
  },
  {
   "cell_type": "code",
   "execution_count": null,
   "metadata": {},
   "outputs": [],
   "source": [
    "import numpy as np\n",
    "\n",
    "err = np.zeros(levels-1)\n",
    "for i in range(levels-1):\n",
    "    with ngs.TaskManager():\n",
    "        err[i] = ngs.Integrate((B[i+1]-B[i])**2,mesh)**(1/2)/ngs.Integrate((B[i+1])**2,mesh)**(1/2)"
   ]
  },
  {
   "cell_type": "code",
   "execution_count": null,
   "metadata": {},
   "outputs": [],
   "source": [
    "print(np.log2(err[:-1]/err[1:]))\n",
    "print(err)\n",
    "print(it)\n",
    "\n",
    "# [2.36188414]\n",
    "# [0.13807031 0.02685977]\n",
    "# [8, 8, 8]"
   ]
  },
  {
   "cell_type": "code",
   "execution_count": null,
   "metadata": {},
   "outputs": [],
   "source": [
    "clipping = { \"function\" : True, \"z\" : -0.4}\n",
    "with ngs.TaskManager():\n",
    "    Draw (B[0]-B[1], mesh, clipping = clipping)\n",
    "\n"
   ]
  },
  {
   "cell_type": "code",
   "execution_count": null,
   "metadata": {},
   "outputs": [],
   "source": [
    "!pip list"
   ]
  },
  {
   "cell_type": "code",
   "execution_count": null,
   "metadata": {},
   "outputs": [],
   "source": [
    "clipping = { \"function\" : True, \"z\" : -0.4}\n",
    "\n",
    "HDiv = ngs.HDiv(mesh, order = deg, dirichlet = 'outer_face|coil_plus_face|coil_minus_face|stator_face')\n",
    "B0 = ngs.GridFunction(HDiv)\n",
    "B0.Set(B[1])\n",
    "\n",
    "with ngs.TaskManager():\n",
    "    Draw (B[0], mesh, clipping = clipping)\n",
    "    Draw (B[1], mesh, clipping = clipping)"
   ]
  },
  {
   "cell_type": "code",
   "execution_count": null,
   "metadata": {},
   "outputs": [],
   "source": [
    "# !pip install -U webgui-jupyter-widgets"
   ]
  },
  {
   "cell_type": "code",
   "execution_count": null,
   "metadata": {},
   "outputs": [],
   "source": [
    "# help(ngs.GridFunction)\n",
    "\n",
    "# from ngsolve import *\n",
    "from netgen.occ import unit_cube as uc\n",
    "# from netgen.occ import unit_square as uc\n",
    "\n",
    "import ngsolve as ngs\n",
    "from ngsolve.webgui import Draw\n",
    "\n",
    "mesh = ngs.Mesh(uc.GenerateMesh(maxh=0.1))\n",
    "fes = ngs.HCurl(mesh, order = 0, autoupdate = True)\n",
    "\n",
    "gf_u1 = ngs.GridFunction(fes, autoupdate = True, nested = True)\n",
    "# gf_u1 = ngs.GridFunction(fes, autoupdate = False, nested = True)\n",
    "gf_u1.Set((ngs.cos(ngs.x)*ngs.cos(ngs.y)*ngs.cos(ngs.z),0,0))\n",
    "# gf_u1.Set(ngs.cos(ngs.x*ngs.y))\n",
    "\n",
    "\n",
    "hv = gf_u1.vec.CreateVector(copy=True)\n",
    "hv.data = gf_u1.vec\n",
    "\n",
    "# print(\"gf_u1.vec.FV().NumPy():\\n\", gf_u1.vec.FV().NumPy())\n",
    "# mesh.Refine()\n",
    "# mesh.Refine()\n",
    "# print(\"gf_u1.vec.FV().NumPy():\\n\", gf_u1.vec.FV().NumPy())\n",
    "# Draw(ngs.div(gf_u1), mesh)\n",
    "\n",
    "mesh.Refine()\n",
    "# prol = fes.Prolongation()\n",
    "# gf_u1.vec.Range(0,len(hv)).data = hv\n",
    "# prol.Prolongate(1, gf_u1.vec)\n",
    "\n",
    "clipping = { \"function\" : True, \"z\" : -0.4}\n",
    "# Draw(gf_u1, clipping = clipping)"
   ]
  },
  {
   "cell_type": "code",
   "execution_count": null,
   "metadata": {},
   "outputs": [],
   "source": [
    "Draw(gf_u1, clipping = clipping)"
   ]
  },
  {
   "cell_type": "code",
   "execution_count": null,
   "metadata": {},
   "outputs": [],
   "source": [
    "minB1 = B1.vec.data.FV().NumPy().max()\n",
    "maxB1 = B1.vec.data.FV().NumPy().min()\n",
    "\n",
    "print(minB1, maxB1)\n",
    "\n",
    "B1.Update()\n"
   ]
  },
  {
   "cell_type": "code",
   "execution_count": null,
   "metadata": {},
   "outputs": [],
   "source": [
    "!pip install ngsolve==6.2.2204"
   ]
  }
 ],
 "metadata": {
  "kernelspec": {
   "display_name": "pdefem",
   "language": "python",
   "name": "python3"
  },
  "language_info": {
   "codemirror_mode": {
    "name": "ipython",
    "version": 3
   },
   "file_extension": ".py",
   "mimetype": "text/x-python",
   "name": "python",
   "nbconvert_exporter": "python",
   "pygments_lexer": "ipython3",
   "version": "3.10.13"
  }
 },
 "nbformat": 4,
 "nbformat_minor": 2
}
