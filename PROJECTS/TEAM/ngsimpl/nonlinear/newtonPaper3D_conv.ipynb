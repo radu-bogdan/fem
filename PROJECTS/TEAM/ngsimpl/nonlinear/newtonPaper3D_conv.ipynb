{
 "cells": [
  {
   "cell_type": "code",
   "execution_count": 5,
   "metadata": {},
   "outputs": [],
   "source": [
    "import ngsolve as ngs\n",
    "from ngsolve.webgui import Draw\n",
    "\n",
    "from createGeom import makeGeo\n",
    "geoOCC = makeGeo()\n",
    "\n",
    "ngmesh = geoOCC.GenerateMesh()\n",
    "mesh = ngs.Mesh(ngmesh)\n",
    "\n",
    "# mesh.Refine()\n",
    "# mesh.Refine()\n",
    "# mesh.Curve(2)\n"
   ]
  },
  {
   "cell_type": "code",
   "execution_count": 6,
   "metadata": {},
   "outputs": [],
   "source": [
    "# Draw(mesh)"
   ]
  },
  {
   "cell_type": "code",
   "execution_count": 7,
   "metadata": {},
   "outputs": [
    {
     "name": "stdout",
     "output_type": "stream",
     "text": [
      "BH data from TEAM 13 problem\n",
      "Applying a current of 196.88 Amps\n"
     ]
    }
   ],
   "source": [
    "from bhdata import BHCurves\n",
    "fun_dw  = BHCurves(4)\n",
    "fun_w   = fun_dw.Integrate()\n",
    "fun_ddw = fun_dw.Differentiate()\n",
    "\n",
    "mu0 = 1.256636e-6\n",
    "nu0 = 1/mu0\n",
    "\n",
    "linear = \"coil_plus|coil_minus\"\n",
    "nonlinear = \"stator\"\n",
    "\n",
    "strom = 1e5\n",
    "amps = 0.025**2*3.15*strom\n",
    "print(f'Applying a current of {amps:.2f} Amps')\n",
    "# Draw(J, mesh)"
   ]
  },
  {
   "cell_type": "code",
   "execution_count": 8,
   "metadata": {},
   "outputs": [
    {
     "name": "stdout",
     "output_type": "stream",
     "text": [
      "Using 3D mesh with ne= 850 elements and nv= 265 points and  5153 DOFs.\n",
      " \n"
     ]
    },
    {
     "data": {
      "application/vnd.jupyter.widget-view+json": {
       "model_id": "107d29539f3241889769690590d0cab8",
       "version_major": 2,
       "version_minor": 0
      },
      "text/plain": [
       "WebGuiWidget(layout=Layout(height='500px', width='100%'), value={'gui_settings': {}, 'ngsolve_version': '6.2.2…"
      ]
     },
     "metadata": {},
     "output_type": "display_data"
    },
    {
     "name": "stdout",
     "output_type": "stream",
     "text": [
      "Using 3D mesh with ne= 6800 elements and nv= 1592 points and  39474 DOFs.\n",
      " \n"
     ]
    },
    {
     "data": {
      "application/vnd.jupyter.widget-view+json": {
       "model_id": "43710c09af18473c867ace45a50b2d68",
       "version_major": 2,
       "version_minor": 0
      },
      "text/plain": [
       "WebGuiWidget(layout=Layout(height='500px', width='100%'), value={'gui_settings': {}, 'ngsolve_version': '6.2.2…"
      ]
     },
     "metadata": {},
     "output_type": "display_data"
    },
    {
     "name": "stdout",
     "output_type": "stream",
     "text": [
      "Using 3D mesh with ne= 54400 elements and nv= 10835 points and  303628 DOFs.\n",
      " \n"
     ]
    },
    {
     "data": {
      "application/vnd.jupyter.widget-view+json": {
       "model_id": "defb80d1ed144c85907dc19ab3deb93c",
       "version_major": 2,
       "version_minor": 0
      },
      "text/plain": [
       "WebGuiWidget(layout=Layout(height='500px', width='100%'), value={'gui_settings': {}, 'ngsolve_version': '6.2.2…"
      ]
     },
     "metadata": {},
     "output_type": "display_data"
    }
   ],
   "source": [
    "from do import solve\n",
    "from copy import deepcopy\n",
    "\n",
    "levels = 2\n",
    "deg = 2\n",
    "\n",
    "ngmesh = geoOCC.GenerateMesh()\n",
    "mesh = ngs.Mesh(ngmesh)\n",
    "\n",
    "HCurl = ngs.HCurl(mesh, order = deg, autoupdate = True, nograds = True, dirichlet = 'outer_face|coil_plus_face|coil_minus_face|stator_face')\n",
    "HDiv = ngs.HDiv(mesh, order = deg, autoupdate = True)\n",
    "\n",
    "# A = []; B = []; it = []; \n",
    "# for i in range(levels):\n",
    "#     print(f\"i = {i:d}\")\n",
    "#     # mesh.Curve(2)\n",
    "    \n",
    "#     J = mesh.MaterialCF({'coil_plus': (0,0,strom), 'coil_minus': (0,0,-strom), 'stator': (0,0,0)}, default = (0,0,0))\n",
    "\n",
    "#     Ai = ngs.GridFunction(HCurl, autoupdate = True, nested = True)\n",
    "#     Ai, Bi, iti = solve(HCurl,Ai,mesh,deg,J,fun_w,fun_dw,fun_ddw)\n",
    "\n",
    "#     Bi = ngs.GridFunction(HDiv, autoupdate = True, nested = True)\n",
    "#     with ngs.TaskManager(): Bi.Set(ngs.curl(Ai))\n",
    "\n",
    "#     clipping = { \"function\" : True, \"z\" : -0.4}\n",
    "#     with ngs.TaskManager(): Draw(Bi, mesh, clipping = clipping)\n",
    "\n",
    "#     # deepcopy(Ai)\n",
    "\n",
    "#     A.append(Ai)\n",
    "#     B.append(Bi)\n",
    "#     it.append(iti)\n",
    "\n",
    "#     if i!= levels-1: mesh.Refine()\n",
    "\n",
    "J = mesh.MaterialCF({'coil_plus': (0,0,strom), 'coil_minus': (0,0,-strom), 'stator': (0,0,0)}, default = (0,0,0))\n",
    "A0 = ngs.GridFunction(HCurl)\n",
    "A0, it0 = solve(HCurl,A0,mesh,deg,J,fun_w,fun_dw,fun_ddw)\n",
    "B0 = ngs.GridFunction(HDiv, nested = True)\n",
    "with ngs.TaskManager(): B0.Set(ngs.curl(A0), bonus_intorder=4)\n",
    "\n",
    "clipping = { \"function\" : True, \"z\" : -0.4}\n",
    "# with ngs.TaskManager(): Draw(B0, mesh, clipping = clipping)\n",
    "with ngs.TaskManager(): Draw(B0, mesh, clipping = clipping)\n",
    "mesh.Refine()\n",
    "\n",
    "\n",
    "J = mesh.MaterialCF({'coil_plus': (0,0,strom), 'coil_minus': (0,0,-strom), 'stator': (0,0,0)}, default = (0,0,0))\n",
    "A1 = ngs.GridFunction(HCurl)\n",
    "A1, it1 = solve(HCurl,A1,mesh,deg,J,fun_w,fun_dw,fun_ddw)\n",
    "B1 = ngs.GridFunction(HDiv, nested = True)\n",
    "with ngs.TaskManager(): B1.Set(ngs.curl(A1))\n",
    "\n",
    "clipping = { \"function\" : True, \"z\" : -0.4}\n",
    "with ngs.TaskManager(): Draw(B1, mesh, clipping = clipping)\n",
    "mesh.Refine()\n",
    "\n",
    "J = mesh.MaterialCF({'coil_plus': (0,0,strom), 'coil_minus': (0,0,-strom), 'stator': (0,0,0)}, default = (0,0,0))\n",
    "A2 = ngs.GridFunction(HCurl)\n",
    "A2, it1 = solve(HCurl,A2,mesh,deg,J,fun_w,fun_dw,fun_ddw)\n",
    "B2 = ngs.GridFunction(HDiv, nested = True)\n",
    "with ngs.TaskManager(): B2.Set(ngs.curl(A2))\n",
    "\n",
    "clipping = { \"function\" : True, \"z\" : -0.4}\n",
    "with ngs.TaskManager(): Draw(B2, mesh, clipping = clipping)\n",
    "\n",
    "\n",
    "# clipping = { \"function\" : True, \"z\":-0.4}\n",
    "# Draw (ngs.curl(A), mesh, clipping = clipping)"
   ]
  },
  {
   "cell_type": "code",
   "execution_count": 9,
   "metadata": {},
   "outputs": [
    {
     "data": {
      "application/vnd.jupyter.widget-view+json": {
       "model_id": "912584c504cb4ecf93cd0993432c3b04",
       "version_major": 2,
       "version_minor": 0
      },
      "text/plain": [
       "WebGuiWidget(layout=Layout(height='500px', width='100%'), value={'gui_settings': {}, 'ngsolve_version': '6.2.2…"
      ]
     },
     "metadata": {},
     "output_type": "display_data"
    },
    {
     "data": {
      "application/vnd.jupyter.widget-view+json": {
       "model_id": "db77053260e34c3ea3dad2baeb3ac07d",
       "version_major": 2,
       "version_minor": 0
      },
      "text/plain": [
       "WebGuiWidget(layout=Layout(height='500px', width='100%'), value={'gui_settings': {}, 'ngsolve_version': '6.2.2…"
      ]
     },
     "metadata": {},
     "output_type": "display_data"
    },
    {
     "data": {
      "application/vnd.jupyter.widget-view+json": {
       "model_id": "a1b95e6fe0af4d1ab46b5f2135eb546d",
       "version_major": 2,
       "version_minor": 0
      },
      "text/plain": [
       "WebGuiWidget(layout=Layout(height='500px', width='100%'), value={'gui_settings': {}, 'ngsolve_version': '6.2.2…"
      ]
     },
     "metadata": {},
     "output_type": "display_data"
    }
   ],
   "source": [
    "clipping = { \"function\" : True, \"z\" : -0.4}\n",
    "\n",
    "B0.Update()\n",
    "with ngs.TaskManager(): Draw(B0, mesh, clipping = clipping)\n",
    "with ngs.TaskManager(): Draw(B1, mesh, clipping = clipping)\n",
    "with ngs.TaskManager(): Draw(B2, mesh, clipping = clipping)"
   ]
  },
  {
   "cell_type": "code",
   "execution_count": 10,
   "metadata": {},
   "outputs": [
    {
     "ename": "NameError",
     "evalue": "name 'B' is not defined",
     "output_type": "error",
     "traceback": [
      "\u001b[1;31m---------------------------------------------------------------------------\u001b[0m",
      "\u001b[1;31mNameError\u001b[0m                                 Traceback (most recent call last)",
      "Cell \u001b[1;32mIn[10], line 6\u001b[0m\n\u001b[0;32m      4\u001b[0m \u001b[38;5;28;01mfor\u001b[39;00m i \u001b[38;5;129;01min\u001b[39;00m \u001b[38;5;28mrange\u001b[39m(levels\u001b[38;5;241m-\u001b[39m\u001b[38;5;241m1\u001b[39m):\n\u001b[0;32m      5\u001b[0m     \u001b[38;5;28;01mwith\u001b[39;00m ngs\u001b[38;5;241m.\u001b[39mTaskManager():\n\u001b[1;32m----> 6\u001b[0m         err[i] \u001b[38;5;241m=\u001b[39m ngs\u001b[38;5;241m.\u001b[39mIntegrate((\u001b[43mB\u001b[49m[i\u001b[38;5;241m+\u001b[39m\u001b[38;5;241m1\u001b[39m]\u001b[38;5;241m-\u001b[39mB[i])\u001b[38;5;241m*\u001b[39m\u001b[38;5;241m*\u001b[39m\u001b[38;5;241m2\u001b[39m,mesh)\u001b[38;5;241m*\u001b[39m\u001b[38;5;241m*\u001b[39m(\u001b[38;5;241m1\u001b[39m\u001b[38;5;241m/\u001b[39m\u001b[38;5;241m2\u001b[39m)\u001b[38;5;241m/\u001b[39mngs\u001b[38;5;241m.\u001b[39mIntegrate((B[i\u001b[38;5;241m+\u001b[39m\u001b[38;5;241m1\u001b[39m])\u001b[38;5;241m*\u001b[39m\u001b[38;5;241m*\u001b[39m\u001b[38;5;241m2\u001b[39m,mesh)\u001b[38;5;241m*\u001b[39m\u001b[38;5;241m*\u001b[39m(\u001b[38;5;241m1\u001b[39m\u001b[38;5;241m/\u001b[39m\u001b[38;5;241m2\u001b[39m)\n",
      "\u001b[1;31mNameError\u001b[0m: name 'B' is not defined"
     ]
    }
   ],
   "source": [
    "import numpy as np\n",
    "\n",
    "err = np.zeros(levels-1)\n",
    "for i in range(levels-1):\n",
    "    with ngs.TaskManager():\n",
    "        err[i] = ngs.Integrate((B[i+1]-B[i])**2,mesh)**(1/2)/ngs.Integrate((B[i+1])**2,mesh)**(1/2)"
   ]
  },
  {
   "cell_type": "code",
   "execution_count": null,
   "metadata": {},
   "outputs": [],
   "source": [
    "print(np.log2(err[:-1]/err[1:]))\n",
    "print(err)\n",
    "print(it)\n",
    "\n",
    "# [2.36188414]\n",
    "# [0.13807031 0.02685977]\n",
    "# [8, 8, 8]"
   ]
  },
  {
   "cell_type": "code",
   "execution_count": null,
   "metadata": {},
   "outputs": [],
   "source": [
    "clipping = { \"function\" : True, \"z\" : -0.4}\n",
    "with ngs.TaskManager():\n",
    "    Draw (B[0]-B[1], mesh, clipping = clipping)\n",
    "\n"
   ]
  },
  {
   "cell_type": "code",
   "execution_count": null,
   "metadata": {},
   "outputs": [],
   "source": [
    "!pip list"
   ]
  },
  {
   "cell_type": "code",
   "execution_count": null,
   "metadata": {},
   "outputs": [],
   "source": [
    "clipping = { \"function\" : True, \"z\" : -0.4}\n",
    "\n",
    "HDiv = ngs.HDiv(mesh, order = deg, dirichlet = 'outer_face|coil_plus_face|coil_minus_face|stator_face')\n",
    "B0 = ngs.GridFunction(HDiv)\n",
    "B0.Set(B[1])\n",
    "\n",
    "with ngs.TaskManager():\n",
    "    Draw (B[0], mesh, clipping = clipping)\n",
    "    Draw (B[1], mesh, clipping = clipping)"
   ]
  },
  {
   "cell_type": "code",
   "execution_count": null,
   "metadata": {},
   "outputs": [],
   "source": [
    "# !pip install -U webgui-jupyter-widgets"
   ]
  },
  {
   "cell_type": "code",
   "execution_count": 30,
   "metadata": {},
   "outputs": [
    {
     "ename": "AttributeError",
     "evalue": "'NoneType' object has no attribute 'Prolongate'",
     "output_type": "error",
     "traceback": [
      "\u001b[1;31m---------------------------------------------------------------------------\u001b[0m",
      "\u001b[1;31mAttributeError\u001b[0m                            Traceback (most recent call last)",
      "Cell \u001b[1;32mIn[30], line 26\u001b[0m\n\u001b[0;32m     24\u001b[0m prol \u001b[38;5;241m=\u001b[39m fes\u001b[38;5;241m.\u001b[39mProlongation()\n\u001b[0;32m     25\u001b[0m gf_u1\u001b[38;5;241m.\u001b[39mvec\u001b[38;5;241m.\u001b[39mRange(\u001b[38;5;241m0\u001b[39m,\u001b[38;5;28mlen\u001b[39m(hv))\u001b[38;5;241m.\u001b[39mdata \u001b[38;5;241m=\u001b[39m hv\n\u001b[1;32m---> 26\u001b[0m \u001b[43mprol\u001b[49m\u001b[38;5;241;43m.\u001b[39;49m\u001b[43mProlongate\u001b[49m(\u001b[38;5;241m1\u001b[39m, gf_u1\u001b[38;5;241m.\u001b[39mvec)\n\u001b[0;32m     29\u001b[0m Draw(gf_u1)\n",
      "\u001b[1;31mAttributeError\u001b[0m: 'NoneType' object has no attribute 'Prolongate'"
     ]
    }
   ],
   "source": [
    "# help(ngs.GridFunction)\n",
    "\n",
    "# from ngsolve import *\n",
    "from netgen.occ import unit_cube\n",
    "\n",
    "mesh = ngs.Mesh(unit_cube.GenerateMesh(maxh=0.2))\n",
    "fes = ngs.HDiv(mesh, order=1, autoupdate=True)\n",
    "\n",
    "# gf_u1 = ngs.GridFunction(fes, autoupdate=True)\n",
    "gf_u1 = ngs.GridFunction(fes, autoupdate=True, nested = True)\n",
    "gf_u1.Set((ngs.cos(ngs.x),ngs.sin(ngs.y),ngs.sin(ngs.y)))\n",
    "# gf_u1.Set(ngs.cos(ngs.x*ngs.y))\n",
    "\n",
    "# print(\"gf_u1.vec.FV().NumPy():\\n\", gf_u1.vec.FV().NumPy())\n",
    "# mesh.Refine()\n",
    "mesh.Refine()\n",
    "# print(\"gf_u1.vec.FV().NumPy():\\n\", gf_u1.vec.FV().NumPy())\n",
    "\n",
    "# Draw(ngs.div(gf_u1), mesh)\n",
    "\n",
    "hv = gf_u1.vec.CreateVector()\n",
    "hv.data = gf_u1.vec\n",
    "\n",
    "prol = fes.Prolongation()\n",
    "gf_u1.vec.Range(0,len(hv)).data = hv\n",
    "prol.Prolongate(1, gf_u1.vec)\n",
    "\n",
    "\n",
    "Draw(gf_u1)"
   ]
  },
  {
   "cell_type": "code",
   "execution_count": 25,
   "metadata": {},
   "outputs": [
    {
     "name": "stdout",
     "output_type": "stream",
     "text": [
      "0.0 0.0\n"
     ]
    }
   ],
   "source": [
    "minB1 = B1.vec.data.FV().NumPy().max()\n",
    "maxB1 = B1.vec.data.FV().NumPy().min()\n",
    "\n",
    "print(minB1, maxB1)\n",
    "\n",
    "B1.Update()\n"
   ]
  },
  {
   "cell_type": "code",
   "execution_count": 24,
   "metadata": {},
   "outputs": [
    {
     "name": "stdout",
     "output_type": "stream",
     "text": [
      "Help on instancemethod in module ngsolve.comp:\n",
      "\n",
      "Update(...)\n",
      "    Update(self: ngsolve.comp.GridFunction) -> None\n",
      "    \n",
      "    update vector size to finite element space dimension after mesh refinement\n",
      "\n"
     ]
    }
   ],
   "source": [
    "help(ngs.GridFunction.Update)"
   ]
  }
 ],
 "metadata": {
  "kernelspec": {
   "display_name": "pdefem",
   "language": "python",
   "name": "python3"
  },
  "language_info": {
   "codemirror_mode": {
    "name": "ipython",
    "version": 3
   },
   "file_extension": ".py",
   "mimetype": "text/x-python",
   "name": "python",
   "nbconvert_exporter": "python",
   "pygments_lexer": "ipython3",
   "version": "3.10.13"
  }
 },
 "nbformat": 4,
 "nbformat_minor": 2
}
