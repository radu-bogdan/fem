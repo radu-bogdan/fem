{
 "cells": [
  {
   "cell_type": "code",
   "execution_count": 1,
   "metadata": {},
   "outputs": [
    {
     "data": {
      "application/vnd.jupyter.widget-view+json": {
       "model_id": "6875347e6ddd436ea40bb487b2dfa1ed",
       "version_major": 2,
       "version_minor": 0
      },
      "text/plain": [
       "WebGuiWidget(layout=Layout(height='500px', width='100%'), value={'gui_settings': {}, 'ngsolve_version': '6.2.2…"
      ]
     },
     "metadata": {},
     "output_type": "display_data"
    },
    {
     "data": {
      "application/vnd.jupyter.widget-view+json": {
       "model_id": "ba5d67a15b1e40698bc44f5f1ceb6fbb",
       "version_major": 2,
       "version_minor": 0
      },
      "text/plain": [
       "WebGuiWidget(layout=Layout(height='500px', width='100%'), value={'gui_settings': {}, 'ngsolve_version': '6.2.2…"
      ]
     },
     "metadata": {},
     "output_type": "display_data"
    },
    {
     "data": {
      "text/plain": [
       "BaseWebGuiScene"
      ]
     },
     "execution_count": 1,
     "metadata": {},
     "output_type": "execute_result"
    }
   ],
   "source": [
    "from ngsolve import *\n",
    "from ngsolve.webgui import Draw\n",
    "# from netgen.geom2d import unit_cube as uc\n",
    "from netgen.occ import unit_cube as uc\n",
    "\n",
    "# # Meshes and function spaces\n",
    "# mesh1 = Mesh(uc.GenerateMesh(maxh=0.1))\n",
    "# fes1 = H1(mesh1, order=2)\n",
    "# gfu1 = GridFunction(fes1)\n",
    "# gfu1.Set(x*y)  # example function\n",
    "\n",
    "\n",
    "\n",
    "# mesh2 = Mesh(uc.GenerateMesh(maxh=0.05))\n",
    "# fes2 = H1(mesh2, order=2)\n",
    "# gfu2 = GridFunction(fes2)\n",
    "\n",
    "# # Projection setup\n",
    "# v = fes2.TestFunction()\n",
    "# u = fes2.TrialFunction()#gfu1\n",
    "\n",
    "# a = BilinearForm(fes2)\n",
    "# a += SymbolicBFI(u*v)\n",
    "# a.Assemble()\n",
    "\n",
    "# f = LinearForm(fes2)\n",
    "# f += SymbolicLFI(gfu1 * v)\n",
    "# f.Assemble()\n",
    "\n",
    "# # Solve the projection\n",
    "# gfu2.vec.data = a.mat.Inverse() * f.vec\n",
    "\n",
    "# # Optional: Visualize the result if you have GUI support\n",
    "# Draw(gfu1, mesh1, \"gfu1\")\n",
    "# Draw(gfu2, mesh2, \"gfu2\")\n",
    "\n",
    "\n",
    "# Define the initial mesh and solution\n",
    "mesh1 = Mesh(unit_square.GenerateMesh(maxh=0.1))\n",
    "fes1 = H1(mesh1, order=2)\n",
    "gfu1 = GridFunction(fes1)\n",
    "\n",
    "# Example problem setup and solving on the initial mesh\n",
    "u, v = fes1.TrialFunction(), fes1.TestFunction()\n",
    "a = BilinearForm(fes1)\n",
    "a += grad(u)*grad(v)*dx\n",
    "f = LinearForm(fes1)\n",
    "f += x*y*v*dx\n",
    "\n",
    "a.Assemble()\n",
    "f.Assemble()\n",
    "\n",
    "sol = GridFunction(fes1)\n",
    "sol.vec.data = a.mat.Inverse(fes1.FreeDofs()) * f.vec\n",
    "\n",
    "# Assign the solution to gfu1\n",
    "gfu1.Set(sol)\n",
    "\n",
    "# Define the target mesh\n",
    "mesh2 = Mesh(unit_square.GenerateMesh(maxh=0.05))\n",
    "fes2 = H1(mesh2, order=2)\n",
    "gfu2 = GridFunction(fes2)\n",
    "\n",
    "# Projection setup for the solution\n",
    "v2 = fes2.TestFunction()\n",
    "u1 = gfu1\n",
    "\n",
    "a_proj = BilinearForm(fes2)\n",
    "a_proj += grad(v2) * grad(v2) * dx  # Use grad(v2) * grad(u1) if your problem is about gradients\n",
    "a_proj.Assemble()\n",
    "\n",
    "f_proj = LinearForm(fes2)\n",
    "f_proj += u1 * v2 * dx\n",
    "f_proj.Assemble()\n",
    "\n",
    "# Solve the projection\n",
    "gfu2.vec.data = a_proj.mat.Inverse() * f_proj.vec\n",
    "\n",
    "# Optional: Visualize the result if you have GUI support\n",
    "Draw(gfu1, mesh1, \"solution_initial_mesh\")\n",
    "Draw(gfu2, mesh2, \"solution_target_mesh\")"
   ]
  },
  {
   "cell_type": "code",
   "execution_count": null,
   "metadata": {},
   "outputs": [],
   "source": []
  }
 ],
 "metadata": {
  "kernelspec": {
   "display_name": "pdefem",
   "language": "python",
   "name": "python3"
  },
  "language_info": {
   "codemirror_mode": {
    "name": "ipython",
    "version": 3
   },
   "file_extension": ".py",
   "mimetype": "text/x-python",
   "name": "python",
   "nbconvert_exporter": "python",
   "pygments_lexer": "ipython3",
   "version": "3.10.13"
  }
 },
 "nbformat": 4,
 "nbformat_minor": 2
}
