{
 "cells": [
  {
   "cell_type": "code",
   "execution_count": 11,
   "metadata": {},
   "outputs": [
    {
     "data": {
      "application/vnd.jupyter.widget-view+json": {
       "model_id": "030ec7e435914b72b7ff46349e31c9a0",
       "version_major": 2,
       "version_minor": 0
      },
      "text/plain": [
       "WebGuiWidget(layout=Layout(height='500px', width='100%'), value={'gui_settings': {}, 'ngsolve_version': '6.2.2…"
      ]
     },
     "metadata": {},
     "output_type": "display_data"
    },
    {
     "data": {
      "application/vnd.jupyter.widget-view+json": {
       "model_id": "151dabbfe2ef4242a15c04766c3fd666",
       "version_major": 2,
       "version_minor": 0
      },
      "text/plain": [
       "WebGuiWidget(layout=Layout(height='500px', width='100%'), value={'gui_settings': {}, 'ngsolve_version': '6.2.2…"
      ]
     },
     "metadata": {},
     "output_type": "display_data"
    },
    {
     "data": {
      "text/plain": [
       "BaseWebGuiScene"
      ]
     },
     "execution_count": 11,
     "metadata": {},
     "output_type": "execute_result"
    }
   ],
   "source": [
    "from netgen.geom2d import unit_square\n",
    "from ngsolve import *\n",
    "from ngsolve.webgui import Draw\n",
    "\n",
    "mesh = Mesh(unit_square.GenerateMesh(maxh=0.2))\n",
    "\n",
    "fes = H1(mesh, order=1)\n",
    "gfu = GridFunction(fes, nested=False)\n",
    "\n",
    "gfu.Set (x*y)\n",
    "Draw(gfu)\n",
    "\n",
    "# save the values\n",
    "hv = gfu.vec.CreateVector()\n",
    "hv.data = gfu.vec\n",
    "\n",
    "mesh.Refine()\n",
    "fes.Update()\n",
    "\n",
    "gfu.Update()\n",
    "# Draw(gfu)\n",
    "\n",
    "# either prolongate, or 0-initialize, depending on 'nested' flag\n",
    "\n",
    "# copy values back, and prolongate\n",
    "prol = fes.Prolongation()\n",
    "gfu.vec.Range(0,len(hv)).data = hv\n",
    "prol.Prolongate(1, gfu.vec)\n",
    "\n",
    "Draw(gfu)\n",
    "# Redraw()"
   ]
  }
 ],
 "metadata": {
  "kernelspec": {
   "display_name": "pdefem",
   "language": "python",
   "name": "python3"
  },
  "language_info": {
   "codemirror_mode": {
    "name": "ipython",
    "version": 3
   },
   "file_extension": ".py",
   "mimetype": "text/x-python",
   "name": "python",
   "nbconvert_exporter": "python",
   "pygments_lexer": "ipython3",
   "version": "3.10.13"
  }
 },
 "nbformat": 4,
 "nbformat_minor": 2
}
