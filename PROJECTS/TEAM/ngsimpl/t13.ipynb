{
 "cells": [
  {
   "cell_type": "code",
   "execution_count": 9,
   "id": "a7f28eba",
   "metadata": {},
   "outputs": [
    {
     "name": "stdout",
     "output_type": "stream",
     "text": [
      "0.0025000000000000022\n",
      "Geometry ... 0.20s\n",
      "Mesh ... 0.41s\n"
     ]
    },
    {
     "data": {
      "application/vnd.jupyter.widget-view+json": {
       "model_id": "5eec0cf1df7547049eeeda3a5db1f469",
       "version_major": 2,
       "version_minor": 0
      },
      "text/plain": [
       "WebGuiWidget(layout=Layout(height='500px', width='100%'), value={'ngsolve_version': 'Netgen x.x', 'mesh_dim': …"
      ]
     },
     "metadata": {},
     "output_type": "display_data"
    },
    {
     "data": {
      "application/vnd.jupyter.widget-view+json": {
       "model_id": "d547906439a843c9a882a9990cc0fcaf",
       "version_major": 2,
       "version_minor": 0
      },
      "text/plain": [
       "WebGuiWidget(layout=Layout(height='500px', width='100%'), value={'gui_settings': {}, 'mesh_dim': 3, 'mesh_cent…"
      ]
     },
     "metadata": {},
     "output_type": "display_data"
    },
    {
     "data": {
      "text/plain": [
       "BaseWebGuiScene"
      ]
     },
     "execution_count": 9,
     "metadata": {},
     "output_type": "execute_result"
    }
   ],
   "source": [
    "import ngsolve as ngs\n",
    "import netgen.occ as occ\n",
    "# import netgen.gui\n",
    "from netgen.webgui import Draw as DrawGeo\n",
    "from ngsolve.webgui import Draw\n",
    "import time\n",
    "\n",
    "# import netgen.gui\n",
    "# from netgen.webgui import Draw as DrawGeo\n",
    "\n",
    "tm = time.monotonic()\n",
    "\n",
    "box1 = occ.Box(occ.Pnt(-0.100,-0.100,-0.050), occ.Pnt(0.100,0.100,0.050))\n",
    "box2 = occ.Box(occ.Pnt(-0.075,-0.075,-0.050), occ.Pnt(0.075,0.075,0.050))\n",
    "    \n",
    "##########################################################################\n",
    "# Rounding corners ...\n",
    "##########################################################################\n",
    "\n",
    "corner1_ext = occ.Box(occ.Pnt(0.075,0.075,-0.050), occ.Pnt(0.100,0.100,0.050))\n",
    "cyl1_ext = occ.Cylinder(occ.Pnt(0.075,0.075,-0.050), occ.Z, r=0.025, h=0.100)\n",
    "corner1_int = occ.Box(occ.Pnt(0.050,0.050,-0.050), occ.Pnt(0.075,0.075,0.050))\n",
    "cyl1_int = occ.Cylinder(occ.Pnt(0.050,0.050,-0.050), occ.Z, r=0.025, h=0.100)\n",
    "corner1_int = corner1_int-cyl1_int; corner1_ext = corner1_ext-cyl1_ext\n",
    "\n",
    "corner2_ext = occ.Box(occ.Pnt(-0.100,-0.100,-0.050), occ.Pnt(-0.075,-0.075,0.050))\n",
    "cyl2_ext = occ.Cylinder(occ.Pnt(-0.075,-0.075,-0.050), occ.Z, r=0.025, h=0.100)\n",
    "corner2_int = occ.Box(occ.Pnt(-0.075,-0.075,-0.050), occ.Pnt(-0.050,-0.050,0.050))\n",
    "cyl2_int = occ.Cylinder(occ.Pnt(-0.050,-0.050,-0.050), occ.Z, r=0.025, h=0.100)\n",
    "corner2_int = corner2_int-cyl2_int; corner2_ext = corner2_ext-cyl2_ext\n",
    "\n",
    "corner3_ext = occ.Box(occ.Pnt(0.075,-0.075,-0.050), occ.Pnt(0.100,-0.100,0.050))\n",
    "cyl3_ext = occ.Cylinder(occ.Pnt(0.075,-0.075,-0.050), occ.Z, r=0.025, h=0.100)\n",
    "corner3_int = occ.Box(occ.Pnt(0.050,-0.050,-0.050), occ.Pnt(0.075,-0.075,0.050))\n",
    "cyl3_int = occ.Cylinder(occ.Pnt(0.050,-0.050,-0.050), occ.Z, r=0.025, h=0.100)\n",
    "corner3_int = corner3_int-cyl3_int; corner3_ext = corner3_ext-cyl3_ext\n",
    "\n",
    "corner4_ext = occ.Box(occ.Pnt(-0.075,0.075,-0.050), occ.Pnt(-0.100,0.100,0.050))\n",
    "cyl4_ext = occ.Cylinder(occ.Pnt(-0.075,0.075,-0.050), occ.Z, r=0.025, h=0.100)\n",
    "corner4_int = occ.Box(occ.Pnt(-0.050,0.050,-0.050), occ.Pnt(-0.075,0.075,0.050))\n",
    "cyl4_int = occ.Cylinder(occ.Pnt(-0.050,0.050,-0.050), occ.Z, r=0.025, h=0.100)\n",
    "corner4_int = corner4_int-cyl4_int; corner4_ext = corner4_ext-cyl4_ext\n",
    "\n",
    "##########################################################################\n",
    "# Adding the steel parts\n",
    "##########################################################################\n",
    "\n",
    "coil_full = (box1-box2)+corner1_int-corner1_ext+corner2_int-corner2_ext+corner3_int-corner3_ext+corner4_int-corner4_ext\n",
    "\n",
    "# mid_steel = occ.Box(occ.Pnt(-0.0016,-0.025,-0.0642),occ.Pnt(0.0016,0.025,0.0642))\n",
    "mid_steel = occ.Box(occ.Pnt(-0.0016,-0.025,-(0.050+0.010)),occ.Pnt(0.0016,0.025,0.050+0.010))\n",
    "\n",
    "\n",
    "r_steel1 = occ.Box(occ.Pnt(0.0016 +0.0005,0.015,0.050+0.010-0.0032),occ.Pnt(0.0016 +0.1205,0.065, 0.050+0.010))\n",
    "r_steel2 = occ.Box(occ.Pnt(0.0016 +0.0005,0.015,-(0.050+0.010-0.0032)),occ.Pnt(0.0016 +0.1205,0.065,-(0.050+0.010)))\n",
    "r_steel3 = occ.Box(occ.Pnt(0.0016 +0.1205-0.0032,0.015,0.050+0.010-0.0032),occ.Pnt(0.0016 +0.1205,0.065,-(0.050+0.010)))\n",
    "r_steel = r_steel1 + r_steel2 + r_steel3\n",
    "\n",
    "l_steel1 = occ.Box(occ.Pnt(-0.0016 -0.0005,-0.015, 0.050+0.010-0.0032),occ.Pnt(-0.0016-0.1205,-0.065,0.050+0.010))\n",
    "l_steel2 = occ.Box(occ.Pnt(-0.0016 -0.0005,-0.015,-(0.050+0.010-0.0032)),occ.Pnt(-0.0016-0.1205,-0.065,-(0.050+0.010)))\n",
    "l_steel3 = occ.Box(occ.Pnt(-0.0016 -0.1205 +0.0032,-0.015,0.050+0.010-0.0032),occ.Pnt(-0.0016-0.1205,-0.065,-(0.050+0.010)))\n",
    "l_steel = l_steel1 + l_steel2 + l_steel3\n",
    "\n",
    "##########################################################################\n",
    "# Glueing ...\n",
    "##########################################################################\n",
    "\n",
    "half_box_1 = occ.Box(occ.Pnt(-0.100,-0.100,-0.050), occ.Pnt(0,0.100,0.050))\n",
    "half_box_2 = occ.Box(occ.Pnt(0.100,-0.100,-0.050), occ.Pnt(0,0.100,0.050))\n",
    "\n",
    "coil_half_box_1 = coil_full*half_box_1\n",
    "coil_half_box_2 = coil_full*half_box_2\n",
    "\n",
    "coil = occ.Glue([coil_half_box_1,coil_half_box_2])\n",
    "ambient =  occ.Box(occ.Pnt(-0.200,-0.200,-0.100), occ.Pnt(0.200,0.200,0.100))\n",
    "\n",
    "full = occ.Glue([coil, mid_steel, r_steel, l_steel])\n",
    "# full = occ.Glue([coil, mid_steel, r_steel, l_steel, ambient])\n",
    "\n",
    "\n",
    "##########################################################################\n",
    "# Identifications\n",
    "##########################################################################\n",
    "\n",
    "\n",
    "for face in coil.faces: face.name = 'coil_face'\n",
    "for face in r_steel.faces: face.name = 'r_steel_face'\n",
    "for face in l_steel.faces: face.name = 'l_steel_face'\n",
    "for face in mid_steel.faces: face.name = 'mid_steel_face'\n",
    "for face in ambient.faces: face.name = 'ambient_face'\n",
    "\n",
    "# steel_h = 0.002\n",
    "\n",
    "# steel_hf = 0.005\n",
    "# for face in r_steel.faces: face.maxh = steel_hf\n",
    "# for face in l_steel.faces: face.maxh = steel_hf\n",
    "# for face in mid_steel.faces: face.maxh = steel_hf\n",
    "\n",
    "coil_up_indices = (1,14)\n",
    "coil_down_indices = (3,27)\n",
    "coil_outer_indices = (0,2,4,5,13,19,18,17,16,15)\n",
    "coil_inner_indices = (7,8,9,10,11,20,21,22,23,24,25)\n",
    "\n",
    "for i in list(coil_outer_indices): coil.faces[i].name = 'coil_outer'\n",
    "for i in list(coil_inner_indices): coil.faces[i].name = 'coil_inner'\n",
    "for i in list(coil_up_indices): coil.faces[i].name = 'coil_up'\n",
    "for i in list(coil_down_indices): coil.faces[i].name = 'coil_down'\n",
    "\n",
    "coil.faces[6].name = 'coil_cut_1'\n",
    "coil.faces[12].name = 'coil_cut_2'\n",
    "\n",
    "print(coil.faces[6].mass)\n",
    "\n",
    "coil.mat(\"coil\")\n",
    "r_steel.mat(\"r_steel\")\n",
    "l_steel.mat(\"l_steel\")\n",
    "mid_steel.mat(\"mid_steel\")\n",
    "ambient.mat(\"ambient\")\n",
    "\n",
    "h = 2**0\n",
    "\n",
    "steel_h = 0.1*h\n",
    "\n",
    "for edge in r_steel.edges: edge.maxh = steel_h\n",
    "for edge in l_steel.edges: edge.maxh = steel_h\n",
    "for edge in mid_steel.edges: edge.maxh = steel_h\n",
    "\n",
    "vh = 0.01*h\n",
    "\n",
    "for vertex in r_steel.vertices : vertex.maxh = vh\n",
    "for vertex in l_steel.vertices : vertex.maxh = vh\n",
    "for vertex in mid_steel.vertices : vertex.maxh = vh\n",
    "\n",
    "\n",
    "# ambient.maxh = 0.05\n",
    "# coil.maxh = 0.05\n",
    "\n",
    "##########################################################################\n",
    "# \"Fancy\" coloring cuz why not I got a bit bored :)\n",
    "##########################################################################\n",
    "\n",
    "coil.faces.col = (1,0.5,0)\n",
    "for i in list(coil_outer_indices): coil.faces[i].col = (0.5,0.7,0.4)#(0.5,0.7,1)\n",
    "for i in list(coil_inner_indices): coil.faces[i].col = (0.5,0.7,0.4)\n",
    "for i in list(coil_down_indices): coil.faces[i].col = (0.5,0.7,0.4)#(0.5,0.3,0.4)\n",
    "for i in list(coil_up_indices): coil.faces[i].col = (0.5,0.7,0.4)#(0.5,0.1,0.7)\n",
    "\n",
    "l_steel.faces.col=(1,0.5,1)\n",
    "r_steel.faces.col=(1,0.5,1)\n",
    "mid_steel.faces.col=(1,0.5,1)\n",
    "ambient.faces.col=(1,1,1)\n",
    "\n",
    "##########################################################################\n",
    "# Generating mesh...\n",
    "##########################################################################\n",
    "\n",
    "geoOCC = occ.OCCGeometry(full)\n",
    "# ng.Draw(geoOCC)\n",
    "print('Geometry ... %.2fs'%(time.monotonic()-tm))\n",
    "\n",
    "tm = time.monotonic()\n",
    "geoOCCmesh = geoOCC.GenerateMesh(maxh = h)\n",
    "print('Mesh ... %.2fs' %(time.monotonic()-tm))\n",
    "\n",
    "##########################################################################\n",
    "\n",
    "# print(geoOCCmesh.ne)\n",
    "DrawGeo(full, clipping={\"z\":-1, \"dist\":0.08})\n",
    "Draw(geoOCCmesh, clipping={\"z\":-1, \"dist\":0.08})"
   ]
  },
  {
   "cell_type": "code",
   "execution_count": 2,
   "id": "f5312551",
   "metadata": {},
   "outputs": [],
   "source": [
    "geoOCCmesh.Save('whatever.vol')\n",
    "mesh = ngs.Mesh('whatever.vol')"
   ]
  },
  {
   "cell_type": "code",
   "execution_count": 3,
   "id": "d4c5a451",
   "metadata": {},
   "outputs": [],
   "source": [
    "# mesh.GetBoundaries()"
   ]
  },
  {
   "cell_type": "code",
   "execution_count": 4,
   "id": "0eb0e54f",
   "metadata": {},
   "outputs": [
    {
     "name": "stdout",
     "output_type": "stream",
     "text": [
      "np:  4407\n",
      "nt:  24847 nt/np:  5.638075788518266\n",
      "nf:  49987 nf/np:  11.34263671431813\n",
      "ne:  29546 ne/np:  6.704334014068527\n",
      "159066\n",
      "DOFs for A-based Hcurl formulation after gauging:  125113\n",
      "DOFs for B-based Hdiv formulation with hybridization:  149961\n",
      "DOFs for B-based Hdiv formulation with mass-lumping:  74541\n",
      "Procentage more dofs: 0.5957894063766355\n",
      "159066\n"
     ]
    }
   ],
   "source": [
    "print(\"np: \", mesh.nv)\n",
    "print(\"nt: \", mesh.ne, \"nt/np: \", mesh.ne/mesh.nv)\n",
    "print(\"nf: \", mesh.nface, \"nf/np: \", mesh.nface/mesh.nv)\n",
    "print(\"ne: \", mesh.nedge, \"ne/np: \", mesh.nedge/mesh.nv)\n",
    "\n",
    "order = 2\n",
    "\n",
    "HCurl = ngs.HCurl(mesh = mesh, order = order, type1=True)\n",
    "print(HCurl.ndof)\n",
    "\n",
    "HCurl = ngs.HCurl(mesh = mesh, order = order, type1=True, nograds=True)\n",
    "print(\"DOFs for A-based Hcurl formulation after gauging: \", HCurl.ndof-mesh.nv)\n",
    "\n",
    "print(\"DOFs for B-based Hdiv formulation with hybridization: \", 3*mesh.nface)\n",
    "print(\"DOFs for B-based Hdiv formulation with mass-lumping: \", 3*mesh.ne)\n",
    "\n",
    "print(\"Procentage more dofs:\", (3*mesh.ne)/(HCurl.ndof-mesh.nv))\n",
    "\n",
    "\n",
    "print(2*mesh.nedge + 2*mesh.nface)\n",
    "\n",
    "# help(HCurl)"
   ]
  },
  {
   "cell_type": "code",
   "execution_count": 5,
   "id": "6b9d9a80",
   "metadata": {},
   "outputs": [
    {
     "name": "stdout",
     "output_type": "stream",
     "text": [
      "(129520, 129520) 3663654\n"
     ]
    }
   ],
   "source": [
    "import scipy.sparse as sp\n",
    "\n",
    "u,v = HCurl.TnT()\n",
    "\n",
    "K = ngs.BilinearForm(HCurl)\n",
    "K += ngs.curl(u)*ngs.curl(v)*ngs.dx\n",
    "with ngs.TaskManager(): K.Assemble()\n",
    "rows,cols,vals = K.mat.COO()\n",
    "A = sp.csr_matrix((vals,(rows,cols)))\n",
    "print(A.shape,A.nnz)\n",
    "\n"
   ]
  },
  {
   "cell_type": "markdown",
   "id": "98de515f",
   "metadata": {},
   "source": [
    "We solve $curl(H) = J$, $div(B) = 0$. \n",
    "Under the assumption of simple connectedness of the domain, we have that there exists a vector potential $A$ such that $curl(A) = B$. \n",
    "Together with the material law $H=f'(B)$, we obtain the equation $$curl(f'(curl(A))=J.$$\n",
    "As for the boundary condition, we can choose either $n\\times H=0$ (natural) or $n\\cdot B=0$ (essential). The essential condition translates into $0=n\\cdot curl(A)$\n",
    "\n",
    "Note that the solution to this equation is not unique. For any $\\psi\\in H^1_0$ and solution $A$, we have that $A+\\nabla\\psi$ is again a solution. Further, for compatibility, note that $J$ should satisfy $div\\,J=0$.\n",
    "If additionally we impose $div A = 0$, then any further solution should satisfy $0 = div A + \\Delta\\psi = \\Delta \\psi$, which implies that $\\psi=0$, which makes the solution unique. This is called Coulomb guaging\n",
    "\n",
    "For simplicity, let us consider the linear case where $f'(B)=\\nu_0 B$, i.e. $curl(\\nu\\,curl(A))=J.$"
   ]
  },
  {
   "cell_type": "code",
   "execution_count": 6,
   "id": "5fb9077a",
   "metadata": {},
   "outputs": [
    {
     "data": {
      "text/plain": [
       "'6.2.2402'"
      ]
     },
     "execution_count": 6,
     "metadata": {},
     "output_type": "execute_result"
    }
   ],
   "source": [
    "import ngsolve as ngs\n",
    "ngs.__version__"
   ]
  },
  {
   "cell_type": "markdown",
   "id": "eba115a8",
   "metadata": {},
   "source": [
    "Weak form: $$(f'(curl A), curl \\phi)+(n\\times f'(curl A),(n\\cdot\\psi)\\cdot n)_{\\partial\\Omega} = (J,\\psi)$$"
   ]
  },
  {
   "cell_type": "markdown",
   "id": "bb7c6dc1",
   "metadata": {},
   "source": [
    "crosssection = coil.faces.Max(Z).mass"
   ]
  }
 ],
 "metadata": {
  "kernelspec": {
   "display_name": "Python 3 (ipykernel)",
   "language": "python",
   "name": "python3"
  },
  "language_info": {
   "codemirror_mode": {
    "name": "ipython",
    "version": 3
   },
   "file_extension": ".py",
   "mimetype": "text/x-python",
   "name": "python",
   "nbconvert_exporter": "python",
   "pygments_lexer": "ipython3",
   "version": "3.10.13"
  },
  "widgets": {
   "application/vnd.jupyter.widget-state+json": {
    "state": {
     "undefined": {
      "model_module": "webgui_jupyter_widgets",
      "model_module_version": "2.0.0",
      "model_name": "WebguiModel",
      "state": {
       "_view_name": "ErrorWidgetView",
       "error": {},
       "msg": "Model class 'WebguiModel' from module 'webgui_jupyter_widgets' is loaded but can not be instantiated"
      }
     }
    },
    "version_major": 2,
    "version_minor": 0
   }
  }
 },
 "nbformat": 4,
 "nbformat_minor": 5
}
