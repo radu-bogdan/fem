{
 "cells": [
  {
   "cell_type": "code",
   "execution_count": 1,
   "metadata": {},
   "outputs": [
    {
     "data": {
      "text/plain": [
       "<ngsolve.comp.Mesh at 0x206b4cb3240>"
      ]
     },
     "execution_count": 1,
     "metadata": {},
     "output_type": "execute_result"
    }
   ],
   "source": [
    "import ngsolve as ngs\n",
    "from netgen.webgui import Draw as DrawGeo\n",
    "from ngsolve.webgui import Draw\n",
    "from ngsolve.krylovspace import CGSolver\n",
    "from ttictoc import tic, toc\n",
    "\n",
    "mesh = ngs.Mesh('whatever.vol')\n",
    "\n",
    "# mesh.Refine()\n",
    "mesh.Curve(3)"
   ]
  },
  {
   "cell_type": "code",
   "execution_count": 2,
   "metadata": {},
   "outputs": [
    {
     "name": "stdout",
     "output_type": "stream",
     "text": [
      "using 3d mesh with ne= 63966  elements and nv= 11092  points\n",
      "Solving...\n",
      "Number of iterations = 2980/10000 | Residual = 9.98430314643603e-06\n",
      "2999.9999999999886\n",
      "Solving...\n",
      "Number of iterations = 789/10000 | Residual = 9.83900277470855e-06\n",
      "2999.999994803527\n"
     ]
    }
   ],
   "source": [
    "%run J.ipynb"
   ]
  },
  {
   "cell_type": "code",
   "execution_count": 3,
   "metadata": {},
   "outputs": [],
   "source": [
    "from bhdata import BHCurves\n",
    "# fun_dw  = BHCurves(3)\n",
    "# fun_w   = fun_dw.Integrate()\n",
    "# fun_ddw = fun_dw.Differentiate()\n",
    "\n",
    "from bhdata import Brauer, BrauerCut\n",
    "fun_w, fun_dw, fun_ddw  = BrauerCut()\n",
    "\n",
    "mu0 = 1.256636e-6\n",
    "nu0 = 1/mu0\n",
    "\n",
    "linear = \"coil|ambient|default\"\n",
    "nonlinear = \"r_steel|l_steel|mid_steel\"\n",
    "\n",
    "lin = 0"
   ]
  },
  {
   "cell_type": "code",
   "execution_count": 4,
   "metadata": {},
   "outputs": [],
   "source": [
    "# print(HCurl.ndof)\n",
    "# print(mesh.GetMaterials())\n",
    "\n",
    "HCurl = ngs.HCurl(mesh, order = deg, nograds = True, dirichlet = 'ambient_face')\n",
    "# HCurl = ngs.HCurl(mesh, order = deg, nograds = True)\n",
    "u,v = HCurl.TnT()\n",
    "\n",
    "\n",
    "# Nonlinear:\n",
    "\n",
    "maxit = 2000\n",
    "tol2 = 1e-12\n",
    "regb = 1e-8\n",
    "\n",
    "A = ngs.GridFunction(HCurl)\n",
    "B = ngs.curl(A)\n",
    "normB = ngs.sqrt(B*B + regb)\n",
    "\n",
    "\n",
    "if lin == 1: cf_energy = mesh.MaterialCF({linear: nu0/2*B*B, nonlinear: nu0/2*B*B}, default = nu0/2*B*B).Compile()\n",
    "else: cf_energy = mesh.MaterialCF({linear: nu0/2*B*B, nonlinear: fun_w(normB)}, default = nu0/2*B*B).Compile()\n",
    "\n",
    "def fun_W():\n",
    "    with ngs.TaskManager(): res = ngs.Integrate(cf_energy - ngs.curl(A)*Hs, mesh, order = 2*deg)\n",
    "    # with ngs.TaskManager(): res = ngs.Integrate(cf_energy - ngs.curl(Hs)*A, mesh)\n",
    "    return res\n",
    "\n",
    "ir = ngs.IntegrationRule(ngs.fem.ET.TET, order = 2*deg)\n",
    "\n",
    "\n",
    "if lin == 1: cf_rhs = mesh.MaterialCF({linear: nu0, nonlinear: nu0}, default = nu0).Compile()\n",
    "else: cf_rhs = mesh.MaterialCF({linear: nu0, nonlinear: fun_dw(normB)/normB}, default = nu0).Compile()\n",
    "\n",
    "rhs = ngs.LinearForm(HCurl)\n",
    "rhs += ngs.SymbolicLFI(cf_rhs*B*ngs.curl(v) - ngs.curl(v)*Hs, intrule = ir)\n",
    "\n",
    "# rhs = ngs.LinearForm((cf_rhs*B*ngs.curl(v) - ngs.curl(v)*Hs)*ngs.dx)\n",
    "# rhs = ngs.LinearForm((cf_rhs*B*ngs.curl(v) - ngs.curl(Hs)*v)*ngs.dx)\n",
    "\n",
    "def fun_dW(): #implicitly depending on A!\n",
    "    with ngs.TaskManager(): rhs.Assemble()\n",
    "    return rhs\n",
    "\n",
    "\n",
    "Id = ngs.CF((1,0,0,\n",
    "             0,1,0,\n",
    "             0,0,1), dims=(3,3))\n",
    "\n",
    "BBt = ngs.CF((B[0]*B[0], B[0]*B[1], B[0]*B[2],\n",
    "              B[1]*B[0], B[1]*B[1], B[1]*B[2],\n",
    "              B[2]*B[0], B[2]*B[1], B[2]*B[2]), dims = (3,3))\n",
    "\n",
    "\n",
    "fun1 = fun_dw(normB)/normB\n",
    "fun2 = (fun_ddw(normB) - fun_dw(normB)/normB)/(normB*normB)\n",
    "\n",
    "if lin == 1: cf_iter = mesh.MaterialCF({linear: nu0*Id, nonlinear: nu0*Id}, default = nu0*Id).Compile()\n",
    "else: cf_iter = mesh.MaterialCF({linear: nu0*Id, nonlinear: fun1*Id + fun2*BBt}, default = nu0*Id).Compile()\n",
    "\n",
    "K_iter = ngs.BilinearForm(HCurl)\n",
    "K_iter += ngs.SymbolicBFI(cf_iter*ngs.curl(u)*ngs.curl(v), intrule = ir)\n",
    "# K_iter += (cf_iter*ngs.curl(u)*ngs.curl(v))*ngs.dx\n",
    "C_iter = ngs.Preconditioner(K_iter, type = \"local\")\n",
    "\n",
    "def fun_ddW():\n",
    "    with ngs.TaskManager(): K_iter.Assemble()\n",
    "    return K_iter\n"
   ]
  },
  {
   "cell_type": "code",
   "execution_count": 5,
   "metadata": {},
   "outputs": [
    {
     "name": "stdout",
     "output_type": "stream",
     "text": [
      "Using 3D mesh with ne= 63966 elements and nv= 11092 points and  908625 DOFs.\n",
      " \n",
      "Iter:  1 | assem : 6.15s | CG took 24.48s with 1118 iterations | alpha : 0.50 | energy = 0.0000000003 | relres = 1.00e+00 |\n",
      "Iter:  2 | assem : 6.00s | CG took 22.27s with 1041 iterations | alpha : 1.00 | energy = -1.2615011758 | relres = 1.25e-01 |\n",
      "Iter:  3 | assem : 5.92s | CG took 18.52s with  880 iterations | alpha : 1.00 | energy = -1.4302583202 | relres = 1.88e-02 |\n",
      "Iter:  4 | assem : 5.93s | CG took 19.92s with  938 iterations | alpha : 1.00 | energy = -1.4640375023 | relres = 2.20e-03 |\n",
      "Iter:  5 | assem : 6.04s | CG took 19.58s with  888 iterations | alpha : 1.00 | energy = -1.4684062257 | relres = 2.55e-04 |\n",
      "Iter:  6 | assem : 6.20s | CG took 18.30s with  794 iterations | alpha : 1.00 | energy = -1.4689200862 | relres = 3.52e-05 |\n",
      "Iter:  7 | assem : 6.46s | CG took 17.43s with  745 iterations | alpha : 1.00 | energy = -1.4689900606 | relres = 2.96e-06 |\n",
      "Iter:  8 | assem : 6.73s | CG took 16.38s with  735 iterations | alpha : 1.00 | energy = -1.4689956232 | relres = 7.39e-08 |\n",
      "Iter:  9 | assem : 6.46s | CG took 15.76s with  713 iterations | alpha : 1.00 | energy = -1.4689957556 | relres = 2.27e-10 |\n",
      "Iter: 10 | assem : 7.41s | CG took 16.14s with  711 iterations | alpha : 1.00 | energy = -1.4689957560 | relres = 1.41e-14 |\n",
      "... Failure!\n",
      "converged to desired tolerance\n"
     ]
    }
   ],
   "source": [
    "print(\"Using 3D mesh with ne=\", mesh.ne, \"elements and nv=\", mesh.nv, \"points and \" ,HCurl.ndof, \"DOFs.\\n \")\n",
    "\n",
    "with ngs.TaskManager(): A.Set(ngs.CF((0,0,0)))\n",
    "\n",
    "du = ngs.GridFunction(HCurl)\n",
    "uo = ngs.GridFunction(HCurl)\n",
    "wo = 1e12\n",
    "\n",
    "for it in range(1,maxit+1):\n",
    "    tic()\n",
    "    # with ngs.TaskManager():\n",
    "    #     K_iter.Assemble()\n",
    "    #     rhs.Assemble()\n",
    "    #     res = ngs.Integrate(cf_energy - Hs*ngs.curl(A), mesh)\n",
    "    \n",
    "    w  = fun_W()\n",
    "    dw = fun_dW()\n",
    "    da = fun_ddW()\n",
    "    tm1 = toc()\n",
    "    \n",
    "    tic()\n",
    "    # du.vec.data = da.mat.Inverse(HCurl.FreeDofs(), inverse=\"sparsecholesky\") * dw.vec \n",
    "    # iterativeSolver = CGSolver(K_iter.mat, freedofs = HCurl.FreeDofs(), atol = 1e-2,  maxiter = maxit, printrates = False)\n",
    "    with ngs.TaskManager():\n",
    "        iterativeSolver = CGSolver(K_iter.mat, pre = C_iter.mat, tol  = 1e-8,  maxiter = maxit)\n",
    "        du.vec.data = iterativeSolver * dw.vec\n",
    "        # du.vec.data = da.mat.Inverse(HCurl.FreeDofs(), inverse=\"sparsecholesky\") * dw.vec \n",
    "    \n",
    "    if len(iterativeSolver.residuals) == maxit: print(\"... Failure!\")\n",
    "    # print(f\"Number of iterations = {iterativeSolver.iterations}/{maxit} | Residual = {iterativeSolver.residuals[-1]}\")\n",
    "    tm2 = toc()\n",
    "\n",
    "    nrm = ngs.InnerProduct(du.vec,dw.vec)\n",
    "    \n",
    "    if it == 1:\n",
    "        nrm0 = nrm\n",
    "    \n",
    "    # wn = 1e12\n",
    "    if abs(wo-w) < tol2:\n",
    "    # if abs(wn-w) < tol2:\n",
    "    # if nrm/nrm0 < tol2:\n",
    "        print(\"converged to desired tolerance\")\n",
    "        break\n",
    "    # elif abs(wo-w) < tol2*1e-2:\n",
    "    #     print(\"stopped early due to stagnation\")\n",
    "    #     break\n",
    "    else:\n",
    "        # linesearch\n",
    "        uo.vec.data = A.vec.data\n",
    "        wo = w\n",
    "        alpha = 1\n",
    "        for init in range(1,21):\n",
    "            A.vec.data -= alpha*du.vec.data\n",
    "            wn = fun_W()\n",
    "            if wn < w - alpha*0.1*nrm:\n",
    "                print(\"Iter: %2d | assem : %.2fs | CG took %.2fs with %4d iterations | alpha : %.2f | energy = %.10f | relres = %.2e |\"  %(it,tm1,tm2,iterativeSolver.iterations,alpha,w,nrm/nrm0))\n",
    "                break\n",
    "            else:\n",
    "                alpha = alpha/2\n",
    "                A.vec.data = uo.vec.data"
   ]
  },
  {
   "cell_type": "code",
   "execution_count": 10,
   "metadata": {},
   "outputs": [
    {
     "data": {
      "text/plain": [
       "'B3'"
      ]
     },
     "execution_count": 10,
     "metadata": {},
     "output_type": "execute_result"
    }
   ],
   "source": [
    "scalars = mesh.MaterialCF({\"coil\" : 1, \"mid_steel|l_steel|r_steel\" : 2}, default = 0)\n",
    "L2 = ngs.L2(mesh, order = 0)\n",
    "scal = ngs.GridFunction(L2)\n",
    "scal.Set(scalars)\n",
    "\n",
    "normB = ngs.sqrt(B*B + 1e-8)\n",
    "H = B*mesh.MaterialCF({linear: nu0, nonlinear: fun_dw(normB)/normB}, default = nu0).Compile()\n",
    "\n",
    "vtk = ngs.VTKOutput(mesh, coefs = [B,H,ngs.curl(Hs),scal],names = [\"B\",\"H\",\"J\",\"scalars\"], filename = \"B3\", order = 2)\n",
    "vtk.Do()"
   ]
  },
  {
   "cell_type": "code",
   "execution_count": 7,
   "metadata": {},
   "outputs": [
    {
     "data": {
      "application/vnd.jupyter.widget-view+json": {
       "model_id": "be0ff0d01cfa4567b2dcfe147de8d410",
       "version_major": 2,
       "version_minor": 0
      },
      "text/plain": [
       "EmbeddableWidget(value='<iframe srcdoc=\"<!DOCTYPE html>\\n<html>\\n  <head>\\n    <meta http-equiv=&quot;Content-…"
      ]
     },
     "metadata": {},
     "output_type": "display_data"
    }
   ],
   "source": [
    "import pyvista as pv\n",
    "pv.global_theme.cmap = 'jet'\n",
    "\n",
    "pvmesh = pv.read(\"B3.vtu\")\n",
    "pvmesh.set_active_scalars(\"scalars\")\n",
    "pvmesh.set_active_vectors(\"B\")\n",
    "threshed = pvmesh.threshold([0.7,1.6])\n",
    "# threshed.set_active_scalars(\"scalars\")\n",
    "\n",
    "p = pv.Plotter()\n",
    "p.add_mesh(threshed, style = 'surface', color = \"w\", opacity = 0, label = None)\n",
    "threshed = pvmesh.threshold([1.2,3.1])\n",
    "p.add_mesh(threshed, scalars = \"B\")\n",
    "\n",
    "arrows = pvmesh.glyph(scale = \"B\", orient = True, tolerance = 0.01, factor = 0.01) #0.8\n",
    "p.add_mesh(arrows, color = \"orange\")\n",
    "\n",
    "pvmesh.set_active_vectors(\"J\")\n",
    "arrows2 = pvmesh.glyph(scale = \"J\", orient = True, tolerance = 0.001, factor = 1*1e-8)\n",
    "p.add_mesh(arrows2, color = \"black\")\n",
    "\n",
    "p.show(jupyter_backend = \"html\")\n",
    "# p.show()"
   ]
  },
  {
   "cell_type": "code",
   "execution_count": 8,
   "metadata": {},
   "outputs": [
    {
     "name": "stdout",
     "output_type": "stream",
     "text": [
      "0.0003612008775077082\n",
      "-1.468995755971984\n"
     ]
    }
   ],
   "source": [
    "print(ngs.Integrate(ngs.Norm(B),mesh))\n",
    "print(fun_W())"
   ]
  },
  {
   "cell_type": "code",
   "execution_count": 9,
   "metadata": {},
   "outputs": [
    {
     "data": {
      "text/html": [
       "<table style='width: 100%;'><tr><th>Header</th><th>Data Arrays</th></tr><tr><td>\n",
       "<table style='width: 100%;'>\n",
       "<tr><th>UnstructuredGrid</th><th>Information</th></tr>\n",
       "<tr><td>N Cells</td><td>63966</td></tr>\n",
       "<tr><td>N Points</td><td>639660</td></tr>\n",
       "<tr><td>X Bounds</td><td>-2.000e-01, 2.000e-01</td></tr>\n",
       "<tr><td>Y Bounds</td><td>-2.000e-01, 2.000e-01</td></tr>\n",
       "<tr><td>Z Bounds</td><td>-1.000e-01, 1.000e-01</td></tr>\n",
       "<tr><td>N Arrays</td><td>3</td></tr>\n",
       "</table>\n",
       "\n",
       "</td><td>\n",
       "<table style='width: 100%;'>\n",
       "<tr><th>Name</th><th>Field</th><th>Type</th><th>N Comp</th><th>Min</th><th>Max</th></tr>\n",
       "<tr><td>B</td><td>Points</td><td>float64</td><td>3</td><td>-2.486e+00</td><td>3.052e+00</td></tr>\n",
       "<tr><td><b>J</b></td><td>Points</td><td>float64</td><td>3</td><td>-1.555e+06</td><td>1.516e+06</td></tr>\n",
       "<tr><td>scalars</td><td>Points</td><td>float64</td><td>1</td><td>0.000e+00</td><td>2.000e+00</td></tr>\n",
       "</table>\n",
       "\n",
       "</td></tr> </table>"
      ],
      "text/plain": [
       "UnstructuredGrid (0x2074d919780)\n",
       "  N Cells:    63966\n",
       "  N Points:   639660\n",
       "  X Bounds:   -2.000e-01, 2.000e-01\n",
       "  Y Bounds:   -2.000e-01, 2.000e-01\n",
       "  Z Bounds:   -1.000e-01, 1.000e-01\n",
       "  N Arrays:   3"
      ]
     },
     "execution_count": 9,
     "metadata": {},
     "output_type": "execute_result"
    }
   ],
   "source": [
    "pvmesh"
   ]
  }
 ],
 "metadata": {
  "kernelspec": {
   "display_name": "pdefem",
   "language": "python",
   "name": "python3"
  },
  "language_info": {
   "codemirror_mode": {
    "name": "ipython",
    "version": 3
   },
   "file_extension": ".py",
   "mimetype": "text/x-python",
   "name": "python",
   "nbconvert_exporter": "python",
   "pygments_lexer": "ipython3",
   "version": "3.10.13"
  }
 },
 "nbformat": 4,
 "nbformat_minor": 2
}
