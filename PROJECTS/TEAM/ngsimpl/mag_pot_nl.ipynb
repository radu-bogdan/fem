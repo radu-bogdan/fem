{
 "cells": [
  {
   "cell_type": "code",
   "execution_count": 34,
   "metadata": {},
   "outputs": [
    {
     "data": {
      "text/plain": [
       "<ngsolve.comp.Mesh at 0x113cd8dd0>"
      ]
     },
     "execution_count": 34,
     "metadata": {},
     "output_type": "execute_result"
    }
   ],
   "source": [
    "import ngsolve as ngs\n",
    "from netgen.webgui import Draw as DrawGeo\n",
    "from ngsolve.webgui import Draw\n",
    "from ngsolve.krylovspace import CGSolver\n",
    "from ttictoc import tic, toc\n",
    "\n",
    "mesh = ngs.Mesh('whatever.vol')\n",
    "mesh.Curve(2)\n",
    "# mesh.Refine()"
   ]
  },
  {
   "cell_type": "code",
   "execution_count": 35,
   "metadata": {},
   "outputs": [
    {
     "name": "stdout",
     "output_type": "stream",
     "text": [
      "using 3d mesh with ne= 494988  elements and nv= 85316  points\n",
      "Solving...\n",
      "... Success!\n",
      "Number of iterations = 558/1000 | Residual = 9.935128322942854e-06\n",
      "999.9999999999959\n",
      "Solving...\n",
      "... Success!\n",
      "Number of iterations = 641/1000 | Residual = 9.9234432391929e-06\n",
      "1000.0003712683572\n"
     ]
    }
   ],
   "source": [
    "%run J.ipynb"
   ]
  },
  {
   "cell_type": "code",
   "execution_count": 36,
   "metadata": {},
   "outputs": [
    {
     "name": "stdout",
     "output_type": "stream",
     "text": [
      "BH data from TEAM 13 problem\n",
      "returning energy\n"
     ]
    }
   ],
   "source": [
    "from bhdata import BHCurves\n",
    "fun_dw  = BHCurves(4)\n",
    "fun_w   = fun_dw.Integrate()\n",
    "fun_ddw = fun_dw.Differentiate()\n",
    "\n",
    "mu0 = 1.256636e-6\n",
    "nu0 = 1/mu0\n",
    "\n",
    "linear = \"coil|ambient|default\"\n",
    "nonlinear = \"r_steel|l_steel|mid_steel\""
   ]
  },
  {
   "cell_type": "code",
   "execution_count": 37,
   "metadata": {},
   "outputs": [],
   "source": [
    "# print(HCurl.ndof)\n",
    "# print(mesh.GetMaterials())\n",
    "\n",
    "p = 1\n",
    "\n",
    "HCurl = ngs.HCurl(mesh, order = p, nograds = True)\n",
    "u,v = HCurl.TnT()\n",
    "\n",
    "\n",
    "# Nonlinear:\n",
    "\n",
    "maxit = 10000\n",
    "tol2 = 1e-8\n",
    "regb = 1e-12\n",
    "\n",
    "A = ngs.GridFunction(HCurl)\n",
    "B = ngs.curl(A)\n",
    "normB = ngs.sqrt(B*B + regb)\n",
    "\n",
    "\n",
    "\n",
    "cf_energy = mesh.MaterialCF({linear: nu0/2*B*B, nonlinear: fun_w(normB)}, default = nu0/2*B*B).Compile()\n",
    "def fun_W():\n",
    "    with ngs.TaskManager(): res = ngs.Integrate(cf_energy - Hs*ngs.curl(A), mesh)\n",
    "    return res\n",
    "\n",
    "\n",
    "\n",
    "cf_rhs = mesh.MaterialCF({linear: nu0, nonlinear: fun_dw(normB)/normB}, default = nu0).Compile()\n",
    "# Draw(mu_nl, mesh)\n",
    "# rhs = ngs.LinearForm(- (Hs*ngs.curl(v))*ngs.dx)\n",
    "# rhs = ngs.LinearForm(- (ngs.curl(Hs)*v)*ngs.dx)\n",
    "rhs = ngs.LinearForm((cf_rhs*B*ngs.curl(v) - Hs*ngs.curl(v))*ngs.dx)\n",
    "\n",
    "def fun_dW(): #implicitly depending on A!\n",
    "    with ngs.TaskManager(): rhs.Assemble()\n",
    "    return rhs\n",
    "\n",
    "\n",
    "Id = ngs.CF((1,0,0,\n",
    "             0,1,0,\n",
    "             0,0,1), dims=(3,3))\n",
    "\n",
    "BBt = ngs.CF((B[0]*B[0], B[0]*B[1], B[0]*B[2],\n",
    "              B[1]*B[0], B[1]*B[1], B[1]*B[2],\n",
    "              B[2]*B[0], B[2]*B[1], B[2]*B[2]), dims = (3,3))\n",
    "\n",
    "\n",
    "fun1 = fun_dw(normB)/normB\n",
    "fun2 = (fun_ddw(normB) - fun_dw(normB)/normB)/(normB*normB)\n",
    "\n",
    "cf_iter = mesh.MaterialCF({linear: nu0*Id, nonlinear: fun1*Id + fun2*BBt}, default = nu0*Id).Compile()\n",
    "\n",
    "K_iter = ngs.BilinearForm(HCurl)\n",
    "K_iter += (cf_iter*ngs.curl(u)*ngs.curl(v))*ngs.dx\n",
    "C_iter = ngs.Preconditioner(K_iter, type = \"local\")\n",
    "\n",
    "def fun_ddW():\n",
    "    with ngs.TaskManager(): K_iter.Assemble()\n",
    "    return K_iter\n"
   ]
  },
  {
   "cell_type": "code",
   "execution_count": 38,
   "metadata": {},
   "outputs": [
    {
     "name": "stdout",
     "output_type": "stream",
     "text": [
      "Using 3D mesh with ne= 494988 elements and nv= 85316 points and  580733 DOFs.\n",
      " \n",
      "Iter:  1 | assem : 1.65s | CG took 0.69s with  151 iterations | alpha : 1.00 | energy = 0.0000000000 | relres = 1.00e+00 |\n",
      "Iter:  2 | assem : 1.29s | CG took 1.64s with  430 iterations | alpha : 1.00 | energy = -0.1332617922 | relres = 8.25e-01 |\n",
      "Iter:  3 | assem : 1.34s | CG took 0.54s with  119 iterations | alpha : 1.00 | energy = -0.2017832001 | relres = 1.42e-01 |\n",
      "Iter:  4 | assem : 1.67s | CG took 0.68s with  160 iterations | alpha : 1.00 | energy = -0.2191054049 | relres = 1.24e-02 |\n",
      "Iter:  5 | assem : 1.43s | CG took 0.18s with   43 iterations | alpha : 1.00 | energy = -0.2207015378 | relres = 4.53e-03 |\n",
      "Iter:  6 | assem : 1.39s | CG took 0.56s with  128 iterations | alpha : 1.00 | energy = -0.2212880783 | relres = 8.47e-04 |\n",
      "Iter:  7 | assem : 1.39s | CG took 0.66s with  162 iterations | alpha : 0.50 | energy = -0.2213899066 | relres = 1.63e-04 |\n",
      "Iter:  8 | assem : 1.33s | CG took 0.66s with  163 iterations | alpha : 0.50 | energy = -0.2213996284 | relres = 6.12e-05 |\n",
      "Iter:  9 | assem : 1.46s | CG took 0.74s with  151 iterations | alpha : 0.50 | energy = -0.2214031928 | relres = 3.82e-05 |\n",
      "Iter: 10 | assem : 1.47s | CG took 0.76s with  166 iterations | alpha : 0.50 | energy = -0.2214047863 | relres = 2.38e-05 |\n",
      "Iter: 11 | assem : 1.34s | CG took 0.29s with   80 iterations | alpha : 0.50 | energy = -0.2214055076 | relres = 1.84e-05 |\n",
      "Iter: 12 | assem : 1.33s | CG took 0.35s with   89 iterations | alpha : 0.25 | energy = -0.2214058312 | relres = 1.26e-05 |\n",
      "Iter: 13 | assem : 1.34s | CG took 0.68s with  135 iterations | alpha : 1.00 | energy = -0.2214063665 | relres = 5.06e-07 |\n",
      "Iter: 14 | assem : 2.50s | CG took 0.32s with   64 iterations | alpha : 1.00 | energy = -0.2214064178 | relres = 2.27e-08 |\n",
      "converged to desired tolerance\n"
     ]
    }
   ],
   "source": [
    "print(\"Using 3D mesh with ne=\", mesh.ne, \"elements and nv=\", mesh.nv, \"points and \" ,HCurl.ndof, \"DOFs.\\n \")\n",
    "\n",
    "with ngs.TaskManager(): A.Set(ngs.CF((0,0,0)))\n",
    "\n",
    "du = ngs.GridFunction(HCurl)\n",
    "uo = ngs.GridFunction(HCurl)\n",
    "wo = 1e12\n",
    "\n",
    "for it in range(1,maxit+1):\n",
    "    tic()\n",
    "    # with ngs.TaskManager():\n",
    "    #     K_iter.Assemble()\n",
    "    #     rhs.Assemble()\n",
    "    #     res = ngs.Integrate(cf_energy - Hs*ngs.curl(A), mesh)\n",
    "    \n",
    "    w  = fun_W()\n",
    "    dw = fun_dW()\n",
    "    da = fun_ddW()\n",
    "    tm1 = toc()\n",
    "    \n",
    "    tic()\n",
    "    # du.vec.data = da.mat.Inverse(HCurl.FreeDofs(), inverse=\"sparsecholesky\") * dw.vec \n",
    "    # iterativeSolver = CGSolver(K_iter.mat, freedofs = HCurl.FreeDofs(), atol = 1e-2,  maxiter = maxit, printrates = False)\n",
    "    with ngs.TaskManager():\n",
    "        iterativeSolver = CGSolver(K_iter.mat, pre = C_iter.mat, tol  = 1e-2,  maxiter = maxit)\n",
    "        du.vec.data = iterativeSolver * dw.vec \n",
    "    \n",
    "    if len(iterativeSolver.residuals) == maxit: print(\"... Success!\")\n",
    "    # print(f\"Number of iterations = {iterativeSolver.iterations}/{maxit} | Residual = {iterativeSolver.residuals[-1]}\")\n",
    "    tm2 = toc()\n",
    "\n",
    "    nrm = ngs.InnerProduct(du.vec,dw.vec)\n",
    "    \n",
    "    if it == 1:\n",
    "        nrm0 = nrm\n",
    "    \n",
    "    # wn = 1e12\n",
    "    # if abs(wn-w) < tol2:\n",
    "    if nrm/nrm0 < tol2:\n",
    "        print(\"converged to desired tolerance\")\n",
    "        break\n",
    "    elif abs(wo-w) < tol2*1e-2:\n",
    "        print(\"stopped early due to stagnation\")\n",
    "        break\n",
    "    else:\n",
    "        # linesearch\n",
    "        uo.vec.data = A.vec.data\n",
    "        wo = w\n",
    "        alpha = 1\n",
    "        for init in range(1,21):\n",
    "            A.vec.data -= alpha*du.vec.data\n",
    "            wn = fun_W()\n",
    "            if wn < w - alpha*0.1*nrm:\n",
    "                print(\"Iter: %2d | assem : %.2fs | CG took %.2fs with %4d iterations | alpha : %.2f | energy = %.10f | relres = %.2e |\"  %(it,tm1,tm2,iterativeSolver.iterations,alpha,w,nrm/nrm0))\n",
    "                break\n",
    "            else:\n",
    "                alpha = alpha/2\n",
    "                A.vec.data = uo.vec.data"
   ]
  },
  {
   "cell_type": "code",
   "execution_count": 39,
   "metadata": {},
   "outputs": [
    {
     "name": "stdout",
     "output_type": "stream",
     "text": [
      "1.5668634221796363\n"
     ]
    },
    {
     "data": {
      "text/plain": [
       "[<matplotlib.lines.Line2D at 0x158128590>]"
      ]
     },
     "execution_count": 39,
     "metadata": {},
     "output_type": "execute_result"
    },
    {
     "data": {
      "image/png": "[encoded data removed]",
      "text/plain": [
       "<Figure size 640x480 with 1 Axes>"
      ]
     },
     "metadata": {},
     "output_type": "display_data"
    }
   ],
   "source": [
    "L2 = ngs.L2(mesh, dim=3, order = 3)\n",
    "BB = ngs.GridFunction(L2)\n",
    "\n",
    "with ngs.TaskManager(): BB.Set(B)\n",
    "BBnp = BB.vec.FV().NumPy()\n",
    "# HCurl.ndof\n",
    "\n",
    "Avec = A.vec.FV().NumPy()\n",
    "\n",
    "\n",
    "import matplotlib.pyplot as plt\n",
    "import numpy as np\n",
    "\n",
    "print(max(abs(BBnp)))\n",
    "# print(BBnp.size,mesh.ne)\n",
    "\n",
    "plt.plot((BBnp))"
   ]
  },
  {
   "cell_type": "code",
   "execution_count": 40,
   "metadata": {},
   "outputs": [
    {
     "data": {
      "text/plain": [
       "30.0"
      ]
     },
     "execution_count": 40,
     "metadata": {},
     "output_type": "execute_result"
    }
   ],
   "source": [
    "# Draw(B, mesh, clipping={\"z\":-1, \"dist\":0.064})\n",
    "mesh.ne\n",
    "(Bl2np.size)/(mesh.ne)"
   ]
  },
  {
   "cell_type": "code",
   "execution_count": 41,
   "metadata": {},
   "outputs": [
    {
     "data": {
      "text/plain": [
       "array([ 1.30020580e-02,  3.65819319e-19, -3.12922714e-19, ...,\n",
       "       -3.11064207e-19,  3.93732630e-19,  1.41642268e-18])"
      ]
     },
     "execution_count": 41,
     "metadata": {},
     "output_type": "execute_result"
    }
   ],
   "source": [
    "Bl2np"
   ]
  },
  {
   "cell_type": "code",
   "execution_count": null,
   "metadata": {},
   "outputs": [],
   "source": []
  }
 ],
 "metadata": {
  "kernelspec": {
   "display_name": "pdefem",
   "language": "python",
   "name": "python3"
  },
  "language_info": {
   "codemirror_mode": {
    "name": "ipython",
    "version": 3
   },
   "file_extension": ".py",
   "mimetype": "text/x-python",
   "name": "python",
   "nbconvert_exporter": "python",
   "pygments_lexer": "ipython3",
   "version": "3.11.7"
  }
 },
 "nbformat": 4,
 "nbformat_minor": 2
}
