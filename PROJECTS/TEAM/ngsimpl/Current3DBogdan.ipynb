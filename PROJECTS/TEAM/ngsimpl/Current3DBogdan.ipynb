{
 "cells": [
  {
   "cell_type": "code",
   "execution_count": null,
   "id": "17fd608e-7b6c-48f6-a508-0d4d8c0da3a0",
   "metadata": {},
   "outputs": [],
   "source": [
    "import netgen.occ as occ\n",
    "from ngsolve import *\n",
    "from ngsolve.internal import *\n",
    "import numpy as np\n",
    "import matplotlib.pyplot as plt\n",
    "from ngsolve.krylovspace import CGSolver\n",
    "from ngsolve.webgui import Draw\n",
    "from netgen.webgui import Draw as DrawGeo\n",
    "import time as t\n",
    "\n",
    "geo=occ.Cylinder(p=occ.Pnt(0,0,0),d=occ.Dir((0,0,1)),r=1,h=1)-occ.Cylinder(p=occ.Pnt(0,0,0),d=occ.Dir((0,0,1)),r=0.5,h=1)\n",
    "\n",
    "geo.faces[0].name = \"Zp\"\n",
    "geo.faces[1].name = \"bot\"\n",
    "geo.faces[2].name = \"up\"\n",
    "geo.faces[3].name = \"Zm\"\n",
    "\n",
    "geo = occ.OCCGeometry(geo)\n",
    "simplemesh = geo.GenerateMesh(maxh=0.1)\n",
    "simplemesh= Mesh(simplemesh)\n",
    "Draw(simplemesh)"
   ]
  },
  {
   "cell_type": "code",
   "execution_count": null,
   "id": "89247c01-2607-401b-9a04-ba4884bbc04d",
   "metadata": {},
   "outputs": [],
   "source": [
    "fesVectorPotential = HCurl(simplemesh, dirichlet = \"Zp|Zm|up|bot\")\n",
    "TotalCurrent = 1\n",
    "    \n",
    "normal = specialcf.normal(simplemesh.dim)\n",
    "gfuDirichlet = GridFunction(fesVectorPotential)\n",
    "g = CF([(0,0,TotalCurrent) if bc==\"Zm\" else (0,0,0) for bc in simplemesh.GetBoundaries()])\n",
    "gfuDirichlet.Set(g,BND)\n",
    "\n",
    "Draw(gfuDirichlet, simplemesh, vectors = { \"grid_size\":200},clipping = {\"x\" : 0, \"y\" : -1, \"z\" : 0, \"dist\" : 0})"
   ]
  },
  {
   "cell_type": "code",
   "execution_count": null,
   "id": "7070829a-20f6-4c23-bfc6-d60c4c34d15a",
   "metadata": {},
   "outputs": [],
   "source": [
    "    # Weak form\n",
    "T = fesVectorPotential.TrialFunction()\n",
    "Tstar = fesVectorPotential.TestFunction()\n",
    "Kt = BilinearForm(curl(Tstar)*curl(T)*dx)\n",
    "    \n",
    "    # Assembly\n",
    "#with TaskManager():\n",
    "Kt.Assemble()\n",
    "\n",
    "r = - Kt.mat * gfuDirichlet.vec\n",
    "\n",
    "    # Solving\n",
    "maxres = 1e-8\n",
    "maxit = 1000\n",
    "\n",
    "Tsol = GridFunction(fesVectorPotential)\n",
    "print(\"Solving...\")\n",
    "#with TaskManager():\n",
    "iterativeSolver = CGSolver(Kt.mat, freedofs=fesVectorPotential.FreeDofs(), tol  = maxres,  maxiter  = maxit)\n",
    "Tsol.vec.data = iterativeSolver * r + gfuDirichlet.vec\n",
    "\n",
    "if len(iterativeSolver.residuals)==maxit: print(\"... Failure!\")\n",
    "else: print(\"... Success!\")\n",
    "print(f\"Number of iterations = {iterativeSolver.iterations}/{maxit} | Residual = {iterativeSolver.residuals[-1]}\")\n",
    "\n",
    "Draw(curl(Tsol), simplemesh,vectors = { \"grid_size\":50},clipping = {\"x\" : 0, \"y\" : 0, \"z\" : 1, \"dist\" : 0})"
   ]
  },
  {
   "cell_type": "code",
   "execution_count": null,
   "id": "0734889d",
   "metadata": {},
   "outputs": [],
   "source": []
  },
  {
   "cell_type": "code",
   "execution_count": null,
   "id": "6ab09893",
   "metadata": {},
   "outputs": [],
   "source": []
  },
  {
   "cell_type": "code",
   "execution_count": null,
   "id": "530707b8",
   "metadata": {},
   "outputs": [],
   "source": []
  },
  {
   "cell_type": "code",
   "execution_count": null,
   "id": "566f952b",
   "metadata": {},
   "outputs": [],
   "source": []
  }
 ],
 "metadata": {
  "kernelspec": {
   "display_name": "Python 3 (ipykernel)",
   "language": "python",
   "name": "python3"
  },
  "language_info": {
   "codemirror_mode": {
    "name": "ipython",
    "version": 3
   },
   "file_extension": ".py",
   "mimetype": "text/x-python",
   "name": "python",
   "nbconvert_exporter": "python",
   "pygments_lexer": "ipython3",
   "version": "3.10.13"
  }
 },
 "nbformat": 4,
 "nbformat_minor": 5
}
