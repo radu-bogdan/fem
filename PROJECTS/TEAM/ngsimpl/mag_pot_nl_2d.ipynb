{
 "cells": [
  {
   "cell_type": "code",
   "execution_count": 41,
   "metadata": {},
   "outputs": [
    {
     "data": {
      "text/plain": [
       "<ngsolve.comp.Mesh at 0x166c666ecf0>"
      ]
     },
     "execution_count": 41,
     "metadata": {},
     "output_type": "execute_result"
    }
   ],
   "source": [
    "import ngsolve as ngs\n",
    "from netgen.webgui import Draw as DrawGeo\n",
    "from ngsolve.webgui import Draw\n",
    "from ngsolve.krylovspace import CGSolver\n",
    "from ttictoc import tic, toc\n",
    "\n",
    "mesh = ngs.Mesh('team10_2d.vol')\n",
    "mesh.Curve(2)\n",
    "# mesh.Refine()"
   ]
  },
  {
   "cell_type": "code",
   "execution_count": 42,
   "metadata": {},
   "outputs": [
    {
     "name": "stdout",
     "output_type": "stream",
     "text": [
      "BH data from TEAM 13 problem\n",
      "returning energy\n"
     ]
    }
   ],
   "source": [
    "from bhdata import BHCurves\n",
    "fun_dw  = BHCurves(4)\n",
    "fun_w   = fun_dw.Integrate()\n",
    "fun_ddw = fun_dw.Differentiate()\n",
    "\n",
    "mu0 = 1.256636e-6\n",
    "nu0 = 1/mu0\n",
    "\n",
    "linear = \"coil_plus|coil_minus|ambient|default\"\n",
    "nonlinear = \"r_steel|l_steel|mid_steel\"\n",
    "\n",
    "lin = 0"
   ]
  },
  {
   "cell_type": "code",
   "execution_count": 43,
   "metadata": {},
   "outputs": [
    {
     "name": "stdout",
     "output_type": "stream",
     "text": [
      "using 3d mesh with ne= 178544  elements and nv= 89873  points\n"
     ]
    }
   ],
   "source": [
    "%run J_2D.ipynb"
   ]
  },
  {
   "cell_type": "code",
   "execution_count": 44,
   "metadata": {},
   "outputs": [],
   "source": [
    "# print(HCurl.ndof)\n",
    "# print(mesh.GetMaterials())\n",
    "\n",
    "rot = ngs.CF((0,1,-1,0), dims=(2,2))\n",
    "def curl2d(a):\n",
    "    return rot*ngs.grad(a)\n",
    "\n",
    "# H1 = ngs.H1(mesh, order = deg)\n",
    "H1 = ngs.H1(mesh, order = deg, dirichlet = \"ambient_face\")\n",
    "u,v = H1.TnT()\n",
    "\n",
    "\n",
    "\n",
    "\n",
    "# Nonlinear:\n",
    "\n",
    "maxit = 100000\n",
    "tol2 = 1e-8\n",
    "regb = 1e-12\n",
    "\n",
    "A = ngs.GridFunction(H1)\n",
    "B = curl2d(A)\n",
    "normB = ngs.sqrt(B*B + regb)\n",
    "\n",
    "\n",
    "if lin == 1: cf_energy = mesh.MaterialCF({linear: nu0/2*B*B, nonlinear: nu0/2*B*B}, default = nu0/2*B*B).Compile()\n",
    "else: cf_energy = mesh.MaterialCF({linear: nu0/2*B*B, nonlinear: fun_w(normB)}, default = nu0/2*B*B).Compile()\n",
    "\n",
    "def fun_W():\n",
    "    with ngs.TaskManager(): res = ngs.Integrate(cf_energy - curl2d(A)*Hs, mesh, order=2*deg)\n",
    "    # with ngs.TaskManager(): res = ngs.Integrate(cf_energy - ngs.curl(Hs)*A, mesh)\n",
    "    return res\n",
    "\n",
    "\n",
    "if lin == 1: cf_rhs = mesh.MaterialCF({linear: nu0, nonlinear: nu0}, default = nu0).Compile()\n",
    "else: cf_rhs = mesh.MaterialCF({linear: nu0, nonlinear: fun_dw(normB)/normB}, default = nu0).Compile()\n",
    "\n",
    "# rhs = ngs.LinearForm((cf_rhs*B*curl2d(v) - curl2d(v)*Hs)*ngs.dx)\n",
    "rhs = ngs.LinearForm((cf_rhs*B*curl2d(v) - ngs.curl(Hs)*v)*ngs.dx)\n",
    "\n",
    "def fun_dW(): #implicitly depending on A!\n",
    "    with ngs.TaskManager(): rhs.Assemble()\n",
    "    return rhs\n",
    "\n",
    "\n",
    "Id = ngs.CF((1,0,\n",
    "             0,1), dims=(2,2))\n",
    "\n",
    "BBt = ngs.CF((B[0]*B[0], B[0]*B[1],\n",
    "              B[1]*B[0], B[1]*B[1]), dims = (2,2))\n",
    "\n",
    "\n",
    "fun1 = fun_dw(normB)/normB\n",
    "fun2 = (fun_ddw(normB) - fun_dw(normB)/normB)/(normB*normB)\n",
    "\n",
    "if lin == 1: cf_iter = mesh.MaterialCF({linear: nu0*Id, nonlinear: nu0*Id}, default = nu0*Id).Compile()\n",
    "else: cf_iter = mesh.MaterialCF({linear: nu0*Id, nonlinear: fun1*Id + fun2*BBt}, default = nu0*Id).Compile()\n",
    "\n",
    "\n",
    "ir = ngs.IntegrationRule(points = [(1/3,1/3)], weights = [1/2])\n",
    "K_iter = ngs.BilinearForm(H1)\n",
    "K_iter += ngs.SymbolicBFI(cf_iter*curl2d(u)*curl2d(v))\n",
    "# K_iter += ngs.SymbolicBFI(cf_iter*curl2d(u)*curl2d(v), intrule = ir)\n",
    "C_iter = ngs.Preconditioner(K_iter, type = \"bddc\")\n",
    "\n",
    "def fun_ddW():\n",
    "    with ngs.TaskManager(): K_iter.Assemble()\n",
    "    return K_iter\n"
   ]
  },
  {
   "cell_type": "code",
   "execution_count": 45,
   "metadata": {},
   "outputs": [
    {
     "name": "stdout",
     "output_type": "stream",
     "text": [
      "Using 3D mesh with ne= 178544 elements and nv= 89873 points and  805249 DOFs.\n",
      " \n",
      "Iter:  1 | assem : 0.83s | CG took 2.10s with    0 iterations | alpha : 1.00 | energy = 0.0000000000 | relres = 1.00e+00 |\n",
      "Iter:  2 | assem : 0.79s | CG took 2.08s with    0 iterations | alpha : 0.50 | energy = -1.7006548345 | relres = 3.34e+00 |\n",
      "Iter:  3 | assem : 0.76s | CG took 2.15s with    0 iterations | alpha : 0.06 | energy = -3.9629373127 | relres = 3.52e-01 |\n",
      "Iter:  4 | assem : 0.80s | CG took 2.09s with    0 iterations | alpha : 1.00 | energy = -4.0004533830 | relres = 1.88e-01 |\n",
      "Iter:  5 | assem : 0.81s | CG took 2.08s with    0 iterations | alpha : 0.06 | energy = -4.1143564403 | relres = 5.05e-01 |\n",
      "Iter:  6 | assem : 0.75s | CG took 2.08s with    0 iterations | alpha : 0.03 | energy = -4.1320686045 | relres = 3.21e-01 |\n",
      "Iter:  7 | assem : 0.73s | CG took 2.09s with    0 iterations | alpha : 0.25 | energy = -4.1496892833 | relres = 1.29e-01 |\n",
      "Iter:  8 | assem : 0.74s | CG took 2.09s with    0 iterations | alpha : 0.50 | energy = -4.1816630724 | relres = 4.31e-02 |\n",
      "Iter:  9 | assem : 0.75s | CG took 2.09s with    0 iterations | alpha : 0.12 | energy = -4.1943200805 | relres = 7.28e-02 |\n",
      "Iter: 10 | assem : 0.80s | CG took 2.15s with    0 iterations | alpha : 0.12 | energy = -4.1951222531 | relres = 3.75e-02 |\n",
      "Iter: 11 | assem : 0.73s | CG took 2.09s with    0 iterations | alpha : 0.25 | energy = -4.2021926057 | relres = 1.94e-02 |\n",
      "Iter: 12 | assem : 0.76s | CG took 2.11s with    0 iterations | alpha : 1.00 | energy = -4.2098802598 | relres = 9.73e-03 |\n",
      "Iter: 13 | assem : 0.73s | CG took 2.07s with    0 iterations | alpha : 1.00 | energy = -4.2217603066 | relres = 4.86e-03 |\n",
      "Iter: 14 | assem : 0.73s | CG took 2.11s with    0 iterations | alpha : 1.00 | energy = -4.2264937114 | relres = 3.34e-03 |\n",
      "Iter: 15 | assem : 0.76s | CG took 2.15s with    0 iterations | alpha : 0.25 | energy = -4.2275472603 | relres = 2.98e-03 |\n",
      "Iter: 16 | assem : 0.79s | CG took 2.13s with    0 iterations | alpha : 0.50 | energy = -4.2282294826 | relres = 7.58e-04 |\n",
      "Iter: 17 | assem : 0.75s | CG took 2.13s with    0 iterations | alpha : 1.00 | energy = -4.2287240741 | relres = 3.44e-04 |\n",
      "Iter: 18 | assem : 0.75s | CG took 2.08s with    0 iterations | alpha : 0.50 | energy = -4.2290776460 | relres = 1.77e-04 |\n",
      "Iter: 19 | assem : 0.78s | CG took 2.07s with    0 iterations | alpha : 1.00 | energy = -4.2291598944 | relres = 7.30e-05 |\n",
      "Iter: 20 | assem : 0.75s | CG took 2.13s with    0 iterations | alpha : 0.50 | energy = -4.2292228266 | relres = 1.37e-04 |\n",
      "Iter: 21 | assem : 0.85s | CG took 2.10s with    0 iterations | alpha : 1.00 | energy = -4.2292596719 | relres = 4.13e-05 |\n",
      "Iter: 22 | assem : 0.80s | CG took 2.08s with    0 iterations | alpha : 1.00 | energy = -4.2292958187 | relres = 3.38e-05 |\n",
      "Iter: 23 | assem : 0.76s | CG took 2.06s with    0 iterations | alpha : 1.00 | energy = -4.2293368776 | relres = 1.58e-05 |\n",
      "Iter: 24 | assem : 0.77s | CG took 2.07s with    0 iterations | alpha : 1.00 | energy = -4.2293595981 | relres = 5.27e-06 |\n",
      "Iter: 25 | assem : 0.76s | CG took 2.08s with    0 iterations | alpha : 1.00 | energy = -4.2293668207 | relres = 8.04e-07 |\n",
      "Iter: 26 | assem : 0.77s | CG took 2.12s with    0 iterations | alpha : 1.00 | energy = -4.2293678763 | relres = 6.49e-08 |\n",
      "Iter: 27 | assem : 0.80s | CG took 2.09s with    0 iterations | alpha : 1.00 | energy = -4.2293679550 | relres = 8.19e-10 |\n",
      "converged to desired tolerance\n"
     ]
    }
   ],
   "source": [
    "print(\"Using 3D mesh with ne=\", mesh.ne, \"elements and nv=\", mesh.nv, \"points and \" ,H1.ndof, \"DOFs.\\n \")\n",
    "\n",
    "with ngs.TaskManager(): A.Set(ngs.CF((0)))\n",
    "\n",
    "du = ngs.GridFunction(H1)\n",
    "uo = ngs.GridFunction(H1)\n",
    "wo = 1e12\n",
    "\n",
    "for it in range(1,maxit+1):\n",
    "    tic()\n",
    "    # with ngs.TaskManager():\n",
    "    #     K_iter.Assemble()\n",
    "    #     rhs.Assemble()\n",
    "    #     res = ngs.Integrate(cf_energy - Hs*ngs.curl(A), mesh)\n",
    "    \n",
    "    w  = fun_W()\n",
    "    dw = fun_dW()\n",
    "    da = fun_ddW()\n",
    "    tm1 = toc()\n",
    "    \n",
    "    tic()\n",
    "    # du.vec.data = da.mat.Inverse(H1.FreeDofs(), inverse=\"sparsecholesky\") * dw.vec \n",
    "    # iterativeSolver = CGSolver(K_iter.mat, freedofs = H1.FreeDofs(), atol = 1e-2,  maxiter = maxit, printrates = False)\n",
    "    with ngs.TaskManager():\n",
    "        du.vec.data = da.mat.Inverse(H1.FreeDofs(), inverse = \"pardiso\") * dw.vec\n",
    "        iterativeSolver = CGSolver(K_iter.mat, freedofs = H1.FreeDofs(), atol = 1e-2,  maxiter = maxit, printrates = False)\n",
    "        # iterativeSolver = CGSolver(K_iter.mat, pre = C_iter.mat, tol  = 1e-8,  maxiter = maxit)\n",
    "        # du.vec.data = iterativeSolver * dw.vec\n",
    "    \n",
    "    if len(iterativeSolver.residuals) == maxit: print(\"... Failure!\")\n",
    "    # print(f\"Number of iterations = {iterativeSolver.iterations}/{maxit} | Residual = {iterativeSolver.residuals[-1]}\")\n",
    "    tm2 = toc()\n",
    "\n",
    "    nrm = ngs.InnerProduct(du.vec,dw.vec)\n",
    "    \n",
    "    if it == 1:\n",
    "        nrm0 = nrm\n",
    "    \n",
    "    # wn = 1e12\n",
    "    if abs(wo-w)/abs(w) < tol2:\n",
    "    # if abs(wn-w) < tol2:\n",
    "    # if nrm/nrm0 < tol2:\n",
    "        print(\"converged to desired tolerance\")\n",
    "        break\n",
    "    # elif abs(wo-w)< tol2*1e-2:\n",
    "    #     # print(abs(wo-w),abs(w),alpha,nrm,nrm0)\n",
    "    #     print(\"stopped early due to stagnation | energy= %.10f\" %w)\n",
    "    #     # print(\"Iter: %2d | assem : %.2fs | CG took %.2fs with %4d iterations | alpha : %.2f | energy = %.10f | relres = %.2e |\"  %(it,tm1,tm2,iterativeSolver.iterations,alpha,w,nrm/nrm0))\n",
    "    #     break\n",
    "    else:\n",
    "        # linesearch\n",
    "        uo.vec.data = A.vec.data\n",
    "        wo = w\n",
    "        alpha = 1\n",
    "        for init in range(1,21):\n",
    "            A.vec.data -= alpha*du.vec.data\n",
    "            wn = fun_W()\n",
    "            if wn < w - alpha*0.01*nrm:\n",
    "                print(\"Iter: %2d | assem : %.2fs | CG took %.2fs with %4d iterations | alpha : %.2f | energy = %.10f | relres = %.2e |\"  %(it,tm1,tm2,iterativeSolver.iterations,alpha,w,nrm/nrm0))\n",
    "                break\n",
    "            else:\n",
    "                alpha = alpha/2\n",
    "                A.vec.data = uo.vec.data"
   ]
  },
  {
   "cell_type": "code",
   "execution_count": 46,
   "metadata": {},
   "outputs": [
    {
     "data": {
      "application/vnd.jupyter.widget-view+json": {
       "model_id": "5244a21ab9fc4cff87e00327c941a54e",
       "version_major": 2,
       "version_minor": 0
      },
      "text/plain": [
       "WebGuiWidget(layout=Layout(height='500px', width='100%'), value={'gui_settings': {'Objects': {'Wireframe': Fal…"
      ]
     },
     "metadata": {},
     "output_type": "display_data"
    },
    {
     "data": {
      "text/plain": [
       "BaseWebGuiScene"
      ]
     },
     "execution_count": 46,
     "metadata": {},
     "output_type": "execute_result"
    }
   ],
   "source": [
    "Draw(ngs.log(ngs.Norm(B)), mesh, min = -13, max = 0.5, settings={\"Objects\": {\"Wireframe\": False}})"
   ]
  },
  {
   "cell_type": "code",
   "execution_count": 47,
   "metadata": {},
   "outputs": [],
   "source": [
    "# mask = ngs.GridFunction(H1)\n",
    "# mask.Set(ngs.CF(1),ngs.BND)\n",
    "# Draw(mask)"
   ]
  },
  {
   "cell_type": "code",
   "execution_count": 48,
   "metadata": {},
   "outputs": [
    {
     "name": "stdout",
     "output_type": "stream",
     "text": [
      "0.0031261876637884503\n",
      "-4.2293679558844195\n"
     ]
    }
   ],
   "source": [
    "print(ngs.Integrate(ngs.Norm(B),mesh))\n",
    "print(fun_W())"
   ]
  },
  {
   "cell_type": "code",
   "execution_count": 49,
   "metadata": {},
   "outputs": [
    {
     "data": {
      "text/plain": [
       "'B3'"
      ]
     },
     "execution_count": 49,
     "metadata": {},
     "output_type": "execute_result"
    }
   ],
   "source": [
    "scalars = mesh.MaterialCF({\"coil_plus|coil_minus\":1, \"mid_steel|r_steel|l_steel\": 2}, default = 0)\n",
    "L2 = ngs.L2(mesh, order = 2)\n",
    "scal = ngs.GridFunction(L2)\n",
    "scal.Set(scalars)\n",
    "\n",
    "vtk = ngs.VTKOutput(mesh, coefs = [B,ngs.curl(Hs),scal],names = [\"B\",\"J\",\"scalars\"], filename = \"B3\", order = 1)\n",
    "vtk.Do()"
   ]
  },
  {
   "cell_type": "code",
   "execution_count": 50,
   "metadata": {},
   "outputs": [
    {
     "ename": "ValueError",
     "evalue": "Data field (B) with type (FieldAssociation.POINT) could not be set as the active vectors",
     "output_type": "error",
     "traceback": [
      "\u001b[1;31m---------------------------------------------------------------------------\u001b[0m",
      "\u001b[1;31mValueError\u001b[0m                                Traceback (most recent call last)",
      "Cell \u001b[1;32mIn[50], line 4\u001b[0m\n\u001b[0;32m      2\u001b[0m pvmesh \u001b[38;5;241m=\u001b[39m pv\u001b[38;5;241m.\u001b[39mread(\u001b[38;5;124m\"\u001b[39m\u001b[38;5;124mB3.vtu\u001b[39m\u001b[38;5;124m\"\u001b[39m)\n\u001b[0;32m      3\u001b[0m pvmesh\u001b[38;5;241m.\u001b[39mset_active_scalars(\u001b[38;5;124m\"\u001b[39m\u001b[38;5;124mscalars\u001b[39m\u001b[38;5;124m\"\u001b[39m)\n\u001b[1;32m----> 4\u001b[0m \u001b[43mpvmesh\u001b[49m\u001b[38;5;241;43m.\u001b[39;49m\u001b[43mset_active_vectors\u001b[49m\u001b[43m(\u001b[49m\u001b[38;5;124;43m\"\u001b[39;49m\u001b[38;5;124;43mB\u001b[39;49m\u001b[38;5;124;43m\"\u001b[39;49m\u001b[43m)\u001b[49m\n\u001b[0;32m      5\u001b[0m threshed \u001b[38;5;241m=\u001b[39m pvmesh\u001b[38;5;241m.\u001b[39mthreshold([\u001b[38;5;241m0.8\u001b[39m,\u001b[38;5;241m2.1\u001b[39m])\n\u001b[0;32m      6\u001b[0m threshed\u001b[38;5;241m.\u001b[39mset_active_vectors(\u001b[38;5;124m\"\u001b[39m\u001b[38;5;124mB\u001b[39m\u001b[38;5;124m\"\u001b[39m)\n",
      "File \u001b[1;32mc:\\Users\\Radu\\anaconda\\envs\\pdefem\\lib\\site-packages\\pyvista\\core\\dataset.py:692\u001b[0m, in \u001b[0;36mDataSet.set_active_vectors\u001b[1;34m(self, name, preference)\u001b[0m\n\u001b[0;32m    689\u001b[0m         \u001b[38;5;28;01mraise\u001b[39;00m \u001b[38;5;167;01mValueError\u001b[39;00m(\u001b[38;5;124mf\u001b[39m\u001b[38;5;124m'\u001b[39m\u001b[38;5;124mData field (\u001b[39m\u001b[38;5;132;01m{\u001b[39;00mname\u001b[38;5;132;01m}\u001b[39;00m\u001b[38;5;124m) with type (\u001b[39m\u001b[38;5;132;01m{\u001b[39;00mfield\u001b[38;5;132;01m}\u001b[39;00m\u001b[38;5;124m) not usable\u001b[39m\u001b[38;5;124m'\u001b[39m)\n\u001b[0;32m    691\u001b[0m     \u001b[38;5;28;01mif\u001b[39;00m ret \u001b[38;5;241m<\u001b[39m \u001b[38;5;241m0\u001b[39m:\n\u001b[1;32m--> 692\u001b[0m         \u001b[38;5;28;01mraise\u001b[39;00m \u001b[38;5;167;01mValueError\u001b[39;00m(\n\u001b[0;32m    693\u001b[0m             \u001b[38;5;124mf\u001b[39m\u001b[38;5;124m'\u001b[39m\u001b[38;5;124mData field (\u001b[39m\u001b[38;5;132;01m{\u001b[39;00mname\u001b[38;5;132;01m}\u001b[39;00m\u001b[38;5;124m) with type (\u001b[39m\u001b[38;5;132;01m{\u001b[39;00mfield\u001b[38;5;132;01m}\u001b[39;00m\u001b[38;5;124m) could not be set as the active vectors\u001b[39m\u001b[38;5;124m'\u001b[39m\n\u001b[0;32m    694\u001b[0m         )\n\u001b[0;32m    696\u001b[0m \u001b[38;5;28mself\u001b[39m\u001b[38;5;241m.\u001b[39m_active_vectors_info \u001b[38;5;241m=\u001b[39m ActiveArrayInfo(field, name)\n\u001b[0;32m    697\u001b[0m \u001b[38;5;28;01mreturn\u001b[39;00m \u001b[38;5;28;01mNone\u001b[39;00m\n",
      "\u001b[1;31mValueError\u001b[0m: Data field (B) with type (FieldAssociation.POINT) could not be set as the active vectors"
     ]
    }
   ],
   "source": [
    "import pyvista as pv\n",
    "pvmesh = pv.read(\"B3.vtu\")\n",
    "pvmesh.set_active_scalars(\"scalars\")\n",
    "pvmesh.set_active_vectors(\"B\")\n",
    "threshed = pvmesh.threshold([0.8,2.1])\n",
    "threshed.set_active_vectors(\"B\")\n",
    "\n",
    "p = pv.Plotter()\n",
    "p.add_mesh(threshed, style = 'surface', color = \"w\", opacity = 0.01, label = None)\n",
    "\n",
    "arrows = pvmesh.glyph(scale = \"B\", orient = True, tolerance = 0.01, factor = 0.01) #0.8\n",
    "# arrows = pvmesh.glyph(scale = \"B\", orient = True, tolerance = 0.01, factor = 0.01)\n",
    "p.add_mesh(arrows, color = \"yellow\")\n",
    "\n",
    "pvmesh.set_active_vectors(\"J\")\n",
    "arrows2 = pvmesh.glyph(scale = \"J\", orient = True, tolerance = 0.001, factor = 1*1e-8)\n",
    "p.add_mesh(arrows2, color = \"black\")\n",
    "\n",
    "p.show(jupyter_backend = \"html\")\n",
    "# p.show()"
   ]
  },
  {
   "cell_type": "code",
   "execution_count": null,
   "metadata": {},
   "outputs": [
    {
     "ename": "TypeError",
     "evalue": "Integrate(): incompatible function arguments. The following argument types are supported:\n    1. (cf: ngsolve.fem.CoefficientFunction, mesh: Union[ngsolve.comp.Mesh, ngsolve.comp.Region], VOL_or_BND: ngsolve.comp.VorB = <VorB.VOL: 0>, order: int = 5, definedon: ngsolve.comp.Region = None, region_wise: bool = False, element_wise: bool = False) -> object\n    2. (igls: ngsolve.comp.SumOfIntegrals, mesh: ngsolve.comp.Mesh, element_wise: bool = False) -> object\n\nInvoked with: <ngsolve.fem.CoefficientFunction object at 0x000001E80F400BD0>",
     "output_type": "error",
     "traceback": [
      "\u001b[1;31m---------------------------------------------------------------------------\u001b[0m",
      "\u001b[1;31mTypeError\u001b[0m                                 Traceback (most recent call last)",
      "Cell \u001b[1;32mIn[85], line 1\u001b[0m\n\u001b[1;32m----> 1\u001b[0m \u001b[43mngs\u001b[49m\u001b[38;5;241;43m.\u001b[39;49m\u001b[43mIntegrate\u001b[49m\u001b[43m(\u001b[49m\u001b[43mJ\u001b[49m\u001b[38;5;241;43m*\u001b[39;49m\u001b[43mA\u001b[49m\u001b[43m)\u001b[49m\n",
      "\u001b[1;31mTypeError\u001b[0m: Integrate(): incompatible function arguments. The following argument types are supported:\n    1. (cf: ngsolve.fem.CoefficientFunction, mesh: Union[ngsolve.comp.Mesh, ngsolve.comp.Region], VOL_or_BND: ngsolve.comp.VorB = <VorB.VOL: 0>, order: int = 5, definedon: ngsolve.comp.Region = None, region_wise: bool = False, element_wise: bool = False) -> object\n    2. (igls: ngsolve.comp.SumOfIntegrals, mesh: ngsolve.comp.Mesh, element_wise: bool = False) -> object\n\nInvoked with: <ngsolve.fem.CoefficientFunction object at 0x000001E80F400BD0>"
     ]
    }
   ],
   "source": [
    "ngs.Integrate(J*A)"
   ]
  },
  {
   "cell_type": "code",
   "execution_count": null,
   "metadata": {},
   "outputs": [
    {
     "data": {
      "text/plain": [
       "-2.387830017308986e-10"
      ]
     },
     "execution_count": 182,
     "metadata": {},
     "output_type": "execute_result"
    }
   ],
   "source": [
    "ngs.Integrate(ngs.curl(Hs)*A-Hs*B, mesh)"
   ]
  }
 ],
 "metadata": {
  "kernelspec": {
   "display_name": "pdefem",
   "language": "python",
   "name": "python3"
  },
  "language_info": {
   "codemirror_mode": {
    "name": "ipython",
    "version": 3
   },
   "file_extension": ".py",
   "mimetype": "text/x-python",
   "name": "python",
   "nbconvert_exporter": "python",
   "pygments_lexer": "ipython3",
   "version": "3.10.13"
  }
 },
 "nbformat": 4,
 "nbformat_minor": 2
}
