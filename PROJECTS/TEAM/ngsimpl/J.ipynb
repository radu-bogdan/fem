{
 "cells": [
  {
   "cell_type": "code",
   "execution_count": 1,
   "metadata": {},
   "outputs": [
    {
     "data": {
      "text/plain": [
       "<ngsolve.comp.Mesh at 0x17f7cde1c10>"
      ]
     },
     "execution_count": 1,
     "metadata": {},
     "output_type": "execute_result"
    }
   ],
   "source": [
    "import ngsolve as ngs\n",
    "from netgen.webgui import Draw as DrawGeo\n",
    "from ngsolve.webgui import Draw\n",
    "import time\n",
    "\n",
    "mesh = ngs.Mesh('whatever.vol')\n",
    "mesh.Curve(2)\n"
   ]
  },
  {
   "cell_type": "code",
   "execution_count": 2,
   "metadata": {},
   "outputs": [],
   "source": [
    "fesVectorPotential = ngs.HCurl(mesh, dirichlet = \"coil_outer|coil_inner|coil_up|coil_down\", definedon='coil')\n",
    "TotalCurrent = 1000\n",
    "coil_depth = 0.1\n",
    "    \n",
    "normal = ngs.specialcf.normal(mesh.dim)\n",
    "gfuDirichlet = ngs.GridFunction(fesVectorPotential)\n",
    "g = ngs.CF([(0,0,TotalCurrent/coil_depth) if bc==\"coil_inner\" else (0,0,0) for bc in mesh.GetBoundaries()])\n",
    "gfuDirichlet.Set(g,ngs.BND)\n",
    "\n",
    "# Draw(gfuDirichlet, mesh, vectors = { \"grid_size\":200}, draw_vol=False, clipping={\"z\": -1, \"dist\": 0.064});"
   ]
  },
  {
   "cell_type": "code",
   "execution_count": 3,
   "metadata": {},
   "outputs": [
    {
     "name": "stdout",
     "output_type": "stream",
     "text": [
      "Solving...\n",
      "... Success!\n",
      "Number of iterations = 128/1000 | Residual = 0.0036382463494895882\n"
     ]
    },
    {
     "data": {
      "application/vnd.jupyter.widget-view+json": {
       "model_id": "8fa7745f56734396bf249e8f42d90b8b",
       "version_major": 2,
       "version_minor": 0
      },
      "text/plain": [
       "WebGuiWidget(layout=Layout(height='500px', width='100%'), value={'gui_settings': {}, 'ngsolve_version': '6.2.2…"
      ]
     },
     "metadata": {},
     "output_type": "display_data"
    },
    {
     "data": {
      "text/plain": [
       "BaseWebGuiScene"
      ]
     },
     "execution_count": 3,
     "metadata": {},
     "output_type": "execute_result"
    }
   ],
   "source": [
    "from ngsolve.krylovspace import CGSolver\n",
    "\n",
    "# Weak form\n",
    "T = fesVectorPotential.TrialFunction()\n",
    "Tstar = fesVectorPotential.TestFunction()\n",
    "Kt = ngs.BilinearForm(ngs.curl(Tstar)*ngs.curl(T)*ngs.dx)\n",
    "    \n",
    "# Assembly\n",
    "with ngs.TaskManager():\n",
    "    Kt.Assemble()\n",
    "\n",
    "r = - Kt.mat * gfuDirichlet.vec\n",
    "\n",
    "# Solving\n",
    "maxres = 1e-8\n",
    "maxit = 1000\n",
    "                              \n",
    "Tsol = ngs.GridFunction(fesVectorPotential)\n",
    "print(\"Solving...\")\n",
    "\n",
    "#with TaskManager():\n",
    "iterativeSolver = CGSolver(Kt.mat, freedofs = fesVectorPotential.FreeDofs(), tol  = maxres,  maxiter = maxit)\n",
    "Tsol.vec.data = iterativeSolver * r + gfuDirichlet.vec\n",
    "\n",
    "if len(iterativeSolver.residuals) == maxit: print(\"... Failure!\")\n",
    "else: print(\"... Success!\")\n",
    "print(f\"Number of iterations = {iterativeSolver.iterations}/{maxit} | Residual = {iterativeSolver.residuals[-1]}\")\n",
    "\n",
    "Draw(ngs.curl(Tsol), mesh, vectors = { \"grid_size\" : 150},clipping = {\"x\" : 0, \"y\" : 0, \"z\" : -1, \"dist\" : 0})"
   ]
  },
  {
   "cell_type": "code",
   "execution_count": 4,
   "metadata": {},
   "outputs": [
    {
     "name": "stdout",
     "output_type": "stream",
     "text": [
      "999.9999999999959\n"
     ]
    }
   ],
   "source": [
    "# ngs.Integrate(ngs.curl(Tsol), mesh)\n",
    "\n",
    "n = ngs.specialcf.normal(mesh.dim)\n",
    "flux_bd = ngs.Integrate(ngs.curl(Tsol) * n, mesh, definedon = mesh.Boundaries(\"coil_cut_2\"))\n",
    "print(flux_bd)"
   ]
  },
  {
   "cell_type": "code",
   "execution_count": 8,
   "metadata": {},
   "outputs": [],
   "source": [
    "Hcurl = ngs.HCurl(mesh, definedon='coil')\n",
    "u,v = Hcurl.TnT()\n",
    "\n",
    "K = ngs.BilinearForm(ngs.curl(u)*ngs.curl(v)*ngs.dx)\n",
    "f = ngs.\n"
   ]
  },
  {
   "cell_type": "code",
   "execution_count": null,
   "metadata": {},
   "outputs": [],
   "source": []
  },
  {
   "cell_type": "code",
   "execution_count": null,
   "metadata": {},
   "outputs": [],
   "source": []
  },
  {
   "cell_type": "code",
   "execution_count": null,
   "metadata": {},
   "outputs": [],
   "source": []
  },
  {
   "cell_type": "code",
   "execution_count": 6,
   "metadata": {},
   "outputs": [
    {
     "data": {
      "application/vnd.jupyter.widget-view+json": {
       "model_id": "b2b91e45b65c4b9ca77a8e0b03041709",
       "version_major": 2,
       "version_minor": 0
      },
      "text/plain": [
       "WebGuiWidget(layout=Layout(height='500px', width='100%'), value={'gui_settings': {}, 'ngsolve_version': '6.2.2…"
      ]
     },
     "metadata": {},
     "output_type": "display_data"
    }
   ],
   "source": [
    "H1 = ngs.H1(mesh, order=1, definedon=\"coil\", dirichlet=\"coil_cut_1\")\n",
    "phi,psi = H1.TnT()\n",
    "n = ngs.specialcf.normal(mesh.dim)\n",
    "\n",
    "\n",
    "sigma = 58.7e6\n",
    "crosssection = 0.0025\n",
    "\n",
    "bfa = ngs.BilinearForm(sigma*ngs.grad(phi)*ngs.grad(psi)*ngs.dx).Assemble()\n",
    "inv = bfa.mat.Inverse(freedofs = H1.FreeDofs(), inverse=\"sparsecholesky\")\n",
    "\n",
    "\n",
    "lff = ngs.LinearForm(n*ngs.grad(psi).Trace()*ngs.ds(\"coil_cut\")).Assemble()\n",
    "\n",
    "gfphi = ngs.GridFunction(H1)\n",
    "gfphi.vec.data = inv * lff.vec\n",
    "\n",
    "Draw(gfphi, draw_vol=False, clipping={\"z\": -1, \"dist\": 0.064});"
   ]
  },
  {
   "cell_type": "code",
   "execution_count": 7,
   "metadata": {},
   "outputs": [
    {
     "ename": "NgException",
     "evalue": "Testfunction does not support BND-forms, maybe a Trace() operator is missing",
     "output_type": "error",
     "traceback": [
      "\u001b[1;31m---------------------------------------------------------------------------\u001b[0m",
      "\u001b[1;31mNgException\u001b[0m                               Traceback (most recent call last)",
      "Cell \u001b[1;32mIn[7], line 3\u001b[0m\n\u001b[0;32m      1\u001b[0m p_in \u001b[38;5;241m=\u001b[39m ngs\u001b[38;5;241m.\u001b[39mCoefficientFunction( \u001b[38;5;241m10.0\u001b[39m )\n\u001b[1;32m----> 3\u001b[0m lff \u001b[38;5;241m=\u001b[39m \u001b[43mngs\u001b[49m\u001b[38;5;241;43m.\u001b[39;49m\u001b[43mLinearForm\u001b[49m\u001b[43m(\u001b[49m\u001b[43mp_in\u001b[49m\u001b[38;5;241;43m*\u001b[39;49m\u001b[43mn\u001b[49m\u001b[38;5;241;43m*\u001b[39;49m\u001b[43mngs\u001b[49m\u001b[38;5;241;43m.\u001b[39;49m\u001b[43mgrad\u001b[49m\u001b[43m(\u001b[49m\u001b[43mpsi\u001b[49m\u001b[43m)\u001b[49m\u001b[38;5;241;43m*\u001b[39;49m\u001b[43mngs\u001b[49m\u001b[38;5;241;43m.\u001b[39;49m\u001b[43mds\u001b[49m\u001b[43m(\u001b[49m\u001b[38;5;124;43m\"\u001b[39;49m\u001b[38;5;124;43mcoil_cut\u001b[39;49m\u001b[38;5;124;43m\"\u001b[39;49m\u001b[43m)\u001b[49m\u001b[43m)\u001b[49m\u001b[38;5;241m.\u001b[39mAssemble()\n\u001b[0;32m      4\u001b[0m \u001b[38;5;28mprint\u001b[39m(\u001b[38;5;28mmin\u001b[39m(lff\u001b[38;5;241m.\u001b[39mvec\u001b[38;5;241m.\u001b[39mFV()\u001b[38;5;241m.\u001b[39mNumPy()))\n\u001b[0;32m      5\u001b[0m \u001b[38;5;28mprint\u001b[39m(\u001b[38;5;28mmax\u001b[39m(lff\u001b[38;5;241m.\u001b[39mvec\u001b[38;5;241m.\u001b[39mFV()\u001b[38;5;241m.\u001b[39mNumPy()))\n",
      "\u001b[1;31mNgException\u001b[0m: Testfunction does not support BND-forms, maybe a Trace() operator is missing"
     ]
    }
   ],
   "source": [
    "p_in = ngs.CoefficientFunction( 10.0 )\n",
    "\n",
    "lff = ngs.LinearForm(p_in*n*ngs.grad(psi)*ngs.ds(\"coil_cut\")).Assemble()\n",
    "print(min(lff.vec.FV().NumPy()))\n",
    "print(max(lff.vec.FV().NumPy()))"
   ]
  }
 ],
 "metadata": {
  "kernelspec": {
   "display_name": "pdefem",
   "language": "python",
   "name": "python3"
  },
  "language_info": {
   "codemirror_mode": {
    "name": "ipython",
    "version": 3
   },
   "file_extension": ".py",
   "mimetype": "text/x-python",
   "name": "python",
   "nbconvert_exporter": "python",
   "pygments_lexer": "ipython3",
   "version": "3.10.13"
  }
 },
 "nbformat": 4,
 "nbformat_minor": 2
}
