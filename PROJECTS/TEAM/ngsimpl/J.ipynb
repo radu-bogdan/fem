{
 "cells": [
  {
   "cell_type": "code",
   "execution_count": 1,
   "metadata": {},
   "outputs": [
    {
     "name": "stdout",
     "output_type": "stream",
     "text": [
      "using 3d mesh with ne= 21002  elements and nv= 3732  points\n"
     ]
    }
   ],
   "source": [
    "import ngsolve as ngs\n",
    "from netgen.webgui import Draw as DrawGeo\n",
    "from ngsolve.webgui import Draw\n",
    "\n",
    "mesh = ngs.Mesh('whatever.vol')\n",
    "mesh.Curve(2)\n",
    "# mesh.Refine()\n",
    "\n",
    "print(\"using 3d mesh with ne=\", mesh.ne, \" elements and nv=\", mesh.nv, \" points\")\n",
    "\n",
    "p = 2"
   ]
  },
  {
   "cell_type": "code",
   "execution_count": 2,
   "metadata": {},
   "outputs": [],
   "source": [
    "HcurlCoil = ngs.HCurl(mesh, order = p, dirichlet = \"coil_outer|coil_inner|coil_up|coil_down\", definedon='coil', nograds = True)\n",
    "TotalCurrent = 1000*3\n",
    "coil_depth = 0.1\n",
    "\n",
    "n = ngs.specialcf.normal(mesh.dim)\n",
    "gfuDirichlet = ngs.GridFunction(HcurlCoil)\n",
    "g = ngs.CF([(0,0,TotalCurrent/coil_depth) if bc==\"coil_inner\" else (0,0,0) for bc in mesh.GetBoundaries()])\n",
    "gfuDirichlet.Set(g,ngs.BND)\n",
    "\n",
    "# Draw(gfuDirichlet, mesh, vectors = { \"grid_size\":200}, draw_vol=False, clipping={\"z\": -1, \"dist\": 0.064});"
   ]
  },
  {
   "cell_type": "code",
   "execution_count": 3,
   "metadata": {},
   "outputs": [
    {
     "name": "stdout",
     "output_type": "stream",
     "text": [
      "Solving...\n",
      "... Success!\n",
      "Number of iterations = 413/1000 | Residual = 9.922358609037997e-06\n",
      "2999.999999999988\n"
     ]
    }
   ],
   "source": [
    "from ngsolve.krylovspace import CGSolver\n",
    "\n",
    "# Weak form\n",
    "T, Tstar = HcurlCoil.TnT()\n",
    "Kt = ngs.BilinearForm(ngs.curl(Tstar)*ngs.curl(T)*ngs.dx)\n",
    "    \n",
    "# Assembly\n",
    "with ngs.TaskManager(): Kt.Assemble()\n",
    "\n",
    "r = - Kt.mat * gfuDirichlet.vec\n",
    "\n",
    "# Solving\n",
    "maxres = 1e-5\n",
    "maxit = 1000\n",
    "                              \n",
    "Tsol = ngs.GridFunction(HcurlCoil)\n",
    "print(\"Solving...\")\n",
    "\n",
    "with ngs.TaskManager():\n",
    "    iterativeSolver = CGSolver(Kt.mat, freedofs = HcurlCoil.FreeDofs(), atol  = maxres,  maxiter = maxit)\n",
    "    Tsol.vec.data = iterativeSolver * r + gfuDirichlet.vec\n",
    "\n",
    "if len(iterativeSolver.residuals) == maxit: print(\"... Failure!\")\n",
    "else: print(\"... Success!\")\n",
    "print(f\"Number of iterations = {iterativeSolver.iterations}/{maxit} | Residual = {iterativeSolver.residuals[-1]}\")\n",
    "\n",
    "# Draw(ngs.curl(Tsol), mesh, vectors = { \"grid_size\" : 150},clipping = {\"x\" : 0, \"y\" : 0, \"z\" : -1, \"dist\" : 0})\n",
    "\n",
    "flux_bd = ngs.Integrate(ngs.curl(Tsol) * n, mesh, definedon = mesh.Boundaries(\"coil_cut_2\"))\n",
    "print(flux_bd)"
   ]
  },
  {
   "cell_type": "code",
   "execution_count": 4,
   "metadata": {},
   "outputs": [
    {
     "name": "stdout",
     "output_type": "stream",
     "text": [
      "Solving...\n",
      "... Success!\n",
      "Number of iterations = 344/1000 | Residual = 9.320419900073156e-06\n",
      "3000.003783169095\n"
     ]
    }
   ],
   "source": [
    "Hcurl = ngs.HCurl(mesh, order = p, nograds = True)\n",
    "u,v = Hcurl.TnT()\n",
    "\n",
    "K = ngs.BilinearForm(ngs.curl(u)*ngs.curl(v)*ngs.dx)\n",
    "c = ngs.Preconditioner(K, type = \"local\")\n",
    "\n",
    "with ngs.TaskManager(): K.Assemble()\n",
    "\n",
    "f = ngs.LinearForm(Hcurl)\n",
    "f +=  ngs.curl(Tsol)* ngs.curl(v) * ngs.dx\n",
    "\n",
    "with ngs.TaskManager(): f.Assemble()\n",
    "\n",
    "Hs = ngs.GridFunction(Hcurl)\n",
    "print(\"Solving...\")\n",
    "\n",
    "with ngs.TaskManager():\n",
    "    iterativeSolver = CGSolver(K.mat, c.mat, atol  = maxres,  maxiter = maxit)\n",
    "    # iterativeSolver = CGSolver(K.mat, freedofs = Hcurl.FreeDofs(), tol  = maxres,  maxiter = maxit)\n",
    "    Hs.vec.data = iterativeSolver * f.vec\n",
    "\n",
    "if len(iterativeSolver.residuals) == maxit: print(\"... Failure!\")\n",
    "else: print(\"... Success!\")\n",
    "print(f\"Number of iterations = {iterativeSolver.iterations}/{maxit} | Residual = {iterativeSolver.residuals[-1]}\")\n",
    "\n",
    "# Draw(ngs.curl(Hs), mesh, vectors = { \"grid_size\" : 150},clipping = {\"x\" : 0, \"y\" : 0, \"z\" : -1, \"dist\" : 0})\n",
    "\n",
    "\n",
    "flux_bd = ngs.Integrate(ngs.curl(Hs) * n, mesh, definedon = mesh.Boundaries(\"coil_cut_2\"))\n",
    "print(flux_bd)"
   ]
  },
  {
   "cell_type": "code",
   "execution_count": 5,
   "metadata": {},
   "outputs": [],
   "source": [
    "# Draw(ngs.curl(Hs), mesh, vectors = { \"grid_size\" : 150},clipping = {\"x\" : 0, \"y\" : 0, \"z\" : -1, \"dist\" : 0})"
   ]
  }
 ],
 "metadata": {
  "kernelspec": {
   "display_name": "pdefem",
   "language": "python",
   "name": "python3"
  },
  "language_info": {
   "codemirror_mode": {
    "name": "ipython",
    "version": 3
   },
   "file_extension": ".py",
   "mimetype": "text/x-python",
   "name": "python",
   "nbconvert_exporter": "python",
   "pygments_lexer": "ipython3",
   "version": "3.10.13"
  }
 },
 "nbformat": 4,
 "nbformat_minor": 2
}
