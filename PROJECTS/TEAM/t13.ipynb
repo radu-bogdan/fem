{
 "cells": [
  {
   "cell_type": "code",
   "execution_count": 22,
   "id": "f40d7826",
   "metadata": {},
   "outputs": [
    {
     "data": {
      "text/plain": [
       "<netgen.webgui.WebGLScene at 0x381750710>"
      ]
     },
     "execution_count": 22,
     "metadata": {},
     "output_type": "execute_result"
    }
   ],
   "source": [
    "import ngsolve as ng\n",
    "import netgen.occ as occ\n",
    "# import netgen.gui\n",
    "from netgen.webgui import Draw as DrawGeo\n",
    "\n",
    "box1 = occ.Box(occ.Pnt(-100,-100,-50), occ.Pnt(100,100,50))\n",
    "box2 = occ.Box(occ.Pnt(-75,-75,-50), occ.Pnt(75,75,50))\n",
    "    \n",
    "##########################################################################\n",
    "# Rounding corners ...\n",
    "##########################################################################\n",
    "\n",
    "corner1_ext = occ.Box(occ.Pnt(75,75,-50), occ.Pnt(100,100,50))\n",
    "cyl1_ext = occ.Cylinder(occ.Pnt(75,75,-50), occ.Z, r=25, h=100)\n",
    "corner1_int = occ.Box(occ.Pnt(50,50,-50), occ.Pnt(75,75,50))\n",
    "cyl1_int = occ.Cylinder(occ.Pnt(50,50,-50), occ.Z, r=25, h=100)\n",
    "corner1_int = corner1_int-cyl1_int; corner1_ext = corner1_ext-cyl1_ext\n",
    "\n",
    "corner2_ext = occ.Box(occ.Pnt(-100,-100,-50), occ.Pnt(-75,-75,50))\n",
    "cyl2_ext = occ.Cylinder(occ.Pnt(-75,-75,-50), occ.Z, r=25, h=100)\n",
    "corner2_int = occ.Box(occ.Pnt(-75,-75,-50), occ.Pnt(-50,-50,50))\n",
    "cyl2_int = occ.Cylinder(occ.Pnt(-50,-50,-50), occ.Z, r=25, h=100)\n",
    "corner2_int = corner2_int-cyl2_int; corner2_ext = corner2_ext-cyl2_ext\n",
    "\n",
    "corner3_ext = occ.Box(occ.Pnt(75,-75,-50), occ.Pnt(100,-100,50))\n",
    "cyl3_ext = occ.Cylinder(occ.Pnt(75,-75,-50), occ.Z, r=25, h=100)\n",
    "corner3_int = occ.Box(occ.Pnt(50,-50,-50), occ.Pnt(75,-75,50))\n",
    "cyl3_int = occ.Cylinder(occ.Pnt(50,-50,-50), occ.Z, r=25, h=100)\n",
    "corner3_int = corner3_int-cyl3_int; corner3_ext = corner3_ext-cyl3_ext\n",
    "\n",
    "corner4_ext = occ.Box(occ.Pnt(-75,75,-50), occ.Pnt(-100,100,50))\n",
    "cyl4_ext = occ.Cylinder(occ.Pnt(-75,75,-50), occ.Z, r=25, h=100)\n",
    "corner4_int = occ.Box(occ.Pnt(-50,50,-50), occ.Pnt(-75,75,50))\n",
    "cyl4_int = occ.Cylinder(occ.Pnt(-50,50,-50), occ.Z, r=25, h=100)\n",
    "corner4_int = corner4_int-cyl4_int; corner4_ext = corner4_ext-cyl4_ext\n",
    "\n",
    "##########################################################################\n",
    "# Adding the steel parts\n",
    "##########################################################################\n",
    "\n",
    "coil_full = (box1-box2)+corner1_int-corner1_ext+corner2_int-corner2_ext+corner3_int-corner3_ext+corner4_int-corner4_ext\n",
    "\n",
    "mid_steel = occ.Box(occ.Pnt(-1.6,-25,-64.2),occ.Pnt(1.6,25,64.2))\n",
    "\n",
    "r_steel1 = occ.Box(occ.Pnt(1.6+0.5,15,50+10-3.2),occ.Pnt(1.6+120.5,65,50+10))\n",
    "r_steel2 = occ.Box(occ.Pnt(1.6+0.5,15,-(50+10-3.2)),occ.Pnt(1.6+120.5,65,-(50+10)))\n",
    "r_steel3 = occ.Box(occ.Pnt(1.6+120.5-3.2,15,50+10-3.2),occ.Pnt(1.6+120.5,65,-(50+10)))\n",
    "r_steel = r_steel1 + r_steel2 + r_steel3\n",
    "\n",
    "l_steel1 = occ.Box(occ.Pnt(-1.6-0.5,-15,50+10-3.2),occ.Pnt(-1.6-120.5,-65,50+10))\n",
    "l_steel2 = occ.Box(occ.Pnt(-1.6-0.5,-15,-(50+10-3.2)),occ.Pnt(-1.6-120.5,-65,-(50+10)))\n",
    "l_steel3 = occ.Box(occ.Pnt(-1.6-120.5+3.2,-15,50+10-3.2),occ.Pnt(-1.6-120.5,-65,-(50+10)))\n",
    "l_steel = l_steel1 + l_steel2 + l_steel3\n",
    "\n",
    "##########################################################################\n",
    "# Glueing ...\n",
    "##########################################################################\n",
    "\n",
    "    \n",
    "half_box_1 = occ.Box(occ.Pnt(-100,-100,-50), occ.Pnt(0,100,50))\n",
    "half_box_2 = occ.Box(occ.Pnt(100,-100,-50), occ.Pnt(0,100,50))\n",
    "\n",
    "coil_half_box_1 = coil_full*half_box_1\n",
    "coil_half_box_2 = coil_full*half_box_2\n",
    "\n",
    "coil = occ.Glue([coil_half_box_1,coil_half_box_2])\n",
    "ambient =  occ.Box(occ.Pnt(-200,-200,-100), occ.Pnt(200,200,100))\n",
    "\n",
    "full = occ.Glue([coil, mid_steel, r_steel, l_steel, ambient])\n",
    "\n",
    "\n",
    "##########################################################################\n",
    "# Identifications\n",
    "##########################################################################\n",
    "\n",
    "\n",
    "for face in coil.faces: face.name = 'coil_face'\n",
    "# for face in coil_half_box_1.faces: face.name = 'coil_face_1'\n",
    "# for face in coil_half_box_2.faces: face.name = 'coil_face_2'\n",
    "\n",
    "for face in r_steel.faces: face.name = 'r_steel_face'\n",
    "for face in l_steel.faces: face.name = 'l_steel_face'\n",
    "for face in mid_steel.faces: face.name = 'mid_steel_face'\n",
    "for face in ambient.faces: face.name = 'ambient_face'\n",
    "\n",
    "coil.faces[6].name = 'coil_cut_1'\n",
    "coil.faces[12].name = 'coil_cut_2'\n",
    "\n",
    "coil.mat(\"coil\")\n",
    "r_steel.mat(\"r_steel\")\n",
    "l_steel.mat(\"l_steel\")\n",
    "mid_steel.mat(\"mid_steel\")\n",
    "    \n",
    "##########################################################################\n",
    "# \"Fancy\" coloring cuz why not I got a bit bored :)\n",
    "##########################################################################\n",
    "\n",
    "coil.faces.col=(1,0.5,0)\n",
    "l_steel.faces.col=(1,0.5,1)\n",
    "r_steel.faces.col=(1,0.5,1)\n",
    "mid_steel.faces.col=(1,0.5,1)\n",
    "ambient.faces.col=(1,1,1)\n",
    "\n",
    "##########################################################################\n",
    "\n",
    "DrawGeo(full, clipping={\"z\":-1, \"dist\":64});\n",
    "# DrawGeo(coil, clipping={\"z\":-1, \"dist\":64});\n",
    "\n",
    "geoOCC = occ.OCCGeometry(full)\n",
    "# ng.Draw(geoOCC)\n",
    "\n",
    "geoOCCmesh = geoOCC.GenerateMesh(maxh=8)\n",
    "# geoOCCmesh.Refine()\n",
    "# geoOCCmesh.Refine()\n",
    "\n",
    "DrawGeo(geoOCCmesh)"
   ]
  },
  {
   "cell_type": "code",
   "execution_count": 23,
   "id": "dd247ac3",
   "metadata": {},
   "outputs": [],
   "source": [
    "import ngsolve as ng\n",
    "\n",
    "# geoOCCmesh.Refine()\n",
    "mesh = ng.Mesh(geoOCCmesh)\n",
    "# mesh.Refine()\n",
    "# mesh.Refine()"
   ]
  },
  {
   "cell_type": "code",
   "execution_count": 24,
   "id": "0eb0e54f",
   "metadata": {},
   "outputs": [
    {
     "name": "stdout",
     "output_type": "stream",
     "text": [
      "np:  40804\n",
      "nt:  207083 nt/np:  5.075066169983335\n",
      "nf:  426001 nf/np:  10.440177433584942\n",
      "ne:  259721 ne/np:  6.365086756200372\n",
      "1371444\n",
      "DOFs for A-based Hcurl formulation after gauging:  1070919\n",
      "DOFs for B-based Hdiv formulation with hybridization:  1278003\n",
      "DOFs for B-based Hdiv formulation with mass-lumping:  621249\n",
      "Procentage more dofs: 0.5801082995072456\n",
      "1371444\n"
     ]
    }
   ],
   "source": [
    "print(\"np: \", mesh.nv)\n",
    "print(\"nt: \", mesh.ne, \"nt/np: \", mesh.ne/mesh.nv)\n",
    "print(\"nf: \", mesh.nface, \"nf/np: \", mesh.nface/mesh.nv)\n",
    "print(\"ne: \", mesh.nedge, \"ne/np: \", mesh.nedge/mesh.nv)\n",
    "\n",
    "order = 2\n",
    "\n",
    "HCurl = ng.HCurl(mesh = mesh, order = order, type1=True)\n",
    "print(HCurl.ndof)\n",
    "\n",
    "HCurl = ng.HCurl(mesh = mesh, order = order, type1=True, nograds=True)\n",
    "print(\"DOFs for A-based Hcurl formulation after gauging: \", HCurl.ndof-mesh.nv)\n",
    "\n",
    "print(\"DOFs for B-based Hdiv formulation with hybridization: \", 3*mesh.nface)\n",
    "print(\"DOFs for B-based Hdiv formulation with mass-lumping: \", 3*mesh.ne)\n",
    "\n",
    "print(\"Procentage more dofs:\", (3*mesh.ne)/(HCurl.ndof-mesh.nv))\n",
    "\n",
    "\n",
    "print(2*mesh.nedge + 2*mesh.nface)\n",
    "\n",
    "# help(HCurl)"
   ]
  },
  {
   "cell_type": "code",
   "execution_count": 25,
   "id": "6b9d9a80",
   "metadata": {},
   "outputs": [
    {
     "name": "stdout",
     "output_type": "stream",
     "text": [
      "(1111723, 1111723) 30754209\n"
     ]
    }
   ],
   "source": [
    "import scipy.sparse as sp\n",
    "\n",
    "u,v = HCurl.TnT()\n",
    "\n",
    "K = ng.BilinearForm(HCurl)\n",
    "K += ng.curl(u)*ng.curl(v)*ng.dx\n",
    "with ng.TaskManager(): K.Assemble()\n",
    "rows,cols,vals = K.mat.COO()\n",
    "A = sp.csr_matrix((vals,(rows,cols)))\n",
    "print(A.shape,A.nnz)\n",
    "\n"
   ]
  },
  {
   "cell_type": "markdown",
   "id": "98de515f",
   "metadata": {},
   "source": [
    "We solve $curl(H) = J$, $div(B) = 0$. \n",
    "Under the assumption of simple connectedness of the domain, we have that there exists a vector potential $A$ such that $curl(A) = B$. \n",
    "Together with the material law $H=f'(B)$, we obtain the equation $$curl(f'(curl(A))=J.$$\n",
    "As for the boundary condition, we can choose either $n\\times H=0$ (natural) or $n\\cdot B=0$ (essential). The essential condition translates into $0=n\\cdot curl(A)$\n",
    "\n",
    "Note that the solution to this equation is not unique. For any $\\psi\\in H^1_0$ and solution $A$, we have that $A+\\nabla\\psi$ is again a solution. Further, for compatibility, note that $J$ should satisfy $div\\,J=0$.\n",
    "If additionally we impose $div A = 0$, then any further solution should satisfy $0 = div A + \\Delta\\psi = \\Delta \\psi$, which implies that $\\psi=0$, which makes the solution unique. This is called Coulomb guaging\n",
    "\n",
    "For simplicity, let us consider the linear case where $f'(B)=\\nu_0 B$, i.e. $curl(\\nu\\,curl(A))=J.$"
   ]
  },
  {
   "cell_type": "markdown",
   "id": "eba115a8",
   "metadata": {},
   "source": [
    "Weak form: $$(f'(curl A), curl \\phi)+(n\\times f'(curl A),(n\\cdot\\psi)\\cdot n)_{\\partial\\Omega} = (J,\\psi)$$"
   ]
  }
 ],
 "metadata": {
  "kernelspec": {
   "display_name": "Python 3 (ipykernel)",
   "language": "python",
   "name": "python3"
  },
  "language_info": {
   "codemirror_mode": {
    "name": "ipython",
    "version": 3
   },
   "file_extension": ".py",
   "mimetype": "text/x-python",
   "name": "python",
   "nbconvert_exporter": "python",
   "pygments_lexer": "ipython3",
   "version": "3.11.7"
  },
  "widgets": {
   "application/vnd.jupyter.widget-state+json": {
    "state": {
     "undefined": {
      "model_module": "webgui_jupyter_widgets",
      "model_module_version": "2.0.0",
      "model_name": "WebguiModel",
      "state": {
       "_view_name": "ErrorWidgetView",
       "error": {},
       "msg": "Model class 'WebguiModel' from module 'webgui_jupyter_widgets' is loaded but can not be instantiated"
      }
     }
    },
    "version_major": 2,
    "version_minor": 0
   }
  }
 },
 "nbformat": 4,
 "nbformat_minor": 5
}
