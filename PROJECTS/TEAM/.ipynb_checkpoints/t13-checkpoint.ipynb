{
 "cells": [
  {
   "cell_type": "code",
   "execution_count": 1,
   "id": "f40d7826",
   "metadata": {},
   "outputs": [
    {
     "data": {
      "application/vnd.jupyter.widget-view+json": {
       "model_id": "4fe7c394b45f438da1caa64ecc47c3a2",
       "version_major": 2,
       "version_minor": 0
      },
      "text/plain": [
       "WebGuiWidget(layout=Layout(height='50vh', width='100%'), value={'ngsolve_version': 'Netgen x.x', 'mesh_dim': 3…"
      ]
     },
     "metadata": {},
     "output_type": "display_data"
    }
   ],
   "source": [
    "import ngsolve as ng\n",
    "import netgen.occ as occ\n",
    "# import netgen.gui\n",
    "from netgen.webgui import Draw as DrawGeo\n",
    "\n",
    "box1 = occ.Box(occ.Pnt(-100,-100,-50), occ.Pnt(100,100,50))\n",
    "box2 = occ.Box(occ.Pnt(-75,-75,-50), occ.Pnt(75,75,50))\n",
    "    \n",
    "##########################################################################\n",
    "# Rounding corners ...\n",
    "##########################################################################\n",
    "\n",
    "corner1_ext = occ.Box(occ.Pnt(75,75,-50), occ.Pnt(100,100,50))\n",
    "cyl1_ext = occ.Cylinder(occ.Pnt(75,75,-50), occ.Z, r=25, h=100)\n",
    "corner1_int = occ.Box(occ.Pnt(50,50,-50), occ.Pnt(75,75,50))\n",
    "cyl1_int = occ.Cylinder(occ.Pnt(50,50,-50), occ.Z, r=25, h=100)\n",
    "corner1_int = corner1_int-cyl1_int; corner1_ext = corner1_ext-cyl1_ext\n",
    "\n",
    "corner2_ext = occ.Box(occ.Pnt(-100,-100,-50), occ.Pnt(-75,-75,50))\n",
    "cyl2_ext = occ.Cylinder(occ.Pnt(-75,-75,-50), occ.Z, r=25, h=100)\n",
    "corner2_int = occ.Box(occ.Pnt(-75,-75,-50), occ.Pnt(-50,-50,50))\n",
    "cyl2_int = occ.Cylinder(occ.Pnt(-50,-50,-50), occ.Z, r=25, h=100)\n",
    "corner2_int = corner2_int-cyl2_int; corner2_ext = corner2_ext-cyl2_ext\n",
    "\n",
    "corner3_ext = occ.Box(occ.Pnt(75,-75,-50), occ.Pnt(100,-100,50))\n",
    "cyl3_ext = occ.Cylinder(occ.Pnt(75,-75,-50), occ.Z, r=25, h=100)\n",
    "corner3_int = occ.Box(occ.Pnt(50,-50,-50), occ.Pnt(75,-75,50))\n",
    "cyl3_int = occ.Cylinder(occ.Pnt(50,-50,-50), occ.Z, r=25, h=100)\n",
    "corner3_int = corner3_int-cyl3_int; corner3_ext = corner3_ext-cyl3_ext\n",
    "\n",
    "corner4_ext = occ.Box(occ.Pnt(-75,75,-50), occ.Pnt(-100,100,50))\n",
    "cyl4_ext = occ.Cylinder(occ.Pnt(-75,75,-50), occ.Z, r=25, h=100)\n",
    "corner4_int = occ.Box(occ.Pnt(-50,50,-50), occ.Pnt(-75,75,50))\n",
    "cyl4_int = occ.Cylinder(occ.Pnt(-50,50,-50), occ.Z, r=25, h=100)\n",
    "corner4_int = corner4_int-cyl4_int; corner4_ext = corner4_ext-cyl4_ext\n",
    "\n",
    "##########################################################################\n",
    "# Adding the steel parts\n",
    "##########################################################################\n",
    "\n",
    "coil = (box1-box2)+corner1_int-corner1_ext+corner2_int-corner2_ext+corner3_int-corner3_ext+corner4_int-corner4_ext\n",
    "\n",
    "mid_steel = occ.Box(occ.Pnt(-1.6,-25,-64.2),occ.Pnt(1.6,25,64.2))\n",
    "\n",
    "r_steel1 = occ.Box(occ.Pnt(1.6+0.5,15,50+10-3.2),occ.Pnt(1.6+120.5,65,50+10))\n",
    "r_steel2 = occ.Box(occ.Pnt(1.6+0.5,15,-(50+10-3.2)),occ.Pnt(1.6+120.5,65,-(50+10)))\n",
    "r_steel3 = occ.Box(occ.Pnt(1.6+120.5-3.2,15,50+10-3.2),occ.Pnt(1.6+120.5,65,-(50+10)))\n",
    "r_steel = r_steel1 + r_steel2 + r_steel3\n",
    "\n",
    "l_steel1 = occ.Box(occ.Pnt(-1.6-0.5,-15,50+10-3.2),occ.Pnt(-1.6-120.5,-65,50+10))\n",
    "l_steel2 = occ.Box(occ.Pnt(-1.6-0.5,-15,-(50+10-3.2)),occ.Pnt(-1.6-120.5,-65,-(50+10)))\n",
    "l_steel3 = occ.Box(occ.Pnt(-1.6-120.5+3.2,-15,50+10-3.2),occ.Pnt(-1.6-120.5,-65,-(50+10)))\n",
    "l_steel = l_steel1 + l_steel2 + l_steel3\n",
    "\n",
    "##########################################################################\n",
    "# Glueing ...\n",
    "##########################################################################\n",
    "\n",
    "geom = coil + mid_steel + r_steel + l_steel\n",
    "ambient =  occ.Box(occ.Pnt(-200,-200,-100), occ.Pnt(200,200,100))\n",
    "full = occ.Glue([geom, ambient])\n",
    "\n",
    "##########################################################################\n",
    "# Identifications\n",
    "##########################################################################\n",
    "\n",
    "for face in coil.faces: face.name = 'coil_face'\n",
    "for face in r_steel.faces: face.name = 'r_steel_face'\n",
    "for face in l_steel.faces: face.name = 'l_steel_face'\n",
    "for face in mid_steel.faces: face.name = 'mid_steel_face'\n",
    "for face in ambient.faces: face.name = 'ambient_face'\n",
    "\n",
    "coil.mat(\"coil\")\n",
    "r_steel.mat(\"r_steel\")\n",
    "l_steel.mat(\"l_steel\")\n",
    "mid_steel.mat(\"mid_steel\")\n",
    "    \n",
    "##########################################################################\n",
    "# \"Fancy\" coloring cuz why not I got a bit bored :)\n",
    "##########################################################################\n",
    "\n",
    "coil.faces.col=(1,0.5,0)\n",
    "l_steel.faces.col=(1,0.5,1)\n",
    "r_steel.faces.col=(1,0.5,1)\n",
    "mid_steel.faces.col=(1,0.5,1)\n",
    "ambient.faces.col=(1,1,1)\n",
    "\n",
    "DrawGeo(full, clipping={\"z\":-1, \"dist\":64});\n"
   ]
  },
  {
   "cell_type": "markdown",
   "id": "915acc5f",
   "metadata": {},
   "source": [
    "We solve $curl(H) = J$, $div(B) = 0$. \n",
    "Under the assumption of simple connectedness of the domain, we have that there exists a vector potential $A$ such that $curl(A) = B$. \n",
    "Together with the material law $H=f'(B)$, we obtain the equation $$curl(f'(curl(A))=J.$$\n",
    "Note that the solution to this equation is not unique. For any $\\psi\\in H^1$ and solution $A$, we have that $A+\\nabla\\psi$ is again a solution. Further, for compatibility, note that $J$ should satisfy $div\\,J=0$.\n",
    "If additionally we impose $div A = 0$, then\n",
    "\n",
    "For simplicity, let us consider the linear case where $f'(B)=\\nu_0 B$, i.e. $curl(\\nu\\,curl(A))=J.$"
   ]
  },
  {
   "cell_type": "code",
   "execution_count": null,
   "id": "59ed8b82",
   "metadata": {},
   "outputs": [],
   "source": []
  }
 ],
 "metadata": {
  "kernelspec": {
   "display_name": "Python 3 (ipykernel)",
   "language": "python",
   "name": "python3"
  },
  "language_info": {
   "codemirror_mode": {
    "name": "ipython",
    "version": 3
   },
   "file_extension": ".py",
   "mimetype": "text/x-python",
   "name": "python",
   "nbconvert_exporter": "python",
   "pygments_lexer": "ipython3",
   "version": "3.10.8"
  }
 },
 "nbformat": 4,
 "nbformat_minor": 5
}
