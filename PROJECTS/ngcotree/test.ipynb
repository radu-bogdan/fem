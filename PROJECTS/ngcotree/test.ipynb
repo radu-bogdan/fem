{
 "cells": [
  {
   "cell_type": "code",
   "execution_count": 11,
   "metadata": {},
   "outputs": [],
   "source": [
    "from ngsolve.webgui import Draw\n",
    "\n",
    "import numpy as np\n",
    "import ngsolve as ng\n",
    "import dill\n",
    "import pickle\n",
    "\n",
    "motor_npz = np.load('../meshes/motor_pizza_gap.npz', allow_pickle = True)\n",
    "\n",
    "geoOCC = motor_npz['geoOCC'].tolist()\n",
    "m = motor_npz['m']; m_new = m\n",
    "j3 = motor_npz['j3']\n",
    "\n",
    "geoOCCmesh = geoOCC.GenerateMesh()\n",
    "mesh = ng.Mesh(geoOCCmesh)\n",
    "# mesh.Refine()\n",
    "\n",
    "# Draw(mesh)"
   ]
  },
  {
   "cell_type": "code",
   "execution_count": 12,
   "metadata": {},
   "outputs": [],
   "source": [
    "# import sys\n",
    "# sys.path.insert(0,'../../') # adds parent directory\n",
    "\n",
    "# import pde\n",
    "# order = 2\n",
    "\n",
    "# MESH = pde.mesh.netgen(mesh.ngmesh)\n",
    "\n",
    "# phi_Hcurl = lambda x : pde.hcurl.assemble(MESH, space = 'N0', matrix = 'phi', order = x)\n",
    "# curlphi_Hcurl = lambda x : pde.hcurl.assemble(MESH, space = 'N0', matrix = 'curlphi', order = x)\n",
    "\n",
    "# D = lambda x : pde.int.assemble(MESH, order = x)\n",
    "\n",
    "# myM = lambda x: phi_Hcurl(x)[0] @ D(x) @ phi_Hcurl(x)[0].T + \\\n",
    "#                 phi_Hcurl(x)[1] @ D(x) @ phi_Hcurl(x)[1].T\n",
    "\n",
    "# myK = lambda x: curlphi_Hcurl(x) @ D(x) @ curlphi_Hcurl(x).T\n",
    "\n",
    "# R = pde.tools.tree_cotree_gauge(MESH)"
   ]
  },
  {
   "cell_type": "code",
   "execution_count": 13,
   "metadata": {},
   "outputs": [
    {
     "data": {
      "text/plain": [
       "<ngsolve.comp.LinearForm at 0x11cf73630>"
      ]
     },
     "execution_count": 13,
     "metadata": {},
     "output_type": "execute_result"
    }
   ],
   "source": [
    "# HCurl = ng.HCurl(mesh, order = 1, nograds = True, dirichlet = 'stator_outer')\n",
    "HCurl = ng.HCurl(mesh, order = 1, nograds = True)\n",
    "\n",
    "u,v = HCurl.TnT()\n",
    "\n",
    "K = ng.BilinearForm(HCurl)\n",
    "K += (ng.curl(u)*ng.curl(v)+0*u*v)*ng.dx\n",
    "K.Assemble()\n",
    "\n",
    "f = ng.LinearForm(HCurl)\n",
    "f += ng.CF(1)*ng.curl(v)*ng.dx\n",
    "# f += ng.CF((1,1))*v*ng.dx\n",
    "f.Assemble()\n",
    "\n",
    "# rows,cols,vals = K.mat.COO()\n",
    "# import scipy.sparse as sp\n",
    "# ngK = sp.csr_matrix((vals,(rows,cols)))\n",
    "\n",
    "# np.linalg.matrix_rank(ngK.A)\n",
    "# print(ngK.shape)"
   ]
  },
  {
   "cell_type": "code",
   "execution_count": 14,
   "metadata": {},
   "outputs": [],
   "source": [
    "# List all edges... this is still kinda slow but what can you do\n",
    "i = 0\n",
    "edges = []\n",
    "for edge in mesh.edges:\n",
    "    index = HCurl.FreeDofs()[i]\n",
    "    edge = [int(str(edge.vertices[0])[1:]), int(str(edge.vertices[1])[1:]), i]\n",
    "    i = i + 1\n",
    "    if index == 1:\n",
    "        # Append only FreeDof edges. This eliminates Dirichlet edges from the tree\n",
    "        edges.append(edge)\n",
    "\n",
    "edges = np.array(edges)"
   ]
  },
  {
   "cell_type": "code",
   "execution_count": 15,
   "metadata": {},
   "outputs": [
    {
     "name": "stdout",
     "output_type": "stream",
     "text": [
      "9684 3452 3454 3452 6232\n"
     ]
    }
   ],
   "source": [
    "from mst5 import *\n",
    "g = Graph(mesh.nv)\n",
    "g.addEdges(edges)\n",
    "mst = g.KruskalMST(randomize=True)\n",
    "\n",
    "tree_indices = np.array(mst)\n",
    "cotree_indices = np.setdiff1d(np.array(edges)[:,2],tree_indices)\n",
    "print(mesh.nedge,len(mst),mesh.nv,tree_indices.size,cotree_indices.size)"
   ]
  },
  {
   "cell_type": "code",
   "execution_count": 16,
   "metadata": {},
   "outputs": [
    {
     "data": {
      "text/plain": [
       "array([3532, 2252,  658, ..., 2333, 2324, 3194])"
      ]
     },
     "execution_count": 16,
     "metadata": {},
     "output_type": "execute_result"
    }
   ],
   "source": [
    "tree_indices"
   ]
  },
  {
   "cell_type": "code",
   "execution_count": 17,
   "metadata": {},
   "outputs": [
    {
     "data": {
      "text/plain": [
       "array([3532, 2252,  658, ..., 2333, 2324, 3194])"
      ]
     },
     "execution_count": 17,
     "metadata": {},
     "output_type": "execute_result"
    }
   ],
   "source": [
    "tree_indices"
   ]
  },
  {
   "cell_type": "code",
   "execution_count": 18,
   "metadata": {},
   "outputs": [],
   "source": [
    "import pyngcore as pyng\n",
    "FreeDofsCotreeGauge = pyng.BitArray(HCurl.FreeDofs())\n",
    "# print(np.array(FreeDofsCotreeGauge).size, mesh.nedge)\n",
    "\n",
    "# print(FreeDofsCotreeGauge[2])\n",
    "# i = 1\n",
    "for i,j in enumerate(tree_indices):\n",
    "    # FreeDofsCotreeGauge.Clear(j)\n",
    "    # print(i,j)\n",
    "    FreeDofsCotreeGauge.Clear(j)\n",
    "# print(FreeDofsCotreeGauge)\n",
    "# print(HCurl.FreeDofs())"
   ]
  },
  {
   "cell_type": "code",
   "execution_count": 19,
   "metadata": {},
   "outputs": [
    {
     "data": {
      "application/vnd.jupyter.widget-view+json": {
       "model_id": "101d816c8995440dad1c1ee990f941b8",
       "version_major": 2,
       "version_minor": 0
      },
      "text/plain": [
       "WebGuiWidget(layout=Layout(height='500px', width='100%'), value={'gui_settings': {}, 'ngsolve_version': '6.2.2…"
      ]
     },
     "metadata": {},
     "output_type": "display_data"
    },
    {
     "data": {
      "application/vnd.jupyter.widget-view+json": {
       "model_id": "20eca0195c23438788e16ddbb511c601",
       "version_major": 2,
       "version_minor": 0
      },
      "text/plain": [
       "WebGuiWidget(layout=Layout(height='500px', width='100%'), value={'gui_settings': {}, 'ngsolve_version': '6.2.2…"
      ]
     },
     "metadata": {},
     "output_type": "display_data"
    },
    {
     "data": {
      "text/plain": [
       "0.001171580384198178"
      ]
     },
     "execution_count": 19,
     "metadata": {},
     "output_type": "execute_result"
    }
   ],
   "source": [
    "x = ng.GridFunction(HCurl)\n",
    "x.vec.data = K.mat.Inverse(freedofs = FreeDofsCotreeGauge, inverse = 'sparsecholesky')*f.vec\n",
    "# x.vec.data = K.mat.Inverse(HCurl.FreeDofs(), inverse = 'sparsecholesky')*f.vec\n",
    "Draw(x, mesh)\n",
    "Draw(ng.curl(x), mesh)\n",
    "x.vec.data.FV().NumPy().max()\n",
    "# np.where(FreeDofsCotreeGauge)[0].shape"
   ]
  },
  {
   "cell_type": "code",
   "execution_count": 20,
   "metadata": {},
   "outputs": [
    {
     "ename": "NameError",
     "evalue": "name 'MESH' is not defined",
     "output_type": "error",
     "traceback": [
      "\u001b[0;31m---------------------------------------------------------------------------\u001b[0m",
      "\u001b[0;31mNameError\u001b[0m                                 Traceback (most recent call last)",
      "Cell \u001b[0;32mIn[20], line 1\u001b[0m\n\u001b[0;32m----> 1\u001b[0m edges \u001b[38;5;241m=\u001b[39m \u001b[43mMESH\u001b[49m\u001b[38;5;241m.\u001b[39mEdgesToVertices[:,:\u001b[38;5;241m2\u001b[39m]\n\u001b[1;32m      3\u001b[0m \u001b[38;5;66;03m# for i in range(edges.shape[0]): g.addEdge(edges[i,0],edges[i,1],i)\u001b[39;00m\n\u001b[1;32m      7\u001b[0m mst \u001b[38;5;241m=\u001b[39m g\u001b[38;5;241m.\u001b[39mKruskalMST()\n",
      "\u001b[0;31mNameError\u001b[0m: name 'MESH' is not defined"
     ]
    }
   ],
   "source": [
    "\n",
    "\n",
    "edges = MESH.EdgesToVertices[:,:2]\n",
    "\n",
    "# for i in range(edges.shape[0]): g.addEdge(edges[i,0],edges[i,1],i)\n",
    "\n",
    "\n",
    "\n",
    "mst = g.KruskalMST()\n",
    "\n",
    "\n",
    "# tree_indices = np.array(g.MST)[:,2]\n",
    "# cotree_indices = np.setdiff1d(np.arange(MESH.NoEdges),tree_indices)"
   ]
  },
  {
   "cell_type": "code",
   "execution_count": null,
   "metadata": {},
   "outputs": [],
   "source": [
    "# for edge in mesh.edges:\n",
    "#     print(edge.vertices)\n",
    "\n",
    "print(MESH.EdgesToVertices)\n",
    "\n",
    "# Generate or load a mesh\n",
    "# mesh = Mesh(unit_square.GenerateMesh(maxh=0.2))\n",
    "\n",
    "\n",
    "# # Print edge list\n",
    "# for i, e in enumerate(edges):\n",
    "#     print(f\"Edge {i}: connects vertex {e[0]} to vertex {e[1]}\")\n",
    "edges"
   ]
  },
  {
   "cell_type": "code",
   "execution_count": null,
   "metadata": {},
   "outputs": [],
   "source": []
  },
  {
   "cell_type": "code",
   "execution_count": null,
   "metadata": {},
   "outputs": [],
   "source": []
  }
 ],
 "metadata": {
  "kernelspec": {
   "display_name": "pdefem",
   "language": "python",
   "name": "python3"
  },
  "language_info": {
   "codemirror_mode": {
    "name": "ipython",
    "version": 3
   },
   "file_extension": ".py",
   "mimetype": "text/x-python",
   "name": "python",
   "nbconvert_exporter": "python",
   "pygments_lexer": "ipython3",
   "version": "3.11.7"
  }
 },
 "nbformat": 4,
 "nbformat_minor": 2
}
