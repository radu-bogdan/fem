{
 "cells": [
  {
   "cell_type": "code",
   "execution_count": null,
   "metadata": {},
   "outputs": [],
   "source": [
    "from ngsolve.webgui import Draw\n",
    "\n",
    "import numpy as np\n",
    "import ngsolve as ng\n",
    "import dill\n",
    "import pickle\n",
    "\n",
    "motor_npz = np.load('../meshes/motor_pizza.npz', allow_pickle = True)\n",
    "\n",
    "geoOCC = motor_npz['geoOCC'].tolist()\n",
    "m = motor_npz['m']; m_new = m\n",
    "j3 = motor_npz['j3']\n",
    "\n",
    "geoOCCmesh = geoOCC.GenerateMesh()\n",
    "mesh = ng.Mesh(geoOCCmesh)\n",
    "# mesh.Refine()\n",
    "\n",
    "# Draw(mesh)"
   ]
  },
  {
   "cell_type": "code",
   "execution_count": null,
   "metadata": {},
   "outputs": [],
   "source": [
    "# import sys\n",
    "# sys.path.insert(0,'../../') # adds parent directory\n",
    "\n",
    "# import pde\n",
    "# order = 2\n",
    "\n",
    "# MESH = pde.mesh.netgen(mesh.ngmesh)\n",
    "\n",
    "# phi_Hcurl = lambda x : pde.hcurl.assemble(MESH, space = 'N0', matrix = 'phi', order = x)\n",
    "# curlphi_Hcurl = lambda x : pde.hcurl.assemble(MESH, space = 'N0', matrix = 'curlphi', order = x)\n",
    "\n",
    "# D = lambda x : pde.int.assemble(MESH, order = x)\n",
    "\n",
    "# myM = lambda x: phi_Hcurl(x)[0] @ D(x) @ phi_Hcurl(x)[0].T + \\\n",
    "#                 phi_Hcurl(x)[1] @ D(x) @ phi_Hcurl(x)[1].T\n",
    "\n",
    "# myK = lambda x: curlphi_Hcurl(x) @ D(x) @ curlphi_Hcurl(x).T\n",
    "\n",
    "# R = pde.tools.tree_cotree_gauge(MESH)"
   ]
  },
  {
   "cell_type": "code",
   "execution_count": 64,
   "metadata": {},
   "outputs": [
    {
     "data": {
      "text/plain": [
       "<ngsolve.comp.LinearForm at 0x38208aeb0>"
      ]
     },
     "execution_count": 64,
     "metadata": {},
     "output_type": "execute_result"
    }
   ],
   "source": [
    "HCurl = ng.HCurl(mesh, order = 1, nograds = True, dirichlet = 'stator_outer')\n",
    "\n",
    "u,v = HCurl.TnT()\n",
    "\n",
    "K = ng.BilinearForm(HCurl)\n",
    "K += (ng.curl(u)*ng.curl(v)+0*u*v)*ng.dx\n",
    "K.Assemble()\n",
    "\n",
    "f = ng.LinearForm(HCurl)\n",
    "f += ng.CF(1)*ng.curl(v)*ng.dx\n",
    "# f += ng.CF((1,1))*v*ng.dx\n",
    "f.Assemble()\n",
    "\n",
    "# rows,cols,vals = K.mat.COO()\n",
    "# import scipy.sparse as sp\n",
    "# ngK = sp.csr_matrix((vals,(rows,cols)))\n",
    "\n",
    "# np.linalg.matrix_rank(ngK.A)\n",
    "# print(ngK.shape)"
   ]
  },
  {
   "cell_type": "code",
   "execution_count": 65,
   "metadata": {},
   "outputs": [],
   "source": [
    "# List all edges... this is still kinda slow but what can you do\n",
    "i = 0\n",
    "edges = []\n",
    "for edge in mesh.edges:\n",
    "    index = HCurl.FreeDofs()[i]\n",
    "    edge = [int(str(edge.vertices[0])[1:]), int(str(edge.vertices[1])[1:])]\n",
    "    i = i + 1\n",
    "    if index == 1:\n",
    "        # Append only FreeDof edges. This eliminates Dirichlet edges.\n",
    "        edges.append(edge)"
   ]
  },
  {
   "cell_type": "code",
   "execution_count": 66,
   "metadata": {},
   "outputs": [],
   "source": [
    "from mst4 import *\n",
    "g = Graph(MESH.np)\n",
    "g.addEdges(edges)\n",
    "mst = g.KruskalMST()\n",
    "\n",
    "tree_indices = np.array(mst)\n",
    "cotree_indices = np.setdiff1d(np.arange(MESH.NoEdges),tree_indices)\n",
    "# print(MESH.NoEdges,len(mst),MESH.np,tree_indices.size,cotree_indices.size)"
   ]
  },
  {
   "cell_type": "code",
   "execution_count": 71,
   "metadata": {},
   "outputs": [],
   "source": [
    "import pyngcore as pyng\n",
    "FreeDofsCotreeGauge = pyng.BitArray(HCurl.FreeDofs())\n",
    "\n",
    "for _,j in enumerate(cotree_indices): FreeDofsCotreeGauge.Clear(j)\n",
    "# print(FreeDofsCotreeGauge)"
   ]
  },
  {
   "cell_type": "code",
   "execution_count": 72,
   "metadata": {},
   "outputs": [
    {
     "data": {
      "application/vnd.jupyter.widget-view+json": {
       "model_id": "8b295d848b9442b2b9f3c73a38b77614",
       "version_major": 2,
       "version_minor": 0
      },
      "text/plain": [
       "WebGuiWidget(layout=Layout(height='500px', width='100%'), value={'gui_settings': {}, 'ngsolve_version': '6.2.2…"
      ]
     },
     "metadata": {},
     "output_type": "display_data"
    },
    {
     "data": {
      "text/plain": [
       "BaseWebGuiScene"
      ]
     },
     "execution_count": 72,
     "metadata": {},
     "output_type": "execute_result"
    }
   ],
   "source": [
    "x = ng.GridFunction(HCurl)\n",
    "x.vec.data = K.mat.Inverse(freedofs = FreeDofsCotreeGauge, inverse = 'sparsecholesky')*f.vec\n",
    "# x.vec.data = K.mat.Inverse(HCurl.FreeDofs(), inverse = 'sparsecholesky')*f.vec\n",
    "\n",
    "Draw(x)"
   ]
  },
  {
   "cell_type": "code",
   "execution_count": null,
   "metadata": {},
   "outputs": [],
   "source": [
    "\n",
    "\n",
    "edges = MESH.EdgesToVertices[:,:2]\n",
    "\n",
    "# for i in range(edges.shape[0]): g.addEdge(edges[i,0],edges[i,1],i)\n",
    "\n",
    "\n",
    "\n",
    "mst = g.KruskalMST()\n",
    "\n",
    "\n",
    "# tree_indices = np.array(g.MST)[:,2]\n",
    "# cotree_indices = np.setdiff1d(np.arange(MESH.NoEdges),tree_indices)"
   ]
  },
  {
   "cell_type": "code",
   "execution_count": null,
   "metadata": {},
   "outputs": [],
   "source": [
    "# for edge in mesh.edges:\n",
    "#     print(edge.vertices)\n",
    "\n",
    "print(MESH.EdgesToVertices)\n",
    "\n",
    "# Generate or load a mesh\n",
    "# mesh = Mesh(unit_square.GenerateMesh(maxh=0.2))\n",
    "\n",
    "\n",
    "# # Print edge list\n",
    "# for i, e in enumerate(edges):\n",
    "#     print(f\"Edge {i}: connects vertex {e[0]} to vertex {e[1]}\")\n",
    "edges"
   ]
  },
  {
   "cell_type": "code",
   "execution_count": null,
   "metadata": {},
   "outputs": [],
   "source": []
  },
  {
   "cell_type": "code",
   "execution_count": null,
   "metadata": {},
   "outputs": [],
   "source": []
  }
 ],
 "metadata": {
  "kernelspec": {
   "display_name": "pdefem",
   "language": "python",
   "name": "python3"
  },
  "language_info": {
   "codemirror_mode": {
    "name": "ipython",
    "version": 3
   },
   "file_extension": ".py",
   "mimetype": "text/x-python",
   "name": "python",
   "nbconvert_exporter": "python",
   "pygments_lexer": "ipython3",
   "version": "3.11.7"
  }
 },
 "nbformat": 4,
 "nbformat_minor": 2
}
