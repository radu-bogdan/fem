{
 "cells": [
  {
   "cell_type": "code",
   "execution_count": 6,
   "metadata": {},
   "outputs": [
    {
     "data": {
      "application/vnd.jupyter.widget-view+json": {
       "model_id": "c72ef20dbb464650b48c4058956ad695",
       "version_major": 2,
       "version_minor": 0
      },
      "text/plain": [
       "EmbeddableWidget(value='<iframe srcdoc=\"<!DOCTYPE html>\\n<html>\\n  <head>\\n    <meta http-equiv=&quot;Content-…"
      ]
     },
     "metadata": {},
     "output_type": "display_data"
    }
   ],
   "source": [
    "import numpy as np\n",
    "\n",
    "def plot_3d_points_and_lines(points, edges):\n",
    "    \"\"\"\n",
    "    Plots 3D points and lines connecting them based on given edges.\n",
    "\n",
    "    Args:\n",
    "    points (np.array): An Nx3 array of 3D points.\n",
    "    edges (np.array): An Mx2 array of indices into the points array, indicating which points are connected.\n",
    "    \"\"\"\n",
    "    import pyvista as pv\n",
    "\n",
    "    # Create a PolyData object\n",
    "    point_cloud = pv.PolyData()\n",
    "    point_cloud.points = points\n",
    "\n",
    "    # Convert edges array into a format suitable for PolyData\n",
    "    if len(edges) == 0:\n",
    "        lines = np.array([], dtype=np.int_)\n",
    "    else:\n",
    "        lines = np.empty((edges.size + edges.shape[0],), dtype=np.int_)\n",
    "        lines[0::3] = 2  # Each line segment connecting two points\n",
    "        lines[1::3] = edges[:, 0]  # Start point of each line\n",
    "        lines[2::3] = edges[:, 1]  # End point of each line\n",
    "    point_cloud.lines = lines\n",
    "\n",
    "    # Create a plotter object and add the point cloud\n",
    "    plotter = pv.Plotter()\n",
    "    plotter.add_mesh(point_cloud, show_edges=False, line_width=5, point_size=10.0, color='blue', render_points_as_spheres=False)\n",
    "    # plotter.show_grid()\n",
    "    # Display the plot\n",
    "    plotter.show(jupyter_backend = 'html')\n",
    "\n",
    "# Example usage\n",
    "points = np.random.rand(10, 3)\n",
    "edges = np.array([\n",
    "    [0, 1],\n",
    "    [1, 2],\n",
    "    [2, 3],\n",
    "    [3, 4],\n",
    "    [4, 5],\n",
    "    [5, 6],\n",
    "    [6, 7],\n",
    "    [7, 8],\n",
    "    [8, 9]\n",
    "])\n",
    "\n",
    "plot_3d_points_and_lines(points, edges)\n",
    "\n"
   ]
  },
  {
   "cell_type": "code",
   "execution_count": 7,
   "metadata": {},
   "outputs": [
    {
     "data": {
      "application/vnd.jupyter.widget-view+json": {
       "model_id": "34cfa3580ea541b2879748e6ffbf9ecb",
       "version_major": 2,
       "version_minor": 0
      },
      "text/plain": [
       "Widget(value='<iframe src=\"http://localhost:56763/index.html?ui=P_0x1aebc9e8790_6&reconnect=auto\" class=\"pyvis…"
      ]
     },
     "metadata": {},
     "output_type": "display_data"
    }
   ],
   "source": [
    "import pyvista as pv\n",
    "\n",
    "# Create a random point cloud with Cartesian coordinates\n",
    "points = np.random.rand(100, 3)\n",
    "# Construct PolyData from those points\n",
    "point_cloud = pv.PolyData(points)\n",
    "\n",
    "\n",
    "def compute_vectors(mesh):\n",
    "    \"\"\"Create normalized vectors pointing outward from the center of the cloud.\"\"\"\n",
    "    origin = mesh.center\n",
    "    vectors = mesh.points - origin\n",
    "    vectors = vectors / np.linalg.norm(vectors, axis=1)[:, None]\n",
    "    return vectors\n",
    "\n",
    "\n",
    "vectors = compute_vectors(point_cloud)\n",
    "vectors[0:5, :]\n",
    "\n",
    "point_cloud['vectors'] = vectors\n",
    "\n",
    "\n",
    "arrows = point_cloud.glyph(\n",
    "    orient='vectors',\n",
    "    scale=False,\n",
    "    factor=0.15,\n",
    ")\n",
    "\n",
    "# Display the arrows\n",
    "plotter = pv.Plotter()\n",
    "plotter.add_mesh(point_cloud, color='maroon', point_size=10.0, render_points_as_spheres=True)\n",
    "plotter.add_mesh(arrows, color='lightblue')\n",
    "# plotter.add_point_labels([point_cloud.center,], ['Center',],\n",
    "#                          point_color='yellow', point_size=20)\n",
    "plotter.show_grid()\n",
    "plotter.show()"
   ]
  }
 ],
 "metadata": {
  "kernelspec": {
   "display_name": "pdefem",
   "language": "python",
   "name": "python3"
  },
  "language_info": {
   "codemirror_mode": {
    "name": "ipython",
    "version": 3
   },
   "file_extension": ".py",
   "mimetype": "text/x-python",
   "name": "python",
   "nbconvert_exporter": "python",
   "pygments_lexer": "ipython3",
   "version": "3.10.13"
  }
 },
 "nbformat": 4,
 "nbformat_minor": 2
}
