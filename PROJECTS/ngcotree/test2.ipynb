{
 "cells": [
  {
   "cell_type": "code",
   "execution_count": 2,
   "metadata": {},
   "outputs": [],
   "source": [
    "from ngsolve.webgui import Draw\n",
    "\n",
    "import numpy as np\n",
    "import ngsolve as ng\n",
    "import dill\n",
    "import pickle\n",
    "\n",
    "motor_npz = np.load('../meshes/motor_pizza_gap.npz', allow_pickle = True)\n",
    "\n",
    "geoOCC = motor_npz['geoOCC'].tolist()\n",
    "m = motor_npz['m']; m_new = m\n",
    "j3 = motor_npz['j3']\n",
    "\n",
    "geoOCCmesh = geoOCC.GenerateMesh()\n",
    "mesh = ng.Mesh(geoOCCmesh)\n",
    "# mesh.Refine()\n",
    "\n",
    "# Draw(mesh)"
   ]
  },
  {
   "cell_type": "code",
   "execution_count": 3,
   "metadata": {},
   "outputs": [],
   "source": [
    "# import sys\n",
    "# sys.path.insert(0,'../../') # adds parent directory\n",
    "\n",
    "# import pde\n",
    "# order = 2\n",
    "\n",
    "# MESH = pde.mesh.netgen(mesh.ngmesh)\n",
    "\n",
    "# phi_Hcurl = lambda x : pde.hcurl.assemble(MESH, space = 'N0', matrix = 'phi', order = x)\n",
    "# curlphi_Hcurl = lambda x : pde.hcurl.assemble(MESH, space = 'N0', matrix = 'curlphi', order = x)\n",
    "\n",
    "# D = lambda x : pde.int.assemble(MESH, order = x)\n",
    "\n",
    "# myM = lambda x: phi_Hcurl(x)[0] @ D(x) @ phi_Hcurl(x)[0].T + \\\n",
    "#                 phi_Hcurl(x)[1] @ D(x) @ phi_Hcurl(x)[1].T\n",
    "\n",
    "# myK = lambda x: curlphi_Hcurl(x) @ D(x) @ curlphi_Hcurl(x).T\n",
    "\n",
    "# R = pde.tools.tree_cotree_gauge(MESH)"
   ]
  },
  {
   "cell_type": "code",
   "execution_count": 4,
   "metadata": {},
   "outputs": [
    {
     "data": {
      "text/plain": [
       "<ngsolve.comp.LinearForm at 0x254710a7df0>"
      ]
     },
     "execution_count": 4,
     "metadata": {},
     "output_type": "execute_result"
    }
   ],
   "source": [
    "HCurl = ng.HCurl(mesh, order = 2, nograds = True, dirichlet = 'left|right|stator_outer')\n",
    "# HCurl = ng.HCurl(mesh, order = 2, nograds = True)\n",
    "\n",
    "u,v = HCurl.TnT()\n",
    "\n",
    "K = ng.BilinearForm(HCurl)\n",
    "# K += (ng.curl(u)*ng.curl(v)+1e-5*u*v)*ng.dx\n",
    "K += (ng.curl(u)*ng.curl(v)+0*u*v)*ng.dx\n",
    "K.Assemble()\n",
    "\n",
    "f = ng.LinearForm(HCurl)\n",
    "f += ng.InnerProduct(ng.CF(ng.x**2),ng.curl(v))*ng.dx\n",
    "# f += ng.CF((1,1))*v*ng.dx\n",
    "f.Assemble()\n",
    "\n",
    "# rows,cols,vals = K.mat.COO()\n",
    "# import scipy.sparse as sp\n",
    "# ngK = sp.csr_matrix((vals,(rows,cols)))\n",
    "\n",
    "# np.linalg.matrix_rank(ngK.A)\n",
    "# print(ngK.shape)"
   ]
  },
  {
   "cell_type": "code",
   "execution_count": 5,
   "metadata": {},
   "outputs": [],
   "source": [
    "from mst5 import *\n",
    "newFreeDofs = CoTreeBitArray(mesh, HCurl)"
   ]
  },
  {
   "cell_type": "code",
   "execution_count": 6,
   "metadata": {},
   "outputs": [
    {
     "data": {
      "application/vnd.jupyter.widget-view+json": {
       "model_id": "3f2cf3f77aab4482a7580de26f1c4710",
       "version_major": 2,
       "version_minor": 0
      },
      "text/plain": [
       "WebGuiWidget(layout=Layout(height='500px', width='100%'), value={'gui_settings': {}, 'ngsolve_version': '6.2.2…"
      ]
     },
     "metadata": {},
     "output_type": "display_data"
    },
    {
     "data": {
      "application/vnd.jupyter.widget-view+json": {
       "model_id": "84809f6f3ecc401488e2d3364e16ba8e",
       "version_major": 2,
       "version_minor": 0
      },
      "text/plain": [
       "WebGuiWidget(layout=Layout(height='500px', width='100%'), value={'gui_settings': {}, 'ngsolve_version': '6.2.2…"
      ]
     },
     "metadata": {},
     "output_type": "display_data"
    },
    {
     "data": {
      "text/plain": [
       "2.8933523386390172e-05"
      ]
     },
     "execution_count": 6,
     "metadata": {},
     "output_type": "execute_result"
    }
   ],
   "source": [
    "A = ng.GridFunction(HCurl)\n",
    "A.vec.data = K.mat.Inverse(freedofs = newFreeDofs, inverse = 'sparsecholesky')*f.vec\n",
    "# A.vec.data = K.mat.Inverse(HCurl.FreeDofs(), inverse = 'sparsecholesky')*f.vec\n",
    "\n",
    "Draw(A, vectors={\"grid_size\":100})\n",
    "Draw(ng.curl(A), mesh)\n",
    "A.vec.data.FV().NumPy().max()\n",
    "# np.where(FreeDofsCotreeGauge)[0].shape\n",
    "\n",
    "ng.Integrate(ng.curl(A),mesh)"
   ]
  }
 ],
 "metadata": {
  "kernelspec": {
   "display_name": "pdefem",
   "language": "python",
   "name": "python3"
  },
  "language_info": {
   "codemirror_mode": {
    "name": "ipython",
    "version": 3
   },
   "file_extension": ".py",
   "mimetype": "text/x-python",
   "name": "python",
   "nbconvert_exporter": "python",
   "pygments_lexer": "ipython3",
   "version": "3.10.13"
  }
 },
 "nbformat": 4,
 "nbformat_minor": 2
}
