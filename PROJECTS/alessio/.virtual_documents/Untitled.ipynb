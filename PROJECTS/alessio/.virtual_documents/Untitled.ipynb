from geo_and_mesh import *
from ngsolve.webgui import Draw

import sys
sys.path.insert(0,'../../../') # adds parent directory
# import pde
import scipy.linalg
# import netgen.gui

fes = H1(mesh=mesh, order=1, dirichlet='stator_outer')

u,v = fes.TnT()
gfu = GridFunction(fes)

a = BilinearForm(fes)
a += (grad(u)[0]*grad(v)[0] + grad(u)[1]*grad(v)[1] ) * dx
a.Assemble()

rowsA, colsA, valsA = a.mat.COO()
K = sp.csr_matrix((valsA,(rowsA,colsA)))

print(scipy.linalg.interpolative.estimate_rank(K.A,eps=1e-12))


Draw(mesh)



