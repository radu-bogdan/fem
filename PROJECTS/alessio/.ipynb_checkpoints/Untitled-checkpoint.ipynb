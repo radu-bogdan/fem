{
 "cells": [
  {
   "cell_type": "code",
   "execution_count": 1,
   "id": "056b0775-f7cd-4ef3-9cba-bbc6618df95c",
   "metadata": {},
   "outputs": [
    {
     "name": "stdout",
     "output_type": "stream",
     "text": [
      "725\n"
     ]
    }
   ],
   "source": [
    "from geo_and_mesh import *\n",
    "from ngsolve.webgui import Draw\n",
    "\n",
    "import sys\n",
    "sys.path.insert(0,'../../../') # adds parent directory\n",
    "# import pde\n",
    "import scipy.linalg\n",
    "# import netgen.gui\n",
    "\n",
    "fes = H1(mesh=mesh, order=1, dirichlet='stator_outer')\n",
    "\n",
    "u,v = fes.TnT()\n",
    "gfu = GridFunction(fes)\n",
    "\n",
    "a = BilinearForm(fes)\n",
    "a += (grad(u)[0]*grad(v)[0] + grad(u)[1]*grad(v)[1] ) * dx\n",
    "a.Assemble()\n",
    "\n",
    "rowsA, colsA, valsA = a.mat.COO()\n",
    "K = sp.csr_matrix((valsA,(rowsA,colsA)))\n",
    "\n",
    "print(scipy.linalg.interpolative.estimate_rank(K.A,eps=1e-12))"
   ]
  },
  {
   "cell_type": "code",
   "execution_count": 2,
   "id": "86060962-99e0-40e8-a050-0ab2c47de8a3",
   "metadata": {},
   "outputs": [
    {
     "data": {
      "text/plain": [
       "<netgen.webgui.WebGLScene at 0x10472e350>"
      ]
     },
     "execution_count": 2,
     "metadata": {},
     "output_type": "execute_result"
    }
   ],
   "source": [
    "Draw(mesh)"
   ]
  },
  {
   "cell_type": "code",
   "execution_count": null,
   "id": "ea53419f-7494-4774-9a1b-969e0200f303",
   "metadata": {},
   "outputs": [],
   "source": []
  }
 ],
 "metadata": {
  "kernelspec": {
   "display_name": "Python 3 (ipykernel)",
   "language": "python",
   "name": "python3"
  },
  "language_info": {
   "codemirror_mode": {
    "name": "ipython",
    "version": 3
   },
   "file_extension": ".py",
   "mimetype": "text/x-python",
   "name": "python",
   "nbconvert_exporter": "python",
   "pygments_lexer": "ipython3",
   "version": "3.11.7"
  },
  "widgets": {
   "application/vnd.jupyter.widget-state+json": {
    "state": {},
    "version_major": 2,
    "version_minor": 0
   }
  }
 },
 "nbformat": 4,
 "nbformat_minor": 5
}
