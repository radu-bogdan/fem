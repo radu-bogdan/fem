{
 "cells": [
  {
   "cell_type": "code",
   "execution_count": 81,
   "metadata": {},
   "outputs": [
    {
     "data": {
      "application/vnd.jupyter.widget-view+json": {
       "model_id": "b089e7510d0c404e805528d17eb328ff",
       "version_major": 2,
       "version_minor": 0
      },
      "text/plain": [
       "WebGuiWidget(layout=Layout(height='500px', width='100%'), value={'gui_settings': {}, 'ngsolve_version': '6.2.2…"
      ]
     },
     "metadata": {},
     "output_type": "display_data"
    },
    {
     "name": "stdout",
     "output_type": "stream",
     "text": [
      "[(1, 1), (2, 4), (5, 32), (6, 33), (7, 34), (8, 35), (9, 36), (10, 37), (11, 38), (12, 39), (13, 40)]\n"
     ]
    }
   ],
   "source": [
    "from netgen.webgui import Draw as DrawGeo\n",
    "import netgen.occ as occ\n",
    "import ngsolve as ng\n",
    "from netgen.meshing import IdentificationType\n",
    "import numpy as np\n",
    "import netgen as netg\n",
    "\n",
    "from netgen.webgui import Draw as DrawGeo\n",
    "from ngsolve.webgui import Draw as DrawMesh\n",
    "\n",
    "a = occ.Rectangle(1,1).Face()\n",
    "\n",
    "# a.Rotation(occ.Axis((0,0,0), occ.X), 90)\n",
    "\n",
    "a.edges.Max(occ.X).name = \"right\"\n",
    "a.edges.Min(occ.X).name = \"left\"\n",
    "a.edges.Max(occ.Y).name = \"top\"\n",
    "a.edges.Min(occ.Y).name = \"bot\"\n",
    "\n",
    "# rot2 = occ.MoveTo(1,0)\n",
    "rot = occ.Rotation(occ.Axis((0,0,0), occ.Z), 90)\n",
    "a.edges.Min(occ.Y).Identify(a.edges.Min(occ.X),\"per\",IdentificationType.PERIODIC,rot)\n",
    "\n",
    "\n",
    "# a.edges.Max(occ.Y).Identify(a.edges.Min(occ.Y), \"br\")\n",
    "# a.edges.Max(occ.X).Identify(a.edges.Min(occ.X), \"lr\")\n",
    "\n",
    "geo = occ.OCCGeometry(a,dim = 2)\n",
    "mesh = ng.Mesh(geo.GenerateMesh(maxh=0.1))\n",
    "\n",
    "plist = []\n",
    "for pair in mesh.ngmesh.GetIdentifications():\n",
    "    plist += list(mesh.vertices[pair[0]-1].point) + [0]\n",
    "    plist += list(mesh.vertices[pair[1]-1].point) + [0]\n",
    "    \n",
    "scene = DrawMesh(mesh, objects=[{\"type\" : \"lines\", \n",
    "                         \"position\" : plist, \n",
    "                         \"name\": \"identification\", \n",
    "                         \"color\": \"purple\"}]);\n",
    "scene.Redraw()\n",
    "# print(rot((0,0,1)))\n",
    "print(mesh.ngmesh.GetIdentifications())\n",
    "# dir(rot)\n",
    "\n",
    "# dir(occ)"
   ]
  },
  {
   "cell_type": "code",
   "execution_count": 77,
   "metadata": {},
   "outputs": [
    {
     "data": {
      "text/plain": [
       "'bot'"
      ]
     },
     "execution_count": 77,
     "metadata": {},
     "output_type": "execute_result"
    }
   ],
   "source": [
    "# a = mesh.ngmesh\n",
    "# a.Coordinates()\n",
    "# a.Elements1D().NumPy()\n",
    "\n",
    "a.edges.Min(occ.Y).name"
   ]
  },
  {
   "cell_type": "code",
   "execution_count": 47,
   "metadata": {},
   "outputs": [],
   "source": [
    "import sys\n",
    "sys.path.insert(0,'../../') # adds parent directory\n",
    "sys.path.insert(0,'../CEM') # adds parent directory\n",
    "import pde\n",
    "# mesh\n",
    "# MESH = pde.mesh.netgen(mesh.ngmesh)"
   ]
  },
  {
   "cell_type": "code",
   "execution_count": 90,
   "metadata": {},
   "outputs": [
    {
     "ename": "AttributeError",
     "evalue": "'list' object has no attribute 'Redraw'",
     "output_type": "error",
     "traceback": [
      "\u001b[0;31m---------------------------------------------------------------------------\u001b[0m",
      "\u001b[0;31mAttributeError\u001b[0m                            Traceback (most recent call last)",
      "Cell \u001b[0;32mIn[90], line 9\u001b[0m\n\u001b[1;32m      7\u001b[0m scene \u001b[39m=\u001b[39m []\n\u001b[1;32m      8\u001b[0m \u001b[39m# scene = DrawGeo (solid + solid3)\u001b[39;00m\n\u001b[0;32m----> 9\u001b[0m scene\u001b[39m.\u001b[39;49mRedraw()\n",
      "\u001b[0;31mAttributeError\u001b[0m: 'list' object has no attribute 'Redraw'"
     ]
    }
   ],
   "source": [
    "solid = occ.Box((0,0,0), (1,1,1))\n",
    "solid.faces[2].name = 'kek'\n",
    "# solid = occ.Move(1,0,0).Rotate( occ.Axis((0,0,5), occ.X), 0).Face()\n",
    "solid3 = solid.Rotate( occ.Axis((0,3,0), occ.X), 90)\n",
    "# solid5 = solid.Move((0,0,2)).Rotate( occ.Axis((1,0,0), occ.X), 90)\n",
    "# solid3 = solid.Rotate( occ.Axis((0,0,4), occ.X), 30)\n",
    "scene = []\n",
    "# scene = DrawGeo (solid + solid3)\n",
    "scene.Redraw()"
   ]
  },
  {
   "cell_type": "code",
   "execution_count": null,
   "metadata": {},
   "outputs": [],
   "source": []
  },
  {
   "cell_type": "code",
   "execution_count": null,
   "metadata": {},
   "outputs": [],
   "source": []
  }
 ],
 "metadata": {
  "kernelspec": {
   "display_name": "base",
   "language": "python",
   "name": "python3"
  },
  "language_info": {
   "codemirror_mode": {
    "name": "ipython",
    "version": 3
   },
   "file_extension": ".py",
   "mimetype": "text/x-python",
   "name": "python",
   "nbconvert_exporter": "python",
   "pygments_lexer": "ipython3",
   "version": "3.10.8"
  },
  "orig_nbformat": 4
 },
 "nbformat": 4,
 "nbformat_minor": 2
}
