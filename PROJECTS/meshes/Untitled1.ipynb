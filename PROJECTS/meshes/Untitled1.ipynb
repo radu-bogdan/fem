{
 "cells": [
  {
   "cell_type": "code",
   "execution_count": 1,
   "id": "3a338c5c",
   "metadata": {
    "scrolled": true
   },
   "outputs": [
    {
     "data": {
      "application/vnd.jupyter.widget-view+json": {
       "model_id": "0a388530ef7c4110927f4b0d53f6dd14",
       "version_major": 2,
       "version_minor": 0
      },
      "text/plain": [
       "WebGuiWidget(layout=Layout(height='500px', width='100%'), value={'ngsolve_version': 'Netgen x.x', 'mesh_dim': …"
      ]
     },
     "metadata": {},
     "output_type": "display_data"
    },
    {
     "data": {
      "text/plain": [
       "BaseWebGuiScene"
      ]
     },
     "execution_count": 1,
     "metadata": {},
     "output_type": "execute_result"
    }
   ],
   "source": [
    "import ngsolve as ng\n",
    "import netgen.occ as occ\n",
    "import math\n",
    "import time\n",
    "from ngsolve.internal import visoptions\n",
    "from ngsolve.internal import viewoptions\n",
    "from netgen.meshing import IdentificationType\n",
    "\n",
    "origin = (0,0,0)\n",
    "T = 1\n",
    "desiredRad = 0.1\n",
    "rotationAngle = 0\n",
    "\n",
    "face1 = occ.WorkPlane().Circle(0.25,0.25,desiredRad).Face()\n",
    "spine = occ.Segment(origin, (0,0,T))\n",
    "cyl = occ.Cylinder(origin, occ.Z, r=0.5*desiredRad, h=T).faces[0]\n",
    "heli = occ.Edge(occ.Segment((0,0), (rotationAngle, T)), cyl)\n",
    "pipe1 = occ.Pipe(spine, face1, auxspine=heli).mat(\"pipe1\")\n",
    "pipe1.faces.name=\"pipe_outer\"\n",
    "pipe1.faces.Min(occ.Z).name =\"bottom\"\n",
    "\n",
    "rot = occ.Rotation(occ.Axis((0,0,0), occ.Z), 180)\n",
    "trans = occ.Translation(T*occ.Z)\n",
    "pipe1.faces.Min(occ.Z).Identify(pipe1.faces.Max(occ.Z), \"periodic\", IdentificationType.PERIODIC, rot*trans)\n",
    "\n",
    "geoOCC = occ.OCCGeometry(pipe1)\n",
    "mesh = ng.Mesh(geoOCC.GenerateMesh(maxh=0.1))\n",
    "mesh.Curve(3)\n",
    "\n",
    "\n",
    "from netgen.webgui import Draw as DrawGeo\n",
    "DrawGeo(pipe1)"
   ]
  },
  {
   "cell_type": "code",
   "execution_count": 2,
   "id": "130cc86a",
   "metadata": {},
   "outputs": [
    {
     "data": {
      "application/vnd.jupyter.widget-view+json": {
       "model_id": "e0e87f6d20fd40c7bacafe38221a7d44",
       "version_major": 2,
       "version_minor": 0
      },
      "text/plain": [
       "WebGuiWidget(layout=Layout(height='500px', width='100%'), value={'gui_settings': {}, 'ngsolve_version': '6.2.2…"
      ]
     },
     "metadata": {},
     "output_type": "display_data"
    }
   ],
   "source": [
    "from ngsolve.webgui import Draw as DrawMesh\n",
    "\n",
    "plist = []\n",
    "for pair in mesh.ngmesh.GetIdentifications():\n",
    "    # print('im here')\n",
    "    plist += list(mesh.vertices[pair[0]-1].point)\n",
    "    plist += list(mesh.vertices[pair[1]-1].point)\n",
    "DrawMesh(mesh, objects=[{\"type\" : \"lines\", \"position\" : plist, \"name\": \"identification\", \"color\": \"red\"}]);"
   ]
  },
  {
   "cell_type": "code",
   "execution_count": 6,
   "id": "e9b62e93",
   "metadata": {},
   "outputs": [
    {
     "data": {
      "text/plain": [
       "[]"
      ]
     },
     "execution_count": 6,
     "metadata": {},
     "output_type": "execute_result"
    }
   ],
   "source": [
    "mesh.ngmesh.GetIdentifications()"
   ]
  },
  {
   "cell_type": "code",
   "execution_count": 7,
   "id": "24214afe",
   "metadata": {},
   "outputs": [
    {
     "data": {
      "text/plain": [
       "'pipe_outer'"
      ]
     },
     "execution_count": 7,
     "metadata": {},
     "output_type": "execute_result"
    }
   ],
   "source": [
    "pipe1.faces.Min(occ.X).name"
   ]
  },
  {
   "cell_type": "code",
   "execution_count": 8,
   "id": "d271bd1b",
   "metadata": {},
   "outputs": [
    {
     "data": {
      "text/plain": [
       "0"
      ]
     },
     "execution_count": 8,
     "metadata": {},
     "output_type": "execute_result"
    }
   ],
   "source": [
    "mesh.ngmesh.GetNrIdentifications()"
   ]
  },
  {
   "cell_type": "code",
   "execution_count": null,
   "id": "cce665ab",
   "metadata": {},
   "outputs": [],
   "source": []
  },
  {
   "cell_type": "code",
   "execution_count": null,
   "id": "d386d405",
   "metadata": {},
   "outputs": [],
   "source": []
  }
 ],
 "metadata": {
  "kernelspec": {
   "display_name": "Python 3 (ipykernel)",
   "language": "python",
   "name": "python3"
  },
  "language_info": {
   "codemirror_mode": {
    "name": "ipython",
    "version": 3
   },
   "file_extension": ".py",
   "mimetype": "text/x-python",
   "name": "python",
   "nbconvert_exporter": "python",
   "pygments_lexer": "ipython3",
   "version": "3.10.8"
  }
 },
 "nbformat": 4,
 "nbformat_minor": 5
}
